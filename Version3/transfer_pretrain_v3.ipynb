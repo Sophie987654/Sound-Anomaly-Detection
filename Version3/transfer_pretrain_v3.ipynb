{
 "cells": [
  {
   "cell_type": "code",
   "execution_count": 1,
   "id": "5136a332-cdae-4856-a8fa-d39f2aa0c5b1",
   "metadata": {
    "tags": []
   },
   "outputs": [
    {
     "name": "stderr",
     "output_type": "stream",
     "text": [
      "2023-08-26 01:03:10,957 - INFO - target_dir : ../Sample_data\n",
      "2023-08-26 01:03:10,960 - INFO - train_file num : 5\n",
      "2023-08-26 01:03:10,961 - INFO - eval_file  num : 10\n"
     ]
    },
    {
     "name": "stdout",
     "output_type": "stream",
     "text": [
      "\n",
      "===========================\n"
     ]
    },
    {
     "name": "stderr",
     "output_type": "stream",
     "text": [
      "generate train_dataset: 100%|████████████████████████████████████████████████████████████| 5/5 [00:02<00:00,  1.88it/s]\n",
      "2023-08-26 01:03:13,625 - INFO - save_pickle -> ./pickle_transfer_pretrain_v3/train_fan_id_00.pickle\n",
      "2023-08-26 01:03:13,630 - INFO - save_pickle -> ./pickle_transfer_pretrain_v3/eval_files_fan_id_00.pickle\n",
      "2023-08-26 01:03:13,631 - INFO - save_pickle -> ./pickle_transfer_pretrain_v3/eval_labels_fan_id_00.pickle\n"
     ]
    },
    {
     "name": "stdout",
     "output_type": "stream",
     "text": [
      "\n",
      "Training transfer model for fan -> id_00 using pretrain model pretrain_('valve', 'slider')\n",
      "Epoch 1/50\n",
      "3/3 [==============================] - 1s 76ms/step - loss: 16.1274 - val_loss: 16.2651\n",
      "Epoch 2/50\n",
      "3/3 [==============================] - 0s 16ms/step - loss: 14.8514 - val_loss: 16.5993\n",
      "Epoch 3/50\n",
      "3/3 [==============================] - 0s 15ms/step - loss: 12.2300 - val_loss: 16.9906\n",
      "Epoch 4/50\n",
      "3/3 [==============================] - 0s 14ms/step - loss: 12.9013 - val_loss: 16.5005\n",
      "Epoch 5/50\n",
      "3/3 [==============================] - 0s 14ms/step - loss: 11.6827 - val_loss: 17.8591\n",
      "Epoch 6/50\n",
      "3/3 [==============================] - 0s 15ms/step - loss: 12.0096 - val_loss: 15.2827\n",
      "Epoch 7/50\n",
      "3/3 [==============================] - 0s 14ms/step - loss: 11.2681 - val_loss: 14.3264\n",
      "Epoch 8/50\n",
      "3/3 [==============================] - 0s 16ms/step - loss: 11.3318 - val_loss: 15.1674\n",
      "Epoch 9/50\n",
      "3/3 [==============================] - 0s 13ms/step - loss: 10.9472 - val_loss: 15.7626\n",
      "Epoch 10/50\n",
      "3/3 [==============================] - 0s 15ms/step - loss: 10.8510 - val_loss: 14.5118\n",
      "Epoch 11/50\n",
      "3/3 [==============================] - 0s 14ms/step - loss: 10.7089 - val_loss: 14.3365\n",
      "Epoch 12/50\n",
      "3/3 [==============================] - 0s 13ms/step - loss: 10.5361 - val_loss: 14.4927\n",
      "Epoch 13/50\n",
      "3/3 [==============================] - 0s 13ms/step - loss: 10.5118 - val_loss: 14.2198\n",
      "Epoch 14/50\n",
      "3/3 [==============================] - 0s 13ms/step - loss: 10.3840 - val_loss: 14.1764\n",
      "Epoch 15/50\n",
      "3/3 [==============================] - 0s 14ms/step - loss: 10.3098 - val_loss: 14.2262\n",
      "Epoch 16/50\n",
      "3/3 [==============================] - 0s 14ms/step - loss: 10.2686 - val_loss: 14.2059\n",
      "Epoch 17/50\n",
      "3/3 [==============================] - 0s 14ms/step - loss: 10.2033 - val_loss: 14.2666\n",
      "Epoch 18/50\n",
      "3/3 [==============================] - 0s 14ms/step - loss: 10.1459 - val_loss: 14.2092\n",
      "Epoch 19/50\n",
      "3/3 [==============================] - 0s 15ms/step - loss: 10.1104 - val_loss: 14.1316\n",
      "Epoch 20/50\n",
      "3/3 [==============================] - 0s 14ms/step - loss: 10.0701 - val_loss: 14.1524\n",
      "Epoch 21/50\n",
      "3/3 [==============================] - 0s 15ms/step - loss: 10.0331 - val_loss: 14.2382\n",
      "Epoch 22/50\n",
      "3/3 [==============================] - 0s 14ms/step - loss: 10.0025 - val_loss: 14.1357\n",
      "Epoch 23/50\n",
      "3/3 [==============================] - 0s 14ms/step - loss: 9.9727 - val_loss: 14.1250\n",
      "Epoch 24/50\n",
      "3/3 [==============================] - 0s 14ms/step - loss: 9.9443 - val_loss: 14.2718\n",
      "Epoch 25/50\n",
      "3/3 [==============================] - 0s 14ms/step - loss: 9.9206 - val_loss: 14.1633\n",
      "Epoch 26/50\n",
      "3/3 [==============================] - 0s 14ms/step - loss: 9.9003 - val_loss: 13.9691\n",
      "Epoch 27/50\n",
      "3/3 [==============================] - 0s 15ms/step - loss: 9.8751 - val_loss: 14.2325\n",
      "Epoch 28/50\n",
      "3/3 [==============================] - 0s 14ms/step - loss: 9.8568 - val_loss: 14.4288\n",
      "Epoch 29/50\n",
      "3/3 [==============================] - 0s 14ms/step - loss: 9.8382 - val_loss: 14.1034\n",
      "Epoch 30/50\n",
      "3/3 [==============================] - 0s 23ms/step - loss: 9.8175 - val_loss: 14.0599\n",
      "Epoch 31/50\n",
      "3/3 [==============================] - 0s 13ms/step - loss: 9.7974 - val_loss: 14.2123\n",
      "Epoch 32/50\n",
      "3/3 [==============================] - 0s 14ms/step - loss: 9.7855 - val_loss: 14.2522\n",
      "Epoch 33/50\n",
      "3/3 [==============================] - 0s 14ms/step - loss: 9.7626 - val_loss: 14.2434\n",
      "Epoch 34/50\n",
      "3/3 [==============================] - 0s 13ms/step - loss: 9.7448 - val_loss: 14.3096\n",
      "Epoch 35/50\n",
      "3/3 [==============================] - 0s 13ms/step - loss: 9.7254 - val_loss: 14.3175\n",
      "Epoch 36/50\n",
      "3/3 [==============================] - 0s 14ms/step - loss: 9.7091 - val_loss: 14.3435\n",
      "Epoch 37/50\n",
      "3/3 [==============================] - 0s 14ms/step - loss: 9.6900 - val_loss: 14.3543\n",
      "Epoch 38/50\n",
      "3/3 [==============================] - 0s 13ms/step - loss: 9.6736 - val_loss: 14.2870\n",
      "Epoch 39/50\n",
      "3/3 [==============================] - 0s 15ms/step - loss: 9.6577 - val_loss: 14.2308\n",
      "Epoch 40/50\n",
      "3/3 [==============================] - 0s 14ms/step - loss: 9.6343 - val_loss: 14.2259\n",
      "Epoch 41/50\n",
      "3/3 [==============================] - 0s 15ms/step - loss: 9.6199 - val_loss: 14.3670\n",
      "Epoch 42/50\n",
      "3/3 [==============================] - 0s 15ms/step - loss: 9.6019 - val_loss: 14.4936\n",
      "Epoch 43/50\n",
      "3/3 [==============================] - 0s 15ms/step - loss: 9.5840 - val_loss: 14.3362\n",
      "Epoch 44/50\n",
      "3/3 [==============================] - 0s 14ms/step - loss: 9.5643 - val_loss: 14.2541\n",
      "Epoch 45/50\n",
      "3/3 [==============================] - 0s 15ms/step - loss: 9.5441 - val_loss: 14.3989\n",
      "Epoch 46/50\n",
      "3/3 [==============================] - 0s 15ms/step - loss: 9.5261 - val_loss: 14.3466\n",
      "Epoch 47/50\n",
      "3/3 [==============================] - 0s 14ms/step - loss: 9.5072 - val_loss: 14.4654\n",
      "Epoch 48/50\n",
      "3/3 [==============================] - 0s 14ms/step - loss: 9.4884 - val_loss: 14.3049\n",
      "Epoch 49/50\n",
      "3/3 [==============================] - 0s 15ms/step - loss: 9.4709 - val_loss: 14.3650\n",
      "Epoch 50/50\n",
      "3/3 [==============================] - 0s 15ms/step - loss: 9.4588 - val_loss: 14.4063\n",
      "============== EVALUATION =============="
     ]
    },
    {
     "name": "stderr",
     "output_type": "stream",
     "text": [
      "C:\\Users\\Baejs\\anaconda3\\envs\\bae\\lib\\site-packages\\keras\\src\\engine\\training.py:3000: UserWarning: You are saving your model as an HDF5 file via `model.save()`. This file format is considered legacy. We recommend using instead the native Keras format, e.g. `model.save('my_model.keras')`.\n",
      "  saving_api.save_model(\n"
     ]
    },
    {
     "name": "stdout",
     "output_type": "stream",
     "text": [
      "\n"
     ]
    },
    {
     "name": "stderr",
     "output_type": "stream",
     "text": [
      "  0%|                                                                                           | 0/10 [00:00<?, ?it/s]"
     ]
    },
    {
     "name": "stdout",
     "output_type": "stream",
     "text": [
      "10/10 [==============================] - 0s 1ms/step\n"
     ]
    },
    {
     "name": "stderr",
     "output_type": "stream",
     "text": [
      " 10%|████████▎                                                                          | 1/10 [00:00<00:01,  6.43it/s]"
     ]
    },
    {
     "name": "stdout",
     "output_type": "stream",
     "text": [
      "10/10 [==============================] - 0s 998us/step\n",
      "10/10 [==============================] - 0s 1ms/step\n"
     ]
    },
    {
     "name": "stderr",
     "output_type": "stream",
     "text": [
      " 30%|████████████████████████▉                                                          | 3/10 [00:00<00:00, 10.72it/s]"
     ]
    },
    {
     "name": "stdout",
     "output_type": "stream",
     "text": [
      "10/10 [==============================] - 0s 1ms/step\n",
      "10/10 [==============================] - 0s 1ms/step\n"
     ]
    },
    {
     "name": "stderr",
     "output_type": "stream",
     "text": [
      " 50%|█████████████████████████████████████████▌                                         | 5/10 [00:00<00:00, 12.10it/s]"
     ]
    },
    {
     "name": "stdout",
     "output_type": "stream",
     "text": [
      "10/10 [==============================] - 0s 1ms/step\n",
      "10/10 [==============================] - 0s 1ms/step\n"
     ]
    },
    {
     "name": "stderr",
     "output_type": "stream",
     "text": [
      " 70%|██████████████████████████████████████████████████████████                         | 7/10 [00:00<00:00, 12.54it/s]"
     ]
    },
    {
     "name": "stdout",
     "output_type": "stream",
     "text": [
      "10/10 [==============================] - 0s 1ms/step\n",
      "10/10 [==============================] - 0s 1ms/step\n"
     ]
    },
    {
     "name": "stderr",
     "output_type": "stream",
     "text": [
      " 90%|██████████████████████████████████████████████████████████████████████████▋        | 9/10 [00:00<00:00, 12.78it/s]"
     ]
    },
    {
     "name": "stdout",
     "output_type": "stream",
     "text": [
      "10/10 [==============================] - 0s 887us/step\n"
     ]
    },
    {
     "name": "stderr",
     "output_type": "stream",
     "text": [
      "100%|██████████████████████████████████████████████████████████████████████████████████| 10/10 [00:00<00:00, 12.20it/s]\n",
      "2023-08-26 01:03:17,394 - INFO - AUC : 0.84\n"
     ]
    },
    {
     "name": "stdout",
     "output_type": "stream",
     "text": [
      "===========================\n",
      "\n",
      "Training transfer model for fan -> id_00 using pretrain model pretrain_('valve', 'pump')\n",
      "Epoch 1/50\n",
      "3/3 [==============================] - 1s 59ms/step - loss: 17.4406 - val_loss: 24.1441\n",
      "Epoch 2/50\n",
      "3/3 [==============================] - 0s 15ms/step - loss: 17.4678 - val_loss: 16.1358\n",
      "Epoch 3/50\n",
      "3/3 [==============================] - 0s 15ms/step - loss: 12.5705 - val_loss: 18.1297\n",
      "Epoch 4/50\n",
      "3/3 [==============================] - 0s 13ms/step - loss: 11.3695 - val_loss: 15.9732\n",
      "Epoch 5/50\n",
      "3/3 [==============================] - 0s 14ms/step - loss: 10.1212 - val_loss: 14.2019\n",
      "Epoch 6/50\n",
      "3/3 [==============================] - 0s 13ms/step - loss: 9.8021 - val_loss: 14.0467\n",
      "Epoch 7/50\n",
      "3/3 [==============================] - 0s 13ms/step - loss: 9.3336 - val_loss: 13.9574\n",
      "Epoch 8/50\n",
      "3/3 [==============================] - 0s 13ms/step - loss: 8.7168 - val_loss: 14.1914\n",
      "Epoch 9/50\n",
      "3/3 [==============================] - 0s 13ms/step - loss: 8.4745 - val_loss: 12.9108\n",
      "Epoch 10/50\n",
      "3/3 [==============================] - 0s 14ms/step - loss: 8.3874 - val_loss: 12.8334\n",
      "Epoch 11/50\n",
      "3/3 [==============================] - 0s 13ms/step - loss: 8.0092 - val_loss: 12.9425\n",
      "Epoch 12/50\n",
      "3/3 [==============================] - 0s 13ms/step - loss: 8.0108 - val_loss: 12.8472\n",
      "Epoch 13/50\n",
      "3/3 [==============================] - 0s 13ms/step - loss: 7.7525 - val_loss: 12.0071\n",
      "Epoch 14/50\n",
      "3/3 [==============================] - 0s 15ms/step - loss: 7.7870 - val_loss: 11.8573\n",
      "Epoch 15/50\n",
      "3/3 [==============================] - 0s 14ms/step - loss: 7.5870 - val_loss: 12.2187\n",
      "Epoch 16/50\n",
      "3/3 [==============================] - 0s 14ms/step - loss: 7.5691 - val_loss: 11.4107\n",
      "Epoch 17/50\n",
      "3/3 [==============================] - 0s 14ms/step - loss: 7.4584 - val_loss: 11.1307\n",
      "Epoch 18/50\n",
      "3/3 [==============================] - 0s 13ms/step - loss: 7.3959 - val_loss: 11.2379\n",
      "Epoch 19/50\n",
      "3/3 [==============================] - 0s 14ms/step - loss: 7.3342 - val_loss: 10.9570\n",
      "Epoch 20/50\n",
      "3/3 [==============================] - 0s 14ms/step - loss: 7.2555 - val_loss: 10.5839\n",
      "Epoch 21/50\n",
      "3/3 [==============================] - 0s 13ms/step - loss: 7.2104 - val_loss: 10.4887\n",
      "Epoch 22/50\n",
      "3/3 [==============================] - 0s 13ms/step - loss: 7.1498 - val_loss: 10.2465\n",
      "Epoch 23/50\n",
      "3/3 [==============================] - 0s 13ms/step - loss: 7.0962 - val_loss: 9.8111\n",
      "Epoch 24/50\n",
      "3/3 [==============================] - 0s 14ms/step - loss: 7.0427 - val_loss: 9.8017\n",
      "Epoch 25/50\n",
      "3/3 [==============================] - 0s 14ms/step - loss: 6.9915 - val_loss: 9.5500\n",
      "Epoch 26/50\n",
      "3/3 [==============================] - 0s 15ms/step - loss: 6.9385 - val_loss: 9.2265\n",
      "Epoch 27/50\n",
      "3/3 [==============================] - 0s 14ms/step - loss: 6.8940 - val_loss: 9.0425\n",
      "Epoch 28/50\n",
      "3/3 [==============================] - 0s 15ms/step - loss: 6.8447 - val_loss: 8.7019\n",
      "Epoch 29/50\n",
      "3/3 [==============================] - 0s 14ms/step - loss: 6.8003 - val_loss: 8.5942\n",
      "Epoch 30/50\n",
      "3/3 [==============================] - 0s 15ms/step - loss: 6.7574 - val_loss: 8.3972\n",
      "Epoch 31/50\n",
      "3/3 [==============================] - 0s 14ms/step - loss: 6.7180 - val_loss: 8.2399\n",
      "Epoch 32/50\n",
      "3/3 [==============================] - 0s 22ms/step - loss: 6.6794 - val_loss: 8.0512\n",
      "Epoch 33/50\n",
      "3/3 [==============================] - 0s 13ms/step - loss: 6.6419 - val_loss: 7.8632\n",
      "Epoch 34/50\n",
      "3/3 [==============================] - 0s 13ms/step - loss: 6.6091 - val_loss: 7.7129\n",
      "Epoch 35/50\n",
      "3/3 [==============================] - 0s 14ms/step - loss: 6.5761 - val_loss: 7.5848\n",
      "Epoch 36/50\n",
      "3/3 [==============================] - 0s 14ms/step - loss: 6.5471 - val_loss: 7.4559\n",
      "Epoch 37/50\n",
      "3/3 [==============================] - 0s 13ms/step - loss: 6.5196 - val_loss: 7.3282\n",
      "Epoch 38/50\n",
      "3/3 [==============================] - 0s 14ms/step - loss: 6.4958 - val_loss: 7.2925\n",
      "Epoch 39/50\n",
      "3/3 [==============================] - 0s 14ms/step - loss: 6.4736 - val_loss: 7.1310\n",
      "Epoch 40/50\n",
      "3/3 [==============================] - 0s 13ms/step - loss: 6.4516 - val_loss: 7.1167\n",
      "Epoch 41/50\n",
      "3/3 [==============================] - 0s 14ms/step - loss: 6.4307 - val_loss: 6.8962\n",
      "Epoch 42/50\n",
      "3/3 [==============================] - 0s 13ms/step - loss: 6.4107 - val_loss: 6.9302\n",
      "Epoch 43/50\n",
      "3/3 [==============================] - 0s 14ms/step - loss: 6.3902 - val_loss: 6.7801\n",
      "Epoch 44/50\n",
      "3/3 [==============================] - 0s 14ms/step - loss: 6.3732 - val_loss: 6.7947\n",
      "Epoch 45/50\n",
      "3/3 [==============================] - 0s 14ms/step - loss: 6.3541 - val_loss: 6.6641\n",
      "Epoch 46/50\n",
      "3/3 [==============================] - 0s 14ms/step - loss: 6.3377 - val_loss: 6.6433\n",
      "Epoch 47/50\n",
      "3/3 [==============================] - 0s 14ms/step - loss: 6.3217 - val_loss: 6.5188\n",
      "Epoch 48/50\n",
      "3/3 [==============================] - 0s 13ms/step - loss: 6.3091 - val_loss: 6.5229\n",
      "Epoch 49/50\n",
      "3/3 [==============================] - 0s 13ms/step - loss: 6.2934 - val_loss: 6.4666\n",
      "Epoch 50/50\n",
      "3/3 [==============================] - 0s 13ms/step - loss: 6.2773 - val_loss: 6.4304\n",
      "============== EVALUATION ==============\n"
     ]
    },
    {
     "name": "stderr",
     "output_type": "stream",
     "text": [
      "C:\\Users\\Baejs\\anaconda3\\envs\\bae\\lib\\site-packages\\keras\\src\\engine\\training.py:3000: UserWarning: You are saving your model as an HDF5 file via `model.save()`. This file format is considered legacy. We recommend using instead the native Keras format, e.g. `model.save('my_model.keras')`.\n",
      "  saving_api.save_model(\n",
      "  0%|                                                                                           | 0/10 [00:00<?, ?it/s]"
     ]
    },
    {
     "name": "stdout",
     "output_type": "stream",
     "text": [
      "10/10 [==============================] - 0s 1ms/step\n"
     ]
    },
    {
     "name": "stderr",
     "output_type": "stream",
     "text": [
      " 10%|████████▎                                                                          | 1/10 [00:00<00:01,  8.58it/s]"
     ]
    },
    {
     "name": "stdout",
     "output_type": "stream",
     "text": [
      "10/10 [==============================] - 0s 1ms/step\n",
      "10/10 [==============================] - 0s 1ms/step\n"
     ]
    },
    {
     "name": "stderr",
     "output_type": "stream",
     "text": [
      " 30%|████████████████████████▉                                                          | 3/10 [00:00<00:00, 11.57it/s]"
     ]
    },
    {
     "name": "stdout",
     "output_type": "stream",
     "text": [
      "10/10 [==============================] - 0s 1ms/step\n",
      "10/10 [==============================] - 0s 1ms/step\n"
     ]
    },
    {
     "name": "stderr",
     "output_type": "stream",
     "text": [
      " 50%|█████████████████████████████████████████▌                                         | 5/10 [00:00<00:00, 12.29it/s]"
     ]
    },
    {
     "name": "stdout",
     "output_type": "stream",
     "text": [
      "10/10 [==============================] - 0s 1ms/step\n",
      "10/10 [==============================] - 0s 1ms/step\n"
     ]
    },
    {
     "name": "stderr",
     "output_type": "stream",
     "text": [
      " 70%|██████████████████████████████████████████████████████████                         | 7/10 [00:00<00:00, 12.90it/s]"
     ]
    },
    {
     "name": "stdout",
     "output_type": "stream",
     "text": [
      "10/10 [==============================] - 0s 1ms/step\n",
      "10/10 [==============================] - 0s 1ms/step\n"
     ]
    },
    {
     "name": "stderr",
     "output_type": "stream",
     "text": [
      " 90%|██████████████████████████████████████████████████████████████████████████▋        | 9/10 [00:00<00:00, 13.16it/s]"
     ]
    },
    {
     "name": "stdout",
     "output_type": "stream",
     "text": [
      "10/10 [==============================] - 0s 1ms/step\n"
     ]
    },
    {
     "name": "stderr",
     "output_type": "stream",
     "text": [
      "100%|██████████████████████████████████████████████████████████████████████████████████| 10/10 [00:00<00:00, 12.72it/s]\n",
      "2023-08-26 01:03:20,870 - INFO - AUC : 0.72\n"
     ]
    },
    {
     "name": "stdout",
     "output_type": "stream",
     "text": [
      "===========================\n",
      "Model file not found for fan -> id_00. Skipping...\n",
      "\n",
      "Training transfer model for fan -> id_00 using pretrain model pretrain_('slider', 'pump')\n",
      "Epoch 1/50\n",
      "3/3 [==============================] - 1s 59ms/step - loss: 15.9339 - val_loss: 19.8625\n",
      "Epoch 2/50\n",
      "3/3 [==============================] - 0s 15ms/step - loss: 14.8014 - val_loss: 17.9781\n",
      "Epoch 3/50\n",
      "3/3 [==============================] - 0s 25ms/step - loss: 13.0347 - val_loss: 18.5788\n",
      "Epoch 4/50\n",
      "3/3 [==============================] - 0s 13ms/step - loss: 12.2462 - val_loss: 18.1065\n",
      "Epoch 5/50\n",
      "3/3 [==============================] - 0s 13ms/step - loss: 12.4138 - val_loss: 16.0188\n",
      "Epoch 6/50\n",
      "3/3 [==============================] - 0s 13ms/step - loss: 11.4999 - val_loss: 15.4896\n",
      "Epoch 7/50\n",
      "3/3 [==============================] - 0s 14ms/step - loss: 11.6441 - val_loss: 15.8854\n",
      "Epoch 8/50\n",
      "3/3 [==============================] - 0s 13ms/step - loss: 11.3211 - val_loss: 16.5847\n",
      "Epoch 9/50\n",
      "3/3 [==============================] - 0s 13ms/step - loss: 11.0845 - val_loss: 16.0676\n",
      "Epoch 10/50\n",
      "3/3 [==============================] - 0s 13ms/step - loss: 11.0817 - val_loss: 16.0386\n",
      "Epoch 11/50\n",
      "3/3 [==============================] - 0s 14ms/step - loss: 10.8687 - val_loss: 15.6649\n",
      "Epoch 12/50\n",
      "3/3 [==============================] - 0s 13ms/step - loss: 10.7481 - val_loss: 15.0403\n",
      "Epoch 13/50\n",
      "3/3 [==============================] - 0s 13ms/step - loss: 10.7030 - val_loss: 15.5648\n",
      "Epoch 14/50\n",
      "3/3 [==============================] - 0s 14ms/step - loss: 10.6001 - val_loss: 15.4903\n",
      "Epoch 15/50\n",
      "3/3 [==============================] - 0s 14ms/step - loss: 10.5273 - val_loss: 15.3493\n",
      "Epoch 16/50\n",
      "3/3 [==============================] - 0s 15ms/step - loss: 10.4632 - val_loss: 15.7278\n",
      "Epoch 17/50\n",
      "3/3 [==============================] - 0s 14ms/step - loss: 10.3906 - val_loss: 15.6920\n",
      "Epoch 18/50\n",
      "3/3 [==============================] - 0s 14ms/step - loss: 10.3499 - val_loss: 15.3680\n",
      "Epoch 19/50\n",
      "3/3 [==============================] - 0s 14ms/step - loss: 10.3099 - val_loss: 15.2626\n",
      "Epoch 20/50\n",
      "3/3 [==============================] - 0s 14ms/step - loss: 10.2664 - val_loss: 15.3337\n",
      "Epoch 21/50\n",
      "3/3 [==============================] - 0s 14ms/step - loss: 10.2160 - val_loss: 15.4852\n",
      "Epoch 22/50\n",
      "3/3 [==============================] - 0s 14ms/step - loss: 10.1801 - val_loss: 15.4005\n",
      "Epoch 23/50\n",
      "3/3 [==============================] - 0s 13ms/step - loss: 10.1535 - val_loss: 15.4798\n",
      "Epoch 24/50\n",
      "3/3 [==============================] - 0s 14ms/step - loss: 10.1232 - val_loss: 15.2615\n",
      "Epoch 25/50\n",
      "3/3 [==============================] - 0s 14ms/step - loss: 10.0951 - val_loss: 15.3760\n",
      "Epoch 26/50\n",
      "3/3 [==============================] - 0s 13ms/step - loss: 10.0692 - val_loss: 15.4334\n",
      "Epoch 27/50\n",
      "3/3 [==============================] - 0s 13ms/step - loss: 10.0478 - val_loss: 15.3613\n",
      "Epoch 28/50\n",
      "3/3 [==============================] - 0s 15ms/step - loss: 10.0244 - val_loss: 15.5212\n",
      "Epoch 29/50\n",
      "3/3 [==============================] - 0s 14ms/step - loss: 10.0019 - val_loss: 15.3247\n",
      "Epoch 30/50\n",
      "3/3 [==============================] - 0s 14ms/step - loss: 9.9834 - val_loss: 15.3366\n",
      "Epoch 31/50\n",
      "3/3 [==============================] - 0s 14ms/step - loss: 9.9595 - val_loss: 15.3749\n",
      "Epoch 32/50\n",
      "3/3 [==============================] - 0s 15ms/step - loss: 9.9408 - val_loss: 15.4196\n",
      "Epoch 33/50\n",
      "3/3 [==============================] - 0s 14ms/step - loss: 9.9202 - val_loss: 15.4931\n",
      "Epoch 34/50\n",
      "3/3 [==============================] - 0s 14ms/step - loss: 9.9013 - val_loss: 15.4968\n",
      "Epoch 35/50\n",
      "3/3 [==============================] - 0s 13ms/step - loss: 9.8804 - val_loss: 15.4289\n",
      "Epoch 36/50\n",
      "3/3 [==============================] - 0s 25ms/step - loss: 9.8670 - val_loss: 15.3545\n",
      "Epoch 37/50\n",
      "3/3 [==============================] - 0s 13ms/step - loss: 9.8493 - val_loss: 15.4175\n",
      "Epoch 38/50\n",
      "3/3 [==============================] - 0s 13ms/step - loss: 9.8294 - val_loss: 15.6182\n",
      "Epoch 39/50\n",
      "3/3 [==============================] - 0s 13ms/step - loss: 9.8125 - val_loss: 15.3159\n",
      "Epoch 40/50\n",
      "3/3 [==============================] - 0s 13ms/step - loss: 9.7992 - val_loss: 15.3934\n",
      "Epoch 41/50\n",
      "3/3 [==============================] - 0s 14ms/step - loss: 9.7767 - val_loss: 15.4555\n",
      "Epoch 42/50\n",
      "3/3 [==============================] - 0s 16ms/step - loss: 9.7526 - val_loss: 15.2908\n",
      "Epoch 43/50\n",
      "3/3 [==============================] - 0s 14ms/step - loss: 9.7314 - val_loss: 15.3488\n",
      "Epoch 44/50\n",
      "3/3 [==============================] - 0s 14ms/step - loss: 9.7109 - val_loss: 15.2185\n",
      "Epoch 45/50\n",
      "3/3 [==============================] - 0s 14ms/step - loss: 9.6923 - val_loss: 15.5207\n",
      "Epoch 46/50\n",
      "3/3 [==============================] - 0s 16ms/step - loss: 9.6731 - val_loss: 15.3583\n",
      "Epoch 47/50\n",
      "3/3 [==============================] - 0s 16ms/step - loss: 9.6592 - val_loss: 15.3000\n",
      "Epoch 48/50\n",
      "3/3 [==============================] - 0s 13ms/step - loss: 9.6366 - val_loss: 15.4345\n",
      "Epoch 49/50\n",
      "3/3 [==============================] - 0s 14ms/step - loss: 9.6217 - val_loss: 15.2906\n",
      "Epoch 50/50\n",
      "3/3 [==============================] - 0s 13ms/step - loss: 9.6019 - val_loss: 15.3974\n",
      "============== EVALUATION ==============\n"
     ]
    },
    {
     "name": "stderr",
     "output_type": "stream",
     "text": [
      "C:\\Users\\Baejs\\anaconda3\\envs\\bae\\lib\\site-packages\\keras\\src\\engine\\training.py:3000: UserWarning: You are saving your model as an HDF5 file via `model.save()`. This file format is considered legacy. We recommend using instead the native Keras format, e.g. `model.save('my_model.keras')`.\n",
      "  saving_api.save_model(\n",
      "  0%|                                                                                           | 0/10 [00:00<?, ?it/s]"
     ]
    },
    {
     "name": "stdout",
     "output_type": "stream",
     "text": [
      "10/10 [==============================] - 0s 1ms/step\n"
     ]
    },
    {
     "name": "stderr",
     "output_type": "stream",
     "text": [
      " 10%|████████▎                                                                          | 1/10 [00:00<00:01,  8.81it/s]"
     ]
    },
    {
     "name": "stdout",
     "output_type": "stream",
     "text": [
      "10/10 [==============================] - 0s 1ms/step\n",
      "10/10 [==============================] - 0s 1ms/step\n"
     ]
    },
    {
     "name": "stderr",
     "output_type": "stream",
     "text": [
      " 30%|████████████████████████▉                                                          | 3/10 [00:00<00:00, 12.10it/s]"
     ]
    },
    {
     "name": "stdout",
     "output_type": "stream",
     "text": [
      "10/10 [==============================] - 0s 1ms/step\n",
      "10/10 [==============================] - 0s 1ms/step\n"
     ]
    },
    {
     "name": "stderr",
     "output_type": "stream",
     "text": [
      " 50%|█████████████████████████████████████████▌                                         | 5/10 [00:00<00:00, 12.98it/s]"
     ]
    },
    {
     "name": "stdout",
     "output_type": "stream",
     "text": [
      "10/10 [==============================] - 0s 1ms/step\n",
      "10/10 [==============================] - 0s 1ms/step\n"
     ]
    },
    {
     "name": "stderr",
     "output_type": "stream",
     "text": [
      " 70%|██████████████████████████████████████████████████████████                         | 7/10 [00:00<00:00, 13.41it/s]"
     ]
    },
    {
     "name": "stdout",
     "output_type": "stream",
     "text": [
      "10/10 [==============================] - 0s 1ms/step\n",
      "10/10 [==============================] - 0s 1ms/step\n"
     ]
    },
    {
     "name": "stderr",
     "output_type": "stream",
     "text": [
      " 90%|██████████████████████████████████████████████████████████████████████████▋        | 9/10 [00:00<00:00, 13.65it/s]"
     ]
    },
    {
     "name": "stdout",
     "output_type": "stream",
     "text": [
      "10/10 [==============================] - 0s 1ms/step\n"
     ]
    },
    {
     "name": "stderr",
     "output_type": "stream",
     "text": [
      "100%|██████████████████████████████████████████████████████████████████████████████████| 10/10 [00:00<00:00, 13.16it/s]\n",
      "2023-08-26 01:03:24,325 - INFO - AUC : 0.8\n",
      "2023-08-26 01:03:24,327 - INFO - target_dir : ../Sample_data\n",
      "2023-08-26 01:03:24,329 - INFO - train_file num : 5\n",
      "2023-08-26 01:03:24,329 - INFO - eval_file  num : 10\n"
     ]
    },
    {
     "name": "stdout",
     "output_type": "stream",
     "text": [
      "===========================\n",
      "Model file not found for fan -> id_00. Skipping...\n",
      "Model file not found for fan -> id_00. Skipping...\n",
      "\n",
      "===========================\n"
     ]
    },
    {
     "name": "stderr",
     "output_type": "stream",
     "text": [
      "generate train_dataset: 100%|████████████████████████████████████████████████████████████| 5/5 [00:00<00:00, 84.93it/s]\n",
      "2023-08-26 01:03:24,392 - INFO - save_pickle -> ./pickle_transfer_pretrain_v3/train_fan_id_02.pickle\n",
      "2023-08-26 01:03:24,396 - INFO - save_pickle -> ./pickle_transfer_pretrain_v3/eval_files_fan_id_02.pickle\n",
      "2023-08-26 01:03:24,398 - INFO - save_pickle -> ./pickle_transfer_pretrain_v3/eval_labels_fan_id_02.pickle\n"
     ]
    },
    {
     "name": "stdout",
     "output_type": "stream",
     "text": [
      "\n",
      "Training transfer model for fan -> id_02 using pretrain model pretrain_('valve', 'slider')\n",
      "Epoch 1/50\n",
      "3/3 [==============================] - 1s 58ms/step - loss: 13.6362 - val_loss: 10.6267\n",
      "Epoch 2/50\n",
      "3/3 [==============================] - 0s 15ms/step - loss: 11.7743 - val_loss: 11.2777\n",
      "Epoch 3/50\n",
      "3/3 [==============================] - 0s 15ms/step - loss: 10.7068 - val_loss: 10.2327\n",
      "Epoch 4/50\n",
      "3/3 [==============================] - 0s 25ms/step - loss: 10.4031 - val_loss: 10.5576\n",
      "Epoch 5/50\n",
      "3/3 [==============================] - 0s 14ms/step - loss: 10.3264 - val_loss: 9.3951\n",
      "Epoch 6/50\n",
      "3/3 [==============================] - 0s 14ms/step - loss: 9.9030 - val_loss: 8.7290\n",
      "Epoch 7/50\n",
      "3/3 [==============================] - 0s 14ms/step - loss: 9.8084 - val_loss: 8.9102\n",
      "Epoch 8/50\n",
      "3/3 [==============================] - 0s 14ms/step - loss: 9.5763 - val_loss: 9.0373\n",
      "Epoch 9/50\n",
      "3/3 [==============================] - 0s 14ms/step - loss: 9.4793 - val_loss: 8.5157\n",
      "Epoch 10/50\n",
      "3/3 [==============================] - 0s 14ms/step - loss: 9.4922 - val_loss: 8.3735\n",
      "Epoch 11/50\n",
      "3/3 [==============================] - 0s 14ms/step - loss: 9.3860 - val_loss: 8.2425\n",
      "Epoch 12/50\n",
      "3/3 [==============================] - 0s 14ms/step - loss: 9.3344 - val_loss: 8.1007\n",
      "Epoch 13/50\n",
      "3/3 [==============================] - 0s 14ms/step - loss: 9.2979 - val_loss: 8.1376\n",
      "Epoch 14/50\n",
      "3/3 [==============================] - 0s 14ms/step - loss: 9.2633 - val_loss: 7.8807\n",
      "Epoch 15/50\n",
      "3/3 [==============================] - 0s 14ms/step - loss: 9.2289 - val_loss: 7.7531\n",
      "Epoch 16/50\n",
      "3/3 [==============================] - 0s 14ms/step - loss: 9.1898 - val_loss: 7.6897\n",
      "Epoch 17/50\n",
      "3/3 [==============================] - 0s 14ms/step - loss: 9.1714 - val_loss: 7.5602\n",
      "Epoch 18/50\n",
      "3/3 [==============================] - 0s 14ms/step - loss: 9.1267 - val_loss: 7.5039\n",
      "Epoch 19/50\n",
      "3/3 [==============================] - 0s 15ms/step - loss: 9.0995 - val_loss: 7.4228\n",
      "Epoch 20/50\n",
      "3/3 [==============================] - 0s 14ms/step - loss: 9.0698 - val_loss: 7.3776\n",
      "Epoch 21/50\n",
      "3/3 [==============================] - 0s 13ms/step - loss: 9.0404 - val_loss: 7.2847\n",
      "Epoch 22/50\n",
      "3/3 [==============================] - 0s 14ms/step - loss: 9.0083 - val_loss: 7.1873\n",
      "Epoch 23/50\n",
      "3/3 [==============================] - 0s 15ms/step - loss: 8.9795 - val_loss: 7.1516\n",
      "Epoch 24/50\n",
      "3/3 [==============================] - 0s 14ms/step - loss: 8.9470 - val_loss: 7.1346\n",
      "Epoch 25/50\n",
      "3/3 [==============================] - 0s 14ms/step - loss: 8.9139 - val_loss: 7.0989\n",
      "Epoch 26/50\n",
      "3/3 [==============================] - 0s 14ms/step - loss: 8.8806 - val_loss: 7.0326\n",
      "Epoch 27/50\n",
      "3/3 [==============================] - 0s 13ms/step - loss: 8.8470 - val_loss: 7.0219\n",
      "Epoch 28/50\n",
      "3/3 [==============================] - 0s 14ms/step - loss: 8.8153 - val_loss: 7.0115\n",
      "Epoch 29/50\n",
      "3/3 [==============================] - 0s 15ms/step - loss: 8.7785 - val_loss: 7.0526\n",
      "Epoch 30/50\n",
      "3/3 [==============================] - 0s 14ms/step - loss: 8.7462 - val_loss: 7.0575\n",
      "Epoch 31/50\n",
      "3/3 [==============================] - 0s 14ms/step - loss: 8.7071 - val_loss: 6.9819\n",
      "Epoch 32/50\n",
      "3/3 [==============================] - 0s 14ms/step - loss: 8.6697 - val_loss: 7.0398\n",
      "Epoch 33/50\n",
      "3/3 [==============================] - 0s 16ms/step - loss: 8.6327 - val_loss: 7.0888\n",
      "Epoch 34/50\n",
      "3/3 [==============================] - 0s 15ms/step - loss: 8.5928 - val_loss: 7.1077\n",
      "Epoch 35/50\n",
      "3/3 [==============================] - 0s 15ms/step - loss: 8.5556 - val_loss: 7.1701\n",
      "Epoch 36/50\n",
      "3/3 [==============================] - 0s 24ms/step - loss: 8.5149 - val_loss: 7.1881\n",
      "Epoch 37/50\n",
      "3/3 [==============================] - 0s 13ms/step - loss: 8.4749 - val_loss: 7.2262\n",
      "Epoch 38/50\n",
      "3/3 [==============================] - 0s 13ms/step - loss: 8.4384 - val_loss: 7.3134\n",
      "Epoch 39/50\n",
      "3/3 [==============================] - 0s 13ms/step - loss: 8.3969 - val_loss: 7.3919\n",
      "Epoch 40/50\n",
      "3/3 [==============================] - 0s 14ms/step - loss: 8.3579 - val_loss: 7.5159\n",
      "Epoch 41/50\n",
      "3/3 [==============================] - 0s 14ms/step - loss: 8.3179 - val_loss: 7.5574\n",
      "Epoch 42/50\n",
      "3/3 [==============================] - 0s 14ms/step - loss: 8.2780 - val_loss: 7.6293\n",
      "Epoch 43/50\n",
      "3/3 [==============================] - 0s 13ms/step - loss: 8.2404 - val_loss: 7.6367\n",
      "Epoch 44/50\n",
      "3/3 [==============================] - 0s 13ms/step - loss: 8.2030 - val_loss: 7.8148\n",
      "Epoch 45/50\n",
      "3/3 [==============================] - 0s 13ms/step - loss: 8.1644 - val_loss: 8.0011\n",
      "Epoch 46/50\n",
      "3/3 [==============================] - 0s 12ms/step - loss: 8.1306 - val_loss: 8.0096\n",
      "Epoch 47/50\n",
      "3/3 [==============================] - 0s 14ms/step - loss: 8.0934 - val_loss: 8.0155\n",
      "Epoch 48/50\n",
      "3/3 [==============================] - 0s 13ms/step - loss: 8.0593 - val_loss: 8.1702\n",
      "Epoch 49/50\n",
      "3/3 [==============================] - 0s 15ms/step - loss: 8.0203 - val_loss: 8.3736\n",
      "Epoch 50/50\n",
      "3/3 [==============================] - 0s 13ms/step - loss: 7.9965 - val_loss: 8.4741\n",
      "============== EVALUATION ==============\n"
     ]
    },
    {
     "name": "stderr",
     "output_type": "stream",
     "text": [
      "C:\\Users\\Baejs\\anaconda3\\envs\\bae\\lib\\site-packages\\keras\\src\\engine\\training.py:3000: UserWarning: You are saving your model as an HDF5 file via `model.save()`. This file format is considered legacy. We recommend using instead the native Keras format, e.g. `model.save('my_model.keras')`.\n",
      "  saving_api.save_model(\n",
      "  0%|                                                                                           | 0/10 [00:00<?, ?it/s]"
     ]
    },
    {
     "name": "stdout",
     "output_type": "stream",
     "text": [
      "10/10 [==============================] - 0s 962us/step\n"
     ]
    },
    {
     "name": "stderr",
     "output_type": "stream",
     "text": [
      " 10%|████████▎                                                                          | 1/10 [00:00<00:01,  8.33it/s]"
     ]
    },
    {
     "name": "stdout",
     "output_type": "stream",
     "text": [
      "10/10 [==============================] - 0s 1ms/step\n",
      "10/10 [==============================] - 0s 1ms/step\n"
     ]
    },
    {
     "name": "stderr",
     "output_type": "stream",
     "text": [
      " 30%|████████████████████████▉                                                          | 3/10 [00:00<00:00, 12.18it/s]"
     ]
    },
    {
     "name": "stdout",
     "output_type": "stream",
     "text": [
      "10/10 [==============================] - 0s 980us/step\n",
      "10/10 [==============================] - 0s 1ms/step\n"
     ]
    },
    {
     "name": "stderr",
     "output_type": "stream",
     "text": [
      " 50%|█████████████████████████████████████████▌                                         | 5/10 [00:00<00:00, 13.27it/s]"
     ]
    },
    {
     "name": "stdout",
     "output_type": "stream",
     "text": [
      "10/10 [==============================] - 0s 1ms/step\n",
      "10/10 [==============================] - 0s 967us/step\n"
     ]
    },
    {
     "name": "stderr",
     "output_type": "stream",
     "text": [
      " 70%|██████████████████████████████████████████████████████████                         | 7/10 [00:00<00:00, 13.83it/s]"
     ]
    },
    {
     "name": "stdout",
     "output_type": "stream",
     "text": [
      "10/10 [==============================] - 0s 1ms/step\n",
      "10/10 [==============================] - 0s 1ms/step\n"
     ]
    },
    {
     "name": "stderr",
     "output_type": "stream",
     "text": [
      " 90%|██████████████████████████████████████████████████████████████████████████▋        | 9/10 [00:00<00:00, 14.17it/s]"
     ]
    },
    {
     "name": "stdout",
     "output_type": "stream",
     "text": [
      "10/10 [==============================] - 0s 1ms/step\n"
     ]
    },
    {
     "name": "stderr",
     "output_type": "stream",
     "text": [
      "100%|██████████████████████████████████████████████████████████████████████████████████| 10/10 [00:00<00:00, 13.59it/s]\n",
      "2023-08-26 01:03:27,848 - INFO - AUC : 0.8\n"
     ]
    },
    {
     "name": "stdout",
     "output_type": "stream",
     "text": [
      "===========================\n",
      "\n",
      "Training transfer model for fan -> id_02 using pretrain model pretrain_('valve', 'pump')\n",
      "Epoch 1/50\n",
      "3/3 [==============================] - 1s 57ms/step - loss: 12.3535 - val_loss: 12.2179\n",
      "Epoch 2/50\n",
      "3/3 [==============================] - 0s 14ms/step - loss: 11.0209 - val_loss: 9.2436\n",
      "Epoch 3/50\n",
      "3/3 [==============================] - 0s 14ms/step - loss: 8.6498 - val_loss: 11.6064\n",
      "Epoch 4/50\n",
      "3/3 [==============================] - 0s 14ms/step - loss: 9.0518 - val_loss: 9.7640\n",
      "Epoch 5/50\n",
      "3/3 [==============================] - 0s 14ms/step - loss: 8.2049 - val_loss: 9.3426\n",
      "Epoch 6/50\n",
      "3/3 [==============================] - 0s 14ms/step - loss: 8.0702 - val_loss: 8.5538\n",
      "Epoch 7/50\n",
      "3/3 [==============================] - 0s 24ms/step - loss: 7.9070 - val_loss: 8.8650\n",
      "Epoch 8/50\n",
      "3/3 [==============================] - 0s 14ms/step - loss: 7.6745 - val_loss: 8.5905\n",
      "Epoch 9/50\n",
      "3/3 [==============================] - 0s 13ms/step - loss: 7.5228 - val_loss: 8.6497\n",
      "Epoch 10/50\n",
      "3/3 [==============================] - 0s 13ms/step - loss: 7.3175 - val_loss: 8.4259\n",
      "Epoch 11/50\n",
      "3/3 [==============================] - 0s 13ms/step - loss: 7.1948 - val_loss: 7.8630\n",
      "Epoch 12/50\n",
      "3/3 [==============================] - 0s 13ms/step - loss: 6.9929 - val_loss: 7.6965\n",
      "Epoch 13/50\n",
      "3/3 [==============================] - 0s 14ms/step - loss: 6.9324 - val_loss: 7.8244\n",
      "Epoch 14/50\n",
      "3/3 [==============================] - 0s 13ms/step - loss: 6.8736 - val_loss: 7.7177\n",
      "Epoch 15/50\n",
      "3/3 [==============================] - 0s 15ms/step - loss: 6.7947 - val_loss: 7.5692\n",
      "Epoch 16/50\n",
      "3/3 [==============================] - 0s 14ms/step - loss: 6.7203 - val_loss: 7.5303\n",
      "Epoch 17/50\n",
      "3/3 [==============================] - 0s 14ms/step - loss: 6.6644 - val_loss: 7.4088\n",
      "Epoch 18/50\n",
      "3/3 [==============================] - 0s 14ms/step - loss: 6.5965 - val_loss: 7.4095\n",
      "Epoch 19/50\n",
      "3/3 [==============================] - 0s 14ms/step - loss: 6.5369 - val_loss: 7.4530\n",
      "Epoch 20/50\n",
      "3/3 [==============================] - 0s 14ms/step - loss: 6.4932 - val_loss: 7.2878\n",
      "Epoch 21/50\n",
      "3/3 [==============================] - 0s 14ms/step - loss: 6.4467 - val_loss: 7.2448\n",
      "Epoch 22/50\n",
      "3/3 [==============================] - 0s 14ms/step - loss: 6.3937 - val_loss: 7.2147\n",
      "Epoch 23/50\n",
      "3/3 [==============================] - 0s 15ms/step - loss: 6.3438 - val_loss: 7.1704\n",
      "Epoch 24/50\n",
      "3/3 [==============================] - 0s 14ms/step - loss: 6.3020 - val_loss: 7.1538\n",
      "Epoch 25/50\n",
      "3/3 [==============================] - 0s 13ms/step - loss: 6.2610 - val_loss: 7.0997\n",
      "Epoch 26/50\n",
      "3/3 [==============================] - 0s 14ms/step - loss: 6.2170 - val_loss: 7.0858\n",
      "Epoch 27/50\n",
      "3/3 [==============================] - 0s 14ms/step - loss: 6.1742 - val_loss: 7.0596\n",
      "Epoch 28/50\n",
      "3/3 [==============================] - 0s 13ms/step - loss: 6.1341 - val_loss: 7.0157\n",
      "Epoch 29/50\n",
      "3/3 [==============================] - 0s 13ms/step - loss: 6.0951 - val_loss: 7.0081\n",
      "Epoch 30/50\n",
      "3/3 [==============================] - 0s 13ms/step - loss: 6.0565 - val_loss: 7.0336\n",
      "Epoch 31/50\n",
      "3/3 [==============================] - 0s 14ms/step - loss: 6.0198 - val_loss: 7.0020\n",
      "Epoch 32/50\n",
      "3/3 [==============================] - 0s 13ms/step - loss: 5.9825 - val_loss: 6.9287\n",
      "Epoch 33/50\n",
      "3/3 [==============================] - 0s 13ms/step - loss: 5.9499 - val_loss: 6.8840\n",
      "Epoch 34/50\n",
      "3/3 [==============================] - 0s 13ms/step - loss: 5.9165 - val_loss: 6.9357\n",
      "Epoch 35/50\n",
      "3/3 [==============================] - 0s 14ms/step - loss: 5.8841 - val_loss: 6.9000\n",
      "Epoch 36/50\n",
      "3/3 [==============================] - 0s 14ms/step - loss: 5.8521 - val_loss: 6.8754\n",
      "Epoch 37/50\n",
      "3/3 [==============================] - 0s 14ms/step - loss: 5.8220 - val_loss: 6.8355\n",
      "Epoch 38/50\n",
      "3/3 [==============================] - 0s 14ms/step - loss: 5.7940 - val_loss: 6.7885\n",
      "Epoch 39/50\n",
      "3/3 [==============================] - 0s 14ms/step - loss: 5.7675 - val_loss: 6.7906\n",
      "Epoch 40/50\n",
      "3/3 [==============================] - 0s 22ms/step - loss: 5.7424 - val_loss: 6.8136\n",
      "Epoch 41/50\n",
      "3/3 [==============================] - 0s 13ms/step - loss: 5.7190 - val_loss: 6.7422\n",
      "Epoch 42/50\n",
      "3/3 [==============================] - 0s 13ms/step - loss: 5.6978 - val_loss: 6.6977\n",
      "Epoch 43/50\n",
      "3/3 [==============================] - 0s 13ms/step - loss: 5.6787 - val_loss: 6.6921\n",
      "Epoch 44/50\n",
      "3/3 [==============================] - 0s 14ms/step - loss: 5.6556 - val_loss: 6.6961\n",
      "Epoch 45/50\n",
      "3/3 [==============================] - 0s 14ms/step - loss: 5.6382 - val_loss: 6.6346\n",
      "Epoch 46/50\n",
      "3/3 [==============================] - 0s 13ms/step - loss: 5.6215 - val_loss: 6.6365\n",
      "Epoch 47/50\n",
      "3/3 [==============================] - 0s 14ms/step - loss: 5.6067 - val_loss: 6.6802\n",
      "Epoch 48/50\n",
      "3/3 [==============================] - 0s 13ms/step - loss: 5.5966 - val_loss: 6.5824\n",
      "Epoch 49/50\n",
      "3/3 [==============================] - 0s 14ms/step - loss: 5.5798 - val_loss: 6.5855\n",
      "Epoch 50/50\n",
      "3/3 [==============================] - 0s 14ms/step - loss: 5.5698 - val_loss: 6.5860\n",
      "============== EVALUATION ==============\n"
     ]
    },
    {
     "name": "stderr",
     "output_type": "stream",
     "text": [
      "C:\\Users\\Baejs\\anaconda3\\envs\\bae\\lib\\site-packages\\keras\\src\\engine\\training.py:3000: UserWarning: You are saving your model as an HDF5 file via `model.save()`. This file format is considered legacy. We recommend using instead the native Keras format, e.g. `model.save('my_model.keras')`.\n",
      "  saving_api.save_model(\n",
      "  0%|                                                                                           | 0/10 [00:00<?, ?it/s]"
     ]
    },
    {
     "name": "stdout",
     "output_type": "stream",
     "text": [
      "10/10 [==============================] - 0s 1ms/step\n"
     ]
    },
    {
     "name": "stderr",
     "output_type": "stream",
     "text": [
      " 10%|████████▎                                                                          | 1/10 [00:00<00:00,  9.34it/s]"
     ]
    },
    {
     "name": "stdout",
     "output_type": "stream",
     "text": [
      "10/10 [==============================] - 0s 1ms/step\n",
      "10/10 [==============================] - 0s 1ms/step\n"
     ]
    },
    {
     "name": "stderr",
     "output_type": "stream",
     "text": [
      " 30%|████████████████████████▉                                                          | 3/10 [00:00<00:00, 12.80it/s]"
     ]
    },
    {
     "name": "stdout",
     "output_type": "stream",
     "text": [
      "10/10 [==============================] - 0s 1ms/step\n",
      "10/10 [==============================] - 0s 983us/step\n"
     ]
    },
    {
     "name": "stderr",
     "output_type": "stream",
     "text": [
      " 50%|█████████████████████████████████████████▌                                         | 5/10 [00:00<00:00, 13.71it/s]"
     ]
    },
    {
     "name": "stdout",
     "output_type": "stream",
     "text": [
      "10/10 [==============================] - 0s 997us/step\n",
      "10/10 [==============================] - 0s 1ms/step\n"
     ]
    },
    {
     "name": "stderr",
     "output_type": "stream",
     "text": [
      " 70%|██████████████████████████████████████████████████████████                         | 7/10 [00:00<00:00, 14.04it/s]"
     ]
    },
    {
     "name": "stdout",
     "output_type": "stream",
     "text": [
      "10/10 [==============================] - 0s 1ms/step\n",
      "10/10 [==============================] - 0s 1ms/step\n"
     ]
    },
    {
     "name": "stderr",
     "output_type": "stream",
     "text": [
      " 90%|██████████████████████████████████████████████████████████████████████████▋        | 9/10 [00:00<00:00, 14.27it/s]"
     ]
    },
    {
     "name": "stdout",
     "output_type": "stream",
     "text": [
      "10/10 [==============================] - 0s 1ms/step\n"
     ]
    },
    {
     "name": "stderr",
     "output_type": "stream",
     "text": [
      "100%|██████████████████████████████████████████████████████████████████████████████████| 10/10 [00:00<00:00, 13.85it/s]\n",
      "2023-08-26 01:03:31,210 - INFO - AUC : 0.56\n"
     ]
    },
    {
     "name": "stdout",
     "output_type": "stream",
     "text": [
      "===========================\n",
      "Model file not found for fan -> id_02. Skipping...\n",
      "\n",
      "Training transfer model for fan -> id_02 using pretrain model pretrain_('slider', 'pump')\n",
      "Epoch 1/50\n",
      "3/3 [==============================] - 1s 58ms/step - loss: 12.6753 - val_loss: 13.3226\n",
      "Epoch 2/50\n",
      "3/3 [==============================] - 0s 14ms/step - loss: 11.7109 - val_loss: 10.2020\n",
      "Epoch 3/50\n",
      "3/3 [==============================] - 0s 14ms/step - loss: 10.8632 - val_loss: 9.6621\n",
      "Epoch 4/50\n",
      "3/3 [==============================] - 0s 15ms/step - loss: 10.0938 - val_loss: 10.6537\n",
      "Epoch 5/50\n",
      "3/3 [==============================] - 0s 15ms/step - loss: 10.1252 - val_loss: 9.2227\n",
      "Epoch 6/50\n",
      "3/3 [==============================] - 0s 14ms/step - loss: 9.8607 - val_loss: 9.4583\n",
      "Epoch 7/50\n",
      "3/3 [==============================] - 0s 14ms/step - loss: 9.6722 - val_loss: 9.7304\n",
      "Epoch 8/50\n",
      "3/3 [==============================] - 0s 14ms/step - loss: 9.6982 - val_loss: 9.2543\n",
      "Epoch 9/50\n",
      "3/3 [==============================] - 0s 15ms/step - loss: 9.4933 - val_loss: 9.1031\n",
      "Epoch 10/50\n",
      "3/3 [==============================] - 0s 15ms/step - loss: 9.5118 - val_loss: 9.1202\n",
      "Epoch 11/50\n",
      "3/3 [==============================] - 0s 13ms/step - loss: 9.4440 - val_loss: 9.1328\n",
      "Epoch 12/50\n",
      "3/3 [==============================] - 0s 13ms/step - loss: 9.3835 - val_loss: 8.9993\n",
      "Epoch 13/50\n",
      "3/3 [==============================] - 0s 16ms/step - loss: 9.3797 - val_loss: 8.8873\n",
      "Epoch 14/50\n",
      "3/3 [==============================] - 0s 14ms/step - loss: 9.3596 - val_loss: 8.8534\n",
      "Epoch 15/50\n",
      "3/3 [==============================] - 0s 13ms/step - loss: 9.3390 - val_loss: 8.8641\n",
      "Epoch 16/50\n",
      "3/3 [==============================] - 0s 13ms/step - loss: 9.3144 - val_loss: 8.8538\n",
      "Epoch 17/50\n",
      "3/3 [==============================] - 0s 13ms/step - loss: 9.2958 - val_loss: 8.7271\n",
      "Epoch 18/50\n",
      "3/3 [==============================] - 0s 13ms/step - loss: 9.2790 - val_loss: 8.6957\n",
      "Epoch 19/50\n",
      "3/3 [==============================] - 0s 13ms/step - loss: 9.2681 - val_loss: 8.5829\n",
      "Epoch 20/50\n",
      "3/3 [==============================] - 0s 14ms/step - loss: 9.2430 - val_loss: 8.5014\n",
      "Epoch 21/50\n",
      "3/3 [==============================] - 0s 14ms/step - loss: 9.2217 - val_loss: 8.4464\n",
      "Epoch 22/50\n",
      "3/3 [==============================] - 0s 14ms/step - loss: 9.2004 - val_loss: 8.4195\n",
      "Epoch 23/50\n",
      "3/3 [==============================] - 0s 13ms/step - loss: 9.1813 - val_loss: 8.3540\n",
      "Epoch 24/50\n",
      "3/3 [==============================] - 0s 13ms/step - loss: 9.1617 - val_loss: 8.2511\n",
      "Epoch 25/50\n",
      "3/3 [==============================] - 0s 14ms/step - loss: 9.1396 - val_loss: 8.2197\n",
      "Epoch 26/50\n",
      "3/3 [==============================] - 0s 13ms/step - loss: 9.1179 - val_loss: 8.1301\n",
      "Epoch 27/50\n",
      "3/3 [==============================] - 0s 13ms/step - loss: 9.0946 - val_loss: 8.0725\n",
      "Epoch 28/50\n",
      "3/3 [==============================] - 0s 13ms/step - loss: 9.0738 - val_loss: 8.0636\n",
      "Epoch 29/50\n",
      "3/3 [==============================] - 0s 13ms/step - loss: 9.0491 - val_loss: 7.9803\n",
      "Epoch 30/50\n",
      "3/3 [==============================] - 0s 13ms/step - loss: 9.0262 - val_loss: 7.9236\n",
      "Epoch 31/50\n",
      "3/3 [==============================] - 0s 13ms/step - loss: 9.0101 - val_loss: 7.8621\n",
      "Epoch 32/50\n",
      "3/3 [==============================] - 0s 13ms/step - loss: 8.9846 - val_loss: 7.8580\n",
      "Epoch 33/50\n",
      "3/3 [==============================] - 0s 13ms/step - loss: 8.9530 - val_loss: 7.8270\n",
      "Epoch 34/50\n",
      "3/3 [==============================] - 0s 13ms/step - loss: 8.9284 - val_loss: 7.7894\n",
      "Epoch 35/50\n",
      "3/3 [==============================] - 0s 13ms/step - loss: 8.9041 - val_loss: 7.7383\n",
      "Epoch 36/50\n",
      "3/3 [==============================] - 0s 13ms/step - loss: 8.8773 - val_loss: 7.7141\n",
      "Epoch 37/50\n",
      "3/3 [==============================] - 0s 13ms/step - loss: 8.8471 - val_loss: 7.6802\n",
      "Epoch 38/50\n",
      "3/3 [==============================] - 0s 13ms/step - loss: 8.8168 - val_loss: 7.6610\n",
      "Epoch 39/50\n",
      "3/3 [==============================] - 0s 13ms/step - loss: 8.7877 - val_loss: 7.7236\n",
      "Epoch 40/50\n",
      "3/3 [==============================] - 0s 13ms/step - loss: 8.7628 - val_loss: 7.6359\n",
      "Epoch 41/50\n",
      "3/3 [==============================] - 0s 13ms/step - loss: 8.7456 - val_loss: 7.6430\n",
      "Epoch 42/50\n",
      "3/3 [==============================] - 0s 14ms/step - loss: 8.7117 - val_loss: 7.6225\n",
      "Epoch 43/50\n",
      "3/3 [==============================] - 0s 13ms/step - loss: 8.6768 - val_loss: 7.6464\n",
      "Epoch 44/50\n",
      "3/3 [==============================] - 0s 14ms/step - loss: 8.6484 - val_loss: 7.7184\n",
      "Epoch 45/50\n",
      "3/3 [==============================] - 0s 14ms/step - loss: 8.6229 - val_loss: 7.6672\n",
      "Epoch 46/50\n",
      "3/3 [==============================] - 0s 20ms/step - loss: 8.5971 - val_loss: 7.6671\n",
      "Epoch 47/50\n",
      "3/3 [==============================] - 0s 13ms/step - loss: 8.5647 - val_loss: 7.8151\n",
      "Epoch 48/50\n",
      "3/3 [==============================] - 0s 13ms/step - loss: 8.5569 - val_loss: 7.7404\n",
      "Epoch 49/50\n",
      "3/3 [==============================] - 0s 13ms/step - loss: 8.5068 - val_loss: 7.7255\n",
      "Epoch 50/50\n",
      "3/3 [==============================] - 0s 13ms/step - loss: 8.4771 - val_loss: 7.8024\n",
      "============== EVALUATION ==============\n"
     ]
    },
    {
     "name": "stderr",
     "output_type": "stream",
     "text": [
      "C:\\Users\\Baejs\\anaconda3\\envs\\bae\\lib\\site-packages\\keras\\src\\engine\\training.py:3000: UserWarning: You are saving your model as an HDF5 file via `model.save()`. This file format is considered legacy. We recommend using instead the native Keras format, e.g. `model.save('my_model.keras')`.\n",
      "  saving_api.save_model(\n",
      "  0%|                                                                                           | 0/10 [00:00<?, ?it/s]"
     ]
    },
    {
     "name": "stdout",
     "output_type": "stream",
     "text": [
      "10/10 [==============================] - 0s 963us/step\n"
     ]
    },
    {
     "name": "stderr",
     "output_type": "stream",
     "text": [
      " 10%|████████▎                                                                          | 1/10 [00:00<00:00,  9.14it/s]"
     ]
    },
    {
     "name": "stdout",
     "output_type": "stream",
     "text": [
      "10/10 [==============================] - 0s 944us/step\n",
      "10/10 [==============================] - 0s 1ms/step\n"
     ]
    },
    {
     "name": "stderr",
     "output_type": "stream",
     "text": [
      " 30%|████████████████████████▉                                                          | 3/10 [00:00<00:00, 12.84it/s]"
     ]
    },
    {
     "name": "stdout",
     "output_type": "stream",
     "text": [
      "10/10 [==============================] - 0s 1ms/step\n",
      "10/10 [==============================] - 0s 1ms/step\n"
     ]
    },
    {
     "name": "stderr",
     "output_type": "stream",
     "text": [
      " 50%|█████████████████████████████████████████▌                                         | 5/10 [00:00<00:00, 13.69it/s]"
     ]
    },
    {
     "name": "stdout",
     "output_type": "stream",
     "text": [
      "10/10 [==============================] - 0s 1ms/step\n",
      "10/10 [==============================] - 0s 1ms/step\n"
     ]
    },
    {
     "name": "stderr",
     "output_type": "stream",
     "text": [
      " 70%|██████████████████████████████████████████████████████████                         | 7/10 [00:00<00:00, 14.16it/s]"
     ]
    },
    {
     "name": "stdout",
     "output_type": "stream",
     "text": [
      "10/10 [==============================] - 0s 950us/step\n",
      "10/10 [==============================] - 0s 1ms/step\n"
     ]
    },
    {
     "name": "stderr",
     "output_type": "stream",
     "text": [
      " 90%|██████████████████████████████████████████████████████████████████████████▋        | 9/10 [00:00<00:00, 14.28it/s]"
     ]
    },
    {
     "name": "stdout",
     "output_type": "stream",
     "text": [
      "10/10 [==============================] - 0s 1ms/step\n"
     ]
    },
    {
     "name": "stderr",
     "output_type": "stream",
     "text": [
      "100%|██████████████████████████████████████████████████████████████████████████████████| 10/10 [00:00<00:00, 13.87it/s]\n",
      "2023-08-26 01:03:34,755 - INFO - AUC : 0.8\n",
      "2023-08-26 01:03:34,757 - INFO - target_dir : ../Sample_data\n",
      "2023-08-26 01:03:34,758 - INFO - train_file num : 5\n",
      "2023-08-26 01:03:34,759 - INFO - eval_file  num : 10\n"
     ]
    },
    {
     "name": "stdout",
     "output_type": "stream",
     "text": [
      "===========================\n",
      "Model file not found for fan -> id_02. Skipping...\n",
      "Model file not found for fan -> id_02. Skipping...\n",
      "\n",
      "===========================\n"
     ]
    },
    {
     "name": "stderr",
     "output_type": "stream",
     "text": [
      "generate train_dataset: 100%|████████████████████████████████████████████████████████████| 5/5 [00:00<00:00, 86.44it/s]\n",
      "2023-08-26 01:03:34,821 - INFO - save_pickle -> ./pickle_transfer_pretrain_v3/train_fan_id_04.pickle\n",
      "2023-08-26 01:03:34,826 - INFO - save_pickle -> ./pickle_transfer_pretrain_v3/eval_files_fan_id_04.pickle\n",
      "2023-08-26 01:03:34,828 - INFO - save_pickle -> ./pickle_transfer_pretrain_v3/eval_labels_fan_id_04.pickle\n"
     ]
    },
    {
     "name": "stdout",
     "output_type": "stream",
     "text": [
      "\n",
      "Training transfer model for fan -> id_04 using pretrain model pretrain_('valve', 'slider')\n",
      "Epoch 1/50\n",
      "3/3 [==============================] - 1s 62ms/step - loss: 14.0906 - val_loss: 9.1479\n",
      "Epoch 2/50\n",
      "3/3 [==============================] - 0s 14ms/step - loss: 12.5176 - val_loss: 8.1489\n",
      "Epoch 3/50\n",
      "3/3 [==============================] - 0s 14ms/step - loss: 9.8728 - val_loss: 9.0282\n",
      "Epoch 4/50\n",
      "3/3 [==============================] - 0s 14ms/step - loss: 10.8252 - val_loss: 7.2230\n",
      "Epoch 5/50\n",
      "3/3 [==============================] - 0s 14ms/step - loss: 9.1490 - val_loss: 6.5039\n",
      "Epoch 6/50\n",
      "3/3 [==============================] - 0s 14ms/step - loss: 9.5505 - val_loss: 6.1292\n",
      "Epoch 7/50\n",
      "3/3 [==============================] - 0s 14ms/step - loss: 8.8264 - val_loss: 6.3847\n",
      "Epoch 8/50\n",
      "3/3 [==============================] - 0s 14ms/step - loss: 8.8765 - val_loss: 6.5810\n",
      "Epoch 9/50\n",
      "3/3 [==============================] - 0s 14ms/step - loss: 8.5787 - val_loss: 6.4149\n",
      "Epoch 10/50\n",
      "3/3 [==============================] - 0s 14ms/step - loss: 8.5791 - val_loss: 6.1152\n",
      "Epoch 11/50\n",
      "3/3 [==============================] - 0s 13ms/step - loss: 8.4076 - val_loss: 6.0295\n",
      "Epoch 12/50\n",
      "3/3 [==============================] - 0s 14ms/step - loss: 8.3671 - val_loss: 5.9248\n",
      "Epoch 13/50\n",
      "3/3 [==============================] - 0s 13ms/step - loss: 8.2275 - val_loss: 6.0407\n",
      "Epoch 14/50\n",
      "3/3 [==============================] - 0s 13ms/step - loss: 8.2217 - val_loss: 6.0431\n",
      "Epoch 15/50\n",
      "3/3 [==============================] - 0s 13ms/step - loss: 8.1196 - val_loss: 6.0760\n",
      "Epoch 16/50\n",
      "3/3 [==============================] - 0s 19ms/step - loss: 8.0960 - val_loss: 5.9666\n",
      "Epoch 17/50\n",
      "3/3 [==============================] - 0s 13ms/step - loss: 8.0303 - val_loss: 5.9786\n",
      "Epoch 18/50\n",
      "3/3 [==============================] - 0s 13ms/step - loss: 7.9885 - val_loss: 5.9762\n",
      "Epoch 19/50\n",
      "3/3 [==============================] - 0s 13ms/step - loss: 7.9505 - val_loss: 6.0143\n",
      "Epoch 20/50\n",
      "3/3 [==============================] - 0s 14ms/step - loss: 7.9085 - val_loss: 6.0153\n",
      "Epoch 21/50\n",
      "3/3 [==============================] - 0s 13ms/step - loss: 7.8772 - val_loss: 6.0189\n",
      "Epoch 22/50\n",
      "3/3 [==============================] - 0s 13ms/step - loss: 7.8450 - val_loss: 5.9655\n",
      "Epoch 23/50\n",
      "3/3 [==============================] - 0s 13ms/step - loss: 7.8113 - val_loss: 5.9993\n",
      "Epoch 24/50\n",
      "3/3 [==============================] - 0s 14ms/step - loss: 7.7814 - val_loss: 6.0023\n",
      "Epoch 25/50\n",
      "3/3 [==============================] - 0s 14ms/step - loss: 7.7544 - val_loss: 6.0554\n",
      "Epoch 26/50\n",
      "3/3 [==============================] - 0s 14ms/step - loss: 7.7291 - val_loss: 6.0487\n",
      "Epoch 27/50\n",
      "3/3 [==============================] - 0s 13ms/step - loss: 7.7025 - val_loss: 5.9802\n",
      "Epoch 28/50\n",
      "3/3 [==============================] - 0s 14ms/step - loss: 7.6789 - val_loss: 6.0434\n",
      "Epoch 29/50\n",
      "3/3 [==============================] - 0s 14ms/step - loss: 7.6557 - val_loss: 6.0508\n",
      "Epoch 30/50\n",
      "3/3 [==============================] - 0s 14ms/step - loss: 7.6370 - val_loss: 6.0698\n",
      "Epoch 31/50\n",
      "3/3 [==============================] - 0s 13ms/step - loss: 7.6159 - val_loss: 6.0737\n",
      "Epoch 32/50\n",
      "3/3 [==============================] - 0s 14ms/step - loss: 7.5969 - val_loss: 6.0747\n",
      "Epoch 33/50\n",
      "3/3 [==============================] - 0s 14ms/step - loss: 7.5802 - val_loss: 6.1567\n",
      "Epoch 34/50\n",
      "3/3 [==============================] - 0s 13ms/step - loss: 7.5639 - val_loss: 6.1175\n",
      "Epoch 35/50\n",
      "3/3 [==============================] - 0s 13ms/step - loss: 7.5455 - val_loss: 6.1079\n",
      "Epoch 36/50\n",
      "3/3 [==============================] - 0s 13ms/step - loss: 7.5304 - val_loss: 6.1173\n",
      "Epoch 37/50\n",
      "3/3 [==============================] - 0s 14ms/step - loss: 7.5158 - val_loss: 6.1314\n",
      "Epoch 38/50\n",
      "3/3 [==============================] - 0s 14ms/step - loss: 7.5002 - val_loss: 6.1837\n",
      "Epoch 39/50\n",
      "3/3 [==============================] - 0s 14ms/step - loss: 7.4855 - val_loss: 6.1560\n",
      "Epoch 40/50\n",
      "3/3 [==============================] - 0s 14ms/step - loss: 7.4723 - val_loss: 6.2042\n",
      "Epoch 41/50\n",
      "3/3 [==============================] - 0s 14ms/step - loss: 7.4577 - val_loss: 6.2498\n",
      "Epoch 42/50\n",
      "3/3 [==============================] - 0s 15ms/step - loss: 7.4461 - val_loss: 6.2839\n",
      "Epoch 43/50\n",
      "3/3 [==============================] - 0s 16ms/step - loss: 7.4358 - val_loss: 6.2218\n",
      "Epoch 44/50\n",
      "3/3 [==============================] - 0s 15ms/step - loss: 7.4269 - val_loss: 6.2729\n",
      "Epoch 45/50\n",
      "3/3 [==============================] - 0s 13ms/step - loss: 7.4158 - val_loss: 6.3000\n",
      "Epoch 46/50\n",
      "3/3 [==============================] - 0s 13ms/step - loss: 7.4077 - val_loss: 6.3135\n",
      "Epoch 47/50\n",
      "3/3 [==============================] - 0s 13ms/step - loss: 7.4015 - val_loss: 6.2460\n",
      "Epoch 48/50\n",
      "3/3 [==============================] - 0s 13ms/step - loss: 7.3932 - val_loss: 6.3593\n",
      "Epoch 49/50\n",
      "3/3 [==============================] - 0s 15ms/step - loss: 7.3840 - val_loss: 6.3323\n",
      "Epoch 50/50\n",
      "3/3 [==============================] - 0s 14ms/step - loss: 7.3767 - val_loss: 6.2866\n"
     ]
    },
    {
     "name": "stderr",
     "output_type": "stream",
     "text": [
      "C:\\Users\\Baejs\\anaconda3\\envs\\bae\\lib\\site-packages\\keras\\src\\engine\\training.py:3000: UserWarning: You are saving your model as an HDF5 file via `model.save()`. This file format is considered legacy. We recommend using instead the native Keras format, e.g. `model.save('my_model.keras')`.\n",
      "  saving_api.save_model(\n"
     ]
    },
    {
     "name": "stdout",
     "output_type": "stream",
     "text": [
      "============== EVALUATION ==============\n"
     ]
    },
    {
     "name": "stderr",
     "output_type": "stream",
     "text": [
      "  0%|                                                                                           | 0/10 [00:00<?, ?it/s]"
     ]
    },
    {
     "name": "stdout",
     "output_type": "stream",
     "text": [
      "10/10 [==============================] - 0s 1ms/step\n"
     ]
    },
    {
     "name": "stderr",
     "output_type": "stream",
     "text": [
      " 10%|████████▎                                                                          | 1/10 [00:00<00:00,  9.35it/s]"
     ]
    },
    {
     "name": "stdout",
     "output_type": "stream",
     "text": [
      "10/10 [==============================] - 0s 1ms/step\n",
      "10/10 [==============================] - 0s 1ms/step\n"
     ]
    },
    {
     "name": "stderr",
     "output_type": "stream",
     "text": [
      " 30%|████████████████████████▉                                                          | 3/10 [00:00<00:00, 12.87it/s]"
     ]
    },
    {
     "name": "stdout",
     "output_type": "stream",
     "text": [
      "10/10 [==============================] - 0s 1ms/step\n",
      "10/10 [==============================] - 0s 974us/step\n"
     ]
    },
    {
     "name": "stderr",
     "output_type": "stream",
     "text": [
      " 50%|█████████████████████████████████████████▌                                         | 5/10 [00:00<00:00, 13.56it/s]"
     ]
    },
    {
     "name": "stdout",
     "output_type": "stream",
     "text": [
      "10/10 [==============================] - 0s 1ms/step\n",
      "10/10 [==============================] - 0s 1ms/step\n"
     ]
    },
    {
     "name": "stderr",
     "output_type": "stream",
     "text": [
      " 70%|██████████████████████████████████████████████████████████                         | 7/10 [00:00<00:00, 14.02it/s]"
     ]
    },
    {
     "name": "stdout",
     "output_type": "stream",
     "text": [
      "10/10 [==============================] - 0s 1ms/step\n",
      "10/10 [==============================] - 0s 1ms/step\n"
     ]
    },
    {
     "name": "stderr",
     "output_type": "stream",
     "text": [
      " 90%|██████████████████████████████████████████████████████████████████████████▋        | 9/10 [00:00<00:00, 14.01it/s]"
     ]
    },
    {
     "name": "stdout",
     "output_type": "stream",
     "text": [
      "10/10 [==============================] - 0s 998us/step\n"
     ]
    },
    {
     "name": "stderr",
     "output_type": "stream",
     "text": [
      "100%|██████████████████████████████████████████████████████████████████████████████████| 10/10 [00:00<00:00, 13.72it/s]\n",
      "2023-08-26 01:03:38,210 - INFO - AUC : 0.76\n"
     ]
    },
    {
     "name": "stdout",
     "output_type": "stream",
     "text": [
      "===========================\n",
      "\n",
      "Training transfer model for fan -> id_04 using pretrain model pretrain_('valve', 'pump')\n",
      "Epoch 1/50\n",
      "3/3 [==============================] - 1s 64ms/step - loss: 15.5815 - val_loss: 9.6911\n",
      "Epoch 2/50\n",
      "3/3 [==============================] - 0s 15ms/step - loss: 12.7806 - val_loss: 9.5539\n",
      "Epoch 3/50\n",
      "3/3 [==============================] - 0s 15ms/step - loss: 11.2978 - val_loss: 8.8452\n",
      "Epoch 4/50\n",
      "3/3 [==============================] - 0s 15ms/step - loss: 9.7368 - val_loss: 6.8091\n",
      "Epoch 5/50\n",
      "3/3 [==============================] - 0s 14ms/step - loss: 9.3780 - val_loss: 6.4742\n",
      "Epoch 6/50\n",
      "3/3 [==============================] - 0s 14ms/step - loss: 9.0047 - val_loss: 6.4257\n",
      "Epoch 7/50\n",
      "3/3 [==============================] - 0s 14ms/step - loss: 9.0137 - val_loss: 5.9972\n",
      "Epoch 8/50\n",
      "3/3 [==============================] - 0s 14ms/step - loss: 8.5955 - val_loss: 6.1236\n",
      "Epoch 9/50\n",
      "3/3 [==============================] - 0s 15ms/step - loss: 8.3322 - val_loss: 6.4490\n",
      "Epoch 10/50\n",
      "3/3 [==============================] - 0s 15ms/step - loss: 8.2701 - val_loss: 6.3329\n",
      "Epoch 11/50\n",
      "3/3 [==============================] - 0s 14ms/step - loss: 8.1404 - val_loss: 5.9959\n",
      "Epoch 12/50\n",
      "3/3 [==============================] - 0s 14ms/step - loss: 8.0743 - val_loss: 5.8813\n",
      "Epoch 13/50\n",
      "3/3 [==============================] - 0s 14ms/step - loss: 7.9793 - val_loss: 5.8333\n",
      "Epoch 14/50\n",
      "3/3 [==============================] - 0s 14ms/step - loss: 7.8864 - val_loss: 5.7502\n",
      "Epoch 15/50\n",
      "3/3 [==============================] - 0s 14ms/step - loss: 7.8428 - val_loss: 5.6952\n",
      "Epoch 16/50\n",
      "3/3 [==============================] - 0s 14ms/step - loss: 7.7828 - val_loss: 5.7203\n",
      "Epoch 17/50\n",
      "3/3 [==============================] - 0s 13ms/step - loss: 7.7191 - val_loss: 5.7703\n",
      "Epoch 18/50\n",
      "3/3 [==============================] - 0s 14ms/step - loss: 7.6676 - val_loss: 5.7250\n",
      "Epoch 19/50\n",
      "3/3 [==============================] - 0s 15ms/step - loss: 7.6171 - val_loss: 5.6991\n",
      "Epoch 20/50\n",
      "3/3 [==============================] - 0s 15ms/step - loss: 7.5730 - val_loss: 5.6602\n",
      "Epoch 21/50\n",
      "3/3 [==============================] - 0s 15ms/step - loss: 7.5211 - val_loss: 5.6679\n",
      "Epoch 22/50\n",
      "3/3 [==============================] - 0s 18ms/step - loss: 7.4738 - val_loss: 5.5989\n",
      "Epoch 23/50\n",
      "3/3 [==============================] - 0s 13ms/step - loss: 7.4264 - val_loss: 5.6119\n",
      "Epoch 24/50\n",
      "3/3 [==============================] - 0s 13ms/step - loss: 7.3824 - val_loss: 5.6136\n",
      "Epoch 25/50\n",
      "3/3 [==============================] - 0s 13ms/step - loss: 7.3369 - val_loss: 5.5951\n",
      "Epoch 26/50\n",
      "3/3 [==============================] - 0s 13ms/step - loss: 7.2943 - val_loss: 5.5895\n",
      "Epoch 27/50\n",
      "3/3 [==============================] - 0s 15ms/step - loss: 7.2528 - val_loss: 5.5770\n",
      "Epoch 28/50\n",
      "3/3 [==============================] - 0s 15ms/step - loss: 7.2096 - val_loss: 5.5781\n",
      "Epoch 29/50\n",
      "3/3 [==============================] - 0s 14ms/step - loss: 7.1687 - val_loss: 5.5491\n",
      "Epoch 30/50\n",
      "3/3 [==============================] - 0s 15ms/step - loss: 7.1315 - val_loss: 5.5873\n",
      "Epoch 31/50\n",
      "3/3 [==============================] - 0s 14ms/step - loss: 7.0913 - val_loss: 5.5628\n",
      "Epoch 32/50\n",
      "3/3 [==============================] - 0s 14ms/step - loss: 7.0519 - val_loss: 5.5689\n",
      "Epoch 33/50\n",
      "3/3 [==============================] - 0s 13ms/step - loss: 7.0128 - val_loss: 5.5421\n",
      "Epoch 34/50\n",
      "3/3 [==============================] - 0s 13ms/step - loss: 6.9759 - val_loss: 5.5695\n",
      "Epoch 35/50\n",
      "3/3 [==============================] - 0s 14ms/step - loss: 6.9415 - val_loss: 5.5555\n",
      "Epoch 36/50\n",
      "3/3 [==============================] - 0s 14ms/step - loss: 6.9055 - val_loss: 5.5993\n",
      "Epoch 37/50\n",
      "3/3 [==============================] - 0s 29ms/step - loss: 6.8721 - val_loss: 5.6033\n",
      "Epoch 38/50\n",
      "3/3 [==============================] - 0s 15ms/step - loss: 6.8388 - val_loss: 5.6014\n",
      "Epoch 39/50\n",
      "3/3 [==============================] - 0s 14ms/step - loss: 6.8071 - val_loss: 5.6127\n",
      "Epoch 40/50\n",
      "3/3 [==============================] - 0s 15ms/step - loss: 6.7756 - val_loss: 5.5958\n",
      "Epoch 41/50\n",
      "3/3 [==============================] - 0s 14ms/step - loss: 6.7473 - val_loss: 5.6265\n",
      "Epoch 42/50\n",
      "3/3 [==============================] - 0s 14ms/step - loss: 6.7185 - val_loss: 5.6129\n",
      "Epoch 43/50\n",
      "3/3 [==============================] - 0s 14ms/step - loss: 6.6928 - val_loss: 5.6597\n",
      "Epoch 44/50\n",
      "3/3 [==============================] - 0s 14ms/step - loss: 6.6662 - val_loss: 5.6628\n",
      "Epoch 45/50\n",
      "3/3 [==============================] - 0s 15ms/step - loss: 6.6407 - val_loss: 5.6798\n",
      "Epoch 46/50\n",
      "3/3 [==============================] - 0s 15ms/step - loss: 6.6152 - val_loss: 5.7214\n",
      "Epoch 47/50\n",
      "3/3 [==============================] - 0s 14ms/step - loss: 6.5931 - val_loss: 5.6573\n",
      "Epoch 48/50\n",
      "3/3 [==============================] - 0s 14ms/step - loss: 6.5722 - val_loss: 5.7661\n",
      "Epoch 49/50\n",
      "3/3 [==============================] - 0s 15ms/step - loss: 6.5541 - val_loss: 5.7444\n",
      "Epoch 50/50\n",
      "3/3 [==============================] - 0s 14ms/step - loss: 6.5301 - val_loss: 5.7175\n",
      "============== EVALUATION ==============\n"
     ]
    },
    {
     "name": "stderr",
     "output_type": "stream",
     "text": [
      "C:\\Users\\Baejs\\anaconda3\\envs\\bae\\lib\\site-packages\\keras\\src\\engine\\training.py:3000: UserWarning: You are saving your model as an HDF5 file via `model.save()`. This file format is considered legacy. We recommend using instead the native Keras format, e.g. `model.save('my_model.keras')`.\n",
      "  saving_api.save_model(\n",
      "  0%|                                                                                           | 0/10 [00:00<?, ?it/s]"
     ]
    },
    {
     "name": "stdout",
     "output_type": "stream",
     "text": [
      "10/10 [==============================] - 0s 1ms/step\n"
     ]
    },
    {
     "name": "stderr",
     "output_type": "stream",
     "text": [
      " 10%|████████▎                                                                          | 1/10 [00:00<00:00,  9.24it/s]"
     ]
    },
    {
     "name": "stdout",
     "output_type": "stream",
     "text": [
      "10/10 [==============================] - 0s 1ms/step\n",
      "10/10 [==============================] - 0s 1ms/step\n"
     ]
    },
    {
     "name": "stderr",
     "output_type": "stream",
     "text": [
      " 30%|████████████████████████▉                                                          | 3/10 [00:00<00:00, 12.06it/s]"
     ]
    },
    {
     "name": "stdout",
     "output_type": "stream",
     "text": [
      "10/10 [==============================] - 0s 1ms/step\n",
      "10/10 [==============================] - 0s 1ms/step\n"
     ]
    },
    {
     "name": "stderr",
     "output_type": "stream",
     "text": [
      " 50%|█████████████████████████████████████████▌                                         | 5/10 [00:00<00:00, 12.46it/s]"
     ]
    },
    {
     "name": "stdout",
     "output_type": "stream",
     "text": [
      "10/10 [==============================] - 0s 1ms/step\n",
      "10/10 [==============================] - 0s 975us/step\n"
     ]
    },
    {
     "name": "stderr",
     "output_type": "stream",
     "text": [
      " 70%|██████████████████████████████████████████████████████████                         | 7/10 [00:00<00:00, 13.22it/s]"
     ]
    },
    {
     "name": "stdout",
     "output_type": "stream",
     "text": [
      "10/10 [==============================] - 0s 998us/step\n",
      "10/10 [==============================] - 0s 1ms/step\n"
     ]
    },
    {
     "name": "stderr",
     "output_type": "stream",
     "text": [
      " 90%|██████████████████████████████████████████████████████████████████████████▋        | 9/10 [00:00<00:00, 13.77it/s]"
     ]
    },
    {
     "name": "stdout",
     "output_type": "stream",
     "text": [
      "10/10 [==============================] - 0s 1ms/step\n"
     ]
    },
    {
     "name": "stderr",
     "output_type": "stream",
     "text": [
      "100%|██████████████████████████████████████████████████████████████████████████████████| 10/10 [00:00<00:00, 13.20it/s]\n",
      "2023-08-26 01:03:41,776 - INFO - AUC : 0.6\n"
     ]
    },
    {
     "name": "stdout",
     "output_type": "stream",
     "text": [
      "===========================\n",
      "Model file not found for fan -> id_04. Skipping...\n",
      "\n",
      "Training transfer model for fan -> id_04 using pretrain model pretrain_('slider', 'pump')\n",
      "Epoch 1/50\n",
      "3/3 [==============================] - 1s 63ms/step - loss: 12.5038 - val_loss: 12.9719\n",
      "Epoch 2/50\n",
      "3/3 [==============================] - 0s 15ms/step - loss: 12.1190 - val_loss: 8.1004\n",
      "Epoch 3/50\n",
      "3/3 [==============================] - 0s 14ms/step - loss: 10.7921 - val_loss: 7.5114\n",
      "Epoch 4/50\n",
      "3/3 [==============================] - 0s 15ms/step - loss: 9.5005 - val_loss: 7.1328\n",
      "Epoch 5/50\n",
      "3/3 [==============================] - 0s 15ms/step - loss: 9.6541 - val_loss: 6.3335\n",
      "Epoch 6/50\n",
      "3/3 [==============================] - 0s 15ms/step - loss: 8.9532 - val_loss: 6.7417\n",
      "Epoch 7/50\n",
      "3/3 [==============================] - 0s 15ms/step - loss: 8.9985 - val_loss: 6.7449\n",
      "Epoch 8/50\n",
      "3/3 [==============================] - 0s 14ms/step - loss: 8.7671 - val_loss: 6.9677\n",
      "Epoch 9/50\n",
      "3/3 [==============================] - 0s 15ms/step - loss: 8.5880 - val_loss: 6.6303\n",
      "Epoch 10/50\n",
      "3/3 [==============================] - 0s 15ms/step - loss: 8.5799 - val_loss: 6.4188\n",
      "Epoch 11/50\n",
      "3/3 [==============================] - 0s 15ms/step - loss: 8.4023 - val_loss: 6.4641\n",
      "Epoch 12/50\n",
      "3/3 [==============================] - 0s 15ms/step - loss: 8.3741 - val_loss: 6.3413\n",
      "Epoch 13/50\n",
      "3/3 [==============================] - 0s 15ms/step - loss: 8.2977 - val_loss: 6.3446\n",
      "Epoch 14/50\n",
      "3/3 [==============================] - 0s 15ms/step - loss: 8.2099 - val_loss: 6.4770\n",
      "Epoch 15/50\n",
      "3/3 [==============================] - 0s 13ms/step - loss: 8.1818 - val_loss: 6.3651\n",
      "Epoch 16/50\n",
      "3/3 [==============================] - 0s 13ms/step - loss: 8.1237 - val_loss: 6.3648\n",
      "Epoch 17/50\n",
      "3/3 [==============================] - 0s 13ms/step - loss: 8.0719 - val_loss: 6.4161\n",
      "Epoch 18/50\n",
      "3/3 [==============================] - 0s 14ms/step - loss: 8.0361 - val_loss: 6.3230\n",
      "Epoch 19/50\n",
      "3/3 [==============================] - 0s 14ms/step - loss: 7.9954 - val_loss: 6.3671\n",
      "Epoch 20/50\n",
      "3/3 [==============================] - 0s 15ms/step - loss: 7.9557 - val_loss: 6.3684\n",
      "Epoch 21/50\n",
      "3/3 [==============================] - 0s 15ms/step - loss: 7.9237 - val_loss: 6.3217\n",
      "Epoch 22/50\n",
      "3/3 [==============================] - 0s 14ms/step - loss: 7.8869 - val_loss: 6.3975\n",
      "Epoch 23/50\n",
      "3/3 [==============================] - 0s 15ms/step - loss: 7.8562 - val_loss: 6.3754\n",
      "Epoch 24/50\n",
      "3/3 [==============================] - 0s 14ms/step - loss: 7.8227 - val_loss: 6.3708\n",
      "Epoch 25/50\n",
      "3/3 [==============================] - 0s 14ms/step - loss: 7.7951 - val_loss: 6.3263\n",
      "Epoch 26/50\n",
      "3/3 [==============================] - 0s 27ms/step - loss: 7.7680 - val_loss: 6.3120\n",
      "Epoch 27/50\n",
      "3/3 [==============================] - 0s 14ms/step - loss: 7.7403 - val_loss: 6.3371\n",
      "Epoch 28/50\n",
      "3/3 [==============================] - 0s 13ms/step - loss: 7.7153 - val_loss: 6.3980\n",
      "Epoch 29/50\n",
      "3/3 [==============================] - 0s 14ms/step - loss: 7.6927 - val_loss: 6.4351\n",
      "Epoch 30/50\n",
      "3/3 [==============================] - 0s 14ms/step - loss: 7.6697 - val_loss: 6.3441\n",
      "Epoch 31/50\n",
      "3/3 [==============================] - 0s 14ms/step - loss: 7.6554 - val_loss: 6.3868\n",
      "Epoch 32/50\n",
      "3/3 [==============================] - 0s 14ms/step - loss: 7.6336 - val_loss: 6.4953\n",
      "Epoch 33/50\n",
      "3/3 [==============================] - 0s 15ms/step - loss: 7.6147 - val_loss: 6.5084\n",
      "Epoch 34/50\n",
      "3/3 [==============================] - 0s 14ms/step - loss: 7.6081 - val_loss: 6.3772\n",
      "Epoch 35/50\n",
      "3/3 [==============================] - 0s 14ms/step - loss: 7.5897 - val_loss: 6.5548\n",
      "Epoch 36/50\n",
      "3/3 [==============================] - 0s 15ms/step - loss: 7.5793 - val_loss: 6.5544\n",
      "Epoch 37/50\n",
      "3/3 [==============================] - 0s 15ms/step - loss: 7.5661 - val_loss: 6.4282\n",
      "Epoch 38/50\n",
      "3/3 [==============================] - 0s 14ms/step - loss: 7.5555 - val_loss: 6.4610\n",
      "Epoch 39/50\n",
      "3/3 [==============================] - 0s 14ms/step - loss: 7.5465 - val_loss: 6.5204\n",
      "Epoch 40/50\n",
      "3/3 [==============================] - 0s 14ms/step - loss: 7.5387 - val_loss: 6.5523\n",
      "Epoch 41/50\n",
      "3/3 [==============================] - 0s 14ms/step - loss: 7.5334 - val_loss: 6.3784\n",
      "Epoch 42/50\n",
      "3/3 [==============================] - 0s 13ms/step - loss: 7.5233 - val_loss: 6.5449\n",
      "Epoch 43/50\n",
      "3/3 [==============================] - 0s 13ms/step - loss: 7.5136 - val_loss: 6.4790\n",
      "Epoch 44/50\n",
      "3/3 [==============================] - 0s 14ms/step - loss: 7.5082 - val_loss: 6.5981\n",
      "Epoch 45/50\n",
      "3/3 [==============================] - 0s 14ms/step - loss: 7.5016 - val_loss: 6.4438\n",
      "Epoch 46/50\n",
      "3/3 [==============================] - 0s 13ms/step - loss: 7.4967 - val_loss: 6.4794\n",
      "Epoch 47/50\n",
      "3/3 [==============================] - 0s 14ms/step - loss: 7.4900 - val_loss: 6.5260\n",
      "Epoch 48/50\n",
      "3/3 [==============================] - 0s 14ms/step - loss: 7.4842 - val_loss: 6.5179\n",
      "Epoch 49/50\n",
      "3/3 [==============================] - 0s 14ms/step - loss: 7.4790 - val_loss: 6.5082\n",
      "Epoch 50/50\n",
      "3/3 [==============================] - 0s 16ms/step - loss: 7.4757 - val_loss: 6.4431\n",
      "============== EVALUATION ==============\n"
     ]
    },
    {
     "name": "stderr",
     "output_type": "stream",
     "text": [
      "C:\\Users\\Baejs\\anaconda3\\envs\\bae\\lib\\site-packages\\keras\\src\\engine\\training.py:3000: UserWarning: You are saving your model as an HDF5 file via `model.save()`. This file format is considered legacy. We recommend using instead the native Keras format, e.g. `model.save('my_model.keras')`.\n",
      "  saving_api.save_model(\n",
      "  0%|                                                                                           | 0/10 [00:00<?, ?it/s]"
     ]
    },
    {
     "name": "stdout",
     "output_type": "stream",
     "text": [
      "10/10 [==============================] - 0s 1ms/step\n"
     ]
    },
    {
     "name": "stderr",
     "output_type": "stream",
     "text": [
      " 10%|████████▎                                                                          | 1/10 [00:00<00:01,  8.57it/s]"
     ]
    },
    {
     "name": "stdout",
     "output_type": "stream",
     "text": [
      "10/10 [==============================] - 0s 2ms/step\n",
      "10/10 [==============================] - 0s 1ms/step\n"
     ]
    },
    {
     "name": "stderr",
     "output_type": "stream",
     "text": [
      " 30%|████████████████████████▉                                                          | 3/10 [00:00<00:00, 11.15it/s]"
     ]
    },
    {
     "name": "stdout",
     "output_type": "stream",
     "text": [
      "10/10 [==============================] - 0s 1ms/step\n",
      "10/10 [==============================] - 0s 1ms/step\n"
     ]
    },
    {
     "name": "stderr",
     "output_type": "stream",
     "text": [
      " 50%|█████████████████████████████████████████▌                                         | 5/10 [00:00<00:00, 11.68it/s]"
     ]
    },
    {
     "name": "stdout",
     "output_type": "stream",
     "text": [
      "10/10 [==============================] - 0s 1ms/step\n",
      "10/10 [==============================] - 0s 1ms/step\n"
     ]
    },
    {
     "name": "stderr",
     "output_type": "stream",
     "text": [
      " 70%|██████████████████████████████████████████████████████████                         | 7/10 [00:00<00:00, 12.14it/s]"
     ]
    },
    {
     "name": "stdout",
     "output_type": "stream",
     "text": [
      "10/10 [==============================] - 0s 1ms/step\n",
      "10/10 [==============================] - 0s 4ms/step\n"
     ]
    },
    {
     "name": "stderr",
     "output_type": "stream",
     "text": [
      " 90%|██████████████████████████████████████████████████████████████████████████▋        | 9/10 [00:00<00:00, 11.62it/s]"
     ]
    },
    {
     "name": "stdout",
     "output_type": "stream",
     "text": [
      "10/10 [==============================] - 0s 1ms/step\n"
     ]
    },
    {
     "name": "stderr",
     "output_type": "stream",
     "text": [
      "100%|██████████████████████████████████████████████████████████████████████████████████| 10/10 [00:00<00:00, 11.63it/s]\n",
      "2023-08-26 01:03:45,386 - INFO - AUC : 0.7200000000000001\n",
      "2023-08-26 01:03:45,388 - INFO - target_dir : ../Sample_data\n",
      "2023-08-26 01:03:45,390 - INFO - train_file num : 5\n",
      "2023-08-26 01:03:45,391 - INFO - eval_file  num : 10\n"
     ]
    },
    {
     "name": "stdout",
     "output_type": "stream",
     "text": [
      "===========================\n",
      "Model file not found for fan -> id_04. Skipping...\n",
      "Model file not found for fan -> id_04. Skipping...\n",
      "\n",
      "===========================\n"
     ]
    },
    {
     "name": "stderr",
     "output_type": "stream",
     "text": [
      "generate train_dataset: 100%|████████████████████████████████████████████████████████████| 5/5 [00:00<00:00, 79.58it/s]\n",
      "2023-08-26 01:03:45,458 - INFO - save_pickle -> ./pickle_transfer_pretrain_v3/train_fan_id_06.pickle\n",
      "2023-08-26 01:03:45,463 - INFO - save_pickle -> ./pickle_transfer_pretrain_v3/eval_files_fan_id_06.pickle\n",
      "2023-08-26 01:03:45,465 - INFO - save_pickle -> ./pickle_transfer_pretrain_v3/eval_labels_fan_id_06.pickle\n"
     ]
    },
    {
     "name": "stdout",
     "output_type": "stream",
     "text": [
      "\n",
      "Training transfer model for fan -> id_06 using pretrain model pretrain_('valve', 'slider')\n",
      "Epoch 1/50\n",
      "3/3 [==============================] - 1s 65ms/step - loss: 13.5654 - val_loss: 9.4668\n",
      "Epoch 2/50\n",
      "3/3 [==============================] - 0s 15ms/step - loss: 10.8949 - val_loss: 7.2609\n",
      "Epoch 3/50\n",
      "3/3 [==============================] - 0s 14ms/step - loss: 8.4199 - val_loss: 8.1845\n",
      "Epoch 4/50\n",
      "3/3 [==============================] - 0s 15ms/step - loss: 9.2274 - val_loss: 7.1457\n",
      "Epoch 5/50\n",
      "3/3 [==============================] - 0s 16ms/step - loss: 7.9255 - val_loss: 7.9203\n",
      "Epoch 6/50\n",
      "3/3 [==============================] - 0s 16ms/step - loss: 8.0835 - val_loss: 7.1660\n",
      "Epoch 7/50\n",
      "3/3 [==============================] - 0s 15ms/step - loss: 7.4907 - val_loss: 7.0839\n",
      "Epoch 8/50\n",
      "3/3 [==============================] - 0s 15ms/step - loss: 7.6478 - val_loss: 6.8342\n",
      "Epoch 9/50\n",
      "3/3 [==============================] - 0s 14ms/step - loss: 7.4085 - val_loss: 6.8690\n",
      "Epoch 10/50\n",
      "3/3 [==============================] - 0s 15ms/step - loss: 7.4209 - val_loss: 6.6519\n",
      "Epoch 11/50\n",
      "3/3 [==============================] - 0s 14ms/step - loss: 7.2888 - val_loss: 6.6333\n",
      "Epoch 12/50\n",
      "3/3 [==============================] - 0s 15ms/step - loss: 7.2952 - val_loss: 6.6761\n",
      "Epoch 13/50\n",
      "3/3 [==============================] - 0s 14ms/step - loss: 7.2327 - val_loss: 6.8375\n",
      "Epoch 14/50\n",
      "3/3 [==============================] - 0s 14ms/step - loss: 7.2416 - val_loss: 6.6901\n",
      "Epoch 15/50\n",
      "3/3 [==============================] - 0s 14ms/step - loss: 7.1994 - val_loss: 6.6332\n",
      "Epoch 16/50\n",
      "3/3 [==============================] - 0s 14ms/step - loss: 7.2000 - val_loss: 6.6219\n",
      "Epoch 17/50\n",
      "3/3 [==============================] - 0s 14ms/step - loss: 7.1793 - val_loss: 6.6299\n",
      "Epoch 18/50\n",
      "3/3 [==============================] - 0s 13ms/step - loss: 7.1747 - val_loss: 6.5835\n",
      "Epoch 19/50\n",
      "3/3 [==============================] - 0s 15ms/step - loss: 7.1647 - val_loss: 6.5682\n",
      "Epoch 20/50\n",
      "3/3 [==============================] - 0s 16ms/step - loss: 7.1584 - val_loss: 6.6211\n",
      "Epoch 21/50\n",
      "3/3 [==============================] - 0s 13ms/step - loss: 7.1553 - val_loss: 6.6669\n",
      "Epoch 22/50\n",
      "3/3 [==============================] - 0s 16ms/step - loss: 7.1512 - val_loss: 6.5926\n",
      "Epoch 23/50\n",
      "3/3 [==============================] - 0s 15ms/step - loss: 7.1476 - val_loss: 6.6093\n",
      "Epoch 24/50\n",
      "3/3 [==============================] - 0s 14ms/step - loss: 7.1442 - val_loss: 6.5409\n",
      "Epoch 25/50\n",
      "3/3 [==============================] - 0s 15ms/step - loss: 7.1407 - val_loss: 6.5670\n",
      "Epoch 26/50\n",
      "3/3 [==============================] - 0s 13ms/step - loss: 7.1364 - val_loss: 6.6514\n",
      "Epoch 27/50\n",
      "3/3 [==============================] - 0s 21ms/step - loss: 7.1342 - val_loss: 6.6025\n",
      "Epoch 28/50\n",
      "3/3 [==============================] - 0s 13ms/step - loss: 7.1316 - val_loss: 6.5378\n",
      "Epoch 29/50\n",
      "3/3 [==============================] - 0s 14ms/step - loss: 7.1275 - val_loss: 6.5443\n",
      "Epoch 30/50\n",
      "3/3 [==============================] - 0s 14ms/step - loss: 7.1261 - val_loss: 6.5499\n",
      "Epoch 31/50\n",
      "3/3 [==============================] - 0s 13ms/step - loss: 7.1219 - val_loss: 6.4907\n",
      "Epoch 32/50\n",
      "3/3 [==============================] - 0s 15ms/step - loss: 7.1159 - val_loss: 6.5363\n",
      "Epoch 33/50\n",
      "3/3 [==============================] - 0s 15ms/step - loss: 7.1133 - val_loss: 6.5506\n",
      "Epoch 34/50\n",
      "3/3 [==============================] - 0s 14ms/step - loss: 7.1076 - val_loss: 6.5539\n",
      "Epoch 35/50\n",
      "3/3 [==============================] - 0s 13ms/step - loss: 7.1037 - val_loss: 6.4999\n",
      "Epoch 36/50\n",
      "3/3 [==============================] - 0s 14ms/step - loss: 7.0982 - val_loss: 6.4722\n",
      "Epoch 37/50\n",
      "3/3 [==============================] - 0s 14ms/step - loss: 7.0929 - val_loss: 6.5147\n",
      "Epoch 38/50\n",
      "3/3 [==============================] - 0s 14ms/step - loss: 7.0885 - val_loss: 6.4990\n",
      "Epoch 39/50\n",
      "3/3 [==============================] - 0s 13ms/step - loss: 7.0846 - val_loss: 6.5212\n",
      "Epoch 40/50\n",
      "3/3 [==============================] - 0s 15ms/step - loss: 7.0795 - val_loss: 6.3965\n",
      "Epoch 41/50\n",
      "3/3 [==============================] - 0s 14ms/step - loss: 7.0735 - val_loss: 6.4426\n",
      "Epoch 42/50\n",
      "3/3 [==============================] - 0s 14ms/step - loss: 7.0672 - val_loss: 6.4951\n",
      "Epoch 43/50\n",
      "3/3 [==============================] - 0s 15ms/step - loss: 7.0639 - val_loss: 6.4534\n",
      "Epoch 44/50\n",
      "3/3 [==============================] - 0s 17ms/step - loss: 7.0575 - val_loss: 6.4205\n",
      "Epoch 45/50\n",
      "3/3 [==============================] - 0s 15ms/step - loss: 7.0532 - val_loss: 6.3813\n",
      "Epoch 46/50\n",
      "3/3 [==============================] - 0s 15ms/step - loss: 7.0462 - val_loss: 6.4328\n",
      "Epoch 47/50\n",
      "3/3 [==============================] - 0s 13ms/step - loss: 7.0413 - val_loss: 6.4050\n",
      "Epoch 48/50\n",
      "3/3 [==============================] - 0s 16ms/step - loss: 7.0354 - val_loss: 6.3922\n",
      "Epoch 49/50\n",
      "3/3 [==============================] - 0s 16ms/step - loss: 7.0316 - val_loss: 6.4116\n",
      "Epoch 50/50\n",
      "3/3 [==============================] - 0s 17ms/step - loss: 7.0239 - val_loss: 6.3446\n",
      "============== EVALUATION ==============\n"
     ]
    },
    {
     "name": "stderr",
     "output_type": "stream",
     "text": [
      "C:\\Users\\Baejs\\anaconda3\\envs\\bae\\lib\\site-packages\\keras\\src\\engine\\training.py:3000: UserWarning: You are saving your model as an HDF5 file via `model.save()`. This file format is considered legacy. We recommend using instead the native Keras format, e.g. `model.save('my_model.keras')`.\n",
      "  saving_api.save_model(\n",
      "  0%|                                                                                           | 0/10 [00:00<?, ?it/s]"
     ]
    },
    {
     "name": "stdout",
     "output_type": "stream",
     "text": [
      "10/10 [==============================] - 0s 2ms/step\n"
     ]
    },
    {
     "name": "stderr",
     "output_type": "stream",
     "text": [
      " 10%|████████▎                                                                          | 1/10 [00:00<00:01,  8.43it/s]"
     ]
    },
    {
     "name": "stdout",
     "output_type": "stream",
     "text": [
      "10/10 [==============================] - 0s 1ms/step\n",
      "10/10 [==============================] - 0s 2ms/step\n"
     ]
    },
    {
     "name": "stderr",
     "output_type": "stream",
     "text": [
      " 30%|████████████████████████▉                                                          | 3/10 [00:00<00:00, 11.57it/s]"
     ]
    },
    {
     "name": "stdout",
     "output_type": "stream",
     "text": [
      "10/10 [==============================] - 0s 1ms/step\n",
      "10/10 [==============================] - 0s 1ms/step\n"
     ]
    },
    {
     "name": "stderr",
     "output_type": "stream",
     "text": [
      " 50%|█████████████████████████████████████████▌                                         | 5/10 [00:00<00:00, 12.38it/s]"
     ]
    },
    {
     "name": "stdout",
     "output_type": "stream",
     "text": [
      "10/10 [==============================] - 0s 1ms/step\n",
      "10/10 [==============================] - 0s 1ms/step\n"
     ]
    },
    {
     "name": "stderr",
     "output_type": "stream",
     "text": [
      " 70%|██████████████████████████████████████████████████████████                         | 7/10 [00:00<00:00, 12.72it/s]"
     ]
    },
    {
     "name": "stdout",
     "output_type": "stream",
     "text": [
      "10/10 [==============================] - 0s 1ms/step\n",
      "10/10 [==============================] - 0s 1ms/step\n"
     ]
    },
    {
     "name": "stderr",
     "output_type": "stream",
     "text": [
      " 90%|██████████████████████████████████████████████████████████████████████████▋        | 9/10 [00:00<00:00, 12.23it/s]"
     ]
    },
    {
     "name": "stdout",
     "output_type": "stream",
     "text": [
      "10/10 [==============================] - 0s 1ms/step\n"
     ]
    },
    {
     "name": "stderr",
     "output_type": "stream",
     "text": [
      "100%|██████████████████████████████████████████████████████████████████████████████████| 10/10 [00:00<00:00, 12.24it/s]\n",
      "2023-08-26 01:03:49,088 - INFO - AUC : 0.8400000000000001\n"
     ]
    },
    {
     "name": "stdout",
     "output_type": "stream",
     "text": [
      "===========================\n",
      "\n",
      "Training transfer model for fan -> id_06 using pretrain model pretrain_('valve', 'pump')\n",
      "Epoch 1/50\n",
      "3/3 [==============================] - 1s 61ms/step - loss: 13.5850 - val_loss: 8.5564\n",
      "Epoch 2/50\n",
      "3/3 [==============================] - 0s 15ms/step - loss: 10.9177 - val_loss: 8.3616\n",
      "Epoch 3/50\n",
      "3/3 [==============================] - 0s 15ms/step - loss: 8.8215 - val_loss: 9.3682\n",
      "Epoch 4/50\n",
      "3/3 [==============================] - 0s 16ms/step - loss: 8.7095 - val_loss: 7.0058\n",
      "Epoch 5/50\n",
      "3/3 [==============================] - 0s 17ms/step - loss: 7.5653 - val_loss: 7.1030\n",
      "Epoch 6/50\n",
      "3/3 [==============================] - 0s 16ms/step - loss: 7.3519 - val_loss: 7.3363\n",
      "Epoch 7/50\n",
      "3/3 [==============================] - 0s 15ms/step - loss: 7.1408 - val_loss: 7.5799\n",
      "Epoch 8/50\n",
      "3/3 [==============================] - 0s 15ms/step - loss: 6.9673 - val_loss: 6.7237\n",
      "Epoch 9/50\n",
      "3/3 [==============================] - 0s 15ms/step - loss: 6.7472 - val_loss: 6.4010\n",
      "Epoch 10/50\n",
      "3/3 [==============================] - 0s 14ms/step - loss: 6.6729 - val_loss: 6.4817\n",
      "Epoch 11/50\n",
      "3/3 [==============================] - 0s 15ms/step - loss: 6.5670 - val_loss: 6.8506\n",
      "Epoch 12/50\n",
      "3/3 [==============================] - 0s 15ms/step - loss: 6.5727 - val_loss: 6.5210\n",
      "Epoch 13/50\n",
      "3/3 [==============================] - 0s 15ms/step - loss: 6.4761 - val_loss: 6.3899\n",
      "Epoch 14/50\n",
      "3/3 [==============================] - 0s 15ms/step - loss: 6.4436 - val_loss: 6.4820\n",
      "Epoch 15/50\n",
      "3/3 [==============================] - 0s 14ms/step - loss: 6.3904 - val_loss: 6.6817\n",
      "Epoch 16/50\n",
      "3/3 [==============================] - 0s 15ms/step - loss: 6.3659 - val_loss: 6.3811\n",
      "Epoch 17/50\n",
      "3/3 [==============================] - 0s 15ms/step - loss: 6.3208 - val_loss: 6.2757\n",
      "Epoch 18/50\n",
      "3/3 [==============================] - 0s 15ms/step - loss: 6.2924 - val_loss: 6.3441\n",
      "Epoch 19/50\n",
      "3/3 [==============================] - 0s 15ms/step - loss: 6.2664 - val_loss: 6.4246\n",
      "Epoch 20/50\n",
      "3/3 [==============================] - 0s 15ms/step - loss: 6.2373 - val_loss: 6.3350\n",
      "Epoch 21/50\n",
      "3/3 [==============================] - 0s 14ms/step - loss: 6.2121 - val_loss: 6.3109\n",
      "Epoch 22/50\n",
      "3/3 [==============================] - 0s 14ms/step - loss: 6.1887 - val_loss: 6.3018\n",
      "Epoch 23/50\n",
      "3/3 [==============================] - 0s 15ms/step - loss: 6.1673 - val_loss: 6.2802\n",
      "Epoch 24/50\n",
      "3/3 [==============================] - 0s 14ms/step - loss: 6.1456 - val_loss: 6.2317\n",
      "Epoch 25/50\n",
      "3/3 [==============================] - 0s 14ms/step - loss: 6.1264 - val_loss: 6.2579\n",
      "Epoch 26/50\n",
      "3/3 [==============================] - 0s 14ms/step - loss: 6.1045 - val_loss: 6.2543\n",
      "Epoch 27/50\n",
      "3/3 [==============================] - 0s 16ms/step - loss: 6.0858 - val_loss: 6.2139\n",
      "Epoch 28/50\n",
      "3/3 [==============================] - 0s 18ms/step - loss: 6.0657 - val_loss: 6.2236\n",
      "Epoch 29/50\n",
      "3/3 [==============================] - 0s 20ms/step - loss: 6.0462 - val_loss: 6.1012\n",
      "Epoch 30/50\n",
      "3/3 [==============================] - 0s 16ms/step - loss: 6.0262 - val_loss: 6.1800\n",
      "Epoch 31/50\n",
      "3/3 [==============================] - 0s 15ms/step - loss: 6.0075 - val_loss: 6.0910\n",
      "Epoch 32/50\n",
      "3/3 [==============================] - 0s 15ms/step - loss: 5.9899 - val_loss: 6.1858\n",
      "Epoch 33/50\n",
      "3/3 [==============================] - 0s 14ms/step - loss: 5.9722 - val_loss: 6.0390\n",
      "Epoch 34/50\n",
      "3/3 [==============================] - 0s 14ms/step - loss: 5.9500 - val_loss: 6.0992\n",
      "Epoch 35/50\n",
      "3/3 [==============================] - 0s 13ms/step - loss: 5.9299 - val_loss: 5.9791\n",
      "Epoch 36/50\n",
      "3/3 [==============================] - 0s 16ms/step - loss: 5.9110 - val_loss: 6.0071\n",
      "Epoch 37/50\n",
      "3/3 [==============================] - 0s 14ms/step - loss: 5.8904 - val_loss: 5.9699\n",
      "Epoch 38/50\n",
      "3/3 [==============================] - 0s 15ms/step - loss: 5.8733 - val_loss: 5.9465\n",
      "Epoch 39/50\n",
      "3/3 [==============================] - 0s 16ms/step - loss: 5.8544 - val_loss: 5.9403\n",
      "Epoch 40/50\n",
      "3/3 [==============================] - 0s 16ms/step - loss: 5.8381 - val_loss: 5.9421\n",
      "Epoch 41/50\n",
      "3/3 [==============================] - 0s 15ms/step - loss: 5.8209 - val_loss: 5.7890\n",
      "Epoch 42/50\n",
      "3/3 [==============================] - 0s 15ms/step - loss: 5.8076 - val_loss: 5.8157\n",
      "Epoch 43/50\n",
      "3/3 [==============================] - 0s 15ms/step - loss: 5.7913 - val_loss: 5.8620\n",
      "Epoch 44/50\n",
      "3/3 [==============================] - 0s 15ms/step - loss: 5.7787 - val_loss: 5.7465\n",
      "Epoch 45/50\n",
      "3/3 [==============================] - 0s 14ms/step - loss: 5.7666 - val_loss: 5.7837\n",
      "Epoch 46/50\n",
      "3/3 [==============================] - 0s 14ms/step - loss: 5.7494 - val_loss: 5.7280\n",
      "Epoch 47/50\n",
      "3/3 [==============================] - 0s 14ms/step - loss: 5.7336 - val_loss: 5.6435\n",
      "Epoch 48/50\n",
      "3/3 [==============================] - 0s 14ms/step - loss: 5.7209 - val_loss: 5.6712\n",
      "Epoch 49/50\n",
      "3/3 [==============================] - 0s 15ms/step - loss: 5.7031 - val_loss: 5.6736\n",
      "Epoch 50/50\n",
      "3/3 [==============================] - 0s 14ms/step - loss: 5.6907 - val_loss: 5.5766\n",
      "============== EVALUATION =============="
     ]
    },
    {
     "name": "stderr",
     "output_type": "stream",
     "text": [
      "C:\\Users\\Baejs\\anaconda3\\envs\\bae\\lib\\site-packages\\keras\\src\\engine\\training.py:3000: UserWarning: You are saving your model as an HDF5 file via `model.save()`. This file format is considered legacy. We recommend using instead the native Keras format, e.g. `model.save('my_model.keras')`.\n",
      "  saving_api.save_model(\n"
     ]
    },
    {
     "name": "stdout",
     "output_type": "stream",
     "text": [
      "\n"
     ]
    },
    {
     "name": "stderr",
     "output_type": "stream",
     "text": [
      "  0%|                                                                                           | 0/10 [00:00<?, ?it/s]"
     ]
    },
    {
     "name": "stdout",
     "output_type": "stream",
     "text": [
      "10/10 [==============================] - 0s 1ms/step\n"
     ]
    },
    {
     "name": "stderr",
     "output_type": "stream",
     "text": [
      " 10%|████████▎                                                                          | 1/10 [00:00<00:01,  8.50it/s]"
     ]
    },
    {
     "name": "stdout",
     "output_type": "stream",
     "text": [
      "10/10 [==============================] - 0s 1ms/step\n",
      "10/10 [==============================] - 0s 997us/step\n"
     ]
    },
    {
     "name": "stderr",
     "output_type": "stream",
     "text": [
      " 30%|████████████████████████▉                                                          | 3/10 [00:00<00:00, 11.36it/s]"
     ]
    },
    {
     "name": "stdout",
     "output_type": "stream",
     "text": [
      "10/10 [==============================] - 0s 1ms/step\n",
      "10/10 [==============================] - 0s 1ms/step\n"
     ]
    },
    {
     "name": "stderr",
     "output_type": "stream",
     "text": [
      " 50%|█████████████████████████████████████████▌                                         | 5/10 [00:00<00:00, 12.32it/s]"
     ]
    },
    {
     "name": "stdout",
     "output_type": "stream",
     "text": [
      "10/10 [==============================] - 0s 1ms/step\n",
      "10/10 [==============================] - 0s 2ms/step\n"
     ]
    },
    {
     "name": "stderr",
     "output_type": "stream",
     "text": [
      " 70%|██████████████████████████████████████████████████████████                         | 7/10 [00:00<00:00, 12.76it/s]"
     ]
    },
    {
     "name": "stdout",
     "output_type": "stream",
     "text": [
      "10/10 [==============================] - 0s 1ms/step\n",
      "10/10 [==============================] - 0s 1ms/step\n"
     ]
    },
    {
     "name": "stderr",
     "output_type": "stream",
     "text": [
      " 90%|██████████████████████████████████████████████████████████████████████████▋        | 9/10 [00:00<00:00, 13.00it/s]"
     ]
    },
    {
     "name": "stdout",
     "output_type": "stream",
     "text": [
      "10/10 [==============================] - 0s 1ms/step\n"
     ]
    },
    {
     "name": "stderr",
     "output_type": "stream",
     "text": [
      "100%|██████████████████████████████████████████████████████████████████████████████████| 10/10 [00:00<00:00, 12.23it/s]\n",
      "2023-08-26 01:03:52,737 - INFO - AUC : 0.8\n"
     ]
    },
    {
     "name": "stdout",
     "output_type": "stream",
     "text": [
      "===========================\n",
      "Model file not found for fan -> id_06. Skipping...\n",
      "\n",
      "Training transfer model for fan -> id_06 using pretrain model pretrain_('slider', 'pump')\n",
      "Epoch 1/50\n",
      "3/3 [==============================] - 1s 60ms/step - loss: 12.8958 - val_loss: 10.1339\n",
      "Epoch 2/50\n",
      "3/3 [==============================] - 0s 16ms/step - loss: 10.8508 - val_loss: 6.6751\n",
      "Epoch 3/50\n",
      "3/3 [==============================] - 0s 17ms/step - loss: 9.3881 - val_loss: 7.7373\n",
      "Epoch 4/50\n",
      "3/3 [==============================] - 0s 15ms/step - loss: 8.5934 - val_loss: 7.9035\n",
      "Epoch 5/50\n",
      "3/3 [==============================] - 0s 15ms/step - loss: 8.3421 - val_loss: 7.4211\n",
      "Epoch 6/50\n",
      "3/3 [==============================] - 0s 15ms/step - loss: 7.6040 - val_loss: 7.3134\n",
      "Epoch 7/50\n",
      "3/3 [==============================] - 0s 15ms/step - loss: 7.7194 - val_loss: 6.8560\n",
      "Epoch 8/50\n",
      "3/3 [==============================] - 0s 14ms/step - loss: 7.4778 - val_loss: 6.8938\n",
      "Epoch 9/50\n",
      "3/3 [==============================] - 0s 15ms/step - loss: 7.4193 - val_loss: 6.8695\n",
      "Epoch 10/50\n",
      "3/3 [==============================] - 0s 14ms/step - loss: 7.3490 - val_loss: 6.7677\n",
      "Epoch 11/50\n",
      "3/3 [==============================] - 0s 14ms/step - loss: 7.2596 - val_loss: 6.6321\n",
      "Epoch 12/50\n",
      "3/3 [==============================] - 0s 15ms/step - loss: 7.2310 - val_loss: 6.6200\n",
      "Epoch 13/50\n",
      "3/3 [==============================] - 0s 16ms/step - loss: 7.1819 - val_loss: 6.6730\n",
      "Epoch 14/50\n",
      "3/3 [==============================] - 0s 16ms/step - loss: 7.1507 - val_loss: 6.6741\n",
      "Epoch 15/50\n",
      "3/3 [==============================] - 0s 14ms/step - loss: 7.1198 - val_loss: 6.6229\n",
      "Epoch 16/50\n",
      "3/3 [==============================] - 0s 15ms/step - loss: 7.1009 - val_loss: 6.5679\n",
      "Epoch 17/50\n",
      "3/3 [==============================] - 0s 16ms/step - loss: 7.0903 - val_loss: 6.5150\n",
      "Epoch 18/50\n",
      "3/3 [==============================] - 0s 15ms/step - loss: 7.0725 - val_loss: 6.4773\n",
      "Epoch 19/50\n",
      "3/3 [==============================] - 0s 15ms/step - loss: 7.0614 - val_loss: 6.5648\n",
      "Epoch 20/50\n",
      "3/3 [==============================] - 0s 13ms/step - loss: 7.0501 - val_loss: 6.5074\n",
      "Epoch 21/50\n",
      "3/3 [==============================] - 0s 14ms/step - loss: 7.0424 - val_loss: 6.4572\n",
      "Epoch 22/50\n",
      "3/3 [==============================] - 0s 14ms/step - loss: 7.0279 - val_loss: 6.5274\n",
      "Epoch 23/50\n",
      "3/3 [==============================] - 0s 14ms/step - loss: 7.0220 - val_loss: 6.5086\n",
      "Epoch 24/50\n",
      "3/3 [==============================] - 0s 14ms/step - loss: 7.0097 - val_loss: 6.4512\n",
      "Epoch 25/50\n",
      "3/3 [==============================] - 0s 14ms/step - loss: 7.0001 - val_loss: 6.3965\n",
      "Epoch 26/50\n",
      "3/3 [==============================] - 0s 14ms/step - loss: 6.9923 - val_loss: 6.4313\n",
      "Epoch 27/50\n",
      "3/3 [==============================] - 0s 15ms/step - loss: 6.9837 - val_loss: 6.3917\n",
      "Epoch 28/50\n",
      "3/3 [==============================] - 0s 14ms/step - loss: 6.9735 - val_loss: 6.4041\n",
      "Epoch 29/50\n",
      "3/3 [==============================] - 0s 15ms/step - loss: 6.9662 - val_loss: 6.3903\n",
      "Epoch 30/50\n",
      "3/3 [==============================] - 0s 15ms/step - loss: 6.9559 - val_loss: 6.3902\n",
      "Epoch 31/50\n",
      "3/3 [==============================] - 0s 15ms/step - loss: 6.9470 - val_loss: 6.3561\n",
      "Epoch 32/50\n",
      "3/3 [==============================] - 0s 15ms/step - loss: 6.9382 - val_loss: 6.2654\n",
      "Epoch 33/50\n",
      "3/3 [==============================] - 0s 21ms/step - loss: 6.9282 - val_loss: 6.3392\n",
      "Epoch 34/50\n",
      "3/3 [==============================] - 0s 14ms/step - loss: 6.9191 - val_loss: 6.3242\n",
      "Epoch 35/50\n",
      "3/3 [==============================] - 0s 14ms/step - loss: 6.9116 - val_loss: 6.3038\n",
      "Epoch 36/50\n",
      "3/3 [==============================] - 0s 14ms/step - loss: 6.9014 - val_loss: 6.2895\n",
      "Epoch 37/50\n",
      "3/3 [==============================] - 0s 14ms/step - loss: 6.8939 - val_loss: 6.2384\n",
      "Epoch 38/50\n",
      "3/3 [==============================] - 0s 15ms/step - loss: 6.8847 - val_loss: 6.2104\n",
      "Epoch 39/50\n",
      "3/3 [==============================] - 0s 15ms/step - loss: 6.8761 - val_loss: 6.2312\n",
      "Epoch 40/50\n",
      "3/3 [==============================] - 0s 14ms/step - loss: 6.8682 - val_loss: 6.2103\n",
      "Epoch 41/50\n",
      "3/3 [==============================] - 0s 14ms/step - loss: 6.8595 - val_loss: 6.1786\n",
      "Epoch 42/50\n",
      "3/3 [==============================] - 0s 14ms/step - loss: 6.8500 - val_loss: 6.1762\n",
      "Epoch 43/50\n",
      "3/3 [==============================] - 0s 14ms/step - loss: 6.8424 - val_loss: 6.1563\n",
      "Epoch 44/50\n",
      "3/3 [==============================] - 0s 14ms/step - loss: 6.8356 - val_loss: 6.1503\n",
      "Epoch 45/50\n",
      "3/3 [==============================] - 0s 14ms/step - loss: 6.8254 - val_loss: 6.0645\n",
      "Epoch 46/50\n",
      "3/3 [==============================] - 0s 14ms/step - loss: 6.8184 - val_loss: 6.0853\n",
      "Epoch 47/50\n",
      "3/3 [==============================] - 0s 14ms/step - loss: 6.8112 - val_loss: 6.1296\n",
      "Epoch 48/50\n",
      "3/3 [==============================] - 0s 14ms/step - loss: 6.8020 - val_loss: 6.0959\n",
      "Epoch 49/50\n",
      "3/3 [==============================] - 0s 13ms/step - loss: 6.7946 - val_loss: 6.0180\n",
      "Epoch 50/50\n",
      "3/3 [==============================] - 0s 15ms/step - loss: 6.7896 - val_loss: 6.0383\n",
      "============== EVALUATION ==============\n"
     ]
    },
    {
     "name": "stderr",
     "output_type": "stream",
     "text": [
      "C:\\Users\\Baejs\\anaconda3\\envs\\bae\\lib\\site-packages\\keras\\src\\engine\\training.py:3000: UserWarning: You are saving your model as an HDF5 file via `model.save()`. This file format is considered legacy. We recommend using instead the native Keras format, e.g. `model.save('my_model.keras')`.\n",
      "  saving_api.save_model(\n",
      "  0%|                                                                                           | 0/10 [00:00<?, ?it/s]"
     ]
    },
    {
     "name": "stdout",
     "output_type": "stream",
     "text": [
      "10/10 [==============================] - 0s 1ms/step\n"
     ]
    },
    {
     "name": "stderr",
     "output_type": "stream",
     "text": [
      " 10%|████████▎                                                                          | 1/10 [00:00<00:01,  8.68it/s]"
     ]
    },
    {
     "name": "stdout",
     "output_type": "stream",
     "text": [
      "10/10 [==============================] - 0s 1ms/step\n",
      "10/10 [==============================] - 0s 1ms/step\n"
     ]
    },
    {
     "name": "stderr",
     "output_type": "stream",
     "text": [
      " 30%|████████████████████████▉                                                          | 3/10 [00:00<00:00, 11.84it/s]"
     ]
    },
    {
     "name": "stdout",
     "output_type": "stream",
     "text": [
      "10/10 [==============================] - 0s 1ms/step\n",
      "10/10 [==============================] - 0s 1ms/step\n"
     ]
    },
    {
     "name": "stderr",
     "output_type": "stream",
     "text": [
      " 50%|█████████████████████████████████████████▌                                         | 5/10 [00:00<00:00, 12.56it/s]"
     ]
    },
    {
     "name": "stdout",
     "output_type": "stream",
     "text": [
      "10/10 [==============================] - 0s 2ms/step\n",
      "10/10 [==============================] - 0s 1ms/step\n"
     ]
    },
    {
     "name": "stderr",
     "output_type": "stream",
     "text": [
      " 70%|██████████████████████████████████████████████████████████                         | 7/10 [00:00<00:00, 12.79it/s]"
     ]
    },
    {
     "name": "stdout",
     "output_type": "stream",
     "text": [
      "10/10 [==============================] - 0s 1ms/step\n",
      "10/10 [==============================] - 0s 1ms/step\n"
     ]
    },
    {
     "name": "stderr",
     "output_type": "stream",
     "text": [
      " 90%|██████████████████████████████████████████████████████████████████████████▋        | 9/10 [00:00<00:00, 13.22it/s]"
     ]
    },
    {
     "name": "stdout",
     "output_type": "stream",
     "text": [
      "10/10 [==============================] - 0s 1ms/step\n"
     ]
    },
    {
     "name": "stderr",
     "output_type": "stream",
     "text": [
      "100%|██████████████████████████████████████████████████████████████████████████████████| 10/10 [00:00<00:00, 12.76it/s]\n",
      "2023-08-26 01:03:56,252 - INFO - AUC : 0.8400000000000001\n",
      "2023-08-26 01:03:56,253 - INFO - all results -> ./result_transfer_pretrain_v3/result_transfer_pretrain_v3.yaml\n",
      "2023-08-26 01:03:56,257 - INFO - target_dir : ../Sample_data\n",
      "2023-08-26 01:03:56,259 - INFO - train_file num : 5\n",
      "2023-08-26 01:03:56,260 - INFO - eval_file  num : 10\n"
     ]
    },
    {
     "name": "stdout",
     "output_type": "stream",
     "text": [
      "===========================\n",
      "Model file not found for fan -> id_06. Skipping...\n",
      "Model file not found for fan -> id_06. Skipping...\n",
      "===========================\n",
      "\n",
      "===========================\n"
     ]
    },
    {
     "name": "stderr",
     "output_type": "stream",
     "text": [
      "generate train_dataset: 100%|████████████████████████████████████████████████████████████| 5/5 [00:00<00:00, 80.86it/s]\n",
      "2023-08-26 01:03:56,326 - INFO - save_pickle -> ./pickle_transfer_pretrain_v3/train_valve_id_00.pickle\n",
      "2023-08-26 01:03:56,331 - INFO - save_pickle -> ./pickle_transfer_pretrain_v3/eval_files_valve_id_00.pickle\n",
      "2023-08-26 01:03:56,334 - INFO - save_pickle -> ./pickle_transfer_pretrain_v3/eval_labels_valve_id_00.pickle\n"
     ]
    },
    {
     "name": "stdout",
     "output_type": "stream",
     "text": [
      "\n",
      "Training transfer model for valve -> id_00 using pretrain model pretrain_('fan', 'slider')\n",
      "Epoch 1/50\n",
      "3/3 [==============================] - 1s 60ms/step - loss: 23.4287 - val_loss: 19.6137\n",
      "Epoch 2/50\n",
      "3/3 [==============================] - 0s 28ms/step - loss: 19.2069 - val_loss: 22.4125\n",
      "Epoch 3/50\n",
      "3/3 [==============================] - 0s 15ms/step - loss: 17.4153 - val_loss: 18.6042\n",
      "Epoch 4/50\n",
      "3/3 [==============================] - 0s 15ms/step - loss: 17.6296 - val_loss: 18.8493\n",
      "Epoch 5/50\n",
      "3/3 [==============================] - 0s 14ms/step - loss: 16.3667 - val_loss: 22.8867\n",
      "Epoch 6/50\n",
      "3/3 [==============================] - 0s 15ms/step - loss: 16.4545 - val_loss: 17.7660\n",
      "Epoch 7/50\n",
      "3/3 [==============================] - 0s 14ms/step - loss: 15.8212 - val_loss: 16.9801\n",
      "Epoch 8/50\n",
      "3/3 [==============================] - 0s 111ms/step - loss: 15.4944 - val_loss: 17.6635\n",
      "Epoch 9/50\n",
      "3/3 [==============================] - 0s 17ms/step - loss: 15.2724 - val_loss: 16.4983\n",
      "Epoch 10/50\n",
      "3/3 [==============================] - 0s 16ms/step - loss: 15.0118 - val_loss: 15.9820\n",
      "Epoch 11/50\n",
      "3/3 [==============================] - 0s 16ms/step - loss: 14.8871 - val_loss: 16.0822\n",
      "Epoch 12/50\n",
      "3/3 [==============================] - 0s 15ms/step - loss: 14.7957 - val_loss: 15.1344\n",
      "Epoch 13/50\n",
      "3/3 [==============================] - 0s 14ms/step - loss: 14.6840 - val_loss: 15.4366\n",
      "Epoch 14/50\n",
      "3/3 [==============================] - 0s 15ms/step - loss: 14.5660 - val_loss: 15.3519\n",
      "Epoch 15/50\n",
      "3/3 [==============================] - 0s 14ms/step - loss: 14.4727 - val_loss: 15.0298\n",
      "Epoch 16/50\n",
      "3/3 [==============================] - 0s 15ms/step - loss: 14.4135 - val_loss: 15.0355\n",
      "Epoch 17/50\n",
      "3/3 [==============================] - 0s 15ms/step - loss: 14.3338 - val_loss: 14.6663\n",
      "Epoch 18/50\n",
      "3/3 [==============================] - 0s 15ms/step - loss: 14.2670 - val_loss: 14.6097\n",
      "Epoch 19/50\n",
      "3/3 [==============================] - 0s 15ms/step - loss: 14.2075 - val_loss: 14.3532\n",
      "Epoch 20/50\n",
      "3/3 [==============================] - 0s 14ms/step - loss: 14.1357 - val_loss: 14.1997\n",
      "Epoch 21/50\n",
      "3/3 [==============================] - 0s 14ms/step - loss: 14.0764 - val_loss: 14.0843\n",
      "Epoch 22/50\n",
      "3/3 [==============================] - 0s 14ms/step - loss: 14.0240 - val_loss: 13.9810\n",
      "Epoch 23/50\n",
      "3/3 [==============================] - 0s 14ms/step - loss: 13.9718 - val_loss: 13.9634\n",
      "Epoch 24/50\n",
      "3/3 [==============================] - 0s 15ms/step - loss: 13.9199 - val_loss: 13.7736\n",
      "Epoch 25/50\n",
      "3/3 [==============================] - 0s 16ms/step - loss: 13.8734 - val_loss: 13.6408\n",
      "Epoch 26/50\n",
      "3/3 [==============================] - 0s 17ms/step - loss: 13.8222 - val_loss: 13.6756\n",
      "Epoch 27/50\n",
      "3/3 [==============================] - 0s 15ms/step - loss: 13.7736 - val_loss: 13.6100\n",
      "Epoch 28/50\n",
      "3/3 [==============================] - 0s 15ms/step - loss: 13.7296 - val_loss: 13.4490\n",
      "Epoch 29/50\n",
      "3/3 [==============================] - 0s 15ms/step - loss: 13.6815 - val_loss: 13.3036\n",
      "Epoch 30/50\n",
      "3/3 [==============================] - 0s 14ms/step - loss: 13.6366 - val_loss: 13.2817\n",
      "Epoch 31/50\n",
      "3/3 [==============================] - 0s 15ms/step - loss: 13.5962 - val_loss: 13.2651\n",
      "Epoch 32/50\n",
      "3/3 [==============================] - 0s 14ms/step - loss: 13.5483 - val_loss: 13.2029\n",
      "Epoch 33/50\n",
      "3/3 [==============================] - 0s 14ms/step - loss: 13.5047 - val_loss: 13.0803\n",
      "Epoch 34/50\n",
      "3/3 [==============================] - 0s 14ms/step - loss: 13.4629 - val_loss: 12.9673\n",
      "Epoch 35/50\n",
      "3/3 [==============================] - 0s 14ms/step - loss: 13.4200 - val_loss: 12.9472\n",
      "Epoch 36/50\n",
      "3/3 [==============================] - 0s 14ms/step - loss: 13.3729 - val_loss: 12.9473\n",
      "Epoch 37/50\n",
      "3/3 [==============================] - 0s 14ms/step - loss: 13.3363 - val_loss: 12.8736\n",
      "Epoch 38/50\n",
      "3/3 [==============================] - 0s 14ms/step - loss: 13.2926 - val_loss: 12.6738\n",
      "Epoch 39/50\n",
      "3/3 [==============================] - 0s 14ms/step - loss: 13.2538 - val_loss: 12.6812\n",
      "Epoch 40/50\n",
      "3/3 [==============================] - 0s 15ms/step - loss: 13.2203 - val_loss: 12.7910\n",
      "Epoch 41/50\n",
      "3/3 [==============================] - 0s 14ms/step - loss: 13.1800 - val_loss: 12.5486\n",
      "Epoch 42/50\n",
      "3/3 [==============================] - 0s 14ms/step - loss: 13.1346 - val_loss: 12.4415\n",
      "Epoch 43/50\n",
      "3/3 [==============================] - 0s 15ms/step - loss: 13.0957 - val_loss: 12.3818\n",
      "Epoch 44/50\n",
      "3/3 [==============================] - 0s 14ms/step - loss: 13.0532 - val_loss: 12.4068\n",
      "Epoch 45/50\n",
      "3/3 [==============================] - 0s 14ms/step - loss: 13.0079 - val_loss: 12.3592\n",
      "Epoch 46/50\n",
      "3/3 [==============================] - 0s 14ms/step - loss: 12.9598 - val_loss: 12.2181\n",
      "Epoch 47/50\n",
      "3/3 [==============================] - 0s 14ms/step - loss: 12.9254 - val_loss: 12.0155\n",
      "Epoch 48/50\n",
      "3/3 [==============================] - 0s 14ms/step - loss: 12.8830 - val_loss: 12.1857\n",
      "Epoch 49/50\n",
      "3/3 [==============================] - 0s 14ms/step - loss: 12.8450 - val_loss: 12.1285\n",
      "Epoch 50/50\n",
      "3/3 [==============================] - 0s 15ms/step - loss: 12.8021 - val_loss: 11.8507\n",
      "============== EVALUATION ==============\n"
     ]
    },
    {
     "name": "stderr",
     "output_type": "stream",
     "text": [
      "C:\\Users\\Baejs\\anaconda3\\envs\\bae\\lib\\site-packages\\keras\\src\\engine\\training.py:3000: UserWarning: You are saving your model as an HDF5 file via `model.save()`. This file format is considered legacy. We recommend using instead the native Keras format, e.g. `model.save('my_model.keras')`.\n",
      "  saving_api.save_model(\n",
      "  0%|                                                                                           | 0/10 [00:00<?, ?it/s]"
     ]
    },
    {
     "name": "stdout",
     "output_type": "stream",
     "text": [
      "10/10 [==============================] - 0s 1ms/step\n"
     ]
    },
    {
     "name": "stderr",
     "output_type": "stream",
     "text": [
      " 10%|████████▎                                                                          | 1/10 [00:00<00:01,  8.35it/s]"
     ]
    },
    {
     "name": "stdout",
     "output_type": "stream",
     "text": [
      "10/10 [==============================] - 0s 1ms/step\n",
      "10/10 [==============================] - 0s 1ms/step\n"
     ]
    },
    {
     "name": "stderr",
     "output_type": "stream",
     "text": [
      " 30%|████████████████████████▉                                                          | 3/10 [00:00<00:00, 11.78it/s]"
     ]
    },
    {
     "name": "stdout",
     "output_type": "stream",
     "text": [
      "10/10 [==============================] - 0s 1ms/step\n",
      "10/10 [==============================] - 0s 1ms/step\n"
     ]
    },
    {
     "name": "stderr",
     "output_type": "stream",
     "text": [
      " 50%|█████████████████████████████████████████▌                                         | 5/10 [00:00<00:00, 12.45it/s]"
     ]
    },
    {
     "name": "stdout",
     "output_type": "stream",
     "text": [
      "10/10 [==============================] - 0s 1ms/step\n",
      "10/10 [==============================] - 0s 1ms/step\n"
     ]
    },
    {
     "name": "stderr",
     "output_type": "stream",
     "text": [
      " 70%|██████████████████████████████████████████████████████████                         | 7/10 [00:00<00:00, 12.69it/s]"
     ]
    },
    {
     "name": "stdout",
     "output_type": "stream",
     "text": [
      "10/10 [==============================] - 0s 1ms/step\n",
      "10/10 [==============================] - 0s 1ms/step\n"
     ]
    },
    {
     "name": "stderr",
     "output_type": "stream",
     "text": [
      " 90%|██████████████████████████████████████████████████████████████████████████▋        | 9/10 [00:00<00:00, 13.05it/s]"
     ]
    },
    {
     "name": "stdout",
     "output_type": "stream",
     "text": [
      "10/10 [==============================] - 0s 1ms/step\n"
     ]
    },
    {
     "name": "stderr",
     "output_type": "stream",
     "text": [
      "100%|██████████████████████████████████████████████████████████████████████████████████| 10/10 [00:00<00:00, 12.59it/s]\n",
      "2023-08-26 01:04:00,261 - INFO - AUC : 0.43999999999999995\n"
     ]
    },
    {
     "name": "stdout",
     "output_type": "stream",
     "text": [
      "===========================\n",
      "\n",
      "Training transfer model for valve -> id_00 using pretrain model pretrain_('fan', 'pump')\n",
      "Epoch 1/50\n",
      "3/3 [==============================] - 1s 60ms/step - loss: 20.4918 - val_loss: 37.4047\n",
      "Epoch 2/50\n",
      "3/3 [==============================] - 0s 17ms/step - loss: 19.3875 - val_loss: 26.9551\n",
      "Epoch 3/50\n",
      "3/3 [==============================] - 0s 15ms/step - loss: 18.3728 - val_loss: 26.8846\n",
      "Epoch 4/50\n",
      "3/3 [==============================] - 0s 15ms/step - loss: 17.4951 - val_loss: 25.0137\n",
      "Epoch 5/50\n",
      "3/3 [==============================] - 0s 15ms/step - loss: 16.9456 - val_loss: 24.1358\n",
      "Epoch 6/50\n",
      "3/3 [==============================] - 0s 15ms/step - loss: 16.7041 - val_loss: 24.0758\n",
      "Epoch 7/50\n",
      "3/3 [==============================] - 0s 15ms/step - loss: 16.3943 - val_loss: 24.6952\n",
      "Epoch 8/50\n",
      "3/3 [==============================] - 0s 14ms/step - loss: 16.2198 - val_loss: 24.2935\n",
      "Epoch 9/50\n",
      "3/3 [==============================] - 0s 14ms/step - loss: 16.0572 - val_loss: 23.6481\n",
      "Epoch 10/50\n",
      "3/3 [==============================] - 0s 14ms/step - loss: 15.9884 - val_loss: 23.5629\n",
      "Epoch 11/50\n",
      "3/3 [==============================] - 0s 14ms/step - loss: 15.8025 - val_loss: 24.1690\n",
      "Epoch 12/50\n",
      "3/3 [==============================] - 0s 23ms/step - loss: 15.7056 - val_loss: 23.7941\n",
      "Epoch 13/50\n",
      "3/3 [==============================] - 0s 15ms/step - loss: 15.6150 - val_loss: 23.5877\n",
      "Epoch 14/50\n",
      "3/3 [==============================] - 0s 14ms/step - loss: 15.5250 - val_loss: 23.5946\n",
      "Epoch 15/50\n",
      "3/3 [==============================] - 0s 14ms/step - loss: 15.4227 - val_loss: 23.7266\n",
      "Epoch 16/50\n",
      "3/3 [==============================] - 0s 14ms/step - loss: 15.3619 - val_loss: 23.5311\n",
      "Epoch 17/50\n",
      "3/3 [==============================] - 0s 14ms/step - loss: 15.2797 - val_loss: 23.1364\n",
      "Epoch 18/50\n",
      "3/3 [==============================] - 0s 14ms/step - loss: 15.2029 - val_loss: 23.1056\n",
      "Epoch 19/50\n",
      "3/3 [==============================] - 0s 14ms/step - loss: 15.1326 - val_loss: 23.1038\n",
      "Epoch 20/50\n",
      "3/3 [==============================] - 0s 15ms/step - loss: 15.0659 - val_loss: 23.0337\n",
      "Epoch 21/50\n",
      "3/3 [==============================] - 0s 16ms/step - loss: 14.9966 - val_loss: 22.8480\n",
      "Epoch 22/50\n",
      "3/3 [==============================] - 0s 15ms/step - loss: 14.9344 - val_loss: 22.6774\n",
      "Epoch 23/50\n",
      "3/3 [==============================] - 0s 15ms/step - loss: 14.8770 - val_loss: 22.3738\n",
      "Epoch 24/50\n",
      "3/3 [==============================] - 0s 15ms/step - loss: 14.8045 - val_loss: 22.5248\n",
      "Epoch 25/50\n",
      "3/3 [==============================] - 0s 16ms/step - loss: 14.7461 - val_loss: 22.3395\n",
      "Epoch 26/50\n",
      "3/3 [==============================] - 0s 15ms/step - loss: 14.6825 - val_loss: 21.7333\n",
      "Epoch 27/50\n",
      "3/3 [==============================] - 0s 14ms/step - loss: 14.6103 - val_loss: 21.7630\n",
      "Epoch 28/50\n",
      "3/3 [==============================] - 0s 14ms/step - loss: 14.5443 - val_loss: 21.6519\n",
      "Epoch 29/50\n",
      "3/3 [==============================] - 0s 14ms/step - loss: 14.4871 - val_loss: 21.4007\n",
      "Epoch 30/50\n",
      "3/3 [==============================] - 0s 14ms/step - loss: 14.4219 - val_loss: 21.1235\n",
      "Epoch 31/50\n",
      "3/3 [==============================] - 0s 14ms/step - loss: 14.3704 - val_loss: 20.7336\n",
      "Epoch 32/50\n",
      "3/3 [==============================] - 0s 15ms/step - loss: 14.3257 - val_loss: 20.9142\n",
      "Epoch 33/50\n",
      "3/3 [==============================] - 0s 14ms/step - loss: 14.2802 - val_loss: 20.8867\n",
      "Epoch 34/50\n",
      "3/3 [==============================] - 0s 14ms/step - loss: 14.2342 - val_loss: 20.6699\n",
      "Epoch 35/50\n",
      "3/3 [==============================] - 0s 14ms/step - loss: 14.1897 - val_loss: 20.2692\n",
      "Epoch 36/50\n",
      "3/3 [==============================] - 0s 15ms/step - loss: 14.1655 - val_loss: 20.1892\n",
      "Epoch 37/50\n",
      "3/3 [==============================] - 0s 15ms/step - loss: 14.1136 - val_loss: 20.3458\n",
      "Epoch 38/50\n",
      "3/3 [==============================] - 0s 14ms/step - loss: 14.0861 - val_loss: 19.9892\n",
      "Epoch 39/50\n",
      "3/3 [==============================] - 0s 14ms/step - loss: 14.0655 - val_loss: 19.8239\n",
      "Epoch 40/50\n",
      "3/3 [==============================] - 0s 14ms/step - loss: 14.0163 - val_loss: 19.3544\n",
      "Epoch 41/50\n",
      "3/3 [==============================] - 0s 14ms/step - loss: 13.9928 - val_loss: 19.5716\n",
      "Epoch 42/50\n",
      "3/3 [==============================] - 0s 15ms/step - loss: 13.9581 - val_loss: 19.5079\n",
      "Epoch 43/50\n",
      "3/3 [==============================] - 0s 14ms/step - loss: 13.9268 - val_loss: 19.3025\n",
      "Epoch 44/50\n",
      "3/3 [==============================] - 0s 15ms/step - loss: 13.9008 - val_loss: 18.9886\n",
      "Epoch 45/50\n",
      "3/3 [==============================] - 0s 15ms/step - loss: 13.8799 - val_loss: 18.9117\n",
      "Epoch 46/50\n",
      "3/3 [==============================] - 0s 15ms/step - loss: 13.8593 - val_loss: 18.7108\n",
      "Epoch 47/50\n",
      "3/3 [==============================] - 0s 14ms/step - loss: 13.8374 - val_loss: 18.8863\n",
      "Epoch 48/50\n",
      "3/3 [==============================] - 0s 15ms/step - loss: 13.8203 - val_loss: 18.7359\n",
      "Epoch 49/50\n",
      "3/3 [==============================] - 0s 14ms/step - loss: 13.7945 - val_loss: 18.3607\n",
      "Epoch 50/50\n",
      "3/3 [==============================] - 0s 14ms/step - loss: 13.7674 - val_loss: 18.4382\n",
      "============== EVALUATION ==============\n"
     ]
    },
    {
     "name": "stderr",
     "output_type": "stream",
     "text": [
      "C:\\Users\\Baejs\\anaconda3\\envs\\bae\\lib\\site-packages\\keras\\src\\engine\\training.py:3000: UserWarning: You are saving your model as an HDF5 file via `model.save()`. This file format is considered legacy. We recommend using instead the native Keras format, e.g. `model.save('my_model.keras')`.\n",
      "  saving_api.save_model(\n",
      "  0%|                                                                                           | 0/10 [00:00<?, ?it/s]"
     ]
    },
    {
     "name": "stdout",
     "output_type": "stream",
     "text": [
      "10/10 [==============================] - 0s 1ms/step\n"
     ]
    },
    {
     "name": "stderr",
     "output_type": "stream",
     "text": [
      " 10%|████████▎                                                                          | 1/10 [00:00<00:01,  8.43it/s]"
     ]
    },
    {
     "name": "stdout",
     "output_type": "stream",
     "text": [
      "10/10 [==============================] - 0s 1ms/step\n",
      "10/10 [==============================] - 0s 2ms/step\n"
     ]
    },
    {
     "name": "stderr",
     "output_type": "stream",
     "text": [
      " 30%|████████████████████████▉                                                          | 3/10 [00:00<00:00, 11.52it/s]"
     ]
    },
    {
     "name": "stdout",
     "output_type": "stream",
     "text": [
      "10/10 [==============================] - 0s 1ms/step\n",
      "10/10 [==============================] - 0s 997us/step\n"
     ]
    },
    {
     "name": "stderr",
     "output_type": "stream",
     "text": [
      " 50%|█████████████████████████████████████████▌                                         | 5/10 [00:00<00:00, 12.48it/s]"
     ]
    },
    {
     "name": "stdout",
     "output_type": "stream",
     "text": [
      "10/10 [==============================] - 0s 1ms/step\n",
      "10/10 [==============================] - 0s 1ms/step\n"
     ]
    },
    {
     "name": "stderr",
     "output_type": "stream",
     "text": [
      " 70%|██████████████████████████████████████████████████████████                         | 7/10 [00:00<00:00, 12.78it/s]"
     ]
    },
    {
     "name": "stdout",
     "output_type": "stream",
     "text": [
      "10/10 [==============================] - 0s 2ms/step\n",
      "10/10 [==============================] - 0s 1ms/step\n"
     ]
    },
    {
     "name": "stderr",
     "output_type": "stream",
     "text": [
      " 90%|██████████████████████████████████████████████████████████████████████████▋        | 9/10 [00:00<00:00, 12.94it/s]"
     ]
    },
    {
     "name": "stdout",
     "output_type": "stream",
     "text": [
      "10/10 [==============================] - 0s 1ms/step\n"
     ]
    },
    {
     "name": "stderr",
     "output_type": "stream",
     "text": [
      "100%|██████████████████████████████████████████████████████████████████████████████████| 10/10 [00:00<00:00, 12.56it/s]\n",
      "2023-08-26 01:04:03,822 - INFO - AUC : 0.4000000000000001\n"
     ]
    },
    {
     "name": "stdout",
     "output_type": "stream",
     "text": [
      "===========================\n",
      "Model file not found for valve -> id_00. Skipping...\n",
      "\n",
      "Training transfer model for valve -> id_00 using pretrain model pretrain_('slider', 'pump')\n",
      "Epoch 1/50\n",
      "3/3 [==============================] - 1s 59ms/step - loss: 22.6754 - val_loss: 31.7473\n",
      "Epoch 2/50\n",
      "3/3 [==============================] - 0s 16ms/step - loss: 22.7534 - val_loss: 25.8182\n",
      "Epoch 3/50\n",
      "3/3 [==============================] - 0s 16ms/step - loss: 19.8277 - val_loss: 27.3561\n",
      "Epoch 4/50\n",
      "3/3 [==============================] - 0s 16ms/step - loss: 18.8016 - val_loss: 25.6977\n",
      "Epoch 5/50\n",
      "3/3 [==============================] - 0s 17ms/step - loss: 17.9659 - val_loss: 27.0892\n",
      "Epoch 6/50\n",
      "3/3 [==============================] - 0s 16ms/step - loss: 17.6087 - val_loss: 29.5126\n",
      "Epoch 7/50\n",
      "3/3 [==============================] - 0s 15ms/step - loss: 17.6312 - val_loss: 26.3598\n",
      "Epoch 8/50\n",
      "3/3 [==============================] - 0s 16ms/step - loss: 16.8573 - val_loss: 25.2440\n",
      "Epoch 9/50\n",
      "3/3 [==============================] - 0s 15ms/step - loss: 17.1310 - val_loss: 24.8505\n",
      "Epoch 10/50\n",
      "3/3 [==============================] - 0s 15ms/step - loss: 16.8036 - val_loss: 26.1222\n",
      "Epoch 11/50\n",
      "3/3 [==============================] - 0s 14ms/step - loss: 16.7205 - val_loss: 25.9100\n",
      "Epoch 12/50\n",
      "3/3 [==============================] - 0s 14ms/step - loss: 16.5516 - val_loss: 25.6668\n",
      "Epoch 13/50\n",
      "3/3 [==============================] - 0s 14ms/step - loss: 16.4071 - val_loss: 25.7072\n",
      "Epoch 14/50\n",
      "3/3 [==============================] - 0s 14ms/step - loss: 16.3897 - val_loss: 25.3544\n",
      "Epoch 15/50\n",
      "3/3 [==============================] - 0s 16ms/step - loss: 16.2633 - val_loss: 25.3951\n",
      "Epoch 16/50\n",
      "3/3 [==============================] - 0s 14ms/step - loss: 16.2199 - val_loss: 26.0513\n",
      "Epoch 17/50\n",
      "3/3 [==============================] - 0s 15ms/step - loss: 16.1726 - val_loss: 25.4126\n",
      "Epoch 18/50\n",
      "3/3 [==============================] - 0s 14ms/step - loss: 16.0983 - val_loss: 24.9496\n",
      "Epoch 19/50\n",
      "3/3 [==============================] - 0s 14ms/step - loss: 16.0349 - val_loss: 24.7389\n",
      "Epoch 20/50\n",
      "3/3 [==============================] - 0s 14ms/step - loss: 15.9898 - val_loss: 24.4862\n",
      "Epoch 21/50\n",
      "3/3 [==============================] - 0s 14ms/step - loss: 15.9486 - val_loss: 24.5418\n",
      "Epoch 22/50\n",
      "3/3 [==============================] - 0s 14ms/step - loss: 15.8981 - val_loss: 24.4140\n",
      "Epoch 23/50\n",
      "3/3 [==============================] - 0s 14ms/step - loss: 15.8511 - val_loss: 24.2356\n",
      "Epoch 24/50\n",
      "3/3 [==============================] - 0s 14ms/step - loss: 15.8099 - val_loss: 24.3784\n",
      "Epoch 25/50\n",
      "3/3 [==============================] - 0s 14ms/step - loss: 15.7719 - val_loss: 24.3721\n",
      "Epoch 26/50\n",
      "3/3 [==============================] - 0s 14ms/step - loss: 15.7350 - val_loss: 24.2801\n",
      "Epoch 27/50\n",
      "3/3 [==============================] - 0s 15ms/step - loss: 15.6976 - val_loss: 24.1073\n",
      "Epoch 28/50\n",
      "3/3 [==============================] - 0s 14ms/step - loss: 15.6632 - val_loss: 24.1349\n",
      "Epoch 29/50\n",
      "3/3 [==============================] - 0s 14ms/step - loss: 15.6328 - val_loss: 23.7976\n",
      "Epoch 30/50\n",
      "3/3 [==============================] - 0s 15ms/step - loss: 15.6001 - val_loss: 23.7519\n",
      "Epoch 31/50\n",
      "3/3 [==============================] - 0s 15ms/step - loss: 15.5669 - val_loss: 23.8791\n",
      "Epoch 32/50\n",
      "3/3 [==============================] - 0s 15ms/step - loss: 15.5375 - val_loss: 23.8333\n",
      "Epoch 33/50\n",
      "3/3 [==============================] - 0s 15ms/step - loss: 15.5039 - val_loss: 23.5989\n",
      "Epoch 34/50\n",
      "3/3 [==============================] - 0s 15ms/step - loss: 15.4802 - val_loss: 23.4755\n",
      "Epoch 35/50\n",
      "3/3 [==============================] - 0s 15ms/step - loss: 15.4455 - val_loss: 23.6105\n",
      "Epoch 36/50\n",
      "3/3 [==============================] - 0s 16ms/step - loss: 15.4223 - val_loss: 23.5288\n",
      "Epoch 37/50\n",
      "3/3 [==============================] - 0s 14ms/step - loss: 15.3937 - val_loss: 23.1667\n",
      "Epoch 38/50\n",
      "3/3 [==============================] - 0s 15ms/step - loss: 15.3656 - val_loss: 23.2508\n",
      "Epoch 39/50\n",
      "3/3 [==============================] - 0s 14ms/step - loss: 15.3339 - val_loss: 23.5894\n",
      "Epoch 40/50\n",
      "3/3 [==============================] - 0s 14ms/step - loss: 15.3052 - val_loss: 23.4529\n",
      "Epoch 41/50\n",
      "3/3 [==============================] - 0s 16ms/step - loss: 15.2775 - val_loss: 23.0951\n",
      "Epoch 42/50\n",
      "3/3 [==============================] - 0s 15ms/step - loss: 15.2513 - val_loss: 23.0420\n",
      "Epoch 43/50\n",
      "3/3 [==============================] - 0s 15ms/step - loss: 15.2220 - val_loss: 22.9852\n",
      "Epoch 44/50\n",
      "3/3 [==============================] - 0s 14ms/step - loss: 15.1994 - val_loss: 22.9277\n",
      "Epoch 45/50\n",
      "3/3 [==============================] - 0s 15ms/step - loss: 15.1683 - val_loss: 23.1817\n",
      "Epoch 46/50\n",
      "3/3 [==============================] - 0s 15ms/step - loss: 15.1494 - val_loss: 22.9193\n",
      "Epoch 47/50\n",
      "3/3 [==============================] - 0s 16ms/step - loss: 15.1143 - val_loss: 22.4677\n",
      "Epoch 48/50\n",
      "3/3 [==============================] - 0s 15ms/step - loss: 15.0888 - val_loss: 22.6722\n",
      "Epoch 49/50\n",
      "3/3 [==============================] - 0s 15ms/step - loss: 15.0656 - val_loss: 22.8348\n",
      "Epoch 50/50\n",
      "3/3 [==============================] - 0s 15ms/step - loss: 15.0314 - val_loss: 22.4610\n"
     ]
    },
    {
     "name": "stderr",
     "output_type": "stream",
     "text": [
      "C:\\Users\\Baejs\\anaconda3\\envs\\bae\\lib\\site-packages\\keras\\src\\engine\\training.py:3000: UserWarning: You are saving your model as an HDF5 file via `model.save()`. This file format is considered legacy. We recommend using instead the native Keras format, e.g. `model.save('my_model.keras')`.\n",
      "  saving_api.save_model(\n"
     ]
    },
    {
     "name": "stdout",
     "output_type": "stream",
     "text": [
      "============== EVALUATION ==============\n"
     ]
    },
    {
     "name": "stderr",
     "output_type": "stream",
     "text": [
      "  0%|                                                                                           | 0/10 [00:00<?, ?it/s]"
     ]
    },
    {
     "name": "stdout",
     "output_type": "stream",
     "text": [
      "10/10 [==============================] - 0s 1ms/step\n"
     ]
    },
    {
     "name": "stderr",
     "output_type": "stream",
     "text": [
      " 10%|████████▎                                                                          | 1/10 [00:00<00:01,  8.64it/s]"
     ]
    },
    {
     "name": "stdout",
     "output_type": "stream",
     "text": [
      "10/10 [==============================] - 0s 1ms/step\n",
      "10/10 [==============================] - 0s 993us/step\n"
     ]
    },
    {
     "name": "stderr",
     "output_type": "stream",
     "text": [
      " 30%|████████████████████████▉                                                          | 3/10 [00:00<00:00, 12.02it/s]"
     ]
    },
    {
     "name": "stdout",
     "output_type": "stream",
     "text": [
      "10/10 [==============================] - 0s 1ms/step\n",
      "10/10 [==============================] - 0s 2ms/step\n"
     ]
    },
    {
     "name": "stderr",
     "output_type": "stream",
     "text": [
      " 50%|█████████████████████████████████████████▌                                         | 5/10 [00:00<00:00, 12.62it/s]"
     ]
    },
    {
     "name": "stdout",
     "output_type": "stream",
     "text": [
      "10/10 [==============================] - 0s 2ms/step\n",
      "10/10 [==============================] - 0s 2ms/step\n"
     ]
    },
    {
     "name": "stderr",
     "output_type": "stream",
     "text": [
      " 70%|██████████████████████████████████████████████████████████                         | 7/10 [00:00<00:00, 12.80it/s]"
     ]
    },
    {
     "name": "stdout",
     "output_type": "stream",
     "text": [
      "10/10 [==============================] - 0s 997us/step\n",
      "10/10 [==============================] - 0s 1ms/step\n"
     ]
    },
    {
     "name": "stderr",
     "output_type": "stream",
     "text": [
      " 90%|██████████████████████████████████████████████████████████████████████████▋        | 9/10 [00:00<00:00, 12.83it/s]"
     ]
    },
    {
     "name": "stdout",
     "output_type": "stream",
     "text": [
      "10/10 [==============================] - 0s 1ms/step\n"
     ]
    },
    {
     "name": "stderr",
     "output_type": "stream",
     "text": [
      "100%|██████████████████████████████████████████████████████████████████████████████████| 10/10 [00:00<00:00, 12.40it/s]\n",
      "2023-08-26 01:04:07,395 - INFO - AUC : 0.44000000000000006\n",
      "2023-08-26 01:04:07,397 - INFO - target_dir : ../Sample_data\n",
      "2023-08-26 01:04:07,398 - INFO - train_file num : 5\n",
      "2023-08-26 01:04:07,399 - INFO - eval_file  num : 10\n"
     ]
    },
    {
     "name": "stdout",
     "output_type": "stream",
     "text": [
      "===========================\n",
      "Model file not found for valve -> id_00. Skipping...\n",
      "Model file not found for valve -> id_00. Skipping...\n",
      "\n",
      "===========================\n"
     ]
    },
    {
     "name": "stderr",
     "output_type": "stream",
     "text": [
      "generate train_dataset: 100%|████████████████████████████████████████████████████████████| 5/5 [00:00<00:00, 82.19it/s]\n",
      "2023-08-26 01:04:07,464 - INFO - save_pickle -> ./pickle_transfer_pretrain_v3/train_valve_id_02.pickle\n",
      "2023-08-26 01:04:07,469 - INFO - save_pickle -> ./pickle_transfer_pretrain_v3/eval_files_valve_id_02.pickle\n",
      "2023-08-26 01:04:07,472 - INFO - save_pickle -> ./pickle_transfer_pretrain_v3/eval_labels_valve_id_02.pickle\n"
     ]
    },
    {
     "name": "stdout",
     "output_type": "stream",
     "text": [
      "\n",
      "Training transfer model for valve -> id_02 using pretrain model pretrain_('fan', 'slider')\n",
      "Epoch 1/50\n",
      "3/3 [==============================] - 1s 59ms/step - loss: 18.9788 - val_loss: 23.3696\n",
      "Epoch 2/50\n",
      "3/3 [==============================] - 0s 16ms/step - loss: 15.8923 - val_loss: 21.9792\n",
      "Epoch 3/50\n",
      "3/3 [==============================] - 0s 16ms/step - loss: 13.0645 - val_loss: 24.9477\n",
      "Epoch 4/50\n",
      "3/3 [==============================] - 0s 15ms/step - loss: 13.5972 - val_loss: 27.8832\n",
      "Epoch 5/50\n",
      "3/3 [==============================] - 0s 16ms/step - loss: 12.8880 - val_loss: 21.4984\n",
      "Epoch 6/50\n",
      "3/3 [==============================] - 0s 15ms/step - loss: 12.2682 - val_loss: 19.1793\n",
      "Epoch 7/50\n",
      "3/3 [==============================] - 0s 14ms/step - loss: 11.8277 - val_loss: 18.3081\n",
      "Epoch 8/50\n",
      "3/3 [==============================] - 0s 14ms/step - loss: 11.3050 - val_loss: 16.4480\n",
      "Epoch 9/50\n",
      "3/3 [==============================] - 0s 14ms/step - loss: 11.1231 - val_loss: 15.6781\n",
      "Epoch 10/50\n",
      "3/3 [==============================] - 0s 14ms/step - loss: 10.8903 - val_loss: 15.2651\n",
      "Epoch 11/50\n",
      "3/3 [==============================] - 0s 22ms/step - loss: 10.7784 - val_loss: 14.9890\n",
      "Epoch 12/50\n",
      "3/3 [==============================] - 0s 15ms/step - loss: 10.6857 - val_loss: 14.2258\n",
      "Epoch 13/50\n",
      "3/3 [==============================] - 0s 14ms/step - loss: 10.5591 - val_loss: 14.0207\n",
      "Epoch 14/50\n",
      "3/3 [==============================] - 0s 14ms/step - loss: 10.4592 - val_loss: 13.6057\n",
      "Epoch 15/50\n",
      "3/3 [==============================] - 0s 14ms/step - loss: 10.3802 - val_loss: 12.9389\n",
      "Epoch 16/50\n",
      "3/3 [==============================] - 0s 14ms/step - loss: 10.3275 - val_loss: 12.8265\n",
      "Epoch 17/50\n",
      "3/3 [==============================] - 0s 15ms/step - loss: 10.2893 - val_loss: 12.6579\n",
      "Epoch 18/50\n",
      "3/3 [==============================] - 0s 15ms/step - loss: 10.2497 - val_loss: 12.5330\n",
      "Epoch 19/50\n",
      "3/3 [==============================] - 0s 15ms/step - loss: 10.2182 - val_loss: 12.2403\n",
      "Epoch 20/50\n",
      "3/3 [==============================] - 0s 15ms/step - loss: 10.1846 - val_loss: 11.9721\n",
      "Epoch 21/50\n",
      "3/3 [==============================] - 0s 14ms/step - loss: 10.1583 - val_loss: 11.6292\n",
      "Epoch 22/50\n",
      "3/3 [==============================] - 0s 15ms/step - loss: 10.1417 - val_loss: 11.5855\n",
      "Epoch 23/50\n",
      "3/3 [==============================] - 0s 15ms/step - loss: 10.1256 - val_loss: 11.3178\n",
      "Epoch 24/50\n",
      "3/3 [==============================] - 0s 16ms/step - loss: 10.1122 - val_loss: 11.2110\n",
      "Epoch 25/50\n",
      "3/3 [==============================] - 0s 16ms/step - loss: 10.1004 - val_loss: 11.0863\n",
      "Epoch 26/50\n",
      "3/3 [==============================] - 0s 16ms/step - loss: 10.0869 - val_loss: 11.0111\n",
      "Epoch 27/50\n",
      "3/3 [==============================] - 0s 16ms/step - loss: 10.0703 - val_loss: 10.9910\n",
      "Epoch 28/50\n",
      "3/3 [==============================] - 0s 14ms/step - loss: 10.0642 - val_loss: 10.8505\n",
      "Epoch 29/50\n",
      "3/3 [==============================] - 0s 14ms/step - loss: 10.0519 - val_loss: 10.7907\n",
      "Epoch 30/50\n",
      "3/3 [==============================] - 0s 14ms/step - loss: 10.0426 - val_loss: 10.7272\n",
      "Epoch 31/50\n",
      "3/3 [==============================] - 0s 14ms/step - loss: 10.0301 - val_loss: 10.5092\n",
      "Epoch 32/50\n",
      "3/3 [==============================] - 0s 15ms/step - loss: 10.0212 - val_loss: 10.4422\n",
      "Epoch 33/50\n",
      "3/3 [==============================] - 0s 15ms/step - loss: 10.0109 - val_loss: 10.3184\n",
      "Epoch 34/50\n",
      "3/3 [==============================] - 0s 15ms/step - loss: 10.0027 - val_loss: 10.2557\n",
      "Epoch 35/50\n",
      "3/3 [==============================] - 0s 15ms/step - loss: 9.9953 - val_loss: 10.1612\n",
      "Epoch 36/50\n",
      "3/3 [==============================] - 0s 15ms/step - loss: 9.9861 - val_loss: 10.1150\n",
      "Epoch 37/50\n",
      "3/3 [==============================] - 0s 15ms/step - loss: 9.9788 - val_loss: 10.0317\n",
      "Epoch 38/50\n",
      "3/3 [==============================] - 0s 14ms/step - loss: 9.9687 - val_loss: 10.0365\n",
      "Epoch 39/50\n",
      "3/3 [==============================] - 0s 14ms/step - loss: 9.9615 - val_loss: 9.9868\n",
      "Epoch 40/50\n",
      "3/3 [==============================] - 0s 14ms/step - loss: 9.9550 - val_loss: 9.8767\n",
      "Epoch 41/50\n",
      "3/3 [==============================] - 0s 14ms/step - loss: 9.9451 - val_loss: 9.8154\n",
      "Epoch 42/50\n",
      "3/3 [==============================] - 0s 14ms/step - loss: 9.9375 - val_loss: 9.7901\n",
      "Epoch 43/50\n",
      "3/3 [==============================] - 0s 14ms/step - loss: 9.9334 - val_loss: 9.7209\n",
      "Epoch 44/50\n",
      "3/3 [==============================] - 0s 14ms/step - loss: 9.9261 - val_loss: 9.6302\n",
      "Epoch 45/50\n",
      "3/3 [==============================] - 0s 15ms/step - loss: 9.9179 - val_loss: 9.5889\n",
      "Epoch 46/50\n",
      "3/3 [==============================] - 0s 15ms/step - loss: 9.9092 - val_loss: 9.5260\n",
      "Epoch 47/50\n",
      "3/3 [==============================] - 0s 15ms/step - loss: 9.9004 - val_loss: 9.4771\n",
      "Epoch 48/50\n",
      "3/3 [==============================] - 0s 16ms/step - loss: 9.8924 - val_loss: 9.4397\n",
      "Epoch 49/50\n",
      "3/3 [==============================] - 0s 15ms/step - loss: 9.8834 - val_loss: 9.4679\n",
      "Epoch 50/50\n",
      "3/3 [==============================] - 0s 15ms/step - loss: 9.8768 - val_loss: 9.3971\n"
     ]
    },
    {
     "name": "stderr",
     "output_type": "stream",
     "text": [
      "C:\\Users\\Baejs\\anaconda3\\envs\\bae\\lib\\site-packages\\keras\\src\\engine\\training.py:3000: UserWarning: You are saving your model as an HDF5 file via `model.save()`. This file format is considered legacy. We recommend using instead the native Keras format, e.g. `model.save('my_model.keras')`.\n",
      "  saving_api.save_model(\n"
     ]
    },
    {
     "name": "stdout",
     "output_type": "stream",
     "text": [
      "============== EVALUATION ==============\n"
     ]
    },
    {
     "name": "stderr",
     "output_type": "stream",
     "text": [
      "  0%|                                                                                           | 0/10 [00:00<?, ?it/s]"
     ]
    },
    {
     "name": "stdout",
     "output_type": "stream",
     "text": [
      "10/10 [==============================] - 0s 1ms/step\n"
     ]
    },
    {
     "name": "stderr",
     "output_type": "stream",
     "text": [
      " 10%|████████▎                                                                          | 1/10 [00:00<00:01,  8.63it/s]"
     ]
    },
    {
     "name": "stdout",
     "output_type": "stream",
     "text": [
      "10/10 [==============================] - 0s 1ms/step\n",
      "10/10 [==============================] - 0s 1ms/step\n"
     ]
    },
    {
     "name": "stderr",
     "output_type": "stream",
     "text": [
      " 30%|████████████████████████▉                                                          | 3/10 [00:00<00:00, 11.62it/s]"
     ]
    },
    {
     "name": "stdout",
     "output_type": "stream",
     "text": [
      "10/10 [==============================] - 0s 2ms/step\n",
      "10/10 [==============================] - 0s 1ms/step\n"
     ]
    },
    {
     "name": "stderr",
     "output_type": "stream",
     "text": [
      " 50%|█████████████████████████████████████████▌                                         | 5/10 [00:00<00:00, 12.46it/s]"
     ]
    },
    {
     "name": "stdout",
     "output_type": "stream",
     "text": [
      "10/10 [==============================] - 0s 1ms/step\n",
      "10/10 [==============================] - 0s 997us/step\n"
     ]
    },
    {
     "name": "stderr",
     "output_type": "stream",
     "text": [
      " 70%|██████████████████████████████████████████████████████████                         | 7/10 [00:00<00:00, 12.83it/s]"
     ]
    },
    {
     "name": "stdout",
     "output_type": "stream",
     "text": [
      "10/10 [==============================] - 0s 1ms/step\n",
      "10/10 [==============================] - 0s 1ms/step\n"
     ]
    },
    {
     "name": "stderr",
     "output_type": "stream",
     "text": [
      " 90%|██████████████████████████████████████████████████████████████████████████▋        | 9/10 [00:00<00:00, 12.95it/s]"
     ]
    },
    {
     "name": "stdout",
     "output_type": "stream",
     "text": [
      "10/10 [==============================] - 0s 2ms/step\n"
     ]
    },
    {
     "name": "stderr",
     "output_type": "stream",
     "text": [
      "100%|██████████████████████████████████████████████████████████████████████████████████| 10/10 [00:00<00:00, 12.48it/s]\n",
      "2023-08-26 01:04:11,177 - INFO - AUC : 0.24\n"
     ]
    },
    {
     "name": "stdout",
     "output_type": "stream",
     "text": [
      "===========================\n",
      "\n",
      "Training transfer model for valve -> id_02 using pretrain model pretrain_('fan', 'pump')\n",
      "Epoch 1/50\n",
      "3/3 [==============================] - 1s 63ms/step - loss: 15.5933 - val_loss: 12.8531\n",
      "Epoch 2/50\n",
      "3/3 [==============================] - 0s 15ms/step - loss: 14.4748 - val_loss: 11.7795\n",
      "Epoch 3/50\n",
      "3/3 [==============================] - 0s 16ms/step - loss: 13.0045 - val_loss: 10.6911\n",
      "Epoch 4/50\n",
      "3/3 [==============================] - 0s 18ms/step - loss: 11.2968 - val_loss: 10.6769\n",
      "Epoch 5/50\n",
      "3/3 [==============================] - 0s 16ms/step - loss: 11.1034 - val_loss: 10.4595\n",
      "Epoch 6/50\n",
      "3/3 [==============================] - 0s 14ms/step - loss: 10.9140 - val_loss: 10.8891\n",
      "Epoch 7/50\n",
      "3/3 [==============================] - 0s 14ms/step - loss: 10.5106 - val_loss: 9.6582\n",
      "Epoch 8/50\n",
      "3/3 [==============================] - 0s 13ms/step - loss: 10.6296 - val_loss: 9.8571\n",
      "Epoch 9/50\n",
      "3/3 [==============================] - 0s 15ms/step - loss: 10.3059 - val_loss: 10.0535\n",
      "Epoch 10/50\n",
      "3/3 [==============================] - 0s 15ms/step - loss: 10.3119 - val_loss: 9.6240\n",
      "Epoch 11/50\n",
      "3/3 [==============================] - 0s 16ms/step - loss: 10.2313 - val_loss: 9.3327\n",
      "Epoch 12/50\n",
      "3/3 [==============================] - 0s 14ms/step - loss: 10.1389 - val_loss: 9.1470\n",
      "Epoch 13/50\n",
      "3/3 [==============================] - 0s 14ms/step - loss: 10.1347 - val_loss: 9.1394\n",
      "Epoch 14/50\n",
      "3/3 [==============================] - 0s 14ms/step - loss: 10.0658 - val_loss: 9.2082\n",
      "Epoch 15/50\n",
      "3/3 [==============================] - 0s 14ms/step - loss: 10.0408 - val_loss: 9.3026\n",
      "Epoch 16/50\n",
      "3/3 [==============================] - 0s 14ms/step - loss: 10.0269 - val_loss: 9.1992\n",
      "Epoch 17/50\n",
      "3/3 [==============================] - 0s 14ms/step - loss: 9.9904 - val_loss: 9.0464\n",
      "Epoch 18/50\n",
      "3/3 [==============================] - 0s 14ms/step - loss: 9.9727 - val_loss: 9.0463\n",
      "Epoch 19/50\n",
      "3/3 [==============================] - 0s 19ms/step - loss: 9.9569 - val_loss: 8.9690\n",
      "Epoch 20/50\n",
      "3/3 [==============================] - 0s 14ms/step - loss: 9.9363 - val_loss: 8.9185\n",
      "Epoch 21/50\n",
      "3/3 [==============================] - 0s 15ms/step - loss: 9.9208 - val_loss: 8.9711\n",
      "Epoch 22/50\n",
      "3/3 [==============================] - 0s 15ms/step - loss: 9.9094 - val_loss: 8.9363\n",
      "Epoch 23/50\n",
      "3/3 [==============================] - 0s 15ms/step - loss: 9.8939 - val_loss: 8.9187\n",
      "Epoch 24/50\n",
      "3/3 [==============================] - 0s 15ms/step - loss: 9.8809 - val_loss: 8.9250\n",
      "Epoch 25/50\n",
      "3/3 [==============================] - 0s 15ms/step - loss: 9.8693 - val_loss: 8.8238\n",
      "Epoch 26/50\n",
      "3/3 [==============================] - 0s 15ms/step - loss: 9.8579 - val_loss: 8.8272\n",
      "Epoch 27/50\n",
      "3/3 [==============================] - 0s 14ms/step - loss: 9.8475 - val_loss: 8.8220\n",
      "Epoch 28/50\n",
      "3/3 [==============================] - 0s 15ms/step - loss: 9.8374 - val_loss: 8.8084\n",
      "Epoch 29/50\n",
      "3/3 [==============================] - 0s 14ms/step - loss: 9.8271 - val_loss: 8.7852\n",
      "Epoch 30/50\n",
      "3/3 [==============================] - 0s 15ms/step - loss: 9.8188 - val_loss: 8.8189\n",
      "Epoch 31/50\n",
      "3/3 [==============================] - 0s 15ms/step - loss: 9.8083 - val_loss: 8.7969\n",
      "Epoch 32/50\n",
      "3/3 [==============================] - 0s 15ms/step - loss: 9.7991 - val_loss: 8.7146\n",
      "Epoch 33/50\n",
      "3/3 [==============================] - 0s 15ms/step - loss: 9.7890 - val_loss: 8.7196\n",
      "Epoch 34/50\n",
      "3/3 [==============================] - 0s 16ms/step - loss: 9.7833 - val_loss: 8.7493\n",
      "Epoch 35/50\n",
      "3/3 [==============================] - 0s 15ms/step - loss: 9.7769 - val_loss: 8.7615\n",
      "Epoch 36/50\n",
      "3/3 [==============================] - 0s 15ms/step - loss: 9.7679 - val_loss: 8.7754\n",
      "Epoch 37/50\n",
      "3/3 [==============================] - 0s 15ms/step - loss: 9.7601 - val_loss: 8.7045\n",
      "Epoch 38/50\n",
      "3/3 [==============================] - 0s 16ms/step - loss: 9.7532 - val_loss: 8.6838\n",
      "Epoch 39/50\n",
      "3/3 [==============================] - 0s 15ms/step - loss: 9.7459 - val_loss: 8.7353\n",
      "Epoch 40/50\n",
      "3/3 [==============================] - 0s 13ms/step - loss: 9.7376 - val_loss: 8.7120\n",
      "Epoch 41/50\n",
      "3/3 [==============================] - 0s 14ms/step - loss: 9.7312 - val_loss: 8.6677\n",
      "Epoch 42/50\n",
      "3/3 [==============================] - 0s 14ms/step - loss: 9.7269 - val_loss: 8.6847\n",
      "Epoch 43/50\n",
      "3/3 [==============================] - 0s 14ms/step - loss: 9.7193 - val_loss: 8.6745\n",
      "Epoch 44/50\n",
      "3/3 [==============================] - 0s 15ms/step - loss: 9.7138 - val_loss: 8.7472\n",
      "Epoch 45/50\n",
      "3/3 [==============================] - 0s 14ms/step - loss: 9.7063 - val_loss: 8.6416\n",
      "Epoch 46/50\n",
      "3/3 [==============================] - 0s 14ms/step - loss: 9.7006 - val_loss: 8.6747\n",
      "Epoch 47/50\n",
      "3/3 [==============================] - 0s 14ms/step - loss: 9.6943 - val_loss: 8.6935\n",
      "Epoch 48/50\n",
      "3/3 [==============================] - 0s 15ms/step - loss: 9.6894 - val_loss: 8.6652\n",
      "Epoch 49/50\n",
      "3/3 [==============================] - 0s 14ms/step - loss: 9.6819 - val_loss: 8.6685\n",
      "Epoch 50/50\n",
      "3/3 [==============================] - 0s 14ms/step - loss: 9.6753 - val_loss: 8.6878\n",
      "============== EVALUATION ==============\n"
     ]
    },
    {
     "name": "stderr",
     "output_type": "stream",
     "text": [
      "C:\\Users\\Baejs\\anaconda3\\envs\\bae\\lib\\site-packages\\keras\\src\\engine\\training.py:3000: UserWarning: You are saving your model as an HDF5 file via `model.save()`. This file format is considered legacy. We recommend using instead the native Keras format, e.g. `model.save('my_model.keras')`.\n",
      "  saving_api.save_model(\n",
      "  0%|                                                                                           | 0/10 [00:00<?, ?it/s]"
     ]
    },
    {
     "name": "stdout",
     "output_type": "stream",
     "text": [
      "10/10 [==============================] - 0s 2ms/step\n"
     ]
    },
    {
     "name": "stderr",
     "output_type": "stream",
     "text": [
      " 10%|████████▎                                                                          | 1/10 [00:00<00:01,  8.13it/s]"
     ]
    },
    {
     "name": "stdout",
     "output_type": "stream",
     "text": [
      "10/10 [==============================] - 0s 1ms/step\n",
      "10/10 [==============================] - 0s 1ms/step\n"
     ]
    },
    {
     "name": "stderr",
     "output_type": "stream",
     "text": [
      " 30%|████████████████████████▉                                                          | 3/10 [00:00<00:00, 11.08it/s]"
     ]
    },
    {
     "name": "stdout",
     "output_type": "stream",
     "text": [
      "10/10 [==============================] - 0s 1ms/step\n",
      "10/10 [==============================] - 0s 1ms/step\n"
     ]
    },
    {
     "name": "stderr",
     "output_type": "stream",
     "text": [
      " 50%|█████████████████████████████████████████▌                                         | 5/10 [00:00<00:00, 11.99it/s]"
     ]
    },
    {
     "name": "stdout",
     "output_type": "stream",
     "text": [
      "10/10 [==============================] - 0s 1ms/step\n",
      "10/10 [==============================] - 0s 1ms/step\n"
     ]
    },
    {
     "name": "stderr",
     "output_type": "stream",
     "text": [
      " 70%|██████████████████████████████████████████████████████████                         | 7/10 [00:00<00:00, 12.53it/s]"
     ]
    },
    {
     "name": "stdout",
     "output_type": "stream",
     "text": [
      "10/10 [==============================] - 0s 1ms/step\n",
      "10/10 [==============================] - 0s 1ms/step\n"
     ]
    },
    {
     "name": "stderr",
     "output_type": "stream",
     "text": [
      " 90%|██████████████████████████████████████████████████████████████████████████▋        | 9/10 [00:00<00:00, 12.81it/s]"
     ]
    },
    {
     "name": "stdout",
     "output_type": "stream",
     "text": [
      "10/10 [==============================] - 0s 1ms/step\n"
     ]
    },
    {
     "name": "stderr",
     "output_type": "stream",
     "text": [
      "100%|██████████████████████████████████████████████████████████████████████████████████| 10/10 [00:00<00:00, 12.29it/s]\n",
      "2023-08-26 01:04:14,834 - INFO - AUC : 0.28\n"
     ]
    },
    {
     "name": "stdout",
     "output_type": "stream",
     "text": [
      "===========================\n",
      "Model file not found for valve -> id_02. Skipping...\n",
      "\n",
      "Training transfer model for valve -> id_02 using pretrain model pretrain_('slider', 'pump')\n",
      "Epoch 1/50\n",
      "3/3 [==============================] - 1s 60ms/step - loss: 14.7624 - val_loss: 11.7655\n",
      "Epoch 2/50\n",
      "3/3 [==============================] - 0s 15ms/step - loss: 13.6918 - val_loss: 11.2421\n",
      "Epoch 3/50\n",
      "3/3 [==============================] - 0s 16ms/step - loss: 11.9127 - val_loss: 11.2814\n",
      "Epoch 4/50\n",
      "3/3 [==============================] - 0s 16ms/step - loss: 11.5609 - val_loss: 11.0672\n",
      "Epoch 5/50\n",
      "3/3 [==============================] - 0s 15ms/step - loss: 11.2761 - val_loss: 10.6260\n",
      "Epoch 6/50\n",
      "3/3 [==============================] - 0s 15ms/step - loss: 10.6890 - val_loss: 9.6631\n",
      "Epoch 7/50\n",
      "3/3 [==============================] - 0s 15ms/step - loss: 10.7982 - val_loss: 9.8551\n",
      "Epoch 8/50\n",
      "3/3 [==============================] - 0s 15ms/step - loss: 10.4773 - val_loss: 10.2932\n",
      "Epoch 9/50\n",
      "3/3 [==============================] - 0s 14ms/step - loss: 10.3595 - val_loss: 9.6376\n",
      "Epoch 10/50\n",
      "3/3 [==============================] - 0s 25ms/step - loss: 10.3642 - val_loss: 9.5316\n",
      "Epoch 11/50\n",
      "3/3 [==============================] - 0s 15ms/step - loss: 10.1983 - val_loss: 9.5384\n",
      "Epoch 12/50\n",
      "3/3 [==============================] - 0s 14ms/step - loss: 10.1866 - val_loss: 9.2620\n",
      "Epoch 13/50\n",
      "3/3 [==============================] - 0s 16ms/step - loss: 10.1372 - val_loss: 9.2076\n",
      "Epoch 14/50\n",
      "3/3 [==============================] - 0s 15ms/step - loss: 10.0803 - val_loss: 9.2959\n",
      "Epoch 15/50\n",
      "3/3 [==============================] - 0s 15ms/step - loss: 10.0543 - val_loss: 9.1605\n",
      "Epoch 16/50\n",
      "3/3 [==============================] - 0s 15ms/step - loss: 10.0290 - val_loss: 9.1141\n",
      "Epoch 17/50\n",
      "3/3 [==============================] - 0s 14ms/step - loss: 9.9987 - val_loss: 9.0832\n",
      "Epoch 18/50\n",
      "3/3 [==============================] - 0s 14ms/step - loss: 9.9754 - val_loss: 8.9713\n",
      "Epoch 19/50\n",
      "3/3 [==============================] - 0s 14ms/step - loss: 9.9671 - val_loss: 8.9913\n",
      "Epoch 20/50\n",
      "3/3 [==============================] - 0s 14ms/step - loss: 9.9445 - val_loss: 8.8922\n",
      "Epoch 21/50\n",
      "3/3 [==============================] - 0s 14ms/step - loss: 9.9293 - val_loss: 8.8081\n",
      "Epoch 22/50\n",
      "3/3 [==============================] - 0s 15ms/step - loss: 9.9116 - val_loss: 8.8400\n",
      "Epoch 23/50\n",
      "3/3 [==============================] - 0s 14ms/step - loss: 9.8999 - val_loss: 8.7788\n",
      "Epoch 24/50\n",
      "3/3 [==============================] - 0s 15ms/step - loss: 9.8875 - val_loss: 8.7640\n",
      "Epoch 25/50\n",
      "3/3 [==============================] - 0s 14ms/step - loss: 9.8732 - val_loss: 8.7267\n",
      "Epoch 26/50\n",
      "3/3 [==============================] - 0s 14ms/step - loss: 9.8612 - val_loss: 8.6838\n",
      "Epoch 27/50\n",
      "3/3 [==============================] - 0s 30ms/step - loss: 9.8470 - val_loss: 8.6824\n",
      "Epoch 28/50\n",
      "3/3 [==============================] - 0s 16ms/step - loss: 9.8376 - val_loss: 8.6846\n",
      "Epoch 29/50\n",
      "3/3 [==============================] - 0s 15ms/step - loss: 9.8262 - val_loss: 8.6388\n",
      "Epoch 30/50\n",
      "3/3 [==============================] - 0s 15ms/step - loss: 9.8152 - val_loss: 8.6090\n",
      "Epoch 31/50\n",
      "3/3 [==============================] - 0s 15ms/step - loss: 9.8036 - val_loss: 8.6267\n",
      "Epoch 32/50\n",
      "3/3 [==============================] - 0s 16ms/step - loss: 9.7939 - val_loss: 8.6331\n",
      "Epoch 33/50\n",
      "3/3 [==============================] - 0s 15ms/step - loss: 9.7839 - val_loss: 8.6214\n",
      "Epoch 34/50\n",
      "3/3 [==============================] - 0s 15ms/step - loss: 9.7762 - val_loss: 8.5831\n",
      "Epoch 35/50\n",
      "3/3 [==============================] - 0s 17ms/step - loss: 9.7642 - val_loss: 8.6326\n",
      "Epoch 36/50\n",
      "3/3 [==============================] - 0s 16ms/step - loss: 9.7546 - val_loss: 8.6224\n",
      "Epoch 37/50\n",
      "3/3 [==============================] - 0s 16ms/step - loss: 9.7440 - val_loss: 8.6278\n",
      "Epoch 38/50\n",
      "3/3 [==============================] - 0s 15ms/step - loss: 9.7339 - val_loss: 8.6028\n",
      "Epoch 39/50\n",
      "3/3 [==============================] - 0s 14ms/step - loss: 9.7273 - val_loss: 8.6134\n",
      "Epoch 40/50\n",
      "3/3 [==============================] - 0s 15ms/step - loss: 9.7171 - val_loss: 8.6433\n",
      "Epoch 41/50\n",
      "3/3 [==============================] - 0s 15ms/step - loss: 9.7119 - val_loss: 8.6425\n",
      "Epoch 42/50\n",
      "3/3 [==============================] - 0s 16ms/step - loss: 9.7048 - val_loss: 8.6330\n",
      "Epoch 43/50\n",
      "3/3 [==============================] - 0s 16ms/step - loss: 9.6984 - val_loss: 8.6529\n",
      "Epoch 44/50\n",
      "3/3 [==============================] - 0s 17ms/step - loss: 9.6876 - val_loss: 8.6631\n",
      "Epoch 45/50\n",
      "3/3 [==============================] - 0s 14ms/step - loss: 9.6771 - val_loss: 8.6294\n",
      "Epoch 46/50\n",
      "3/3 [==============================] - 0s 14ms/step - loss: 9.6703 - val_loss: 8.6504\n",
      "Epoch 47/50\n",
      "3/3 [==============================] - 0s 15ms/step - loss: 9.6626 - val_loss: 8.6588\n",
      "Epoch 48/50\n",
      "3/3 [==============================] - 0s 14ms/step - loss: 9.6566 - val_loss: 8.6518\n",
      "Epoch 49/50\n",
      "3/3 [==============================] - 0s 16ms/step - loss: 9.6501 - val_loss: 8.6899\n",
      "Epoch 50/50\n",
      "3/3 [==============================] - 0s 15ms/step - loss: 9.6451 - val_loss: 8.7021\n",
      "============== EVALUATION ==============\n"
     ]
    },
    {
     "name": "stderr",
     "output_type": "stream",
     "text": [
      "C:\\Users\\Baejs\\anaconda3\\envs\\bae\\lib\\site-packages\\keras\\src\\engine\\training.py:3000: UserWarning: You are saving your model as an HDF5 file via `model.save()`. This file format is considered legacy. We recommend using instead the native Keras format, e.g. `model.save('my_model.keras')`.\n",
      "  saving_api.save_model(\n",
      "  0%|                                                                                           | 0/10 [00:00<?, ?it/s]"
     ]
    },
    {
     "name": "stdout",
     "output_type": "stream",
     "text": [
      "10/10 [==============================] - 0s 2ms/step\n"
     ]
    },
    {
     "name": "stderr",
     "output_type": "stream",
     "text": [
      " 10%|████████▎                                                                          | 1/10 [00:00<00:01,  7.11it/s]"
     ]
    },
    {
     "name": "stdout",
     "output_type": "stream",
     "text": [
      "10/10 [==============================] - 0s 2ms/step\n"
     ]
    },
    {
     "name": "stderr",
     "output_type": "stream",
     "text": [
      " 20%|████████████████▌                                                                  | 2/10 [00:00<00:01,  7.20it/s]"
     ]
    },
    {
     "name": "stdout",
     "output_type": "stream",
     "text": [
      "10/10 [==============================] - 0s 997us/step\n",
      "10/10 [==============================] - 0s 1ms/step\n"
     ]
    },
    {
     "name": "stderr",
     "output_type": "stream",
     "text": [
      " 40%|█████████████████████████████████▏                                                 | 4/10 [00:00<00:00,  9.77it/s]"
     ]
    },
    {
     "name": "stdout",
     "output_type": "stream",
     "text": [
      "10/10 [==============================] - 0s 2ms/step\n",
      "10/10 [==============================] - 0s 1ms/step\n"
     ]
    },
    {
     "name": "stderr",
     "output_type": "stream",
     "text": [
      " 60%|█████████████████████████████████████████████████▊                                 | 6/10 [00:00<00:00, 11.03it/s]"
     ]
    },
    {
     "name": "stdout",
     "output_type": "stream",
     "text": [
      "10/10 [==============================] - 0s 2ms/step\n",
      "10/10 [==============================] - 0s 1ms/step\n"
     ]
    },
    {
     "name": "stderr",
     "output_type": "stream",
     "text": [
      " 80%|██████████████████████████████████████████████████████████████████▍                | 8/10 [00:00<00:00, 11.56it/s]"
     ]
    },
    {
     "name": "stdout",
     "output_type": "stream",
     "text": [
      "10/10 [==============================] - 0s 1ms/step\n",
      "10/10 [==============================] - 0s 1ms/step\n"
     ]
    },
    {
     "name": "stderr",
     "output_type": "stream",
     "text": [
      "100%|██████████████████████████████████████████████████████████████████████████████████| 10/10 [00:00<00:00, 10.99it/s]\n",
      "2023-08-26 01:04:18,641 - INFO - AUC : 0.28\n",
      "2023-08-26 01:04:18,642 - INFO - target_dir : ../Sample_data\n",
      "2023-08-26 01:04:18,644 - INFO - train_file num : 5\n",
      "2023-08-26 01:04:18,645 - INFO - eval_file  num : 10\n"
     ]
    },
    {
     "name": "stdout",
     "output_type": "stream",
     "text": [
      "===========================\n",
      "Model file not found for valve -> id_02. Skipping...\n",
      "Model file not found for valve -> id_02. Skipping...\n",
      "\n",
      "===========================\n"
     ]
    },
    {
     "name": "stderr",
     "output_type": "stream",
     "text": [
      "generate train_dataset: 100%|████████████████████████████████████████████████████████████| 5/5 [00:00<00:00, 71.62it/s]\n",
      "2023-08-26 01:04:18,720 - INFO - save_pickle -> ./pickle_transfer_pretrain_v3/train_valve_id_04.pickle\n",
      "2023-08-26 01:04:18,726 - INFO - save_pickle -> ./pickle_transfer_pretrain_v3/eval_files_valve_id_04.pickle\n",
      "2023-08-26 01:04:18,728 - INFO - save_pickle -> ./pickle_transfer_pretrain_v3/eval_labels_valve_id_04.pickle\n"
     ]
    },
    {
     "name": "stdout",
     "output_type": "stream",
     "text": [
      "\n",
      "Training transfer model for valve -> id_04 using pretrain model pretrain_('fan', 'slider')\n",
      "Epoch 1/50\n",
      "3/3 [==============================] - 1s 59ms/step - loss: 20.8947 - val_loss: 17.8765\n",
      "Epoch 2/50\n",
      "3/3 [==============================] - 0s 15ms/step - loss: 18.4583 - val_loss: 15.9235\n",
      "Epoch 3/50\n",
      "3/3 [==============================] - 0s 15ms/step - loss: 16.0688 - val_loss: 16.6174\n",
      "Epoch 4/50\n",
      "3/3 [==============================] - 0s 14ms/step - loss: 16.1135 - val_loss: 13.0495\n",
      "Epoch 5/50\n",
      "3/3 [==============================] - 0s 16ms/step - loss: 14.7798 - val_loss: 14.0490\n",
      "Epoch 6/50\n",
      "3/3 [==============================] - 0s 15ms/step - loss: 14.5041 - val_loss: 13.6780\n",
      "Epoch 7/50\n",
      "3/3 [==============================] - 0s 15ms/step - loss: 14.4721 - val_loss: 13.6838\n",
      "Epoch 8/50\n",
      "3/3 [==============================] - 0s 14ms/step - loss: 13.9791 - val_loss: 13.1093\n",
      "Epoch 9/50\n",
      "3/3 [==============================] - 0s 14ms/step - loss: 14.0309 - val_loss: 13.1049\n",
      "Epoch 10/50\n",
      "3/3 [==============================] - 0s 14ms/step - loss: 13.6757 - val_loss: 13.2058\n",
      "Epoch 11/50\n",
      "3/3 [==============================] - 0s 15ms/step - loss: 13.6910 - val_loss: 12.7664\n",
      "Epoch 12/50\n",
      "3/3 [==============================] - 0s 14ms/step - loss: 13.5225 - val_loss: 12.5804\n",
      "Epoch 13/50\n",
      "3/3 [==============================] - 0s 14ms/step - loss: 13.4177 - val_loss: 12.7458\n",
      "Epoch 14/50\n",
      "3/3 [==============================] - 0s 14ms/step - loss: 13.3519 - val_loss: 12.6475\n",
      "Epoch 15/50\n",
      "3/3 [==============================] - 0s 14ms/step - loss: 13.2414 - val_loss: 12.4744\n",
      "Epoch 16/50\n",
      "3/3 [==============================] - 0s 15ms/step - loss: 13.1825 - val_loss: 12.6010\n",
      "Epoch 17/50\n",
      "3/3 [==============================] - 0s 15ms/step - loss: 13.1205 - val_loss: 12.4310\n",
      "Epoch 18/50\n",
      "3/3 [==============================] - 0s 14ms/step - loss: 13.0483 - val_loss: 12.4418\n",
      "Epoch 19/50\n",
      "3/3 [==============================] - 0s 14ms/step - loss: 12.9729 - val_loss: 12.4882\n",
      "Epoch 20/50\n",
      "3/3 [==============================] - 0s 14ms/step - loss: 12.9213 - val_loss: 12.4113\n",
      "Epoch 21/50\n",
      "3/3 [==============================] - 0s 14ms/step - loss: 12.8698 - val_loss: 12.4515\n",
      "Epoch 22/50\n",
      "3/3 [==============================] - 0s 14ms/step - loss: 12.8117 - val_loss: 12.5186\n",
      "Epoch 23/50\n",
      "3/3 [==============================] - 0s 14ms/step - loss: 12.7608 - val_loss: 12.5406\n",
      "Epoch 24/50\n",
      "3/3 [==============================] - 0s 14ms/step - loss: 12.7189 - val_loss: 12.5520\n",
      "Epoch 25/50\n",
      "3/3 [==============================] - 0s 14ms/step - loss: 12.6768 - val_loss: 12.5658\n",
      "Epoch 26/50\n",
      "3/3 [==============================] - 0s 14ms/step - loss: 12.6321 - val_loss: 12.5653\n",
      "Epoch 27/50\n",
      "3/3 [==============================] - 0s 14ms/step - loss: 12.5896 - val_loss: 12.6304\n",
      "Epoch 28/50\n",
      "3/3 [==============================] - 0s 14ms/step - loss: 12.5453 - val_loss: 12.6854\n",
      "Epoch 29/50\n",
      "3/3 [==============================] - 0s 15ms/step - loss: 12.5034 - val_loss: 12.7536\n",
      "Epoch 30/50\n",
      "3/3 [==============================] - 0s 14ms/step - loss: 12.4623 - val_loss: 12.7530\n",
      "Epoch 31/50\n",
      "3/3 [==============================] - 0s 13ms/step - loss: 12.4180 - val_loss: 12.7378\n",
      "Epoch 32/50\n",
      "3/3 [==============================] - 0s 13ms/step - loss: 12.3765 - val_loss: 12.7857\n",
      "Epoch 33/50\n",
      "3/3 [==============================] - 0s 14ms/step - loss: 12.3325 - val_loss: 12.8828\n",
      "Epoch 34/50\n",
      "3/3 [==============================] - 0s 15ms/step - loss: 12.2907 - val_loss: 12.9064\n",
      "Epoch 35/50\n",
      "3/3 [==============================] - 0s 14ms/step - loss: 12.2480 - val_loss: 12.9112\n",
      "Epoch 36/50\n",
      "3/3 [==============================] - 0s 13ms/step - loss: 12.2036 - val_loss: 12.9283\n",
      "Epoch 37/50\n",
      "3/3 [==============================] - 0s 14ms/step - loss: 12.1587 - val_loss: 12.9731\n",
      "Epoch 38/50\n",
      "3/3 [==============================] - 0s 14ms/step - loss: 12.1151 - val_loss: 13.0230\n",
      "Epoch 39/50\n",
      "3/3 [==============================] - 0s 14ms/step - loss: 12.0666 - val_loss: 12.9967\n",
      "Epoch 40/50\n",
      "3/3 [==============================] - 0s 14ms/step - loss: 12.0202 - val_loss: 13.0686\n",
      "Epoch 41/50\n",
      "3/3 [==============================] - 0s 14ms/step - loss: 11.9745 - val_loss: 13.0635\n",
      "Epoch 42/50\n",
      "3/3 [==============================] - 0s 14ms/step - loss: 11.9264 - val_loss: 13.1239\n",
      "Epoch 43/50\n",
      "3/3 [==============================] - 0s 15ms/step - loss: 11.8778 - val_loss: 13.1853\n",
      "Epoch 44/50\n",
      "3/3 [==============================] - 0s 14ms/step - loss: 11.8321 - val_loss: 13.1929\n",
      "Epoch 45/50\n",
      "3/3 [==============================] - 0s 14ms/step - loss: 11.7793 - val_loss: 13.1145\n",
      "Epoch 46/50\n",
      "3/3 [==============================] - 0s 16ms/step - loss: 11.7296 - val_loss: 13.1810\n",
      "Epoch 47/50\n",
      "3/3 [==============================] - 0s 15ms/step - loss: 11.6769 - val_loss: 13.2527\n",
      "Epoch 48/50\n",
      "3/3 [==============================] - 0s 14ms/step - loss: 11.6312 - val_loss: 13.1870\n",
      "Epoch 49/50\n",
      "3/3 [==============================] - 0s 13ms/step - loss: 11.5816 - val_loss: 13.2760\n",
      "Epoch 50/50\n",
      "3/3 [==============================] - 0s 14ms/step - loss: 11.5291 - val_loss: 13.2422\n",
      "============== EVALUATION ==============\n"
     ]
    },
    {
     "name": "stderr",
     "output_type": "stream",
     "text": [
      "C:\\Users\\Baejs\\anaconda3\\envs\\bae\\lib\\site-packages\\keras\\src\\engine\\training.py:3000: UserWarning: You are saving your model as an HDF5 file via `model.save()`. This file format is considered legacy. We recommend using instead the native Keras format, e.g. `model.save('my_model.keras')`.\n",
      "  saving_api.save_model(\n",
      "  0%|                                                                                           | 0/10 [00:00<?, ?it/s]"
     ]
    },
    {
     "name": "stdout",
     "output_type": "stream",
     "text": [
      "10/10 [==============================] - 0s 1ms/step\n"
     ]
    },
    {
     "name": "stderr",
     "output_type": "stream",
     "text": [
      " 10%|████████▎                                                                          | 1/10 [00:00<00:01,  7.48it/s]"
     ]
    },
    {
     "name": "stdout",
     "output_type": "stream",
     "text": [
      "10/10 [==============================] - 0s 1ms/step\n",
      "10/10 [==============================] - 0s 1ms/step\n"
     ]
    },
    {
     "name": "stderr",
     "output_type": "stream",
     "text": [
      " 30%|████████████████████████▉                                                          | 3/10 [00:00<00:00, 11.29it/s]"
     ]
    },
    {
     "name": "stdout",
     "output_type": "stream",
     "text": [
      "10/10 [==============================] - 0s 1ms/step\n",
      "10/10 [==============================] - 0s 1ms/step\n"
     ]
    },
    {
     "name": "stderr",
     "output_type": "stream",
     "text": [
      " 50%|█████████████████████████████████████████▌                                         | 5/10 [00:00<00:00, 12.36it/s]"
     ]
    },
    {
     "name": "stdout",
     "output_type": "stream",
     "text": [
      "10/10 [==============================] - 0s 1ms/step\n",
      "10/10 [==============================] - 0s 1ms/step\n"
     ]
    },
    {
     "name": "stderr",
     "output_type": "stream",
     "text": [
      " 70%|██████████████████████████████████████████████████████████                         | 7/10 [00:00<00:00, 12.85it/s]"
     ]
    },
    {
     "name": "stdout",
     "output_type": "stream",
     "text": [
      "10/10 [==============================] - 0s 1ms/step\n",
      "10/10 [==============================] - 0s 1ms/step\n"
     ]
    },
    {
     "name": "stderr",
     "output_type": "stream",
     "text": [
      " 90%|██████████████████████████████████████████████████████████████████████████▋        | 9/10 [00:00<00:00, 12.95it/s]"
     ]
    },
    {
     "name": "stdout",
     "output_type": "stream",
     "text": [
      "10/10 [==============================] - 0s 1ms/step\n"
     ]
    },
    {
     "name": "stderr",
     "output_type": "stream",
     "text": [
      "100%|██████████████████████████████████████████████████████████████████████████████████| 10/10 [00:00<00:00, 12.46it/s]\n",
      "2023-08-26 01:04:22,240 - INFO - AUC : 0.28\n"
     ]
    },
    {
     "name": "stdout",
     "output_type": "stream",
     "text": [
      "===========================\n",
      "\n",
      "Training transfer model for valve -> id_04 using pretrain model pretrain_('fan', 'pump')\n",
      "Epoch 1/50\n",
      "3/3 [==============================] - 1s 59ms/step - loss: 17.3083 - val_loss: 21.9124\n",
      "Epoch 2/50\n",
      "3/3 [==============================] - 0s 15ms/step - loss: 16.2923 - val_loss: 17.5078\n",
      "Epoch 3/50\n",
      "3/3 [==============================] - 0s 15ms/step - loss: 15.4802 - val_loss: 14.3080\n",
      "Epoch 4/50\n",
      "3/3 [==============================] - 0s 16ms/step - loss: 14.3434 - val_loss: 13.2766\n",
      "Epoch 5/50\n",
      "3/3 [==============================] - 0s 14ms/step - loss: 13.1623 - val_loss: 14.3066\n",
      "Epoch 6/50\n",
      "3/3 [==============================] - 0s 14ms/step - loss: 13.2817 - val_loss: 13.4264\n",
      "Epoch 7/50\n",
      "3/3 [==============================] - 0s 14ms/step - loss: 13.1952 - val_loss: 13.0934\n",
      "Epoch 8/50\n",
      "3/3 [==============================] - 0s 15ms/step - loss: 12.6993 - val_loss: 13.6626\n",
      "Epoch 9/50\n",
      "3/3 [==============================] - 0s 14ms/step - loss: 12.5978 - val_loss: 13.4509\n",
      "Epoch 10/50\n",
      "3/3 [==============================] - 0s 14ms/step - loss: 12.5917 - val_loss: 13.0758\n",
      "Epoch 11/50\n",
      "3/3 [==============================] - 0s 13ms/step - loss: 12.4119 - val_loss: 13.0157\n",
      "Epoch 12/50\n",
      "3/3 [==============================] - 0s 14ms/step - loss: 12.2734 - val_loss: 13.0065\n",
      "Epoch 13/50\n",
      "3/3 [==============================] - 0s 15ms/step - loss: 12.2329 - val_loss: 12.9864\n",
      "Epoch 14/50\n",
      "3/3 [==============================] - 0s 14ms/step - loss: 12.1782 - val_loss: 13.0234\n",
      "Epoch 15/50\n",
      "3/3 [==============================] - 0s 15ms/step - loss: 12.0868 - val_loss: 13.0534\n",
      "Epoch 16/50\n",
      "3/3 [==============================] - 0s 14ms/step - loss: 12.0106 - val_loss: 13.0420\n",
      "Epoch 17/50\n",
      "3/3 [==============================] - 0s 14ms/step - loss: 11.9654 - val_loss: 12.9497\n",
      "Epoch 18/50\n",
      "3/3 [==============================] - 0s 14ms/step - loss: 11.9154 - val_loss: 12.9907\n",
      "Epoch 19/50\n",
      "3/3 [==============================] - 0s 14ms/step - loss: 11.8614 - val_loss: 13.0524\n",
      "Epoch 20/50\n",
      "3/3 [==============================] - 0s 14ms/step - loss: 11.8127 - val_loss: 13.0599\n",
      "Epoch 21/50\n",
      "3/3 [==============================] - 0s 15ms/step - loss: 11.7630 - val_loss: 12.9862\n",
      "Epoch 22/50\n",
      "3/3 [==============================] - 0s 14ms/step - loss: 11.7167 - val_loss: 13.0469\n",
      "Epoch 23/50\n",
      "3/3 [==============================] - 0s 14ms/step - loss: 11.6740 - val_loss: 12.9748\n",
      "Epoch 24/50\n",
      "3/3 [==============================] - 0s 14ms/step - loss: 11.6386 - val_loss: 13.0558\n",
      "Epoch 25/50\n",
      "3/3 [==============================] - 0s 14ms/step - loss: 11.5982 - val_loss: 13.0467\n",
      "Epoch 26/50\n",
      "3/3 [==============================] - 0s 13ms/step - loss: 11.5553 - val_loss: 13.0649\n",
      "Epoch 27/50\n",
      "3/3 [==============================] - 0s 15ms/step - loss: 11.5209 - val_loss: 12.9978\n",
      "Epoch 28/50\n",
      "3/3 [==============================] - 0s 14ms/step - loss: 11.4871 - val_loss: 13.0269\n",
      "Epoch 29/50\n",
      "3/3 [==============================] - 0s 14ms/step - loss: 11.4475 - val_loss: 13.0275\n",
      "Epoch 30/50\n",
      "3/3 [==============================] - 0s 14ms/step - loss: 11.4134 - val_loss: 13.0353\n",
      "Epoch 31/50\n",
      "3/3 [==============================] - 0s 14ms/step - loss: 11.3814 - val_loss: 13.0231\n",
      "Epoch 32/50\n",
      "3/3 [==============================] - 0s 14ms/step - loss: 11.3488 - val_loss: 13.0192\n",
      "Epoch 33/50\n",
      "3/3 [==============================] - 0s 14ms/step - loss: 11.3201 - val_loss: 13.0436\n",
      "Epoch 34/50\n",
      "3/3 [==============================] - 0s 14ms/step - loss: 11.2948 - val_loss: 13.0254\n",
      "Epoch 35/50\n",
      "3/3 [==============================] - 0s 15ms/step - loss: 11.2663 - val_loss: 13.0453\n",
      "Epoch 36/50\n",
      "3/3 [==============================] - 0s 14ms/step - loss: 11.2407 - val_loss: 12.9540\n",
      "Epoch 37/50\n",
      "3/3 [==============================] - 0s 14ms/step - loss: 11.2125 - val_loss: 12.9941\n",
      "Epoch 38/50\n",
      "3/3 [==============================] - 0s 14ms/step - loss: 11.1892 - val_loss: 12.9945\n",
      "Epoch 39/50\n",
      "3/3 [==============================] - 0s 14ms/step - loss: 11.1686 - val_loss: 12.9362\n",
      "Epoch 40/50\n",
      "3/3 [==============================] - 0s 14ms/step - loss: 11.1440 - val_loss: 12.9097\n",
      "Epoch 41/50\n",
      "3/3 [==============================] - 0s 14ms/step - loss: 11.1241 - val_loss: 12.9516\n",
      "Epoch 42/50\n",
      "3/3 [==============================] - 0s 14ms/step - loss: 11.1028 - val_loss: 12.9044\n",
      "Epoch 43/50\n",
      "3/3 [==============================] - 0s 15ms/step - loss: 11.0846 - val_loss: 12.9120\n",
      "Epoch 44/50\n",
      "3/3 [==============================] - 0s 14ms/step - loss: 11.0656 - val_loss: 12.9132\n",
      "Epoch 45/50\n",
      "3/3 [==============================] - 0s 16ms/step - loss: 11.0516 - val_loss: 12.8505\n",
      "Epoch 46/50\n",
      "3/3 [==============================] - 0s 14ms/step - loss: 11.0361 - val_loss: 12.8741\n",
      "Epoch 47/50\n",
      "3/3 [==============================] - 0s 15ms/step - loss: 11.0158 - val_loss: 12.8884\n",
      "Epoch 48/50\n",
      "3/3 [==============================] - 0s 14ms/step - loss: 10.9985 - val_loss: 12.7978\n",
      "Epoch 49/50\n",
      "3/3 [==============================] - 0s 14ms/step - loss: 10.9849 - val_loss: 12.8353\n",
      "Epoch 50/50\n",
      "3/3 [==============================] - 0s 15ms/step - loss: 10.9668 - val_loss: 12.8517\n"
     ]
    },
    {
     "name": "stderr",
     "output_type": "stream",
     "text": [
      "C:\\Users\\Baejs\\anaconda3\\envs\\bae\\lib\\site-packages\\keras\\src\\engine\\training.py:3000: UserWarning: You are saving your model as an HDF5 file via `model.save()`. This file format is considered legacy. We recommend using instead the native Keras format, e.g. `model.save('my_model.keras')`.\n",
      "  saving_api.save_model(\n"
     ]
    },
    {
     "name": "stdout",
     "output_type": "stream",
     "text": [
      "============== EVALUATION ==============\n"
     ]
    },
    {
     "name": "stderr",
     "output_type": "stream",
     "text": [
      "  0%|                                                                                           | 0/10 [00:00<?, ?it/s]"
     ]
    },
    {
     "name": "stdout",
     "output_type": "stream",
     "text": [
      "10/10 [==============================] - 0s 1ms/step\n"
     ]
    },
    {
     "name": "stderr",
     "output_type": "stream",
     "text": [
      " 10%|████████▎                                                                          | 1/10 [00:00<00:01,  8.57it/s]"
     ]
    },
    {
     "name": "stdout",
     "output_type": "stream",
     "text": [
      "10/10 [==============================] - 0s 1ms/step\n",
      "10/10 [==============================] - 0s 1ms/step\n"
     ]
    },
    {
     "name": "stderr",
     "output_type": "stream",
     "text": [
      " 30%|████████████████████████▉                                                          | 3/10 [00:00<00:00, 11.83it/s]"
     ]
    },
    {
     "name": "stdout",
     "output_type": "stream",
     "text": [
      "10/10 [==============================] - 0s 1ms/step\n",
      "10/10 [==============================] - 0s 1ms/step\n"
     ]
    },
    {
     "name": "stderr",
     "output_type": "stream",
     "text": [
      " 50%|█████████████████████████████████████████▌                                         | 5/10 [00:00<00:00, 12.67it/s]"
     ]
    },
    {
     "name": "stdout",
     "output_type": "stream",
     "text": [
      "10/10 [==============================] - 0s 1ms/step\n",
      "10/10 [==============================] - 0s 1ms/step\n"
     ]
    },
    {
     "name": "stderr",
     "output_type": "stream",
     "text": [
      " 70%|██████████████████████████████████████████████████████████                         | 7/10 [00:00<00:00, 12.35it/s]"
     ]
    },
    {
     "name": "stdout",
     "output_type": "stream",
     "text": [
      "10/10 [==============================] - 0s 1ms/step\n",
      "10/10 [==============================] - 0s 1ms/step\n"
     ]
    },
    {
     "name": "stderr",
     "output_type": "stream",
     "text": [
      " 90%|██████████████████████████████████████████████████████████████████████████▋        | 9/10 [00:00<00:00, 12.78it/s]"
     ]
    },
    {
     "name": "stdout",
     "output_type": "stream",
     "text": [
      "10/10 [==============================] - 0s 1ms/step\n"
     ]
    },
    {
     "name": "stderr",
     "output_type": "stream",
     "text": [
      "100%|██████████████████████████████████████████████████████████████████████████████████| 10/10 [00:00<00:00, 12.46it/s]\n",
      "2023-08-26 01:04:25,783 - INFO - AUC : 0.6000000000000001\n"
     ]
    },
    {
     "name": "stdout",
     "output_type": "stream",
     "text": [
      "===========================\n",
      "Model file not found for valve -> id_04. Skipping...\n",
      "\n",
      "Training transfer model for valve -> id_04 using pretrain model pretrain_('slider', 'pump')\n",
      "Epoch 1/50\n",
      "3/3 [==============================] - 1s 165ms/step - loss: 16.3517 - val_loss: 17.2024\n",
      "Epoch 2/50\n",
      "3/3 [==============================] - 0s 16ms/step - loss: 15.7706 - val_loss: 14.4333\n",
      "Epoch 3/50\n",
      "3/3 [==============================] - 0s 16ms/step - loss: 14.2017 - val_loss: 15.5438\n",
      "Epoch 4/50\n",
      "3/3 [==============================] - 0s 15ms/step - loss: 13.6053 - val_loss: 12.4363\n",
      "Epoch 5/50\n",
      "3/3 [==============================] - 0s 15ms/step - loss: 13.5719 - val_loss: 12.3446\n",
      "Epoch 6/50\n",
      "3/3 [==============================] - 0s 15ms/step - loss: 12.8719 - val_loss: 13.6220\n",
      "Epoch 7/50\n",
      "3/3 [==============================] - 0s 14ms/step - loss: 12.9610 - val_loss: 12.1736\n",
      "Epoch 8/50\n",
      "3/3 [==============================] - 0s 15ms/step - loss: 12.6913 - val_loss: 12.1608\n",
      "Epoch 9/50\n",
      "3/3 [==============================] - 0s 14ms/step - loss: 12.4804 - val_loss: 12.5779\n",
      "Epoch 10/50\n",
      "3/3 [==============================] - 0s 15ms/step - loss: 12.4524 - val_loss: 12.0514\n",
      "Epoch 11/50\n",
      "3/3 [==============================] - 0s 14ms/step - loss: 12.2306 - val_loss: 11.9311\n",
      "Epoch 12/50\n",
      "3/3 [==============================] - 0s 13ms/step - loss: 12.1483 - val_loss: 12.1222\n",
      "Epoch 13/50\n",
      "3/3 [==============================] - 0s 14ms/step - loss: 12.0630 - val_loss: 12.1130\n",
      "Epoch 14/50\n",
      "3/3 [==============================] - 0s 14ms/step - loss: 11.9279 - val_loss: 12.0674\n",
      "Epoch 15/50\n",
      "3/3 [==============================] - 0s 16ms/step - loss: 11.8592 - val_loss: 12.0452\n",
      "Epoch 16/50\n",
      "3/3 [==============================] - 0s 15ms/step - loss: 11.7767 - val_loss: 11.9918\n",
      "Epoch 17/50\n",
      "3/3 [==============================] - 0s 15ms/step - loss: 11.6798 - val_loss: 11.9685\n",
      "Epoch 18/50\n",
      "3/3 [==============================] - 0s 14ms/step - loss: 11.6072 - val_loss: 12.0265\n",
      "Epoch 19/50\n",
      "3/3 [==============================] - 0s 16ms/step - loss: 11.5363 - val_loss: 12.0110\n",
      "Epoch 20/50\n",
      "3/3 [==============================] - 0s 15ms/step - loss: 11.4711 - val_loss: 12.0143\n",
      "Epoch 21/50\n",
      "3/3 [==============================] - 0s 14ms/step - loss: 11.4101 - val_loss: 12.0299\n",
      "Epoch 22/50\n",
      "3/3 [==============================] - 0s 14ms/step - loss: 11.3551 - val_loss: 12.0090\n",
      "Epoch 23/50\n",
      "3/3 [==============================] - 0s 14ms/step - loss: 11.3056 - val_loss: 11.9969\n",
      "Epoch 24/50\n",
      "3/3 [==============================] - 0s 14ms/step - loss: 11.2605 - val_loss: 12.0090\n",
      "Epoch 25/50\n",
      "3/3 [==============================] - 0s 14ms/step - loss: 11.2162 - val_loss: 12.0366\n",
      "Epoch 26/50\n",
      "3/3 [==============================] - 0s 15ms/step - loss: 11.1744 - val_loss: 12.0592\n",
      "Epoch 27/50\n",
      "3/3 [==============================] - 0s 15ms/step - loss: 11.1403 - val_loss: 12.0620\n",
      "Epoch 28/50\n",
      "3/3 [==============================] - 0s 16ms/step - loss: 11.1072 - val_loss: 12.0680\n",
      "Epoch 29/50\n",
      "3/3 [==============================] - 0s 15ms/step - loss: 11.0746 - val_loss: 12.0615\n",
      "Epoch 30/50\n",
      "3/3 [==============================] - 0s 14ms/step - loss: 11.0426 - val_loss: 12.0449\n",
      "Epoch 31/50\n",
      "3/3 [==============================] - 0s 14ms/step - loss: 11.0160 - val_loss: 12.0964\n",
      "Epoch 32/50\n",
      "3/3 [==============================] - 0s 14ms/step - loss: 10.9895 - val_loss: 12.1380\n",
      "Epoch 33/50\n",
      "3/3 [==============================] - 0s 14ms/step - loss: 10.9630 - val_loss: 12.0696\n",
      "Epoch 34/50\n",
      "3/3 [==============================] - 0s 14ms/step - loss: 10.9397 - val_loss: 12.0673\n",
      "Epoch 35/50\n",
      "3/3 [==============================] - 0s 14ms/step - loss: 10.9187 - val_loss: 12.0855\n",
      "Epoch 36/50\n",
      "3/3 [==============================] - 0s 17ms/step - loss: 10.9025 - val_loss: 12.1436\n",
      "Epoch 37/50\n",
      "3/3 [==============================] - 0s 15ms/step - loss: 10.8818 - val_loss: 12.1061\n",
      "Epoch 38/50\n",
      "3/3 [==============================] - 0s 15ms/step - loss: 10.8663 - val_loss: 12.1005\n",
      "Epoch 39/50\n",
      "3/3 [==============================] - 0s 14ms/step - loss: 10.8472 - val_loss: 12.0757\n",
      "Epoch 40/50\n",
      "3/3 [==============================] - 0s 14ms/step - loss: 10.8310 - val_loss: 12.0808\n",
      "Epoch 41/50\n",
      "3/3 [==============================] - 0s 14ms/step - loss: 10.8219 - val_loss: 12.0702\n",
      "Epoch 42/50\n",
      "3/3 [==============================] - 0s 14ms/step - loss: 10.8048 - val_loss: 12.0796\n",
      "Epoch 43/50\n",
      "3/3 [==============================] - 0s 15ms/step - loss: 10.7896 - val_loss: 12.0177\n",
      "Epoch 44/50\n",
      "3/3 [==============================] - 0s 14ms/step - loss: 10.7727 - val_loss: 12.0844\n",
      "Epoch 45/50\n",
      "3/3 [==============================] - 0s 14ms/step - loss: 10.7706 - val_loss: 12.0567\n",
      "Epoch 46/50\n",
      "3/3 [==============================] - 0s 14ms/step - loss: 10.7627 - val_loss: 12.1008\n",
      "Epoch 47/50\n",
      "3/3 [==============================] - 0s 14ms/step - loss: 10.7557 - val_loss: 12.0601\n",
      "Epoch 48/50\n",
      "3/3 [==============================] - 0s 14ms/step - loss: 10.7334 - val_loss: 12.0434\n",
      "Epoch 49/50\n",
      "3/3 [==============================] - 0s 15ms/step - loss: 10.7233 - val_loss: 11.9967\n",
      "Epoch 50/50\n",
      "3/3 [==============================] - 0s 14ms/step - loss: 10.7049 - val_loss: 12.0135\n",
      "============== EVALUATION ==============\n"
     ]
    },
    {
     "name": "stderr",
     "output_type": "stream",
     "text": [
      "C:\\Users\\Baejs\\anaconda3\\envs\\bae\\lib\\site-packages\\keras\\src\\engine\\training.py:3000: UserWarning: You are saving your model as an HDF5 file via `model.save()`. This file format is considered legacy. We recommend using instead the native Keras format, e.g. `model.save('my_model.keras')`.\n",
      "  saving_api.save_model(\n",
      "  0%|                                                                                           | 0/10 [00:00<?, ?it/s]"
     ]
    },
    {
     "name": "stdout",
     "output_type": "stream",
     "text": [
      "10/10 [==============================] - 0s 1ms/step\n"
     ]
    },
    {
     "name": "stderr",
     "output_type": "stream",
     "text": [
      " 10%|████████▎                                                                          | 1/10 [00:00<00:01,  8.73it/s]"
     ]
    },
    {
     "name": "stdout",
     "output_type": "stream",
     "text": [
      "10/10 [==============================] - 0s 1ms/step\n",
      "10/10 [==============================] - 0s 1ms/step\n"
     ]
    },
    {
     "name": "stderr",
     "output_type": "stream",
     "text": [
      " 30%|████████████████████████▉                                                          | 3/10 [00:00<00:00, 11.91it/s]"
     ]
    },
    {
     "name": "stdout",
     "output_type": "stream",
     "text": [
      "10/10 [==============================] - 0s 1ms/step\n",
      "10/10 [==============================] - 0s 1ms/step\n"
     ]
    },
    {
     "name": "stderr",
     "output_type": "stream",
     "text": [
      " 50%|█████████████████████████████████████████▌                                         | 5/10 [00:00<00:00, 12.73it/s]"
     ]
    },
    {
     "name": "stdout",
     "output_type": "stream",
     "text": [
      "10/10 [==============================] - 0s 2ms/step\n",
      "10/10 [==============================] - 0s 1ms/step\n"
     ]
    },
    {
     "name": "stderr",
     "output_type": "stream",
     "text": [
      " 70%|██████████████████████████████████████████████████████████                         | 7/10 [00:00<00:00, 13.02it/s]"
     ]
    },
    {
     "name": "stdout",
     "output_type": "stream",
     "text": [
      "10/10 [==============================] - 0s 1ms/step\n",
      "10/10 [==============================] - 0s 1ms/step\n"
     ]
    },
    {
     "name": "stderr",
     "output_type": "stream",
     "text": [
      " 90%|██████████████████████████████████████████████████████████████████████████▋        | 9/10 [00:00<00:00, 12.74it/s]"
     ]
    },
    {
     "name": "stdout",
     "output_type": "stream",
     "text": [
      "10/10 [==============================] - 0s 1ms/step\n"
     ]
    },
    {
     "name": "stderr",
     "output_type": "stream",
     "text": [
      "100%|██████████████████████████████████████████████████████████████████████████████████| 10/10 [00:00<00:00, 12.55it/s]\n",
      "2023-08-26 01:04:29,539 - INFO - AUC : 0.48\n",
      "2023-08-26 01:04:29,541 - INFO - target_dir : ../Sample_data\n",
      "2023-08-26 01:04:29,543 - INFO - train_file num : 5\n",
      "2023-08-26 01:04:29,544 - INFO - eval_file  num : 10\n"
     ]
    },
    {
     "name": "stdout",
     "output_type": "stream",
     "text": [
      "===========================\n",
      "Model file not found for valve -> id_04. Skipping...\n",
      "Model file not found for valve -> id_04. Skipping...\n",
      "\n",
      "===========================\n"
     ]
    },
    {
     "name": "stderr",
     "output_type": "stream",
     "text": [
      "generate train_dataset: 100%|████████████████████████████████████████████████████████████| 5/5 [00:00<00:00, 83.56it/s]\n",
      "2023-08-26 01:04:29,608 - INFO - save_pickle -> ./pickle_transfer_pretrain_v3/train_valve_id_06.pickle\n",
      "2023-08-26 01:04:29,613 - INFO - save_pickle -> ./pickle_transfer_pretrain_v3/eval_files_valve_id_06.pickle\n",
      "2023-08-26 01:04:29,615 - INFO - save_pickle -> ./pickle_transfer_pretrain_v3/eval_labels_valve_id_06.pickle\n"
     ]
    },
    {
     "name": "stdout",
     "output_type": "stream",
     "text": [
      "\n",
      "Training transfer model for valve -> id_06 using pretrain model pretrain_('fan', 'slider')\n",
      "Epoch 1/50\n",
      "3/3 [==============================] - 1s 60ms/step - loss: 22.0770 - val_loss: 24.5124\n",
      "Epoch 2/50\n",
      "3/3 [==============================] - 0s 15ms/step - loss: 18.3811 - val_loss: 24.1360\n",
      "Epoch 3/50\n",
      "3/3 [==============================] - 0s 15ms/step - loss: 15.4275 - val_loss: 27.5157\n",
      "Epoch 4/50\n",
      "3/3 [==============================] - 0s 16ms/step - loss: 15.9136 - val_loss: 23.1243\n",
      "Epoch 5/50\n",
      "3/3 [==============================] - 0s 15ms/step - loss: 14.0727 - val_loss: 21.6068\n",
      "Epoch 6/50\n",
      "3/3 [==============================] - 0s 15ms/step - loss: 13.2828 - val_loss: 18.4644\n",
      "Epoch 7/50\n",
      "3/3 [==============================] - 0s 14ms/step - loss: 13.3033 - val_loss: 17.0254\n",
      "Epoch 8/50\n",
      "3/3 [==============================] - 0s 15ms/step - loss: 12.5045 - val_loss: 18.2718\n",
      "Epoch 9/50\n",
      "3/3 [==============================] - 0s 15ms/step - loss: 12.6106 - val_loss: 16.7199\n",
      "Epoch 10/50\n",
      "3/3 [==============================] - 0s 15ms/step - loss: 12.2170 - val_loss: 16.7856\n",
      "Epoch 11/50\n",
      "3/3 [==============================] - 0s 16ms/step - loss: 12.0398 - val_loss: 17.3907\n",
      "Epoch 12/50\n",
      "3/3 [==============================] - 0s 15ms/step - loss: 11.9302 - val_loss: 17.2347\n",
      "Epoch 13/50\n",
      "3/3 [==============================] - 0s 14ms/step - loss: 11.6963 - val_loss: 17.0269\n",
      "Epoch 14/50\n",
      "3/3 [==============================] - 0s 14ms/step - loss: 11.6436 - val_loss: 16.9497\n",
      "Epoch 15/50\n",
      "3/3 [==============================] - 0s 15ms/step - loss: 11.5283 - val_loss: 16.7124\n",
      "Epoch 16/50\n",
      "3/3 [==============================] - 0s 14ms/step - loss: 11.4178 - val_loss: 16.2294\n",
      "Epoch 17/50\n",
      "3/3 [==============================] - 0s 14ms/step - loss: 11.3591 - val_loss: 16.2667\n",
      "Epoch 18/50\n",
      "3/3 [==============================] - 0s 14ms/step - loss: 11.2935 - val_loss: 16.1298\n",
      "Epoch 19/50\n",
      "3/3 [==============================] - 0s 14ms/step - loss: 11.2193 - val_loss: 15.8480\n",
      "Epoch 20/50\n",
      "3/3 [==============================] - 0s 14ms/step - loss: 11.1779 - val_loss: 15.8367\n",
      "Epoch 21/50\n",
      "3/3 [==============================] - 0s 27ms/step - loss: 11.1440 - val_loss: 15.4543\n",
      "Epoch 22/50\n",
      "3/3 [==============================] - 0s 14ms/step - loss: 11.1011 - val_loss: 15.4178\n",
      "Epoch 23/50\n",
      "3/3 [==============================] - 0s 14ms/step - loss: 11.0677 - val_loss: 15.4356\n",
      "Epoch 24/50\n",
      "3/3 [==============================] - 0s 15ms/step - loss: 11.0422 - val_loss: 15.1414\n",
      "Epoch 25/50\n",
      "3/3 [==============================] - 0s 15ms/step - loss: 11.0195 - val_loss: 15.1360\n",
      "Epoch 26/50\n",
      "3/3 [==============================] - 0s 15ms/step - loss: 10.9968 - val_loss: 14.9821\n",
      "Epoch 27/50\n",
      "3/3 [==============================] - 0s 14ms/step - loss: 10.9796 - val_loss: 14.9109\n",
      "Epoch 28/50\n",
      "3/3 [==============================] - 0s 14ms/step - loss: 10.9592 - val_loss: 14.8390\n",
      "Epoch 29/50\n",
      "3/3 [==============================] - 0s 14ms/step - loss: 10.9426 - val_loss: 14.7400\n",
      "Epoch 30/50\n",
      "3/3 [==============================] - 0s 14ms/step - loss: 10.9273 - val_loss: 14.7400\n",
      "Epoch 31/50\n",
      "3/3 [==============================] - 0s 15ms/step - loss: 10.9136 - val_loss: 14.5939\n",
      "Epoch 32/50\n",
      "3/3 [==============================] - 0s 14ms/step - loss: 10.9006 - val_loss: 14.5131\n",
      "Epoch 33/50\n",
      "3/3 [==============================] - 0s 14ms/step - loss: 10.8907 - val_loss: 14.3421\n",
      "Epoch 34/50\n",
      "3/3 [==============================] - 0s 15ms/step - loss: 10.8767 - val_loss: 14.3225\n",
      "Epoch 35/50\n",
      "3/3 [==============================] - 0s 15ms/step - loss: 10.8644 - val_loss: 14.4170\n",
      "Epoch 36/50\n",
      "3/3 [==============================] - 0s 15ms/step - loss: 10.8519 - val_loss: 14.1920\n",
      "Epoch 37/50\n",
      "3/3 [==============================] - 0s 14ms/step - loss: 10.8430 - val_loss: 14.0463\n",
      "Epoch 38/50\n",
      "3/3 [==============================] - 0s 15ms/step - loss: 10.8320 - val_loss: 14.0123\n",
      "Epoch 39/50\n",
      "3/3 [==============================] - 0s 14ms/step - loss: 10.8217 - val_loss: 14.0551\n",
      "Epoch 40/50\n",
      "3/3 [==============================] - 0s 15ms/step - loss: 10.8065 - val_loss: 13.9273\n",
      "Epoch 41/50\n",
      "3/3 [==============================] - 0s 14ms/step - loss: 10.7949 - val_loss: 13.7796\n",
      "Epoch 42/50\n",
      "3/3 [==============================] - 0s 15ms/step - loss: 10.7846 - val_loss: 13.8182\n",
      "Epoch 43/50\n",
      "3/3 [==============================] - 0s 15ms/step - loss: 10.7747 - val_loss: 13.7888\n",
      "Epoch 44/50\n",
      "3/3 [==============================] - 0s 14ms/step - loss: 10.7641 - val_loss: 13.7156\n",
      "Epoch 45/50\n",
      "3/3 [==============================] - 0s 15ms/step - loss: 10.7535 - val_loss: 13.5870\n",
      "Epoch 46/50\n",
      "3/3 [==============================] - 0s 14ms/step - loss: 10.7430 - val_loss: 13.5696\n",
      "Epoch 47/50\n",
      "3/3 [==============================] - 0s 14ms/step - loss: 10.7319 - val_loss: 13.5415\n",
      "Epoch 48/50\n",
      "3/3 [==============================] - 0s 14ms/step - loss: 10.7241 - val_loss: 13.5306\n",
      "Epoch 49/50\n",
      "3/3 [==============================] - 0s 14ms/step - loss: 10.7159 - val_loss: 13.5282\n",
      "Epoch 50/50\n",
      "3/3 [==============================] - 0s 13ms/step - loss: 10.7038 - val_loss: 13.3787\n",
      "============== EVALUATION ==============\n"
     ]
    },
    {
     "name": "stderr",
     "output_type": "stream",
     "text": [
      "C:\\Users\\Baejs\\anaconda3\\envs\\bae\\lib\\site-packages\\keras\\src\\engine\\training.py:3000: UserWarning: You are saving your model as an HDF5 file via `model.save()`. This file format is considered legacy. We recommend using instead the native Keras format, e.g. `model.save('my_model.keras')`.\n",
      "  saving_api.save_model(\n",
      "  0%|                                                                                           | 0/10 [00:00<?, ?it/s]"
     ]
    },
    {
     "name": "stdout",
     "output_type": "stream",
     "text": [
      "10/10 [==============================] - 0s 2ms/step\n"
     ]
    },
    {
     "name": "stderr",
     "output_type": "stream",
     "text": [
      " 10%|████████▎                                                                          | 1/10 [00:00<00:01,  7.96it/s]"
     ]
    },
    {
     "name": "stdout",
     "output_type": "stream",
     "text": [
      "10/10 [==============================] - 0s 1ms/step\n",
      "10/10 [==============================] - 0s 1ms/step\n"
     ]
    },
    {
     "name": "stderr",
     "output_type": "stream",
     "text": [
      " 30%|████████████████████████▉                                                          | 3/10 [00:00<00:00, 11.36it/s]"
     ]
    },
    {
     "name": "stdout",
     "output_type": "stream",
     "text": [
      "10/10 [==============================] - 0s 2ms/step\n",
      "10/10 [==============================] - 0s 1ms/step\n"
     ]
    },
    {
     "name": "stderr",
     "output_type": "stream",
     "text": [
      " 50%|█████████████████████████████████████████▌                                         | 5/10 [00:00<00:00, 12.04it/s]"
     ]
    },
    {
     "name": "stdout",
     "output_type": "stream",
     "text": [
      "10/10 [==============================] - 0s 1ms/step\n",
      "10/10 [==============================] - 0s 1ms/step\n"
     ]
    },
    {
     "name": "stderr",
     "output_type": "stream",
     "text": [
      " 70%|██████████████████████████████████████████████████████████                         | 7/10 [00:00<00:00, 12.45it/s]"
     ]
    },
    {
     "name": "stdout",
     "output_type": "stream",
     "text": [
      "10/10 [==============================] - 0s 1ms/step\n",
      "10/10 [==============================] - 0s 2ms/step\n"
     ]
    },
    {
     "name": "stderr",
     "output_type": "stream",
     "text": [
      " 90%|██████████████████████████████████████████████████████████████████████████▋        | 9/10 [00:00<00:00, 12.66it/s]"
     ]
    },
    {
     "name": "stdout",
     "output_type": "stream",
     "text": [
      "10/10 [==============================] - 0s 2ms/step\n"
     ]
    },
    {
     "name": "stderr",
     "output_type": "stream",
     "text": [
      "100%|██████████████████████████████████████████████████████████████████████████████████| 10/10 [00:00<00:00, 12.15it/s]\n",
      "2023-08-26 01:04:33,230 - INFO - AUC : 0.12\n"
     ]
    },
    {
     "name": "stdout",
     "output_type": "stream",
     "text": [
      "===========================\n",
      "\n",
      "Training transfer model for valve -> id_06 using pretrain model pretrain_('fan', 'pump')\n",
      "Epoch 1/50\n",
      "3/3 [==============================] - 1s 62ms/step - loss: 20.2168 - val_loss: 23.5874\n",
      "Epoch 2/50\n",
      "3/3 [==============================] - 0s 15ms/step - loss: 17.1196 - val_loss: 25.1918\n",
      "Epoch 3/50\n",
      "3/3 [==============================] - 0s 15ms/step - loss: 15.2699 - val_loss: 27.1900\n",
      "Epoch 4/50\n",
      "3/3 [==============================] - 0s 15ms/step - loss: 15.4335 - val_loss: 25.9555\n",
      "Epoch 5/50\n",
      "3/3 [==============================] - 0s 15ms/step - loss: 14.9670 - val_loss: 23.7177\n",
      "Epoch 6/50\n",
      "3/3 [==============================] - 0s 15ms/step - loss: 14.7393 - val_loss: 22.2646\n",
      "Epoch 7/50\n",
      "3/3 [==============================] - 0s 14ms/step - loss: 14.4590 - val_loss: 21.9803\n",
      "Epoch 8/50\n",
      "3/3 [==============================] - 0s 16ms/step - loss: 14.3466 - val_loss: 22.1695\n",
      "Epoch 9/50\n",
      "3/3 [==============================] - 0s 15ms/step - loss: 14.2210 - val_loss: 22.4330\n",
      "Epoch 10/50\n",
      "3/3 [==============================] - 0s 14ms/step - loss: 14.1180 - val_loss: 22.7914\n",
      "Epoch 11/50\n",
      "3/3 [==============================] - 0s 15ms/step - loss: 14.0086 - val_loss: 23.0649\n",
      "Epoch 12/50\n",
      "3/3 [==============================] - 0s 15ms/step - loss: 13.9390 - val_loss: 23.2183\n",
      "Epoch 13/50\n",
      "3/3 [==============================] - 0s 14ms/step - loss: 13.8767 - val_loss: 23.0571\n",
      "Epoch 14/50\n",
      "3/3 [==============================] - 0s 14ms/step - loss: 13.8180 - val_loss: 22.7889\n",
      "Epoch 15/50\n",
      "3/3 [==============================] - 0s 15ms/step - loss: 13.7414 - val_loss: 22.6621\n",
      "Epoch 16/50\n",
      "3/3 [==============================] - 0s 14ms/step - loss: 13.6773 - val_loss: 22.5840\n",
      "Epoch 17/50\n",
      "3/3 [==============================] - 0s 14ms/step - loss: 13.6240 - val_loss: 22.5782\n",
      "Epoch 18/50\n",
      "3/3 [==============================] - 0s 15ms/step - loss: 13.5676 - val_loss: 22.7010\n",
      "Epoch 19/50\n",
      "3/3 [==============================] - 0s 15ms/step - loss: 13.5061 - val_loss: 22.6776\n",
      "Epoch 20/50\n",
      "3/3 [==============================] - 0s 15ms/step - loss: 13.4472 - val_loss: 22.7160\n",
      "Epoch 21/50\n",
      "3/3 [==============================] - 0s 15ms/step - loss: 13.3924 - val_loss: 22.7389\n",
      "Epoch 22/50\n",
      "3/3 [==============================] - 0s 14ms/step - loss: 13.3336 - val_loss: 23.0051\n",
      "Epoch 23/50\n",
      "3/3 [==============================] - 0s 14ms/step - loss: 13.2787 - val_loss: 22.9518\n",
      "Epoch 24/50\n",
      "3/3 [==============================] - 0s 14ms/step - loss: 13.2404 - val_loss: 22.5141\n",
      "Epoch 25/50\n",
      "3/3 [==============================] - 0s 15ms/step - loss: 13.2027 - val_loss: 22.5751\n",
      "Epoch 26/50\n",
      "3/3 [==============================] - 0s 15ms/step - loss: 13.1610 - val_loss: 22.5530\n",
      "Epoch 27/50\n",
      "3/3 [==============================] - 0s 15ms/step - loss: 13.1140 - val_loss: 22.7105\n",
      "Epoch 28/50\n",
      "3/3 [==============================] - 0s 22ms/step - loss: 13.0695 - val_loss: 22.7024\n",
      "Epoch 29/50\n",
      "3/3 [==============================] - 0s 14ms/step - loss: 13.0268 - val_loss: 22.6631\n",
      "Epoch 30/50\n",
      "3/3 [==============================] - 0s 14ms/step - loss: 12.9912 - val_loss: 22.7394\n",
      "Epoch 31/50\n",
      "3/3 [==============================] - 0s 15ms/step - loss: 12.9456 - val_loss: 22.5745\n",
      "Epoch 32/50\n",
      "3/3 [==============================] - 0s 14ms/step - loss: 12.9068 - val_loss: 22.3452\n",
      "Epoch 33/50\n",
      "3/3 [==============================] - 0s 14ms/step - loss: 12.8701 - val_loss: 22.3931\n",
      "Epoch 34/50\n",
      "3/3 [==============================] - 0s 15ms/step - loss: 12.8329 - val_loss: 22.3378\n",
      "Epoch 35/50\n",
      "3/3 [==============================] - 0s 14ms/step - loss: 12.7918 - val_loss: 22.4909\n",
      "Epoch 36/50\n",
      "3/3 [==============================] - 0s 15ms/step - loss: 12.7603 - val_loss: 22.5123\n",
      "Epoch 37/50\n",
      "3/3 [==============================] - 0s 14ms/step - loss: 12.7191 - val_loss: 22.1071\n",
      "Epoch 38/50\n",
      "3/3 [==============================] - 0s 15ms/step - loss: 12.6853 - val_loss: 22.0414\n",
      "Epoch 39/50\n",
      "3/3 [==============================] - 0s 14ms/step - loss: 12.6516 - val_loss: 22.1268\n",
      "Epoch 40/50\n",
      "3/3 [==============================] - 0s 14ms/step - loss: 12.6133 - val_loss: 22.1873\n",
      "Epoch 41/50\n",
      "3/3 [==============================] - 0s 15ms/step - loss: 12.5841 - val_loss: 22.0380\n",
      "Epoch 42/50\n",
      "3/3 [==============================] - 0s 14ms/step - loss: 12.5550 - val_loss: 22.0356\n",
      "Epoch 43/50\n",
      "3/3 [==============================] - 0s 15ms/step - loss: 12.5244 - val_loss: 21.7985\n",
      "Epoch 44/50\n",
      "3/3 [==============================] - 0s 14ms/step - loss: 12.4853 - val_loss: 21.8072\n",
      "Epoch 45/50\n",
      "3/3 [==============================] - 0s 14ms/step - loss: 12.4550 - val_loss: 21.7252\n",
      "Epoch 46/50\n",
      "3/3 [==============================] - 0s 14ms/step - loss: 12.4268 - val_loss: 21.5864\n",
      "Epoch 47/50\n",
      "3/3 [==============================] - 0s 15ms/step - loss: 12.4018 - val_loss: 21.4292\n",
      "Epoch 48/50\n",
      "3/3 [==============================] - 0s 14ms/step - loss: 12.3715 - val_loss: 21.5260\n",
      "Epoch 49/50\n",
      "3/3 [==============================] - 0s 14ms/step - loss: 12.3430 - val_loss: 21.5190\n",
      "Epoch 50/50\n",
      "3/3 [==============================] - 0s 15ms/step - loss: 12.3271 - val_loss: 21.2956\n",
      "============== EVALUATION =============="
     ]
    },
    {
     "name": "stderr",
     "output_type": "stream",
     "text": [
      "C:\\Users\\Baejs\\anaconda3\\envs\\bae\\lib\\site-packages\\keras\\src\\engine\\training.py:3000: UserWarning: You are saving your model as an HDF5 file via `model.save()`. This file format is considered legacy. We recommend using instead the native Keras format, e.g. `model.save('my_model.keras')`.\n",
      "  saving_api.save_model(\n"
     ]
    },
    {
     "name": "stdout",
     "output_type": "stream",
     "text": [
      "\n"
     ]
    },
    {
     "name": "stderr",
     "output_type": "stream",
     "text": [
      "  0%|                                                                                           | 0/10 [00:00<?, ?it/s]"
     ]
    },
    {
     "name": "stdout",
     "output_type": "stream",
     "text": [
      "10/10 [==============================] - 0s 1ms/step\n"
     ]
    },
    {
     "name": "stderr",
     "output_type": "stream",
     "text": [
      " 10%|████████▎                                                                          | 1/10 [00:00<00:01,  8.69it/s]"
     ]
    },
    {
     "name": "stdout",
     "output_type": "stream",
     "text": [
      "10/10 [==============================] - 0s 1ms/step\n",
      "10/10 [==============================] - 0s 1ms/step\n"
     ]
    },
    {
     "name": "stderr",
     "output_type": "stream",
     "text": [
      " 30%|████████████████████████▉                                                          | 3/10 [00:00<00:00, 11.63it/s]"
     ]
    },
    {
     "name": "stdout",
     "output_type": "stream",
     "text": [
      "10/10 [==============================] - 0s 1ms/step\n",
      "10/10 [==============================] - 0s 1ms/step\n"
     ]
    },
    {
     "name": "stderr",
     "output_type": "stream",
     "text": [
      " 50%|█████████████████████████████████████████▌                                         | 5/10 [00:00<00:00, 12.36it/s]"
     ]
    },
    {
     "name": "stdout",
     "output_type": "stream",
     "text": [
      "10/10 [==============================] - 0s 2ms/step\n",
      "10/10 [==============================] - 0s 1ms/step\n"
     ]
    },
    {
     "name": "stderr",
     "output_type": "stream",
     "text": [
      " 70%|██████████████████████████████████████████████████████████                         | 7/10 [00:00<00:00, 12.43it/s]"
     ]
    },
    {
     "name": "stdout",
     "output_type": "stream",
     "text": [
      "10/10 [==============================] - 0s 1ms/step\n",
      "10/10 [==============================] - 0s 1ms/step\n"
     ]
    },
    {
     "name": "stderr",
     "output_type": "stream",
     "text": [
      " 90%|██████████████████████████████████████████████████████████████████████████▋        | 9/10 [00:00<00:00, 12.79it/s]"
     ]
    },
    {
     "name": "stdout",
     "output_type": "stream",
     "text": [
      "10/10 [==============================] - 0s 1ms/step\n"
     ]
    },
    {
     "name": "stderr",
     "output_type": "stream",
     "text": [
      "100%|██████████████████████████████████████████████████████████████████████████████████| 10/10 [00:00<00:00, 12.43it/s]\n",
      "2023-08-26 01:04:36,800 - INFO - AUC : 0.2\n"
     ]
    },
    {
     "name": "stdout",
     "output_type": "stream",
     "text": [
      "===========================\n",
      "Model file not found for valve -> id_06. Skipping...\n",
      "\n",
      "Training transfer model for valve -> id_06 using pretrain model pretrain_('slider', 'pump')\n",
      "Epoch 1/50\n",
      "3/3 [==============================] - 1s 60ms/step - loss: 20.3701 - val_loss: 24.6653\n",
      "Epoch 2/50\n",
      "3/3 [==============================] - 0s 15ms/step - loss: 18.6916 - val_loss: 25.3300\n",
      "Epoch 3/50\n",
      "3/3 [==============================] - 0s 16ms/step - loss: 15.7660 - val_loss: 27.1162\n",
      "Epoch 4/50\n",
      "3/3 [==============================] - 0s 17ms/step - loss: 16.0902 - val_loss: 25.8446\n",
      "Epoch 5/50\n",
      "3/3 [==============================] - 0s 15ms/step - loss: 15.3454 - val_loss: 25.3842\n",
      "Epoch 6/50\n",
      "3/3 [==============================] - 0s 14ms/step - loss: 14.8063 - val_loss: 23.2043\n",
      "Epoch 7/50\n",
      "3/3 [==============================] - 0s 15ms/step - loss: 14.4720 - val_loss: 22.9331\n",
      "Epoch 8/50\n",
      "3/3 [==============================] - 0s 15ms/step - loss: 14.2000 - val_loss: 22.5903\n",
      "Epoch 9/50\n",
      "3/3 [==============================] - 0s 14ms/step - loss: 14.1757 - val_loss: 22.3272\n",
      "Epoch 10/50\n",
      "3/3 [==============================] - 0s 16ms/step - loss: 13.8838 - val_loss: 21.7095\n",
      "Epoch 11/50\n",
      "3/3 [==============================] - 0s 16ms/step - loss: 13.8851 - val_loss: 22.0211\n",
      "Epoch 12/50\n",
      "3/3 [==============================] - 0s 18ms/step - loss: 13.6315 - val_loss: 23.0865\n",
      "Epoch 13/50\n",
      "3/3 [==============================] - 0s 16ms/step - loss: 13.5778 - val_loss: 22.8156\n",
      "Epoch 14/50\n",
      "3/3 [==============================] - 0s 15ms/step - loss: 13.5070 - val_loss: 22.7375\n",
      "Epoch 15/50\n",
      "3/3 [==============================] - 0s 14ms/step - loss: 13.3887 - val_loss: 22.9564\n",
      "Epoch 16/50\n",
      "3/3 [==============================] - 0s 15ms/step - loss: 13.3297 - val_loss: 22.2182\n",
      "Epoch 17/50\n",
      "3/3 [==============================] - 0s 14ms/step - loss: 13.2408 - val_loss: 22.1549\n",
      "Epoch 18/50\n",
      "3/3 [==============================] - 0s 14ms/step - loss: 13.1603 - val_loss: 22.4401\n",
      "Epoch 19/50\n",
      "3/3 [==============================] - 0s 14ms/step - loss: 13.0922 - val_loss: 21.9411\n",
      "Epoch 20/50\n",
      "3/3 [==============================] - 0s 15ms/step - loss: 13.0289 - val_loss: 22.2171\n",
      "Epoch 21/50\n",
      "3/3 [==============================] - 0s 14ms/step - loss: 12.9596 - val_loss: 22.2789\n",
      "Epoch 22/50\n",
      "3/3 [==============================] - 0s 26ms/step - loss: 12.9056 - val_loss: 22.0424\n",
      "Epoch 23/50\n",
      "3/3 [==============================] - 0s 14ms/step - loss: 12.8501 - val_loss: 22.2700\n",
      "Epoch 24/50\n",
      "3/3 [==============================] - 0s 14ms/step - loss: 12.8002 - val_loss: 21.8911\n",
      "Epoch 25/50\n",
      "3/3 [==============================] - 0s 14ms/step - loss: 12.7386 - val_loss: 22.0085\n",
      "Epoch 26/50\n",
      "3/3 [==============================] - 0s 14ms/step - loss: 12.6933 - val_loss: 21.7272\n",
      "Epoch 27/50\n",
      "3/3 [==============================] - 0s 14ms/step - loss: 12.6485 - val_loss: 21.9616\n",
      "Epoch 28/50\n",
      "3/3 [==============================] - 0s 14ms/step - loss: 12.5993 - val_loss: 21.7644\n",
      "Epoch 29/50\n",
      "3/3 [==============================] - 0s 14ms/step - loss: 12.5531 - val_loss: 21.3798\n",
      "Epoch 30/50\n",
      "3/3 [==============================] - 0s 14ms/step - loss: 12.5157 - val_loss: 21.5577\n",
      "Epoch 31/50\n",
      "3/3 [==============================] - 0s 14ms/step - loss: 12.4740 - val_loss: 21.6371\n",
      "Epoch 32/50\n",
      "3/3 [==============================] - 0s 14ms/step - loss: 12.4349 - val_loss: 21.6264\n",
      "Epoch 33/50\n",
      "3/3 [==============================] - 0s 15ms/step - loss: 12.3966 - val_loss: 21.3455\n",
      "Epoch 34/50\n",
      "3/3 [==============================] - 0s 15ms/step - loss: 12.3601 - val_loss: 20.9977\n",
      "Epoch 35/50\n",
      "3/3 [==============================] - 0s 14ms/step - loss: 12.3297 - val_loss: 20.9163\n",
      "Epoch 36/50\n",
      "3/3 [==============================] - 0s 14ms/step - loss: 12.2920 - val_loss: 20.9339\n",
      "Epoch 37/50\n",
      "3/3 [==============================] - 0s 14ms/step - loss: 12.2573 - val_loss: 20.7465\n",
      "Epoch 38/50\n",
      "3/3 [==============================] - 0s 14ms/step - loss: 12.2272 - val_loss: 20.6106\n",
      "Epoch 39/50\n",
      "3/3 [==============================] - 0s 14ms/step - loss: 12.1970 - val_loss: 20.3891\n",
      "Epoch 40/50\n",
      "3/3 [==============================] - 0s 13ms/step - loss: 12.1662 - val_loss: 20.5488\n",
      "Epoch 41/50\n",
      "3/3 [==============================] - 0s 14ms/step - loss: 12.1372 - val_loss: 20.3644\n",
      "Epoch 42/50\n",
      "3/3 [==============================] - 0s 13ms/step - loss: 12.1079 - val_loss: 19.9337\n",
      "Epoch 43/50\n",
      "3/3 [==============================] - 0s 15ms/step - loss: 12.0852 - val_loss: 19.6527\n",
      "Epoch 44/50\n",
      "3/3 [==============================] - 0s 14ms/step - loss: 12.0526 - val_loss: 19.7627\n",
      "Epoch 45/50\n",
      "3/3 [==============================] - 0s 15ms/step - loss: 12.0265 - val_loss: 19.7655\n",
      "Epoch 46/50\n",
      "3/3 [==============================] - 0s 15ms/step - loss: 11.9965 - val_loss: 19.2607\n",
      "Epoch 47/50\n",
      "3/3 [==============================] - 0s 15ms/step - loss: 11.9663 - val_loss: 19.1164\n",
      "Epoch 48/50\n",
      "3/3 [==============================] - 0s 14ms/step - loss: 11.9422 - val_loss: 18.8595\n",
      "Epoch 49/50\n",
      "3/3 [==============================] - 0s 14ms/step - loss: 11.9164 - val_loss: 19.0396\n",
      "Epoch 50/50\n",
      "3/3 [==============================] - 0s 14ms/step - loss: 11.8898 - val_loss: 18.7447\n",
      "============== EVALUATION =============="
     ]
    },
    {
     "name": "stderr",
     "output_type": "stream",
     "text": [
      "C:\\Users\\Baejs\\anaconda3\\envs\\bae\\lib\\site-packages\\keras\\src\\engine\\training.py:3000: UserWarning: You are saving your model as an HDF5 file via `model.save()`. This file format is considered legacy. We recommend using instead the native Keras format, e.g. `model.save('my_model.keras')`.\n",
      "  saving_api.save_model(\n"
     ]
    },
    {
     "name": "stdout",
     "output_type": "stream",
     "text": [
      "\n"
     ]
    },
    {
     "name": "stderr",
     "output_type": "stream",
     "text": [
      "  0%|                                                                                           | 0/10 [00:00<?, ?it/s]"
     ]
    },
    {
     "name": "stdout",
     "output_type": "stream",
     "text": [
      "10/10 [==============================] - 0s 1ms/step\n"
     ]
    },
    {
     "name": "stderr",
     "output_type": "stream",
     "text": [
      " 10%|████████▎                                                                          | 1/10 [00:00<00:01,  8.69it/s]"
     ]
    },
    {
     "name": "stdout",
     "output_type": "stream",
     "text": [
      "10/10 [==============================] - 0s 1ms/step\n",
      "10/10 [==============================] - 0s 1ms/step\n"
     ]
    },
    {
     "name": "stderr",
     "output_type": "stream",
     "text": [
      " 30%|████████████████████████▉                                                          | 3/10 [00:00<00:00, 11.99it/s]"
     ]
    },
    {
     "name": "stdout",
     "output_type": "stream",
     "text": [
      "10/10 [==============================] - 0s 1ms/step\n",
      "10/10 [==============================] - 0s 1ms/step\n"
     ]
    },
    {
     "name": "stderr",
     "output_type": "stream",
     "text": [
      " 50%|█████████████████████████████████████████▌                                         | 5/10 [00:00<00:00, 12.73it/s]"
     ]
    },
    {
     "name": "stdout",
     "output_type": "stream",
     "text": [
      "10/10 [==============================] - 0s 1ms/step\n",
      "10/10 [==============================] - 0s 1ms/step\n"
     ]
    },
    {
     "name": "stderr",
     "output_type": "stream",
     "text": [
      " 70%|██████████████████████████████████████████████████████████                         | 7/10 [00:00<00:00, 13.07it/s]"
     ]
    },
    {
     "name": "stdout",
     "output_type": "stream",
     "text": [
      "10/10 [==============================] - 0s 1ms/step\n",
      "10/10 [==============================] - 0s 1ms/step\n"
     ]
    },
    {
     "name": "stderr",
     "output_type": "stream",
     "text": [
      " 90%|██████████████████████████████████████████████████████████████████████████▋        | 9/10 [00:00<00:00, 12.96it/s]"
     ]
    },
    {
     "name": "stdout",
     "output_type": "stream",
     "text": [
      "10/10 [==============================] - 0s 1ms/step\n"
     ]
    },
    {
     "name": "stderr",
     "output_type": "stream",
     "text": [
      "100%|██████████████████████████████████████████████████████████████████████████████████| 10/10 [00:00<00:00, 12.69it/s]\n",
      "2023-08-26 01:04:40,398 - INFO - AUC : 0.12\n",
      "2023-08-26 01:04:40,399 - INFO - all results -> ./result_transfer_pretrain_v3/result_transfer_pretrain_v3.yaml\n",
      "2023-08-26 01:04:40,404 - INFO - target_dir : ../Sample_data\n"
     ]
    },
    {
     "name": "stdout",
     "output_type": "stream",
     "text": [
      "===========================\n",
      "Model file not found for valve -> id_06. Skipping...\n",
      "Model file not found for valve -> id_06. Skipping...\n",
      "===========================\n",
      "\n",
      "===========================\n"
     ]
    },
    {
     "name": "stderr",
     "output_type": "stream",
     "text": [
      "2023-08-26 01:04:40,406 - INFO - train_file num : 5\n",
      "2023-08-26 01:04:40,407 - INFO - eval_file  num : 10\n",
      "generate train_dataset: 100%|████████████████████████████████████████████████████████████| 5/5 [00:00<00:00, 78.33it/s]\n",
      "2023-08-26 01:04:40,475 - INFO - save_pickle -> ./pickle_transfer_pretrain_v3/train_slider_id_00.pickle\n",
      "2023-08-26 01:04:40,480 - INFO - save_pickle -> ./pickle_transfer_pretrain_v3/eval_files_slider_id_00.pickle\n",
      "2023-08-26 01:04:40,482 - INFO - save_pickle -> ./pickle_transfer_pretrain_v3/eval_labels_slider_id_00.pickle\n"
     ]
    },
    {
     "name": "stdout",
     "output_type": "stream",
     "text": [
      "\n",
      "Training transfer model for slider -> id_00 using pretrain model pretrain_('fan', 'valve')\n",
      "Epoch 1/50\n",
      "3/3 [==============================] - 1s 61ms/step - loss: 15.1935 - val_loss: 10.7376\n",
      "Epoch 2/50\n",
      "3/3 [==============================] - 0s 15ms/step - loss: 15.0815 - val_loss: 8.5929\n",
      "Epoch 3/50\n",
      "3/3 [==============================] - 0s 17ms/step - loss: 11.4010 - val_loss: 11.0088\n",
      "Epoch 4/50\n",
      "3/3 [==============================] - 0s 14ms/step - loss: 11.4299 - val_loss: 6.6823\n",
      "Epoch 5/50\n",
      "3/3 [==============================] - 0s 14ms/step - loss: 11.0220 - val_loss: 6.5444\n",
      "Epoch 6/50\n",
      "3/3 [==============================] - 0s 16ms/step - loss: 10.0842 - val_loss: 7.7730\n",
      "Epoch 7/50\n",
      "3/3 [==============================] - 0s 15ms/step - loss: 10.2843 - val_loss: 6.3474\n",
      "Epoch 8/50\n",
      "3/3 [==============================] - 0s 14ms/step - loss: 9.6991 - val_loss: 6.2976\n",
      "Epoch 9/50\n",
      "3/3 [==============================] - 0s 14ms/step - loss: 9.6342 - val_loss: 6.7368\n",
      "Epoch 10/50\n",
      "3/3 [==============================] - 0s 14ms/step - loss: 9.5291 - val_loss: 6.6140\n",
      "Epoch 11/50\n",
      "3/3 [==============================] - 0s 15ms/step - loss: 9.2738 - val_loss: 6.1195\n",
      "Epoch 12/50\n",
      "3/3 [==============================] - 0s 14ms/step - loss: 9.2744 - val_loss: 6.1910\n",
      "Epoch 13/50\n",
      "3/3 [==============================] - 0s 14ms/step - loss: 9.1401 - val_loss: 6.2077\n",
      "Epoch 14/50\n",
      "3/3 [==============================] - 0s 14ms/step - loss: 9.0171 - val_loss: 5.8843\n",
      "Epoch 15/50\n",
      "3/3 [==============================] - 0s 14ms/step - loss: 8.9792 - val_loss: 6.0531\n",
      "Epoch 16/50\n",
      "3/3 [==============================] - 0s 14ms/step - loss: 8.8918 - val_loss: 6.0390\n",
      "Epoch 17/50\n",
      "3/3 [==============================] - 0s 15ms/step - loss: 8.8129 - val_loss: 5.8292\n",
      "Epoch 18/50\n",
      "3/3 [==============================] - 0s 14ms/step - loss: 8.7584 - val_loss: 5.9254\n",
      "Epoch 19/50\n",
      "3/3 [==============================] - 0s 15ms/step - loss: 8.7087 - val_loss: 5.7984\n",
      "Epoch 20/50\n",
      "3/3 [==============================] - 0s 15ms/step - loss: 8.6454 - val_loss: 5.7515\n",
      "Epoch 21/50\n",
      "3/3 [==============================] - 0s 15ms/step - loss: 8.5944 - val_loss: 5.8331\n",
      "Epoch 22/50\n",
      "3/3 [==============================] - 0s 16ms/step - loss: 8.5508 - val_loss: 5.6923\n",
      "Epoch 23/50\n",
      "3/3 [==============================] - 0s 14ms/step - loss: 8.5006 - val_loss: 5.7108\n",
      "Epoch 24/50\n",
      "3/3 [==============================] - 0s 14ms/step - loss: 8.4567 - val_loss: 5.7358\n",
      "Epoch 25/50\n",
      "3/3 [==============================] - 0s 14ms/step - loss: 8.4171 - val_loss: 5.6656\n",
      "Epoch 26/50\n",
      "3/3 [==============================] - 0s 15ms/step - loss: 8.3842 - val_loss: 5.6851\n",
      "Epoch 27/50\n",
      "3/3 [==============================] - 0s 14ms/step - loss: 8.3481 - val_loss: 5.6552\n",
      "Epoch 28/50\n",
      "3/3 [==============================] - 0s 14ms/step - loss: 8.3159 - val_loss: 5.6129\n",
      "Epoch 29/50\n",
      "3/3 [==============================] - 0s 15ms/step - loss: 8.2948 - val_loss: 5.5731\n",
      "Epoch 30/50\n",
      "3/3 [==============================] - 0s 15ms/step - loss: 8.2572 - val_loss: 5.5581\n",
      "Epoch 31/50\n",
      "3/3 [==============================] - 0s 15ms/step - loss: 8.2326 - val_loss: 5.5475\n",
      "Epoch 32/50\n",
      "3/3 [==============================] - 0s 14ms/step - loss: 8.2036 - val_loss: 5.4723\n",
      "Epoch 33/50\n",
      "3/3 [==============================] - 0s 14ms/step - loss: 8.1775 - val_loss: 5.5604\n",
      "Epoch 34/50\n",
      "3/3 [==============================] - 0s 15ms/step - loss: 8.1524 - val_loss: 5.4960\n",
      "Epoch 35/50\n",
      "3/3 [==============================] - 0s 14ms/step - loss: 8.1315 - val_loss: 5.4907\n",
      "Epoch 36/50\n",
      "3/3 [==============================] - 0s 15ms/step - loss: 8.1106 - val_loss: 5.4848\n",
      "Epoch 37/50\n",
      "3/3 [==============================] - 0s 14ms/step - loss: 8.0894 - val_loss: 5.4373\n",
      "Epoch 38/50\n",
      "3/3 [==============================] - 0s 16ms/step - loss: 8.0701 - val_loss: 5.4455\n",
      "Epoch 39/50\n",
      "3/3 [==============================] - 0s 15ms/step - loss: 8.0559 - val_loss: 5.4491\n",
      "Epoch 40/50\n",
      "3/3 [==============================] - 0s 15ms/step - loss: 8.0280 - val_loss: 5.3866\n",
      "Epoch 41/50\n",
      "3/3 [==============================] - 0s 14ms/step - loss: 8.0147 - val_loss: 5.4078\n",
      "Epoch 42/50\n",
      "3/3 [==============================] - 0s 15ms/step - loss: 7.9956 - val_loss: 5.4500\n",
      "Epoch 43/50\n",
      "3/3 [==============================] - 0s 15ms/step - loss: 7.9769 - val_loss: 5.3685\n",
      "Epoch 44/50\n",
      "3/3 [==============================] - 0s 16ms/step - loss: 7.9608 - val_loss: 5.4201\n",
      "Epoch 45/50\n",
      "3/3 [==============================] - 0s 14ms/step - loss: 7.9418 - val_loss: 5.3732\n",
      "Epoch 46/50\n",
      "3/3 [==============================] - 0s 14ms/step - loss: 7.9263 - val_loss: 5.3685\n",
      "Epoch 47/50\n",
      "3/3 [==============================] - 0s 14ms/step - loss: 7.9079 - val_loss: 5.3642\n",
      "Epoch 48/50\n",
      "3/3 [==============================] - 0s 14ms/step - loss: 7.8932 - val_loss: 5.3784\n",
      "Epoch 49/50\n",
      "3/3 [==============================] - 0s 15ms/step - loss: 7.8751 - val_loss: 5.3431\n",
      "Epoch 50/50\n",
      "3/3 [==============================] - 0s 16ms/step - loss: 7.8591 - val_loss: 5.3827\n"
     ]
    },
    {
     "name": "stderr",
     "output_type": "stream",
     "text": [
      "C:\\Users\\Baejs\\anaconda3\\envs\\bae\\lib\\site-packages\\keras\\src\\engine\\training.py:3000: UserWarning: You are saving your model as an HDF5 file via `model.save()`. This file format is considered legacy. We recommend using instead the native Keras format, e.g. `model.save('my_model.keras')`.\n",
      "  saving_api.save_model(\n"
     ]
    },
    {
     "name": "stdout",
     "output_type": "stream",
     "text": [
      "============== EVALUATION ==============\n"
     ]
    },
    {
     "name": "stderr",
     "output_type": "stream",
     "text": [
      "  0%|                                                                                           | 0/10 [00:00<?, ?it/s]"
     ]
    },
    {
     "name": "stdout",
     "output_type": "stream",
     "text": [
      "10/10 [==============================] - 0s 1ms/step\n"
     ]
    },
    {
     "name": "stderr",
     "output_type": "stream",
     "text": [
      " 10%|████████▎                                                                          | 1/10 [00:00<00:01,  7.96it/s]"
     ]
    },
    {
     "name": "stdout",
     "output_type": "stream",
     "text": [
      "10/10 [==============================] - 0s 1ms/step\n",
      "10/10 [==============================] - 0s 3ms/step\n"
     ]
    },
    {
     "name": "stderr",
     "output_type": "stream",
     "text": [
      " 30%|████████████████████████▉                                                          | 3/10 [00:00<00:00, 10.52it/s]"
     ]
    },
    {
     "name": "stdout",
     "output_type": "stream",
     "text": [
      "10/10 [==============================] - 0s 2ms/step\n",
      "10/10 [==============================] - 0s 1ms/step\n"
     ]
    },
    {
     "name": "stderr",
     "output_type": "stream",
     "text": [
      " 50%|█████████████████████████████████████████▌                                         | 5/10 [00:00<00:00, 11.12it/s]"
     ]
    },
    {
     "name": "stdout",
     "output_type": "stream",
     "text": [
      "10/10 [==============================] - 0s 1ms/step\n",
      "10/10 [==============================] - 0s 1ms/step\n"
     ]
    },
    {
     "name": "stderr",
     "output_type": "stream",
     "text": [
      " 70%|██████████████████████████████████████████████████████████                         | 7/10 [00:00<00:00, 11.74it/s]"
     ]
    },
    {
     "name": "stdout",
     "output_type": "stream",
     "text": [
      "10/10 [==============================] - 0s 1ms/step\n",
      "10/10 [==============================] - 0s 1ms/step\n"
     ]
    },
    {
     "name": "stderr",
     "output_type": "stream",
     "text": [
      " 90%|██████████████████████████████████████████████████████████████████████████▋        | 9/10 [00:00<00:00, 12.11it/s]"
     ]
    },
    {
     "name": "stdout",
     "output_type": "stream",
     "text": [
      "10/10 [==============================] - 0s 1ms/step\n"
     ]
    },
    {
     "name": "stderr",
     "output_type": "stream",
     "text": [
      "100%|██████████████████████████████████████████████████████████████████████████████████| 10/10 [00:00<00:00, 11.68it/s]\n",
      "2023-08-26 01:04:44,088 - INFO - AUC : 0.6799999999999999\n"
     ]
    },
    {
     "name": "stdout",
     "output_type": "stream",
     "text": [
      "===========================\n",
      "\n",
      "Training transfer model for slider -> id_00 using pretrain model pretrain_('fan', 'pump')\n",
      "Epoch 1/50\n",
      "3/3 [==============================] - 1s 60ms/step - loss: 13.5630 - val_loss: 10.1034\n",
      "Epoch 2/50\n",
      "3/3 [==============================] - 0s 16ms/step - loss: 12.8298 - val_loss: 9.4102\n",
      "Epoch 3/50\n",
      "3/3 [==============================] - 0s 15ms/step - loss: 10.9233 - val_loss: 8.1199\n",
      "Epoch 4/50\n",
      "3/3 [==============================] - 0s 15ms/step - loss: 9.6810 - val_loss: 6.1262\n",
      "Epoch 5/50\n",
      "3/3 [==============================] - 0s 15ms/step - loss: 9.4104 - val_loss: 8.4560\n",
      "Epoch 6/50\n",
      "3/3 [==============================] - 0s 15ms/step - loss: 9.0987 - val_loss: 6.3798\n",
      "Epoch 7/50\n",
      "3/3 [==============================] - 0s 15ms/step - loss: 8.6074 - val_loss: 6.4356\n",
      "Epoch 8/50\n",
      "3/3 [==============================] - 0s 14ms/step - loss: 8.2113 - val_loss: 6.6687\n",
      "Epoch 9/50\n",
      "3/3 [==============================] - 0s 14ms/step - loss: 8.0028 - val_loss: 5.9026\n",
      "Epoch 10/50\n",
      "3/3 [==============================] - 0s 14ms/step - loss: 7.8872 - val_loss: 6.0949\n",
      "Epoch 11/50\n",
      "3/3 [==============================] - 0s 14ms/step - loss: 7.7189 - val_loss: 5.9730\n",
      "Epoch 12/50\n",
      "3/3 [==============================] - 0s 15ms/step - loss: 7.5631 - val_loss: 5.7277\n",
      "Epoch 13/50\n",
      "3/3 [==============================] - 0s 15ms/step - loss: 7.4374 - val_loss: 6.0600\n",
      "Epoch 14/50\n",
      "3/3 [==============================] - 0s 19ms/step - loss: 7.3596 - val_loss: 5.6916\n",
      "Epoch 15/50\n",
      "3/3 [==============================] - 0s 16ms/step - loss: 7.2782 - val_loss: 5.7387\n",
      "Epoch 16/50\n",
      "3/3 [==============================] - 0s 15ms/step - loss: 7.2007 - val_loss: 5.6477\n",
      "Epoch 17/50\n",
      "3/3 [==============================] - 0s 14ms/step - loss: 7.1188 - val_loss: 5.5166\n",
      "Epoch 18/50\n",
      "3/3 [==============================] - 0s 14ms/step - loss: 7.0667 - val_loss: 5.6376\n",
      "Epoch 19/50\n",
      "3/3 [==============================] - 0s 14ms/step - loss: 7.0165 - val_loss: 5.4935\n",
      "Epoch 20/50\n",
      "3/3 [==============================] - 0s 15ms/step - loss: 6.9646 - val_loss: 5.6333\n",
      "Epoch 21/50\n",
      "3/3 [==============================] - 0s 14ms/step - loss: 6.9219 - val_loss: 5.4917\n",
      "Epoch 22/50\n",
      "3/3 [==============================] - 0s 14ms/step - loss: 6.8771 - val_loss: 5.5195\n",
      "Epoch 23/50\n",
      "3/3 [==============================] - 0s 14ms/step - loss: 6.8366 - val_loss: 5.4973\n",
      "Epoch 24/50\n",
      "3/3 [==============================] - 0s 15ms/step - loss: 6.7929 - val_loss: 5.4264\n",
      "Epoch 25/50\n",
      "3/3 [==============================] - 0s 15ms/step - loss: 6.7570 - val_loss: 5.5109\n",
      "Epoch 26/50\n",
      "3/3 [==============================] - 0s 14ms/step - loss: 6.7251 - val_loss: 5.4614\n",
      "Epoch 27/50\n",
      "3/3 [==============================] - 0s 14ms/step - loss: 6.6923 - val_loss: 5.4746\n",
      "Epoch 28/50\n",
      "3/3 [==============================] - 0s 15ms/step - loss: 6.6606 - val_loss: 5.4042\n",
      "Epoch 29/50\n",
      "3/3 [==============================] - 0s 15ms/step - loss: 6.6367 - val_loss: 5.4625\n",
      "Epoch 30/50\n",
      "3/3 [==============================] - 0s 16ms/step - loss: 6.6056 - val_loss: 5.4018\n",
      "Epoch 31/50\n",
      "3/3 [==============================] - 0s 15ms/step - loss: 6.5793 - val_loss: 5.4949\n",
      "Epoch 32/50\n",
      "3/3 [==============================] - 0s 15ms/step - loss: 6.5563 - val_loss: 5.4443\n",
      "Epoch 33/50\n",
      "3/3 [==============================] - 0s 16ms/step - loss: 6.5264 - val_loss: 5.4427\n",
      "Epoch 34/50\n",
      "3/3 [==============================] - 0s 14ms/step - loss: 6.5019 - val_loss: 5.4473\n",
      "Epoch 35/50\n",
      "3/3 [==============================] - 0s 14ms/step - loss: 6.4746 - val_loss: 5.4416\n",
      "Epoch 36/50\n",
      "3/3 [==============================] - 0s 16ms/step - loss: 6.4478 - val_loss: 5.3969\n",
      "Epoch 37/50\n",
      "3/3 [==============================] - 0s 15ms/step - loss: 6.4206 - val_loss: 5.4107\n",
      "Epoch 38/50\n",
      "3/3 [==============================] - 0s 16ms/step - loss: 6.3988 - val_loss: 5.4590\n",
      "Epoch 39/50\n",
      "3/3 [==============================] - 0s 20ms/step - loss: 6.3714 - val_loss: 5.3693\n",
      "Epoch 40/50\n",
      "3/3 [==============================] - 0s 16ms/step - loss: 6.3456 - val_loss: 5.4533\n",
      "Epoch 41/50\n",
      "3/3 [==============================] - 0s 15ms/step - loss: 6.3193 - val_loss: 5.4020\n",
      "Epoch 42/50\n",
      "3/3 [==============================] - 0s 14ms/step - loss: 6.2938 - val_loss: 5.4627\n",
      "Epoch 43/50\n",
      "3/3 [==============================] - 0s 15ms/step - loss: 6.2685 - val_loss: 5.3866\n",
      "Epoch 44/50\n",
      "3/3 [==============================] - 0s 15ms/step - loss: 6.2417 - val_loss: 5.4140\n",
      "Epoch 45/50\n",
      "3/3 [==============================] - 0s 14ms/step - loss: 6.2203 - val_loss: 5.4143\n",
      "Epoch 46/50\n",
      "3/3 [==============================] - 0s 14ms/step - loss: 6.1954 - val_loss: 5.3644\n",
      "Epoch 47/50\n",
      "3/3 [==============================] - 0s 14ms/step - loss: 6.1729 - val_loss: 5.4552\n",
      "Epoch 48/50\n",
      "3/3 [==============================] - 0s 14ms/step - loss: 6.1500 - val_loss: 5.3571\n",
      "Epoch 49/50\n",
      "3/3 [==============================] - 0s 14ms/step - loss: 6.1168 - val_loss: 5.4427\n",
      "Epoch 50/50\n",
      "3/3 [==============================] - 0s 14ms/step - loss: 6.0920 - val_loss: 5.3755\n",
      "============== EVALUATION ==============\n"
     ]
    },
    {
     "name": "stderr",
     "output_type": "stream",
     "text": [
      "C:\\Users\\Baejs\\anaconda3\\envs\\bae\\lib\\site-packages\\keras\\src\\engine\\training.py:3000: UserWarning: You are saving your model as an HDF5 file via `model.save()`. This file format is considered legacy. We recommend using instead the native Keras format, e.g. `model.save('my_model.keras')`.\n",
      "  saving_api.save_model(\n",
      "  0%|                                                                                           | 0/10 [00:00<?, ?it/s]"
     ]
    },
    {
     "name": "stdout",
     "output_type": "stream",
     "text": [
      "10/10 [==============================] - 0s 1ms/step\n"
     ]
    },
    {
     "name": "stderr",
     "output_type": "stream",
     "text": [
      " 10%|████████▎                                                                          | 1/10 [00:00<00:01,  8.45it/s]"
     ]
    },
    {
     "name": "stdout",
     "output_type": "stream",
     "text": [
      "10/10 [==============================] - 0s 1ms/step\n",
      "10/10 [==============================] - 0s 1ms/step\n"
     ]
    },
    {
     "name": "stderr",
     "output_type": "stream",
     "text": [
      " 30%|████████████████████████▉                                                          | 3/10 [00:00<00:00, 11.23it/s]"
     ]
    },
    {
     "name": "stdout",
     "output_type": "stream",
     "text": [
      "10/10 [==============================] - 0s 1ms/step\n",
      "10/10 [==============================] - 0s 2ms/step\n"
     ]
    },
    {
     "name": "stderr",
     "output_type": "stream",
     "text": [
      " 50%|█████████████████████████████████████████▌                                         | 5/10 [00:00<00:00, 11.91it/s]"
     ]
    },
    {
     "name": "stdout",
     "output_type": "stream",
     "text": [
      "10/10 [==============================] - 0s 1ms/step\n",
      "10/10 [==============================] - 0s 1ms/step\n"
     ]
    },
    {
     "name": "stderr",
     "output_type": "stream",
     "text": [
      " 70%|██████████████████████████████████████████████████████████                         | 7/10 [00:00<00:00, 12.22it/s]"
     ]
    },
    {
     "name": "stdout",
     "output_type": "stream",
     "text": [
      "10/10 [==============================] - 0s 1ms/step\n",
      "10/10 [==============================] - 0s 997us/step\n"
     ]
    },
    {
     "name": "stderr",
     "output_type": "stream",
     "text": [
      " 90%|██████████████████████████████████████████████████████████████████████████▋        | 9/10 [00:00<00:00, 12.66it/s]"
     ]
    },
    {
     "name": "stdout",
     "output_type": "stream",
     "text": [
      "10/10 [==============================] - 0s 997us/step\n"
     ]
    },
    {
     "name": "stderr",
     "output_type": "stream",
     "text": [
      "100%|██████████████████████████████████████████████████████████████████████████████████| 10/10 [00:00<00:00, 12.23it/s]\n",
      "2023-08-26 01:04:47,729 - INFO - AUC : 0.72\n"
     ]
    },
    {
     "name": "stdout",
     "output_type": "stream",
     "text": [
      "===========================\n",
      "Model file not found for slider -> id_00. Skipping...\n",
      "\n",
      "Training transfer model for slider -> id_00 using pretrain model pretrain_('valve', 'pump')\n",
      "Epoch 1/50\n",
      "3/3 [==============================] - 1s 67ms/step - loss: 15.7716 - val_loss: 13.1923\n",
      "Epoch 2/50\n",
      "3/3 [==============================] - 0s 15ms/step - loss: 13.6542 - val_loss: 10.6962\n",
      "Epoch 3/50\n",
      "3/3 [==============================] - 0s 16ms/step - loss: 11.2735 - val_loss: 9.2138\n",
      "Epoch 4/50\n",
      "3/3 [==============================] - 0s 15ms/step - loss: 10.9275 - val_loss: 5.7764\n",
      "Epoch 5/50\n",
      "3/3 [==============================] - 0s 15ms/step - loss: 9.3053 - val_loss: 6.7966\n",
      "Epoch 6/50\n",
      "3/3 [==============================] - 0s 14ms/step - loss: 9.0022 - val_loss: 5.7472\n",
      "Epoch 7/50\n",
      "3/3 [==============================] - 0s 14ms/step - loss: 8.3703 - val_loss: 6.1429\n",
      "Epoch 8/50\n",
      "3/3 [==============================] - 0s 15ms/step - loss: 8.1025 - val_loss: 5.6738\n",
      "Epoch 9/50\n",
      "3/3 [==============================] - 0s 24ms/step - loss: 7.7807 - val_loss: 5.5296\n",
      "Epoch 10/50\n",
      "3/3 [==============================] - 0s 14ms/step - loss: 7.4585 - val_loss: 5.3954\n",
      "Epoch 11/50\n",
      "3/3 [==============================] - 0s 14ms/step - loss: 7.3015 - val_loss: 5.3180\n",
      "Epoch 12/50\n",
      "3/3 [==============================] - 0s 14ms/step - loss: 7.0562 - val_loss: 5.2255\n",
      "Epoch 13/50\n",
      "3/3 [==============================] - 0s 14ms/step - loss: 6.9337 - val_loss: 5.0602\n",
      "Epoch 14/50\n",
      "3/3 [==============================] - 0s 14ms/step - loss: 6.7968 - val_loss: 5.0250\n",
      "Epoch 15/50\n",
      "3/3 [==============================] - 0s 14ms/step - loss: 6.6262 - val_loss: 5.0307\n",
      "Epoch 16/50\n",
      "3/3 [==============================] - 0s 14ms/step - loss: 6.5321 - val_loss: 5.0601\n",
      "Epoch 17/50\n",
      "3/3 [==============================] - 0s 16ms/step - loss: 6.4268 - val_loss: 4.9478\n",
      "Epoch 18/50\n",
      "3/3 [==============================] - 0s 14ms/step - loss: 6.3387 - val_loss: 4.9964\n",
      "Epoch 19/50\n",
      "3/3 [==============================] - 0s 15ms/step - loss: 6.2605 - val_loss: 4.9441\n",
      "Epoch 20/50\n",
      "3/3 [==============================] - 0s 14ms/step - loss: 6.1857 - val_loss: 4.9497\n",
      "Epoch 21/50\n",
      "3/3 [==============================] - 0s 14ms/step - loss: 6.1164 - val_loss: 4.9252\n",
      "Epoch 22/50\n",
      "3/3 [==============================] - 0s 14ms/step - loss: 6.0494 - val_loss: 4.9150\n",
      "Epoch 23/50\n",
      "3/3 [==============================] - 0s 14ms/step - loss: 5.9874 - val_loss: 4.9213\n",
      "Epoch 24/50\n",
      "3/3 [==============================] - 0s 13ms/step - loss: 5.9292 - val_loss: 4.9139\n",
      "Epoch 25/50\n",
      "3/3 [==============================] - 0s 14ms/step - loss: 5.8697 - val_loss: 4.9165\n",
      "Epoch 26/50\n",
      "3/3 [==============================] - 0s 13ms/step - loss: 5.8174 - val_loss: 4.9083\n",
      "Epoch 27/50\n",
      "3/3 [==============================] - 0s 14ms/step - loss: 5.7683 - val_loss: 4.9181\n",
      "Epoch 28/50\n",
      "3/3 [==============================] - 0s 15ms/step - loss: 5.7196 - val_loss: 4.9022\n",
      "Epoch 29/50\n",
      "3/3 [==============================] - 0s 13ms/step - loss: 5.6755 - val_loss: 4.9087\n",
      "Epoch 30/50\n",
      "3/3 [==============================] - 0s 15ms/step - loss: 5.6344 - val_loss: 4.9039\n",
      "Epoch 31/50\n",
      "3/3 [==============================] - 0s 14ms/step - loss: 5.5946 - val_loss: 4.9117\n",
      "Epoch 32/50\n",
      "3/3 [==============================] - 0s 14ms/step - loss: 5.5580 - val_loss: 4.9119\n",
      "Epoch 33/50\n",
      "3/3 [==============================] - 0s 13ms/step - loss: 5.5248 - val_loss: 4.9118\n",
      "Epoch 34/50\n",
      "3/3 [==============================] - 0s 14ms/step - loss: 5.4934 - val_loss: 4.9002\n",
      "Epoch 35/50\n",
      "3/3 [==============================] - 0s 14ms/step - loss: 5.4658 - val_loss: 4.9047\n",
      "Epoch 36/50\n",
      "3/3 [==============================] - 0s 14ms/step - loss: 5.4397 - val_loss: 4.8980\n",
      "Epoch 37/50\n",
      "3/3 [==============================] - 0s 15ms/step - loss: 5.4165 - val_loss: 4.8881\n",
      "Epoch 38/50\n",
      "3/3 [==============================] - 0s 15ms/step - loss: 5.3963 - val_loss: 4.9001\n",
      "Epoch 39/50\n",
      "3/3 [==============================] - 0s 14ms/step - loss: 5.3752 - val_loss: 4.8985\n",
      "Epoch 40/50\n",
      "3/3 [==============================] - 0s 15ms/step - loss: 5.3585 - val_loss: 4.8919\n",
      "Epoch 41/50\n",
      "3/3 [==============================] - 0s 14ms/step - loss: 5.3427 - val_loss: 4.8958\n",
      "Epoch 42/50\n",
      "3/3 [==============================] - 0s 15ms/step - loss: 5.3292 - val_loss: 4.8905\n",
      "Epoch 43/50\n",
      "3/3 [==============================] - 0s 14ms/step - loss: 5.3162 - val_loss: 4.9050\n",
      "Epoch 44/50\n",
      "3/3 [==============================] - 0s 14ms/step - loss: 5.3088 - val_loss: 4.8954\n",
      "Epoch 45/50\n",
      "3/3 [==============================] - 0s 15ms/step - loss: 5.2987 - val_loss: 4.8701\n",
      "Epoch 46/50\n",
      "3/3 [==============================] - 0s 15ms/step - loss: 5.2911 - val_loss: 4.8858\n",
      "Epoch 47/50\n",
      "3/3 [==============================] - 0s 14ms/step - loss: 5.2826 - val_loss: 4.8974\n",
      "Epoch 48/50\n",
      "3/3 [==============================] - 0s 14ms/step - loss: 5.2755 - val_loss: 4.8742\n",
      "Epoch 49/50\n",
      "3/3 [==============================] - 0s 14ms/step - loss: 5.2680 - val_loss: 4.8675\n",
      "Epoch 50/50\n",
      "3/3 [==============================] - 0s 14ms/step - loss: 5.2625 - val_loss: 4.8710\n",
      "============== EVALUATION ==============\n"
     ]
    },
    {
     "name": "stderr",
     "output_type": "stream",
     "text": [
      "C:\\Users\\Baejs\\anaconda3\\envs\\bae\\lib\\site-packages\\keras\\src\\engine\\training.py:3000: UserWarning: You are saving your model as an HDF5 file via `model.save()`. This file format is considered legacy. We recommend using instead the native Keras format, e.g. `model.save('my_model.keras')`.\n",
      "  saving_api.save_model(\n",
      "  0%|                                                                                           | 0/10 [00:00<?, ?it/s]"
     ]
    },
    {
     "name": "stdout",
     "output_type": "stream",
     "text": [
      "10/10 [==============================] - 0s 1ms/step\n"
     ]
    },
    {
     "name": "stderr",
     "output_type": "stream",
     "text": [
      " 10%|████████▎                                                                          | 1/10 [00:00<00:01,  8.57it/s]"
     ]
    },
    {
     "name": "stdout",
     "output_type": "stream",
     "text": [
      "10/10 [==============================] - 0s 997us/step\n",
      "10/10 [==============================] - 0s 1ms/step\n"
     ]
    },
    {
     "name": "stderr",
     "output_type": "stream",
     "text": [
      " 30%|████████████████████████▉                                                          | 3/10 [00:00<00:00, 11.50it/s]"
     ]
    },
    {
     "name": "stdout",
     "output_type": "stream",
     "text": [
      "10/10 [==============================] - 0s 998us/step\n",
      "10/10 [==============================] - 0s 998us/step\n"
     ]
    },
    {
     "name": "stderr",
     "output_type": "stream",
     "text": [
      " 50%|█████████████████████████████████████████▌                                         | 5/10 [00:00<00:00, 12.55it/s]"
     ]
    },
    {
     "name": "stdout",
     "output_type": "stream",
     "text": [
      "10/10 [==============================] - 0s 1ms/step\n",
      "10/10 [==============================] - 0s 1ms/step\n"
     ]
    },
    {
     "name": "stderr",
     "output_type": "stream",
     "text": [
      " 70%|██████████████████████████████████████████████████████████                         | 7/10 [00:00<00:00, 12.61it/s]"
     ]
    },
    {
     "name": "stdout",
     "output_type": "stream",
     "text": [
      "10/10 [==============================] - 0s 1ms/step\n",
      "10/10 [==============================] - 0s 1ms/step\n"
     ]
    },
    {
     "name": "stderr",
     "output_type": "stream",
     "text": [
      " 90%|██████████████████████████████████████████████████████████████████████████▋        | 9/10 [00:00<00:00, 12.69it/s]"
     ]
    },
    {
     "name": "stdout",
     "output_type": "stream",
     "text": [
      "10/10 [==============================] - 0s 1ms/step\n"
     ]
    },
    {
     "name": "stderr",
     "output_type": "stream",
     "text": [
      "100%|██████████████████████████████████████████████████████████████████████████████████| 10/10 [00:00<00:00, 12.35it/s]\n",
      "2023-08-26 01:04:51,412 - INFO - AUC : 0.76\n",
      "2023-08-26 01:04:51,413 - INFO - target_dir : ../Sample_data\n",
      "2023-08-26 01:04:51,415 - INFO - train_file num : 5\n",
      "2023-08-26 01:04:51,416 - INFO - eval_file  num : 10\n"
     ]
    },
    {
     "name": "stdout",
     "output_type": "stream",
     "text": [
      "===========================\n",
      "Model file not found for slider -> id_00. Skipping...\n",
      "Model file not found for slider -> id_00. Skipping...\n",
      "\n",
      "===========================\n"
     ]
    },
    {
     "name": "stderr",
     "output_type": "stream",
     "text": [
      "generate train_dataset: 100%|████████████████████████████████████████████████████████████| 5/5 [00:00<00:00, 78.34it/s]\n",
      "2023-08-26 01:04:51,485 - INFO - save_pickle -> ./pickle_transfer_pretrain_v3/train_slider_id_02.pickle\n",
      "2023-08-26 01:04:51,491 - INFO - save_pickle -> ./pickle_transfer_pretrain_v3/eval_files_slider_id_02.pickle\n",
      "2023-08-26 01:04:51,493 - INFO - save_pickle -> ./pickle_transfer_pretrain_v3/eval_labels_slider_id_02.pickle\n"
     ]
    },
    {
     "name": "stdout",
     "output_type": "stream",
     "text": [
      "\n",
      "Training transfer model for slider -> id_02 using pretrain model pretrain_('fan', 'valve')\n",
      "Epoch 1/50\n",
      "3/3 [==============================] - 1s 71ms/step - loss: 17.9940 - val_loss: 19.1070\n",
      "Epoch 2/50\n",
      "3/3 [==============================] - 0s 17ms/step - loss: 15.9174 - val_loss: 14.7210\n",
      "Epoch 3/50\n",
      "3/3 [==============================] - 0s 15ms/step - loss: 12.7438 - val_loss: 15.5972\n",
      "Epoch 4/50\n",
      "3/3 [==============================] - 0s 15ms/step - loss: 12.1903 - val_loss: 16.3885\n",
      "Epoch 5/50\n",
      "3/3 [==============================] - 0s 15ms/step - loss: 12.3088 - val_loss: 15.4814\n",
      "Epoch 6/50\n",
      "3/3 [==============================] - 0s 16ms/step - loss: 10.9349 - val_loss: 14.7267\n",
      "Epoch 7/50\n",
      "3/3 [==============================] - 0s 15ms/step - loss: 11.2851 - val_loss: 14.1104\n",
      "Epoch 8/50\n",
      "3/3 [==============================] - 0s 14ms/step - loss: 10.7418 - val_loss: 14.9463\n",
      "Epoch 9/50\n",
      "3/3 [==============================] - 0s 14ms/step - loss: 10.6527 - val_loss: 14.7663\n",
      "Epoch 10/50\n",
      "3/3 [==============================] - 0s 15ms/step - loss: 10.6193 - val_loss: 14.6025\n",
      "Epoch 11/50\n",
      "3/3 [==============================] - 0s 15ms/step - loss: 10.3589 - val_loss: 14.7111\n",
      "Epoch 12/50\n",
      "3/3 [==============================] - 0s 13ms/step - loss: 10.3686 - val_loss: 14.3961\n",
      "Epoch 13/50\n",
      "3/3 [==============================] - 0s 15ms/step - loss: 10.2675 - val_loss: 14.4319\n",
      "Epoch 14/50\n",
      "3/3 [==============================] - 0s 13ms/step - loss: 10.1740 - val_loss: 14.4769\n",
      "Epoch 15/50\n",
      "3/3 [==============================] - 0s 34ms/step - loss: 10.1738 - val_loss: 14.3109\n",
      "Epoch 16/50\n",
      "3/3 [==============================] - 0s 14ms/step - loss: 10.0895 - val_loss: 14.3256\n",
      "Epoch 17/50\n",
      "3/3 [==============================] - 0s 14ms/step - loss: 10.0302 - val_loss: 14.3979\n",
      "Epoch 18/50\n",
      "3/3 [==============================] - 0s 13ms/step - loss: 10.0063 - val_loss: 14.4794\n",
      "Epoch 19/50\n",
      "3/3 [==============================] - 0s 13ms/step - loss: 9.9502 - val_loss: 14.3915\n",
      "Epoch 20/50\n",
      "3/3 [==============================] - 0s 13ms/step - loss: 9.8995 - val_loss: 14.2395\n",
      "Epoch 21/50\n",
      "3/3 [==============================] - 0s 14ms/step - loss: 9.8589 - val_loss: 14.2788\n",
      "Epoch 22/50\n",
      "3/3 [==============================] - 0s 13ms/step - loss: 9.8135 - val_loss: 14.2997\n",
      "Epoch 23/50\n",
      "3/3 [==============================] - 0s 13ms/step - loss: 9.7686 - val_loss: 14.4188\n",
      "Epoch 24/50\n",
      "3/3 [==============================] - 0s 13ms/step - loss: 9.7210 - val_loss: 14.3605\n",
      "Epoch 25/50\n",
      "3/3 [==============================] - 0s 13ms/step - loss: 9.6797 - val_loss: 14.4033\n",
      "Epoch 26/50\n",
      "3/3 [==============================] - 0s 14ms/step - loss: 9.6320 - val_loss: 14.4123\n",
      "Epoch 27/50\n",
      "3/3 [==============================] - 0s 13ms/step - loss: 9.5896 - val_loss: 14.5087\n",
      "Epoch 28/50\n",
      "3/3 [==============================] - 0s 13ms/step - loss: 9.5439 - val_loss: 14.5830\n",
      "Epoch 29/50\n",
      "3/3 [==============================] - 0s 13ms/step - loss: 9.4990 - val_loss: 14.5209\n",
      "Epoch 30/50\n",
      "3/3 [==============================] - 0s 14ms/step - loss: 9.4574 - val_loss: 14.4820\n",
      "Epoch 31/50\n",
      "3/3 [==============================] - 0s 13ms/step - loss: 9.4165 - val_loss: 14.7006\n",
      "Epoch 32/50\n",
      "3/3 [==============================] - 0s 14ms/step - loss: 9.3733 - val_loss: 14.6939\n",
      "Epoch 33/50\n",
      "3/3 [==============================] - 0s 13ms/step - loss: 9.3328 - val_loss: 14.8710\n",
      "Epoch 34/50\n",
      "3/3 [==============================] - 0s 13ms/step - loss: 9.2946 - val_loss: 14.8236\n",
      "Epoch 35/50\n",
      "3/3 [==============================] - 0s 14ms/step - loss: 9.2650 - val_loss: 14.9162\n",
      "Epoch 36/50\n",
      "3/3 [==============================] - 0s 14ms/step - loss: 9.2306 - val_loss: 15.0122\n",
      "Epoch 37/50\n",
      "3/3 [==============================] - 0s 14ms/step - loss: 9.1933 - val_loss: 15.1056\n",
      "Epoch 38/50\n",
      "3/3 [==============================] - 0s 14ms/step - loss: 9.1640 - val_loss: 15.1913\n",
      "Epoch 39/50\n",
      "3/3 [==============================] - 0s 14ms/step - loss: 9.1373 - val_loss: 15.2385\n",
      "Epoch 40/50\n",
      "3/3 [==============================] - 0s 14ms/step - loss: 9.1132 - val_loss: 15.4148\n",
      "Epoch 41/50\n",
      "3/3 [==============================] - 0s 13ms/step - loss: 9.0936 - val_loss: 15.4601\n",
      "Epoch 42/50\n",
      "3/3 [==============================] - 0s 14ms/step - loss: 9.0725 - val_loss: 15.5255\n",
      "Epoch 43/50\n",
      "3/3 [==============================] - 0s 13ms/step - loss: 9.0592 - val_loss: 15.5816\n",
      "Epoch 44/50\n",
      "3/3 [==============================] - 0s 14ms/step - loss: 9.0388 - val_loss: 15.7121\n",
      "Epoch 45/50\n",
      "3/3 [==============================] - 0s 14ms/step - loss: 9.0252 - val_loss: 15.7138\n",
      "Epoch 46/50\n",
      "3/3 [==============================] - 0s 14ms/step - loss: 9.0105 - val_loss: 15.9394\n",
      "Epoch 47/50\n",
      "3/3 [==============================] - 0s 14ms/step - loss: 9.0000 - val_loss: 15.9490\n",
      "Epoch 48/50\n",
      "3/3 [==============================] - 0s 14ms/step - loss: 8.9913 - val_loss: 15.9831\n",
      "Epoch 49/50\n",
      "3/3 [==============================] - 0s 13ms/step - loss: 8.9837 - val_loss: 16.0726\n",
      "Epoch 50/50\n",
      "3/3 [==============================] - 0s 14ms/step - loss: 8.9742 - val_loss: 16.1048\n",
      "============== EVALUATION ==============\n"
     ]
    },
    {
     "name": "stderr",
     "output_type": "stream",
     "text": [
      "C:\\Users\\Baejs\\anaconda3\\envs\\bae\\lib\\site-packages\\keras\\src\\engine\\training.py:3000: UserWarning: You are saving your model as an HDF5 file via `model.save()`. This file format is considered legacy. We recommend using instead the native Keras format, e.g. `model.save('my_model.keras')`.\n",
      "  saving_api.save_model(\n",
      "  0%|                                                                                           | 0/10 [00:00<?, ?it/s]"
     ]
    },
    {
     "name": "stdout",
     "output_type": "stream",
     "text": [
      "10/10 [==============================] - 0s 1ms/step\n"
     ]
    },
    {
     "name": "stderr",
     "output_type": "stream",
     "text": [
      " 10%|████████▎                                                                          | 1/10 [00:00<00:00,  9.14it/s]"
     ]
    },
    {
     "name": "stdout",
     "output_type": "stream",
     "text": [
      "10/10 [==============================] - 0s 1ms/step\n",
      "10/10 [==============================] - 0s 997us/step\n"
     ]
    },
    {
     "name": "stderr",
     "output_type": "stream",
     "text": [
      " 30%|████████████████████████▉                                                          | 3/10 [00:00<00:00, 11.78it/s]"
     ]
    },
    {
     "name": "stdout",
     "output_type": "stream",
     "text": [
      "10/10 [==============================] - 0s 1ms/step\n",
      "10/10 [==============================] - 0s 1ms/step\n"
     ]
    },
    {
     "name": "stderr",
     "output_type": "stream",
     "text": [
      " 50%|█████████████████████████████████████████▌                                         | 5/10 [00:00<00:00, 13.05it/s]"
     ]
    },
    {
     "name": "stdout",
     "output_type": "stream",
     "text": [
      "10/10 [==============================] - 0s 1ms/step\n",
      "10/10 [==============================] - 0s 1ms/step\n"
     ]
    },
    {
     "name": "stderr",
     "output_type": "stream",
     "text": [
      " 70%|██████████████████████████████████████████████████████████                         | 7/10 [00:00<00:00, 13.24it/s]"
     ]
    },
    {
     "name": "stdout",
     "output_type": "stream",
     "text": [
      "10/10 [==============================] - 0s 1ms/step\n",
      "10/10 [==============================] - 0s 1ms/step\n"
     ]
    },
    {
     "name": "stderr",
     "output_type": "stream",
     "text": [
      " 90%|██████████████████████████████████████████████████████████████████████████▋        | 9/10 [00:00<00:00, 13.06it/s]"
     ]
    },
    {
     "name": "stdout",
     "output_type": "stream",
     "text": [
      "10/10 [==============================] - 0s 1ms/step\n"
     ]
    },
    {
     "name": "stderr",
     "output_type": "stream",
     "text": [
      "100%|██████████████████████████████████████████████████████████████████████████████████| 10/10 [00:00<00:00, 12.60it/s]\n",
      "2023-08-26 01:04:55,058 - INFO - AUC : 0.48\n"
     ]
    },
    {
     "name": "stdout",
     "output_type": "stream",
     "text": [
      "===========================\n",
      "\n",
      "Training transfer model for slider -> id_02 using pretrain model pretrain_('fan', 'pump')\n",
      "Epoch 1/50\n",
      "3/3 [==============================] - 1s 172ms/step - loss: 18.8376 - val_loss: 19.2979\n",
      "Epoch 2/50\n",
      "3/3 [==============================] - 0s 16ms/step - loss: 15.1475 - val_loss: 16.2150\n",
      "Epoch 3/50\n",
      "3/3 [==============================] - 0s 15ms/step - loss: 12.8670 - val_loss: 15.1146\n",
      "Epoch 4/50\n",
      "3/3 [==============================] - 0s 14ms/step - loss: 12.2612 - val_loss: 15.3051\n",
      "Epoch 5/50\n",
      "3/3 [==============================] - 0s 14ms/step - loss: 11.6890 - val_loss: 14.5006\n",
      "Epoch 6/50\n",
      "3/3 [==============================] - 0s 14ms/step - loss: 10.9052 - val_loss: 12.4090\n",
      "Epoch 7/50\n",
      "3/3 [==============================] - 0s 15ms/step - loss: 10.5095 - val_loss: 12.1334\n",
      "Epoch 8/50\n",
      "3/3 [==============================] - 0s 15ms/step - loss: 10.4809 - val_loss: 12.5122\n",
      "Epoch 9/50\n",
      "3/3 [==============================] - 0s 14ms/step - loss: 10.2282 - val_loss: 12.6457\n",
      "Epoch 10/50\n",
      "3/3 [==============================] - 0s 14ms/step - loss: 10.0475 - val_loss: 12.7159\n",
      "Epoch 11/50\n",
      "3/3 [==============================] - 0s 13ms/step - loss: 9.8717 - val_loss: 12.1657\n",
      "Epoch 12/50\n",
      "3/3 [==============================] - 0s 13ms/step - loss: 9.7887 - val_loss: 12.0072\n",
      "Epoch 13/50\n",
      "3/3 [==============================] - 0s 13ms/step - loss: 9.6780 - val_loss: 12.0729\n",
      "Epoch 14/50\n",
      "3/3 [==============================] - 0s 14ms/step - loss: 9.5915 - val_loss: 11.8436\n",
      "Epoch 15/50\n",
      "3/3 [==============================] - 0s 14ms/step - loss: 9.5023 - val_loss: 11.8262\n",
      "Epoch 16/50\n",
      "3/3 [==============================] - 0s 14ms/step - loss: 9.4479 - val_loss: 11.8046\n",
      "Epoch 17/50\n",
      "3/3 [==============================] - 0s 14ms/step - loss: 9.3749 - val_loss: 11.8972\n",
      "Epoch 18/50\n",
      "3/3 [==============================] - 0s 13ms/step - loss: 9.3116 - val_loss: 11.9769\n",
      "Epoch 19/50\n",
      "3/3 [==============================] - 0s 13ms/step - loss: 9.2562 - val_loss: 11.9455\n",
      "Epoch 20/50\n",
      "3/3 [==============================] - 0s 14ms/step - loss: 9.2055 - val_loss: 11.9229\n",
      "Epoch 21/50\n",
      "3/3 [==============================] - 0s 15ms/step - loss: 9.1613 - val_loss: 11.9533\n",
      "Epoch 22/50\n",
      "3/3 [==============================] - 0s 14ms/step - loss: 9.1172 - val_loss: 12.1286\n",
      "Epoch 23/50\n",
      "3/3 [==============================] - 0s 14ms/step - loss: 9.0790 - val_loss: 12.2310\n",
      "Epoch 24/50\n",
      "3/3 [==============================] - 0s 14ms/step - loss: 9.0451 - val_loss: 12.1765\n",
      "Epoch 25/50\n",
      "3/3 [==============================] - 0s 14ms/step - loss: 9.0126 - val_loss: 12.2148\n",
      "Epoch 26/50\n",
      "3/3 [==============================] - 0s 14ms/step - loss: 8.9825 - val_loss: 12.2891\n",
      "Epoch 27/50\n",
      "3/3 [==============================] - 0s 14ms/step - loss: 8.9533 - val_loss: 12.3045\n",
      "Epoch 28/50\n",
      "3/3 [==============================] - 0s 14ms/step - loss: 8.9282 - val_loss: 12.4969\n",
      "Epoch 29/50\n",
      "3/3 [==============================] - 0s 14ms/step - loss: 8.9007 - val_loss: 12.4396\n",
      "Epoch 30/50\n",
      "3/3 [==============================] - 0s 14ms/step - loss: 8.8805 - val_loss: 12.4363\n",
      "Epoch 31/50\n",
      "3/3 [==============================] - 0s 14ms/step - loss: 8.8645 - val_loss: 12.4988\n",
      "Epoch 32/50\n",
      "3/3 [==============================] - 0s 14ms/step - loss: 8.8432 - val_loss: 12.8014\n",
      "Epoch 33/50\n",
      "3/3 [==============================] - 0s 18ms/step - loss: 8.8347 - val_loss: 12.8952\n",
      "Epoch 34/50\n",
      "3/3 [==============================] - 0s 26ms/step - loss: 8.8100 - val_loss: 12.5162\n",
      "Epoch 35/50\n",
      "3/3 [==============================] - 0s 24ms/step - loss: 8.7998 - val_loss: 12.5612\n",
      "Epoch 36/50\n",
      "3/3 [==============================] - 0s 17ms/step - loss: 8.7845 - val_loss: 13.0153\n",
      "Epoch 37/50\n",
      "3/3 [==============================] - 0s 15ms/step - loss: 8.7677 - val_loss: 12.9735\n",
      "Epoch 38/50\n",
      "3/3 [==============================] - 0s 15ms/step - loss: 8.7533 - val_loss: 12.9763\n",
      "Epoch 39/50\n",
      "3/3 [==============================] - 0s 15ms/step - loss: 8.7389 - val_loss: 12.8589\n",
      "Epoch 40/50\n",
      "3/3 [==============================] - 0s 16ms/step - loss: 8.7265 - val_loss: 12.9249\n",
      "Epoch 41/50\n",
      "3/3 [==============================] - 0s 15ms/step - loss: 8.7136 - val_loss: 12.9492\n",
      "Epoch 42/50\n",
      "3/3 [==============================] - 0s 15ms/step - loss: 8.7004 - val_loss: 13.0879\n",
      "Epoch 43/50\n",
      "3/3 [==============================] - 0s 20ms/step - loss: 8.6902 - val_loss: 12.9707\n",
      "Epoch 44/50\n",
      "3/3 [==============================] - 0s 20ms/step - loss: 8.6781 - val_loss: 12.8769\n",
      "Epoch 45/50\n",
      "3/3 [==============================] - 0s 43ms/step - loss: 8.6683 - val_loss: 13.1085\n",
      "Epoch 46/50\n",
      "3/3 [==============================] - 0s 127ms/step - loss: 8.6523 - val_loss: 12.9786\n",
      "Epoch 47/50\n",
      "3/3 [==============================] - 0s 22ms/step - loss: 8.6451 - val_loss: 12.9975\n",
      "Epoch 48/50\n",
      "3/3 [==============================] - 0s 23ms/step - loss: 8.6303 - val_loss: 12.7390\n",
      "Epoch 49/50\n",
      "3/3 [==============================] - 0s 20ms/step - loss: 8.6221 - val_loss: 12.8846\n",
      "Epoch 50/50\n",
      "3/3 [==============================] - 0s 18ms/step - loss: 8.6033 - val_loss: 12.9734\n"
     ]
    },
    {
     "name": "stderr",
     "output_type": "stream",
     "text": [
      "C:\\Users\\Baejs\\anaconda3\\envs\\bae\\lib\\site-packages\\keras\\src\\engine\\training.py:3000: UserWarning: You are saving your model as an HDF5 file via `model.save()`. This file format is considered legacy. We recommend using instead the native Keras format, e.g. `model.save('my_model.keras')`.\n",
      "  saving_api.save_model(\n"
     ]
    },
    {
     "name": "stdout",
     "output_type": "stream",
     "text": [
      "============== EVALUATION ==============\n"
     ]
    },
    {
     "name": "stderr",
     "output_type": "stream",
     "text": [
      "  0%|                                                                                           | 0/10 [00:00<?, ?it/s]"
     ]
    },
    {
     "name": "stdout",
     "output_type": "stream",
     "text": [
      "10/10 [==============================] - 0s 1ms/step\n"
     ]
    },
    {
     "name": "stderr",
     "output_type": "stream",
     "text": [
      " 10%|████████▎                                                                          | 1/10 [00:00<00:01,  6.73it/s]"
     ]
    },
    {
     "name": "stdout",
     "output_type": "stream",
     "text": [
      "10/10 [==============================] - 0s 1ms/step\n",
      "10/10 [==============================] - 0s 1ms/step\n"
     ]
    },
    {
     "name": "stderr",
     "output_type": "stream",
     "text": [
      " 30%|████████████████████████▉                                                          | 3/10 [00:00<00:00,  9.83it/s]"
     ]
    },
    {
     "name": "stdout",
     "output_type": "stream",
     "text": [
      "10/10 [==============================] - 0s 1ms/step\n",
      "10/10 [==============================] - 0s 2ms/step\n"
     ]
    },
    {
     "name": "stderr",
     "output_type": "stream",
     "text": [
      " 50%|█████████████████████████████████████████▌                                         | 5/10 [00:00<00:00, 10.25it/s]"
     ]
    },
    {
     "name": "stdout",
     "output_type": "stream",
     "text": [
      "10/10 [==============================] - 0s 2ms/step\n",
      "10/10 [==============================] - 0s 2ms/step\n"
     ]
    },
    {
     "name": "stderr",
     "output_type": "stream",
     "text": [
      " 70%|██████████████████████████████████████████████████████████                         | 7/10 [00:01<00:00,  5.81it/s]"
     ]
    },
    {
     "name": "stdout",
     "output_type": "stream",
     "text": [
      "10/10 [==============================] - 0s 2ms/step\n"
     ]
    },
    {
     "name": "stderr",
     "output_type": "stream",
     "text": [
      " 80%|██████████████████████████████████████████████████████████████████▍                | 8/10 [00:01<00:00,  4.43it/s]"
     ]
    },
    {
     "name": "stdout",
     "output_type": "stream",
     "text": [
      "10/10 [==============================] - 0s 2ms/step\n"
     ]
    },
    {
     "name": "stderr",
     "output_type": "stream",
     "text": [
      " 90%|██████████████████████████████████████████████████████████████████████████▋        | 9/10 [00:02<00:00,  3.11it/s]"
     ]
    },
    {
     "name": "stdout",
     "output_type": "stream",
     "text": [
      "10/10 [==============================] - 0s 2ms/step\n"
     ]
    },
    {
     "name": "stderr",
     "output_type": "stream",
     "text": [
      "100%|██████████████████████████████████████████████████████████████████████████████████| 10/10 [00:02<00:00,  4.03it/s]\n",
      "2023-08-26 01:05:00,997 - INFO - AUC : 0.48\n"
     ]
    },
    {
     "name": "stdout",
     "output_type": "stream",
     "text": [
      "===========================\n",
      "Model file not found for slider -> id_02. Skipping...\n",
      "\n",
      "Training transfer model for slider -> id_02 using pretrain model pretrain_('valve', 'pump')\n",
      "Epoch 1/50\n",
      "3/3 [==============================] - 3s 72ms/step - loss: 16.4211 - val_loss: 16.4603\n",
      "Epoch 2/50\n",
      "3/3 [==============================] - 0s 15ms/step - loss: 14.7623 - val_loss: 14.2700\n",
      "Epoch 3/50\n",
      "3/3 [==============================] - 0s 13ms/step - loss: 10.6827 - val_loss: 18.1289\n",
      "Epoch 4/50\n",
      "3/3 [==============================] - 0s 14ms/step - loss: 10.4944 - val_loss: 14.5994\n",
      "Epoch 5/50\n",
      "3/3 [==============================] - 0s 14ms/step - loss: 9.6878 - val_loss: 12.4766\n",
      "Epoch 6/50\n",
      "3/3 [==============================] - 0s 16ms/step - loss: 9.2522 - val_loss: 11.8913\n",
      "Epoch 7/50\n",
      "3/3 [==============================] - 0s 15ms/step - loss: 9.1068 - val_loss: 12.2431\n",
      "Epoch 8/50\n",
      "3/3 [==============================] - 0s 15ms/step - loss: 8.5758 - val_loss: 13.0720\n",
      "Epoch 9/50\n",
      "3/3 [==============================] - 0s 16ms/step - loss: 8.4359 - val_loss: 12.6853\n",
      "Epoch 10/50\n",
      "3/3 [==============================] - 0s 19ms/step - loss: 8.1744 - val_loss: 12.5291\n",
      "Epoch 11/50\n",
      "3/3 [==============================] - 0s 25ms/step - loss: 8.1351 - val_loss: 11.9808\n",
      "Epoch 12/50\n",
      "3/3 [==============================] - 0s 16ms/step - loss: 8.0318 - val_loss: 11.9151\n",
      "Epoch 13/50\n",
      "3/3 [==============================] - 0s 16ms/step - loss: 7.9236 - val_loss: 11.8087\n",
      "Epoch 14/50\n",
      "3/3 [==============================] - 0s 16ms/step - loss: 7.8672 - val_loss: 11.5618\n",
      "Epoch 15/50\n",
      "3/3 [==============================] - 0s 16ms/step - loss: 7.7778 - val_loss: 11.3437\n",
      "Epoch 16/50\n",
      "3/3 [==============================] - 0s 18ms/step - loss: 7.7306 - val_loss: 11.2773\n",
      "Epoch 17/50\n",
      "3/3 [==============================] - 0s 17ms/step - loss: 7.6740 - val_loss: 11.1388\n",
      "Epoch 18/50\n",
      "3/3 [==============================] - 0s 17ms/step - loss: 7.6216 - val_loss: 11.0474\n",
      "Epoch 19/50\n",
      "3/3 [==============================] - 0s 16ms/step - loss: 7.5747 - val_loss: 10.8133\n",
      "Epoch 20/50\n",
      "3/3 [==============================] - 0s 15ms/step - loss: 7.5292 - val_loss: 10.6687\n",
      "Epoch 21/50\n",
      "3/3 [==============================] - 0s 15ms/step - loss: 7.4922 - val_loss: 10.5903\n",
      "Epoch 22/50\n",
      "3/3 [==============================] - 0s 15ms/step - loss: 7.4536 - val_loss: 10.5203\n",
      "Epoch 23/50\n",
      "3/3 [==============================] - 0s 15ms/step - loss: 7.4177 - val_loss: 10.3679\n",
      "Epoch 24/50\n",
      "3/3 [==============================] - 0s 15ms/step - loss: 7.3835 - val_loss: 10.2400\n",
      "Epoch 25/50\n",
      "3/3 [==============================] - 0s 14ms/step - loss: 7.3509 - val_loss: 10.0743\n",
      "Epoch 26/50\n",
      "3/3 [==============================] - 0s 13ms/step - loss: 7.3200 - val_loss: 9.9796\n",
      "Epoch 27/50\n",
      "3/3 [==============================] - 0s 13ms/step - loss: 7.2912 - val_loss: 9.7688\n",
      "Epoch 28/50\n",
      "3/3 [==============================] - 0s 14ms/step - loss: 7.2615 - val_loss: 9.6415\n",
      "Epoch 29/50\n",
      "3/3 [==============================] - 0s 14ms/step - loss: 7.2311 - val_loss: 9.5176\n",
      "Epoch 30/50\n",
      "3/3 [==============================] - 0s 15ms/step - loss: 7.2038 - val_loss: 9.4058\n",
      "Epoch 31/50\n",
      "3/3 [==============================] - 0s 15ms/step - loss: 7.1762 - val_loss: 9.2903\n",
      "Epoch 32/50\n",
      "3/3 [==============================] - 0s 14ms/step - loss: 7.1502 - val_loss: 9.1518\n",
      "Epoch 33/50\n",
      "3/3 [==============================] - 0s 15ms/step - loss: 7.1236 - val_loss: 9.0203\n",
      "Epoch 34/50\n",
      "3/3 [==============================] - 0s 16ms/step - loss: 7.0982 - val_loss: 8.8645\n",
      "Epoch 35/50\n",
      "3/3 [==============================] - 0s 17ms/step - loss: 7.0729 - val_loss: 8.7292\n",
      "Epoch 36/50\n",
      "3/3 [==============================] - 0s 15ms/step - loss: 7.0479 - val_loss: 8.5617\n",
      "Epoch 37/50\n",
      "3/3 [==============================] - 0s 18ms/step - loss: 7.0236 - val_loss: 8.4523\n",
      "Epoch 38/50\n",
      "3/3 [==============================] - 0s 16ms/step - loss: 7.0009 - val_loss: 8.3321\n",
      "Epoch 39/50\n",
      "3/3 [==============================] - 0s 50ms/step - loss: 6.9800 - val_loss: 8.2324\n",
      "Epoch 40/50\n",
      "3/3 [==============================] - 0s 17ms/step - loss: 6.9554 - val_loss: 8.1123\n",
      "Epoch 41/50\n",
      "3/3 [==============================] - 0s 16ms/step - loss: 6.9335 - val_loss: 8.0310\n",
      "Epoch 42/50\n",
      "3/3 [==============================] - 0s 48ms/step - loss: 6.9128 - val_loss: 7.8295\n",
      "Epoch 43/50\n",
      "3/3 [==============================] - 0s 22ms/step - loss: 6.8913 - val_loss: 7.7374\n",
      "Epoch 44/50\n",
      "3/3 [==============================] - 0s 33ms/step - loss: 6.8678 - val_loss: 7.6380\n",
      "Epoch 45/50\n",
      "3/3 [==============================] - 0s 20ms/step - loss: 6.8493 - val_loss: 7.5703\n",
      "Epoch 46/50\n",
      "3/3 [==============================] - 0s 16ms/step - loss: 6.8244 - val_loss: 7.4326\n",
      "Epoch 47/50\n",
      "3/3 [==============================] - 0s 29ms/step - loss: 6.8034 - val_loss: 7.3283\n",
      "Epoch 48/50\n",
      "3/3 [==============================] - 0s 42ms/step - loss: 6.7838 - val_loss: 7.1863\n",
      "Epoch 49/50\n",
      "3/3 [==============================] - 0s 19ms/step - loss: 6.7652 - val_loss: 7.1447\n",
      "Epoch 50/50\n",
      "3/3 [==============================] - 0s 22ms/step - loss: 6.7459 - val_loss: 7.0902\n"
     ]
    },
    {
     "name": "stderr",
     "output_type": "stream",
     "text": [
      "C:\\Users\\Baejs\\anaconda3\\envs\\bae\\lib\\site-packages\\keras\\src\\engine\\training.py:3000: UserWarning: You are saving your model as an HDF5 file via `model.save()`. This file format is considered legacy. We recommend using instead the native Keras format, e.g. `model.save('my_model.keras')`.\n",
      "  saving_api.save_model(\n"
     ]
    },
    {
     "name": "stdout",
     "output_type": "stream",
     "text": [
      "============== EVALUATION ==============\n"
     ]
    },
    {
     "name": "stderr",
     "output_type": "stream",
     "text": [
      "  0%|                                                                                           | 0/10 [00:00<?, ?it/s]"
     ]
    },
    {
     "name": "stdout",
     "output_type": "stream",
     "text": [
      "10/10 [==============================] - 0s 2ms/step\n"
     ]
    },
    {
     "name": "stderr",
     "output_type": "stream",
     "text": [
      " 10%|████████▎                                                                          | 1/10 [00:00<00:02,  3.80it/s]"
     ]
    },
    {
     "name": "stdout",
     "output_type": "stream",
     "text": [
      "10/10 [==============================] - 0s 1ms/step\n",
      "10/10 [==============================] - 0s 1ms/step\n"
     ]
    },
    {
     "name": "stderr",
     "output_type": "stream",
     "text": [
      " 30%|████████████████████████▉                                                          | 3/10 [00:00<00:00,  7.97it/s]"
     ]
    },
    {
     "name": "stdout",
     "output_type": "stream",
     "text": [
      "10/10 [==============================] - 0s 1ms/step\n",
      "10/10 [==============================] - 0s 2ms/step\n"
     ]
    },
    {
     "name": "stderr",
     "output_type": "stream",
     "text": [
      " 50%|█████████████████████████████████████████▌                                         | 5/10 [00:00<00:00,  9.92it/s]"
     ]
    },
    {
     "name": "stdout",
     "output_type": "stream",
     "text": [
      "10/10 [==============================] - 0s 2ms/step\n",
      "10/10 [==============================] - 0s 1ms/step\n"
     ]
    },
    {
     "name": "stderr",
     "output_type": "stream",
     "text": [
      " 70%|██████████████████████████████████████████████████████████                         | 7/10 [00:00<00:00, 10.83it/s]"
     ]
    },
    {
     "name": "stdout",
     "output_type": "stream",
     "text": [
      "10/10 [==============================] - 0s 1ms/step\n",
      "10/10 [==============================] - 0s 1ms/step\n"
     ]
    },
    {
     "name": "stderr",
     "output_type": "stream",
     "text": [
      " 90%|██████████████████████████████████████████████████████████████████████████▋        | 9/10 [00:00<00:00, 11.67it/s]"
     ]
    },
    {
     "name": "stdout",
     "output_type": "stream",
     "text": [
      "10/10 [==============================] - 0s 1ms/step\n"
     ]
    },
    {
     "name": "stderr",
     "output_type": "stream",
     "text": [
      "100%|██████████████████████████████████████████████████████████████████████████████████| 10/10 [00:00<00:00, 10.35it/s]\n",
      "2023-08-26 01:05:07,452 - INFO - AUC : 0.56\n",
      "2023-08-26 01:05:07,454 - INFO - target_dir : ../Sample_data\n",
      "2023-08-26 01:05:07,455 - INFO - train_file num : 5\n",
      "2023-08-26 01:05:07,456 - INFO - eval_file  num : 10\n"
     ]
    },
    {
     "name": "stdout",
     "output_type": "stream",
     "text": [
      "===========================\n",
      "Model file not found for slider -> id_02. Skipping...\n",
      "Model file not found for slider -> id_02. Skipping...\n",
      "\n",
      "===========================\n"
     ]
    },
    {
     "name": "stderr",
     "output_type": "stream",
     "text": [
      "generate train_dataset: 100%|████████████████████████████████████████████████████████████| 5/5 [00:00<00:00, 68.68it/s]\n",
      "2023-08-26 01:05:07,534 - INFO - save_pickle -> ./pickle_transfer_pretrain_v3/train_slider_id_04.pickle\n",
      "2023-08-26 01:05:07,539 - INFO - save_pickle -> ./pickle_transfer_pretrain_v3/eval_files_slider_id_04.pickle\n",
      "2023-08-26 01:05:07,541 - INFO - save_pickle -> ./pickle_transfer_pretrain_v3/eval_labels_slider_id_04.pickle\n"
     ]
    },
    {
     "name": "stdout",
     "output_type": "stream",
     "text": [
      "\n",
      "Training transfer model for slider -> id_04 using pretrain model pretrain_('fan', 'valve')\n",
      "Epoch 1/50\n",
      "3/3 [==============================] - 1s 79ms/step - loss: 17.7633 - val_loss: 19.4872\n",
      "Epoch 2/50\n",
      "3/3 [==============================] - 0s 16ms/step - loss: 17.2926 - val_loss: 18.8982\n",
      "Epoch 3/50\n",
      "3/3 [==============================] - 0s 16ms/step - loss: 15.3077 - val_loss: 20.0529\n",
      "Epoch 4/50\n",
      "3/3 [==============================] - 0s 17ms/step - loss: 14.3560 - val_loss: 18.6730\n",
      "Epoch 5/50\n",
      "3/3 [==============================] - 0s 21ms/step - loss: 14.6475 - val_loss: 17.5124\n",
      "Epoch 6/50\n",
      "3/3 [==============================] - 0s 20ms/step - loss: 13.7550 - val_loss: 17.9404\n",
      "Epoch 7/50\n",
      "3/3 [==============================] - 0s 16ms/step - loss: 13.9143 - val_loss: 17.2037\n",
      "Epoch 8/50\n",
      "3/3 [==============================] - 0s 17ms/step - loss: 13.5694 - val_loss: 17.5379\n",
      "Epoch 9/50\n",
      "3/3 [==============================] - 0s 18ms/step - loss: 13.3764 - val_loss: 18.2549\n",
      "Epoch 10/50\n",
      "3/3 [==============================] - 0s 19ms/step - loss: 13.3873 - val_loss: 17.8472\n",
      "Epoch 11/50\n",
      "3/3 [==============================] - 0s 19ms/step - loss: 13.1776 - val_loss: 17.4367\n",
      "Epoch 12/50\n",
      "3/3 [==============================] - 0s 20ms/step - loss: 13.1310 - val_loss: 17.5760\n",
      "Epoch 13/50\n",
      "3/3 [==============================] - 0s 20ms/step - loss: 13.0803 - val_loss: 17.2594\n",
      "Epoch 14/50\n",
      "3/3 [==============================] - 0s 18ms/step - loss: 12.9680 - val_loss: 17.0695\n",
      "Epoch 15/50\n",
      "3/3 [==============================] - 0s 19ms/step - loss: 12.9283 - val_loss: 17.3233\n",
      "Epoch 16/50\n",
      "3/3 [==============================] - 0s 18ms/step - loss: 12.8720 - val_loss: 17.2187\n",
      "Epoch 17/50\n",
      "3/3 [==============================] - 0s 47ms/step - loss: 12.8061 - val_loss: 17.1094\n",
      "Epoch 18/50\n",
      "3/3 [==============================] - 0s 18ms/step - loss: 12.7532 - val_loss: 17.2133\n",
      "Epoch 19/50\n",
      "3/3 [==============================] - 0s 17ms/step - loss: 12.7142 - val_loss: 17.0614\n",
      "Epoch 20/50\n",
      "3/3 [==============================] - 0s 33ms/step - loss: 12.6716 - val_loss: 17.0903\n",
      "Epoch 21/50\n",
      "3/3 [==============================] - 0s 25ms/step - loss: 12.6317 - val_loss: 17.1080\n",
      "Epoch 22/50\n",
      "3/3 [==============================] - 0s 23ms/step - loss: 12.5942 - val_loss: 16.9372\n",
      "Epoch 23/50\n",
      "3/3 [==============================] - 0s 20ms/step - loss: 12.5625 - val_loss: 17.0903\n",
      "Epoch 24/50\n",
      "3/3 [==============================] - 0s 20ms/step - loss: 12.5265 - val_loss: 16.9980\n",
      "Epoch 25/50\n",
      "3/3 [==============================] - 0s 25ms/step - loss: 12.5012 - val_loss: 17.0259\n",
      "Epoch 26/50\n",
      "3/3 [==============================] - 0s 19ms/step - loss: 12.4738 - val_loss: 17.0126\n",
      "Epoch 27/50\n",
      "3/3 [==============================] - 0s 20ms/step - loss: 12.4549 - val_loss: 17.0386\n",
      "Epoch 28/50\n",
      "3/3 [==============================] - 0s 18ms/step - loss: 12.4308 - val_loss: 17.0586\n",
      "Epoch 29/50\n",
      "3/3 [==============================] - 0s 18ms/step - loss: 12.4164 - val_loss: 17.0520\n",
      "Epoch 30/50\n",
      "3/3 [==============================] - 0s 17ms/step - loss: 12.3936 - val_loss: 17.0607\n",
      "Epoch 31/50\n",
      "3/3 [==============================] - 0s 15ms/step - loss: 12.3775 - val_loss: 17.0357\n",
      "Epoch 32/50\n",
      "3/3 [==============================] - 0s 14ms/step - loss: 12.3628 - val_loss: 17.0274\n",
      "Epoch 33/50\n",
      "3/3 [==============================] - 0s 16ms/step - loss: 12.3479 - val_loss: 17.0563\n",
      "Epoch 34/50\n",
      "3/3 [==============================] - 0s 15ms/step - loss: 12.3314 - val_loss: 17.0599\n",
      "Epoch 35/50\n",
      "3/3 [==============================] - 0s 14ms/step - loss: 12.3227 - val_loss: 17.0322\n",
      "Epoch 36/50\n",
      "3/3 [==============================] - 0s 15ms/step - loss: 12.3092 - val_loss: 17.0755\n",
      "Epoch 37/50\n",
      "3/3 [==============================] - 0s 14ms/step - loss: 12.2944 - val_loss: 17.0116\n",
      "Epoch 38/50\n",
      "3/3 [==============================] - 0s 14ms/step - loss: 12.2826 - val_loss: 17.0828\n",
      "Epoch 39/50\n",
      "3/3 [==============================] - 0s 16ms/step - loss: 12.2729 - val_loss: 17.0276\n",
      "Epoch 40/50\n",
      "3/3 [==============================] - 0s 14ms/step - loss: 12.2617 - val_loss: 17.0486\n",
      "Epoch 41/50\n",
      "3/3 [==============================] - 0s 14ms/step - loss: 12.2513 - val_loss: 17.0338\n",
      "Epoch 42/50\n",
      "3/3 [==============================] - 0s 14ms/step - loss: 12.2430 - val_loss: 17.0689\n",
      "Epoch 43/50\n",
      "3/3 [==============================] - 0s 14ms/step - loss: 12.2368 - val_loss: 17.1257\n",
      "Epoch 44/50\n",
      "3/3 [==============================] - 0s 14ms/step - loss: 12.2307 - val_loss: 17.1113\n",
      "Epoch 45/50\n",
      "3/3 [==============================] - 0s 15ms/step - loss: 12.2201 - val_loss: 17.1039\n",
      "Epoch 46/50\n",
      "3/3 [==============================] - 0s 16ms/step - loss: 12.2094 - val_loss: 16.9854\n",
      "Epoch 47/50\n",
      "3/3 [==============================] - 0s 16ms/step - loss: 12.1982 - val_loss: 17.1170\n",
      "Epoch 48/50\n",
      "3/3 [==============================] - 0s 15ms/step - loss: 12.1889 - val_loss: 16.9963\n",
      "Epoch 49/50\n",
      "3/3 [==============================] - 0s 14ms/step - loss: 12.1829 - val_loss: 17.1695\n",
      "Epoch 50/50\n",
      "3/3 [==============================] - 0s 14ms/step - loss: 12.1685 - val_loss: 17.0080\n",
      "============== EVALUATION =============="
     ]
    },
    {
     "name": "stderr",
     "output_type": "stream",
     "text": [
      "C:\\Users\\Baejs\\anaconda3\\envs\\bae\\lib\\site-packages\\keras\\src\\engine\\training.py:3000: UserWarning: You are saving your model as an HDF5 file via `model.save()`. This file format is considered legacy. We recommend using instead the native Keras format, e.g. `model.save('my_model.keras')`.\n",
      "  saving_api.save_model(\n"
     ]
    },
    {
     "name": "stdout",
     "output_type": "stream",
     "text": [
      "\n"
     ]
    },
    {
     "name": "stderr",
     "output_type": "stream",
     "text": [
      "  0%|                                                                                           | 0/10 [00:00<?, ?it/s]"
     ]
    },
    {
     "name": "stdout",
     "output_type": "stream",
     "text": [
      "10/10 [==============================] - 0s 1ms/step\n"
     ]
    },
    {
     "name": "stderr",
     "output_type": "stream",
     "text": [
      " 10%|████████▎                                                                          | 1/10 [00:00<00:01,  7.60it/s]"
     ]
    },
    {
     "name": "stdout",
     "output_type": "stream",
     "text": [
      "10/10 [==============================] - 0s 1ms/step\n",
      "10/10 [==============================] - 0s 1ms/step\n"
     ]
    },
    {
     "name": "stderr",
     "output_type": "stream",
     "text": [
      " 30%|████████████████████████▉                                                          | 3/10 [00:00<00:00, 10.31it/s]"
     ]
    },
    {
     "name": "stdout",
     "output_type": "stream",
     "text": [
      "10/10 [==============================] - 0s 1ms/step\n",
      "10/10 [==============================] - 0s 1ms/step\n"
     ]
    },
    {
     "name": "stderr",
     "output_type": "stream",
     "text": [
      " 50%|█████████████████████████████████████████▌                                         | 5/10 [00:00<00:00, 11.53it/s]"
     ]
    },
    {
     "name": "stdout",
     "output_type": "stream",
     "text": [
      "10/10 [==============================] - 0s 1ms/step\n",
      "10/10 [==============================] - 0s 1ms/step\n"
     ]
    },
    {
     "name": "stderr",
     "output_type": "stream",
     "text": [
      " 70%|██████████████████████████████████████████████████████████                         | 7/10 [00:00<00:00, 12.10it/s]"
     ]
    },
    {
     "name": "stdout",
     "output_type": "stream",
     "text": [
      "10/10 [==============================] - 0s 1ms/step\n",
      "10/10 [==============================] - 0s 1ms/step\n"
     ]
    },
    {
     "name": "stderr",
     "output_type": "stream",
     "text": [
      " 90%|██████████████████████████████████████████████████████████████████████████▋        | 9/10 [00:00<00:00, 12.55it/s]"
     ]
    },
    {
     "name": "stdout",
     "output_type": "stream",
     "text": [
      "10/10 [==============================] - 0s 1ms/step\n"
     ]
    },
    {
     "name": "stderr",
     "output_type": "stream",
     "text": [
      "100%|██████████████████████████████████████████████████████████████████████████████████| 10/10 [00:00<00:00, 11.91it/s]\n",
      "2023-08-26 01:05:12,094 - INFO - AUC : 0.5599999999999999\n"
     ]
    },
    {
     "name": "stdout",
     "output_type": "stream",
     "text": [
      "===========================\n",
      "\n",
      "Training transfer model for slider -> id_04 using pretrain model pretrain_('fan', 'pump')\n",
      "Epoch 1/50\n",
      "3/3 [==============================] - 1s 71ms/step - loss: 17.5925 - val_loss: 20.9793\n",
      "Epoch 2/50\n",
      "3/3 [==============================] - 0s 16ms/step - loss: 16.3731 - val_loss: 22.0897\n",
      "Epoch 3/50\n",
      "3/3 [==============================] - 0s 15ms/step - loss: 15.6120 - val_loss: 19.8021\n",
      "Epoch 4/50\n",
      "3/3 [==============================] - 0s 15ms/step - loss: 14.2680 - val_loss: 18.4601\n",
      "Epoch 5/50\n",
      "3/3 [==============================] - 0s 15ms/step - loss: 14.0930 - val_loss: 18.2319\n",
      "Epoch 6/50\n",
      "3/3 [==============================] - 0s 16ms/step - loss: 13.9369 - val_loss: 17.6159\n",
      "Epoch 7/50\n",
      "3/3 [==============================] - 0s 16ms/step - loss: 13.4676 - val_loss: 17.9228\n",
      "Epoch 8/50\n",
      "3/3 [==============================] - 0s 19ms/step - loss: 13.3952 - val_loss: 18.3280\n",
      "Epoch 9/50\n",
      "3/3 [==============================] - 0s 18ms/step - loss: 13.2593 - val_loss: 17.7443\n",
      "Epoch 10/50\n",
      "3/3 [==============================] - 0s 14ms/step - loss: 13.0630 - val_loss: 17.3178\n",
      "Epoch 11/50\n",
      "3/3 [==============================] - 0s 14ms/step - loss: 12.9980 - val_loss: 17.6076\n",
      "Epoch 12/50\n",
      "3/3 [==============================] - 0s 15ms/step - loss: 12.9222 - val_loss: 17.4470\n",
      "Epoch 13/50\n",
      "3/3 [==============================] - 0s 14ms/step - loss: 12.8268 - val_loss: 17.3359\n",
      "Epoch 14/50\n",
      "3/3 [==============================] - 0s 15ms/step - loss: 12.7636 - val_loss: 17.5117\n",
      "Epoch 15/50\n",
      "3/3 [==============================] - 0s 17ms/step - loss: 12.7063 - val_loss: 17.4328\n",
      "Epoch 16/50\n",
      "3/3 [==============================] - 0s 15ms/step - loss: 12.6667 - val_loss: 17.3356\n",
      "Epoch 17/50\n",
      "3/3 [==============================] - 0s 14ms/step - loss: 12.6203 - val_loss: 17.2331\n",
      "Epoch 18/50\n",
      "3/3 [==============================] - 0s 17ms/step - loss: 12.5806 - val_loss: 17.3893\n",
      "Epoch 19/50\n",
      "3/3 [==============================] - 0s 15ms/step - loss: 12.5513 - val_loss: 17.3993\n",
      "Epoch 20/50\n",
      "3/3 [==============================] - 0s 16ms/step - loss: 12.5264 - val_loss: 17.3838\n",
      "Epoch 21/50\n",
      "3/3 [==============================] - 0s 17ms/step - loss: 12.5002 - val_loss: 17.3122\n",
      "Epoch 22/50\n",
      "3/3 [==============================] - 0s 16ms/step - loss: 12.4752 - val_loss: 17.2711\n",
      "Epoch 23/50\n",
      "3/3 [==============================] - 0s 18ms/step - loss: 12.4599 - val_loss: 17.3167\n",
      "Epoch 24/50\n",
      "3/3 [==============================] - 0s 20ms/step - loss: 12.4421 - val_loss: 17.3618\n",
      "Epoch 25/50\n",
      "3/3 [==============================] - 0s 14ms/step - loss: 12.4301 - val_loss: 17.3631\n",
      "Epoch 26/50\n",
      "3/3 [==============================] - 0s 13ms/step - loss: 12.4185 - val_loss: 17.3565\n",
      "Epoch 27/50\n",
      "3/3 [==============================] - 0s 15ms/step - loss: 12.4062 - val_loss: 17.4304\n",
      "Epoch 28/50\n",
      "3/3 [==============================] - 0s 14ms/step - loss: 12.3972 - val_loss: 17.2472\n",
      "Epoch 29/50\n",
      "3/3 [==============================] - 0s 18ms/step - loss: 12.3914 - val_loss: 17.3026\n",
      "Epoch 30/50\n",
      "3/3 [==============================] - 0s 29ms/step - loss: 12.3829 - val_loss: 17.4061\n",
      "Epoch 31/50\n",
      "3/3 [==============================] - 0s 18ms/step - loss: 12.3737 - val_loss: 17.3146\n",
      "Epoch 32/50\n",
      "3/3 [==============================] - 0s 19ms/step - loss: 12.3675 - val_loss: 17.3419\n",
      "Epoch 33/50\n",
      "3/3 [==============================] - 0s 48ms/step - loss: 12.3652 - val_loss: 17.4114\n",
      "Epoch 34/50\n",
      "3/3 [==============================] - 0s 20ms/step - loss: 12.3574 - val_loss: 17.3231\n",
      "Epoch 35/50\n",
      "3/3 [==============================] - 0s 25ms/step - loss: 12.3571 - val_loss: 17.4494\n",
      "Epoch 36/50\n",
      "3/3 [==============================] - 0s 33ms/step - loss: 12.3549 - val_loss: 17.2688\n",
      "Epoch 37/50\n",
      "3/3 [==============================] - 0s 18ms/step - loss: 12.3495 - val_loss: 17.3017\n",
      "Epoch 38/50\n",
      "3/3 [==============================] - 0s 17ms/step - loss: 12.3480 - val_loss: 17.3774\n",
      "Epoch 39/50\n",
      "3/3 [==============================] - 0s 17ms/step - loss: 12.3451 - val_loss: 17.5007\n",
      "Epoch 40/50\n",
      "3/3 [==============================] - 0s 17ms/step - loss: 12.3386 - val_loss: 17.2178\n",
      "Epoch 41/50\n",
      "3/3 [==============================] - 0s 20ms/step - loss: 12.3313 - val_loss: 17.4008\n",
      "Epoch 42/50\n",
      "3/3 [==============================] - 0s 39ms/step - loss: 12.3235 - val_loss: 17.3657\n",
      "Epoch 43/50\n",
      "3/3 [==============================] - 0s 35ms/step - loss: 12.3231 - val_loss: 17.4477\n",
      "Epoch 44/50\n",
      "3/3 [==============================] - 0s 32ms/step - loss: 12.3158 - val_loss: 17.4585\n",
      "Epoch 45/50\n",
      "3/3 [==============================] - 0s 48ms/step - loss: 12.3146 - val_loss: 17.2436\n",
      "Epoch 46/50\n",
      "3/3 [==============================] - 0s 19ms/step - loss: 12.3147 - val_loss: 17.4791\n",
      "Epoch 47/50\n",
      "3/3 [==============================] - 0s 33ms/step - loss: 12.3144 - val_loss: 17.2517\n",
      "Epoch 48/50\n",
      "3/3 [==============================] - 0s 41ms/step - loss: 12.3150 - val_loss: 17.4006\n",
      "Epoch 49/50\n",
      "3/3 [==============================] - 0s 48ms/step - loss: 12.3074 - val_loss: 17.5082\n",
      "Epoch 50/50\n",
      "3/3 [==============================] - 0s 30ms/step - loss: 12.3127 - val_loss: 17.3413\n"
     ]
    },
    {
     "name": "stderr",
     "output_type": "stream",
     "text": [
      "C:\\Users\\Baejs\\anaconda3\\envs\\bae\\lib\\site-packages\\keras\\src\\engine\\training.py:3000: UserWarning: You are saving your model as an HDF5 file via `model.save()`. This file format is considered legacy. We recommend using instead the native Keras format, e.g. `model.save('my_model.keras')`.\n",
      "  saving_api.save_model(\n"
     ]
    },
    {
     "name": "stdout",
     "output_type": "stream",
     "text": [
      "============== EVALUATION ==============\n"
     ]
    },
    {
     "name": "stderr",
     "output_type": "stream",
     "text": [
      "  0%|                                                                                           | 0/10 [00:00<?, ?it/s]"
     ]
    },
    {
     "name": "stdout",
     "output_type": "stream",
     "text": [
      "10/10 [==============================] - 0s 2ms/step\n"
     ]
    },
    {
     "name": "stderr",
     "output_type": "stream",
     "text": [
      " 10%|████████▎                                                                          | 1/10 [00:00<00:03,  2.91it/s]"
     ]
    },
    {
     "name": "stdout",
     "output_type": "stream",
     "text": [
      "10/10 [==============================] - 0s 2ms/step\n"
     ]
    },
    {
     "name": "stderr",
     "output_type": "stream",
     "text": [
      " 20%|████████████████▌                                                                  | 2/10 [00:00<00:01,  4.43it/s]"
     ]
    },
    {
     "name": "stdout",
     "output_type": "stream",
     "text": [
      "10/10 [==============================] - 0s 2ms/step\n"
     ]
    },
    {
     "name": "stderr",
     "output_type": "stream",
     "text": [
      " 30%|████████████████████████▉                                                          | 3/10 [00:00<00:01,  5.33it/s]"
     ]
    },
    {
     "name": "stdout",
     "output_type": "stream",
     "text": [
      "10/10 [==============================] - 0s 2ms/step\n"
     ]
    },
    {
     "name": "stderr",
     "output_type": "stream",
     "text": [
      " 40%|█████████████████████████████████▏                                                 | 4/10 [00:00<00:00,  6.29it/s]"
     ]
    },
    {
     "name": "stdout",
     "output_type": "stream",
     "text": [
      "10/10 [==============================] - 0s 1ms/step\n"
     ]
    },
    {
     "name": "stderr",
     "output_type": "stream",
     "text": [
      " 50%|█████████████████████████████████████████▌                                         | 5/10 [00:00<00:00,  5.66it/s]"
     ]
    },
    {
     "name": "stdout",
     "output_type": "stream",
     "text": [
      "10/10 [==============================] - 0s 1ms/step\n"
     ]
    },
    {
     "name": "stderr",
     "output_type": "stream",
     "text": [
      " 60%|█████████████████████████████████████████████████▊                                 | 6/10 [00:01<00:00,  5.57it/s]"
     ]
    },
    {
     "name": "stdout",
     "output_type": "stream",
     "text": [
      "10/10 [==============================] - 0s 1ms/step\n"
     ]
    },
    {
     "name": "stderr",
     "output_type": "stream",
     "text": [
      " 70%|██████████████████████████████████████████████████████████                         | 7/10 [00:01<00:00,  6.39it/s]"
     ]
    },
    {
     "name": "stdout",
     "output_type": "stream",
     "text": [
      "10/10 [==============================] - 0s 1ms/step\n"
     ]
    },
    {
     "name": "stderr",
     "output_type": "stream",
     "text": [
      " 80%|██████████████████████████████████████████████████████████████████▍                | 8/10 [00:01<00:00,  6.21it/s]"
     ]
    },
    {
     "name": "stdout",
     "output_type": "stream",
     "text": [
      "10/10 [==============================] - 0s 1ms/step\n"
     ]
    },
    {
     "name": "stderr",
     "output_type": "stream",
     "text": [
      " 90%|██████████████████████████████████████████████████████████████████████████▋        | 9/10 [00:01<00:00,  6.45it/s]"
     ]
    },
    {
     "name": "stdout",
     "output_type": "stream",
     "text": [
      "10/10 [==============================] - 0s 2ms/step\n"
     ]
    },
    {
     "name": "stderr",
     "output_type": "stream",
     "text": [
      "100%|██████████████████████████████████████████████████████████████████████████████████| 10/10 [00:01<00:00,  5.93it/s]\n",
      "2023-08-26 01:05:17,489 - INFO - AUC : 0.5599999999999999\n"
     ]
    },
    {
     "name": "stdout",
     "output_type": "stream",
     "text": [
      "===========================\n",
      "Model file not found for slider -> id_04. Skipping...\n",
      "\n",
      "Training transfer model for slider -> id_04 using pretrain model pretrain_('valve', 'pump')\n",
      "Epoch 1/50\n",
      "3/3 [==============================] - 2s 151ms/step - loss: 17.9750 - val_loss: 17.2502\n",
      "Epoch 2/50\n",
      "3/3 [==============================] - 0s 108ms/step - loss: 15.8802 - val_loss: 17.1284\n",
      "Epoch 3/50\n",
      "3/3 [==============================] - 0s 18ms/step - loss: 13.9195 - val_loss: 18.7769\n",
      "Epoch 4/50\n",
      "3/3 [==============================] - 0s 40ms/step - loss: 13.8083 - val_loss: 18.3896\n",
      "Epoch 5/50\n",
      "3/3 [==============================] - 0s 67ms/step - loss: 12.7316 - val_loss: 16.8669\n",
      "Epoch 6/50\n",
      "3/3 [==============================] - 0s 47ms/step - loss: 12.8458 - val_loss: 15.3085\n",
      "Epoch 7/50\n",
      "3/3 [==============================] - 0s 78ms/step - loss: 12.2136 - val_loss: 16.1027\n",
      "Epoch 8/50\n",
      "3/3 [==============================] - 0s 38ms/step - loss: 12.1661 - val_loss: 16.2206\n",
      "Epoch 9/50\n",
      "3/3 [==============================] - 0s 41ms/step - loss: 11.8286 - val_loss: 15.6250\n",
      "Epoch 10/50\n",
      "3/3 [==============================] - 0s 37ms/step - loss: 11.7498 - val_loss: 15.3675\n",
      "Epoch 11/50\n",
      "3/3 [==============================] - 0s 41ms/step - loss: 11.5395 - val_loss: 15.5248\n",
      "Epoch 12/50\n",
      "3/3 [==============================] - 0s 55ms/step - loss: 11.4942 - val_loss: 15.4238\n",
      "Epoch 13/50\n",
      "3/3 [==============================] - 0s 43ms/step - loss: 11.3545 - val_loss: 14.8294\n",
      "Epoch 14/50\n",
      "3/3 [==============================] - 0s 51ms/step - loss: 11.2869 - val_loss: 14.9119\n",
      "Epoch 15/50\n",
      "3/3 [==============================] - 0s 68ms/step - loss: 11.2014 - val_loss: 15.0063\n",
      "Epoch 16/50\n",
      "3/3 [==============================] - 0s 21ms/step - loss: 11.1219 - val_loss: 14.7005\n",
      "Epoch 17/50\n",
      "3/3 [==============================] - 0s 31ms/step - loss: 11.0609 - val_loss: 14.4744\n",
      "Epoch 18/50\n",
      "3/3 [==============================] - 0s 57ms/step - loss: 10.9896 - val_loss: 14.5264\n",
      "Epoch 19/50\n",
      "3/3 [==============================] - 0s 36ms/step - loss: 10.9370 - val_loss: 14.3492\n",
      "Epoch 20/50\n",
      "3/3 [==============================] - 0s 43ms/step - loss: 10.8870 - val_loss: 14.3295\n",
      "Epoch 21/50\n",
      "3/3 [==============================] - 0s 48ms/step - loss: 10.8366 - val_loss: 14.3320\n",
      "Epoch 22/50\n",
      "3/3 [==============================] - 0s 31ms/step - loss: 10.7837 - val_loss: 14.0968\n",
      "Epoch 23/50\n",
      "3/3 [==============================] - 0s 41ms/step - loss: 10.7386 - val_loss: 14.0155\n",
      "Epoch 24/50\n",
      "3/3 [==============================] - 0s 40ms/step - loss: 10.6921 - val_loss: 13.9518\n",
      "Epoch 25/50\n",
      "3/3 [==============================] - 0s 36ms/step - loss: 10.6481 - val_loss: 13.8507\n",
      "Epoch 26/50\n",
      "3/3 [==============================] - 0s 45ms/step - loss: 10.6041 - val_loss: 13.8109\n",
      "Epoch 27/50\n",
      "3/3 [==============================] - 0s 49ms/step - loss: 10.5671 - val_loss: 13.7213\n",
      "Epoch 28/50\n",
      "3/3 [==============================] - 0s 49ms/step - loss: 10.5273 - val_loss: 13.6289\n",
      "Epoch 29/50\n",
      "3/3 [==============================] - 0s 24ms/step - loss: 10.4869 - val_loss: 13.5826\n",
      "Epoch 30/50\n",
      "3/3 [==============================] - 0s 44ms/step - loss: 10.4502 - val_loss: 13.4696\n",
      "Epoch 31/50\n",
      "3/3 [==============================] - 0s 35ms/step - loss: 10.4134 - val_loss: 13.4168\n",
      "Epoch 32/50\n",
      "3/3 [==============================] - 0s 21ms/step - loss: 10.3786 - val_loss: 13.3247\n",
      "Epoch 33/50\n",
      "3/3 [==============================] - 0s 31ms/step - loss: 10.3462 - val_loss: 13.2836\n",
      "Epoch 34/50\n",
      "3/3 [==============================] - 0s 39ms/step - loss: 10.3173 - val_loss: 13.2838\n",
      "Epoch 35/50\n",
      "3/3 [==============================] - 0s 27ms/step - loss: 10.2835 - val_loss: 13.1922\n",
      "Epoch 36/50\n",
      "3/3 [==============================] - 0s 49ms/step - loss: 10.2562 - val_loss: 13.0882\n",
      "Epoch 37/50\n",
      "3/3 [==============================] - 0s 49ms/step - loss: 10.2255 - val_loss: 13.0673\n",
      "Epoch 38/50\n",
      "3/3 [==============================] - 0s 59ms/step - loss: 10.2021 - val_loss: 13.0198\n",
      "Epoch 39/50\n",
      "3/3 [==============================] - 0s 27ms/step - loss: 10.1767 - val_loss: 12.9340\n",
      "Epoch 40/50\n",
      "3/3 [==============================] - 0s 36ms/step - loss: 10.1527 - val_loss: 12.9452\n",
      "Epoch 41/50\n",
      "3/3 [==============================] - 0s 24ms/step - loss: 10.1325 - val_loss: 12.8770\n",
      "Epoch 42/50\n",
      "3/3 [==============================] - 0s 36ms/step - loss: 10.1062 - val_loss: 12.8456\n",
      "Epoch 43/50\n",
      "3/3 [==============================] - 0s 28ms/step - loss: 10.0890 - val_loss: 12.8038\n",
      "Epoch 44/50\n",
      "3/3 [==============================] - 0s 38ms/step - loss: 10.0701 - val_loss: 12.7837\n",
      "Epoch 45/50\n",
      "3/3 [==============================] - 0s 20ms/step - loss: 10.0550 - val_loss: 12.8332\n",
      "Epoch 46/50\n",
      "3/3 [==============================] - 0s 30ms/step - loss: 10.0365 - val_loss: 12.7353\n",
      "Epoch 47/50\n",
      "3/3 [==============================] - 0s 31ms/step - loss: 10.0203 - val_loss: 12.6578\n",
      "Epoch 48/50\n",
      "3/3 [==============================] - 0s 29ms/step - loss: 10.0028 - val_loss: 12.6777\n",
      "Epoch 49/50\n",
      "3/3 [==============================] - 0s 43ms/step - loss: 9.9896 - val_loss: 12.6566\n",
      "Epoch 50/50\n",
      "3/3 [==============================] - 0s 27ms/step - loss: 9.9731 - val_loss: 12.6295\n"
     ]
    },
    {
     "name": "stderr",
     "output_type": "stream",
     "text": [
      "C:\\Users\\Baejs\\anaconda3\\envs\\bae\\lib\\site-packages\\keras\\src\\engine\\training.py:3000: UserWarning: You are saving your model as an HDF5 file via `model.save()`. This file format is considered legacy. We recommend using instead the native Keras format, e.g. `model.save('my_model.keras')`.\n",
      "  saving_api.save_model(\n"
     ]
    },
    {
     "name": "stdout",
     "output_type": "stream",
     "text": [
      "============== EVALUATION ==============\n"
     ]
    },
    {
     "name": "stderr",
     "output_type": "stream",
     "text": [
      "  0%|                                                                                           | 0/10 [00:00<?, ?it/s]"
     ]
    },
    {
     "name": "stdout",
     "output_type": "stream",
     "text": [
      "10/10 [==============================] - 0s 1ms/step\n"
     ]
    },
    {
     "name": "stderr",
     "output_type": "stream",
     "text": [
      " 10%|████████▎                                                                          | 1/10 [00:00<00:01,  4.84it/s]"
     ]
    },
    {
     "name": "stdout",
     "output_type": "stream",
     "text": [
      "10/10 [==============================] - 0s 2ms/step\n"
     ]
    },
    {
     "name": "stderr",
     "output_type": "stream",
     "text": [
      " 20%|████████████████▌                                                                  | 2/10 [00:00<00:01,  6.27it/s]"
     ]
    },
    {
     "name": "stdout",
     "output_type": "stream",
     "text": [
      "10/10 [==============================] - 0s 1ms/step\n"
     ]
    },
    {
     "name": "stderr",
     "output_type": "stream",
     "text": [
      " 30%|████████████████████████▉                                                          | 3/10 [00:00<00:01,  6.59it/s]"
     ]
    },
    {
     "name": "stdout",
     "output_type": "stream",
     "text": [
      "10/10 [==============================] - 0s 1ms/step\n"
     ]
    },
    {
     "name": "stderr",
     "output_type": "stream",
     "text": [
      " 40%|█████████████████████████████████▏                                                 | 4/10 [00:00<00:00,  7.44it/s]"
     ]
    },
    {
     "name": "stdout",
     "output_type": "stream",
     "text": [
      "10/10 [==============================] - 0s 1ms/step\n"
     ]
    },
    {
     "name": "stderr",
     "output_type": "stream",
     "text": [
      " 50%|█████████████████████████████████████████▌                                         | 5/10 [00:00<00:00,  7.83it/s]"
     ]
    },
    {
     "name": "stdout",
     "output_type": "stream",
     "text": [
      "10/10 [==============================] - 0s 1ms/step\n",
      "10/10 [==============================] - 0s 1ms/step\n"
     ]
    },
    {
     "name": "stderr",
     "output_type": "stream",
     "text": [
      " 70%|██████████████████████████████████████████████████████████                         | 7/10 [00:00<00:00,  8.62it/s]"
     ]
    },
    {
     "name": "stdout",
     "output_type": "stream",
     "text": [
      "10/10 [==============================] - 0s 1ms/step\n"
     ]
    },
    {
     "name": "stderr",
     "output_type": "stream",
     "text": [
      " 80%|██████████████████████████████████████████████████████████████████▍                | 8/10 [00:01<00:00,  8.32it/s]"
     ]
    },
    {
     "name": "stdout",
     "output_type": "stream",
     "text": [
      "10/10 [==============================] - 0s 1ms/step\n"
     ]
    },
    {
     "name": "stderr",
     "output_type": "stream",
     "text": [
      " 90%|██████████████████████████████████████████████████████████████████████████▋        | 9/10 [00:01<00:00,  8.29it/s]"
     ]
    },
    {
     "name": "stdout",
     "output_type": "stream",
     "text": [
      "10/10 [==============================] - 0s 1ms/step\n"
     ]
    },
    {
     "name": "stderr",
     "output_type": "stream",
     "text": [
      "100%|██████████████████████████████████████████████████████████████████████████████████| 10/10 [00:01<00:00,  7.65it/s]\n",
      "2023-08-26 01:05:26,071 - INFO - AUC : 0.48\n",
      "2023-08-26 01:05:26,073 - INFO - target_dir : ../Sample_data\n",
      "2023-08-26 01:05:26,074 - INFO - train_file num : 5\n",
      "2023-08-26 01:05:26,075 - INFO - eval_file  num : 10\n"
     ]
    },
    {
     "name": "stdout",
     "output_type": "stream",
     "text": [
      "===========================\n",
      "Model file not found for slider -> id_04. Skipping...\n",
      "Model file not found for slider -> id_04. Skipping...\n",
      "\n",
      "===========================\n"
     ]
    },
    {
     "name": "stderr",
     "output_type": "stream",
     "text": [
      "generate train_dataset: 100%|████████████████████████████████████████████████████████████| 5/5 [00:00<00:00, 65.11it/s]\n",
      "2023-08-26 01:05:26,159 - INFO - save_pickle -> ./pickle_transfer_pretrain_v3/train_slider_id_06.pickle\n",
      "2023-08-26 01:05:26,164 - INFO - save_pickle -> ./pickle_transfer_pretrain_v3/eval_files_slider_id_06.pickle\n",
      "2023-08-26 01:05:26,166 - INFO - save_pickle -> ./pickle_transfer_pretrain_v3/eval_labels_slider_id_06.pickle\n"
     ]
    },
    {
     "name": "stdout",
     "output_type": "stream",
     "text": [
      "\n",
      "Training transfer model for slider -> id_06 using pretrain model pretrain_('fan', 'valve')\n",
      "Epoch 1/50\n",
      "3/3 [==============================] - 2s 102ms/step - loss: 17.0897 - val_loss: 18.6799\n",
      "Epoch 2/50\n",
      "3/3 [==============================] - 0s 36ms/step - loss: 16.3252 - val_loss: 13.4787\n",
      "Epoch 3/50\n",
      "3/3 [==============================] - 0s 20ms/step - loss: 13.6572 - val_loss: 13.5576\n",
      "Epoch 4/50\n",
      "3/3 [==============================] - 0s 29ms/step - loss: 12.8529 - val_loss: 13.5801\n",
      "Epoch 5/50\n",
      "3/3 [==============================] - 0s 25ms/step - loss: 13.1370 - val_loss: 14.3646\n",
      "Epoch 6/50\n",
      "3/3 [==============================] - 0s 27ms/step - loss: 11.9691 - val_loss: 14.1123\n",
      "Epoch 7/50\n",
      "3/3 [==============================] - 0s 22ms/step - loss: 12.2844 - val_loss: 13.1706\n",
      "Epoch 8/50\n",
      "3/3 [==============================] - 0s 39ms/step - loss: 11.7163 - val_loss: 12.4012\n",
      "Epoch 9/50\n",
      "3/3 [==============================] - 0s 31ms/step - loss: 11.6740 - val_loss: 11.7512\n",
      "Epoch 10/50\n",
      "3/3 [==============================] - 0s 42ms/step - loss: 11.6166 - val_loss: 11.7689\n",
      "Epoch 11/50\n",
      "3/3 [==============================] - 0s 18ms/step - loss: 11.4239 - val_loss: 11.8505\n",
      "Epoch 12/50\n",
      "3/3 [==============================] - 0s 34ms/step - loss: 11.4581 - val_loss: 11.3006\n",
      "Epoch 13/50\n",
      "3/3 [==============================] - 0s 20ms/step - loss: 11.3181 - val_loss: 11.0998\n",
      "Epoch 14/50\n",
      "3/3 [==============================] - 0s 40ms/step - loss: 11.2711 - val_loss: 11.0264\n",
      "Epoch 15/50\n",
      "3/3 [==============================] - 0s 36ms/step - loss: 11.2296 - val_loss: 10.9749\n",
      "Epoch 16/50\n",
      "3/3 [==============================] - 0s 28ms/step - loss: 11.1590 - val_loss: 10.9809\n",
      "Epoch 17/50\n",
      "3/3 [==============================] - 0s 25ms/step - loss: 11.1233 - val_loss: 11.0090\n",
      "Epoch 18/50\n",
      "3/3 [==============================] - 0s 32ms/step - loss: 11.0826 - val_loss: 10.7408\n",
      "Epoch 19/50\n",
      "3/3 [==============================] - 0s 33ms/step - loss: 11.0266 - val_loss: 10.4335\n",
      "Epoch 20/50\n",
      "3/3 [==============================] - 0s 37ms/step - loss: 10.9891 - val_loss: 10.1733\n",
      "Epoch 21/50\n",
      "3/3 [==============================] - 0s 25ms/step - loss: 10.9514 - val_loss: 10.0016\n",
      "Epoch 22/50\n",
      "3/3 [==============================] - 0s 30ms/step - loss: 10.9142 - val_loss: 9.8392\n",
      "Epoch 23/50\n",
      "3/3 [==============================] - 0s 32ms/step - loss: 10.8735 - val_loss: 9.7058\n",
      "Epoch 24/50\n",
      "3/3 [==============================] - 0s 38ms/step - loss: 10.8371 - val_loss: 9.6120\n",
      "Epoch 25/50\n",
      "3/3 [==============================] - 0s 19ms/step - loss: 10.7992 - val_loss: 9.3855\n",
      "Epoch 26/50\n",
      "3/3 [==============================] - 0s 19ms/step - loss: 10.7600 - val_loss: 9.3280\n",
      "Epoch 27/50\n",
      "3/3 [==============================] - 0s 24ms/step - loss: 10.7239 - val_loss: 9.1943\n",
      "Epoch 28/50\n",
      "3/3 [==============================] - 0s 23ms/step - loss: 10.6858 - val_loss: 9.0398\n",
      "Epoch 29/50\n",
      "3/3 [==============================] - 0s 20ms/step - loss: 10.6467 - val_loss: 8.9072\n",
      "Epoch 30/50\n",
      "3/3 [==============================] - 0s 18ms/step - loss: 10.6117 - val_loss: 8.7524\n",
      "Epoch 31/50\n",
      "3/3 [==============================] - 0s 18ms/step - loss: 10.5782 - val_loss: 8.6403\n",
      "Epoch 32/50\n",
      "3/3 [==============================] - 0s 19ms/step - loss: 10.5430 - val_loss: 8.4685\n",
      "Epoch 33/50\n",
      "3/3 [==============================] - 0s 18ms/step - loss: 10.5080 - val_loss: 8.3810\n",
      "Epoch 34/50\n",
      "3/3 [==============================] - 0s 33ms/step - loss: 10.4723 - val_loss: 8.2746\n",
      "Epoch 35/50\n",
      "3/3 [==============================] - 0s 18ms/step - loss: 10.4415 - val_loss: 8.1126\n",
      "Epoch 36/50\n",
      "3/3 [==============================] - 0s 23ms/step - loss: 10.4142 - val_loss: 8.0770\n",
      "Epoch 37/50\n",
      "3/3 [==============================] - 0s 46ms/step - loss: 10.3817 - val_loss: 7.9345\n",
      "Epoch 38/50\n",
      "3/3 [==============================] - 0s 25ms/step - loss: 10.3516 - val_loss: 7.7746\n",
      "Epoch 39/50\n",
      "3/3 [==============================] - 0s 34ms/step - loss: 10.3257 - val_loss: 7.7237\n",
      "Epoch 40/50\n",
      "3/3 [==============================] - 0s 23ms/step - loss: 10.2994 - val_loss: 7.6757\n",
      "Epoch 41/50\n",
      "3/3 [==============================] - 0s 22ms/step - loss: 10.2753 - val_loss: 7.5452\n",
      "Epoch 42/50\n",
      "3/3 [==============================] - 0s 20ms/step - loss: 10.2483 - val_loss: 7.5304\n",
      "Epoch 43/50\n",
      "3/3 [==============================] - 0s 19ms/step - loss: 10.2205 - val_loss: 7.4561\n",
      "Epoch 44/50\n",
      "3/3 [==============================] - 0s 18ms/step - loss: 10.2009 - val_loss: 7.3714\n",
      "Epoch 45/50\n",
      "3/3 [==============================] - 0s 22ms/step - loss: 10.1751 - val_loss: 7.3213\n",
      "Epoch 46/50\n",
      "3/3 [==============================] - 0s 19ms/step - loss: 10.1596 - val_loss: 7.3062\n",
      "Epoch 47/50\n",
      "3/3 [==============================] - 0s 17ms/step - loss: 10.1394 - val_loss: 7.2331\n",
      "Epoch 48/50\n",
      "3/3 [==============================] - 0s 15ms/step - loss: 10.1226 - val_loss: 7.2444\n",
      "Epoch 49/50\n",
      "3/3 [==============================] - 0s 16ms/step - loss: 10.1050 - val_loss: 7.1856\n",
      "Epoch 50/50\n",
      "3/3 [==============================] - 0s 15ms/step - loss: 10.0926 - val_loss: 7.1304\n",
      "============== EVALUATION ==============\n"
     ]
    },
    {
     "name": "stderr",
     "output_type": "stream",
     "text": [
      "C:\\Users\\Baejs\\anaconda3\\envs\\bae\\lib\\site-packages\\keras\\src\\engine\\training.py:3000: UserWarning: You are saving your model as an HDF5 file via `model.save()`. This file format is considered legacy. We recommend using instead the native Keras format, e.g. `model.save('my_model.keras')`.\n",
      "  saving_api.save_model(\n",
      "  0%|                                                                                           | 0/10 [00:00<?, ?it/s]"
     ]
    },
    {
     "name": "stdout",
     "output_type": "stream",
     "text": [
      "10/10 [==============================] - 0s 1ms/step\n"
     ]
    },
    {
     "name": "stderr",
     "output_type": "stream",
     "text": [
      " 10%|████████▎                                                                          | 1/10 [00:00<00:01,  6.96it/s]"
     ]
    },
    {
     "name": "stdout",
     "output_type": "stream",
     "text": [
      "10/10 [==============================] - 0s 997us/step\n",
      "10/10 [==============================] - 0s 1ms/step\n"
     ]
    },
    {
     "name": "stderr",
     "output_type": "stream",
     "text": [
      " 30%|████████████████████████▉                                                          | 3/10 [00:00<00:00, 10.54it/s]"
     ]
    },
    {
     "name": "stdout",
     "output_type": "stream",
     "text": [
      "10/10 [==============================] - 0s 1ms/step\n",
      "10/10 [==============================] - 0s 1ms/step\n"
     ]
    },
    {
     "name": "stderr",
     "output_type": "stream",
     "text": [
      " 50%|█████████████████████████████████████████▌                                         | 5/10 [00:00<00:00, 10.66it/s]"
     ]
    },
    {
     "name": "stdout",
     "output_type": "stream",
     "text": [
      "10/10 [==============================] - 0s 1ms/step\n",
      "10/10 [==============================] - 0s 1ms/step\n"
     ]
    },
    {
     "name": "stderr",
     "output_type": "stream",
     "text": [
      " 70%|██████████████████████████████████████████████████████████                         | 7/10 [00:00<00:00, 11.01it/s]"
     ]
    },
    {
     "name": "stdout",
     "output_type": "stream",
     "text": [
      "10/10 [==============================] - 0s 1ms/step\n",
      "10/10 [==============================] - 0s 1ms/step\n"
     ]
    },
    {
     "name": "stderr",
     "output_type": "stream",
     "text": [
      " 90%|██████████████████████████████████████████████████████████████████████████▋        | 9/10 [00:00<00:00, 11.57it/s]"
     ]
    },
    {
     "name": "stdout",
     "output_type": "stream",
     "text": [
      "10/10 [==============================] - 0s 2ms/step\n"
     ]
    },
    {
     "name": "stderr",
     "output_type": "stream",
     "text": [
      "100%|██████████████████████████████████████████████████████████████████████████████████| 10/10 [00:00<00:00, 11.07it/s]\n",
      "2023-08-26 01:05:31,861 - INFO - AUC : 0.8\n"
     ]
    },
    {
     "name": "stdout",
     "output_type": "stream",
     "text": [
      "===========================\n",
      "\n",
      "Training transfer model for slider -> id_06 using pretrain model pretrain_('fan', 'pump')\n",
      "Epoch 1/50\n",
      "3/3 [==============================] - 1s 69ms/step - loss: 15.9056 - val_loss: 12.3808\n",
      "Epoch 2/50\n",
      "3/3 [==============================] - 0s 17ms/step - loss: 14.0913 - val_loss: 11.4649\n",
      "Epoch 3/50\n",
      "3/3 [==============================] - 0s 17ms/step - loss: 13.2436 - val_loss: 10.6994\n",
      "Epoch 4/50\n",
      "3/3 [==============================] - 0s 14ms/step - loss: 12.4194 - val_loss: 12.1842\n",
      "Epoch 5/50\n",
      "3/3 [==============================] - 0s 14ms/step - loss: 11.9716 - val_loss: 12.6816\n",
      "Epoch 6/50\n",
      "3/3 [==============================] - 0s 14ms/step - loss: 11.8713 - val_loss: 12.2788\n",
      "Epoch 7/50\n",
      "3/3 [==============================] - 0s 15ms/step - loss: 11.6355 - val_loss: 11.6161\n",
      "Epoch 8/50\n",
      "3/3 [==============================] - 0s 15ms/step - loss: 11.3561 - val_loss: 11.1981\n",
      "Epoch 9/50\n",
      "3/3 [==============================] - 0s 14ms/step - loss: 11.2328 - val_loss: 9.9437\n",
      "Epoch 10/50\n",
      "3/3 [==============================] - 0s 17ms/step - loss: 11.0761 - val_loss: 9.8859\n",
      "Epoch 11/50\n",
      "3/3 [==============================] - 0s 14ms/step - loss: 11.0184 - val_loss: 9.3391\n",
      "Epoch 12/50\n",
      "3/3 [==============================] - 0s 14ms/step - loss: 10.9279 - val_loss: 9.4004\n",
      "Epoch 13/50\n",
      "3/3 [==============================] - 0s 14ms/step - loss: 10.8634 - val_loss: 9.5848\n",
      "Epoch 14/50\n",
      "3/3 [==============================] - 0s 14ms/step - loss: 10.7921 - val_loss: 9.6470\n",
      "Epoch 15/50\n",
      "3/3 [==============================] - 0s 14ms/step - loss: 10.7468 - val_loss: 9.7232\n",
      "Epoch 16/50\n",
      "3/3 [==============================] - 0s 15ms/step - loss: 10.7025 - val_loss: 9.4949\n",
      "Epoch 17/50\n",
      "3/3 [==============================] - 0s 15ms/step - loss: 10.6529 - val_loss: 9.4448\n",
      "Epoch 18/50\n",
      "3/3 [==============================] - 0s 15ms/step - loss: 10.6192 - val_loss: 9.3169\n",
      "Epoch 19/50\n",
      "3/3 [==============================] - 0s 14ms/step - loss: 10.5831 - val_loss: 9.2216\n",
      "Epoch 20/50\n",
      "3/3 [==============================] - 0s 14ms/step - loss: 10.5582 - val_loss: 9.0994\n",
      "Epoch 21/50\n",
      "3/3 [==============================] - 0s 14ms/step - loss: 10.5254 - val_loss: 9.1046\n",
      "Epoch 22/50\n",
      "3/3 [==============================] - 0s 13ms/step - loss: 10.5038 - val_loss: 9.0185\n",
      "Epoch 23/50\n",
      "3/3 [==============================] - 0s 15ms/step - loss: 10.4767 - val_loss: 8.9856\n",
      "Epoch 24/50\n",
      "3/3 [==============================] - 0s 14ms/step - loss: 10.4557 - val_loss: 8.8418\n",
      "Epoch 25/50\n",
      "3/3 [==============================] - 0s 15ms/step - loss: 10.4301 - val_loss: 8.7906\n",
      "Epoch 26/50\n",
      "3/3 [==============================] - 0s 15ms/step - loss: 10.4082 - val_loss: 8.6766\n",
      "Epoch 27/50\n",
      "3/3 [==============================] - 0s 15ms/step - loss: 10.3883 - val_loss: 8.5440\n",
      "Epoch 28/50\n",
      "3/3 [==============================] - 0s 14ms/step - loss: 10.3673 - val_loss: 8.4956\n",
      "Epoch 29/50\n",
      "3/3 [==============================] - 0s 15ms/step - loss: 10.3448 - val_loss: 8.4497\n",
      "Epoch 30/50\n",
      "3/3 [==============================] - 0s 15ms/step - loss: 10.3298 - val_loss: 8.3381\n",
      "Epoch 31/50\n",
      "3/3 [==============================] - 0s 23ms/step - loss: 10.3073 - val_loss: 8.2674\n",
      "Epoch 32/50\n",
      "3/3 [==============================] - 0s 20ms/step - loss: 10.2908 - val_loss: 8.1164\n",
      "Epoch 33/50\n",
      "3/3 [==============================] - 0s 17ms/step - loss: 10.2711 - val_loss: 8.0834\n",
      "Epoch 34/50\n",
      "3/3 [==============================] - 0s 16ms/step - loss: 10.2521 - val_loss: 8.0309\n",
      "Epoch 35/50\n",
      "3/3 [==============================] - 0s 15ms/step - loss: 10.2383 - val_loss: 7.8876\n",
      "Epoch 36/50\n",
      "3/3 [==============================] - 0s 17ms/step - loss: 10.2220 - val_loss: 7.8294\n",
      "Epoch 37/50\n",
      "3/3 [==============================] - 0s 15ms/step - loss: 10.2087 - val_loss: 7.7793\n",
      "Epoch 38/50\n",
      "3/3 [==============================] - 0s 14ms/step - loss: 10.1888 - val_loss: 7.7179\n",
      "Epoch 39/50\n",
      "3/3 [==============================] - 0s 31ms/step - loss: 10.1712 - val_loss: 7.6240\n",
      "Epoch 40/50\n",
      "3/3 [==============================] - 0s 17ms/step - loss: 10.1599 - val_loss: 7.5608\n",
      "Epoch 41/50\n",
      "3/3 [==============================] - 0s 17ms/step - loss: 10.1425 - val_loss: 7.5122\n",
      "Epoch 42/50\n",
      "3/3 [==============================] - 0s 15ms/step - loss: 10.1279 - val_loss: 7.4847\n",
      "Epoch 43/50\n",
      "3/3 [==============================] - 0s 15ms/step - loss: 10.1071 - val_loss: 7.4896\n",
      "Epoch 44/50\n",
      "3/3 [==============================] - 0s 16ms/step - loss: 10.0957 - val_loss: 7.4263\n",
      "Epoch 45/50\n",
      "3/3 [==============================] - 0s 18ms/step - loss: 10.0772 - val_loss: 7.3732\n",
      "Epoch 46/50\n",
      "3/3 [==============================] - 0s 15ms/step - loss: 10.0603 - val_loss: 7.3498\n",
      "Epoch 47/50\n",
      "3/3 [==============================] - 0s 15ms/step - loss: 10.0500 - val_loss: 7.2913\n",
      "Epoch 48/50\n",
      "3/3 [==============================] - 0s 14ms/step - loss: 10.0392 - val_loss: 7.2707\n",
      "Epoch 49/50\n",
      "3/3 [==============================] - 0s 14ms/step - loss: 10.0326 - val_loss: 7.2050\n",
      "Epoch 50/50\n",
      "3/3 [==============================] - 0s 14ms/step - loss: 10.0179 - val_loss: 7.1413\n"
     ]
    },
    {
     "name": "stderr",
     "output_type": "stream",
     "text": [
      "C:\\Users\\Baejs\\anaconda3\\envs\\bae\\lib\\site-packages\\keras\\src\\engine\\training.py:3000: UserWarning: You are saving your model as an HDF5 file via `model.save()`. This file format is considered legacy. We recommend using instead the native Keras format, e.g. `model.save('my_model.keras')`.\n",
      "  saving_api.save_model(\n"
     ]
    },
    {
     "name": "stdout",
     "output_type": "stream",
     "text": [
      "============== EVALUATION ==============\n"
     ]
    },
    {
     "name": "stderr",
     "output_type": "stream",
     "text": [
      "  0%|                                                                                           | 0/10 [00:00<?, ?it/s]"
     ]
    },
    {
     "name": "stdout",
     "output_type": "stream",
     "text": [
      "10/10 [==============================] - 0s 1ms/step\n"
     ]
    },
    {
     "name": "stderr",
     "output_type": "stream",
     "text": [
      " 10%|████████▎                                                                          | 1/10 [00:00<00:01,  7.32it/s]"
     ]
    },
    {
     "name": "stdout",
     "output_type": "stream",
     "text": [
      "10/10 [==============================] - 0s 1ms/step\n",
      "10/10 [==============================] - 0s 1ms/step\n"
     ]
    },
    {
     "name": "stderr",
     "output_type": "stream",
     "text": [
      " 30%|████████████████████████▉                                                          | 3/10 [00:00<00:00, 10.54it/s]"
     ]
    },
    {
     "name": "stdout",
     "output_type": "stream",
     "text": [
      "10/10 [==============================] - 0s 1ms/step\n",
      "10/10 [==============================] - 0s 1ms/step\n"
     ]
    },
    {
     "name": "stderr",
     "output_type": "stream",
     "text": [
      " 50%|█████████████████████████████████████████▌                                         | 5/10 [00:00<00:00, 11.47it/s]"
     ]
    },
    {
     "name": "stdout",
     "output_type": "stream",
     "text": [
      "10/10 [==============================] - 0s 1ms/step\n",
      "10/10 [==============================] - 0s 1ms/step\n"
     ]
    },
    {
     "name": "stderr",
     "output_type": "stream",
     "text": [
      " 70%|██████████████████████████████████████████████████████████                         | 7/10 [00:00<00:00, 11.27it/s]"
     ]
    },
    {
     "name": "stdout",
     "output_type": "stream",
     "text": [
      "10/10 [==============================] - 0s 1ms/step\n",
      "10/10 [==============================] - 0s 2ms/step\n"
     ]
    },
    {
     "name": "stderr",
     "output_type": "stream",
     "text": [
      " 90%|██████████████████████████████████████████████████████████████████████████▋        | 9/10 [00:00<00:00, 11.30it/s]"
     ]
    },
    {
     "name": "stdout",
     "output_type": "stream",
     "text": [
      "10/10 [==============================] - 0s 1ms/step\n"
     ]
    },
    {
     "name": "stderr",
     "output_type": "stream",
     "text": [
      "100%|██████████████████████████████████████████████████████████████████████████████████| 10/10 [00:00<00:00, 11.14it/s]\n",
      "2023-08-26 01:05:35,790 - INFO - AUC : 0.8\n"
     ]
    },
    {
     "name": "stdout",
     "output_type": "stream",
     "text": [
      "===========================\n",
      "Model file not found for slider -> id_06. Skipping...\n",
      "\n",
      "Training transfer model for slider -> id_06 using pretrain model pretrain_('valve', 'pump')\n",
      "Epoch 1/50\n",
      "3/3 [==============================] - 1s 76ms/step - loss: 16.6484 - val_loss: 12.0501\n",
      "Epoch 2/50\n",
      "3/3 [==============================] - 0s 16ms/step - loss: 14.5502 - val_loss: 10.0240\n",
      "Epoch 3/50\n",
      "3/3 [==============================] - 0s 16ms/step - loss: 12.4159 - val_loss: 9.9344\n",
      "Epoch 4/50\n",
      "3/3 [==============================] - 0s 16ms/step - loss: 12.0229 - val_loss: 8.6122\n",
      "Epoch 5/50\n",
      "3/3 [==============================] - 0s 15ms/step - loss: 10.9603 - val_loss: 8.8419\n",
      "Epoch 6/50\n",
      "3/3 [==============================] - 0s 14ms/step - loss: 10.9094 - val_loss: 7.5727\n",
      "Epoch 7/50\n",
      "3/3 [==============================] - 0s 14ms/step - loss: 10.1598 - val_loss: 7.4996\n",
      "Epoch 8/50\n",
      "3/3 [==============================] - 0s 14ms/step - loss: 10.1158 - val_loss: 7.5164\n",
      "Epoch 9/50\n",
      "3/3 [==============================] - 0s 14ms/step - loss: 9.8102 - val_loss: 7.8589\n",
      "Epoch 10/50\n",
      "3/3 [==============================] - 0s 14ms/step - loss: 9.5873 - val_loss: 7.5335\n",
      "Epoch 11/50\n",
      "3/3 [==============================] - 0s 14ms/step - loss: 9.4514 - val_loss: 7.2086\n",
      "Epoch 12/50\n",
      "3/3 [==============================] - 0s 14ms/step - loss: 9.2785 - val_loss: 7.3223\n",
      "Epoch 13/50\n",
      "3/3 [==============================] - 0s 14ms/step - loss: 9.1801 - val_loss: 7.1253\n",
      "Epoch 14/50\n",
      "3/3 [==============================] - 0s 14ms/step - loss: 9.0664 - val_loss: 7.1180\n",
      "Epoch 15/50\n",
      "3/3 [==============================] - 0s 14ms/step - loss: 8.9612 - val_loss: 7.1476\n",
      "Epoch 16/50\n",
      "3/3 [==============================] - 0s 15ms/step - loss: 8.8741 - val_loss: 6.8832\n",
      "Epoch 17/50\n",
      "3/3 [==============================] - 0s 15ms/step - loss: 8.8157 - val_loss: 6.8787\n",
      "Epoch 18/50\n",
      "3/3 [==============================] - 0s 15ms/step - loss: 8.7261 - val_loss: 6.9358\n",
      "Epoch 19/50\n",
      "3/3 [==============================] - 0s 14ms/step - loss: 8.6733 - val_loss: 6.8164\n",
      "Epoch 20/50\n",
      "3/3 [==============================] - 0s 13ms/step - loss: 8.6159 - val_loss: 6.7998\n",
      "Epoch 21/50\n",
      "3/3 [==============================] - 0s 14ms/step - loss: 8.5668 - val_loss: 6.7560\n",
      "Epoch 22/50\n",
      "3/3 [==============================] - 0s 16ms/step - loss: 8.5132 - val_loss: 6.7820\n",
      "Epoch 23/50\n",
      "3/3 [==============================] - 0s 16ms/step - loss: 8.4749 - val_loss: 6.7699\n",
      "Epoch 24/50\n",
      "3/3 [==============================] - 0s 14ms/step - loss: 8.4390 - val_loss: 6.7290\n",
      "Epoch 25/50\n",
      "3/3 [==============================] - 0s 14ms/step - loss: 8.4022 - val_loss: 6.6966\n",
      "Epoch 26/50\n",
      "3/3 [==============================] - 0s 14ms/step - loss: 8.3582 - val_loss: 6.7382\n",
      "Epoch 27/50\n",
      "3/3 [==============================] - 0s 13ms/step - loss: 8.3263 - val_loss: 6.7075\n",
      "Epoch 28/50\n",
      "3/3 [==============================] - 0s 14ms/step - loss: 8.2920 - val_loss: 6.7076\n",
      "Epoch 29/50\n",
      "3/3 [==============================] - 0s 14ms/step - loss: 8.2643 - val_loss: 6.6836\n",
      "Epoch 30/50\n",
      "3/3 [==============================] - 0s 14ms/step - loss: 8.2340 - val_loss: 6.7010\n",
      "Epoch 31/50\n",
      "3/3 [==============================] - 0s 15ms/step - loss: 8.2042 - val_loss: 6.6998\n",
      "Epoch 32/50\n",
      "3/3 [==============================] - 0s 15ms/step - loss: 8.1769 - val_loss: 6.6907\n",
      "Epoch 33/50\n",
      "3/3 [==============================] - 0s 15ms/step - loss: 8.1485 - val_loss: 6.7063\n",
      "Epoch 34/50\n",
      "3/3 [==============================] - 0s 14ms/step - loss: 8.1220 - val_loss: 6.7008\n",
      "Epoch 35/50\n",
      "3/3 [==============================] - 0s 16ms/step - loss: 8.0970 - val_loss: 6.7228\n",
      "Epoch 36/50\n",
      "3/3 [==============================] - 0s 16ms/step - loss: 8.0736 - val_loss: 6.6874\n",
      "Epoch 37/50\n",
      "3/3 [==============================] - 0s 14ms/step - loss: 8.0487 - val_loss: 6.7014\n",
      "Epoch 38/50\n",
      "3/3 [==============================] - 0s 14ms/step - loss: 8.0267 - val_loss: 6.7291\n",
      "Epoch 39/50\n",
      "3/3 [==============================] - 0s 14ms/step - loss: 8.0048 - val_loss: 6.7089\n",
      "Epoch 40/50\n",
      "3/3 [==============================] - 0s 14ms/step - loss: 7.9839 - val_loss: 6.6992\n",
      "Epoch 41/50\n",
      "3/3 [==============================] - 0s 14ms/step - loss: 7.9637 - val_loss: 6.6850\n",
      "Epoch 42/50\n",
      "3/3 [==============================] - 0s 15ms/step - loss: 7.9460 - val_loss: 6.7133\n",
      "Epoch 43/50\n",
      "3/3 [==============================] - 0s 15ms/step - loss: 7.9261 - val_loss: 6.7241\n",
      "Epoch 44/50\n",
      "3/3 [==============================] - 0s 15ms/step - loss: 7.9119 - val_loss: 6.7301\n",
      "Epoch 45/50\n",
      "3/3 [==============================] - 0s 14ms/step - loss: 7.8950 - val_loss: 6.6889\n",
      "Epoch 46/50\n",
      "3/3 [==============================] - 0s 16ms/step - loss: 7.8822 - val_loss: 6.7225\n",
      "Epoch 47/50\n",
      "3/3 [==============================] - 0s 15ms/step - loss: 7.8679 - val_loss: 6.7143\n",
      "Epoch 48/50\n",
      "3/3 [==============================] - 0s 15ms/step - loss: 7.8493 - val_loss: 6.7072\n",
      "Epoch 49/50\n",
      "3/3 [==============================] - 0s 15ms/step - loss: 7.8357 - val_loss: 6.7181\n",
      "Epoch 50/50\n",
      "3/3 [==============================] - 0s 15ms/step - loss: 7.8224 - val_loss: 6.7162\n",
      "============== EVALUATION =============="
     ]
    },
    {
     "name": "stderr",
     "output_type": "stream",
     "text": [
      "C:\\Users\\Baejs\\anaconda3\\envs\\bae\\lib\\site-packages\\keras\\src\\engine\\training.py:3000: UserWarning: You are saving your model as an HDF5 file via `model.save()`. This file format is considered legacy. We recommend using instead the native Keras format, e.g. `model.save('my_model.keras')`.\n",
      "  saving_api.save_model(\n"
     ]
    },
    {
     "name": "stdout",
     "output_type": "stream",
     "text": [
      "\n"
     ]
    },
    {
     "name": "stderr",
     "output_type": "stream",
     "text": [
      "  0%|                                                                                           | 0/10 [00:00<?, ?it/s]"
     ]
    },
    {
     "name": "stdout",
     "output_type": "stream",
     "text": [
      "10/10 [==============================] - 0s 1ms/step\n"
     ]
    },
    {
     "name": "stderr",
     "output_type": "stream",
     "text": [
      " 10%|████████▎                                                                          | 1/10 [00:00<00:01,  7.48it/s]"
     ]
    },
    {
     "name": "stdout",
     "output_type": "stream",
     "text": [
      "10/10 [==============================] - 0s 1ms/step\n",
      "10/10 [==============================] - 0s 1ms/step\n"
     ]
    },
    {
     "name": "stderr",
     "output_type": "stream",
     "text": [
      " 30%|████████████████████████▉                                                          | 3/10 [00:00<00:00, 10.79it/s]"
     ]
    },
    {
     "name": "stdout",
     "output_type": "stream",
     "text": [
      "10/10 [==============================] - 0s 1ms/step\n",
      "10/10 [==============================] - 0s 1ms/step\n"
     ]
    },
    {
     "name": "stderr",
     "output_type": "stream",
     "text": [
      " 50%|█████████████████████████████████████████▌                                         | 5/10 [00:00<00:00, 11.62it/s]"
     ]
    },
    {
     "name": "stdout",
     "output_type": "stream",
     "text": [
      "10/10 [==============================] - 0s 1ms/step\n",
      "10/10 [==============================] - 0s 2ms/step\n"
     ]
    },
    {
     "name": "stderr",
     "output_type": "stream",
     "text": [
      " 70%|██████████████████████████████████████████████████████████                         | 7/10 [00:00<00:00, 11.82it/s]"
     ]
    },
    {
     "name": "stdout",
     "output_type": "stream",
     "text": [
      "10/10 [==============================] - 0s 1ms/step\n",
      "10/10 [==============================] - 0s 1ms/step\n"
     ]
    },
    {
     "name": "stderr",
     "output_type": "stream",
     "text": [
      " 90%|██████████████████████████████████████████████████████████████████████████▋        | 9/10 [00:00<00:00, 11.89it/s]"
     ]
    },
    {
     "name": "stdout",
     "output_type": "stream",
     "text": [
      "10/10 [==============================] - 0s 1ms/step\n"
     ]
    },
    {
     "name": "stderr",
     "output_type": "stream",
     "text": [
      "100%|██████████████████████████████████████████████████████████████████████████████████| 10/10 [00:00<00:00, 11.49it/s]\n",
      "2023-08-26 01:05:39,624 - INFO - AUC : 0.8\n",
      "2023-08-26 01:05:39,626 - INFO - all results -> ./result_transfer_pretrain_v3/result_transfer_pretrain_v3.yaml\n",
      "2023-08-26 01:05:39,633 - INFO - target_dir : ../Sample_data\n",
      "2023-08-26 01:05:39,635 - INFO - train_file num : 5\n",
      "2023-08-26 01:05:39,636 - INFO - eval_file  num : 10\n"
     ]
    },
    {
     "name": "stdout",
     "output_type": "stream",
     "text": [
      "===========================\n",
      "Model file not found for slider -> id_06. Skipping...\n",
      "Model file not found for slider -> id_06. Skipping...\n",
      "===========================\n",
      "\n",
      "===========================\n"
     ]
    },
    {
     "name": "stderr",
     "output_type": "stream",
     "text": [
      "generate train_dataset: 100%|████████████████████████████████████████████████████████████| 5/5 [00:00<00:00, 75.93it/s]\n",
      "2023-08-26 01:05:39,707 - INFO - save_pickle -> ./pickle_transfer_pretrain_v3/train_pump_id_00.pickle\n",
      "2023-08-26 01:05:39,712 - INFO - save_pickle -> ./pickle_transfer_pretrain_v3/eval_files_pump_id_00.pickle\n",
      "2023-08-26 01:05:39,714 - INFO - save_pickle -> ./pickle_transfer_pretrain_v3/eval_labels_pump_id_00.pickle\n"
     ]
    },
    {
     "name": "stdout",
     "output_type": "stream",
     "text": [
      "\n",
      "Training transfer model for pump -> id_00 using pretrain model pretrain_('fan', 'valve')\n",
      "Epoch 1/50\n",
      "3/3 [==============================] - 1s 87ms/step - loss: 15.5971 - val_loss: 13.8911\n",
      "Epoch 2/50\n",
      "3/3 [==============================] - 0s 16ms/step - loss: 14.9282 - val_loss: 12.4834\n",
      "Epoch 3/50\n",
      "3/3 [==============================] - 0s 14ms/step - loss: 14.2586 - val_loss: 11.7130\n",
      "Epoch 4/50\n",
      "3/3 [==============================] - 0s 18ms/step - loss: 13.0564 - val_loss: 9.6392\n",
      "Epoch 5/50\n",
      "3/3 [==============================] - 0s 15ms/step - loss: 13.2912 - val_loss: 8.5516\n",
      "Epoch 6/50\n",
      "3/3 [==============================] - 0s 14ms/step - loss: 12.7195 - val_loss: 9.3935\n",
      "Epoch 7/50\n",
      "3/3 [==============================] - 0s 19ms/step - loss: 12.5953 - val_loss: 8.5254\n",
      "Epoch 8/50\n",
      "3/3 [==============================] - 0s 15ms/step - loss: 12.3488 - val_loss: 8.5567\n",
      "Epoch 9/50\n",
      "3/3 [==============================] - 0s 29ms/step - loss: 12.1458 - val_loss: 8.7883\n",
      "Epoch 10/50\n",
      "3/3 [==============================] - 0s 14ms/step - loss: 12.1276 - val_loss: 8.5635\n",
      "Epoch 11/50\n",
      "3/3 [==============================] - 0s 16ms/step - loss: 11.9855 - val_loss: 8.4787\n",
      "Epoch 12/50\n",
      "3/3 [==============================] - 0s 16ms/step - loss: 11.8696 - val_loss: 8.5000\n",
      "Epoch 13/50\n",
      "3/3 [==============================] - 0s 15ms/step - loss: 11.7842 - val_loss: 8.2098\n",
      "Epoch 14/50\n",
      "3/3 [==============================] - 0s 14ms/step - loss: 11.7017 - val_loss: 8.2251\n",
      "Epoch 15/50\n",
      "3/3 [==============================] - 0s 15ms/step - loss: 11.6215 - val_loss: 8.3567\n",
      "Epoch 16/50\n",
      "3/3 [==============================] - 0s 15ms/step - loss: 11.5734 - val_loss: 8.2583\n",
      "Epoch 17/50\n",
      "3/3 [==============================] - 0s 16ms/step - loss: 11.5083 - val_loss: 8.2026\n",
      "Epoch 18/50\n",
      "3/3 [==============================] - 0s 17ms/step - loss: 11.4551 - val_loss: 8.1767\n",
      "Epoch 19/50\n",
      "3/3 [==============================] - 0s 14ms/step - loss: 11.4055 - val_loss: 8.1636\n",
      "Epoch 20/50\n",
      "3/3 [==============================] - 0s 14ms/step - loss: 11.3673 - val_loss: 8.1403\n",
      "Epoch 21/50\n",
      "3/3 [==============================] - 0s 15ms/step - loss: 11.3355 - val_loss: 8.1147\n",
      "Epoch 22/50\n",
      "3/3 [==============================] - 0s 14ms/step - loss: 11.3030 - val_loss: 8.0411\n",
      "Epoch 23/50\n",
      "3/3 [==============================] - 0s 16ms/step - loss: 11.2744 - val_loss: 8.0549\n",
      "Epoch 24/50\n",
      "3/3 [==============================] - 0s 15ms/step - loss: 11.2531 - val_loss: 8.0883\n",
      "Epoch 25/50\n",
      "3/3 [==============================] - 0s 19ms/step - loss: 11.2321 - val_loss: 8.0445\n",
      "Epoch 26/50\n",
      "3/3 [==============================] - 0s 15ms/step - loss: 11.2118 - val_loss: 8.0489\n",
      "Epoch 27/50\n",
      "3/3 [==============================] - 0s 14ms/step - loss: 11.1910 - val_loss: 7.9866\n",
      "Epoch 28/50\n",
      "3/3 [==============================] - 0s 14ms/step - loss: 11.1797 - val_loss: 7.9556\n",
      "Epoch 29/50\n",
      "3/3 [==============================] - 0s 17ms/step - loss: 11.1615 - val_loss: 7.9429\n",
      "Epoch 30/50\n",
      "3/3 [==============================] - 0s 24ms/step - loss: 11.1515 - val_loss: 7.8793\n",
      "Epoch 31/50\n",
      "3/3 [==============================] - 0s 16ms/step - loss: 11.1397 - val_loss: 7.8681\n",
      "Epoch 32/50\n",
      "3/3 [==============================] - 0s 16ms/step - loss: 11.1294 - val_loss: 7.9275\n",
      "Epoch 33/50\n",
      "3/3 [==============================] - 0s 16ms/step - loss: 11.1245 - val_loss: 7.9092\n",
      "Epoch 34/50\n",
      "3/3 [==============================] - 0s 16ms/step - loss: 11.1158 - val_loss: 7.8717\n",
      "Epoch 35/50\n",
      "3/3 [==============================] - 0s 16ms/step - loss: 11.1075 - val_loss: 7.8236\n",
      "Epoch 36/50\n",
      "3/3 [==============================] - 0s 19ms/step - loss: 11.1049 - val_loss: 7.7704\n",
      "Epoch 37/50\n",
      "3/3 [==============================] - 0s 16ms/step - loss: 11.0890 - val_loss: 7.8272\n",
      "Epoch 38/50\n",
      "3/3 [==============================] - 0s 17ms/step - loss: 11.0768 - val_loss: 7.7965\n",
      "Epoch 39/50\n",
      "3/3 [==============================] - 0s 21ms/step - loss: 11.0699 - val_loss: 7.7919\n",
      "Epoch 40/50\n",
      "3/3 [==============================] - 0s 25ms/step - loss: 11.0609 - val_loss: 7.7926\n",
      "Epoch 41/50\n",
      "3/3 [==============================] - 0s 27ms/step - loss: 11.0570 - val_loss: 7.7820\n",
      "Epoch 42/50\n",
      "3/3 [==============================] - 0s 22ms/step - loss: 11.0453 - val_loss: 7.6744\n",
      "Epoch 43/50\n",
      "3/3 [==============================] - 0s 19ms/step - loss: 11.0376 - val_loss: 7.7022\n",
      "Epoch 44/50\n",
      "3/3 [==============================] - 0s 15ms/step - loss: 11.0288 - val_loss: 7.7195\n",
      "Epoch 45/50\n",
      "3/3 [==============================] - 0s 14ms/step - loss: 11.0236 - val_loss: 7.7192\n",
      "Epoch 46/50\n",
      "3/3 [==============================] - 0s 14ms/step - loss: 11.0155 - val_loss: 7.6723\n",
      "Epoch 47/50\n",
      "3/3 [==============================] - 0s 15ms/step - loss: 11.0059 - val_loss: 7.6617\n",
      "Epoch 48/50\n",
      "3/3 [==============================] - 0s 17ms/step - loss: 10.9993 - val_loss: 7.6593\n",
      "Epoch 49/50\n",
      "3/3 [==============================] - 0s 15ms/step - loss: 10.9929 - val_loss: 7.6082\n",
      "Epoch 50/50\n",
      "3/3 [==============================] - 0s 14ms/step - loss: 10.9831 - val_loss: 7.6327\n",
      "============== EVALUATION ==============\n"
     ]
    },
    {
     "name": "stderr",
     "output_type": "stream",
     "text": [
      "C:\\Users\\Baejs\\anaconda3\\envs\\bae\\lib\\site-packages\\keras\\src\\engine\\training.py:3000: UserWarning: You are saving your model as an HDF5 file via `model.save()`. This file format is considered legacy. We recommend using instead the native Keras format, e.g. `model.save('my_model.keras')`.\n",
      "  saving_api.save_model(\n",
      "  0%|                                                                                           | 0/10 [00:00<?, ?it/s]"
     ]
    },
    {
     "name": "stdout",
     "output_type": "stream",
     "text": [
      "10/10 [==============================] - 0s 2ms/step\n"
     ]
    },
    {
     "name": "stderr",
     "output_type": "stream",
     "text": [
      " 10%|████████▎                                                                          | 1/10 [00:00<00:01,  6.35it/s]"
     ]
    },
    {
     "name": "stdout",
     "output_type": "stream",
     "text": [
      "10/10 [==============================] - 0s 1ms/step\n",
      "10/10 [==============================] - 0s 1ms/step\n"
     ]
    },
    {
     "name": "stderr",
     "output_type": "stream",
     "text": [
      " 30%|████████████████████████▉                                                          | 3/10 [00:00<00:00, 10.10it/s]"
     ]
    },
    {
     "name": "stdout",
     "output_type": "stream",
     "text": [
      "10/10 [==============================] - 0s 1ms/step\n",
      "10/10 [==============================] - 0s 1ms/step\n"
     ]
    },
    {
     "name": "stderr",
     "output_type": "stream",
     "text": [
      " 50%|█████████████████████████████████████████▌                                         | 5/10 [00:00<00:00, 11.35it/s]"
     ]
    },
    {
     "name": "stdout",
     "output_type": "stream",
     "text": [
      "10/10 [==============================] - 0s 1ms/step\n",
      "10/10 [==============================] - 0s 1ms/step\n"
     ]
    },
    {
     "name": "stderr",
     "output_type": "stream",
     "text": [
      " 70%|██████████████████████████████████████████████████████████                         | 7/10 [00:00<00:00, 12.01it/s]"
     ]
    },
    {
     "name": "stdout",
     "output_type": "stream",
     "text": [
      "10/10 [==============================] - 0s 1ms/step\n",
      "10/10 [==============================] - 0s 1ms/step\n"
     ]
    },
    {
     "name": "stderr",
     "output_type": "stream",
     "text": [
      " 90%|██████████████████████████████████████████████████████████████████████████▋        | 9/10 [00:00<00:00, 12.40it/s]"
     ]
    },
    {
     "name": "stdout",
     "output_type": "stream",
     "text": [
      "10/10 [==============================] - 0s 1ms/step\n"
     ]
    },
    {
     "name": "stderr",
     "output_type": "stream",
     "text": [
      "100%|██████████████████████████████████████████████████████████████████████████████████| 10/10 [00:00<00:00, 11.74it/s]\n",
      "2023-08-26 01:05:44,283 - INFO - AUC : 0.4800000000000001\n"
     ]
    },
    {
     "name": "stdout",
     "output_type": "stream",
     "text": [
      "===========================\n",
      "\n",
      "Training transfer model for pump -> id_00 using pretrain model pretrain_('fan', 'slider')\n",
      "Epoch 1/50\n",
      "3/3 [==============================] - 1s 66ms/step - loss: 19.9957 - val_loss: 15.8959\n",
      "Epoch 2/50\n",
      "3/3 [==============================] - 0s 15ms/step - loss: 17.8060 - val_loss: 12.3144\n",
      "Epoch 3/50\n",
      "3/3 [==============================] - 0s 15ms/step - loss: 15.7683 - val_loss: 11.9180\n",
      "Epoch 4/50\n",
      "3/3 [==============================] - 0s 15ms/step - loss: 14.7010 - val_loss: 8.5707\n",
      "Epoch 5/50\n",
      "3/3 [==============================] - 0s 14ms/step - loss: 14.2186 - val_loss: 8.2253\n",
      "Epoch 6/50\n",
      "3/3 [==============================] - 0s 14ms/step - loss: 13.5119 - val_loss: 8.8348\n",
      "Epoch 7/50\n",
      "3/3 [==============================] - 0s 15ms/step - loss: 13.7287 - val_loss: 8.6030\n",
      "Epoch 8/50\n",
      "3/3 [==============================] - 0s 14ms/step - loss: 13.1631 - val_loss: 8.3400\n",
      "Epoch 9/50\n",
      "3/3 [==============================] - 0s 14ms/step - loss: 13.2280 - val_loss: 8.4123\n",
      "Epoch 10/50\n",
      "3/3 [==============================] - 0s 14ms/step - loss: 12.9629 - val_loss: 8.6378\n",
      "Epoch 11/50\n",
      "3/3 [==============================] - 0s 14ms/step - loss: 12.9987 - val_loss: 8.1944\n",
      "Epoch 12/50\n",
      "3/3 [==============================] - 0s 14ms/step - loss: 12.7790 - val_loss: 7.9022\n",
      "Epoch 13/50\n",
      "3/3 [==============================] - 0s 15ms/step - loss: 12.7696 - val_loss: 7.7577\n",
      "Epoch 14/50\n",
      "3/3 [==============================] - 0s 14ms/step - loss: 12.6459 - val_loss: 7.8908\n",
      "Epoch 15/50\n",
      "3/3 [==============================] - 0s 14ms/step - loss: 12.6000 - val_loss: 7.7176\n",
      "Epoch 16/50\n",
      "3/3 [==============================] - 0s 13ms/step - loss: 12.5117 - val_loss: 7.7896\n",
      "Epoch 17/50\n",
      "3/3 [==============================] - 0s 13ms/step - loss: 12.4254 - val_loss: 7.7691\n",
      "Epoch 18/50\n",
      "3/3 [==============================] - 0s 14ms/step - loss: 12.3814 - val_loss: 7.6975\n",
      "Epoch 19/50\n",
      "3/3 [==============================] - 0s 14ms/step - loss: 12.3116 - val_loss: 7.7178\n",
      "Epoch 20/50\n",
      "3/3 [==============================] - 0s 14ms/step - loss: 12.2526 - val_loss: 7.6067\n",
      "Epoch 21/50\n",
      "3/3 [==============================] - 0s 15ms/step - loss: 12.1966 - val_loss: 7.5512\n",
      "Epoch 22/50\n",
      "3/3 [==============================] - 0s 14ms/step - loss: 12.1359 - val_loss: 7.5330\n",
      "Epoch 23/50\n",
      "3/3 [==============================] - 0s 14ms/step - loss: 12.0753 - val_loss: 7.5195\n",
      "Epoch 24/50\n",
      "3/3 [==============================] - 0s 14ms/step - loss: 12.0168 - val_loss: 7.5022\n",
      "Epoch 25/50\n",
      "3/3 [==============================] - 0s 14ms/step - loss: 11.9636 - val_loss: 7.4606\n",
      "Epoch 26/50\n",
      "3/3 [==============================] - 0s 15ms/step - loss: 11.9060 - val_loss: 7.4582\n",
      "Epoch 27/50\n",
      "3/3 [==============================] - 0s 13ms/step - loss: 11.8524 - val_loss: 7.4584\n",
      "Epoch 28/50\n",
      "3/3 [==============================] - 0s 14ms/step - loss: 11.7945 - val_loss: 7.3986\n",
      "Epoch 29/50\n",
      "3/3 [==============================] - 0s 14ms/step - loss: 11.7389 - val_loss: 7.4273\n",
      "Epoch 30/50\n",
      "3/3 [==============================] - 0s 14ms/step - loss: 11.6822 - val_loss: 7.4590\n",
      "Epoch 31/50\n",
      "3/3 [==============================] - 0s 14ms/step - loss: 11.6274 - val_loss: 7.4498\n",
      "Epoch 32/50\n",
      "3/3 [==============================] - 0s 14ms/step - loss: 11.5720 - val_loss: 7.3685\n",
      "Epoch 33/50\n",
      "3/3 [==============================] - 0s 14ms/step - loss: 11.5255 - val_loss: 7.3490\n",
      "Epoch 34/50\n",
      "3/3 [==============================] - 0s 14ms/step - loss: 11.4703 - val_loss: 7.4243\n",
      "Epoch 35/50\n",
      "3/3 [==============================] - 0s 16ms/step - loss: 11.4201 - val_loss: 7.4330\n",
      "Epoch 36/50\n",
      "3/3 [==============================] - 0s 14ms/step - loss: 11.3783 - val_loss: 7.4574\n",
      "Epoch 37/50\n",
      "3/3 [==============================] - 0s 14ms/step - loss: 11.3252 - val_loss: 7.4397\n",
      "Epoch 38/50\n",
      "3/3 [==============================] - 0s 16ms/step - loss: 11.2789 - val_loss: 7.4219\n",
      "Epoch 39/50\n",
      "3/3 [==============================] - 0s 15ms/step - loss: 11.2345 - val_loss: 7.3587\n",
      "Epoch 40/50\n",
      "3/3 [==============================] - 0s 14ms/step - loss: 11.1927 - val_loss: 7.4450\n",
      "Epoch 41/50\n",
      "3/3 [==============================] - 0s 14ms/step - loss: 11.1492 - val_loss: 7.4236\n",
      "Epoch 42/50\n",
      "3/3 [==============================] - 0s 14ms/step - loss: 11.1080 - val_loss: 7.4502\n",
      "Epoch 43/50\n",
      "3/3 [==============================] - 0s 14ms/step - loss: 11.0654 - val_loss: 7.4575\n",
      "Epoch 44/50\n",
      "3/3 [==============================] - 0s 15ms/step - loss: 11.0298 - val_loss: 7.4815\n",
      "Epoch 45/50\n",
      "3/3 [==============================] - 0s 14ms/step - loss: 10.9907 - val_loss: 7.5154\n",
      "Epoch 46/50\n",
      "3/3 [==============================] - 0s 15ms/step - loss: 10.9541 - val_loss: 7.4663\n",
      "Epoch 47/50\n",
      "3/3 [==============================] - 0s 19ms/step - loss: 10.9171 - val_loss: 7.5033\n",
      "Epoch 48/50\n",
      "3/3 [==============================] - 0s 16ms/step - loss: 10.8800 - val_loss: 7.4714\n",
      "Epoch 49/50\n",
      "3/3 [==============================] - 0s 14ms/step - loss: 10.8452 - val_loss: 7.4410\n",
      "Epoch 50/50\n",
      "3/3 [==============================] - 0s 13ms/step - loss: 10.8122 - val_loss: 7.4841\n",
      "============== EVALUATION ==============\n"
     ]
    },
    {
     "name": "stderr",
     "output_type": "stream",
     "text": [
      "C:\\Users\\Baejs\\anaconda3\\envs\\bae\\lib\\site-packages\\keras\\src\\engine\\training.py:3000: UserWarning: You are saving your model as an HDF5 file via `model.save()`. This file format is considered legacy. We recommend using instead the native Keras format, e.g. `model.save('my_model.keras')`.\n",
      "  saving_api.save_model(\n",
      "  0%|                                                                                           | 0/10 [00:00<?, ?it/s]"
     ]
    },
    {
     "name": "stdout",
     "output_type": "stream",
     "text": [
      "10/10 [==============================] - 0s 997us/step\n"
     ]
    },
    {
     "name": "stderr",
     "output_type": "stream",
     "text": [
      " 10%|████████▎                                                                          | 1/10 [00:00<00:01,  8.64it/s]"
     ]
    },
    {
     "name": "stdout",
     "output_type": "stream",
     "text": [
      "10/10 [==============================] - 0s 1ms/step\n",
      "10/10 [==============================] - 0s 1ms/step\n"
     ]
    },
    {
     "name": "stderr",
     "output_type": "stream",
     "text": [
      " 30%|████████████████████████▉                                                          | 3/10 [00:00<00:00, 11.46it/s]"
     ]
    },
    {
     "name": "stdout",
     "output_type": "stream",
     "text": [
      "10/10 [==============================] - 0s 1ms/step\n",
      "10/10 [==============================] - 0s 1ms/step\n"
     ]
    },
    {
     "name": "stderr",
     "output_type": "stream",
     "text": [
      " 50%|█████████████████████████████████████████▌                                         | 5/10 [00:00<00:00, 12.45it/s]"
     ]
    },
    {
     "name": "stdout",
     "output_type": "stream",
     "text": [
      "10/10 [==============================] - 0s 1ms/step\n",
      "10/10 [==============================] - 0s 887us/step\n"
     ]
    },
    {
     "name": "stderr",
     "output_type": "stream",
     "text": [
      " 70%|██████████████████████████████████████████████████████████                         | 7/10 [00:00<00:00, 13.00it/s]"
     ]
    },
    {
     "name": "stdout",
     "output_type": "stream",
     "text": [
      "10/10 [==============================] - 0s 997us/step\n",
      "10/10 [==============================] - 0s 997us/step\n"
     ]
    },
    {
     "name": "stderr",
     "output_type": "stream",
     "text": [
      " 90%|██████████████████████████████████████████████████████████████████████████▋        | 9/10 [00:00<00:00, 13.40it/s]"
     ]
    },
    {
     "name": "stdout",
     "output_type": "stream",
     "text": [
      "10/10 [==============================] - 0s 1ms/step\n"
     ]
    },
    {
     "name": "stderr",
     "output_type": "stream",
     "text": [
      "100%|██████████████████████████████████████████████████████████████████████████████████| 10/10 [00:00<00:00, 12.89it/s]\n",
      "2023-08-26 01:05:47,905 - INFO - AUC : 0.6\n"
     ]
    },
    {
     "name": "stdout",
     "output_type": "stream",
     "text": [
      "===========================\n",
      "Model file not found for pump -> id_00. Skipping...\n",
      "\n",
      "Training transfer model for pump -> id_00 using pretrain model pretrain_('valve', 'slider')\n",
      "Epoch 1/50\n",
      "3/3 [==============================] - 1s 60ms/step - loss: 17.7313 - val_loss: 15.8678\n",
      "Epoch 2/50\n",
      "3/3 [==============================] - 0s 16ms/step - loss: 17.2801 - val_loss: 11.1223\n",
      "Epoch 3/50\n",
      "3/3 [==============================] - 0s 23ms/step - loss: 15.1895 - val_loss: 10.2056\n",
      "Epoch 4/50\n",
      "3/3 [==============================] - 0s 14ms/step - loss: 13.3008 - val_loss: 11.5028\n",
      "Epoch 5/50\n",
      "3/3 [==============================] - 0s 14ms/step - loss: 13.2930 - val_loss: 8.3060\n",
      "Epoch 6/50\n",
      "3/3 [==============================] - 0s 15ms/step - loss: 13.0934 - val_loss: 7.9368\n",
      "Epoch 7/50\n",
      "3/3 [==============================] - 0s 16ms/step - loss: 12.2526 - val_loss: 9.3806\n",
      "Epoch 8/50\n",
      "3/3 [==============================] - 0s 14ms/step - loss: 12.3911 - val_loss: 8.3277\n",
      "Epoch 9/50\n",
      "3/3 [==============================] - 0s 15ms/step - loss: 12.0570 - val_loss: 8.4425\n",
      "Epoch 10/50\n",
      "3/3 [==============================] - 0s 14ms/step - loss: 11.7454 - val_loss: 8.7799\n",
      "Epoch 11/50\n",
      "3/3 [==============================] - 0s 25ms/step - loss: 11.7807 - val_loss: 7.9587\n",
      "Epoch 12/50\n",
      "3/3 [==============================] - 0s 18ms/step - loss: 11.6274 - val_loss: 7.7749\n",
      "Epoch 13/50\n",
      "3/3 [==============================] - 0s 14ms/step - loss: 11.4704 - val_loss: 7.9970\n",
      "Epoch 14/50\n",
      "3/3 [==============================] - 0s 15ms/step - loss: 11.4356 - val_loss: 7.8142\n",
      "Epoch 15/50\n",
      "3/3 [==============================] - 0s 14ms/step - loss: 11.3645 - val_loss: 7.8246\n",
      "Epoch 16/50\n",
      "3/3 [==============================] - 0s 16ms/step - loss: 11.2767 - val_loss: 7.8389\n",
      "Epoch 17/50\n",
      "3/3 [==============================] - 0s 15ms/step - loss: 11.2215 - val_loss: 7.7324\n",
      "Epoch 18/50\n",
      "3/3 [==============================] - 0s 14ms/step - loss: 11.1921 - val_loss: 7.7185\n",
      "Epoch 19/50\n",
      "3/3 [==============================] - 0s 14ms/step - loss: 11.1474 - val_loss: 7.6067\n",
      "Epoch 20/50\n",
      "3/3 [==============================] - 0s 15ms/step - loss: 11.1121 - val_loss: 7.6066\n",
      "Epoch 21/50\n",
      "3/3 [==============================] - 0s 15ms/step - loss: 11.0816 - val_loss: 7.5855\n",
      "Epoch 22/50\n",
      "3/3 [==============================] - 0s 15ms/step - loss: 11.0570 - val_loss: 7.5892\n",
      "Epoch 23/50\n",
      "3/3 [==============================] - 0s 14ms/step - loss: 11.0384 - val_loss: 7.5175\n",
      "Epoch 24/50\n",
      "3/3 [==============================] - 0s 14ms/step - loss: 11.0176 - val_loss: 7.4701\n",
      "Epoch 25/50\n",
      "3/3 [==============================] - 0s 14ms/step - loss: 10.9993 - val_loss: 7.5033\n",
      "Epoch 26/50\n",
      "3/3 [==============================] - 0s 17ms/step - loss: 10.9853 - val_loss: 7.4358\n",
      "Epoch 27/50\n",
      "3/3 [==============================] - 0s 14ms/step - loss: 10.9701 - val_loss: 7.4260\n",
      "Epoch 28/50\n",
      "3/3 [==============================] - 0s 14ms/step - loss: 10.9574 - val_loss: 7.4134\n",
      "Epoch 29/50\n",
      "3/3 [==============================] - 0s 14ms/step - loss: 10.9469 - val_loss: 7.4031\n",
      "Epoch 30/50\n",
      "3/3 [==============================] - 0s 14ms/step - loss: 10.9319 - val_loss: 7.3198\n",
      "Epoch 31/50\n",
      "3/3 [==============================] - 0s 14ms/step - loss: 10.9211 - val_loss: 7.2904\n",
      "Epoch 32/50\n",
      "3/3 [==============================] - 0s 15ms/step - loss: 10.9093 - val_loss: 7.2902\n",
      "Epoch 33/50\n",
      "3/3 [==============================] - 0s 15ms/step - loss: 10.9004 - val_loss: 7.2934\n",
      "Epoch 34/50\n",
      "3/3 [==============================] - 0s 15ms/step - loss: 10.8888 - val_loss: 7.2958\n",
      "Epoch 35/50\n",
      "3/3 [==============================] - 0s 14ms/step - loss: 10.8789 - val_loss: 7.2071\n",
      "Epoch 36/50\n",
      "3/3 [==============================] - 0s 14ms/step - loss: 10.8678 - val_loss: 7.1867\n",
      "Epoch 37/50\n",
      "3/3 [==============================] - 0s 14ms/step - loss: 10.8553 - val_loss: 7.2090\n",
      "Epoch 38/50\n",
      "3/3 [==============================] - 0s 14ms/step - loss: 10.8424 - val_loss: 7.1930\n",
      "Epoch 39/50\n",
      "3/3 [==============================] - 0s 16ms/step - loss: 10.8317 - val_loss: 7.1270\n",
      "Epoch 40/50\n",
      "3/3 [==============================] - 0s 14ms/step - loss: 10.8204 - val_loss: 7.1045\n",
      "Epoch 41/50\n",
      "3/3 [==============================] - 0s 13ms/step - loss: 10.8110 - val_loss: 7.1757\n",
      "Epoch 42/50\n",
      "3/3 [==============================] - 0s 14ms/step - loss: 10.7956 - val_loss: 7.0804\n",
      "Epoch 43/50\n",
      "3/3 [==============================] - 0s 16ms/step - loss: 10.7818 - val_loss: 7.0714\n",
      "Epoch 44/50\n",
      "3/3 [==============================] - 0s 27ms/step - loss: 10.7686 - val_loss: 7.0698\n",
      "Epoch 45/50\n",
      "3/3 [==============================] - 0s 16ms/step - loss: 10.7554 - val_loss: 7.0669\n",
      "Epoch 46/50\n",
      "3/3 [==============================] - 0s 14ms/step - loss: 10.7410 - val_loss: 7.0475\n",
      "Epoch 47/50\n",
      "3/3 [==============================] - 0s 14ms/step - loss: 10.7288 - val_loss: 6.9853\n",
      "Epoch 48/50\n",
      "3/3 [==============================] - 0s 14ms/step - loss: 10.7150 - val_loss: 7.0116\n",
      "Epoch 49/50\n",
      "3/3 [==============================] - 0s 16ms/step - loss: 10.7020 - val_loss: 7.0265\n",
      "Epoch 50/50\n",
      "3/3 [==============================] - 0s 40ms/step - loss: 10.6877 - val_loss: 7.0079\n",
      "============== EVALUATION ==============\n"
     ]
    },
    {
     "name": "stderr",
     "output_type": "stream",
     "text": [
      "C:\\Users\\Baejs\\anaconda3\\envs\\bae\\lib\\site-packages\\keras\\src\\engine\\training.py:3000: UserWarning: You are saving your model as an HDF5 file via `model.save()`. This file format is considered legacy. We recommend using instead the native Keras format, e.g. `model.save('my_model.keras')`.\n",
      "  saving_api.save_model(\n",
      "  0%|                                                                                           | 0/10 [00:00<?, ?it/s]"
     ]
    },
    {
     "name": "stdout",
     "output_type": "stream",
     "text": [
      "10/10 [==============================] - 0s 1ms/step\n"
     ]
    },
    {
     "name": "stderr",
     "output_type": "stream",
     "text": [
      " 10%|████████▎                                                                          | 1/10 [00:00<00:01,  8.80it/s]"
     ]
    },
    {
     "name": "stdout",
     "output_type": "stream",
     "text": [
      "10/10 [==============================] - 0s 1ms/step\n",
      "10/10 [==============================] - 0s 997us/step\n"
     ]
    },
    {
     "name": "stderr",
     "output_type": "stream",
     "text": [
      " 30%|████████████████████████▉                                                          | 3/10 [00:00<00:00, 11.53it/s]"
     ]
    },
    {
     "name": "stdout",
     "output_type": "stream",
     "text": [
      "10/10 [==============================] - 0s 1ms/step\n",
      "10/10 [==============================] - 0s 1ms/step\n"
     ]
    },
    {
     "name": "stderr",
     "output_type": "stream",
     "text": [
      " 50%|█████████████████████████████████████████▌                                         | 5/10 [00:00<00:00, 11.77it/s]"
     ]
    },
    {
     "name": "stdout",
     "output_type": "stream",
     "text": [
      "10/10 [==============================] - 0s 887us/step\n",
      "10/10 [==============================] - 0s 1ms/step\n"
     ]
    },
    {
     "name": "stderr",
     "output_type": "stream",
     "text": [
      " 70%|██████████████████████████████████████████████████████████                         | 7/10 [00:00<00:00, 11.67it/s]"
     ]
    },
    {
     "name": "stdout",
     "output_type": "stream",
     "text": [
      "10/10 [==============================] - 0s 1ms/step\n",
      "10/10 [==============================] - 0s 1ms/step\n"
     ]
    },
    {
     "name": "stderr",
     "output_type": "stream",
     "text": [
      " 90%|██████████████████████████████████████████████████████████████████████████▋        | 9/10 [00:00<00:00, 12.11it/s]"
     ]
    },
    {
     "name": "stdout",
     "output_type": "stream",
     "text": [
      "10/10 [==============================] - 0s 1ms/step\n"
     ]
    },
    {
     "name": "stderr",
     "output_type": "stream",
     "text": [
      "100%|██████████████████████████████████████████████████████████████████████████████████| 10/10 [00:00<00:00, 11.88it/s]\n",
      "2023-08-26 01:05:51,679 - INFO - AUC : 0.52\n",
      "2023-08-26 01:05:51,680 - INFO - target_dir : ../Sample_data\n",
      "2023-08-26 01:05:51,682 - INFO - train_file num : 5\n",
      "2023-08-26 01:05:51,683 - INFO - eval_file  num : 10\n"
     ]
    },
    {
     "name": "stdout",
     "output_type": "stream",
     "text": [
      "===========================\n",
      "Model file not found for pump -> id_00. Skipping...\n",
      "Model file not found for pump -> id_00. Skipping...\n",
      "\n",
      "===========================\n"
     ]
    },
    {
     "name": "stderr",
     "output_type": "stream",
     "text": [
      "generate train_dataset: 100%|████████████████████████████████████████████████████████████| 5/5 [00:00<00:00, 79.58it/s]\n",
      "2023-08-26 01:05:51,749 - INFO - save_pickle -> ./pickle_transfer_pretrain_v3/train_pump_id_02.pickle\n",
      "2023-08-26 01:05:51,754 - INFO - save_pickle -> ./pickle_transfer_pretrain_v3/eval_files_pump_id_02.pickle\n",
      "2023-08-26 01:05:51,756 - INFO - save_pickle -> ./pickle_transfer_pretrain_v3/eval_labels_pump_id_02.pickle\n"
     ]
    },
    {
     "name": "stdout",
     "output_type": "stream",
     "text": [
      "\n",
      "Training transfer model for pump -> id_02 using pretrain model pretrain_('fan', 'valve')\n",
      "Epoch 1/50\n",
      "3/3 [==============================] - 1s 72ms/step - loss: 15.7705 - val_loss: 14.2274\n",
      "Epoch 2/50\n",
      "3/3 [==============================] - 0s 16ms/step - loss: 15.2280 - val_loss: 10.8323\n",
      "Epoch 3/50\n",
      "3/3 [==============================] - 0s 15ms/step - loss: 13.1860 - val_loss: 10.0210\n",
      "Epoch 4/50\n",
      "3/3 [==============================] - 0s 14ms/step - loss: 12.4893 - val_loss: 9.9663\n",
      "Epoch 5/50\n",
      "3/3 [==============================] - 0s 14ms/step - loss: 12.5908 - val_loss: 9.5650\n",
      "Epoch 6/50\n",
      "3/3 [==============================] - 0s 20ms/step - loss: 11.6219 - val_loss: 9.8891\n",
      "Epoch 7/50\n",
      "3/3 [==============================] - 0s 18ms/step - loss: 11.9576 - val_loss: 9.4720\n",
      "Epoch 8/50\n",
      "3/3 [==============================] - 0s 15ms/step - loss: 11.4983 - val_loss: 9.3943\n",
      "Epoch 9/50\n",
      "3/3 [==============================] - 0s 15ms/step - loss: 11.4295 - val_loss: 9.5426\n",
      "Epoch 10/50\n",
      "3/3 [==============================] - 0s 15ms/step - loss: 11.4705 - val_loss: 9.1760\n",
      "Epoch 11/50\n",
      "3/3 [==============================] - 0s 15ms/step - loss: 11.2565 - val_loss: 9.0746\n",
      "Epoch 12/50\n",
      "3/3 [==============================] - 0s 14ms/step - loss: 11.2683 - val_loss: 9.6412\n",
      "Epoch 13/50\n",
      "3/3 [==============================] - 0s 14ms/step - loss: 11.2560 - val_loss: 9.5259\n",
      "Epoch 14/50\n",
      "3/3 [==============================] - 0s 16ms/step - loss: 11.1540 - val_loss: 9.0828\n",
      "Epoch 15/50\n",
      "3/3 [==============================] - 0s 17ms/step - loss: 11.1705 - val_loss: 9.2284\n",
      "Epoch 16/50\n",
      "3/3 [==============================] - 0s 14ms/step - loss: 11.1498 - val_loss: 9.1822\n",
      "Epoch 17/50\n",
      "3/3 [==============================] - 0s 15ms/step - loss: 11.1065 - val_loss: 9.0907\n",
      "Epoch 18/50\n",
      "3/3 [==============================] - 0s 15ms/step - loss: 11.0903 - val_loss: 9.4683\n",
      "Epoch 19/50\n",
      "3/3 [==============================] - 0s 14ms/step - loss: 11.0793 - val_loss: 9.2210\n",
      "Epoch 20/50\n",
      "3/3 [==============================] - 0s 14ms/step - loss: 11.0519 - val_loss: 9.1753\n",
      "Epoch 21/50\n",
      "3/3 [==============================] - 0s 14ms/step - loss: 11.0321 - val_loss: 9.3472\n",
      "Epoch 22/50\n",
      "3/3 [==============================] - 0s 14ms/step - loss: 11.0147 - val_loss: 9.1200\n",
      "Epoch 23/50\n",
      "3/3 [==============================] - 0s 16ms/step - loss: 11.0004 - val_loss: 9.2601\n",
      "Epoch 24/50\n",
      "3/3 [==============================] - 0s 16ms/step - loss: 10.9877 - val_loss: 9.2572\n",
      "Epoch 25/50\n",
      "3/3 [==============================] - 0s 16ms/step - loss: 10.9671 - val_loss: 9.4130\n",
      "Epoch 26/50\n",
      "3/3 [==============================] - 0s 18ms/step - loss: 10.9504 - val_loss: 9.4111\n",
      "Epoch 27/50\n",
      "3/3 [==============================] - 0s 23ms/step - loss: 10.9316 - val_loss: 9.2096\n",
      "Epoch 28/50\n",
      "3/3 [==============================] - 0s 22ms/step - loss: 10.9125 - val_loss: 9.3205\n",
      "Epoch 29/50\n",
      "3/3 [==============================] - 0s 18ms/step - loss: 10.8979 - val_loss: 9.3474\n",
      "Epoch 30/50\n",
      "3/3 [==============================] - 0s 15ms/step - loss: 10.8806 - val_loss: 9.3224\n",
      "Epoch 31/50\n",
      "3/3 [==============================] - 0s 17ms/step - loss: 10.8626 - val_loss: 9.2828\n",
      "Epoch 32/50\n",
      "3/3 [==============================] - 0s 14ms/step - loss: 10.8437 - val_loss: 9.3951\n",
      "Epoch 33/50\n",
      "3/3 [==============================] - 0s 16ms/step - loss: 10.8293 - val_loss: 9.3396\n",
      "Epoch 34/50\n",
      "3/3 [==============================] - 0s 19ms/step - loss: 10.8117 - val_loss: 9.3780\n",
      "Epoch 35/50\n",
      "3/3 [==============================] - 0s 16ms/step - loss: 10.7957 - val_loss: 9.3733\n",
      "Epoch 36/50\n",
      "3/3 [==============================] - 0s 16ms/step - loss: 10.7753 - val_loss: 9.4408\n",
      "Epoch 37/50\n",
      "3/3 [==============================] - 0s 15ms/step - loss: 10.7600 - val_loss: 9.4020\n",
      "Epoch 38/50\n",
      "3/3 [==============================] - 0s 16ms/step - loss: 10.7419 - val_loss: 9.3388\n",
      "Epoch 39/50\n",
      "3/3 [==============================] - 0s 17ms/step - loss: 10.7279 - val_loss: 9.3479\n",
      "Epoch 40/50\n",
      "3/3 [==============================] - 0s 15ms/step - loss: 10.7076 - val_loss: 9.4906\n",
      "Epoch 41/50\n",
      "3/3 [==============================] - 0s 16ms/step - loss: 10.6919 - val_loss: 9.4434\n",
      "Epoch 42/50\n",
      "3/3 [==============================] - 0s 15ms/step - loss: 10.6748 - val_loss: 9.4549\n",
      "Epoch 43/50\n",
      "3/3 [==============================] - 0s 16ms/step - loss: 10.6567 - val_loss: 9.4950\n",
      "Epoch 44/50\n",
      "3/3 [==============================] - 0s 16ms/step - loss: 10.6402 - val_loss: 9.3801\n",
      "Epoch 45/50\n",
      "3/3 [==============================] - 0s 38ms/step - loss: 10.6243 - val_loss: 9.4667\n",
      "Epoch 46/50\n",
      "3/3 [==============================] - 0s 17ms/step - loss: 10.6074 - val_loss: 9.4677\n",
      "Epoch 47/50\n",
      "3/3 [==============================] - 0s 16ms/step - loss: 10.5897 - val_loss: 9.4375\n",
      "Epoch 48/50\n",
      "3/3 [==============================] - 0s 16ms/step - loss: 10.5789 - val_loss: 9.4523\n",
      "Epoch 49/50\n",
      "3/3 [==============================] - 0s 21ms/step - loss: 10.5678 - val_loss: 9.4701\n",
      "Epoch 50/50\n",
      "3/3 [==============================] - 0s 17ms/step - loss: 10.5435 - val_loss: 9.5724\n",
      "============== EVALUATION ==============\n"
     ]
    },
    {
     "name": "stderr",
     "output_type": "stream",
     "text": [
      "C:\\Users\\Baejs\\anaconda3\\envs\\bae\\lib\\site-packages\\keras\\src\\engine\\training.py:3000: UserWarning: You are saving your model as an HDF5 file via `model.save()`. This file format is considered legacy. We recommend using instead the native Keras format, e.g. `model.save('my_model.keras')`.\n",
      "  saving_api.save_model(\n",
      "  0%|                                                                                           | 0/10 [00:00<?, ?it/s]"
     ]
    },
    {
     "name": "stdout",
     "output_type": "stream",
     "text": [
      "10/10 [==============================] - 0s 2ms/step\n"
     ]
    },
    {
     "name": "stderr",
     "output_type": "stream",
     "text": [
      " 10%|████████▎                                                                          | 1/10 [00:00<00:01,  6.47it/s]"
     ]
    },
    {
     "name": "stdout",
     "output_type": "stream",
     "text": [
      "10/10 [==============================] - 0s 2ms/step\n",
      "10/10 [==============================] - 0s 1ms/step\n"
     ]
    },
    {
     "name": "stderr",
     "output_type": "stream",
     "text": [
      " 30%|████████████████████████▉                                                          | 3/10 [00:00<00:00,  9.65it/s]"
     ]
    },
    {
     "name": "stdout",
     "output_type": "stream",
     "text": [
      "10/10 [==============================] - 0s 997us/step\n",
      "10/10 [==============================] - 0s 1ms/step\n"
     ]
    },
    {
     "name": "stderr",
     "output_type": "stream",
     "text": [
      " 50%|█████████████████████████████████████████▌                                         | 5/10 [00:00<00:00, 10.28it/s]"
     ]
    },
    {
     "name": "stdout",
     "output_type": "stream",
     "text": [
      "10/10 [==============================] - 0s 1ms/step\n",
      "10/10 [==============================] - 0s 1ms/step\n"
     ]
    },
    {
     "name": "stderr",
     "output_type": "stream",
     "text": [
      " 70%|██████████████████████████████████████████████████████████                         | 7/10 [00:00<00:00, 11.10it/s]"
     ]
    },
    {
     "name": "stdout",
     "output_type": "stream",
     "text": [
      "10/10 [==============================] - 0s 2ms/step\n",
      "10/10 [==============================] - 0s 1ms/step\n"
     ]
    },
    {
     "name": "stderr",
     "output_type": "stream",
     "text": [
      " 90%|██████████████████████████████████████████████████████████████████████████▋        | 9/10 [00:00<00:00, 11.50it/s]"
     ]
    },
    {
     "name": "stdout",
     "output_type": "stream",
     "text": [
      "10/10 [==============================] - 0s 1ms/step\n"
     ]
    },
    {
     "name": "stderr",
     "output_type": "stream",
     "text": [
      "100%|██████████████████████████████████████████████████████████████████████████████████| 10/10 [00:00<00:00, 11.05it/s]\n",
      "2023-08-26 01:05:55,906 - INFO - AUC : 0.16000000000000003\n"
     ]
    },
    {
     "name": "stdout",
     "output_type": "stream",
     "text": [
      "===========================\n",
      "\n",
      "Training transfer model for pump -> id_02 using pretrain model pretrain_('fan', 'slider')\n",
      "Epoch 1/50\n",
      "3/3 [==============================] - 1s 71ms/step - loss: 19.4451 - val_loss: 12.0806\n",
      "Epoch 2/50\n",
      "3/3 [==============================] - 0s 24ms/step - loss: 16.1463 - val_loss: 10.6337\n",
      "Epoch 3/50\n",
      "3/3 [==============================] - 0s 20ms/step - loss: 12.1534 - val_loss: 12.9649\n",
      "Epoch 4/50\n",
      "3/3 [==============================] - 0s 14ms/step - loss: 13.0753 - val_loss: 10.1518\n",
      "Epoch 5/50\n",
      "3/3 [==============================] - 0s 17ms/step - loss: 11.6869 - val_loss: 8.2857\n",
      "Epoch 6/50\n",
      "3/3 [==============================] - 0s 18ms/step - loss: 11.2717 - val_loss: 9.1102\n",
      "Epoch 7/50\n",
      "3/3 [==============================] - 0s 16ms/step - loss: 11.1977 - val_loss: 8.7533\n",
      "Epoch 8/50\n",
      "3/3 [==============================] - 0s 17ms/step - loss: 10.7204 - val_loss: 8.3539\n",
      "Epoch 9/50\n",
      "3/3 [==============================] - 0s 25ms/step - loss: 10.7471 - val_loss: 9.3804\n",
      "Epoch 10/50\n",
      "3/3 [==============================] - 0s 27ms/step - loss: 10.4275 - val_loss: 9.9795\n",
      "Epoch 11/50\n",
      "3/3 [==============================] - 0s 20ms/step - loss: 10.3117 - val_loss: 8.5173\n",
      "Epoch 12/50\n",
      "3/3 [==============================] - 0s 31ms/step - loss: 10.2493 - val_loss: 8.1871\n",
      "Epoch 13/50\n",
      "3/3 [==============================] - 0s 25ms/step - loss: 10.0901 - val_loss: 8.8224\n",
      "Epoch 14/50\n",
      "3/3 [==============================] - 0s 18ms/step - loss: 10.0356 - val_loss: 8.0204\n",
      "Epoch 15/50\n",
      "3/3 [==============================] - 0s 15ms/step - loss: 9.9461 - val_loss: 7.9820\n",
      "Epoch 16/50\n",
      "3/3 [==============================] - 0s 15ms/step - loss: 9.8407 - val_loss: 8.0250\n",
      "Epoch 17/50\n",
      "3/3 [==============================] - 0s 15ms/step - loss: 9.7550 - val_loss: 7.1798\n",
      "Epoch 18/50\n",
      "3/3 [==============================] - 0s 13ms/step - loss: 9.6060 - val_loss: 6.7738\n",
      "Epoch 19/50\n",
      "3/3 [==============================] - 0s 14ms/step - loss: 9.5125 - val_loss: 6.8715\n",
      "Epoch 20/50\n",
      "3/3 [==============================] - 0s 13ms/step - loss: 9.4622 - val_loss: 6.8537\n",
      "Epoch 21/50\n",
      "3/3 [==============================] - 0s 13ms/step - loss: 9.4175 - val_loss: 6.7277\n",
      "Epoch 22/50\n",
      "3/3 [==============================] - 0s 13ms/step - loss: 9.3830 - val_loss: 6.6650\n",
      "Epoch 23/50\n",
      "3/3 [==============================] - 0s 13ms/step - loss: 9.3410 - val_loss: 6.6847\n",
      "Epoch 24/50\n",
      "3/3 [==============================] - 0s 17ms/step - loss: 9.3043 - val_loss: 6.6610\n",
      "Epoch 25/50\n",
      "3/3 [==============================] - 0s 15ms/step - loss: 9.2654 - val_loss: 6.6669\n",
      "Epoch 26/50\n",
      "3/3 [==============================] - 0s 15ms/step - loss: 9.2269 - val_loss: 6.6339\n",
      "Epoch 27/50\n",
      "3/3 [==============================] - 0s 15ms/step - loss: 9.1944 - val_loss: 6.6217\n",
      "Epoch 28/50\n",
      "3/3 [==============================] - 0s 21ms/step - loss: 9.1612 - val_loss: 6.5832\n",
      "Epoch 29/50\n",
      "3/3 [==============================] - 0s 16ms/step - loss: 9.1338 - val_loss: 6.5449\n",
      "Epoch 30/50\n",
      "3/3 [==============================] - 0s 17ms/step - loss: 9.0987 - val_loss: 6.5669\n",
      "Epoch 31/50\n",
      "3/3 [==============================] - 0s 20ms/step - loss: 9.0602 - val_loss: 6.5773\n",
      "Epoch 32/50\n",
      "3/3 [==============================] - 0s 17ms/step - loss: 9.0240 - val_loss: 6.5810\n",
      "Epoch 33/50\n",
      "3/3 [==============================] - 0s 15ms/step - loss: 8.9840 - val_loss: 6.5507\n",
      "Epoch 34/50\n",
      "3/3 [==============================] - 0s 18ms/step - loss: 8.9424 - val_loss: 6.5151\n",
      "Epoch 35/50\n",
      "3/3 [==============================] - 0s 16ms/step - loss: 8.8995 - val_loss: 6.4944\n",
      "Epoch 36/50\n",
      "3/3 [==============================] - 0s 15ms/step - loss: 8.8581 - val_loss: 6.5029\n",
      "Epoch 37/50\n",
      "3/3 [==============================] - 0s 15ms/step - loss: 8.8126 - val_loss: 6.4815\n",
      "Epoch 38/50\n",
      "3/3 [==============================] - 0s 17ms/step - loss: 8.7642 - val_loss: 6.4865\n",
      "Epoch 39/50\n",
      "3/3 [==============================] - 0s 15ms/step - loss: 8.7171 - val_loss: 6.4695\n",
      "Epoch 40/50\n",
      "3/3 [==============================] - 0s 14ms/step - loss: 8.6699 - val_loss: 6.4597\n",
      "Epoch 41/50\n",
      "3/3 [==============================] - 0s 15ms/step - loss: 8.6217 - val_loss: 6.4866\n",
      "Epoch 42/50\n",
      "3/3 [==============================] - 0s 14ms/step - loss: 8.5707 - val_loss: 6.4796\n",
      "Epoch 43/50\n",
      "3/3 [==============================] - 0s 13ms/step - loss: 8.5230 - val_loss: 6.4306\n",
      "Epoch 44/50\n",
      "3/3 [==============================] - 0s 13ms/step - loss: 8.4720 - val_loss: 6.4406\n",
      "Epoch 45/50\n",
      "3/3 [==============================] - 0s 15ms/step - loss: 8.4242 - val_loss: 6.4743\n",
      "Epoch 46/50\n",
      "3/3 [==============================] - 0s 15ms/step - loss: 8.3744 - val_loss: 6.4566\n",
      "Epoch 47/50\n",
      "3/3 [==============================] - 0s 15ms/step - loss: 8.3269 - val_loss: 6.4133\n",
      "Epoch 48/50\n",
      "3/3 [==============================] - 0s 16ms/step - loss: 8.2810 - val_loss: 6.4196\n",
      "Epoch 49/50\n",
      "3/3 [==============================] - 0s 17ms/step - loss: 8.2345 - val_loss: 6.4701\n",
      "Epoch 50/50\n",
      "3/3 [==============================] - 0s 17ms/step - loss: 8.1928 - val_loss: 6.4714\n",
      "============== EVALUATION ==============\n"
     ]
    },
    {
     "name": "stderr",
     "output_type": "stream",
     "text": [
      "C:\\Users\\Baejs\\anaconda3\\envs\\bae\\lib\\site-packages\\keras\\src\\engine\\training.py:3000: UserWarning: You are saving your model as an HDF5 file via `model.save()`. This file format is considered legacy. We recommend using instead the native Keras format, e.g. `model.save('my_model.keras')`.\n",
      "  saving_api.save_model(\n",
      "  0%|                                                                                           | 0/10 [00:00<?, ?it/s]"
     ]
    },
    {
     "name": "stdout",
     "output_type": "stream",
     "text": [
      "10/10 [==============================] - 0s 2ms/step\n"
     ]
    },
    {
     "name": "stderr",
     "output_type": "stream",
     "text": [
      " 10%|████████▎                                                                          | 1/10 [00:00<00:01,  6.51it/s]"
     ]
    },
    {
     "name": "stdout",
     "output_type": "stream",
     "text": [
      "10/10 [==============================] - 0s 886us/step\n",
      "10/10 [==============================] - 0s 2ms/step\n"
     ]
    },
    {
     "name": "stderr",
     "output_type": "stream",
     "text": [
      " 30%|████████████████████████▉                                                          | 3/10 [00:00<00:00,  9.75it/s]"
     ]
    },
    {
     "name": "stdout",
     "output_type": "stream",
     "text": [
      "10/10 [==============================] - 0s 997us/step\n",
      "10/10 [==============================] - 0s 1ms/step\n"
     ]
    },
    {
     "name": "stderr",
     "output_type": "stream",
     "text": [
      " 50%|█████████████████████████████████████████▌                                         | 5/10 [00:00<00:00, 11.42it/s]"
     ]
    },
    {
     "name": "stdout",
     "output_type": "stream",
     "text": [
      "10/10 [==============================] - 0s 997us/step\n",
      "10/10 [==============================] - 0s 997us/step\n"
     ]
    },
    {
     "name": "stderr",
     "output_type": "stream",
     "text": [
      " 70%|██████████████████████████████████████████████████████████                         | 7/10 [00:00<00:00, 12.46it/s]"
     ]
    },
    {
     "name": "stdout",
     "output_type": "stream",
     "text": [
      "10/10 [==============================] - 0s 1000us/step\n",
      "10/10 [==============================] - 0s 1ms/step\n"
     ]
    },
    {
     "name": "stderr",
     "output_type": "stream",
     "text": [
      " 90%|██████████████████████████████████████████████████████████████████████████▋        | 9/10 [00:00<00:00, 12.88it/s]"
     ]
    },
    {
     "name": "stdout",
     "output_type": "stream",
     "text": [
      "10/10 [==============================] - 0s 1ms/step\n"
     ]
    },
    {
     "name": "stderr",
     "output_type": "stream",
     "text": [
      "100%|██████████████████████████████████████████████████████████████████████████████████| 10/10 [00:00<00:00, 11.98it/s]\n",
      "2023-08-26 01:06:00,033 - INFO - AUC : 0.31999999999999995\n"
     ]
    },
    {
     "name": "stdout",
     "output_type": "stream",
     "text": [
      "===========================\n",
      "Model file not found for pump -> id_02. Skipping...\n",
      "\n",
      "Training transfer model for pump -> id_02 using pretrain model pretrain_('valve', 'slider')\n",
      "Epoch 1/50\n",
      "3/3 [==============================] - 1s 61ms/step - loss: 14.5752 - val_loss: 13.7000\n",
      "Epoch 2/50\n",
      "3/3 [==============================] - 0s 14ms/step - loss: 13.5180 - val_loss: 10.6932\n",
      "Epoch 3/50\n",
      "3/3 [==============================] - 0s 14ms/step - loss: 12.3338 - val_loss: 10.7243\n",
      "Epoch 4/50\n",
      "3/3 [==============================] - 0s 14ms/step - loss: 11.3740 - val_loss: 9.1456\n",
      "Epoch 5/50\n",
      "3/3 [==============================] - 0s 15ms/step - loss: 11.6388 - val_loss: 9.2166\n",
      "Epoch 6/50\n",
      "3/3 [==============================] - 0s 15ms/step - loss: 10.7917 - val_loss: 10.9842\n",
      "Epoch 7/50\n",
      "3/3 [==============================] - 0s 14ms/step - loss: 10.9148 - val_loss: 8.9252\n",
      "Epoch 8/50\n",
      "3/3 [==============================] - 0s 14ms/step - loss: 10.6562 - val_loss: 8.6089\n",
      "Epoch 9/50\n",
      "3/3 [==============================] - 0s 17ms/step - loss: 10.4797 - val_loss: 9.3493\n",
      "Epoch 10/50\n",
      "3/3 [==============================] - 0s 14ms/step - loss: 10.4947 - val_loss: 9.0759\n",
      "Epoch 11/50\n",
      "3/3 [==============================] - 0s 14ms/step - loss: 10.2943 - val_loss: 8.7871\n",
      "Epoch 12/50\n",
      "3/3 [==============================] - 0s 14ms/step - loss: 10.2651 - val_loss: 9.3594\n",
      "Epoch 13/50\n",
      "3/3 [==============================] - 0s 13ms/step - loss: 10.2230 - val_loss: 9.2001\n",
      "Epoch 14/50\n",
      "3/3 [==============================] - 0s 14ms/step - loss: 10.1063 - val_loss: 8.7232\n",
      "Epoch 15/50\n",
      "3/3 [==============================] - 0s 14ms/step - loss: 10.0880 - val_loss: 9.0689\n",
      "Epoch 16/50\n",
      "3/3 [==============================] - 0s 15ms/step - loss: 10.0374 - val_loss: 8.9070\n",
      "Epoch 17/50\n",
      "3/3 [==============================] - 0s 14ms/step - loss: 9.9674 - val_loss: 8.7012\n",
      "Epoch 18/50\n",
      "3/3 [==============================] - 0s 13ms/step - loss: 9.9254 - val_loss: 9.0202\n",
      "Epoch 19/50\n",
      "3/3 [==============================] - 0s 14ms/step - loss: 9.8895 - val_loss: 8.7552\n",
      "Epoch 20/50\n",
      "3/3 [==============================] - 0s 14ms/step - loss: 9.8438 - val_loss: 8.7630\n",
      "Epoch 21/50\n",
      "3/3 [==============================] - 0s 14ms/step - loss: 9.8020 - val_loss: 8.8969\n",
      "Epoch 22/50\n",
      "3/3 [==============================] - 0s 13ms/step - loss: 9.7607 - val_loss: 8.6879\n",
      "Epoch 23/50\n",
      "3/3 [==============================] - 0s 13ms/step - loss: 9.7217 - val_loss: 8.8154\n",
      "Epoch 24/50\n",
      "3/3 [==============================] - 0s 13ms/step - loss: 9.6867 - val_loss: 8.6794\n",
      "Epoch 25/50\n",
      "3/3 [==============================] - 0s 13ms/step - loss: 9.6463 - val_loss: 8.7431\n",
      "Epoch 26/50\n",
      "3/3 [==============================] - 0s 13ms/step - loss: 9.6116 - val_loss: 8.6743\n",
      "Epoch 27/50\n",
      "3/3 [==============================] - 0s 15ms/step - loss: 9.5781 - val_loss: 8.5651\n",
      "Epoch 28/50\n",
      "3/3 [==============================] - 0s 14ms/step - loss: 9.5418 - val_loss: 8.6460\n",
      "Epoch 29/50\n",
      "3/3 [==============================] - 0s 17ms/step - loss: 9.5065 - val_loss: 8.5781\n",
      "Epoch 30/50\n",
      "3/3 [==============================] - 0s 15ms/step - loss: 9.4761 - val_loss: 8.6403\n",
      "Epoch 31/50\n",
      "3/3 [==============================] - 0s 15ms/step - loss: 9.4400 - val_loss: 8.4875\n",
      "Epoch 32/50\n",
      "3/3 [==============================] - 0s 14ms/step - loss: 9.4081 - val_loss: 8.4811\n",
      "Epoch 33/50\n",
      "3/3 [==============================] - 0s 14ms/step - loss: 9.3756 - val_loss: 8.5958\n",
      "Epoch 34/50\n",
      "3/3 [==============================] - 0s 16ms/step - loss: 9.3401 - val_loss: 8.5276\n",
      "Epoch 35/50\n",
      "3/3 [==============================] - 0s 13ms/step - loss: 9.3026 - val_loss: 8.5193\n",
      "Epoch 36/50\n",
      "3/3 [==============================] - 0s 15ms/step - loss: 9.2684 - val_loss: 8.5106\n",
      "Epoch 37/50\n",
      "3/3 [==============================] - 0s 14ms/step - loss: 9.2357 - val_loss: 8.4496\n",
      "Epoch 38/50\n",
      "3/3 [==============================] - 0s 14ms/step - loss: 9.2011 - val_loss: 8.4997\n",
      "Epoch 39/50\n",
      "3/3 [==============================] - 0s 16ms/step - loss: 9.1699 - val_loss: 8.4880\n",
      "Epoch 40/50\n",
      "3/3 [==============================] - 0s 15ms/step - loss: 9.1375 - val_loss: 8.5245\n",
      "Epoch 41/50\n",
      "3/3 [==============================] - 0s 15ms/step - loss: 9.1038 - val_loss: 8.5658\n",
      "Epoch 42/50\n",
      "3/3 [==============================] - 0s 15ms/step - loss: 9.0751 - val_loss: 8.4364\n",
      "Epoch 43/50\n",
      "3/3 [==============================] - 0s 14ms/step - loss: 9.0446 - val_loss: 8.4232\n",
      "Epoch 44/50\n",
      "3/3 [==============================] - 0s 14ms/step - loss: 9.0155 - val_loss: 8.4944\n",
      "Epoch 45/50\n",
      "3/3 [==============================] - 0s 15ms/step - loss: 8.9847 - val_loss: 8.5834\n",
      "Epoch 46/50\n",
      "3/3 [==============================] - 0s 15ms/step - loss: 8.9592 - val_loss: 8.4906\n",
      "Epoch 47/50\n",
      "3/3 [==============================] - 0s 14ms/step - loss: 8.9313 - val_loss: 8.4048\n",
      "Epoch 48/50\n",
      "3/3 [==============================] - 0s 16ms/step - loss: 8.9088 - val_loss: 8.4451\n",
      "Epoch 49/50\n",
      "3/3 [==============================] - 0s 14ms/step - loss: 8.8809 - val_loss: 8.5179\n",
      "Epoch 50/50\n",
      "3/3 [==============================] - 0s 15ms/step - loss: 8.8589 - val_loss: 8.5238\n",
      "============== EVALUATION ==============\n"
     ]
    },
    {
     "name": "stderr",
     "output_type": "stream",
     "text": [
      "C:\\Users\\Baejs\\anaconda3\\envs\\bae\\lib\\site-packages\\keras\\src\\engine\\training.py:3000: UserWarning: You are saving your model as an HDF5 file via `model.save()`. This file format is considered legacy. We recommend using instead the native Keras format, e.g. `model.save('my_model.keras')`.\n",
      "  saving_api.save_model(\n",
      "  0%|                                                                                           | 0/10 [00:00<?, ?it/s]"
     ]
    },
    {
     "name": "stdout",
     "output_type": "stream",
     "text": [
      "10/10 [==============================] - 0s 1ms/step\n"
     ]
    },
    {
     "name": "stderr",
     "output_type": "stream",
     "text": [
      " 10%|████████▎                                                                          | 1/10 [00:00<00:01,  7.21it/s]"
     ]
    },
    {
     "name": "stdout",
     "output_type": "stream",
     "text": [
      "10/10 [==============================] - 0s 1ms/step\n",
      "10/10 [==============================] - 0s 2ms/step\n"
     ]
    },
    {
     "name": "stderr",
     "output_type": "stream",
     "text": [
      " 30%|████████████████████████▉                                                          | 3/10 [00:00<00:00,  9.52it/s]"
     ]
    },
    {
     "name": "stdout",
     "output_type": "stream",
     "text": [
      "10/10 [==============================] - 0s 1ms/step\n",
      "10/10 [==============================] - 0s 997us/step\n"
     ]
    },
    {
     "name": "stderr",
     "output_type": "stream",
     "text": [
      " 50%|█████████████████████████████████████████▌                                         | 5/10 [00:00<00:00, 10.74it/s]"
     ]
    },
    {
     "name": "stdout",
     "output_type": "stream",
     "text": [
      "10/10 [==============================] - 0s 1ms/step\n",
      "10/10 [==============================] - 0s 1ms/step\n"
     ]
    },
    {
     "name": "stderr",
     "output_type": "stream",
     "text": [
      " 70%|██████████████████████████████████████████████████████████                         | 7/10 [00:00<00:00, 11.87it/s]"
     ]
    },
    {
     "name": "stdout",
     "output_type": "stream",
     "text": [
      "10/10 [==============================] - 0s 1ms/step\n",
      "10/10 [==============================] - 0s 1ms/step\n"
     ]
    },
    {
     "name": "stderr",
     "output_type": "stream",
     "text": [
      " 90%|██████████████████████████████████████████████████████████████████████████▋        | 9/10 [00:00<00:00, 12.54it/s]"
     ]
    },
    {
     "name": "stdout",
     "output_type": "stream",
     "text": [
      "10/10 [==============================] - 0s 1ms/step\n"
     ]
    },
    {
     "name": "stderr",
     "output_type": "stream",
     "text": [
      "100%|██████████████████████████████████████████████████████████████████████████████████| 10/10 [00:00<00:00, 11.74it/s]\n",
      "2023-08-26 01:06:03,641 - INFO - AUC : 0.2\n",
      "2023-08-26 01:06:03,642 - INFO - target_dir : ../Sample_data\n",
      "2023-08-26 01:06:03,644 - INFO - train_file num : 5\n",
      "2023-08-26 01:06:03,645 - INFO - eval_file  num : 10\n"
     ]
    },
    {
     "name": "stdout",
     "output_type": "stream",
     "text": [
      "===========================\n",
      "Model file not found for pump -> id_02. Skipping...\n",
      "Model file not found for pump -> id_02. Skipping...\n",
      "\n",
      "===========================\n"
     ]
    },
    {
     "name": "stderr",
     "output_type": "stream",
     "text": [
      "generate train_dataset: 100%|████████████████████████████████████████████████████████████| 5/5 [00:00<00:00, 74.83it/s]\n",
      "2023-08-26 01:06:03,715 - INFO - save_pickle -> ./pickle_transfer_pretrain_v3/train_pump_id_04.pickle\n",
      "2023-08-26 01:06:03,720 - INFO - save_pickle -> ./pickle_transfer_pretrain_v3/eval_files_pump_id_04.pickle\n",
      "2023-08-26 01:06:03,722 - INFO - save_pickle -> ./pickle_transfer_pretrain_v3/eval_labels_pump_id_04.pickle\n"
     ]
    },
    {
     "name": "stdout",
     "output_type": "stream",
     "text": [
      "\n",
      "Training transfer model for pump -> id_04 using pretrain model pretrain_('fan', 'valve')\n",
      "Epoch 1/50\n",
      "3/3 [==============================] - 1s 67ms/step - loss: 18.5274 - val_loss: 17.0031\n",
      "Epoch 2/50\n",
      "3/3 [==============================] - 0s 15ms/step - loss: 14.5435 - val_loss: 11.4086\n",
      "Epoch 3/50\n",
      "3/3 [==============================] - 0s 15ms/step - loss: 12.6356 - val_loss: 12.6004\n",
      "Epoch 4/50\n",
      "3/3 [==============================] - 0s 14ms/step - loss: 12.3583 - val_loss: 12.1150\n",
      "Epoch 5/50\n",
      "3/3 [==============================] - 0s 13ms/step - loss: 12.3084 - val_loss: 11.9506\n",
      "Epoch 6/50\n",
      "3/3 [==============================] - 0s 14ms/step - loss: 11.7147 - val_loss: 13.1088\n",
      "Epoch 7/50\n",
      "3/3 [==============================] - 0s 14ms/step - loss: 11.5890 - val_loss: 13.3447\n",
      "Epoch 8/50\n",
      "3/3 [==============================] - 0s 14ms/step - loss: 11.4037 - val_loss: 13.1544\n",
      "Epoch 9/50\n",
      "3/3 [==============================] - 0s 14ms/step - loss: 11.1231 - val_loss: 12.8564\n",
      "Epoch 10/50\n",
      "3/3 [==============================] - 0s 14ms/step - loss: 11.0872 - val_loss: 12.7599\n",
      "Epoch 11/50\n",
      "3/3 [==============================] - 0s 13ms/step - loss: 11.0272 - val_loss: 12.0341\n",
      "Epoch 12/50\n",
      "3/3 [==============================] - 0s 15ms/step - loss: 10.8859 - val_loss: 11.6843\n",
      "Epoch 13/50\n",
      "3/3 [==============================] - 0s 14ms/step - loss: 10.8088 - val_loss: 11.8504\n",
      "Epoch 14/50\n",
      "3/3 [==============================] - 0s 14ms/step - loss: 10.7668 - val_loss: 11.6974\n",
      "Epoch 15/50\n",
      "3/3 [==============================] - 0s 14ms/step - loss: 10.7019 - val_loss: 11.6571\n",
      "Epoch 16/50\n",
      "3/3 [==============================] - 0s 14ms/step - loss: 10.6379 - val_loss: 11.8529\n",
      "Epoch 17/50\n",
      "3/3 [==============================] - 0s 15ms/step - loss: 10.5896 - val_loss: 11.6816\n",
      "Epoch 18/50\n",
      "3/3 [==============================] - 0s 14ms/step - loss: 10.5421 - val_loss: 11.8127\n",
      "Epoch 19/50\n",
      "3/3 [==============================] - 0s 14ms/step - loss: 10.5001 - val_loss: 11.8134\n",
      "Epoch 20/50\n",
      "3/3 [==============================] - 0s 16ms/step - loss: 10.4567 - val_loss: 11.7225\n",
      "Epoch 21/50\n",
      "3/3 [==============================] - 0s 16ms/step - loss: 10.4205 - val_loss: 11.9032\n",
      "Epoch 22/50\n",
      "3/3 [==============================] - 0s 15ms/step - loss: 10.3878 - val_loss: 11.5811\n",
      "Epoch 23/50\n",
      "3/3 [==============================] - 0s 15ms/step - loss: 10.3519 - val_loss: 11.4448\n",
      "Epoch 24/50\n",
      "3/3 [==============================] - 0s 14ms/step - loss: 10.3175 - val_loss: 11.3212\n",
      "Epoch 25/50\n",
      "3/3 [==============================] - 0s 14ms/step - loss: 10.2871 - val_loss: 11.3381\n",
      "Epoch 26/50\n",
      "3/3 [==============================] - 0s 14ms/step - loss: 10.2585 - val_loss: 11.3652\n",
      "Epoch 27/50\n",
      "3/3 [==============================] - 0s 14ms/step - loss: 10.2313 - val_loss: 11.3070\n",
      "Epoch 28/50\n",
      "3/3 [==============================] - 0s 14ms/step - loss: 10.2079 - val_loss: 11.2345\n",
      "Epoch 29/50\n",
      "3/3 [==============================] - 0s 14ms/step - loss: 10.1832 - val_loss: 11.3791\n",
      "Epoch 30/50\n",
      "3/3 [==============================] - 0s 13ms/step - loss: 10.1588 - val_loss: 11.2476\n",
      "Epoch 31/50\n",
      "3/3 [==============================] - 0s 14ms/step - loss: 10.1428 - val_loss: 11.0150\n",
      "Epoch 32/50\n",
      "3/3 [==============================] - 0s 14ms/step - loss: 10.1164 - val_loss: 11.2214\n",
      "Epoch 33/50\n",
      "3/3 [==============================] - 0s 14ms/step - loss: 10.0976 - val_loss: 11.2050\n",
      "Epoch 34/50\n",
      "3/3 [==============================] - 0s 14ms/step - loss: 10.0774 - val_loss: 11.0406\n",
      "Epoch 35/50\n",
      "3/3 [==============================] - 0s 14ms/step - loss: 10.0586 - val_loss: 11.0394\n",
      "Epoch 36/50\n",
      "3/3 [==============================] - 0s 13ms/step - loss: 10.0395 - val_loss: 10.9211\n",
      "Epoch 37/50\n",
      "3/3 [==============================] - 0s 14ms/step - loss: 10.0215 - val_loss: 10.9447\n",
      "Epoch 38/50\n",
      "3/3 [==============================] - 0s 14ms/step - loss: 10.0044 - val_loss: 10.9221\n",
      "Epoch 39/50\n",
      "3/3 [==============================] - 0s 13ms/step - loss: 9.9871 - val_loss: 10.8189\n",
      "Epoch 40/50\n",
      "3/3 [==============================] - 0s 14ms/step - loss: 9.9700 - val_loss: 10.7657\n",
      "Epoch 41/50\n",
      "3/3 [==============================] - 0s 15ms/step - loss: 9.9507 - val_loss: 10.8945\n",
      "Epoch 42/50\n",
      "3/3 [==============================] - 0s 14ms/step - loss: 9.9373 - val_loss: 10.9013\n",
      "Epoch 43/50\n",
      "3/3 [==============================] - 0s 14ms/step - loss: 9.9168 - val_loss: 10.6439\n",
      "Epoch 44/50\n",
      "3/3 [==============================] - 0s 14ms/step - loss: 9.8986 - val_loss: 10.5174\n",
      "Epoch 45/50\n",
      "3/3 [==============================] - 0s 14ms/step - loss: 9.8819 - val_loss: 10.5186\n",
      "Epoch 46/50\n",
      "3/3 [==============================] - 0s 14ms/step - loss: 9.8642 - val_loss: 10.6776\n",
      "Epoch 47/50\n",
      "3/3 [==============================] - 0s 15ms/step - loss: 9.8464 - val_loss: 10.5392\n",
      "Epoch 48/50\n",
      "3/3 [==============================] - 0s 14ms/step - loss: 9.8255 - val_loss: 10.5627\n",
      "Epoch 49/50\n",
      "3/3 [==============================] - 0s 14ms/step - loss: 9.8033 - val_loss: 10.4780\n",
      "Epoch 50/50\n",
      "3/3 [==============================] - 0s 14ms/step - loss: 9.7850 - val_loss: 10.4480\n",
      "============== EVALUATION ==============\n"
     ]
    },
    {
     "name": "stderr",
     "output_type": "stream",
     "text": [
      "C:\\Users\\Baejs\\anaconda3\\envs\\bae\\lib\\site-packages\\keras\\src\\engine\\training.py:3000: UserWarning: You are saving your model as an HDF5 file via `model.save()`. This file format is considered legacy. We recommend using instead the native Keras format, e.g. `model.save('my_model.keras')`.\n",
      "  saving_api.save_model(\n",
      "  0%|                                                                                           | 0/10 [00:00<?, ?it/s]"
     ]
    },
    {
     "name": "stdout",
     "output_type": "stream",
     "text": [
      "10/10 [==============================] - 0s 997us/step\n"
     ]
    },
    {
     "name": "stderr",
     "output_type": "stream",
     "text": [
      " 10%|████████▎                                                                          | 1/10 [00:00<00:01,  8.95it/s]"
     ]
    },
    {
     "name": "stdout",
     "output_type": "stream",
     "text": [
      "10/10 [==============================] - 0s 997us/step\n",
      "10/10 [==============================] - 0s 1ms/step\n"
     ]
    },
    {
     "name": "stderr",
     "output_type": "stream",
     "text": [
      " 30%|████████████████████████▉                                                          | 3/10 [00:00<00:00, 12.45it/s]"
     ]
    },
    {
     "name": "stdout",
     "output_type": "stream",
     "text": [
      "10/10 [==============================] - 0s 997us/step\n",
      "10/10 [==============================] - 0s 1ms/step\n"
     ]
    },
    {
     "name": "stderr",
     "output_type": "stream",
     "text": [
      " 50%|█████████████████████████████████████████▌                                         | 5/10 [00:00<00:00, 12.74it/s]"
     ]
    },
    {
     "name": "stdout",
     "output_type": "stream",
     "text": [
      "10/10 [==============================] - 0s 1ms/step\n",
      "10/10 [==============================] - 0s 997us/step\n"
     ]
    },
    {
     "name": "stderr",
     "output_type": "stream",
     "text": [
      " 70%|██████████████████████████████████████████████████████████                         | 7/10 [00:00<00:00, 12.65it/s]"
     ]
    },
    {
     "name": "stdout",
     "output_type": "stream",
     "text": [
      "10/10 [==============================] - 0s 997us/step\n",
      "10/10 [==============================] - 0s 997us/step\n"
     ]
    },
    {
     "name": "stderr",
     "output_type": "stream",
     "text": [
      " 90%|██████████████████████████████████████████████████████████████████████████▋        | 9/10 [00:00<00:00, 13.14it/s]"
     ]
    },
    {
     "name": "stdout",
     "output_type": "stream",
     "text": [
      "10/10 [==============================] - 0s 1ms/step\n"
     ]
    },
    {
     "name": "stderr",
     "output_type": "stream",
     "text": [
      "100%|██████████████████████████████████████████████████████████████████████████████████| 10/10 [00:00<00:00, 12.87it/s]\n",
      "2023-08-26 01:06:07,280 - INFO - AUC : 0.7200000000000001\n"
     ]
    },
    {
     "name": "stdout",
     "output_type": "stream",
     "text": [
      "===========================\n",
      "\n",
      "Training transfer model for pump -> id_04 using pretrain model pretrain_('fan', 'slider')\n",
      "Epoch 1/50\n",
      "3/3 [==============================] - 1s 58ms/step - loss: 20.7382 - val_loss: 16.3710\n",
      "Epoch 2/50\n",
      "3/3 [==============================] - 0s 14ms/step - loss: 15.2929 - val_loss: 14.7141\n",
      "Epoch 3/50\n",
      "3/3 [==============================] - 0s 15ms/step - loss: 13.4608 - val_loss: 12.7513\n",
      "Epoch 4/50\n",
      "3/3 [==============================] - 0s 14ms/step - loss: 13.7640 - val_loss: 11.7711\n",
      "Epoch 5/50\n",
      "3/3 [==============================] - 0s 14ms/step - loss: 12.6193 - val_loss: 13.6308\n",
      "Epoch 6/50\n",
      "3/3 [==============================] - 0s 14ms/step - loss: 12.4765 - val_loss: 13.1664\n",
      "Epoch 7/50\n",
      "3/3 [==============================] - 0s 14ms/step - loss: 12.1558 - val_loss: 13.5139\n",
      "Epoch 8/50\n",
      "3/3 [==============================] - 0s 14ms/step - loss: 11.8198 - val_loss: 13.6864\n",
      "Epoch 9/50\n",
      "3/3 [==============================] - 0s 14ms/step - loss: 11.7362 - val_loss: 12.9323\n",
      "Epoch 10/50\n",
      "3/3 [==============================] - 0s 14ms/step - loss: 11.4650 - val_loss: 12.3075\n",
      "Epoch 11/50\n",
      "3/3 [==============================] - 0s 13ms/step - loss: 11.4599 - val_loss: 11.9418\n",
      "Epoch 12/50\n",
      "3/3 [==============================] - 0s 13ms/step - loss: 11.3108 - val_loss: 11.9286\n",
      "Epoch 13/50\n",
      "3/3 [==============================] - 0s 14ms/step - loss: 11.2391 - val_loss: 11.7671\n",
      "Epoch 14/50\n",
      "3/3 [==============================] - 0s 14ms/step - loss: 11.1676 - val_loss: 11.9312\n",
      "Epoch 15/50\n",
      "3/3 [==============================] - 0s 13ms/step - loss: 11.0503 - val_loss: 12.3581\n",
      "Epoch 16/50\n",
      "3/3 [==============================] - 0s 13ms/step - loss: 11.0063 - val_loss: 12.2714\n",
      "Epoch 17/50\n",
      "3/3 [==============================] - 0s 14ms/step - loss: 10.9250 - val_loss: 12.1964\n",
      "Epoch 18/50\n",
      "3/3 [==============================] - 0s 15ms/step - loss: 10.8403 - val_loss: 12.1078\n",
      "Epoch 19/50\n",
      "3/3 [==============================] - 0s 14ms/step - loss: 10.7853 - val_loss: 11.9341\n",
      "Epoch 20/50\n",
      "3/3 [==============================] - 0s 13ms/step - loss: 10.7199 - val_loss: 11.7618\n",
      "Epoch 21/50\n",
      "3/3 [==============================] - 0s 13ms/step - loss: 10.6626 - val_loss: 11.8294\n",
      "Epoch 22/50\n",
      "3/3 [==============================] - 0s 13ms/step - loss: 10.6071 - val_loss: 11.8187\n",
      "Epoch 23/50\n",
      "3/3 [==============================] - 0s 13ms/step - loss: 10.5566 - val_loss: 11.7068\n",
      "Epoch 24/50\n",
      "3/3 [==============================] - 0s 13ms/step - loss: 10.5016 - val_loss: 11.7042\n",
      "Epoch 25/50\n",
      "3/3 [==============================] - 0s 14ms/step - loss: 10.4516 - val_loss: 11.6543\n",
      "Epoch 26/50\n",
      "3/3 [==============================] - 0s 14ms/step - loss: 10.4019 - val_loss: 11.5225\n",
      "Epoch 27/50\n",
      "3/3 [==============================] - 0s 14ms/step - loss: 10.3504 - val_loss: 11.5458\n",
      "Epoch 28/50\n",
      "3/3 [==============================] - 0s 15ms/step - loss: 10.3010 - val_loss: 11.5163\n",
      "Epoch 29/50\n",
      "3/3 [==============================] - 0s 14ms/step - loss: 10.2491 - val_loss: 11.2228\n",
      "Epoch 30/50\n",
      "3/3 [==============================] - 0s 14ms/step - loss: 10.2022 - val_loss: 11.2644\n",
      "Epoch 31/50\n",
      "3/3 [==============================] - 0s 13ms/step - loss: 10.1464 - val_loss: 11.1231\n",
      "Epoch 32/50\n",
      "3/3 [==============================] - 0s 14ms/step - loss: 10.0954 - val_loss: 11.0415\n",
      "Epoch 33/50\n",
      "3/3 [==============================] - 0s 13ms/step - loss: 10.0385 - val_loss: 11.1664\n",
      "Epoch 34/50\n",
      "3/3 [==============================] - 0s 14ms/step - loss: 9.9842 - val_loss: 11.0970\n",
      "Epoch 35/50\n",
      "3/3 [==============================] - 0s 14ms/step - loss: 9.9264 - val_loss: 10.7013\n",
      "Epoch 36/50\n",
      "3/3 [==============================] - 0s 13ms/step - loss: 9.8619 - val_loss: 10.6595\n",
      "Epoch 37/50\n",
      "3/3 [==============================] - 0s 13ms/step - loss: 9.7987 - val_loss: 10.5797\n",
      "Epoch 38/50\n",
      "3/3 [==============================] - 0s 14ms/step - loss: 9.7285 - val_loss: 10.5961\n",
      "Epoch 39/50\n",
      "3/3 [==============================] - 0s 17ms/step - loss: 9.6593 - val_loss: 10.4327\n",
      "Epoch 40/50\n",
      "3/3 [==============================] - 0s 14ms/step - loss: 9.5819 - val_loss: 10.0594\n",
      "Epoch 41/50\n",
      "3/3 [==============================] - 0s 14ms/step - loss: 9.5058 - val_loss: 9.9755\n",
      "Epoch 42/50\n",
      "3/3 [==============================] - 0s 13ms/step - loss: 9.4223 - val_loss: 9.8706\n",
      "Epoch 43/50\n",
      "3/3 [==============================] - 0s 14ms/step - loss: 9.3355 - val_loss: 9.7316\n",
      "Epoch 44/50\n",
      "3/3 [==============================] - 0s 14ms/step - loss: 9.2415 - val_loss: 9.5898\n",
      "Epoch 45/50\n",
      "3/3 [==============================] - 0s 13ms/step - loss: 9.1492 - val_loss: 9.3709\n",
      "Epoch 46/50\n",
      "3/3 [==============================] - 0s 14ms/step - loss: 9.0526 - val_loss: 9.0012\n",
      "Epoch 47/50\n",
      "3/3 [==============================] - 0s 14ms/step - loss: 8.9508 - val_loss: 8.9083\n",
      "Epoch 48/50\n",
      "3/3 [==============================] - 0s 13ms/step - loss: 8.8493 - val_loss: 8.7391\n",
      "Epoch 49/50\n",
      "3/3 [==============================] - 0s 15ms/step - loss: 8.7460 - val_loss: 8.6082\n",
      "Epoch 50/50\n",
      "3/3 [==============================] - 0s 14ms/step - loss: 8.6436 - val_loss: 8.3056\n",
      "============== EVALUATION ==============\n"
     ]
    },
    {
     "name": "stderr",
     "output_type": "stream",
     "text": [
      "C:\\Users\\Baejs\\anaconda3\\envs\\bae\\lib\\site-packages\\keras\\src\\engine\\training.py:3000: UserWarning: You are saving your model as an HDF5 file via `model.save()`. This file format is considered legacy. We recommend using instead the native Keras format, e.g. `model.save('my_model.keras')`.\n",
      "  saving_api.save_model(\n",
      "  0%|                                                                                           | 0/10 [00:00<?, ?it/s]"
     ]
    },
    {
     "name": "stdout",
     "output_type": "stream",
     "text": [
      "10/10 [==============================] - 0s 1ms/step\n"
     ]
    },
    {
     "name": "stderr",
     "output_type": "stream",
     "text": [
      " 10%|████████▎                                                                          | 1/10 [00:00<00:00,  9.46it/s]"
     ]
    },
    {
     "name": "stdout",
     "output_type": "stream",
     "text": [
      "10/10 [==============================] - 0s 1ms/step\n",
      "10/10 [==============================] - 0s 1ms/step\n"
     ]
    },
    {
     "name": "stderr",
     "output_type": "stream",
     "text": [
      " 30%|████████████████████████▉                                                          | 3/10 [00:00<00:00, 12.53it/s]"
     ]
    },
    {
     "name": "stdout",
     "output_type": "stream",
     "text": [
      "10/10 [==============================] - 0s 1ms/step\n",
      "10/10 [==============================] - 0s 1ms/step\n"
     ]
    },
    {
     "name": "stderr",
     "output_type": "stream",
     "text": [
      " 50%|█████████████████████████████████████████▌                                         | 5/10 [00:00<00:00, 13.39it/s]"
     ]
    },
    {
     "name": "stdout",
     "output_type": "stream",
     "text": [
      "10/10 [==============================] - 0s 1ms/step\n",
      "10/10 [==============================] - 0s 1ms/step\n"
     ]
    },
    {
     "name": "stderr",
     "output_type": "stream",
     "text": [
      " 70%|██████████████████████████████████████████████████████████                         | 7/10 [00:00<00:00, 13.86it/s]"
     ]
    },
    {
     "name": "stdout",
     "output_type": "stream",
     "text": [
      "10/10 [==============================] - 0s 1ms/step\n",
      "10/10 [==============================] - 0s 986us/step\n"
     ]
    },
    {
     "name": "stderr",
     "output_type": "stream",
     "text": [
      " 90%|██████████████████████████████████████████████████████████████████████████▋        | 9/10 [00:00<00:00, 13.63it/s]"
     ]
    },
    {
     "name": "stdout",
     "output_type": "stream",
     "text": [
      "10/10 [==============================] - 0s 1ms/step\n"
     ]
    },
    {
     "name": "stderr",
     "output_type": "stream",
     "text": [
      "100%|██████████████████████████████████████████████████████████████████████████████████| 10/10 [00:00<00:00, 13.41it/s]\n",
      "2023-08-26 01:06:10,675 - INFO - AUC : 0.8400000000000001\n"
     ]
    },
    {
     "name": "stdout",
     "output_type": "stream",
     "text": [
      "===========================\n",
      "Model file not found for pump -> id_04. Skipping...\n",
      "\n",
      "Training transfer model for pump -> id_04 using pretrain model pretrain_('valve', 'slider')\n",
      "Epoch 1/50\n",
      "3/3 [==============================] - 1s 60ms/step - loss: 22.1050 - val_loss: 22.3092\n",
      "Epoch 2/50\n",
      "3/3 [==============================] - 0s 16ms/step - loss: 19.7421 - val_loss: 11.1023\n",
      "Epoch 3/50\n",
      "3/3 [==============================] - 0s 14ms/step - loss: 13.6266 - val_loss: 14.3249\n",
      "Epoch 4/50\n",
      "3/3 [==============================] - 0s 13ms/step - loss: 13.7773 - val_loss: 13.3572\n",
      "Epoch 5/50\n",
      "3/3 [==============================] - 0s 14ms/step - loss: 13.1811 - val_loss: 13.3356\n",
      "Epoch 6/50\n",
      "3/3 [==============================] - 0s 13ms/step - loss: 12.1186 - val_loss: 13.3454\n",
      "Epoch 7/50\n",
      "3/3 [==============================] - 0s 15ms/step - loss: 11.9731 - val_loss: 13.9928\n",
      "Epoch 8/50\n",
      "3/3 [==============================] - 0s 15ms/step - loss: 11.4859 - val_loss: 13.5992\n",
      "Epoch 9/50\n",
      "3/3 [==============================] - 0s 13ms/step - loss: 11.1273 - val_loss: 11.6843\n",
      "Epoch 10/50\n",
      "3/3 [==============================] - 0s 13ms/step - loss: 11.0413 - val_loss: 11.6111\n",
      "Epoch 11/50\n",
      "3/3 [==============================] - 0s 13ms/step - loss: 10.6268 - val_loss: 12.1487\n",
      "Epoch 12/50\n",
      "3/3 [==============================] - 0s 13ms/step - loss: 10.7194 - val_loss: 11.3921\n",
      "Epoch 13/50\n",
      "3/3 [==============================] - 0s 13ms/step - loss: 10.5001 - val_loss: 11.4561\n",
      "Epoch 14/50\n",
      "3/3 [==============================] - 0s 13ms/step - loss: 10.4846 - val_loss: 11.6641\n",
      "Epoch 15/50\n",
      "3/3 [==============================] - 0s 13ms/step - loss: 10.4119 - val_loss: 11.6786\n",
      "Epoch 16/50\n",
      "3/3 [==============================] - 0s 13ms/step - loss: 10.3078 - val_loss: 11.1663\n",
      "Epoch 17/50\n",
      "3/3 [==============================] - 0s 14ms/step - loss: 10.2958 - val_loss: 11.1701\n",
      "Epoch 18/50\n",
      "3/3 [==============================] - 0s 14ms/step - loss: 10.2284 - val_loss: 11.4888\n",
      "Epoch 19/50\n",
      "3/3 [==============================] - 0s 14ms/step - loss: 10.1858 - val_loss: 11.2815\n",
      "Epoch 20/50\n",
      "3/3 [==============================] - 0s 14ms/step - loss: 10.1567 - val_loss: 11.1722\n",
      "Epoch 21/50\n",
      "3/3 [==============================] - 0s 14ms/step - loss: 10.1215 - val_loss: 11.2303\n",
      "Epoch 22/50\n",
      "3/3 [==============================] - 0s 14ms/step - loss: 10.0945 - val_loss: 11.0640\n",
      "Epoch 23/50\n",
      "3/3 [==============================] - 0s 14ms/step - loss: 10.0644 - val_loss: 10.9955\n",
      "Epoch 24/50\n",
      "3/3 [==============================] - 0s 14ms/step - loss: 10.0370 - val_loss: 11.0843\n",
      "Epoch 25/50\n",
      "3/3 [==============================] - 0s 14ms/step - loss: 10.0136 - val_loss: 11.0001\n",
      "Epoch 26/50\n",
      "3/3 [==============================] - 0s 15ms/step - loss: 9.9877 - val_loss: 10.9173\n",
      "Epoch 27/50\n",
      "3/3 [==============================] - 0s 14ms/step - loss: 9.9615 - val_loss: 10.8724\n",
      "Epoch 28/50\n",
      "3/3 [==============================] - 0s 16ms/step - loss: 9.9408 - val_loss: 10.6091\n",
      "Epoch 29/50\n",
      "3/3 [==============================] - 0s 13ms/step - loss: 9.9177 - val_loss: 10.7449\n",
      "Epoch 30/50\n",
      "3/3 [==============================] - 0s 29ms/step - loss: 9.8939 - val_loss: 10.8052\n",
      "Epoch 31/50\n",
      "3/3 [==============================] - 0s 13ms/step - loss: 9.8690 - val_loss: 10.6853\n",
      "Epoch 32/50\n",
      "3/3 [==============================] - 0s 16ms/step - loss: 9.8456 - val_loss: 10.6399\n",
      "Epoch 33/50\n",
      "3/3 [==============================] - 0s 14ms/step - loss: 9.8204 - val_loss: 10.6623\n",
      "Epoch 34/50\n",
      "3/3 [==============================] - 0s 13ms/step - loss: 9.7973 - val_loss: 10.6329\n",
      "Epoch 35/50\n",
      "3/3 [==============================] - 0s 17ms/step - loss: 9.7716 - val_loss: 10.4129\n",
      "Epoch 36/50\n",
      "3/3 [==============================] - 0s 14ms/step - loss: 9.7458 - val_loss: 10.3638\n",
      "Epoch 37/50\n",
      "3/3 [==============================] - 0s 14ms/step - loss: 9.7209 - val_loss: 10.3159\n",
      "Epoch 38/50\n",
      "3/3 [==============================] - 0s 14ms/step - loss: 9.6984 - val_loss: 10.2931\n",
      "Epoch 39/50\n",
      "3/3 [==============================] - 0s 13ms/step - loss: 9.6671 - val_loss: 10.3915\n",
      "Epoch 40/50\n",
      "3/3 [==============================] - 0s 13ms/step - loss: 9.6405 - val_loss: 10.2070\n",
      "Epoch 41/50\n",
      "3/3 [==============================] - 0s 16ms/step - loss: 9.6120 - val_loss: 10.2502\n",
      "Epoch 42/50\n",
      "3/3 [==============================] - 0s 15ms/step - loss: 9.5829 - val_loss: 10.0121\n",
      "Epoch 43/50\n",
      "3/3 [==============================] - 0s 14ms/step - loss: 9.5504 - val_loss: 10.0755\n",
      "Epoch 44/50\n",
      "3/3 [==============================] - 0s 14ms/step - loss: 9.5172 - val_loss: 9.8335\n",
      "Epoch 45/50\n",
      "3/3 [==============================] - 0s 14ms/step - loss: 9.4862 - val_loss: 9.8664\n",
      "Epoch 46/50\n",
      "3/3 [==============================] - 0s 13ms/step - loss: 9.4507 - val_loss: 9.7420\n",
      "Epoch 47/50\n",
      "3/3 [==============================] - 0s 13ms/step - loss: 9.4173 - val_loss: 9.7486\n",
      "Epoch 48/50\n",
      "3/3 [==============================] - 0s 14ms/step - loss: 9.3813 - val_loss: 9.5060\n",
      "Epoch 49/50\n",
      "3/3 [==============================] - 0s 14ms/step - loss: 9.3481 - val_loss: 9.6111\n",
      "Epoch 50/50\n",
      "3/3 [==============================] - 0s 15ms/step - loss: 9.3080 - val_loss: 9.4120\n",
      "============== EVALUATION ==============\n"
     ]
    },
    {
     "name": "stderr",
     "output_type": "stream",
     "text": [
      "C:\\Users\\Baejs\\anaconda3\\envs\\bae\\lib\\site-packages\\keras\\src\\engine\\training.py:3000: UserWarning: You are saving your model as an HDF5 file via `model.save()`. This file format is considered legacy. We recommend using instead the native Keras format, e.g. `model.save('my_model.keras')`.\n",
      "  saving_api.save_model(\n",
      "  0%|                                                                                           | 0/10 [00:00<?, ?it/s]"
     ]
    },
    {
     "name": "stdout",
     "output_type": "stream",
     "text": [
      "10/10 [==============================] - 0s 998us/step\n"
     ]
    },
    {
     "name": "stderr",
     "output_type": "stream",
     "text": [
      " 10%|████████▎                                                                          | 1/10 [00:00<00:00,  9.39it/s]"
     ]
    },
    {
     "name": "stdout",
     "output_type": "stream",
     "text": [
      "10/10 [==============================] - 0s 1ms/step\n"
     ]
    },
    {
     "name": "stderr",
     "output_type": "stream",
     "text": [
      " 20%|████████████████▌                                                                  | 2/10 [00:00<00:01,  4.63it/s]"
     ]
    },
    {
     "name": "stdout",
     "output_type": "stream",
     "text": [
      "10/10 [==============================] - 0s 1ms/step\n",
      "10/10 [==============================] - 0s 1ms/step\n"
     ]
    },
    {
     "name": "stderr",
     "output_type": "stream",
     "text": [
      " 40%|█████████████████████████████████▏                                                 | 4/10 [00:00<00:00,  7.95it/s]"
     ]
    },
    {
     "name": "stdout",
     "output_type": "stream",
     "text": [
      "10/10 [==============================] - 0s 1ms/step\n",
      "10/10 [==============================] - 0s 1ms/step\n"
     ]
    },
    {
     "name": "stderr",
     "output_type": "stream",
     "text": [
      " 60%|█████████████████████████████████████████████████▊                                 | 6/10 [00:00<00:00, 10.03it/s]"
     ]
    },
    {
     "name": "stdout",
     "output_type": "stream",
     "text": [
      "10/10 [==============================] - 0s 1ms/step\n",
      "10/10 [==============================] - 0s 1ms/step\n"
     ]
    },
    {
     "name": "stderr",
     "output_type": "stream",
     "text": [
      " 80%|██████████████████████████████████████████████████████████████████▍                | 8/10 [00:00<00:00, 11.40it/s]"
     ]
    },
    {
     "name": "stdout",
     "output_type": "stream",
     "text": [
      "10/10 [==============================] - 0s 1ms/step\n",
      "10/10 [==============================] - 0s 1ms/step\n"
     ]
    },
    {
     "name": "stderr",
     "output_type": "stream",
     "text": [
      "100%|██████████████████████████████████████████████████████████████████████████████████| 10/10 [00:00<00:00, 10.29it/s]\n",
      "2023-08-26 01:06:14,322 - INFO - AUC : 0.76\n",
      "2023-08-26 01:06:14,323 - INFO - target_dir : ../Sample_data\n",
      "2023-08-26 01:06:14,325 - INFO - train_file num : 5\n",
      "2023-08-26 01:06:14,326 - INFO - eval_file  num : 10\n"
     ]
    },
    {
     "name": "stdout",
     "output_type": "stream",
     "text": [
      "===========================\n",
      "Model file not found for pump -> id_04. Skipping...\n",
      "Model file not found for pump -> id_04. Skipping...\n",
      "\n",
      "===========================\n"
     ]
    },
    {
     "name": "stderr",
     "output_type": "stream",
     "text": [
      "generate train_dataset: 100%|████████████████████████████████████████████████████████████| 5/5 [00:00<00:00, 82.19it/s]\n",
      "2023-08-26 01:06:14,390 - INFO - save_pickle -> ./pickle_transfer_pretrain_v3/train_pump_id_06.pickle\n",
      "2023-08-26 01:06:14,395 - INFO - save_pickle -> ./pickle_transfer_pretrain_v3/eval_files_pump_id_06.pickle\n",
      "2023-08-26 01:06:14,397 - INFO - save_pickle -> ./pickle_transfer_pretrain_v3/eval_labels_pump_id_06.pickle\n"
     ]
    },
    {
     "name": "stdout",
     "output_type": "stream",
     "text": [
      "\n",
      "Training transfer model for pump -> id_06 using pretrain model pretrain_('fan', 'valve')\n",
      "Epoch 1/50\n",
      "3/3 [==============================] - 1s 64ms/step - loss: 14.5266 - val_loss: 16.2036\n",
      "Epoch 2/50\n",
      "3/3 [==============================] - 0s 15ms/step - loss: 12.5023 - val_loss: 14.2578\n",
      "Epoch 3/50\n",
      "3/3 [==============================] - 0s 19ms/step - loss: 9.3745 - val_loss: 14.6069\n",
      "Epoch 4/50\n",
      "3/3 [==============================] - 0s 14ms/step - loss: 9.9409 - val_loss: 11.7299\n",
      "Epoch 5/50\n",
      "3/3 [==============================] - 0s 14ms/step - loss: 8.7947 - val_loss: 13.6771\n",
      "Epoch 6/50\n",
      "3/3 [==============================] - 0s 15ms/step - loss: 8.5775 - val_loss: 12.9534\n",
      "Epoch 7/50\n",
      "3/3 [==============================] - 0s 14ms/step - loss: 8.3357 - val_loss: 12.3564\n",
      "Epoch 8/50\n",
      "3/3 [==============================] - 0s 17ms/step - loss: 7.9102 - val_loss: 12.3872\n",
      "Epoch 9/50\n",
      "3/3 [==============================] - 0s 14ms/step - loss: 8.0063 - val_loss: 11.4431\n",
      "Epoch 10/50\n",
      "3/3 [==============================] - 0s 15ms/step - loss: 7.6671 - val_loss: 11.1340\n",
      "Epoch 11/50\n",
      "3/3 [==============================] - 0s 14ms/step - loss: 7.5928 - val_loss: 11.0032\n",
      "Epoch 12/50\n",
      "3/3 [==============================] - 0s 14ms/step - loss: 7.4859 - val_loss: 10.9440\n",
      "Epoch 13/50\n",
      "3/3 [==============================] - 0s 14ms/step - loss: 7.3378 - val_loss: 11.0698\n",
      "Epoch 14/50\n",
      "3/3 [==============================] - 0s 17ms/step - loss: 7.2988 - val_loss: 10.9426\n",
      "Epoch 15/50\n",
      "3/3 [==============================] - 0s 14ms/step - loss: 7.2247 - val_loss: 10.7904\n",
      "Epoch 16/50\n",
      "3/3 [==============================] - 0s 17ms/step - loss: 7.1190 - val_loss: 10.8942\n",
      "Epoch 17/50\n",
      "3/3 [==============================] - 0s 16ms/step - loss: 7.0604 - val_loss: 10.7924\n",
      "Epoch 18/50\n",
      "3/3 [==============================] - 0s 14ms/step - loss: 6.9943 - val_loss: 10.7397\n",
      "Epoch 19/50\n",
      "3/3 [==============================] - 0s 14ms/step - loss: 6.9247 - val_loss: 10.6970\n",
      "Epoch 20/50\n",
      "3/3 [==============================] - 0s 28ms/step - loss: 6.8627 - val_loss: 10.7310\n",
      "Epoch 21/50\n",
      "3/3 [==============================] - 0s 13ms/step - loss: 6.8082 - val_loss: 10.7408\n",
      "Epoch 22/50\n",
      "3/3 [==============================] - 0s 13ms/step - loss: 6.7543 - val_loss: 10.6304\n",
      "Epoch 23/50\n",
      "3/3 [==============================] - 0s 14ms/step - loss: 6.7030 - val_loss: 10.7807\n",
      "Epoch 24/50\n",
      "3/3 [==============================] - 0s 13ms/step - loss: 6.6568 - val_loss: 10.8281\n",
      "Epoch 25/50\n",
      "3/3 [==============================] - 0s 17ms/step - loss: 6.6118 - val_loss: 10.7149\n",
      "Epoch 26/50\n",
      "3/3 [==============================] - 0s 14ms/step - loss: 6.5721 - val_loss: 10.8019\n",
      "Epoch 27/50\n",
      "3/3 [==============================] - 0s 14ms/step - loss: 6.5341 - val_loss: 10.7525\n",
      "Epoch 28/50\n",
      "3/3 [==============================] - 0s 15ms/step - loss: 6.4975 - val_loss: 10.8227\n",
      "Epoch 29/50\n",
      "3/3 [==============================] - 0s 14ms/step - loss: 6.4668 - val_loss: 10.7287\n",
      "Epoch 30/50\n",
      "3/3 [==============================] - 0s 16ms/step - loss: 6.4382 - val_loss: 10.7613\n",
      "Epoch 31/50\n",
      "3/3 [==============================] - 0s 14ms/step - loss: 6.4139 - val_loss: 10.8225\n",
      "Epoch 32/50\n",
      "3/3 [==============================] - 0s 13ms/step - loss: 6.3878 - val_loss: 10.8167\n",
      "Epoch 33/50\n",
      "3/3 [==============================] - 0s 13ms/step - loss: 6.3671 - val_loss: 10.7749\n",
      "Epoch 34/50\n",
      "3/3 [==============================] - 0s 14ms/step - loss: 6.3482 - val_loss: 10.8329\n",
      "Epoch 35/50\n",
      "3/3 [==============================] - 0s 14ms/step - loss: 6.3307 - val_loss: 10.7201\n",
      "Epoch 36/50\n",
      "3/3 [==============================] - 0s 14ms/step - loss: 6.3167 - val_loss: 10.8302\n",
      "Epoch 37/50\n",
      "3/3 [==============================] - 0s 14ms/step - loss: 6.3035 - val_loss: 10.8263\n",
      "Epoch 38/50\n",
      "3/3 [==============================] - 0s 14ms/step - loss: 6.2906 - val_loss: 10.7036\n",
      "Epoch 39/50\n",
      "3/3 [==============================] - 0s 14ms/step - loss: 6.2803 - val_loss: 10.8913\n",
      "Epoch 40/50\n",
      "3/3 [==============================] - 0s 14ms/step - loss: 6.2695 - val_loss: 10.8160\n",
      "Epoch 41/50\n",
      "3/3 [==============================] - 0s 14ms/step - loss: 6.2605 - val_loss: 10.7386\n",
      "Epoch 42/50\n",
      "3/3 [==============================] - 0s 15ms/step - loss: 6.2508 - val_loss: 10.8931\n",
      "Epoch 43/50\n",
      "3/3 [==============================] - 0s 15ms/step - loss: 6.2451 - val_loss: 10.8517\n",
      "Epoch 44/50\n",
      "3/3 [==============================] - 0s 15ms/step - loss: 6.2353 - val_loss: 10.6956\n",
      "Epoch 45/50\n",
      "3/3 [==============================] - 0s 17ms/step - loss: 6.2297 - val_loss: 10.8407\n",
      "Epoch 46/50\n",
      "3/3 [==============================] - 0s 15ms/step - loss: 6.2217 - val_loss: 10.7750\n",
      "Epoch 47/50\n",
      "3/3 [==============================] - 0s 14ms/step - loss: 6.2137 - val_loss: 10.7874\n",
      "Epoch 48/50\n",
      "3/3 [==============================] - 0s 14ms/step - loss: 6.2068 - val_loss: 10.7651\n",
      "Epoch 49/50\n",
      "3/3 [==============================] - 0s 13ms/step - loss: 6.1984 - val_loss: 10.7003\n",
      "Epoch 50/50\n",
      "3/3 [==============================] - 0s 15ms/step - loss: 6.1946 - val_loss: 10.8085\n",
      "============== EVALUATION ==============\n"
     ]
    },
    {
     "name": "stderr",
     "output_type": "stream",
     "text": [
      "C:\\Users\\Baejs\\anaconda3\\envs\\bae\\lib\\site-packages\\keras\\src\\engine\\training.py:3000: UserWarning: You are saving your model as an HDF5 file via `model.save()`. This file format is considered legacy. We recommend using instead the native Keras format, e.g. `model.save('my_model.keras')`.\n",
      "  saving_api.save_model(\n",
      "  0%|                                                                                           | 0/10 [00:00<?, ?it/s]"
     ]
    },
    {
     "name": "stdout",
     "output_type": "stream",
     "text": [
      "10/10 [==============================] - 0s 1ms/step\n"
     ]
    },
    {
     "name": "stderr",
     "output_type": "stream",
     "text": [
      " 10%|████████▎                                                                          | 1/10 [00:00<00:01,  8.31it/s]"
     ]
    },
    {
     "name": "stdout",
     "output_type": "stream",
     "text": [
      "10/10 [==============================] - 0s 1ms/step\n",
      "10/10 [==============================] - 0s 1ms/step\n"
     ]
    },
    {
     "name": "stderr",
     "output_type": "stream",
     "text": [
      " 30%|████████████████████████▉                                                          | 3/10 [00:00<00:00, 11.48it/s]"
     ]
    },
    {
     "name": "stdout",
     "output_type": "stream",
     "text": [
      "10/10 [==============================] - 0s 2ms/step\n",
      "10/10 [==============================] - 0s 2ms/step\n"
     ]
    },
    {
     "name": "stderr",
     "output_type": "stream",
     "text": [
      " 50%|█████████████████████████████████████████▌                                         | 5/10 [00:00<00:00, 12.15it/s]"
     ]
    },
    {
     "name": "stdout",
     "output_type": "stream",
     "text": [
      "10/10 [==============================] - 0s 1ms/step\n",
      "10/10 [==============================] - 0s 1ms/step\n"
     ]
    },
    {
     "name": "stderr",
     "output_type": "stream",
     "text": [
      " 70%|██████████████████████████████████████████████████████████                         | 7/10 [00:00<00:00, 12.56it/s]"
     ]
    },
    {
     "name": "stdout",
     "output_type": "stream",
     "text": [
      "10/10 [==============================] - 0s 1ms/step\n",
      "10/10 [==============================] - 0s 1ms/step\n"
     ]
    },
    {
     "name": "stderr",
     "output_type": "stream",
     "text": [
      " 90%|██████████████████████████████████████████████████████████████████████████▋        | 9/10 [00:00<00:00, 13.00it/s]"
     ]
    },
    {
     "name": "stdout",
     "output_type": "stream",
     "text": [
      "10/10 [==============================] - 0s 1ms/step\n"
     ]
    },
    {
     "name": "stderr",
     "output_type": "stream",
     "text": [
      "100%|██████████████████████████████████████████████████████████████████████████████████| 10/10 [00:00<00:00, 12.53it/s]\n",
      "2023-08-26 01:06:18,036 - INFO - AUC : 0.72\n"
     ]
    },
    {
     "name": "stdout",
     "output_type": "stream",
     "text": [
      "===========================\n",
      "\n",
      "Training transfer model for pump -> id_06 using pretrain model pretrain_('fan', 'slider')\n",
      "Epoch 1/50\n",
      "3/3 [==============================] - 1s 63ms/step - loss: 13.0840 - val_loss: 12.4445\n",
      "Epoch 2/50\n",
      "3/3 [==============================] - 0s 15ms/step - loss: 10.5664 - val_loss: 12.8355\n",
      "Epoch 3/50\n",
      "3/3 [==============================] - 0s 14ms/step - loss: 9.4374 - val_loss: 13.4357\n",
      "Epoch 4/50\n",
      "3/3 [==============================] - 0s 15ms/step - loss: 9.3938 - val_loss: 11.1879\n",
      "Epoch 5/50\n",
      "3/3 [==============================] - 0s 14ms/step - loss: 8.1463 - val_loss: 11.3015\n",
      "Epoch 6/50\n",
      "3/3 [==============================] - 0s 16ms/step - loss: 8.1148 - val_loss: 10.2376\n",
      "Epoch 7/50\n",
      "3/3 [==============================] - 0s 15ms/step - loss: 7.6173 - val_loss: 10.9410\n",
      "Epoch 8/50\n",
      "3/3 [==============================] - 0s 15ms/step - loss: 7.5664 - val_loss: 10.1361\n",
      "Epoch 9/50\n",
      "3/3 [==============================] - 0s 14ms/step - loss: 7.2963 - val_loss: 9.9045\n",
      "Epoch 10/50\n",
      "3/3 [==============================] - 0s 14ms/step - loss: 7.1804 - val_loss: 10.3108\n",
      "Epoch 11/50\n",
      "3/3 [==============================] - 0s 16ms/step - loss: 7.1528 - val_loss: 9.7316\n",
      "Epoch 12/50\n",
      "3/3 [==============================] - 0s 15ms/step - loss: 7.0137 - val_loss: 9.8522\n",
      "Epoch 13/50\n",
      "3/3 [==============================] - 0s 14ms/step - loss: 6.9012 - val_loss: 9.8618\n",
      "Epoch 14/50\n",
      "3/3 [==============================] - 0s 14ms/step - loss: 6.8233 - val_loss: 9.7592\n",
      "Epoch 15/50\n",
      "3/3 [==============================] - 0s 14ms/step - loss: 6.7444 - val_loss: 9.6750\n",
      "Epoch 16/50\n",
      "3/3 [==============================] - 0s 15ms/step - loss: 6.6744 - val_loss: 9.4237\n",
      "Epoch 17/50\n",
      "3/3 [==============================] - 0s 16ms/step - loss: 6.6310 - val_loss: 9.5040\n",
      "Epoch 18/50\n",
      "3/3 [==============================] - 0s 14ms/step - loss: 6.5871 - val_loss: 9.4957\n",
      "Epoch 19/50\n",
      "3/3 [==============================] - 0s 14ms/step - loss: 6.5477 - val_loss: 9.4967\n",
      "Epoch 20/50\n",
      "3/3 [==============================] - 0s 13ms/step - loss: 6.5067 - val_loss: 9.3184\n",
      "Epoch 21/50\n",
      "3/3 [==============================] - 0s 13ms/step - loss: 6.4747 - val_loss: 9.2119\n",
      "Epoch 22/50\n",
      "3/3 [==============================] - 0s 14ms/step - loss: 6.4431 - val_loss: 9.2160\n",
      "Epoch 23/50\n",
      "3/3 [==============================] - 0s 14ms/step - loss: 6.4082 - val_loss: 9.2908\n",
      "Epoch 24/50\n",
      "3/3 [==============================] - 0s 14ms/step - loss: 6.3793 - val_loss: 9.2006\n",
      "Epoch 25/50\n",
      "3/3 [==============================] - 0s 14ms/step - loss: 6.3474 - val_loss: 9.0443\n",
      "Epoch 26/50\n",
      "3/3 [==============================] - 0s 14ms/step - loss: 6.3214 - val_loss: 8.9442\n",
      "Epoch 27/50\n",
      "3/3 [==============================] - 0s 14ms/step - loss: 6.2944 - val_loss: 9.0547\n",
      "Epoch 28/50\n",
      "3/3 [==============================] - 0s 16ms/step - loss: 6.2678 - val_loss: 8.9938\n",
      "Epoch 29/50\n",
      "3/3 [==============================] - 0s 14ms/step - loss: 6.2388 - val_loss: 8.8734\n",
      "Epoch 30/50\n",
      "3/3 [==============================] - 0s 14ms/step - loss: 6.2104 - val_loss: 8.7944\n",
      "Epoch 31/50\n",
      "3/3 [==============================] - 0s 15ms/step - loss: 6.1860 - val_loss: 8.8417\n",
      "Epoch 32/50\n",
      "3/3 [==============================] - 0s 15ms/step - loss: 6.1564 - val_loss: 8.7605\n",
      "Epoch 33/50\n",
      "3/3 [==============================] - 0s 15ms/step - loss: 6.1289 - val_loss: 8.6283\n",
      "Epoch 34/50\n",
      "3/3 [==============================] - 0s 15ms/step - loss: 6.1067 - val_loss: 8.6070\n",
      "Epoch 35/50\n",
      "3/3 [==============================] - 0s 14ms/step - loss: 6.0790 - val_loss: 8.6315\n",
      "Epoch 36/50\n",
      "3/3 [==============================] - 0s 15ms/step - loss: 6.0538 - val_loss: 8.5770\n",
      "Epoch 37/50\n",
      "3/3 [==============================] - 0s 14ms/step - loss: 6.0255 - val_loss: 8.4973\n",
      "Epoch 38/50\n",
      "3/3 [==============================] - 0s 15ms/step - loss: 5.9987 - val_loss: 8.4381\n",
      "Epoch 39/50\n",
      "3/3 [==============================] - 0s 15ms/step - loss: 5.9772 - val_loss: 8.3696\n",
      "Epoch 40/50\n",
      "3/3 [==============================] - 0s 15ms/step - loss: 5.9571 - val_loss: 8.3116\n",
      "Epoch 41/50\n",
      "3/3 [==============================] - 0s 14ms/step - loss: 5.9295 - val_loss: 8.3124\n",
      "Epoch 42/50\n",
      "3/3 [==============================] - 0s 14ms/step - loss: 5.9076 - val_loss: 8.2679\n",
      "Epoch 43/50\n",
      "3/3 [==============================] - 0s 14ms/step - loss: 5.8865 - val_loss: 8.2236\n",
      "Epoch 44/50\n",
      "3/3 [==============================] - 0s 14ms/step - loss: 5.8596 - val_loss: 8.1667\n",
      "Epoch 45/50\n",
      "3/3 [==============================] - 0s 15ms/step - loss: 5.8381 - val_loss: 8.1201\n",
      "Epoch 46/50\n",
      "3/3 [==============================] - 0s 15ms/step - loss: 5.8110 - val_loss: 8.0947\n",
      "Epoch 47/50\n",
      "3/3 [==============================] - 0s 15ms/step - loss: 5.7910 - val_loss: 8.0148\n",
      "Epoch 48/50\n",
      "3/3 [==============================] - 0s 15ms/step - loss: 5.7703 - val_loss: 7.9700\n",
      "Epoch 49/50\n",
      "3/3 [==============================] - 0s 13ms/step - loss: 5.7496 - val_loss: 7.9687\n",
      "Epoch 50/50\n",
      "3/3 [==============================] - 0s 13ms/step - loss: 5.7268 - val_loss: 7.9832\n",
      "============== EVALUATION =============="
     ]
    },
    {
     "name": "stderr",
     "output_type": "stream",
     "text": [
      "C:\\Users\\Baejs\\anaconda3\\envs\\bae\\lib\\site-packages\\keras\\src\\engine\\training.py:3000: UserWarning: You are saving your model as an HDF5 file via `model.save()`. This file format is considered legacy. We recommend using instead the native Keras format, e.g. `model.save('my_model.keras')`.\n",
      "  saving_api.save_model(\n"
     ]
    },
    {
     "name": "stdout",
     "output_type": "stream",
     "text": [
      "\n"
     ]
    },
    {
     "name": "stderr",
     "output_type": "stream",
     "text": [
      "  0%|                                                                                           | 0/10 [00:00<?, ?it/s]"
     ]
    },
    {
     "name": "stdout",
     "output_type": "stream",
     "text": [
      "10/10 [==============================] - 0s 1ms/step\n"
     ]
    },
    {
     "name": "stderr",
     "output_type": "stream",
     "text": [
      " 10%|████████▎                                                                          | 1/10 [00:00<00:01,  8.72it/s]"
     ]
    },
    {
     "name": "stdout",
     "output_type": "stream",
     "text": [
      "10/10 [==============================] - 0s 2ms/step\n",
      "10/10 [==============================] - 0s 1ms/step\n"
     ]
    },
    {
     "name": "stderr",
     "output_type": "stream",
     "text": [
      " 30%|████████████████████████▉                                                          | 3/10 [00:00<00:00, 11.62it/s]"
     ]
    },
    {
     "name": "stdout",
     "output_type": "stream",
     "text": [
      "10/10 [==============================] - 0s 1ms/step\n",
      "10/10 [==============================] - 0s 1ms/step\n"
     ]
    },
    {
     "name": "stderr",
     "output_type": "stream",
     "text": [
      " 50%|█████████████████████████████████████████▌                                         | 5/10 [00:00<00:00, 12.76it/s]"
     ]
    },
    {
     "name": "stdout",
     "output_type": "stream",
     "text": [
      "10/10 [==============================] - 0s 1ms/step\n",
      "10/10 [==============================] - 0s 1ms/step\n"
     ]
    },
    {
     "name": "stderr",
     "output_type": "stream",
     "text": [
      " 70%|██████████████████████████████████████████████████████████                         | 7/10 [00:00<00:00, 13.38it/s]"
     ]
    },
    {
     "name": "stdout",
     "output_type": "stream",
     "text": [
      "10/10 [==============================] - 0s 1ms/step\n",
      "10/10 [==============================] - 0s 1ms/step\n"
     ]
    },
    {
     "name": "stderr",
     "output_type": "stream",
     "text": [
      " 90%|██████████████████████████████████████████████████████████████████████████▋        | 9/10 [00:00<00:00, 13.64it/s]"
     ]
    },
    {
     "name": "stdout",
     "output_type": "stream",
     "text": [
      "10/10 [==============================] - 0s 1ms/step\n"
     ]
    },
    {
     "name": "stderr",
     "output_type": "stream",
     "text": [
      "100%|██████████████████████████████████████████████████████████████████████████████████| 10/10 [00:00<00:00, 13.14it/s]\n",
      "2023-08-26 01:06:21,554 - INFO - AUC : 0.76\n"
     ]
    },
    {
     "name": "stdout",
     "output_type": "stream",
     "text": [
      "===========================\n",
      "Model file not found for pump -> id_06. Skipping...\n",
      "\n",
      "Training transfer model for pump -> id_06 using pretrain model pretrain_('valve', 'slider')\n",
      "Epoch 1/50\n",
      "3/3 [==============================] - 1s 67ms/step - loss: 13.5044 - val_loss: 15.3252\n",
      "Epoch 2/50\n",
      "3/3 [==============================] - 0s 15ms/step - loss: 10.6293 - val_loss: 13.3999\n",
      "Epoch 3/50\n",
      "3/3 [==============================] - 0s 15ms/step - loss: 8.6362 - val_loss: 13.6822\n",
      "Epoch 4/50\n",
      "3/3 [==============================] - 0s 15ms/step - loss: 9.1093 - val_loss: 12.7158\n",
      "Epoch 5/50\n",
      "3/3 [==============================] - 0s 14ms/step - loss: 8.0573 - val_loss: 13.2394\n",
      "Epoch 6/50\n",
      "3/3 [==============================] - 0s 15ms/step - loss: 7.9662 - val_loss: 11.5025\n",
      "Epoch 7/50\n",
      "3/3 [==============================] - 0s 15ms/step - loss: 7.4115 - val_loss: 11.3694\n",
      "Epoch 8/50\n",
      "3/3 [==============================] - 0s 14ms/step - loss: 7.3992 - val_loss: 11.9997\n",
      "Epoch 9/50\n",
      "3/3 [==============================] - 0s 13ms/step - loss: 7.2018 - val_loss: 12.2296\n",
      "Epoch 10/50\n",
      "3/3 [==============================] - 0s 14ms/step - loss: 7.0141 - val_loss: 11.6147\n",
      "Epoch 11/50\n",
      "3/3 [==============================] - 0s 14ms/step - loss: 6.9319 - val_loss: 11.3044\n",
      "Epoch 12/50\n",
      "3/3 [==============================] - 0s 14ms/step - loss: 6.7873 - val_loss: 11.5741\n",
      "Epoch 13/50\n",
      "3/3 [==============================] - 0s 14ms/step - loss: 6.7625 - val_loss: 11.4350\n",
      "Epoch 14/50\n",
      "3/3 [==============================] - 0s 14ms/step - loss: 6.6681 - val_loss: 11.3980\n",
      "Epoch 15/50\n",
      "3/3 [==============================] - 0s 14ms/step - loss: 6.5986 - val_loss: 11.2164\n",
      "Epoch 16/50\n",
      "3/3 [==============================] - 0s 14ms/step - loss: 6.5618 - val_loss: 10.9704\n",
      "Epoch 17/50\n",
      "3/3 [==============================] - 0s 14ms/step - loss: 6.5117 - val_loss: 10.9428\n",
      "Epoch 18/50\n",
      "3/3 [==============================] - 0s 14ms/step - loss: 6.4697 - val_loss: 11.1136\n",
      "Epoch 19/50\n",
      "3/3 [==============================] - 0s 14ms/step - loss: 6.4424 - val_loss: 11.1316\n",
      "Epoch 20/50\n",
      "3/3 [==============================] - 0s 14ms/step - loss: 6.4054 - val_loss: 11.1431\n",
      "Epoch 21/50\n",
      "3/3 [==============================] - 0s 14ms/step - loss: 6.3722 - val_loss: 11.1292\n",
      "Epoch 22/50\n",
      "3/3 [==============================] - 0s 14ms/step - loss: 6.3496 - val_loss: 11.1638\n",
      "Epoch 23/50\n",
      "3/3 [==============================] - 0s 14ms/step - loss: 6.3222 - val_loss: 11.2448\n",
      "Epoch 24/50\n",
      "3/3 [==============================] - 0s 14ms/step - loss: 6.2979 - val_loss: 11.2525\n",
      "Epoch 25/50\n",
      "3/3 [==============================] - 0s 14ms/step - loss: 6.2755 - val_loss: 11.2776\n",
      "Epoch 26/50\n",
      "3/3 [==============================] - 0s 14ms/step - loss: 6.2536 - val_loss: 11.2175\n",
      "Epoch 27/50\n",
      "3/3 [==============================] - 0s 14ms/step - loss: 6.2327 - val_loss: 11.2061\n",
      "Epoch 28/50\n",
      "3/3 [==============================] - 0s 14ms/step - loss: 6.2121 - val_loss: 11.3047\n",
      "Epoch 29/50\n",
      "3/3 [==============================] - 0s 14ms/step - loss: 6.1921 - val_loss: 11.3026\n",
      "Epoch 30/50\n",
      "3/3 [==============================] - 0s 14ms/step - loss: 6.1741 - val_loss: 11.2753\n",
      "Epoch 31/50\n",
      "3/3 [==============================] - 0s 16ms/step - loss: 6.1559 - val_loss: 11.3657\n",
      "Epoch 32/50\n",
      "3/3 [==============================] - 0s 15ms/step - loss: 6.1405 - val_loss: 11.3655\n",
      "Epoch 33/50\n",
      "3/3 [==============================] - 0s 13ms/step - loss: 6.1224 - val_loss: 11.2469\n",
      "Epoch 34/50\n",
      "3/3 [==============================] - 0s 13ms/step - loss: 6.1058 - val_loss: 11.3100\n",
      "Epoch 35/50\n",
      "3/3 [==============================] - 0s 13ms/step - loss: 6.0893 - val_loss: 11.3961\n",
      "Epoch 36/50\n",
      "3/3 [==============================] - 0s 14ms/step - loss: 6.0745 - val_loss: 11.3628\n",
      "Epoch 37/50\n",
      "3/3 [==============================] - 0s 13ms/step - loss: 6.0588 - val_loss: 11.3195\n",
      "Epoch 38/50\n",
      "3/3 [==============================] - 0s 16ms/step - loss: 6.0435 - val_loss: 11.2568\n",
      "Epoch 39/50\n",
      "3/3 [==============================] - 0s 14ms/step - loss: 6.0302 - val_loss: 11.3773\n",
      "Epoch 40/50\n",
      "3/3 [==============================] - 0s 13ms/step - loss: 6.0164 - val_loss: 11.3565\n",
      "Epoch 41/50\n",
      "3/3 [==============================] - 0s 16ms/step - loss: 6.0020 - val_loss: 11.3174\n",
      "Epoch 42/50\n",
      "3/3 [==============================] - 0s 15ms/step - loss: 5.9874 - val_loss: 11.2646\n",
      "Epoch 43/50\n",
      "3/3 [==============================] - 0s 14ms/step - loss: 5.9748 - val_loss: 11.2432\n",
      "Epoch 44/50\n",
      "3/3 [==============================] - 0s 15ms/step - loss: 5.9624 - val_loss: 11.2568\n",
      "Epoch 45/50\n",
      "3/3 [==============================] - 0s 13ms/step - loss: 5.9498 - val_loss: 11.3572\n",
      "Epoch 46/50\n",
      "3/3 [==============================] - 0s 13ms/step - loss: 5.9386 - val_loss: 11.2624\n",
      "Epoch 47/50\n",
      "3/3 [==============================] - 0s 14ms/step - loss: 5.9249 - val_loss: 11.1419\n",
      "Epoch 48/50\n",
      "3/3 [==============================] - 0s 14ms/step - loss: 5.9136 - val_loss: 11.2208\n",
      "Epoch 49/50\n",
      "3/3 [==============================] - 0s 14ms/step - loss: 5.9030 - val_loss: 11.3179\n",
      "Epoch 50/50\n",
      "3/3 [==============================] - 0s 14ms/step - loss: 5.8897 - val_loss: 11.1509\n",
      "============== EVALUATION ==============\n"
     ]
    },
    {
     "name": "stderr",
     "output_type": "stream",
     "text": [
      "C:\\Users\\Baejs\\anaconda3\\envs\\bae\\lib\\site-packages\\keras\\src\\engine\\training.py:3000: UserWarning: You are saving your model as an HDF5 file via `model.save()`. This file format is considered legacy. We recommend using instead the native Keras format, e.g. `model.save('my_model.keras')`.\n",
      "  saving_api.save_model(\n",
      "  0%|                                                                                           | 0/10 [00:00<?, ?it/s]"
     ]
    },
    {
     "name": "stdout",
     "output_type": "stream",
     "text": [
      "10/10 [==============================] - 0s 1ms/step\n"
     ]
    },
    {
     "name": "stderr",
     "output_type": "stream",
     "text": [
      " 10%|████████▎                                                                          | 1/10 [00:00<00:00,  9.25it/s]"
     ]
    },
    {
     "name": "stdout",
     "output_type": "stream",
     "text": [
      "10/10 [==============================] - 0s 1ms/step\n",
      "10/10 [==============================] - 0s 1ms/step\n"
     ]
    },
    {
     "name": "stderr",
     "output_type": "stream",
     "text": [
      " 30%|████████████████████████▉                                                          | 3/10 [00:00<00:00, 12.57it/s]"
     ]
    },
    {
     "name": "stdout",
     "output_type": "stream",
     "text": [
      "10/10 [==============================] - 0s 1ms/step\n",
      "10/10 [==============================] - 0s 1ms/step\n"
     ]
    },
    {
     "name": "stderr",
     "output_type": "stream",
     "text": [
      " 50%|█████████████████████████████████████████▌                                         | 5/10 [00:00<00:00, 13.38it/s]"
     ]
    },
    {
     "name": "stdout",
     "output_type": "stream",
     "text": [
      "10/10 [==============================] - 0s 1ms/step\n",
      "10/10 [==============================] - 0s 1ms/step\n"
     ]
    },
    {
     "name": "stderr",
     "output_type": "stream",
     "text": [
      " 70%|██████████████████████████████████████████████████████████                         | 7/10 [00:00<00:00, 13.71it/s]"
     ]
    },
    {
     "name": "stdout",
     "output_type": "stream",
     "text": [
      "10/10 [==============================] - 0s 1ms/step\n",
      "10/10 [==============================] - 0s 1ms/step\n"
     ]
    },
    {
     "name": "stderr",
     "output_type": "stream",
     "text": [
      " 90%|██████████████████████████████████████████████████████████████████████████▋        | 9/10 [00:00<00:00, 13.70it/s]"
     ]
    },
    {
     "name": "stdout",
     "output_type": "stream",
     "text": [
      "10/10 [==============================] - 0s 1ms/step\n"
     ]
    },
    {
     "name": "stderr",
     "output_type": "stream",
     "text": [
      "100%|██████████████████████████████████████████████████████████████████████████████████| 10/10 [00:00<00:00, 13.36it/s]\n",
      "2023-08-26 01:06:25,074 - INFO - AUC : 0.72\n",
      "2023-08-26 01:06:25,076 - INFO - all results -> ./result_transfer_pretrain_v3/result_transfer_pretrain_v3.yaml\n"
     ]
    },
    {
     "name": "stdout",
     "output_type": "stream",
     "text": [
      "===========================\n",
      "Model file not found for pump -> id_06. Skipping...\n",
      "Model file not found for pump -> id_06. Skipping...\n",
      "===========================\n"
     ]
    }
   ],
   "source": [
    "########################################################################\n",
    "# import python-library\n",
    "########################################################################\n",
    "import pickle\n",
    "import os\n",
    "import sys\n",
    "import glob\n",
    "\n",
    "import numpy as np\n",
    "import librosa\n",
    "import librosa.core\n",
    "import librosa.feature\n",
    "import yaml\n",
    "import logging\n",
    "import keras\n",
    "\n",
    "from tqdm import tqdm\n",
    "from sklearn import metrics\n",
    "from keras.models import Model\n",
    "from keras.layers import Input, Dense\n",
    "\n",
    "from itertools import combinations\n",
    "########################################################################\n",
    "\n",
    "\n",
    "\n",
    "########################################################################\n",
    "# setup STD I/O\n",
    "########################################################################\n",
    "# 로깅을 설정하고 초기화하는 부분\n",
    "logging.basicConfig(level=logging.DEBUG, filename=\"transfer_pretrain_v3.log\")\n",
    "logger = logging.getLogger(' ')\n",
    "handler = logging.StreamHandler()\n",
    "formatter = logging.Formatter('%(asctime)s - %(levelname)s - %(message)s')\n",
    "handler.setFormatter(formatter)\n",
    "logger.addHandler(handler)\n",
    "########################################################################\n",
    "\n",
    "\n",
    "\n",
    "########################################################################\n",
    "# file I/O\n",
    "########################################################################\n",
    "#파일 입출력 관련 함수 선언 부분\n",
    "def save_pickle(filename, save_data):  \n",
    "    logger.info(\"save_pickle -> {}\".format(filename))\n",
    "    with open(filename, 'wb') as sf:\n",
    "        pickle.dump(save_data, sf)\n",
    "\n",
    "def load_pickle(filename):\n",
    "    logger.info(\"load_pickle <- {}\".format(filename))\n",
    "    with open(filename, 'rb') as lf:\n",
    "        load_data = pickle.load(lf)\n",
    "    return load_data\n",
    "\n",
    "\n",
    "def file_load(wav_name, mono=False):\n",
    "    try:\n",
    "        return librosa.load(wav_name, sr=None, mono=mono)\n",
    "    except:\n",
    "        logger.error(\"file_broken or not exists!! : {}\".format(wav_name))\n",
    "\n",
    "\n",
    "def demux_wav(wav_name, channel=0):\n",
    "    try:\n",
    "        multi_channel_data, sr = file_load(wav_name)\n",
    "        if multi_channel_data.ndim <= 1:\n",
    "            return sr, multi_channel_data\n",
    "        return sr, np.array(multi_channel_data)[channel, :]\n",
    "    except ValueError as msg:\n",
    "        logger.warning(f'{msg}')\n",
    "########################################################################\n",
    "\n",
    "\n",
    "\n",
    "\n",
    "\n",
    "########################################################################\n",
    "# feature extractor\n",
    "########################################################################\n",
    "#소리 파일 하나를 로그멜스펙트로그램 형태로 바꾸고 딥러닝 모델에 넣을 형태로 바꾸는 함수 \n",
    "def file_to_vector_array(file_name, n_mels=64, frames=5, n_fft=1024, hop_length=512, power=2.0):\n",
    "    dims = n_mels * frames\n",
    "    sr, y = demux_wav(file_name)\n",
    "    mel_spectrogram = librosa.feature.melspectrogram(y=y, sr=sr, n_fft=n_fft, hop_length=hop_length, n_mels=n_mels, power=power)\n",
    "    log_mel_spectrogram = 20.0 / power * np.log10(mel_spectrogram + sys.float_info.epsilon)\n",
    "    vectorarray_size = len(log_mel_spectrogram[0, :]) - frames + 1\n",
    "    if vectorarray_size < 1:\n",
    "        return np.empty((0, dims), float)\n",
    "    vectorarray = np.zeros((vectorarray_size, dims), float)\n",
    "    for t in range(frames):\n",
    "        vectorarray[:, n_mels * t: n_mels * (t + 1)] = log_mel_spectrogram[:, t: t + vectorarray_size].T \n",
    "    return vectorarray\n",
    "\n",
    "#소리 파일들의 이름명이 담긴 리스트를 입력하면 그것들을 하나의 데이터셋으로 합치는 함수\n",
    "def list_to_vector_array(file_list, msg=\"calc...\", n_mels=64, frames=5, n_fft=1024, hop_length=512, power=2.0):\n",
    "    dims = n_mels * frames\n",
    "    for idx in tqdm(range(len(file_list)), desc=msg):\n",
    "        vector_array = file_to_vector_array(file_list[idx], n_mels=n_mels, frames=frames, n_fft=n_fft, hop_length=hop_length,power=power)\n",
    "        if idx == 0:\n",
    "            dataset = np.zeros((vector_array.shape[0] * len(file_list), dims), float)\n",
    "        dataset[vector_array.shape[0] * idx: vector_array.shape[0] * (idx + 1), :] = vector_array       \n",
    "    return dataset\n",
    "\n",
    "def dataset_generator(target_dir, machine_type, id_, normal_dir_name=\"normal\", abnormal_dir_name=\"abnormal\", ext=\"wav\"):\n",
    "    logger.info(\"target_dir : {}\".format(target_dir))\n",
    "    \n",
    "    machine_id = f\"-6dB_{machine_type}\"\n",
    "    machine = f\"{machine_type}\"\n",
    "    id_ = f\"{id_}\"\n",
    "    machine_type_id_path = os.path.join(target_dir, machine_id, machine, id_)\n",
    "    \n",
    "    normal_files = sorted(glob.glob(os.path.abspath(\"{dir}/{normal_dir_name}/*.{ext}\".format(dir=machine_type_id_path, normal_dir_name=normal_dir_name, ext=ext))))\n",
    "    normal_labels = np.zeros(len(normal_files))\n",
    "    if len(normal_files) == 0:\n",
    "        logger.exception(\"no_wav_data!!\")\n",
    "        \n",
    "    abnormal_files = sorted(glob.glob(os.path.abspath(\"{dir}/{abnormal_dir_name}/*.{ext}\".format(dir=machine_type_id_path, abnormal_dir_name=abnormal_dir_name, ext=ext))))\n",
    "    abnormal_labels = np.ones(len(abnormal_files))\n",
    "    if len(abnormal_files) == 0:\n",
    "        logger.exception(\"no_wav_data!!\")\n",
    "\n",
    "        \n",
    "    train_files = normal_files[len(abnormal_files):]\n",
    "    train_labels = normal_labels[len(abnormal_files):]\n",
    "    eval_files = np.concatenate((normal_files[:len(abnormal_files)], abnormal_files), axis=0)\n",
    "    eval_labels = np.concatenate((normal_labels[:len(abnormal_files)], abnormal_labels), axis=0)\n",
    "    \n",
    "    logger.info(\"train_file num : {num}\".format(num=len(train_files)))\n",
    "    logger.info(\"eval_file  num : {num}\".format(num=len(eval_files)))\n",
    "\n",
    "    return train_files, train_labels, eval_files, eval_labels\n",
    "########################################################################\n",
    "\n",
    "\n",
    "\n",
    "\n",
    "########################################################################\n",
    "# keras model\n",
    "########################################################################\n",
    "#오토인코더 함수\n",
    "def keras_model(inputDim):\n",
    "    inputLayer = Input(shape=(inputDim,))\n",
    "    h = Dense(64, activation=\"relu\")(inputLayer)    \n",
    "    h = Dense(64, activation=\"relu\")(h)\n",
    "    h = Dense(8, activation=\"relu\")(h)\n",
    "    h = Dense(64, activation=\"relu\")(h)\n",
    "    h = Dense(64, activation=\"relu\")(h)\n",
    "    h = Dense(inputDim, activation=None)(h)\n",
    "    return Model(inputs=inputLayer, outputs=h)\n",
    "########################################################################\n",
    "\n",
    "\n",
    "\n",
    "\n",
    "########################################################################\n",
    "# main\n",
    "########################################################################\n",
    "# 메인 실행 부분\n",
    "if __name__ == \"__main__\":\n",
    "    with open(\"make_pretrain_v3.yaml\", encoding='utf-8') as stream:\n",
    "        pretrain_v3_param = yaml.safe_load(stream)\n",
    "    with open(\"transfer_pretrain_v3.yaml\", encoding='utf-8') as stream:\n",
    "        transfer_v3_param = yaml.safe_load(stream)\n",
    "\n",
    "    # pickle데이터, model데이터, result데이터가 저장될 파일과 폴더들 관련 변수 선언\n",
    "    os.makedirs(transfer_v3_param[\"pickle_directory\"], exist_ok=True)\n",
    "    os.makedirs(transfer_v3_param[\"model_directory\"], exist_ok=True)\n",
    "    os.makedirs(transfer_v3_param[\"result_directory\"], exist_ok=True)\n",
    "    model_directory = transfer_v3_param[\"model_directory\"]\n",
    "    base_directory = transfer_v3_param[\"base_directory\"]\n",
    "    result_file = \"{result}/{file_name}\".format(result=transfer_v3_param[\"result_directory\"], file_name=transfer_v3_param[\"result_file\"])\n",
    "    results = {}\n",
    "\n",
    "\n",
    "    machine_types = [\"fan\", \"valve\", \"slider\", \"pump\"]    \n",
    "    id_list =  [\"id_00\", \"id_02\", \"id_04\", \"id_06\"]   \n",
    "\n",
    "    #기계 종류별 id 별로 하나씩 for문을 실행함\n",
    "    for machine_type in machine_types:\n",
    "        for id_ in id_list:\n",
    "            print(\"\\n===========================\")\n",
    "            train_pickle = \"{pickle}/train_{machine_type}_{id_}.pickle\".format(pickle=transfer_v3_param[\"pickle_directory\"], machine_type= machine_type, id_ = id_)\n",
    "            eval_files_pickle = \"{pickle}/eval_files_{machine_type}_{id_}.pickle\".format(pickle=transfer_v3_param[\"pickle_directory\"], machine_type= machine_type, id_ = id_)\n",
    "            eval_labels_pickle = \"{pickle}/eval_labels_{machine_type}_{id_}.pickle\".format(pickle=transfer_v3_param[\"pickle_directory\"], machine_type= machine_type, id_ = id_)\n",
    "\n",
    "            if os.path.exists(train_pickle) and os.path.exists(eval_files_pickle) and os.path.exists(eval_labels_pickle):\n",
    "                train_data = load_pickle(train_pickle)\n",
    "                eval_files = load_pickle(eval_files_pickle)\n",
    "                eval_labels = load_pickle(eval_labels_pickle)\n",
    "            else:\n",
    "                train_files, train_labels, eval_files, eval_labels = dataset_generator(base_directory, machine_type, id_)\n",
    "                train_data = list_to_vector_array(train_files,\n",
    "                                                  msg=\"generate train_dataset\",\n",
    "                                                  n_mels=transfer_v3_param[\"feature\"][\"n_mels\"],\n",
    "                                                  frames=transfer_v3_param[\"feature\"][\"frames\"],\n",
    "                                                  n_fft=transfer_v3_param[\"feature\"][\"n_fft\"],\n",
    "                                                  hop_length=transfer_v3_param[\"feature\"][\"hop_length\"],\n",
    "                                                  power=transfer_v3_param[\"feature\"][\"power\"])\n",
    "                save_pickle(train_pickle, train_data)\n",
    "                save_pickle(eval_files_pickle, eval_files)\n",
    "                save_pickle(eval_labels_pickle, eval_labels)\n",
    "\n",
    "            # 현재의 machine_type을 포함하지 않는 combo조합을 만들고 pretrain된 모델을 가져와서 transfer학습을 함.\n",
    "            pretrain_combinations = [(mt1, mt2) for mt1 in machine_types if mt1 != machine_type\n",
    "                                     for mt2 in machine_types if mt2 != machine_type and mt2 != mt1]\n",
    "\n",
    "            for pretrain_machine_types in pretrain_combinations:\n",
    "                pretrain_model_name = \"pretrain_('{}', '{}')\".format(pretrain_machine_types[0], pretrain_machine_types[1])\n",
    "                pretrain_model_path = os.path.join(pretrain_v3_param[\"model_directory\"], \"{}.h5\".format(pretrain_model_name))\n",
    "                if not os.path.exists(pretrain_model_path):\n",
    "                    print(\"Model file not found for {} -> {}. Skipping...\".format(machine_type, id_, pretrain_model_name))\n",
    "                    continue\n",
    "                model = keras.models.load_model(pretrain_model_path)\n",
    "                model.compile(**transfer_v3_param[\"fit\"][\"compile\"])\n",
    "                print(\"\\nTraining transfer model for {} -> {} using pretrain model {}\".format(machine_type, id_, pretrain_model_name))\n",
    "                model.fit(train_data, train_data,\n",
    "                          epochs=transfer_v3_param[\"fit\"][\"epochs\"],\n",
    "                          batch_size=transfer_v3_param[\"fit\"][\"batch_size\"],\n",
    "                          shuffle=transfer_v3_param[\"fit\"][\"shuffle\"],\n",
    "                          validation_split=transfer_v3_param[\"fit\"][\"validation_split\"],\n",
    "                          verbose=transfer_v3_param[\"fit\"][\"verbose\"])\n",
    "                model.save(os.path.join(model_directory, \"transfer_{}_{}_to_('{}', '{}').h5\".format(machine_type,id_, pretrain_machine_types[0], pretrain_machine_types[1])))\n",
    "\n",
    "                print(\"============== EVALUATION ==============\")\n",
    "                y_pred = [0. for k in eval_labels]\n",
    "                y_true = eval_labels\n",
    "                evaluation_result_key = \"{}_{}_to_('{}', '{}')\".format(machine_type, id_, pretrain_machine_types[0], pretrain_machine_types[1])\n",
    "                evaluation_result = {}\n",
    "                for num, file_name in tqdm(enumerate(eval_files), total=len(eval_files)):\n",
    "                    try:\n",
    "                        data = file_to_vector_array(file_name,\n",
    "                                                    n_mels=transfer_v3_param[\"feature\"][\"n_mels\"],\n",
    "                                                    frames=transfer_v3_param[\"feature\"][\"frames\"],\n",
    "                                                    n_fft=transfer_v3_param[\"feature\"][\"n_fft\"],\n",
    "                                                    hop_length=transfer_v3_param[\"feature\"][\"hop_length\"],\n",
    "                                                    power=transfer_v3_param[\"feature\"][\"power\"])\n",
    "                        error = np.mean(np.square(data - model.predict(data)), axis=1)\n",
    "                        y_pred[num] = np.mean(error)\n",
    "                    except:\n",
    "                        logger.warning(\"File broken!!: {}\".format(file_name))\n",
    "                \n",
    "                # auc값을 저장함\n",
    "                score = metrics.roc_auc_score(y_true, y_pred)\n",
    "                logger.info(\"AUC : {}\".format(score))\n",
    "                evaluation_result[\"AUC\"] = float(score)\n",
    "                results[evaluation_result_key] = evaluation_result\n",
    "                print(\"===========================\")\n",
    "\n",
    "        logger.info(\"all results -> {}\".format(result_file))\n",
    "        with open(result_file, \"w\") as f:\n",
    "            f.write(yaml.dump(results, default_flow_style=False))       \n",
    "        print(\"===========================\")\n"
   ]
  },
  {
   "cell_type": "code",
   "execution_count": null,
   "id": "5c3070d2-2630-4069-8d27-e165472baa42",
   "metadata": {},
   "outputs": [],
   "source": []
  }
 ],
 "metadata": {
  "kernelspec": {
   "display_name": "Python 3 (ipykernel)",
   "language": "python",
   "name": "python3"
  },
  "language_info": {
   "codemirror_mode": {
    "name": "ipython",
    "version": 3
   },
   "file_extension": ".py",
   "mimetype": "text/x-python",
   "name": "python",
   "nbconvert_exporter": "python",
   "pygments_lexer": "ipython3",
   "version": "3.9.0"
  },
  "toc-autonumbering": true,
  "toc-showcode": true,
  "toc-showmarkdowntxt": false
 },
 "nbformat": 4,
 "nbformat_minor": 5
}
