{
 "cells": [
  {
   "cell_type": "code",
   "execution_count": 1,
   "id": "5136a332-cdae-4856-a8fa-d39f2aa0c5b1",
   "metadata": {
    "tags": []
   },
   "outputs": [
    {
     "name": "stderr",
     "output_type": "stream",
     "text": [
      "2023-08-26 01:10:32,332 - INFO - target_dir : ../Sample_data\n",
      "2023-08-26 01:10:32,336 - INFO - train_file num : 5\n",
      "2023-08-26 01:10:32,337 - INFO - eval_file  num : 10\n"
     ]
    },
    {
     "name": "stdout",
     "output_type": "stream",
     "text": [
      "\n",
      "===========================\n"
     ]
    },
    {
     "name": "stderr",
     "output_type": "stream",
     "text": [
      "generate train_dataset: 100%|████████████████████████████████████████████████████████████| 5/5 [00:02<00:00,  1.78it/s]\n",
      "2023-08-26 01:10:35,147 - INFO - save_pickle -> ./pickle_transfer_pretrain_v4/train_fan_id_00.pickle\n",
      "2023-08-26 01:10:35,151 - INFO - save_pickle -> ./pickle_transfer_pretrain_v4/eval_files_fan_id_00.pickle\n",
      "2023-08-26 01:10:35,152 - INFO - save_pickle -> ./pickle_transfer_pretrain_v4/eval_labels_fan_id_00.pickle\n"
     ]
    },
    {
     "name": "stdout",
     "output_type": "stream",
     "text": [
      "\n",
      "Training transfer model for fan -> id_00 using pretrain model pretrain_('valve', 'slider', 'pump')\n",
      "Epoch 1/50\n",
      "3/3 [==============================] - 1s 79ms/step - loss: 16.0071 - val_loss: 17.3805\n",
      "Epoch 2/50\n",
      "3/3 [==============================] - 0s 14ms/step - loss: 14.6767 - val_loss: 15.8872\n",
      "Epoch 3/50\n",
      "3/3 [==============================] - 0s 15ms/step - loss: 10.3295 - val_loss: 14.1425\n",
      "Epoch 4/50\n",
      "3/3 [==============================] - 0s 14ms/step - loss: 11.4472 - val_loss: 11.2416\n",
      "Epoch 5/50\n",
      "3/3 [==============================] - 0s 14ms/step - loss: 9.1523 - val_loss: 15.8903\n",
      "Epoch 6/50\n",
      "3/3 [==============================] - 0s 14ms/step - loss: 9.4401 - val_loss: 9.5816\n",
      "Epoch 7/50\n",
      "3/3 [==============================] - 0s 14ms/step - loss: 8.4407 - val_loss: 9.1204\n",
      "Epoch 8/50\n",
      "3/3 [==============================] - 0s 24ms/step - loss: 8.5514 - val_loss: 9.1339\n",
      "Epoch 9/50\n",
      "3/3 [==============================] - 0s 14ms/step - loss: 8.0458 - val_loss: 10.2225\n",
      "Epoch 10/50\n",
      "3/3 [==============================] - 0s 16ms/step - loss: 8.0035 - val_loss: 8.8137\n",
      "Epoch 11/50\n",
      "3/3 [==============================] - 0s 15ms/step - loss: 7.7731 - val_loss: 8.1838\n",
      "Epoch 12/50\n",
      "3/3 [==============================] - 0s 16ms/step - loss: 7.6095 - val_loss: 8.8854\n",
      "Epoch 13/50\n",
      "3/3 [==============================] - 0s 27ms/step - loss: 7.5440 - val_loss: 8.5335\n",
      "Epoch 14/50\n",
      "3/3 [==============================] - 0s 14ms/step - loss: 7.3515 - val_loss: 7.8680\n",
      "Epoch 15/50\n",
      "3/3 [==============================] - 0s 15ms/step - loss: 7.3233 - val_loss: 7.9364\n",
      "Epoch 16/50\n",
      "3/3 [==============================] - 0s 13ms/step - loss: 7.1958 - val_loss: 7.9847\n",
      "Epoch 17/50\n",
      "3/3 [==============================] - 0s 14ms/step - loss: 7.1335 - val_loss: 7.5909\n",
      "Epoch 18/50\n",
      "3/3 [==============================] - 0s 14ms/step - loss: 7.0873 - val_loss: 7.5406\n",
      "Epoch 19/50\n",
      "3/3 [==============================] - 0s 16ms/step - loss: 7.0094 - val_loss: 7.6545\n",
      "Epoch 20/50\n",
      "3/3 [==============================] - 0s 16ms/step - loss: 6.9652 - val_loss: 7.4434\n",
      "Epoch 21/50\n",
      "3/3 [==============================] - 0s 13ms/step - loss: 6.9247 - val_loss: 7.3629\n",
      "Epoch 22/50\n",
      "3/3 [==============================] - 0s 13ms/step - loss: 6.8713 - val_loss: 7.4669\n",
      "Epoch 23/50\n",
      "3/3 [==============================] - 0s 14ms/step - loss: 6.8333 - val_loss: 7.1704\n",
      "Epoch 24/50\n",
      "3/3 [==============================] - 0s 13ms/step - loss: 6.7998 - val_loss: 7.2193\n",
      "Epoch 25/50\n",
      "3/3 [==============================] - 0s 16ms/step - loss: 6.7655 - val_loss: 7.1894\n",
      "Epoch 26/50\n",
      "3/3 [==============================] - 0s 27ms/step - loss: 6.7322 - val_loss: 7.0708\n",
      "Epoch 27/50\n",
      "3/3 [==============================] - 0s 14ms/step - loss: 6.7024 - val_loss: 7.0861\n",
      "Epoch 28/50\n",
      "3/3 [==============================] - 0s 14ms/step - loss: 6.6748 - val_loss: 6.9572\n",
      "Epoch 29/50\n",
      "3/3 [==============================] - 0s 14ms/step - loss: 6.6499 - val_loss: 6.9268\n",
      "Epoch 30/50\n",
      "3/3 [==============================] - 0s 18ms/step - loss: 6.6233 - val_loss: 6.8956\n",
      "Epoch 31/50\n",
      "3/3 [==============================] - 0s 32ms/step - loss: 6.5988 - val_loss: 6.7952\n",
      "Epoch 32/50\n",
      "3/3 [==============================] - 0s 14ms/step - loss: 6.5764 - val_loss: 6.7890\n",
      "Epoch 33/50\n",
      "3/3 [==============================] - 0s 14ms/step - loss: 6.5529 - val_loss: 6.7023\n",
      "Epoch 34/50\n",
      "3/3 [==============================] - 0s 14ms/step - loss: 6.5340 - val_loss: 6.6667\n",
      "Epoch 35/50\n",
      "3/3 [==============================] - 0s 14ms/step - loss: 6.5137 - val_loss: 6.6328\n",
      "Epoch 36/50\n",
      "3/3 [==============================] - 0s 14ms/step - loss: 6.4951 - val_loss: 6.5702\n",
      "Epoch 37/50\n",
      "3/3 [==============================] - 0s 15ms/step - loss: 6.4773 - val_loss: 6.5266\n",
      "Epoch 38/50\n",
      "3/3 [==============================] - 0s 29ms/step - loss: 6.4603 - val_loss: 6.4746\n",
      "Epoch 39/50\n",
      "3/3 [==============================] - 0s 14ms/step - loss: 6.4439 - val_loss: 6.5058\n",
      "Epoch 40/50\n",
      "3/3 [==============================] - 0s 14ms/step - loss: 6.4283 - val_loss: 6.4521\n",
      "Epoch 41/50\n",
      "3/3 [==============================] - 0s 15ms/step - loss: 6.4152 - val_loss: 6.4100\n",
      "Epoch 42/50\n",
      "3/3 [==============================] - 0s 13ms/step - loss: 6.4019 - val_loss: 6.3528\n",
      "Epoch 43/50\n",
      "3/3 [==============================] - 0s 14ms/step - loss: 6.3888 - val_loss: 6.3504\n",
      "Epoch 44/50\n",
      "3/3 [==============================] - 0s 15ms/step - loss: 6.3760 - val_loss: 6.2795\n",
      "Epoch 45/50\n",
      "3/3 [==============================] - 0s 16ms/step - loss: 6.3663 - val_loss: 6.2847\n",
      "Epoch 46/50\n",
      "3/3 [==============================] - 0s 14ms/step - loss: 6.3544 - val_loss: 6.2915\n",
      "Epoch 47/50\n",
      "3/3 [==============================] - 0s 14ms/step - loss: 6.3428 - val_loss: 6.1858\n",
      "Epoch 48/50\n",
      "3/3 [==============================] - 0s 14ms/step - loss: 6.3351 - val_loss: 6.2824\n",
      "Epoch 49/50\n",
      "3/3 [==============================] - 0s 15ms/step - loss: 6.3242 - val_loss: 6.1448\n",
      "Epoch 50/50\n",
      "3/3 [==============================] - 0s 16ms/step - loss: 6.3160 - val_loss: 6.1627\n"
     ]
    },
    {
     "name": "stderr",
     "output_type": "stream",
     "text": [
      "C:\\Users\\Baejs\\anaconda3\\envs\\bae\\lib\\site-packages\\keras\\src\\engine\\training.py:3000: UserWarning: You are saving your model as an HDF5 file via `model.save()`. This file format is considered legacy. We recommend using instead the native Keras format, e.g. `model.save('my_model.keras')`.\n",
      "  saving_api.save_model(\n"
     ]
    },
    {
     "name": "stdout",
     "output_type": "stream",
     "text": [
      "============== EVALUATION ==============\n"
     ]
    },
    {
     "name": "stderr",
     "output_type": "stream",
     "text": [
      "  0%|                                                                                           | 0/10 [00:00<?, ?it/s]"
     ]
    },
    {
     "name": "stdout",
     "output_type": "stream",
     "text": [
      "10/10 [==============================] - 0s 1ms/step\n"
     ]
    },
    {
     "name": "stderr",
     "output_type": "stream",
     "text": [
      " 10%|████████▎                                                                          | 1/10 [00:00<00:01,  6.77it/s]"
     ]
    },
    {
     "name": "stdout",
     "output_type": "stream",
     "text": [
      "10/10 [==============================] - 0s 1ms/step\n",
      "10/10 [==============================] - 0s 1ms/step\n"
     ]
    },
    {
     "name": "stderr",
     "output_type": "stream",
     "text": [
      " 30%|████████████████████████▉                                                          | 3/10 [00:00<00:00, 10.68it/s]"
     ]
    },
    {
     "name": "stdout",
     "output_type": "stream",
     "text": [
      "10/10 [==============================] - 0s 1ms/step\n",
      "10/10 [==============================] - 0s 1ms/step\n"
     ]
    },
    {
     "name": "stderr",
     "output_type": "stream",
     "text": [
      " 50%|█████████████████████████████████████████▌                                         | 5/10 [00:00<00:00, 12.17it/s]"
     ]
    },
    {
     "name": "stdout",
     "output_type": "stream",
     "text": [
      "10/10 [==============================] - 0s 1ms/step\n",
      "10/10 [==============================] - 0s 997us/step\n"
     ]
    },
    {
     "name": "stderr",
     "output_type": "stream",
     "text": [
      " 70%|██████████████████████████████████████████████████████████                         | 7/10 [00:00<00:00, 12.86it/s]"
     ]
    },
    {
     "name": "stdout",
     "output_type": "stream",
     "text": [
      "10/10 [==============================] - 0s 1ms/step\n",
      "10/10 [==============================] - 0s 997us/step\n"
     ]
    },
    {
     "name": "stderr",
     "output_type": "stream",
     "text": [
      " 90%|██████████████████████████████████████████████████████████████████████████▋        | 9/10 [00:00<00:00, 13.34it/s]"
     ]
    },
    {
     "name": "stdout",
     "output_type": "stream",
     "text": [
      "10/10 [==============================] - 0s 1ms/step\n"
     ]
    },
    {
     "name": "stderr",
     "output_type": "stream",
     "text": [
      "100%|██████████████████████████████████████████████████████████████████████████████████| 10/10 [00:00<00:00, 12.47it/s]\n",
      "2023-08-26 01:10:39,064 - INFO - AUC : 0.76\n",
      "2023-08-26 01:10:39,066 - INFO - target_dir : ../Sample_data\n",
      "2023-08-26 01:10:39,067 - INFO - train_file num : 5\n",
      "2023-08-26 01:10:39,068 - INFO - eval_file  num : 10\n"
     ]
    },
    {
     "name": "stdout",
     "output_type": "stream",
     "text": [
      "===========================\n",
      "Model file not found for fan -> id_00. Skipping...\n",
      "Model file not found for fan -> id_00. Skipping...\n",
      "Model file not found for fan -> id_00. Skipping...\n",
      "Model file not found for fan -> id_00. Skipping...\n",
      "Model file not found for fan -> id_00. Skipping...\n",
      "\n",
      "===========================\n"
     ]
    },
    {
     "name": "stderr",
     "output_type": "stream",
     "text": [
      "generate train_dataset: 100%|████████████████████████████████████████████████████████████| 5/5 [00:00<00:00, 56.97it/s]\n",
      "2023-08-26 01:10:39,172 - INFO - save_pickle -> ./pickle_transfer_pretrain_v4/train_fan_id_02.pickle\n",
      "2023-08-26 01:10:39,177 - INFO - save_pickle -> ./pickle_transfer_pretrain_v4/eval_files_fan_id_02.pickle\n",
      "2023-08-26 01:10:39,179 - INFO - save_pickle -> ./pickle_transfer_pretrain_v4/eval_labels_fan_id_02.pickle\n"
     ]
    },
    {
     "name": "stdout",
     "output_type": "stream",
     "text": [
      "\n",
      "Training transfer model for fan -> id_02 using pretrain model pretrain_('valve', 'slider', 'pump')\n",
      "Epoch 1/50\n",
      "3/3 [==============================] - 1s 63ms/step - loss: 12.7373 - val_loss: 14.2735\n",
      "Epoch 2/50\n",
      "3/3 [==============================] - 0s 14ms/step - loss: 12.5275 - val_loss: 10.4026\n",
      "Epoch 3/50\n",
      "3/3 [==============================] - 0s 14ms/step - loss: 8.9342 - val_loss: 11.7452\n",
      "Epoch 4/50\n",
      "3/3 [==============================] - 0s 14ms/step - loss: 8.9222 - val_loss: 9.3342\n",
      "Epoch 5/50\n",
      "3/3 [==============================] - 0s 15ms/step - loss: 7.8472 - val_loss: 10.3377\n",
      "Epoch 6/50\n",
      "3/3 [==============================] - 0s 15ms/step - loss: 7.6279 - val_loss: 8.6394\n",
      "Epoch 7/50\n",
      "3/3 [==============================] - 0s 15ms/step - loss: 7.2544 - val_loss: 9.0393\n",
      "Epoch 8/50\n",
      "3/3 [==============================] - 0s 14ms/step - loss: 7.0222 - val_loss: 8.7265\n",
      "Epoch 9/50\n",
      "3/3 [==============================] - 0s 14ms/step - loss: 6.8487 - val_loss: 8.8445\n",
      "Epoch 10/50\n",
      "3/3 [==============================] - 0s 14ms/step - loss: 6.7028 - val_loss: 8.5142\n",
      "Epoch 11/50\n",
      "3/3 [==============================] - 0s 14ms/step - loss: 6.5916 - val_loss: 8.4324\n",
      "Epoch 12/50\n",
      "3/3 [==============================] - 0s 14ms/step - loss: 6.4608 - val_loss: 8.3280\n",
      "Epoch 13/50\n",
      "3/3 [==============================] - 0s 14ms/step - loss: 6.4304 - val_loss: 8.2774\n",
      "Epoch 14/50\n",
      "3/3 [==============================] - 0s 14ms/step - loss: 6.3064 - val_loss: 8.1909\n",
      "Epoch 15/50\n",
      "3/3 [==============================] - 0s 14ms/step - loss: 6.3076 - val_loss: 8.1606\n",
      "Epoch 16/50\n",
      "3/3 [==============================] - 0s 14ms/step - loss: 6.2068 - val_loss: 8.1362\n",
      "Epoch 17/50\n",
      "3/3 [==============================] - 0s 14ms/step - loss: 6.1931 - val_loss: 8.0522\n",
      "Epoch 18/50\n",
      "3/3 [==============================] - 0s 14ms/step - loss: 6.1332 - val_loss: 8.0031\n",
      "Epoch 19/50\n",
      "3/3 [==============================] - 0s 15ms/step - loss: 6.0976 - val_loss: 7.8761\n",
      "Epoch 20/50\n",
      "3/3 [==============================] - 0s 14ms/step - loss: 6.0639 - val_loss: 7.8446\n",
      "Epoch 21/50\n",
      "3/3 [==============================] - 0s 13ms/step - loss: 6.0231 - val_loss: 7.8986\n",
      "Epoch 22/50\n",
      "3/3 [==============================] - 0s 13ms/step - loss: 5.9955 - val_loss: 7.8182\n",
      "Epoch 23/50\n",
      "3/3 [==============================] - 0s 14ms/step - loss: 5.9652 - val_loss: 7.7302\n",
      "Epoch 24/50\n",
      "3/3 [==============================] - 0s 15ms/step - loss: 5.9355 - val_loss: 7.6692\n",
      "Epoch 25/50\n",
      "3/3 [==============================] - 0s 15ms/step - loss: 5.9087 - val_loss: 7.6566\n",
      "Epoch 26/50\n",
      "3/3 [==============================] - 0s 14ms/step - loss: 5.8816 - val_loss: 7.6264\n",
      "Epoch 27/50\n",
      "3/3 [==============================] - 0s 16ms/step - loss: 5.8563 - val_loss: 7.5602\n",
      "Epoch 28/50\n",
      "3/3 [==============================] - 0s 13ms/step - loss: 5.8338 - val_loss: 7.5136\n",
      "Epoch 29/50\n",
      "3/3 [==============================] - 0s 13ms/step - loss: 5.8106 - val_loss: 7.4845\n",
      "Epoch 30/50\n",
      "3/3 [==============================] - 0s 26ms/step - loss: 5.7889 - val_loss: 7.4669\n",
      "Epoch 31/50\n",
      "3/3 [==============================] - 0s 13ms/step - loss: 5.7695 - val_loss: 7.4105\n",
      "Epoch 32/50\n",
      "3/3 [==============================] - 0s 13ms/step - loss: 5.7492 - val_loss: 7.3731\n",
      "Epoch 33/50\n",
      "3/3 [==============================] - 0s 13ms/step - loss: 5.7296 - val_loss: 7.3355\n",
      "Epoch 34/50\n",
      "3/3 [==============================] - 0s 14ms/step - loss: 5.7127 - val_loss: 7.3061\n",
      "Epoch 35/50\n",
      "3/3 [==============================] - 0s 13ms/step - loss: 5.6970 - val_loss: 7.2458\n",
      "Epoch 36/50\n",
      "3/3 [==============================] - 0s 13ms/step - loss: 5.6788 - val_loss: 7.2319\n",
      "Epoch 37/50\n",
      "3/3 [==============================] - 0s 14ms/step - loss: 5.6639 - val_loss: 7.1786\n",
      "Epoch 38/50\n",
      "3/3 [==============================] - 0s 13ms/step - loss: 5.6488 - val_loss: 7.1726\n",
      "Epoch 39/50\n",
      "3/3 [==============================] - 0s 13ms/step - loss: 5.6360 - val_loss: 7.1316\n",
      "Epoch 40/50\n",
      "3/3 [==============================] - 0s 13ms/step - loss: 5.6208 - val_loss: 7.1100\n",
      "Epoch 41/50\n",
      "3/3 [==============================] - 0s 14ms/step - loss: 5.6072 - val_loss: 7.0518\n",
      "Epoch 42/50\n",
      "3/3 [==============================] - 0s 14ms/step - loss: 5.5949 - val_loss: 7.0275\n",
      "Epoch 43/50\n",
      "3/3 [==============================] - 0s 13ms/step - loss: 5.5835 - val_loss: 7.0062\n",
      "Epoch 44/50\n",
      "3/3 [==============================] - 0s 13ms/step - loss: 5.5717 - val_loss: 6.9784\n",
      "Epoch 45/50\n",
      "3/3 [==============================] - 0s 13ms/step - loss: 5.5634 - val_loss: 6.9743\n",
      "Epoch 46/50\n",
      "3/3 [==============================] - 0s 13ms/step - loss: 5.5544 - val_loss: 6.9084\n",
      "Epoch 47/50\n",
      "3/3 [==============================] - 0s 13ms/step - loss: 5.5409 - val_loss: 6.9167\n",
      "Epoch 48/50\n",
      "3/3 [==============================] - 0s 15ms/step - loss: 5.5327 - val_loss: 6.8649\n",
      "Epoch 49/50\n",
      "3/3 [==============================] - 0s 14ms/step - loss: 5.5234 - val_loss: 6.8459\n",
      "Epoch 50/50\n",
      "3/3 [==============================] - 0s 13ms/step - loss: 5.5140 - val_loss: 6.8163\n",
      "============== EVALUATION ==============\n"
     ]
    },
    {
     "name": "stderr",
     "output_type": "stream",
     "text": [
      "C:\\Users\\Baejs\\anaconda3\\envs\\bae\\lib\\site-packages\\keras\\src\\engine\\training.py:3000: UserWarning: You are saving your model as an HDF5 file via `model.save()`. This file format is considered legacy. We recommend using instead the native Keras format, e.g. `model.save('my_model.keras')`.\n",
      "  saving_api.save_model(\n",
      "  0%|                                                                                           | 0/10 [00:00<?, ?it/s]"
     ]
    },
    {
     "name": "stdout",
     "output_type": "stream",
     "text": [
      "10/10 [==============================] - 0s 1ms/step\n"
     ]
    },
    {
     "name": "stderr",
     "output_type": "stream",
     "text": [
      " 10%|████████▎                                                                          | 1/10 [00:00<00:01,  8.34it/s]"
     ]
    },
    {
     "name": "stdout",
     "output_type": "stream",
     "text": [
      "10/10 [==============================] - 0s 1ms/step\n",
      "10/10 [==============================] - 0s 1ms/step\n"
     ]
    },
    {
     "name": "stderr",
     "output_type": "stream",
     "text": [
      " 30%|████████████████████████▉                                                          | 3/10 [00:00<00:00, 11.34it/s]"
     ]
    },
    {
     "name": "stdout",
     "output_type": "stream",
     "text": [
      "10/10 [==============================] - 0s 2ms/step\n",
      "10/10 [==============================] - 0s 1ms/step\n"
     ]
    },
    {
     "name": "stderr",
     "output_type": "stream",
     "text": [
      " 50%|█████████████████████████████████████████▌                                         | 5/10 [00:00<00:00, 12.23it/s]"
     ]
    },
    {
     "name": "stdout",
     "output_type": "stream",
     "text": [
      "10/10 [==============================] - 0s 1ms/step\n",
      "10/10 [==============================] - 0s 1ms/step\n"
     ]
    },
    {
     "name": "stderr",
     "output_type": "stream",
     "text": [
      " 70%|██████████████████████████████████████████████████████████                         | 7/10 [00:00<00:00, 12.67it/s]"
     ]
    },
    {
     "name": "stdout",
     "output_type": "stream",
     "text": [
      "10/10 [==============================] - 0s 1ms/step\n",
      "10/10 [==============================] - 0s 1ms/step\n"
     ]
    },
    {
     "name": "stderr",
     "output_type": "stream",
     "text": [
      " 90%|██████████████████████████████████████████████████████████████████████████▋        | 9/10 [00:00<00:00, 12.71it/s]"
     ]
    },
    {
     "name": "stdout",
     "output_type": "stream",
     "text": [
      "10/10 [==============================] - 0s 1ms/step\n"
     ]
    },
    {
     "name": "stderr",
     "output_type": "stream",
     "text": [
      "100%|██████████████████████████████████████████████████████████████████████████████████| 10/10 [00:00<00:00, 12.11it/s]\n",
      "2023-08-26 01:10:42,734 - INFO - AUC : 0.6399999999999999\n",
      "2023-08-26 01:10:42,737 - INFO - target_dir : ../Sample_data\n",
      "2023-08-26 01:10:42,738 - INFO - train_file num : 5\n",
      "2023-08-26 01:10:42,740 - INFO - eval_file  num : 10\n"
     ]
    },
    {
     "name": "stdout",
     "output_type": "stream",
     "text": [
      "===========================\n",
      "Model file not found for fan -> id_02. Skipping...\n",
      "Model file not found for fan -> id_02. Skipping...\n",
      "Model file not found for fan -> id_02. Skipping...\n",
      "Model file not found for fan -> id_02. Skipping...\n",
      "Model file not found for fan -> id_02. Skipping...\n",
      "\n",
      "===========================\n"
     ]
    },
    {
     "name": "stderr",
     "output_type": "stream",
     "text": [
      "generate train_dataset: 100%|████████████████████████████████████████████████████████████| 5/5 [00:00<00:00, 82.16it/s]\n",
      "2023-08-26 01:10:42,805 - INFO - save_pickle -> ./pickle_transfer_pretrain_v4/train_fan_id_04.pickle\n",
      "2023-08-26 01:10:42,809 - INFO - save_pickle -> ./pickle_transfer_pretrain_v4/eval_files_fan_id_04.pickle\n",
      "2023-08-26 01:10:42,812 - INFO - save_pickle -> ./pickle_transfer_pretrain_v4/eval_labels_fan_id_04.pickle\n"
     ]
    },
    {
     "name": "stdout",
     "output_type": "stream",
     "text": [
      "\n",
      "Training transfer model for fan -> id_04 using pretrain model pretrain_('valve', 'slider', 'pump')\n",
      "Epoch 1/50\n",
      "3/3 [==============================] - 1s 68ms/step - loss: 13.9513 - val_loss: 7.6830\n",
      "Epoch 2/50\n",
      "3/3 [==============================] - 0s 18ms/step - loss: 11.9820 - val_loss: 7.8998\n",
      "Epoch 3/50\n",
      "3/3 [==============================] - 0s 17ms/step - loss: 9.1758 - val_loss: 7.0886\n",
      "Epoch 4/50\n",
      "3/3 [==============================] - 0s 16ms/step - loss: 10.0501 - val_loss: 5.5119\n",
      "Epoch 5/50\n",
      "3/3 [==============================] - 0s 19ms/step - loss: 8.1382 - val_loss: 6.7824\n",
      "Epoch 6/50\n",
      "3/3 [==============================] - 0s 17ms/step - loss: 8.6919 - val_loss: 5.8976\n",
      "Epoch 7/50\n",
      "3/3 [==============================] - 0s 13ms/step - loss: 7.7490 - val_loss: 5.9061\n",
      "Epoch 8/50\n",
      "3/3 [==============================] - 0s 13ms/step - loss: 7.9856 - val_loss: 5.6402\n",
      "Epoch 9/50\n",
      "3/3 [==============================] - 0s 13ms/step - loss: 7.4497 - val_loss: 5.8793\n",
      "Epoch 10/50\n",
      "3/3 [==============================] - 0s 14ms/step - loss: 7.5330 - val_loss: 5.4685\n",
      "Epoch 11/50\n",
      "3/3 [==============================] - 0s 13ms/step - loss: 7.2649 - val_loss: 5.4559\n",
      "Epoch 12/50\n",
      "3/3 [==============================] - 0s 14ms/step - loss: 7.2401 - val_loss: 5.4505\n",
      "Epoch 13/50\n",
      "3/3 [==============================] - 0s 15ms/step - loss: 7.1183 - val_loss: 5.4866\n",
      "Epoch 14/50\n",
      "3/3 [==============================] - 0s 15ms/step - loss: 7.0313 - val_loss: 5.4253\n",
      "Epoch 15/50\n",
      "3/3 [==============================] - 0s 14ms/step - loss: 6.9871 - val_loss: 5.4104\n",
      "Epoch 16/50\n",
      "3/3 [==============================] - 0s 14ms/step - loss: 6.8885 - val_loss: 5.3991\n",
      "Epoch 17/50\n",
      "3/3 [==============================] - 0s 14ms/step - loss: 6.8445 - val_loss: 5.3581\n",
      "Epoch 18/50\n",
      "3/3 [==============================] - 0s 15ms/step - loss: 6.7870 - val_loss: 5.3937\n",
      "Epoch 19/50\n",
      "3/3 [==============================] - 0s 15ms/step - loss: 6.7300 - val_loss: 5.3615\n",
      "Epoch 20/50\n",
      "3/3 [==============================] - 0s 14ms/step - loss: 6.6869 - val_loss: 5.3931\n",
      "Epoch 21/50\n",
      "3/3 [==============================] - 0s 15ms/step - loss: 6.6363 - val_loss: 5.4047\n",
      "Epoch 22/50\n",
      "3/3 [==============================] - 0s 14ms/step - loss: 6.5935 - val_loss: 5.3448\n",
      "Epoch 23/50\n",
      "3/3 [==============================] - 0s 14ms/step - loss: 6.5552 - val_loss: 5.3714\n",
      "Epoch 24/50\n",
      "3/3 [==============================] - 0s 15ms/step - loss: 6.5174 - val_loss: 5.3971\n",
      "Epoch 25/50\n",
      "3/3 [==============================] - 0s 15ms/step - loss: 6.4842 - val_loss: 5.3666\n",
      "Epoch 26/50\n",
      "3/3 [==============================] - 0s 15ms/step - loss: 6.4515 - val_loss: 5.3718\n",
      "Epoch 27/50\n",
      "3/3 [==============================] - 0s 16ms/step - loss: 6.4231 - val_loss: 5.3695\n",
      "Epoch 28/50\n",
      "3/3 [==============================] - 0s 28ms/step - loss: 6.3929 - val_loss: 5.3879\n",
      "Epoch 29/50\n",
      "3/3 [==============================] - 0s 13ms/step - loss: 6.3667 - val_loss: 5.3738\n",
      "Epoch 30/50\n",
      "3/3 [==============================] - 0s 14ms/step - loss: 6.3416 - val_loss: 5.3825\n",
      "Epoch 31/50\n",
      "3/3 [==============================] - 0s 13ms/step - loss: 6.3176 - val_loss: 5.3794\n",
      "Epoch 32/50\n",
      "3/3 [==============================] - 0s 15ms/step - loss: 6.2972 - val_loss: 5.3835\n",
      "Epoch 33/50\n",
      "3/3 [==============================] - 0s 14ms/step - loss: 6.2761 - val_loss: 5.3657\n",
      "Epoch 34/50\n",
      "3/3 [==============================] - 0s 14ms/step - loss: 6.2577 - val_loss: 5.3885\n",
      "Epoch 35/50\n",
      "3/3 [==============================] - 0s 14ms/step - loss: 6.2403 - val_loss: 5.3915\n",
      "Epoch 36/50\n",
      "3/3 [==============================] - 0s 14ms/step - loss: 6.2236 - val_loss: 5.3785\n",
      "Epoch 37/50\n",
      "3/3 [==============================] - 0s 15ms/step - loss: 6.2088 - val_loss: 5.3872\n",
      "Epoch 38/50\n",
      "3/3 [==============================] - 0s 15ms/step - loss: 6.1954 - val_loss: 5.4082\n",
      "Epoch 39/50\n",
      "3/3 [==============================] - 0s 14ms/step - loss: 6.1821 - val_loss: 5.3794\n",
      "Epoch 40/50\n",
      "3/3 [==============================] - 0s 17ms/step - loss: 6.1680 - val_loss: 5.3855\n",
      "Epoch 41/50\n",
      "3/3 [==============================] - 0s 17ms/step - loss: 6.1564 - val_loss: 5.3672\n",
      "Epoch 42/50\n",
      "3/3 [==============================] - 0s 14ms/step - loss: 6.1438 - val_loss: 5.3743\n",
      "Epoch 43/50\n",
      "3/3 [==============================] - 0s 14ms/step - loss: 6.1344 - val_loss: 5.3764\n",
      "Epoch 44/50\n",
      "3/3 [==============================] - 0s 14ms/step - loss: 6.1233 - val_loss: 5.3536\n",
      "Epoch 45/50\n",
      "3/3 [==============================] - 0s 14ms/step - loss: 6.1128 - val_loss: 5.3403\n",
      "Epoch 46/50\n",
      "3/3 [==============================] - 0s 15ms/step - loss: 6.1033 - val_loss: 5.3449\n",
      "Epoch 47/50\n",
      "3/3 [==============================] - 0s 16ms/step - loss: 6.0943 - val_loss: 5.3270\n",
      "Epoch 48/50\n",
      "3/3 [==============================] - 0s 15ms/step - loss: 6.0850 - val_loss: 5.3189\n",
      "Epoch 49/50\n",
      "3/3 [==============================] - 0s 14ms/step - loss: 6.0766 - val_loss: 5.3193\n",
      "Epoch 50/50\n",
      "3/3 [==============================] - 0s 14ms/step - loss: 6.0686 - val_loss: 5.2993\n",
      "============== EVALUATION ==============\n"
     ]
    },
    {
     "name": "stderr",
     "output_type": "stream",
     "text": [
      "C:\\Users\\Baejs\\anaconda3\\envs\\bae\\lib\\site-packages\\keras\\src\\engine\\training.py:3000: UserWarning: You are saving your model as an HDF5 file via `model.save()`. This file format is considered legacy. We recommend using instead the native Keras format, e.g. `model.save('my_model.keras')`.\n",
      "  saving_api.save_model(\n",
      "  0%|                                                                                           | 0/10 [00:00<?, ?it/s]"
     ]
    },
    {
     "name": "stdout",
     "output_type": "stream",
     "text": [
      "10/10 [==============================] - 0s 1ms/step\n"
     ]
    },
    {
     "name": "stderr",
     "output_type": "stream",
     "text": [
      " 10%|████████▎                                                                          | 1/10 [00:00<00:01,  8.79it/s]"
     ]
    },
    {
     "name": "stdout",
     "output_type": "stream",
     "text": [
      "10/10 [==============================] - 0s 1ms/step\n",
      "10/10 [==============================] - 0s 1ms/step\n"
     ]
    },
    {
     "name": "stderr",
     "output_type": "stream",
     "text": [
      " 30%|████████████████████████▉                                                          | 3/10 [00:00<00:00, 12.06it/s]"
     ]
    },
    {
     "name": "stdout",
     "output_type": "stream",
     "text": [
      "10/10 [==============================] - 0s 899us/step\n",
      "10/10 [==============================] - 0s 1ms/step\n"
     ]
    },
    {
     "name": "stderr",
     "output_type": "stream",
     "text": [
      " 50%|█████████████████████████████████████████▌                                         | 5/10 [00:00<00:00, 13.04it/s]"
     ]
    },
    {
     "name": "stdout",
     "output_type": "stream",
     "text": [
      "10/10 [==============================] - 0s 1ms/step\n",
      "10/10 [==============================] - 0s 1ms/step\n"
     ]
    },
    {
     "name": "stderr",
     "output_type": "stream",
     "text": [
      " 70%|██████████████████████████████████████████████████████████                         | 7/10 [00:00<00:00, 13.37it/s]"
     ]
    },
    {
     "name": "stdout",
     "output_type": "stream",
     "text": [
      "10/10 [==============================] - 0s 1ms/step\n",
      "10/10 [==============================] - 0s 1ms/step\n"
     ]
    },
    {
     "name": "stderr",
     "output_type": "stream",
     "text": [
      " 90%|██████████████████████████████████████████████████████████████████████████▋        | 9/10 [00:00<00:00, 12.54it/s]"
     ]
    },
    {
     "name": "stdout",
     "output_type": "stream",
     "text": [
      "10/10 [==============================] - 0s 1ms/step\n"
     ]
    },
    {
     "name": "stderr",
     "output_type": "stream",
     "text": [
      "100%|██████████████████████████████████████████████████████████████████████████████████| 10/10 [00:00<00:00, 12.59it/s]\n",
      "2023-08-26 01:10:46,599 - INFO - AUC : 0.6399999999999999\n",
      "2023-08-26 01:10:46,600 - INFO - target_dir : ../Sample_data\n",
      "2023-08-26 01:10:46,602 - INFO - train_file num : 5\n",
      "2023-08-26 01:10:46,602 - INFO - eval_file  num : 10\n"
     ]
    },
    {
     "name": "stdout",
     "output_type": "stream",
     "text": [
      "===========================\n",
      "Model file not found for fan -> id_04. Skipping...\n",
      "Model file not found for fan -> id_04. Skipping...\n",
      "Model file not found for fan -> id_04. Skipping...\n",
      "Model file not found for fan -> id_04. Skipping...\n",
      "Model file not found for fan -> id_04. Skipping...\n",
      "\n",
      "===========================\n"
     ]
    },
    {
     "name": "stderr",
     "output_type": "stream",
     "text": [
      "generate train_dataset: 100%|████████████████████████████████████████████████████████████| 5/5 [00:00<00:00, 83.51it/s]\n",
      "2023-08-26 01:10:46,664 - INFO - save_pickle -> ./pickle_transfer_pretrain_v4/train_fan_id_06.pickle\n",
      "2023-08-26 01:10:46,669 - INFO - save_pickle -> ./pickle_transfer_pretrain_v4/eval_files_fan_id_06.pickle\n",
      "2023-08-26 01:10:46,671 - INFO - save_pickle -> ./pickle_transfer_pretrain_v4/eval_labels_fan_id_06.pickle\n"
     ]
    },
    {
     "name": "stdout",
     "output_type": "stream",
     "text": [
      "\n",
      "Training transfer model for fan -> id_06 using pretrain model pretrain_('valve', 'slider', 'pump')\n",
      "Epoch 1/50\n",
      "3/3 [==============================] - 1s 63ms/step - loss: 13.9354 - val_loss: 9.2912\n",
      "Epoch 2/50\n",
      "3/3 [==============================] - 0s 16ms/step - loss: 10.9482 - val_loss: 9.0756\n",
      "Epoch 3/50\n",
      "3/3 [==============================] - 0s 15ms/step - loss: 8.8172 - val_loss: 7.7533\n",
      "Epoch 4/50\n",
      "3/3 [==============================] - 0s 14ms/step - loss: 8.8104 - val_loss: 7.7899\n",
      "Epoch 5/50\n",
      "3/3 [==============================] - 0s 15ms/step - loss: 7.4808 - val_loss: 7.9210\n",
      "Epoch 6/50\n",
      "3/3 [==============================] - 0s 14ms/step - loss: 7.6480 - val_loss: 7.7088\n",
      "Epoch 7/50\n",
      "3/3 [==============================] - 0s 14ms/step - loss: 7.2248 - val_loss: 6.6400\n",
      "Epoch 8/50\n",
      "3/3 [==============================] - 0s 14ms/step - loss: 7.0311 - val_loss: 6.5751\n",
      "Epoch 9/50\n",
      "3/3 [==============================] - 0s 14ms/step - loss: 6.9737 - val_loss: 6.6550\n",
      "Epoch 10/50\n",
      "3/3 [==============================] - 0s 14ms/step - loss: 6.7475 - val_loss: 7.0863\n",
      "Epoch 11/50\n",
      "3/3 [==============================] - 0s 15ms/step - loss: 6.7465 - val_loss: 6.8686\n",
      "Epoch 12/50\n",
      "3/3 [==============================] - 0s 15ms/step - loss: 6.6314 - val_loss: 6.6134\n",
      "Epoch 13/50\n",
      "3/3 [==============================] - 0s 16ms/step - loss: 6.6215 - val_loss: 6.5393\n",
      "Epoch 14/50\n",
      "3/3 [==============================] - 0s 15ms/step - loss: 6.5437 - val_loss: 6.6455\n",
      "Epoch 15/50\n",
      "3/3 [==============================] - 0s 16ms/step - loss: 6.5393 - val_loss: 6.5687\n",
      "Epoch 16/50\n",
      "3/3 [==============================] - 0s 14ms/step - loss: 6.4966 - val_loss: 6.5763\n",
      "Epoch 17/50\n",
      "3/3 [==============================] - 0s 15ms/step - loss: 6.4861 - val_loss: 6.6158\n",
      "Epoch 18/50\n",
      "3/3 [==============================] - 0s 14ms/step - loss: 6.4587 - val_loss: 6.6208\n",
      "Epoch 19/50\n",
      "3/3 [==============================] - 0s 13ms/step - loss: 6.4449 - val_loss: 6.4959\n",
      "Epoch 20/50\n",
      "3/3 [==============================] - 0s 14ms/step - loss: 6.4284 - val_loss: 6.4863\n",
      "Epoch 21/50\n",
      "3/3 [==============================] - 0s 14ms/step - loss: 6.4119 - val_loss: 6.5679\n",
      "Epoch 22/50\n",
      "3/3 [==============================] - 0s 14ms/step - loss: 6.4004 - val_loss: 6.5699\n",
      "Epoch 23/50\n",
      "3/3 [==============================] - 0s 14ms/step - loss: 6.3849 - val_loss: 6.4777\n",
      "Epoch 24/50\n",
      "3/3 [==============================] - 0s 14ms/step - loss: 6.3765 - val_loss: 6.4471\n",
      "Epoch 25/50\n",
      "3/3 [==============================] - 0s 14ms/step - loss: 6.3649 - val_loss: 6.5393\n",
      "Epoch 26/50\n",
      "3/3 [==============================] - 0s 14ms/step - loss: 6.3530 - val_loss: 6.5174\n",
      "Epoch 27/50\n",
      "3/3 [==============================] - 0s 13ms/step - loss: 6.3419 - val_loss: 6.4468\n",
      "Epoch 28/50\n",
      "3/3 [==============================] - 0s 14ms/step - loss: 6.3319 - val_loss: 6.4875\n",
      "Epoch 29/50\n",
      "3/3 [==============================] - 0s 13ms/step - loss: 6.3209 - val_loss: 6.4605\n",
      "Epoch 30/50\n",
      "3/3 [==============================] - 0s 13ms/step - loss: 6.3113 - val_loss: 6.4737\n",
      "Epoch 31/50\n",
      "3/3 [==============================] - 0s 14ms/step - loss: 6.3008 - val_loss: 6.5134\n",
      "Epoch 32/50\n",
      "3/3 [==============================] - 0s 13ms/step - loss: 6.2924 - val_loss: 6.4566\n",
      "Epoch 33/50\n",
      "3/3 [==============================] - 0s 13ms/step - loss: 6.2815 - val_loss: 6.4502\n",
      "Epoch 34/50\n",
      "3/3 [==============================] - 0s 15ms/step - loss: 6.2735 - val_loss: 6.4436\n",
      "Epoch 35/50\n",
      "3/3 [==============================] - 0s 14ms/step - loss: 6.2637 - val_loss: 6.3958\n",
      "Epoch 36/50\n",
      "3/3 [==============================] - 0s 12ms/step - loss: 6.2547 - val_loss: 6.4300\n",
      "Epoch 37/50\n",
      "3/3 [==============================] - 0s 13ms/step - loss: 6.2460 - val_loss: 6.4272\n",
      "Epoch 38/50\n",
      "3/3 [==============================] - 0s 14ms/step - loss: 6.2367 - val_loss: 6.4317\n",
      "Epoch 39/50\n",
      "3/3 [==============================] - 0s 13ms/step - loss: 6.2280 - val_loss: 6.3941\n",
      "Epoch 40/50\n",
      "3/3 [==============================] - 0s 14ms/step - loss: 6.2193 - val_loss: 6.3822\n",
      "Epoch 41/50\n",
      "3/3 [==============================] - 0s 14ms/step - loss: 6.2134 - val_loss: 6.3586\n",
      "Epoch 42/50\n",
      "3/3 [==============================] - 0s 13ms/step - loss: 6.2040 - val_loss: 6.4361\n",
      "Epoch 43/50\n",
      "3/3 [==============================] - 0s 13ms/step - loss: 6.1951 - val_loss: 6.3683\n",
      "Epoch 44/50\n",
      "3/3 [==============================] - 0s 14ms/step - loss: 6.1871 - val_loss: 6.2995\n",
      "Epoch 45/50\n",
      "3/3 [==============================] - 0s 13ms/step - loss: 6.1779 - val_loss: 6.3544\n",
      "Epoch 46/50\n",
      "3/3 [==============================] - 0s 14ms/step - loss: 6.1697 - val_loss: 6.3297\n",
      "Epoch 47/50\n",
      "3/3 [==============================] - 0s 15ms/step - loss: 6.1614 - val_loss: 6.3200\n",
      "Epoch 48/50\n",
      "3/3 [==============================] - 0s 15ms/step - loss: 6.1521 - val_loss: 6.3690\n",
      "Epoch 49/50\n",
      "3/3 [==============================] - 0s 14ms/step - loss: 6.1473 - val_loss: 6.2974\n",
      "Epoch 50/50\n",
      "3/3 [==============================] - 0s 14ms/step - loss: 6.1379 - val_loss: 6.3058\n",
      "============== EVALUATION ==============\n"
     ]
    },
    {
     "name": "stderr",
     "output_type": "stream",
     "text": [
      "C:\\Users\\Baejs\\anaconda3\\envs\\bae\\lib\\site-packages\\keras\\src\\engine\\training.py:3000: UserWarning: You are saving your model as an HDF5 file via `model.save()`. This file format is considered legacy. We recommend using instead the native Keras format, e.g. `model.save('my_model.keras')`.\n",
      "  saving_api.save_model(\n",
      "  0%|                                                                                           | 0/10 [00:00<?, ?it/s]"
     ]
    },
    {
     "name": "stdout",
     "output_type": "stream",
     "text": [
      "10/10 [==============================] - 0s 997us/step\n"
     ]
    },
    {
     "name": "stderr",
     "output_type": "stream",
     "text": [
      " 10%|████████▎                                                                          | 1/10 [00:00<00:00,  9.37it/s]"
     ]
    },
    {
     "name": "stdout",
     "output_type": "stream",
     "text": [
      "10/10 [==============================] - 0s 1ms/step\n",
      "10/10 [==============================] - 0s 1ms/step\n"
     ]
    },
    {
     "name": "stderr",
     "output_type": "stream",
     "text": [
      " 30%|████████████████████████▉                                                          | 3/10 [00:00<00:00, 12.66it/s]"
     ]
    },
    {
     "name": "stdout",
     "output_type": "stream",
     "text": [
      "10/10 [==============================] - 0s 1ms/step\n",
      "10/10 [==============================] - 0s 1ms/step\n"
     ]
    },
    {
     "name": "stderr",
     "output_type": "stream",
     "text": [
      " 50%|█████████████████████████████████████████▌                                         | 5/10 [00:00<00:00, 13.39it/s]"
     ]
    },
    {
     "name": "stdout",
     "output_type": "stream",
     "text": [
      "10/10 [==============================] - 0s 958us/step\n",
      "10/10 [==============================] - 0s 997us/step\n"
     ]
    },
    {
     "name": "stderr",
     "output_type": "stream",
     "text": [
      " 70%|██████████████████████████████████████████████████████████                         | 7/10 [00:00<00:00, 13.83it/s]"
     ]
    },
    {
     "name": "stdout",
     "output_type": "stream",
     "text": [
      "10/10 [==============================] - 0s 1ms/step\n",
      "10/10 [==============================] - 0s 998us/step\n"
     ]
    },
    {
     "name": "stderr",
     "output_type": "stream",
     "text": [
      " 90%|██████████████████████████████████████████████████████████████████████████▋        | 9/10 [00:00<00:00, 14.12it/s]"
     ]
    },
    {
     "name": "stdout",
     "output_type": "stream",
     "text": [
      "10/10 [==============================] - 0s 930us/step\n"
     ]
    },
    {
     "name": "stderr",
     "output_type": "stream",
     "text": [
      "100%|██████████████████████████████████████████████████████████████████████████████████| 10/10 [00:00<00:00, 13.29it/s]\n",
      "2023-08-26 01:10:50,139 - INFO - AUC : 0.76\n"
     ]
    },
    {
     "name": "stdout",
     "output_type": "stream",
     "text": [
      "===========================\n"
     ]
    },
    {
     "name": "stderr",
     "output_type": "stream",
     "text": [
      "2023-08-26 01:10:50,142 - INFO - all results -> ./result_transfer_pretrain_v4/result_transfer_pretrain_v4.yaml\n",
      "2023-08-26 01:10:50,144 - INFO - target_dir : ../Sample_data\n",
      "2023-08-26 01:10:50,146 - INFO - train_file num : 5\n",
      "2023-08-26 01:10:50,147 - INFO - eval_file  num : 10\n"
     ]
    },
    {
     "name": "stdout",
     "output_type": "stream",
     "text": [
      "Model file not found for fan -> id_06. Skipping...\n",
      "Model file not found for fan -> id_06. Skipping...\n",
      "Model file not found for fan -> id_06. Skipping...\n",
      "Model file not found for fan -> id_06. Skipping...\n",
      "Model file not found for fan -> id_06. Skipping...\n",
      "===========================\n",
      "\n",
      "===========================\n"
     ]
    },
    {
     "name": "stderr",
     "output_type": "stream",
     "text": [
      "generate train_dataset: 100%|████████████████████████████████████████████████████████████| 5/5 [00:00<00:00, 87.96it/s]\n",
      "2023-08-26 01:10:50,207 - INFO - save_pickle -> ./pickle_transfer_pretrain_v4/train_valve_id_00.pickle\n",
      "2023-08-26 01:10:50,211 - INFO - save_pickle -> ./pickle_transfer_pretrain_v4/eval_files_valve_id_00.pickle\n",
      "2023-08-26 01:10:50,212 - INFO - save_pickle -> ./pickle_transfer_pretrain_v4/eval_labels_valve_id_00.pickle\n"
     ]
    },
    {
     "name": "stdout",
     "output_type": "stream",
     "text": [
      "\n",
      "Training transfer model for valve -> id_00 using pretrain model pretrain_('fan', 'slider', 'pump')\n",
      "Epoch 1/50\n",
      "3/3 [==============================] - 1s 59ms/step - loss: 18.2872 - val_loss: 16.6345\n",
      "Epoch 2/50\n",
      "3/3 [==============================] - 0s 14ms/step - loss: 17.5038 - val_loss: 16.8404\n",
      "Epoch 3/50\n",
      "3/3 [==============================] - 0s 14ms/step - loss: 15.7593 - val_loss: 13.7950\n",
      "Epoch 4/50\n",
      "3/3 [==============================] - 0s 14ms/step - loss: 14.1664 - val_loss: 13.4647\n",
      "Epoch 5/50\n",
      "3/3 [==============================] - 0s 13ms/step - loss: 14.6186 - val_loss: 12.0714\n",
      "Epoch 6/50\n",
      "3/3 [==============================] - 0s 13ms/step - loss: 13.4566 - val_loss: 13.2271\n",
      "Epoch 7/50\n",
      "3/3 [==============================] - 0s 14ms/step - loss: 13.6053 - val_loss: 12.3722\n",
      "Epoch 8/50\n",
      "3/3 [==============================] - 0s 14ms/step - loss: 13.2043 - val_loss: 11.8329\n",
      "Epoch 9/50\n",
      "3/3 [==============================] - 0s 14ms/step - loss: 13.0533 - val_loss: 12.1978\n",
      "Epoch 10/50\n",
      "3/3 [==============================] - 0s 14ms/step - loss: 13.0171 - val_loss: 11.6314\n",
      "Epoch 11/50\n",
      "3/3 [==============================] - 0s 14ms/step - loss: 12.7648 - val_loss: 11.5270\n",
      "Epoch 12/50\n",
      "3/3 [==============================] - 0s 12ms/step - loss: 12.7448 - val_loss: 11.3561\n",
      "Epoch 13/50\n",
      "3/3 [==============================] - 0s 12ms/step - loss: 12.5833 - val_loss: 11.3041\n",
      "Epoch 14/50\n",
      "3/3 [==============================] - 0s 13ms/step - loss: 12.5093 - val_loss: 11.1971\n",
      "Epoch 15/50\n",
      "3/3 [==============================] - 0s 13ms/step - loss: 12.4524 - val_loss: 11.0198\n",
      "Epoch 16/50\n",
      "3/3 [==============================] - 0s 14ms/step - loss: 12.3473 - val_loss: 11.0808\n",
      "Epoch 17/50\n",
      "3/3 [==============================] - 0s 15ms/step - loss: 12.2980 - val_loss: 10.9322\n",
      "Epoch 18/50\n",
      "3/3 [==============================] - 0s 15ms/step - loss: 12.2440 - val_loss: 10.8754\n",
      "Epoch 19/50\n",
      "3/3 [==============================] - 0s 15ms/step - loss: 12.1783 - val_loss: 10.7669\n",
      "Epoch 20/50\n",
      "3/3 [==============================] - 0s 14ms/step - loss: 12.1302 - val_loss: 10.7883\n",
      "Epoch 21/50\n",
      "3/3 [==============================] - 0s 15ms/step - loss: 12.0885 - val_loss: 10.6694\n",
      "Epoch 22/50\n",
      "3/3 [==============================] - 0s 15ms/step - loss: 12.0479 - val_loss: 10.6548\n",
      "Epoch 23/50\n",
      "3/3 [==============================] - 0s 13ms/step - loss: 12.0078 - val_loss: 10.6070\n",
      "Epoch 24/50\n",
      "3/3 [==============================] - 0s 14ms/step - loss: 11.9695 - val_loss: 10.5548\n",
      "Epoch 25/50\n",
      "3/3 [==============================] - 0s 14ms/step - loss: 11.9425 - val_loss: 10.5419\n",
      "Epoch 26/50\n",
      "3/3 [==============================] - 0s 14ms/step - loss: 11.9121 - val_loss: 10.4900\n",
      "Epoch 27/50\n",
      "3/3 [==============================] - 0s 14ms/step - loss: 11.8808 - val_loss: 10.4520\n",
      "Epoch 28/50\n",
      "3/3 [==============================] - 0s 24ms/step - loss: 11.8516 - val_loss: 10.4356\n",
      "Epoch 29/50\n",
      "3/3 [==============================] - 0s 13ms/step - loss: 11.8316 - val_loss: 10.3904\n",
      "Epoch 30/50\n",
      "3/3 [==============================] - 0s 13ms/step - loss: 11.8034 - val_loss: 10.3741\n",
      "Epoch 31/50\n",
      "3/3 [==============================] - 0s 13ms/step - loss: 11.7853 - val_loss: 10.3404\n",
      "Epoch 32/50\n",
      "3/3 [==============================] - 0s 13ms/step - loss: 11.7588 - val_loss: 10.3215\n",
      "Epoch 33/50\n",
      "3/3 [==============================] - 0s 13ms/step - loss: 11.7360 - val_loss: 10.2692\n",
      "Epoch 34/50\n",
      "3/3 [==============================] - 0s 13ms/step - loss: 11.7140 - val_loss: 10.2374\n",
      "Epoch 35/50\n",
      "3/3 [==============================] - 0s 13ms/step - loss: 11.6995 - val_loss: 10.2343\n",
      "Epoch 36/50\n",
      "3/3 [==============================] - 0s 14ms/step - loss: 11.6772 - val_loss: 10.2274\n",
      "Epoch 37/50\n",
      "3/3 [==============================] - 0s 13ms/step - loss: 11.6556 - val_loss: 10.1650\n",
      "Epoch 38/50\n",
      "3/3 [==============================] - 0s 14ms/step - loss: 11.6385 - val_loss: 10.1561\n",
      "Epoch 39/50\n",
      "3/3 [==============================] - 0s 13ms/step - loss: 11.6216 - val_loss: 10.1709\n",
      "Epoch 40/50\n",
      "3/3 [==============================] - 0s 14ms/step - loss: 11.5999 - val_loss: 10.1435\n",
      "Epoch 41/50\n",
      "3/3 [==============================] - 0s 14ms/step - loss: 11.5813 - val_loss: 10.1262\n",
      "Epoch 42/50\n",
      "3/3 [==============================] - 0s 15ms/step - loss: 11.5614 - val_loss: 10.0980\n",
      "Epoch 43/50\n",
      "3/3 [==============================] - 0s 16ms/step - loss: 11.5449 - val_loss: 10.1193\n",
      "Epoch 44/50\n",
      "3/3 [==============================] - 0s 13ms/step - loss: 11.5271 - val_loss: 10.0483\n",
      "Epoch 45/50\n",
      "3/3 [==============================] - 0s 13ms/step - loss: 11.5088 - val_loss: 10.0823\n",
      "Epoch 46/50\n",
      "3/3 [==============================] - 0s 14ms/step - loss: 11.4903 - val_loss: 10.0583\n",
      "Epoch 47/50\n",
      "3/3 [==============================] - 0s 14ms/step - loss: 11.4677 - val_loss: 10.0691\n",
      "Epoch 48/50\n",
      "3/3 [==============================] - 0s 14ms/step - loss: 11.4499 - val_loss: 10.0516\n",
      "Epoch 49/50\n",
      "3/3 [==============================] - 0s 14ms/step - loss: 11.4266 - val_loss: 10.0148\n",
      "Epoch 50/50\n",
      "3/3 [==============================] - 0s 14ms/step - loss: 11.4056 - val_loss: 10.0224\n",
      "============== EVALUATION ==============\n"
     ]
    },
    {
     "name": "stderr",
     "output_type": "stream",
     "text": [
      "C:\\Users\\Baejs\\anaconda3\\envs\\bae\\lib\\site-packages\\keras\\src\\engine\\training.py:3000: UserWarning: You are saving your model as an HDF5 file via `model.save()`. This file format is considered legacy. We recommend using instead the native Keras format, e.g. `model.save('my_model.keras')`.\n",
      "  saving_api.save_model(\n",
      "  0%|                                                                                           | 0/10 [00:00<?, ?it/s]"
     ]
    },
    {
     "name": "stdout",
     "output_type": "stream",
     "text": [
      "10/10 [==============================] - 0s 1ms/step\n"
     ]
    },
    {
     "name": "stderr",
     "output_type": "stream",
     "text": [
      " 10%|████████▎                                                                          | 1/10 [00:00<00:00,  9.30it/s]"
     ]
    },
    {
     "name": "stdout",
     "output_type": "stream",
     "text": [
      "10/10 [==============================] - 0s 1ms/step\n",
      "10/10 [==============================] - 0s 985us/step\n"
     ]
    },
    {
     "name": "stderr",
     "output_type": "stream",
     "text": [
      " 30%|████████████████████████▉                                                          | 3/10 [00:00<00:00, 12.64it/s]"
     ]
    },
    {
     "name": "stdout",
     "output_type": "stream",
     "text": [
      "10/10 [==============================] - 0s 1ms/step\n",
      "10/10 [==============================] - 0s 1ms/step\n"
     ]
    },
    {
     "name": "stderr",
     "output_type": "stream",
     "text": [
      " 50%|█████████████████████████████████████████▌                                         | 5/10 [00:00<00:00, 13.62it/s]"
     ]
    },
    {
     "name": "stdout",
     "output_type": "stream",
     "text": [
      "10/10 [==============================] - 0s 953us/step\n",
      "10/10 [==============================] - 0s 1ms/step\n"
     ]
    },
    {
     "name": "stderr",
     "output_type": "stream",
     "text": [
      " 70%|██████████████████████████████████████████████████████████                         | 7/10 [00:00<00:00, 13.92it/s]"
     ]
    },
    {
     "name": "stdout",
     "output_type": "stream",
     "text": [
      "10/10 [==============================] - 0s 997us/step\n",
      "10/10 [==============================] - 0s 1ms/step\n"
     ]
    },
    {
     "name": "stderr",
     "output_type": "stream",
     "text": [
      " 90%|██████████████████████████████████████████████████████████████████████████▋        | 9/10 [00:00<00:00, 13.94it/s]"
     ]
    },
    {
     "name": "stdout",
     "output_type": "stream",
     "text": [
      "10/10 [==============================] - 0s 1ms/step\n"
     ]
    },
    {
     "name": "stderr",
     "output_type": "stream",
     "text": [
      "100%|██████████████████████████████████████████████████████████████████████████████████| 10/10 [00:00<00:00, 13.64it/s]\n",
      "2023-08-26 01:10:53,633 - INFO - AUC : 0.44\n",
      "2023-08-26 01:10:53,635 - INFO - target_dir : ../Sample_data\n",
      "2023-08-26 01:10:53,646 - INFO - train_file num : 5\n"
     ]
    },
    {
     "name": "stdout",
     "output_type": "stream",
     "text": [
      "===========================\n",
      "Model file not found for valve -> id_00. Skipping...\n",
      "Model file not found for valve -> id_00. Skipping...\n",
      "Model file not found for valve -> id_00. Skipping...\n",
      "Model file not found for valve -> id_00. Skipping...\n",
      "Model file not found for valve -> id_00. Skipping...\n",
      "\n",
      "===========================\n"
     ]
    },
    {
     "name": "stderr",
     "output_type": "stream",
     "text": [
      "2023-08-26 01:10:53,658 - INFO - eval_file  num : 10\n",
      "generate train_dataset: 100%|████████████████████████████████████████████████████████████| 5/5 [00:00<00:00, 83.56it/s]\n",
      "2023-08-26 01:10:53,723 - INFO - save_pickle -> ./pickle_transfer_pretrain_v4/train_valve_id_02.pickle\n",
      "2023-08-26 01:10:53,727 - INFO - save_pickle -> ./pickle_transfer_pretrain_v4/eval_files_valve_id_02.pickle\n",
      "2023-08-26 01:10:53,729 - INFO - save_pickle -> ./pickle_transfer_pretrain_v4/eval_labels_valve_id_02.pickle\n"
     ]
    },
    {
     "name": "stdout",
     "output_type": "stream",
     "text": [
      "\n",
      "Training transfer model for valve -> id_02 using pretrain model pretrain_('fan', 'slider', 'pump')\n",
      "Epoch 1/50\n",
      "3/3 [==============================] - 1s 74ms/step - loss: 17.8016 - val_loss: 15.8284\n",
      "Epoch 2/50\n",
      "3/3 [==============================] - 0s 16ms/step - loss: 18.3626 - val_loss: 10.9559\n",
      "Epoch 3/50\n",
      "3/3 [==============================] - 0s 15ms/step - loss: 12.8473 - val_loss: 10.9153\n",
      "Epoch 4/50\n",
      "3/3 [==============================] - 0s 15ms/step - loss: 12.5794 - val_loss: 10.2721\n",
      "Epoch 5/50\n",
      "3/3 [==============================] - 0s 15ms/step - loss: 11.3101 - val_loss: 11.9513\n",
      "Epoch 6/50\n",
      "3/3 [==============================] - 0s 16ms/step - loss: 11.0204 - val_loss: 9.0576\n",
      "Epoch 7/50\n",
      "3/3 [==============================] - 0s 14ms/step - loss: 10.4571 - val_loss: 8.8412\n",
      "Epoch 8/50\n",
      "3/3 [==============================] - 0s 15ms/step - loss: 10.1380 - val_loss: 9.7518\n",
      "Epoch 9/50\n",
      "3/3 [==============================] - 0s 16ms/step - loss: 10.0770 - val_loss: 9.8271\n",
      "Epoch 10/50\n",
      "3/3 [==============================] - 0s 15ms/step - loss: 9.7450 - val_loss: 8.6636\n",
      "Epoch 11/50\n",
      "3/3 [==============================] - 0s 14ms/step - loss: 9.7761 - val_loss: 8.5688\n",
      "Epoch 12/50\n",
      "3/3 [==============================] - 0s 13ms/step - loss: 9.5185 - val_loss: 9.1514\n",
      "Epoch 13/50\n",
      "3/3 [==============================] - 0s 14ms/step - loss: 9.6155 - val_loss: 8.7270\n",
      "Epoch 14/50\n",
      "3/3 [==============================] - 0s 13ms/step - loss: 9.4108 - val_loss: 8.2924\n",
      "Epoch 15/50\n",
      "3/3 [==============================] - 0s 13ms/step - loss: 9.4472 - val_loss: 8.4202\n",
      "Epoch 16/50\n",
      "3/3 [==============================] - 0s 14ms/step - loss: 9.3659 - val_loss: 8.5530\n",
      "Epoch 17/50\n",
      "3/3 [==============================] - 0s 13ms/step - loss: 9.3376 - val_loss: 8.1675\n",
      "Epoch 18/50\n",
      "3/3 [==============================] - 0s 14ms/step - loss: 9.3252 - val_loss: 8.1663\n",
      "Epoch 19/50\n",
      "3/3 [==============================] - 0s 13ms/step - loss: 9.2776 - val_loss: 8.2691\n",
      "Epoch 20/50\n",
      "3/3 [==============================] - 0s 13ms/step - loss: 9.2721 - val_loss: 8.0677\n",
      "Epoch 21/50\n",
      "3/3 [==============================] - 0s 14ms/step - loss: 9.2482 - val_loss: 7.9975\n",
      "Epoch 22/50\n",
      "3/3 [==============================] - 0s 15ms/step - loss: 9.2269 - val_loss: 8.0281\n",
      "Epoch 23/50\n",
      "3/3 [==============================] - 0s 17ms/step - loss: 9.2189 - val_loss: 7.9433\n",
      "Epoch 24/50\n",
      "3/3 [==============================] - 0s 15ms/step - loss: 9.2027 - val_loss: 7.9093\n",
      "Epoch 25/50\n",
      "3/3 [==============================] - 0s 14ms/step - loss: 9.1873 - val_loss: 7.9235\n",
      "Epoch 26/50\n",
      "3/3 [==============================] - 0s 13ms/step - loss: 9.1801 - val_loss: 7.8714\n",
      "Epoch 27/50\n",
      "3/3 [==============================] - 0s 13ms/step - loss: 9.1687 - val_loss: 7.8400\n",
      "Epoch 28/50\n",
      "3/3 [==============================] - 0s 13ms/step - loss: 9.1604 - val_loss: 7.8535\n",
      "Epoch 29/50\n",
      "3/3 [==============================] - 0s 13ms/step - loss: 9.1504 - val_loss: 7.8002\n",
      "Epoch 30/50\n",
      "3/3 [==============================] - 0s 24ms/step - loss: 9.1412 - val_loss: 7.7877\n",
      "Epoch 31/50\n",
      "3/3 [==============================] - 0s 13ms/step - loss: 9.1334 - val_loss: 7.7830\n",
      "Epoch 32/50\n",
      "3/3 [==============================] - 0s 14ms/step - loss: 9.1253 - val_loss: 7.7613\n",
      "Epoch 33/50\n",
      "3/3 [==============================] - 0s 14ms/step - loss: 9.1207 - val_loss: 7.7944\n",
      "Epoch 34/50\n",
      "3/3 [==============================] - 0s 19ms/step - loss: 9.1124 - val_loss: 7.7639\n",
      "Epoch 35/50\n",
      "3/3 [==============================] - 0s 14ms/step - loss: 9.1049 - val_loss: 7.7622\n",
      "Epoch 36/50\n",
      "3/3 [==============================] - 0s 14ms/step - loss: 9.0985 - val_loss: 7.7339\n",
      "Epoch 37/50\n",
      "3/3 [==============================] - 0s 14ms/step - loss: 9.0926 - val_loss: 7.7394\n",
      "Epoch 38/50\n",
      "3/3 [==============================] - 0s 13ms/step - loss: 9.0867 - val_loss: 7.7325\n",
      "Epoch 39/50\n",
      "3/3 [==============================] - 0s 13ms/step - loss: 9.0783 - val_loss: 7.7463\n",
      "Epoch 40/50\n",
      "3/3 [==============================] - 0s 13ms/step - loss: 9.0737 - val_loss: 7.7545\n",
      "Epoch 41/50\n",
      "3/3 [==============================] - 0s 14ms/step - loss: 9.0680 - val_loss: 7.7193\n",
      "Epoch 42/50\n",
      "3/3 [==============================] - 0s 14ms/step - loss: 9.0619 - val_loss: 7.7312\n",
      "Epoch 43/50\n",
      "3/3 [==============================] - 0s 13ms/step - loss: 9.0569 - val_loss: 7.7347\n",
      "Epoch 44/50\n",
      "3/3 [==============================] - 0s 14ms/step - loss: 9.0503 - val_loss: 7.7175\n",
      "Epoch 45/50\n",
      "3/3 [==============================] - 0s 13ms/step - loss: 9.0458 - val_loss: 7.7337\n",
      "Epoch 46/50\n",
      "3/3 [==============================] - 0s 14ms/step - loss: 9.0407 - val_loss: 7.7083\n",
      "Epoch 47/50\n",
      "3/3 [==============================] - 0s 14ms/step - loss: 9.0334 - val_loss: 7.7306\n",
      "Epoch 48/50\n",
      "3/3 [==============================] - 0s 14ms/step - loss: 9.0294 - val_loss: 7.7154\n",
      "Epoch 49/50\n",
      "3/3 [==============================] - 0s 13ms/step - loss: 9.0250 - val_loss: 7.7103\n",
      "Epoch 50/50\n",
      "3/3 [==============================] - 0s 14ms/step - loss: 9.0187 - val_loss: 7.7160\n",
      "============== EVALUATION ==============\n"
     ]
    },
    {
     "name": "stderr",
     "output_type": "stream",
     "text": [
      "C:\\Users\\Baejs\\anaconda3\\envs\\bae\\lib\\site-packages\\keras\\src\\engine\\training.py:3000: UserWarning: You are saving your model as an HDF5 file via `model.save()`. This file format is considered legacy. We recommend using instead the native Keras format, e.g. `model.save('my_model.keras')`.\n",
      "  saving_api.save_model(\n",
      "  0%|                                                                                           | 0/10 [00:00<?, ?it/s]"
     ]
    },
    {
     "name": "stdout",
     "output_type": "stream",
     "text": [
      "10/10 [==============================] - 0s 1ms/step\n"
     ]
    },
    {
     "name": "stderr",
     "output_type": "stream",
     "text": [
      " 10%|████████▎                                                                          | 1/10 [00:00<00:01,  8.09it/s]"
     ]
    },
    {
     "name": "stdout",
     "output_type": "stream",
     "text": [
      "10/10 [==============================] - 0s 1ms/step\n",
      "10/10 [==============================] - 0s 1ms/step\n"
     ]
    },
    {
     "name": "stderr",
     "output_type": "stream",
     "text": [
      " 30%|████████████████████████▉                                                          | 3/10 [00:00<00:00, 11.63it/s]"
     ]
    },
    {
     "name": "stdout",
     "output_type": "stream",
     "text": [
      "10/10 [==============================] - 0s 1ms/step\n",
      "10/10 [==============================] - 0s 1ms/step\n"
     ]
    },
    {
     "name": "stderr",
     "output_type": "stream",
     "text": [
      " 50%|█████████████████████████████████████████▌                                         | 5/10 [00:00<00:00, 12.69it/s]"
     ]
    },
    {
     "name": "stdout",
     "output_type": "stream",
     "text": [
      "10/10 [==============================] - 0s 887us/step\n",
      "10/10 [==============================] - 0s 996us/step\n"
     ]
    },
    {
     "name": "stderr",
     "output_type": "stream",
     "text": [
      " 70%|██████████████████████████████████████████████████████████                         | 7/10 [00:00<00:00, 12.23it/s]"
     ]
    },
    {
     "name": "stdout",
     "output_type": "stream",
     "text": [
      "10/10 [==============================] - 0s 1ms/step\n",
      "10/10 [==============================] - 0s 1ms/step\n"
     ]
    },
    {
     "name": "stderr",
     "output_type": "stream",
     "text": [
      " 90%|██████████████████████████████████████████████████████████████████████████▋        | 9/10 [00:00<00:00, 13.00it/s]"
     ]
    },
    {
     "name": "stdout",
     "output_type": "stream",
     "text": [
      "10/10 [==============================] - 0s 1ms/step\n"
     ]
    },
    {
     "name": "stderr",
     "output_type": "stream",
     "text": [
      "100%|██████████████████████████████████████████████████████████████████████████████████| 10/10 [00:00<00:00, 12.64it/s]\n",
      "2023-08-26 01:10:57,447 - INFO - AUC : 0.19999999999999998\n",
      "2023-08-26 01:10:57,449 - INFO - target_dir : ../Sample_data\n",
      "2023-08-26 01:10:57,450 - INFO - train_file num : 5\n",
      "2023-08-26 01:10:57,451 - INFO - eval_file  num : 10\n"
     ]
    },
    {
     "name": "stdout",
     "output_type": "stream",
     "text": [
      "===========================\n",
      "Model file not found for valve -> id_02. Skipping...\n",
      "Model file not found for valve -> id_02. Skipping...\n",
      "Model file not found for valve -> id_02. Skipping...\n",
      "Model file not found for valve -> id_02. Skipping...\n",
      "Model file not found for valve -> id_02. Skipping...\n",
      "\n",
      "===========================\n"
     ]
    },
    {
     "name": "stderr",
     "output_type": "stream",
     "text": [
      "generate train_dataset: 100%|████████████████████████████████████████████████████████████| 5/5 [00:00<00:00, 87.90it/s]\n",
      "2023-08-26 01:10:57,512 - INFO - save_pickle -> ./pickle_transfer_pretrain_v4/train_valve_id_04.pickle\n",
      "2023-08-26 01:10:57,518 - INFO - save_pickle -> ./pickle_transfer_pretrain_v4/eval_files_valve_id_04.pickle\n",
      "2023-08-26 01:10:57,522 - INFO - save_pickle -> ./pickle_transfer_pretrain_v4/eval_labels_valve_id_04.pickle\n"
     ]
    },
    {
     "name": "stdout",
     "output_type": "stream",
     "text": [
      "\n",
      "Training transfer model for valve -> id_04 using pretrain model pretrain_('fan', 'slider', 'pump')\n",
      "Epoch 1/50\n",
      "3/3 [==============================] - 1s 58ms/step - loss: 16.8746 - val_loss: 18.8295\n",
      "Epoch 2/50\n",
      "3/3 [==============================] - 0s 14ms/step - loss: 16.5518 - val_loss: 13.2887\n",
      "Epoch 3/50\n",
      "3/3 [==============================] - 0s 16ms/step - loss: 12.9889 - val_loss: 15.3890\n",
      "Epoch 4/50\n",
      "3/3 [==============================] - 0s 17ms/step - loss: 13.1181 - val_loss: 12.7689\n",
      "Epoch 5/50\n",
      "3/3 [==============================] - 0s 14ms/step - loss: 12.3511 - val_loss: 13.9972\n",
      "Epoch 6/50\n",
      "3/3 [==============================] - 0s 14ms/step - loss: 11.9321 - val_loss: 12.3851\n",
      "Epoch 7/50\n",
      "3/3 [==============================] - 0s 14ms/step - loss: 11.7282 - val_loss: 12.6286\n",
      "Epoch 8/50\n",
      "3/3 [==============================] - 0s 15ms/step - loss: 11.4268 - val_loss: 12.7671\n",
      "Epoch 9/50\n",
      "3/3 [==============================] - 0s 14ms/step - loss: 11.3548 - val_loss: 12.7718\n",
      "Epoch 10/50\n",
      "3/3 [==============================] - 0s 13ms/step - loss: 11.0750 - val_loss: 12.0603\n",
      "Epoch 11/50\n",
      "3/3 [==============================] - 0s 14ms/step - loss: 11.0545 - val_loss: 12.0829\n",
      "Epoch 12/50\n",
      "3/3 [==============================] - 0s 13ms/step - loss: 10.8307 - val_loss: 12.5783\n",
      "Epoch 13/50\n",
      "3/3 [==============================] - 0s 13ms/step - loss: 10.8164 - val_loss: 12.2082\n",
      "Epoch 14/50\n",
      "3/3 [==============================] - 0s 13ms/step - loss: 10.6617 - val_loss: 12.0478\n",
      "Epoch 15/50\n",
      "3/3 [==============================] - 0s 13ms/step - loss: 10.6150 - val_loss: 12.2541\n",
      "Epoch 16/50\n",
      "3/3 [==============================] - 0s 12ms/step - loss: 10.5313 - val_loss: 12.2266\n",
      "Epoch 17/50\n",
      "3/3 [==============================] - 0s 13ms/step - loss: 10.4525 - val_loss: 11.9625\n",
      "Epoch 18/50\n",
      "3/3 [==============================] - 0s 14ms/step - loss: 10.4092 - val_loss: 12.0714\n",
      "Epoch 19/50\n",
      "3/3 [==============================] - 0s 15ms/step - loss: 10.3496 - val_loss: 12.1688\n",
      "Epoch 20/50\n",
      "3/3 [==============================] - 0s 14ms/step - loss: 10.2937 - val_loss: 12.0074\n",
      "Epoch 21/50\n",
      "3/3 [==============================] - 0s 14ms/step - loss: 10.2543 - val_loss: 12.0712\n",
      "Epoch 22/50\n",
      "3/3 [==============================] - 0s 14ms/step - loss: 10.2067 - val_loss: 12.1000\n",
      "Epoch 23/50\n",
      "3/3 [==============================] - 0s 14ms/step - loss: 10.1651 - val_loss: 12.0353\n",
      "Epoch 24/50\n",
      "3/3 [==============================] - 0s 15ms/step - loss: 10.1316 - val_loss: 12.1122\n",
      "Epoch 25/50\n",
      "3/3 [==============================] - 0s 14ms/step - loss: 10.0961 - val_loss: 12.0804\n",
      "Epoch 26/50\n",
      "3/3 [==============================] - 0s 14ms/step - loss: 10.0647 - val_loss: 12.0555\n",
      "Epoch 27/50\n",
      "3/3 [==============================] - 0s 14ms/step - loss: 10.0334 - val_loss: 12.0901\n",
      "Epoch 28/50\n",
      "3/3 [==============================] - 0s 14ms/step - loss: 10.0083 - val_loss: 12.0550\n",
      "Epoch 29/50\n",
      "3/3 [==============================] - 0s 15ms/step - loss: 9.9825 - val_loss: 12.0464\n",
      "Epoch 30/50\n",
      "3/3 [==============================] - 0s 16ms/step - loss: 9.9606 - val_loss: 12.0675\n",
      "Epoch 31/50\n",
      "3/3 [==============================] - 0s 16ms/step - loss: 9.9416 - val_loss: 12.0551\n",
      "Epoch 32/50\n",
      "3/3 [==============================] - 0s 24ms/step - loss: 9.9210 - val_loss: 12.0427\n",
      "Epoch 33/50\n",
      "3/3 [==============================] - 0s 12ms/step - loss: 9.9038 - val_loss: 12.0395\n",
      "Epoch 34/50\n",
      "3/3 [==============================] - 0s 13ms/step - loss: 9.8848 - val_loss: 12.0540\n",
      "Epoch 35/50\n",
      "3/3 [==============================] - 0s 13ms/step - loss: 9.8702 - val_loss: 12.0617\n",
      "Epoch 36/50\n",
      "3/3 [==============================] - 0s 13ms/step - loss: 9.8544 - val_loss: 12.0363\n",
      "Epoch 37/50\n",
      "3/3 [==============================] - 0s 13ms/step - loss: 9.8391 - val_loss: 12.0307\n",
      "Epoch 38/50\n",
      "3/3 [==============================] - 0s 13ms/step - loss: 9.8267 - val_loss: 12.0023\n",
      "Epoch 39/50\n",
      "3/3 [==============================] - 0s 14ms/step - loss: 9.8161 - val_loss: 12.0375\n",
      "Epoch 40/50\n",
      "3/3 [==============================] - 0s 13ms/step - loss: 9.8068 - val_loss: 12.0400\n",
      "Epoch 41/50\n",
      "3/3 [==============================] - 0s 15ms/step - loss: 9.7963 - val_loss: 11.9942\n",
      "Epoch 42/50\n",
      "3/3 [==============================] - 0s 16ms/step - loss: 9.7845 - val_loss: 12.0172\n",
      "Epoch 43/50\n",
      "3/3 [==============================] - 0s 16ms/step - loss: 9.7769 - val_loss: 12.0449\n",
      "Epoch 44/50\n",
      "3/3 [==============================] - 0s 13ms/step - loss: 9.7677 - val_loss: 12.0215\n",
      "Epoch 45/50\n",
      "3/3 [==============================] - 0s 13ms/step - loss: 9.7620 - val_loss: 11.9848\n",
      "Epoch 46/50\n",
      "3/3 [==============================] - 0s 14ms/step - loss: 9.7519 - val_loss: 12.0058\n",
      "Epoch 47/50\n",
      "3/3 [==============================] - 0s 13ms/step - loss: 9.7449 - val_loss: 12.0216\n",
      "Epoch 48/50\n",
      "3/3 [==============================] - 0s 13ms/step - loss: 9.7402 - val_loss: 11.9727\n",
      "Epoch 49/50\n",
      "3/3 [==============================] - 0s 14ms/step - loss: 9.7321 - val_loss: 12.0370\n",
      "Epoch 50/50\n",
      "3/3 [==============================] - 0s 14ms/step - loss: 9.7248 - val_loss: 11.9574\n",
      "============== EVALUATION ==============\n"
     ]
    },
    {
     "name": "stderr",
     "output_type": "stream",
     "text": [
      "C:\\Users\\Baejs\\anaconda3\\envs\\bae\\lib\\site-packages\\keras\\src\\engine\\training.py:3000: UserWarning: You are saving your model as an HDF5 file via `model.save()`. This file format is considered legacy. We recommend using instead the native Keras format, e.g. `model.save('my_model.keras')`.\n",
      "  saving_api.save_model(\n",
      "  0%|                                                                                           | 0/10 [00:00<?, ?it/s]"
     ]
    },
    {
     "name": "stdout",
     "output_type": "stream",
     "text": [
      "10/10 [==============================] - 0s 1ms/step\n"
     ]
    },
    {
     "name": "stderr",
     "output_type": "stream",
     "text": [
      " 10%|████████▎                                                                          | 1/10 [00:00<00:01,  8.84it/s]"
     ]
    },
    {
     "name": "stdout",
     "output_type": "stream",
     "text": [
      "10/10 [==============================] - 0s 1ms/step\n",
      "10/10 [==============================] - 0s 999us/step\n"
     ]
    },
    {
     "name": "stderr",
     "output_type": "stream",
     "text": [
      " 30%|████████████████████████▉                                                          | 3/10 [00:00<00:00, 12.03it/s]"
     ]
    },
    {
     "name": "stdout",
     "output_type": "stream",
     "text": [
      "10/10 [==============================] - 0s 1ms/step\n",
      "10/10 [==============================] - 0s 1ms/step\n"
     ]
    },
    {
     "name": "stderr",
     "output_type": "stream",
     "text": [
      " 50%|█████████████████████████████████████████▌                                         | 5/10 [00:00<00:00, 12.90it/s]"
     ]
    },
    {
     "name": "stdout",
     "output_type": "stream",
     "text": [
      "10/10 [==============================] - 0s 1ms/step\n",
      "10/10 [==============================] - 0s 1ms/step\n"
     ]
    },
    {
     "name": "stderr",
     "output_type": "stream",
     "text": [
      " 70%|██████████████████████████████████████████████████████████                         | 7/10 [00:00<00:00, 13.15it/s]"
     ]
    },
    {
     "name": "stdout",
     "output_type": "stream",
     "text": [
      "10/10 [==============================] - 0s 1ms/step\n",
      "10/10 [==============================] - 0s 1ms/step\n"
     ]
    },
    {
     "name": "stderr",
     "output_type": "stream",
     "text": [
      " 90%|██████████████████████████████████████████████████████████████████████████▋        | 9/10 [00:00<00:00, 13.41it/s]"
     ]
    },
    {
     "name": "stdout",
     "output_type": "stream",
     "text": [
      "10/10 [==============================] - 0s 1ms/step\n"
     ]
    },
    {
     "name": "stderr",
     "output_type": "stream",
     "text": [
      "100%|██████████████████████████████████████████████████████████████████████████████████| 10/10 [00:00<00:00, 13.11it/s]\n",
      "2023-08-26 01:11:01,030 - INFO - AUC : 0.32\n",
      "2023-08-26 01:11:01,032 - INFO - target_dir : ../Sample_data\n",
      "2023-08-26 01:11:01,033 - INFO - train_file num : 5\n",
      "2023-08-26 01:11:01,034 - INFO - eval_file  num : 10\n"
     ]
    },
    {
     "name": "stdout",
     "output_type": "stream",
     "text": [
      "===========================\n",
      "Model file not found for valve -> id_04. Skipping...\n",
      "Model file not found for valve -> id_04. Skipping...\n",
      "Model file not found for valve -> id_04. Skipping...\n",
      "Model file not found for valve -> id_04. Skipping...\n",
      "Model file not found for valve -> id_04. Skipping...\n",
      "\n",
      "===========================\n"
     ]
    },
    {
     "name": "stderr",
     "output_type": "stream",
     "text": [
      "generate train_dataset: 100%|████████████████████████████████████████████████████████████| 5/5 [00:00<00:00, 84.98it/s]\n",
      "2023-08-26 01:11:01,097 - INFO - save_pickle -> ./pickle_transfer_pretrain_v4/train_valve_id_06.pickle\n",
      "2023-08-26 01:11:01,102 - INFO - save_pickle -> ./pickle_transfer_pretrain_v4/eval_files_valve_id_06.pickle\n",
      "2023-08-26 01:11:01,104 - INFO - save_pickle -> ./pickle_transfer_pretrain_v4/eval_labels_valve_id_06.pickle\n"
     ]
    },
    {
     "name": "stdout",
     "output_type": "stream",
     "text": [
      "\n",
      "Training transfer model for valve -> id_06 using pretrain model pretrain_('fan', 'slider', 'pump')\n",
      "Epoch 1/50\n",
      "3/3 [==============================] - 1s 59ms/step - loss: 18.9489 - val_loss: 19.3164\n",
      "Epoch 2/50\n",
      "3/3 [==============================] - 0s 14ms/step - loss: 16.4608 - val_loss: 24.4987\n",
      "Epoch 3/50\n",
      "3/3 [==============================] - 0s 14ms/step - loss: 15.5288 - val_loss: 24.3085\n",
      "Epoch 4/50\n",
      "3/3 [==============================] - 0s 15ms/step - loss: 14.3829 - val_loss: 22.2096\n",
      "Epoch 5/50\n",
      "3/3 [==============================] - 0s 15ms/step - loss: 13.9006 - val_loss: 17.8463\n",
      "Epoch 6/50\n",
      "3/3 [==============================] - 0s 14ms/step - loss: 13.6863 - val_loss: 16.9362\n",
      "Epoch 7/50\n",
      "3/3 [==============================] - 0s 14ms/step - loss: 13.1190 - val_loss: 17.6403\n",
      "Epoch 8/50\n",
      "3/3 [==============================] - 0s 15ms/step - loss: 12.8623 - val_loss: 17.1202\n",
      "Epoch 9/50\n",
      "3/3 [==============================] - 0s 14ms/step - loss: 12.7230 - val_loss: 17.4395\n",
      "Epoch 10/50\n",
      "3/3 [==============================] - 0s 14ms/step - loss: 12.5145 - val_loss: 16.8204\n",
      "Epoch 11/50\n",
      "3/3 [==============================] - 0s 15ms/step - loss: 12.2828 - val_loss: 15.5672\n",
      "Epoch 12/50\n",
      "3/3 [==============================] - 0s 15ms/step - loss: 12.1041 - val_loss: 15.8863\n",
      "Epoch 13/50\n",
      "3/3 [==============================] - 0s 15ms/step - loss: 11.9284 - val_loss: 15.8028\n",
      "Epoch 14/50\n",
      "3/3 [==============================] - 0s 15ms/step - loss: 11.7725 - val_loss: 15.5798\n",
      "Epoch 15/50\n",
      "3/3 [==============================] - 0s 14ms/step - loss: 11.6295 - val_loss: 15.4400\n",
      "Epoch 16/50\n",
      "3/3 [==============================] - 0s 14ms/step - loss: 11.4933 - val_loss: 14.6656\n",
      "Epoch 17/50\n",
      "3/3 [==============================] - 0s 14ms/step - loss: 11.3762 - val_loss: 14.4429\n",
      "Epoch 18/50\n",
      "3/3 [==============================] - 0s 14ms/step - loss: 11.2651 - val_loss: 13.9563\n",
      "Epoch 19/50\n",
      "3/3 [==============================] - 0s 14ms/step - loss: 11.1619 - val_loss: 14.0633\n",
      "Epoch 20/50\n",
      "3/3 [==============================] - 0s 14ms/step - loss: 11.0650 - val_loss: 13.5012\n",
      "Epoch 21/50\n",
      "3/3 [==============================] - 0s 15ms/step - loss: 10.9807 - val_loss: 13.3826\n",
      "Epoch 22/50\n",
      "3/3 [==============================] - 0s 15ms/step - loss: 10.8985 - val_loss: 12.8332\n",
      "Epoch 23/50\n",
      "3/3 [==============================] - 0s 15ms/step - loss: 10.8282 - val_loss: 12.7543\n",
      "Epoch 24/50\n",
      "3/3 [==============================] - 0s 14ms/step - loss: 10.7576 - val_loss: 12.3475\n",
      "Epoch 25/50\n",
      "3/3 [==============================] - 0s 15ms/step - loss: 10.6983 - val_loss: 12.3107\n",
      "Epoch 26/50\n",
      "3/3 [==============================] - 0s 14ms/step - loss: 10.6377 - val_loss: 11.7736\n",
      "Epoch 27/50\n",
      "3/3 [==============================] - 0s 14ms/step - loss: 10.5799 - val_loss: 11.7122\n",
      "Epoch 28/50\n",
      "3/3 [==============================] - 0s 14ms/step - loss: 10.5034 - val_loss: 11.4105\n",
      "Epoch 29/50\n",
      "3/3 [==============================] - 0s 14ms/step - loss: 10.3885 - val_loss: 10.9330\n",
      "Epoch 30/50\n",
      "3/3 [==============================] - 0s 15ms/step - loss: 10.3245 - val_loss: 10.3826\n",
      "Epoch 31/50\n",
      "3/3 [==============================] - 0s 15ms/step - loss: 10.2681 - val_loss: 10.0397\n",
      "Epoch 32/50\n",
      "3/3 [==============================] - 0s 15ms/step - loss: 10.2200 - val_loss: 9.8915\n",
      "Epoch 33/50\n",
      "3/3 [==============================] - 0s 26ms/step - loss: 10.1684 - val_loss: 10.1346\n",
      "Epoch 34/50\n",
      "3/3 [==============================] - 0s 13ms/step - loss: 10.1250 - val_loss: 10.1149\n",
      "Epoch 35/50\n",
      "3/3 [==============================] - 0s 13ms/step - loss: 10.0795 - val_loss: 9.7982\n",
      "Epoch 36/50\n",
      "3/3 [==============================] - 0s 14ms/step - loss: 10.0409 - val_loss: 9.5099\n",
      "Epoch 37/50\n",
      "3/3 [==============================] - 0s 14ms/step - loss: 10.0000 - val_loss: 9.3591\n",
      "Epoch 38/50\n",
      "3/3 [==============================] - 0s 13ms/step - loss: 9.9696 - val_loss: 9.3494\n",
      "Epoch 39/50\n",
      "3/3 [==============================] - 0s 14ms/step - loss: 9.9419 - val_loss: 9.2196\n",
      "Epoch 40/50\n",
      "3/3 [==============================] - 0s 16ms/step - loss: 9.9081 - val_loss: 9.1693\n",
      "Epoch 41/50\n",
      "3/3 [==============================] - 0s 15ms/step - loss: 9.8781 - val_loss: 9.0182\n",
      "Epoch 42/50\n",
      "3/3 [==============================] - 0s 14ms/step - loss: 9.8524 - val_loss: 9.0721\n",
      "Epoch 43/50\n",
      "3/3 [==============================] - 0s 13ms/step - loss: 9.8461 - val_loss: 8.9866\n",
      "Epoch 44/50\n",
      "3/3 [==============================] - 0s 13ms/step - loss: 9.8193 - val_loss: 8.8528\n",
      "Epoch 45/50\n",
      "3/3 [==============================] - 0s 13ms/step - loss: 9.7914 - val_loss: 8.6758\n",
      "Epoch 46/50\n",
      "3/3 [==============================] - 0s 14ms/step - loss: 9.7752 - val_loss: 8.6646\n",
      "Epoch 47/50\n",
      "3/3 [==============================] - 0s 14ms/step - loss: 9.7495 - val_loss: 8.5333\n",
      "Epoch 48/50\n",
      "3/3 [==============================] - 0s 14ms/step - loss: 9.7391 - val_loss: 8.5105\n",
      "Epoch 49/50\n",
      "3/3 [==============================] - 0s 14ms/step - loss: 9.7143 - val_loss: 8.4403\n",
      "Epoch 50/50\n",
      "3/3 [==============================] - 0s 14ms/step - loss: 9.6997 - val_loss: 8.4453\n",
      "============== EVALUATION ==============\n"
     ]
    },
    {
     "name": "stderr",
     "output_type": "stream",
     "text": [
      "C:\\Users\\Baejs\\anaconda3\\envs\\bae\\lib\\site-packages\\keras\\src\\engine\\training.py:3000: UserWarning: You are saving your model as an HDF5 file via `model.save()`. This file format is considered legacy. We recommend using instead the native Keras format, e.g. `model.save('my_model.keras')`.\n",
      "  saving_api.save_model(\n",
      "  0%|                                                                                           | 0/10 [00:00<?, ?it/s]"
     ]
    },
    {
     "name": "stdout",
     "output_type": "stream",
     "text": [
      "10/10 [==============================] - 0s 2ms/step\n"
     ]
    },
    {
     "name": "stderr",
     "output_type": "stream",
     "text": [
      " 10%|████████▎                                                                          | 1/10 [00:00<00:01,  8.43it/s]"
     ]
    },
    {
     "name": "stdout",
     "output_type": "stream",
     "text": [
      "10/10 [==============================] - 0s 1ms/step\n",
      "10/10 [==============================] - 0s 998us/step\n"
     ]
    },
    {
     "name": "stderr",
     "output_type": "stream",
     "text": [
      " 30%|████████████████████████▉                                                          | 3/10 [00:00<00:00, 11.52it/s]"
     ]
    },
    {
     "name": "stdout",
     "output_type": "stream",
     "text": [
      "10/10 [==============================] - 0s 2ms/step\n",
      "10/10 [==============================] - 0s 1ms/step\n"
     ]
    },
    {
     "name": "stderr",
     "output_type": "stream",
     "text": [
      " 50%|█████████████████████████████████████████▌                                         | 5/10 [00:00<00:00, 11.93it/s]"
     ]
    },
    {
     "name": "stdout",
     "output_type": "stream",
     "text": [
      "10/10 [==============================] - 0s 1ms/step\n",
      "10/10 [==============================] - 0s 997us/step\n"
     ]
    },
    {
     "name": "stderr",
     "output_type": "stream",
     "text": [
      " 70%|██████████████████████████████████████████████████████████                         | 7/10 [00:00<00:00, 12.56it/s]"
     ]
    },
    {
     "name": "stdout",
     "output_type": "stream",
     "text": [
      "10/10 [==============================] - 0s 1ms/step\n",
      "10/10 [==============================] - 0s 1ms/step\n"
     ]
    },
    {
     "name": "stderr",
     "output_type": "stream",
     "text": [
      " 90%|██████████████████████████████████████████████████████████████████████████▋        | 9/10 [00:00<00:00, 12.76it/s]"
     ]
    },
    {
     "name": "stdout",
     "output_type": "stream",
     "text": [
      "10/10 [==============================] - 0s 1ms/step\n"
     ]
    },
    {
     "name": "stderr",
     "output_type": "stream",
     "text": [
      "100%|██████████████████████████████████████████████████████████████████████████████████| 10/10 [00:00<00:00, 12.45it/s]\n",
      "2023-08-26 01:11:04,669 - INFO - AUC : 0.2\n",
      "2023-08-26 01:11:04,670 - INFO - all results -> ./result_transfer_pretrain_v4/result_transfer_pretrain_v4.yaml\n",
      "2023-08-26 01:11:04,674 - INFO - target_dir : ../Sample_data\n",
      "2023-08-26 01:11:04,675 - INFO - train_file num : 5\n",
      "2023-08-26 01:11:04,676 - INFO - eval_file  num : 10\n"
     ]
    },
    {
     "name": "stdout",
     "output_type": "stream",
     "text": [
      "===========================\n",
      "Model file not found for valve -> id_06. Skipping...\n",
      "Model file not found for valve -> id_06. Skipping...\n",
      "Model file not found for valve -> id_06. Skipping...\n",
      "Model file not found for valve -> id_06. Skipping...\n",
      "Model file not found for valve -> id_06. Skipping...\n",
      "===========================\n",
      "\n",
      "===========================\n"
     ]
    },
    {
     "name": "stderr",
     "output_type": "stream",
     "text": [
      "generate train_dataset: 100%|████████████████████████████████████████████████████████████| 5/5 [00:00<00:00, 84.93it/s]\n",
      "2023-08-26 01:11:04,739 - INFO - save_pickle -> ./pickle_transfer_pretrain_v4/train_slider_id_00.pickle\n",
      "2023-08-26 01:11:04,744 - INFO - save_pickle -> ./pickle_transfer_pretrain_v4/eval_files_slider_id_00.pickle\n",
      "2023-08-26 01:11:04,746 - INFO - save_pickle -> ./pickle_transfer_pretrain_v4/eval_labels_slider_id_00.pickle\n"
     ]
    },
    {
     "name": "stdout",
     "output_type": "stream",
     "text": [
      "\n",
      "Training transfer model for slider -> id_00 using pretrain model pretrain_('fan', 'valve', 'pump')\n",
      "Epoch 1/50\n",
      "3/3 [==============================] - 1s 58ms/step - loss: 13.7091 - val_loss: 10.1468\n",
      "Epoch 2/50\n",
      "3/3 [==============================] - 0s 16ms/step - loss: 12.7307 - val_loss: 7.0185\n",
      "Epoch 3/50\n",
      "3/3 [==============================] - 0s 14ms/step - loss: 8.8224 - val_loss: 8.6935\n",
      "Epoch 4/50\n",
      "3/3 [==============================] - 0s 14ms/step - loss: 9.6694 - val_loss: 5.8004\n",
      "Epoch 5/50\n",
      "3/3 [==============================] - 0s 14ms/step - loss: 7.8201 - val_loss: 7.2715\n",
      "Epoch 6/50\n",
      "3/3 [==============================] - 0s 14ms/step - loss: 7.9769 - val_loss: 5.4176\n",
      "Epoch 7/50\n",
      "3/3 [==============================] - 0s 14ms/step - loss: 7.3328 - val_loss: 5.7157\n",
      "Epoch 8/50\n",
      "3/3 [==============================] - 0s 14ms/step - loss: 7.1387 - val_loss: 5.7401\n",
      "Epoch 9/50\n",
      "3/3 [==============================] - 0s 14ms/step - loss: 6.8514 - val_loss: 5.8616\n",
      "Epoch 10/50\n",
      "3/3 [==============================] - 0s 14ms/step - loss: 6.5710 - val_loss: 5.2638\n",
      "Epoch 11/50\n",
      "3/3 [==============================] - 0s 13ms/step - loss: 6.4878 - val_loss: 5.2130\n",
      "Epoch 12/50\n",
      "3/3 [==============================] - 0s 13ms/step - loss: 6.2008 - val_loss: 5.3700\n",
      "Epoch 13/50\n",
      "3/3 [==============================] - 0s 14ms/step - loss: 6.1531 - val_loss: 5.1100\n",
      "Epoch 14/50\n",
      "3/3 [==============================] - 0s 14ms/step - loss: 5.9614 - val_loss: 5.0568\n",
      "Epoch 15/50\n",
      "3/3 [==============================] - 0s 14ms/step - loss: 5.8905 - val_loss: 5.0582\n",
      "Epoch 16/50\n",
      "3/3 [==============================] - 0s 14ms/step - loss: 5.7872 - val_loss: 5.0728\n",
      "Epoch 17/50\n",
      "3/3 [==============================] - 0s 14ms/step - loss: 5.7017 - val_loss: 5.0198\n",
      "Epoch 18/50\n",
      "3/3 [==============================] - 0s 14ms/step - loss: 5.6536 - val_loss: 4.9776\n",
      "Epoch 19/50\n",
      "3/3 [==============================] - 0s 14ms/step - loss: 5.5926 - val_loss: 4.9779\n",
      "Epoch 20/50\n",
      "3/3 [==============================] - 0s 14ms/step - loss: 5.5406 - val_loss: 4.9655\n",
      "Epoch 21/50\n",
      "3/3 [==============================] - 0s 14ms/step - loss: 5.5062 - val_loss: 4.9316\n",
      "Epoch 22/50\n",
      "3/3 [==============================] - 0s 13ms/step - loss: 5.4738 - val_loss: 4.9344\n",
      "Epoch 23/50\n",
      "3/3 [==============================] - 0s 12ms/step - loss: 5.4402 - val_loss: 4.9481\n",
      "Epoch 24/50\n",
      "3/3 [==============================] - 0s 13ms/step - loss: 5.4167 - val_loss: 4.9300\n",
      "Epoch 25/50\n",
      "3/3 [==============================] - 0s 14ms/step - loss: 5.3951 - val_loss: 4.9279\n",
      "Epoch 26/50\n",
      "3/3 [==============================] - 0s 14ms/step - loss: 5.3781 - val_loss: 4.9158\n",
      "Epoch 27/50\n",
      "3/3 [==============================] - 0s 13ms/step - loss: 5.3609 - val_loss: 4.9185\n",
      "Epoch 28/50\n",
      "3/3 [==============================] - 0s 14ms/step - loss: 5.3489 - val_loss: 4.9101\n",
      "Epoch 29/50\n",
      "3/3 [==============================] - 0s 14ms/step - loss: 5.3371 - val_loss: 4.9143\n",
      "Epoch 30/50\n",
      "3/3 [==============================] - 0s 14ms/step - loss: 5.3290 - val_loss: 4.9062\n",
      "Epoch 31/50\n",
      "3/3 [==============================] - 0s 14ms/step - loss: 5.3217 - val_loss: 4.8972\n",
      "Epoch 32/50\n",
      "3/3 [==============================] - 0s 16ms/step - loss: 5.3138 - val_loss: 4.9072\n",
      "Epoch 33/50\n",
      "3/3 [==============================] - 0s 14ms/step - loss: 5.3087 - val_loss: 4.8979\n",
      "Epoch 34/50\n",
      "3/3 [==============================] - 0s 25ms/step - loss: 5.3049 - val_loss: 4.8878\n",
      "Epoch 35/50\n",
      "3/3 [==============================] - 0s 13ms/step - loss: 5.3023 - val_loss: 4.8929\n",
      "Epoch 36/50\n",
      "3/3 [==============================] - 0s 15ms/step - loss: 5.2940 - val_loss: 4.8830\n",
      "Epoch 37/50\n",
      "3/3 [==============================] - 0s 15ms/step - loss: 5.2911 - val_loss: 4.8875\n",
      "Epoch 38/50\n",
      "3/3 [==============================] - 0s 14ms/step - loss: 5.2879 - val_loss: 4.8889\n",
      "Epoch 39/50\n",
      "3/3 [==============================] - 0s 14ms/step - loss: 5.2856 - val_loss: 4.8838\n",
      "Epoch 40/50\n",
      "3/3 [==============================] - 0s 13ms/step - loss: 5.2862 - val_loss: 4.8970\n",
      "Epoch 41/50\n",
      "3/3 [==============================] - 0s 14ms/step - loss: 5.2806 - val_loss: 4.8785\n",
      "Epoch 42/50\n",
      "3/3 [==============================] - 0s 13ms/step - loss: 5.2788 - val_loss: 4.8895\n",
      "Epoch 43/50\n",
      "3/3 [==============================] - 0s 13ms/step - loss: 5.2774 - val_loss: 4.8839\n",
      "Epoch 44/50\n",
      "3/3 [==============================] - 0s 13ms/step - loss: 5.2748 - val_loss: 4.8720\n",
      "Epoch 45/50\n",
      "3/3 [==============================] - 0s 13ms/step - loss: 5.2730 - val_loss: 4.8936\n",
      "Epoch 46/50\n",
      "3/3 [==============================] - 0s 14ms/step - loss: 5.2729 - val_loss: 4.8772\n",
      "Epoch 47/50\n",
      "3/3 [==============================] - 0s 13ms/step - loss: 5.2705 - val_loss: 4.8760\n",
      "Epoch 48/50\n",
      "3/3 [==============================] - 0s 14ms/step - loss: 5.2674 - val_loss: 4.8691\n",
      "Epoch 49/50\n",
      "3/3 [==============================] - 0s 13ms/step - loss: 5.2660 - val_loss: 4.8763\n",
      "Epoch 50/50\n",
      "3/3 [==============================] - 0s 14ms/step - loss: 5.2655 - val_loss: 4.8706\n",
      "============== EVALUATION ==============\n"
     ]
    },
    {
     "name": "stderr",
     "output_type": "stream",
     "text": [
      "C:\\Users\\Baejs\\anaconda3\\envs\\bae\\lib\\site-packages\\keras\\src\\engine\\training.py:3000: UserWarning: You are saving your model as an HDF5 file via `model.save()`. This file format is considered legacy. We recommend using instead the native Keras format, e.g. `model.save('my_model.keras')`.\n",
      "  saving_api.save_model(\n",
      "  0%|                                                                                           | 0/10 [00:00<?, ?it/s]"
     ]
    },
    {
     "name": "stdout",
     "output_type": "stream",
     "text": [
      "10/10 [==============================] - 0s 1ms/step\n"
     ]
    },
    {
     "name": "stderr",
     "output_type": "stream",
     "text": [
      " 10%|████████▎                                                                          | 1/10 [00:00<00:00,  9.31it/s]"
     ]
    },
    {
     "name": "stdout",
     "output_type": "stream",
     "text": [
      "10/10 [==============================] - 0s 997us/step\n",
      "10/10 [==============================] - 0s 1ms/step\n"
     ]
    },
    {
     "name": "stderr",
     "output_type": "stream",
     "text": [
      " 30%|████████████████████████▉                                                          | 3/10 [00:00<00:00, 12.59it/s]"
     ]
    },
    {
     "name": "stdout",
     "output_type": "stream",
     "text": [
      "10/10 [==============================] - 0s 1ms/step\n",
      "10/10 [==============================] - 0s 1ms/step\n"
     ]
    },
    {
     "name": "stderr",
     "output_type": "stream",
     "text": [
      " 50%|█████████████████████████████████████████▌                                         | 5/10 [00:00<00:00, 13.26it/s]"
     ]
    },
    {
     "name": "stdout",
     "output_type": "stream",
     "text": [
      "10/10 [==============================] - 0s 999us/step\n",
      "10/10 [==============================] - 0s 1ms/step\n"
     ]
    },
    {
     "name": "stderr",
     "output_type": "stream",
     "text": [
      " 70%|██████████████████████████████████████████████████████████                         | 7/10 [00:00<00:00, 13.76it/s]"
     ]
    },
    {
     "name": "stdout",
     "output_type": "stream",
     "text": [
      "10/10 [==============================] - 0s 1000us/step\n",
      "10/10 [==============================] - 0s 1ms/step\n"
     ]
    },
    {
     "name": "stderr",
     "output_type": "stream",
     "text": [
      " 90%|██████████████████████████████████████████████████████████████████████████▋        | 9/10 [00:00<00:00, 14.05it/s]"
     ]
    },
    {
     "name": "stdout",
     "output_type": "stream",
     "text": [
      "10/10 [==============================] - 0s 1ms/step\n"
     ]
    },
    {
     "name": "stderr",
     "output_type": "stream",
     "text": [
      "100%|██████████████████████████████████████████████████████████████████████████████████| 10/10 [00:00<00:00, 13.62it/s]\n",
      "2023-08-26 01:11:08,372 - INFO - AUC : 0.76\n",
      "2023-08-26 01:11:08,374 - INFO - target_dir : ../Sample_data\n",
      "2023-08-26 01:11:08,375 - INFO - train_file num : 5\n",
      "2023-08-26 01:11:08,376 - INFO - eval_file  num : 10\n"
     ]
    },
    {
     "name": "stdout",
     "output_type": "stream",
     "text": [
      "===========================\n",
      "Model file not found for slider -> id_00. Skipping...\n",
      "Model file not found for slider -> id_00. Skipping...\n",
      "Model file not found for slider -> id_00. Skipping...\n",
      "Model file not found for slider -> id_00. Skipping...\n",
      "Model file not found for slider -> id_00. Skipping...\n",
      "\n",
      "===========================\n"
     ]
    },
    {
     "name": "stderr",
     "output_type": "stream",
     "text": [
      "generate train_dataset: 100%|████████████████████████████████████████████████████████████| 5/5 [00:00<00:00, 89.53it/s]\n",
      "2023-08-26 01:11:08,436 - INFO - save_pickle -> ./pickle_transfer_pretrain_v4/train_slider_id_02.pickle\n",
      "2023-08-26 01:11:08,441 - INFO - save_pickle -> ./pickle_transfer_pretrain_v4/eval_files_slider_id_02.pickle\n",
      "2023-08-26 01:11:08,443 - INFO - save_pickle -> ./pickle_transfer_pretrain_v4/eval_labels_slider_id_02.pickle\n"
     ]
    },
    {
     "name": "stdout",
     "output_type": "stream",
     "text": [
      "\n",
      "Training transfer model for slider -> id_02 using pretrain model pretrain_('fan', 'valve', 'pump')\n",
      "Epoch 1/50\n",
      "3/3 [==============================] - 1s 58ms/step - loss: 15.3774 - val_loss: 15.4780\n",
      "Epoch 2/50\n",
      "3/3 [==============================] - 0s 14ms/step - loss: 13.1927 - val_loss: 14.4965\n",
      "Epoch 3/50\n",
      "3/3 [==============================] - 0s 16ms/step - loss: 10.0545 - val_loss: 15.0724\n",
      "Epoch 4/50\n",
      "3/3 [==============================] - 0s 14ms/step - loss: 10.6940 - val_loss: 13.2804\n",
      "Epoch 5/50\n",
      "3/3 [==============================] - 0s 13ms/step - loss: 9.1149 - val_loss: 12.9533\n",
      "Epoch 6/50\n",
      "3/3 [==============================] - 0s 13ms/step - loss: 8.9193 - val_loss: 11.9934\n",
      "Epoch 7/50\n",
      "3/3 [==============================] - 0s 14ms/step - loss: 8.8403 - val_loss: 12.2036\n",
      "Epoch 8/50\n",
      "3/3 [==============================] - 0s 14ms/step - loss: 8.4202 - val_loss: 12.6342\n",
      "Epoch 9/50\n",
      "3/3 [==============================] - 0s 13ms/step - loss: 8.2571 - val_loss: 11.8945\n",
      "Epoch 10/50\n",
      "3/3 [==============================] - 0s 14ms/step - loss: 8.0946 - val_loss: 11.7224\n",
      "Epoch 11/50\n",
      "3/3 [==============================] - 0s 14ms/step - loss: 7.9419 - val_loss: 11.5605\n",
      "Epoch 12/50\n",
      "3/3 [==============================] - 0s 14ms/step - loss: 7.8070 - val_loss: 11.3497\n",
      "Epoch 13/50\n",
      "3/3 [==============================] - 0s 14ms/step - loss: 7.7302 - val_loss: 11.3739\n",
      "Epoch 14/50\n",
      "3/3 [==============================] - 0s 14ms/step - loss: 7.6312 - val_loss: 11.1392\n",
      "Epoch 15/50\n",
      "3/3 [==============================] - 0s 13ms/step - loss: 7.5509 - val_loss: 10.8496\n",
      "Epoch 16/50\n",
      "3/3 [==============================] - 0s 13ms/step - loss: 7.4902 - val_loss: 10.7701\n",
      "Epoch 17/50\n",
      "3/3 [==============================] - 0s 14ms/step - loss: 7.4336 - val_loss: 10.6674\n",
      "Epoch 18/50\n",
      "3/3 [==============================] - 0s 13ms/step - loss: 7.3826 - val_loss: 10.5833\n",
      "Epoch 19/50\n",
      "3/3 [==============================] - 0s 14ms/step - loss: 7.3408 - val_loss: 10.3632\n",
      "Epoch 20/50\n",
      "3/3 [==============================] - 0s 13ms/step - loss: 7.2971 - val_loss: 10.1193\n",
      "Epoch 21/50\n",
      "3/3 [==============================] - 0s 14ms/step - loss: 7.2615 - val_loss: 9.9986\n",
      "Epoch 22/50\n",
      "3/3 [==============================] - 0s 14ms/step - loss: 7.2275 - val_loss: 9.8782\n",
      "Epoch 23/50\n",
      "3/3 [==============================] - 0s 14ms/step - loss: 7.1957 - val_loss: 9.8003\n",
      "Epoch 24/50\n",
      "3/3 [==============================] - 0s 14ms/step - loss: 7.1668 - val_loss: 9.6246\n",
      "Epoch 25/50\n",
      "3/3 [==============================] - 0s 13ms/step - loss: 7.1432 - val_loss: 9.4341\n",
      "Epoch 26/50\n",
      "3/3 [==============================] - 0s 14ms/step - loss: 7.1158 - val_loss: 9.3610\n",
      "Epoch 27/50\n",
      "3/3 [==============================] - 0s 14ms/step - loss: 7.0913 - val_loss: 9.2135\n",
      "Epoch 28/50\n",
      "3/3 [==============================] - 0s 14ms/step - loss: 7.0666 - val_loss: 9.0322\n",
      "Epoch 29/50\n",
      "3/3 [==============================] - 0s 14ms/step - loss: 7.0475 - val_loss: 8.8734\n",
      "Epoch 30/50\n",
      "3/3 [==============================] - 0s 14ms/step - loss: 7.0236 - val_loss: 8.7740\n",
      "Epoch 31/50\n",
      "3/3 [==============================] - 0s 14ms/step - loss: 7.0032 - val_loss: 8.6975\n",
      "Epoch 32/50\n",
      "3/3 [==============================] - 0s 14ms/step - loss: 6.9815 - val_loss: 8.4792\n",
      "Epoch 33/50\n",
      "3/3 [==============================] - 0s 14ms/step - loss: 6.9616 - val_loss: 8.3443\n",
      "Epoch 34/50\n",
      "3/3 [==============================] - 0s 13ms/step - loss: 6.9429 - val_loss: 8.2756\n",
      "Epoch 35/50\n",
      "3/3 [==============================] - 0s 13ms/step - loss: 6.9244 - val_loss: 8.1807\n",
      "Epoch 36/50\n",
      "3/3 [==============================] - 0s 24ms/step - loss: 6.9081 - val_loss: 8.0301\n",
      "Epoch 37/50\n",
      "3/3 [==============================] - 0s 12ms/step - loss: 6.8900 - val_loss: 7.9478\n",
      "Epoch 38/50\n",
      "3/3 [==============================] - 0s 13ms/step - loss: 6.8737 - val_loss: 7.8706\n",
      "Epoch 39/50\n",
      "3/3 [==============================] - 0s 13ms/step - loss: 6.8586 - val_loss: 7.7287\n",
      "Epoch 40/50\n",
      "3/3 [==============================] - 0s 13ms/step - loss: 6.8413 - val_loss: 7.6742\n",
      "Epoch 41/50\n",
      "3/3 [==============================] - 0s 13ms/step - loss: 6.8279 - val_loss: 7.6135\n",
      "Epoch 42/50\n",
      "3/3 [==============================] - 0s 13ms/step - loss: 6.8139 - val_loss: 7.4523\n",
      "Epoch 43/50\n",
      "3/3 [==============================] - 0s 14ms/step - loss: 6.7994 - val_loss: 7.3745\n",
      "Epoch 44/50\n",
      "3/3 [==============================] - 0s 14ms/step - loss: 6.7871 - val_loss: 7.4102\n",
      "Epoch 45/50\n",
      "3/3 [==============================] - 0s 14ms/step - loss: 6.7748 - val_loss: 7.3136\n",
      "Epoch 46/50\n",
      "3/3 [==============================] - 0s 14ms/step - loss: 6.7615 - val_loss: 7.2094\n",
      "Epoch 47/50\n",
      "3/3 [==============================] - 0s 14ms/step - loss: 6.7490 - val_loss: 7.1712\n",
      "Epoch 48/50\n",
      "3/3 [==============================] - 0s 14ms/step - loss: 6.7343 - val_loss: 7.0977\n",
      "Epoch 49/50\n",
      "3/3 [==============================] - 0s 14ms/step - loss: 6.7243 - val_loss: 7.0545\n",
      "Epoch 50/50\n",
      "3/3 [==============================] - 0s 14ms/step - loss: 6.7119 - val_loss: 7.0272\n",
      "============== EVALUATION ==============\n"
     ]
    },
    {
     "name": "stderr",
     "output_type": "stream",
     "text": [
      "C:\\Users\\Baejs\\anaconda3\\envs\\bae\\lib\\site-packages\\keras\\src\\engine\\training.py:3000: UserWarning: You are saving your model as an HDF5 file via `model.save()`. This file format is considered legacy. We recommend using instead the native Keras format, e.g. `model.save('my_model.keras')`.\n",
      "  saving_api.save_model(\n",
      "  0%|                                                                                           | 0/10 [00:00<?, ?it/s]"
     ]
    },
    {
     "name": "stdout",
     "output_type": "stream",
     "text": [
      "10/10 [==============================] - 0s 997us/step\n"
     ]
    },
    {
     "name": "stderr",
     "output_type": "stream",
     "text": [
      " 10%|████████▎                                                                          | 1/10 [00:00<00:00,  9.46it/s]"
     ]
    },
    {
     "name": "stdout",
     "output_type": "stream",
     "text": [
      "10/10 [==============================] - 0s 1ms/step\n",
      "10/10 [==============================] - 0s 1ms/step\n"
     ]
    },
    {
     "name": "stderr",
     "output_type": "stream",
     "text": [
      " 30%|████████████████████████▉                                                          | 3/10 [00:00<00:00, 12.49it/s]"
     ]
    },
    {
     "name": "stdout",
     "output_type": "stream",
     "text": [
      "10/10 [==============================] - 0s 1ms/step\n",
      "10/10 [==============================] - 0s 1ms/step\n"
     ]
    },
    {
     "name": "stderr",
     "output_type": "stream",
     "text": [
      " 50%|█████████████████████████████████████████▌                                         | 5/10 [00:00<00:00, 13.53it/s]"
     ]
    },
    {
     "name": "stdout",
     "output_type": "stream",
     "text": [
      "10/10 [==============================] - 0s 1ms/step\n",
      "10/10 [==============================] - 0s 1ms/step\n"
     ]
    },
    {
     "name": "stderr",
     "output_type": "stream",
     "text": [
      " 70%|██████████████████████████████████████████████████████████                         | 7/10 [00:00<00:00, 13.97it/s]"
     ]
    },
    {
     "name": "stdout",
     "output_type": "stream",
     "text": [
      "10/10 [==============================] - 0s 1ms/step\n",
      "10/10 [==============================] - 0s 1ms/step\n"
     ]
    },
    {
     "name": "stderr",
     "output_type": "stream",
     "text": [
      " 90%|██████████████████████████████████████████████████████████████████████████▋        | 9/10 [00:00<00:00, 13.90it/s]"
     ]
    },
    {
     "name": "stdout",
     "output_type": "stream",
     "text": [
      "10/10 [==============================] - 0s 1ms/step\n"
     ]
    },
    {
     "name": "stderr",
     "output_type": "stream",
     "text": [
      "100%|██████████████████████████████████████████████████████████████████████████████████| 10/10 [00:00<00:00, 13.50it/s]\n",
      "2023-08-26 01:11:11,844 - INFO - AUC : 0.56\n",
      "2023-08-26 01:11:11,845 - INFO - target_dir : ../Sample_data\n",
      "2023-08-26 01:11:11,846 - INFO - train_file num : 5\n",
      "2023-08-26 01:11:11,847 - INFO - eval_file  num : 10\n"
     ]
    },
    {
     "name": "stdout",
     "output_type": "stream",
     "text": [
      "===========================\n",
      "Model file not found for slider -> id_02. Skipping...\n",
      "Model file not found for slider -> id_02. Skipping...\n",
      "Model file not found for slider -> id_02. Skipping...\n",
      "Model file not found for slider -> id_02. Skipping...\n",
      "Model file not found for slider -> id_02. Skipping...\n",
      "\n",
      "===========================\n"
     ]
    },
    {
     "name": "stderr",
     "output_type": "stream",
     "text": [
      "generate train_dataset: 100%|████████████████████████████████████████████████████████████| 5/5 [00:00<00:00, 80.86it/s]\n",
      "2023-08-26 01:11:11,914 - INFO - save_pickle -> ./pickle_transfer_pretrain_v4/train_slider_id_04.pickle\n",
      "2023-08-26 01:11:11,919 - INFO - save_pickle -> ./pickle_transfer_pretrain_v4/eval_files_slider_id_04.pickle\n",
      "2023-08-26 01:11:11,921 - INFO - save_pickle -> ./pickle_transfer_pretrain_v4/eval_labels_slider_id_04.pickle\n"
     ]
    },
    {
     "name": "stdout",
     "output_type": "stream",
     "text": [
      "\n",
      "Training transfer model for slider -> id_04 using pretrain model pretrain_('fan', 'valve', 'pump')\n",
      "Epoch 1/50\n",
      "3/3 [==============================] - 1s 62ms/step - loss: 17.9491 - val_loss: 20.4198\n",
      "Epoch 2/50\n",
      "3/3 [==============================] - 0s 15ms/step - loss: 17.7650 - val_loss: 16.2155\n",
      "Epoch 3/50\n",
      "3/3 [==============================] - 0s 16ms/step - loss: 13.7247 - val_loss: 18.3107\n",
      "Epoch 4/50\n",
      "3/3 [==============================] - 0s 16ms/step - loss: 14.5795 - val_loss: 16.4741\n",
      "Epoch 5/50\n",
      "3/3 [==============================] - 0s 15ms/step - loss: 12.7841 - val_loss: 16.1576\n",
      "Epoch 6/50\n",
      "3/3 [==============================] - 0s 15ms/step - loss: 13.2185 - val_loss: 14.8385\n",
      "Epoch 7/50\n",
      "3/3 [==============================] - 0s 14ms/step - loss: 12.0909 - val_loss: 15.8426\n",
      "Epoch 8/50\n",
      "3/3 [==============================] - 0s 14ms/step - loss: 12.5180 - val_loss: 14.7091\n",
      "Epoch 9/50\n",
      "3/3 [==============================] - 0s 15ms/step - loss: 11.8255 - val_loss: 14.2830\n",
      "Epoch 10/50\n",
      "3/3 [==============================] - 0s 14ms/step - loss: 11.9445 - val_loss: 14.4177\n",
      "Epoch 11/50\n",
      "3/3 [==============================] - 0s 15ms/step - loss: 11.6598 - val_loss: 14.7468\n",
      "Epoch 12/50\n",
      "3/3 [==============================] - 0s 14ms/step - loss: 11.5994 - val_loss: 14.1143\n",
      "Epoch 13/50\n",
      "3/3 [==============================] - 0s 14ms/step - loss: 11.4467 - val_loss: 13.6990\n",
      "Epoch 14/50\n",
      "3/3 [==============================] - 0s 14ms/step - loss: 11.3762 - val_loss: 13.8782\n",
      "Epoch 15/50\n",
      "3/3 [==============================] - 0s 14ms/step - loss: 11.2947 - val_loss: 14.0120\n",
      "Epoch 16/50\n",
      "3/3 [==============================] - 0s 15ms/step - loss: 11.2014 - val_loss: 13.7476\n",
      "Epoch 17/50\n",
      "3/3 [==============================] - 0s 15ms/step - loss: 11.1612 - val_loss: 13.5469\n",
      "Epoch 18/50\n",
      "3/3 [==============================] - 0s 15ms/step - loss: 11.0776 - val_loss: 13.6227\n",
      "Epoch 19/50\n",
      "3/3 [==============================] - 0s 13ms/step - loss: 11.0343 - val_loss: 13.5203\n",
      "Epoch 20/50\n",
      "3/3 [==============================] - 0s 12ms/step - loss: 10.9881 - val_loss: 13.5091\n",
      "Epoch 21/50\n",
      "3/3 [==============================] - 0s 13ms/step - loss: 10.9370 - val_loss: 13.4305\n",
      "Epoch 22/50\n",
      "3/3 [==============================] - 0s 14ms/step - loss: 10.9024 - val_loss: 13.3200\n",
      "Epoch 23/50\n",
      "3/3 [==============================] - 0s 14ms/step - loss: 10.8602 - val_loss: 13.3482\n",
      "Epoch 24/50\n",
      "3/3 [==============================] - 0s 14ms/step - loss: 10.8249 - val_loss: 13.4207\n",
      "Epoch 25/50\n",
      "3/3 [==============================] - 0s 14ms/step - loss: 10.7928 - val_loss: 13.3027\n",
      "Epoch 26/50\n",
      "3/3 [==============================] - 0s 13ms/step - loss: 10.7609 - val_loss: 13.2579\n",
      "Epoch 27/50\n",
      "3/3 [==============================] - 0s 13ms/step - loss: 10.7279 - val_loss: 13.2588\n",
      "Epoch 28/50\n",
      "3/3 [==============================] - 0s 15ms/step - loss: 10.6987 - val_loss: 13.2200\n",
      "Epoch 29/50\n",
      "3/3 [==============================] - 0s 25ms/step - loss: 10.6686 - val_loss: 13.2342\n",
      "Epoch 30/50\n",
      "3/3 [==============================] - 0s 13ms/step - loss: 10.6418 - val_loss: 13.1947\n",
      "Epoch 31/50\n",
      "3/3 [==============================] - 0s 13ms/step - loss: 10.6114 - val_loss: 13.2025\n",
      "Epoch 32/50\n",
      "3/3 [==============================] - 0s 13ms/step - loss: 10.5838 - val_loss: 13.1702\n",
      "Epoch 33/50\n",
      "3/3 [==============================] - 0s 14ms/step - loss: 10.5560 - val_loss: 13.0645\n",
      "Epoch 34/50\n",
      "3/3 [==============================] - 0s 15ms/step - loss: 10.5291 - val_loss: 13.1144\n",
      "Epoch 35/50\n",
      "3/3 [==============================] - 0s 14ms/step - loss: 10.5037 - val_loss: 13.1295\n",
      "Epoch 36/50\n",
      "3/3 [==============================] - 0s 14ms/step - loss: 10.4778 - val_loss: 13.1280\n",
      "Epoch 37/50\n",
      "3/3 [==============================] - 0s 15ms/step - loss: 10.4506 - val_loss: 13.0723\n",
      "Epoch 38/50\n",
      "3/3 [==============================] - 0s 19ms/step - loss: 10.4264 - val_loss: 13.0244\n",
      "Epoch 39/50\n",
      "3/3 [==============================] - 0s 13ms/step - loss: 10.3990 - val_loss: 13.0081\n",
      "Epoch 40/50\n",
      "3/3 [==============================] - 0s 13ms/step - loss: 10.3744 - val_loss: 13.1174\n",
      "Epoch 41/50\n",
      "3/3 [==============================] - 0s 14ms/step - loss: 10.3486 - val_loss: 13.0352\n",
      "Epoch 42/50\n",
      "3/3 [==============================] - 0s 14ms/step - loss: 10.3240 - val_loss: 12.9475\n",
      "Epoch 43/50\n",
      "3/3 [==============================] - 0s 14ms/step - loss: 10.3038 - val_loss: 12.9218\n",
      "Epoch 44/50\n",
      "3/3 [==============================] - 0s 15ms/step - loss: 10.2786 - val_loss: 13.0018\n",
      "Epoch 45/50\n",
      "3/3 [==============================] - 0s 14ms/step - loss: 10.2577 - val_loss: 12.9927\n",
      "Epoch 46/50\n",
      "3/3 [==============================] - 0s 14ms/step - loss: 10.2380 - val_loss: 12.9388\n",
      "Epoch 47/50\n",
      "3/3 [==============================] - 0s 14ms/step - loss: 10.2153 - val_loss: 12.9200\n",
      "Epoch 48/50\n",
      "3/3 [==============================] - 0s 15ms/step - loss: 10.1944 - val_loss: 12.9553\n",
      "Epoch 49/50\n",
      "3/3 [==============================] - 0s 15ms/step - loss: 10.1767 - val_loss: 12.9803\n",
      "Epoch 50/50\n",
      "3/3 [==============================] - 0s 14ms/step - loss: 10.1568 - val_loss: 12.9172\n",
      "============== EVALUATION ==============\n"
     ]
    },
    {
     "name": "stderr",
     "output_type": "stream",
     "text": [
      "C:\\Users\\Baejs\\anaconda3\\envs\\bae\\lib\\site-packages\\keras\\src\\engine\\training.py:3000: UserWarning: You are saving your model as an HDF5 file via `model.save()`. This file format is considered legacy. We recommend using instead the native Keras format, e.g. `model.save('my_model.keras')`.\n",
      "  saving_api.save_model(\n",
      "  0%|                                                                                           | 0/10 [00:00<?, ?it/s]"
     ]
    },
    {
     "name": "stdout",
     "output_type": "stream",
     "text": [
      "10/10 [==============================] - 0s 1ms/step\n"
     ]
    },
    {
     "name": "stderr",
     "output_type": "stream",
     "text": [
      " 10%|████████▎                                                                          | 1/10 [00:00<00:01,  8.62it/s]"
     ]
    },
    {
     "name": "stdout",
     "output_type": "stream",
     "text": [
      "10/10 [==============================] - 0s 1ms/step\n",
      "10/10 [==============================] - 0s 997us/step\n"
     ]
    },
    {
     "name": "stderr",
     "output_type": "stream",
     "text": [
      " 30%|████████████████████████▉                                                          | 3/10 [00:00<00:00, 11.80it/s]"
     ]
    },
    {
     "name": "stdout",
     "output_type": "stream",
     "text": [
      "10/10 [==============================] - 0s 1ms/step\n",
      "10/10 [==============================] - 0s 954us/step\n"
     ]
    },
    {
     "name": "stderr",
     "output_type": "stream",
     "text": [
      " 50%|█████████████████████████████████████████▌                                         | 5/10 [00:00<00:00, 12.70it/s]"
     ]
    },
    {
     "name": "stdout",
     "output_type": "stream",
     "text": [
      "10/10 [==============================] - 0s 1ms/step\n",
      "10/10 [==============================] - 0s 1ms/step\n"
     ]
    },
    {
     "name": "stderr",
     "output_type": "stream",
     "text": [
      " 70%|██████████████████████████████████████████████████████████                         | 7/10 [00:00<00:00, 12.96it/s]"
     ]
    },
    {
     "name": "stdout",
     "output_type": "stream",
     "text": [
      "10/10 [==============================] - 0s 1ms/step\n",
      "10/10 [==============================] - 0s 1ms/step\n"
     ]
    },
    {
     "name": "stderr",
     "output_type": "stream",
     "text": [
      " 90%|██████████████████████████████████████████████████████████████████████████▋        | 9/10 [00:00<00:00, 13.21it/s]"
     ]
    },
    {
     "name": "stdout",
     "output_type": "stream",
     "text": [
      "10/10 [==============================] - 0s 1ms/step\n"
     ]
    },
    {
     "name": "stderr",
     "output_type": "stream",
     "text": [
      "100%|██████████████████████████████████████████████████████████████████████████████████| 10/10 [00:00<00:00, 12.83it/s]\n",
      "2023-08-26 01:11:15,457 - INFO - AUC : 0.4\n",
      "2023-08-26 01:11:15,459 - INFO - target_dir : ../Sample_data\n",
      "2023-08-26 01:11:15,460 - INFO - train_file num : 5\n",
      "2023-08-26 01:11:15,461 - INFO - eval_file  num : 10\n"
     ]
    },
    {
     "name": "stdout",
     "output_type": "stream",
     "text": [
      "===========================\n",
      "Model file not found for slider -> id_04. Skipping...\n",
      "Model file not found for slider -> id_04. Skipping...\n",
      "Model file not found for slider -> id_04. Skipping...\n",
      "Model file not found for slider -> id_04. Skipping...\n",
      "Model file not found for slider -> id_04. Skipping...\n",
      "\n",
      "===========================\n"
     ]
    },
    {
     "name": "stderr",
     "output_type": "stream",
     "text": [
      "generate train_dataset: 100%|████████████████████████████████████████████████████████████| 5/5 [00:00<00:00, 87.92it/s]\n",
      "2023-08-26 01:11:15,524 - INFO - save_pickle -> ./pickle_transfer_pretrain_v4/train_slider_id_06.pickle\n",
      "2023-08-26 01:11:15,529 - INFO - save_pickle -> ./pickle_transfer_pretrain_v4/eval_files_slider_id_06.pickle\n",
      "2023-08-26 01:11:15,531 - INFO - save_pickle -> ./pickle_transfer_pretrain_v4/eval_labels_slider_id_06.pickle\n"
     ]
    },
    {
     "name": "stdout",
     "output_type": "stream",
     "text": [
      "\n",
      "Training transfer model for slider -> id_06 using pretrain model pretrain_('fan', 'valve', 'pump')\n",
      "Epoch 1/50\n",
      "3/3 [==============================] - 1s 60ms/step - loss: 15.5028 - val_loss: 12.6917\n",
      "Epoch 2/50\n",
      "3/3 [==============================] - 0s 16ms/step - loss: 15.6055 - val_loss: 10.4326\n",
      "Epoch 3/50\n",
      "3/3 [==============================] - 0s 14ms/step - loss: 10.8698 - val_loss: 9.6316\n",
      "Epoch 4/50\n",
      "3/3 [==============================] - 0s 14ms/step - loss: 11.9635 - val_loss: 7.7165\n",
      "Epoch 5/50\n",
      "3/3 [==============================] - 0s 13ms/step - loss: 9.5165 - val_loss: 9.2209\n",
      "Epoch 6/50\n",
      "3/3 [==============================] - 0s 14ms/step - loss: 10.3880 - val_loss: 7.9891\n",
      "Epoch 7/50\n",
      "3/3 [==============================] - 0s 15ms/step - loss: 9.0401 - val_loss: 8.1751\n",
      "Epoch 8/50\n",
      "3/3 [==============================] - 0s 14ms/step - loss: 9.4154 - val_loss: 7.6967\n",
      "Epoch 9/50\n",
      "3/3 [==============================] - 0s 13ms/step - loss: 8.7295 - val_loss: 7.9741\n",
      "Epoch 10/50\n",
      "3/3 [==============================] - 0s 13ms/step - loss: 8.9050 - val_loss: 7.6651\n",
      "Epoch 11/50\n",
      "3/3 [==============================] - 0s 14ms/step - loss: 8.5200 - val_loss: 7.5570\n",
      "Epoch 12/50\n",
      "3/3 [==============================] - 0s 14ms/step - loss: 8.5972 - val_loss: 7.4350\n",
      "Epoch 13/50\n",
      "3/3 [==============================] - 0s 13ms/step - loss: 8.3781 - val_loss: 7.6652\n",
      "Epoch 14/50\n",
      "3/3 [==============================] - 0s 14ms/step - loss: 8.3807 - val_loss: 7.4463\n",
      "Epoch 15/50\n",
      "3/3 [==============================] - 0s 14ms/step - loss: 8.2683 - val_loss: 7.4066\n",
      "Epoch 16/50\n",
      "3/3 [==============================] - 0s 16ms/step - loss: 8.2223 - val_loss: 7.4017\n",
      "Epoch 17/50\n",
      "3/3 [==============================] - 0s 15ms/step - loss: 8.1640 - val_loss: 7.3197\n",
      "Epoch 18/50\n",
      "3/3 [==============================] - 0s 15ms/step - loss: 8.1103 - val_loss: 7.2134\n",
      "Epoch 19/50\n",
      "3/3 [==============================] - 0s 14ms/step - loss: 8.0759 - val_loss: 7.1967\n",
      "Epoch 20/50\n",
      "3/3 [==============================] - 0s 14ms/step - loss: 8.0247 - val_loss: 7.1938\n",
      "Epoch 21/50\n",
      "3/3 [==============================] - 0s 16ms/step - loss: 7.9942 - val_loss: 7.0880\n",
      "Epoch 22/50\n",
      "3/3 [==============================] - 0s 16ms/step - loss: 7.9642 - val_loss: 7.0611\n",
      "Epoch 23/50\n",
      "3/3 [==============================] - 0s 17ms/step - loss: 7.9312 - val_loss: 7.0487\n",
      "Epoch 24/50\n",
      "3/3 [==============================] - 0s 13ms/step - loss: 7.9078 - val_loss: 6.9710\n",
      "Epoch 25/50\n",
      "3/3 [==============================] - 0s 14ms/step - loss: 7.8844 - val_loss: 6.9175\n",
      "Epoch 26/50\n",
      "3/3 [==============================] - 0s 14ms/step - loss: 7.8646 - val_loss: 6.9079\n",
      "Epoch 27/50\n",
      "3/3 [==============================] - 0s 14ms/step - loss: 7.8440 - val_loss: 6.8587\n",
      "Epoch 28/50\n",
      "3/3 [==============================] - 0s 15ms/step - loss: 7.8278 - val_loss: 6.8290\n",
      "Epoch 29/50\n",
      "3/3 [==============================] - 0s 13ms/step - loss: 7.8147 - val_loss: 6.8022\n",
      "Epoch 30/50\n",
      "3/3 [==============================] - 0s 14ms/step - loss: 7.7997 - val_loss: 6.7734\n",
      "Epoch 31/50\n",
      "3/3 [==============================] - 0s 13ms/step - loss: 7.7873 - val_loss: 6.7420\n",
      "Epoch 32/50\n",
      "3/3 [==============================] - 0s 14ms/step - loss: 7.7758 - val_loss: 6.7040\n",
      "Epoch 33/50\n",
      "3/3 [==============================] - 0s 14ms/step - loss: 7.7660 - val_loss: 6.6969\n",
      "Epoch 34/50\n",
      "3/3 [==============================] - 0s 13ms/step - loss: 7.7572 - val_loss: 6.6907\n",
      "Epoch 35/50\n",
      "3/3 [==============================] - 0s 14ms/step - loss: 7.7507 - val_loss: 6.6584\n",
      "Epoch 36/50\n",
      "3/3 [==============================] - 0s 14ms/step - loss: 7.7430 - val_loss: 6.6375\n",
      "Epoch 37/50\n",
      "3/3 [==============================] - 0s 14ms/step - loss: 7.7361 - val_loss: 6.6376\n",
      "Epoch 38/50\n",
      "3/3 [==============================] - 0s 15ms/step - loss: 7.7307 - val_loss: 6.6419\n",
      "Epoch 39/50\n",
      "3/3 [==============================] - 0s 15ms/step - loss: 7.7252 - val_loss: 6.6032\n",
      "Epoch 40/50\n",
      "3/3 [==============================] - 0s 13ms/step - loss: 7.7198 - val_loss: 6.5820\n",
      "Epoch 41/50\n",
      "3/3 [==============================] - 0s 14ms/step - loss: 7.7165 - val_loss: 6.5874\n",
      "Epoch 42/50\n",
      "3/3 [==============================] - 0s 15ms/step - loss: 7.7116 - val_loss: 6.5946\n",
      "Epoch 43/50\n",
      "3/3 [==============================] - 0s 14ms/step - loss: 7.7098 - val_loss: 6.5822\n",
      "Epoch 44/50\n",
      "3/3 [==============================] - 0s 15ms/step - loss: 7.7051 - val_loss: 6.5670\n",
      "Epoch 45/50\n",
      "3/3 [==============================] - 0s 15ms/step - loss: 7.7035 - val_loss: 6.5729\n",
      "Epoch 46/50\n",
      "3/3 [==============================] - 0s 14ms/step - loss: 7.6999 - val_loss: 6.5569\n",
      "Epoch 47/50\n",
      "3/3 [==============================] - 0s 15ms/step - loss: 7.6970 - val_loss: 6.5486\n",
      "Epoch 48/50\n",
      "3/3 [==============================] - 0s 14ms/step - loss: 7.6958 - val_loss: 6.5463\n",
      "Epoch 49/50\n",
      "3/3 [==============================] - 0s 14ms/step - loss: 7.6930 - val_loss: 6.5655\n",
      "Epoch 50/50\n",
      "3/3 [==============================] - 0s 15ms/step - loss: 7.6931 - val_loss: 6.5621\n",
      "============== EVALUATION ==============\n"
     ]
    },
    {
     "name": "stderr",
     "output_type": "stream",
     "text": [
      "C:\\Users\\Baejs\\anaconda3\\envs\\bae\\lib\\site-packages\\keras\\src\\engine\\training.py:3000: UserWarning: You are saving your model as an HDF5 file via `model.save()`. This file format is considered legacy. We recommend using instead the native Keras format, e.g. `model.save('my_model.keras')`.\n",
      "  saving_api.save_model(\n",
      "  0%|                                                                                           | 0/10 [00:00<?, ?it/s]"
     ]
    },
    {
     "name": "stdout",
     "output_type": "stream",
     "text": [
      "10/10 [==============================] - 0s 1ms/step\n"
     ]
    },
    {
     "name": "stderr",
     "output_type": "stream",
     "text": [
      " 10%|████████▎                                                                          | 1/10 [00:00<00:01,  8.55it/s]"
     ]
    },
    {
     "name": "stdout",
     "output_type": "stream",
     "text": [
      "10/10 [==============================] - 0s 977us/step\n",
      "10/10 [==============================] - 0s 2ms/step\n"
     ]
    },
    {
     "name": "stderr",
     "output_type": "stream",
     "text": [
      " 30%|████████████████████████▉                                                          | 3/10 [00:00<00:00, 11.42it/s]"
     ]
    },
    {
     "name": "stdout",
     "output_type": "stream",
     "text": [
      "10/10 [==============================] - 0s 983us/step\n",
      "10/10 [==============================] - 0s 1ms/step\n"
     ]
    },
    {
     "name": "stderr",
     "output_type": "stream",
     "text": [
      " 50%|█████████████████████████████████████████▌                                         | 5/10 [00:00<00:00, 12.79it/s]"
     ]
    },
    {
     "name": "stdout",
     "output_type": "stream",
     "text": [
      "10/10 [==============================] - 0s 1ms/step\n",
      "10/10 [==============================] - 0s 997us/step\n"
     ]
    },
    {
     "name": "stderr",
     "output_type": "stream",
     "text": [
      " 70%|██████████████████████████████████████████████████████████                         | 7/10 [00:00<00:00, 12.74it/s]"
     ]
    },
    {
     "name": "stdout",
     "output_type": "stream",
     "text": [
      "10/10 [==============================] - 0s 1ms/step\n",
      "10/10 [==============================] - 0s 1ms/step\n"
     ]
    },
    {
     "name": "stderr",
     "output_type": "stream",
     "text": [
      " 90%|██████████████████████████████████████████████████████████████████████████▋        | 9/10 [00:00<00:00, 13.21it/s]"
     ]
    },
    {
     "name": "stdout",
     "output_type": "stream",
     "text": [
      "10/10 [==============================] - 0s 1ms/step\n"
     ]
    },
    {
     "name": "stderr",
     "output_type": "stream",
     "text": [
      "100%|██████████████████████████████████████████████████████████████████████████████████| 10/10 [00:00<00:00, 12.70it/s]\n",
      "2023-08-26 01:11:19,085 - INFO - AUC : 0.8\n",
      "2023-08-26 01:11:19,086 - INFO - all results -> ./result_transfer_pretrain_v4/result_transfer_pretrain_v4.yaml\n",
      "2023-08-26 01:11:19,090 - INFO - target_dir : ../Sample_data\n",
      "2023-08-26 01:11:19,091 - INFO - train_file num : 5\n",
      "2023-08-26 01:11:19,092 - INFO - eval_file  num : 10\n"
     ]
    },
    {
     "name": "stdout",
     "output_type": "stream",
     "text": [
      "===========================\n",
      "Model file not found for slider -> id_06. Skipping...\n",
      "Model file not found for slider -> id_06. Skipping...\n",
      "Model file not found for slider -> id_06. Skipping...\n",
      "Model file not found for slider -> id_06. Skipping...\n",
      "Model file not found for slider -> id_06. Skipping...\n",
      "===========================\n",
      "\n",
      "===========================\n"
     ]
    },
    {
     "name": "stderr",
     "output_type": "stream",
     "text": [
      "generate train_dataset: 100%|████████████████████████████████████████████████████████████| 5/5 [00:00<00:00, 87.93it/s]\n",
      "2023-08-26 01:11:19,155 - INFO - save_pickle -> ./pickle_transfer_pretrain_v4/train_pump_id_00.pickle\n",
      "2023-08-26 01:11:19,159 - INFO - save_pickle -> ./pickle_transfer_pretrain_v4/eval_files_pump_id_00.pickle\n",
      "2023-08-26 01:11:19,161 - INFO - save_pickle -> ./pickle_transfer_pretrain_v4/eval_labels_pump_id_00.pickle\n"
     ]
    },
    {
     "name": "stdout",
     "output_type": "stream",
     "text": [
      "\n",
      "Training transfer model for pump -> id_00 using pretrain model pretrain_('fan', 'valve', 'slider')\n",
      "Epoch 1/50\n",
      "3/3 [==============================] - 1s 62ms/step - loss: 17.3941 - val_loss: 19.5575\n",
      "Epoch 2/50\n",
      "3/3 [==============================] - 0s 15ms/step - loss: 17.6504 - val_loss: 9.4909\n",
      "Epoch 3/50\n",
      "3/3 [==============================] - 0s 15ms/step - loss: 13.7147 - val_loss: 10.3647\n",
      "Epoch 4/50\n",
      "3/3 [==============================] - 0s 15ms/step - loss: 12.1923 - val_loss: 8.6738\n",
      "Epoch 5/50\n",
      "3/3 [==============================] - 0s 17ms/step - loss: 11.7432 - val_loss: 8.3563\n",
      "Epoch 6/50\n",
      "3/3 [==============================] - 0s 14ms/step - loss: 10.9201 - val_loss: 7.7632\n",
      "Epoch 7/50\n",
      "3/3 [==============================] - 0s 14ms/step - loss: 10.8537 - val_loss: 8.0050\n",
      "Epoch 8/50\n",
      "3/3 [==============================] - 0s 14ms/step - loss: 10.1713 - val_loss: 7.7252\n",
      "Epoch 9/50\n",
      "3/3 [==============================] - 0s 14ms/step - loss: 10.3424 - val_loss: 7.3643\n",
      "Epoch 10/50\n",
      "3/3 [==============================] - 0s 15ms/step - loss: 9.8741 - val_loss: 7.3279\n",
      "Epoch 11/50\n",
      "3/3 [==============================] - 0s 15ms/step - loss: 9.9387 - val_loss: 7.2158\n",
      "Epoch 12/50\n",
      "3/3 [==============================] - 0s 15ms/step - loss: 9.6909 - val_loss: 7.0899\n",
      "Epoch 13/50\n",
      "3/3 [==============================] - 0s 13ms/step - loss: 9.7149 - val_loss: 6.9210\n",
      "Epoch 14/50\n",
      "3/3 [==============================] - 0s 14ms/step - loss: 9.5436 - val_loss: 7.0708\n",
      "Epoch 15/50\n",
      "3/3 [==============================] - 0s 13ms/step - loss: 9.5482 - val_loss: 6.9395\n",
      "Epoch 16/50\n",
      "3/3 [==============================] - 0s 14ms/step - loss: 9.4471 - val_loss: 6.9559\n",
      "Epoch 17/50\n",
      "3/3 [==============================] - 0s 14ms/step - loss: 9.4010 - val_loss: 6.9599\n",
      "Epoch 18/50\n",
      "3/3 [==============================] - 0s 14ms/step - loss: 9.3665 - val_loss: 6.9313\n",
      "Epoch 19/50\n",
      "3/3 [==============================] - 0s 14ms/step - loss: 9.3096 - val_loss: 6.8815\n",
      "Epoch 20/50\n",
      "3/3 [==============================] - 0s 14ms/step - loss: 9.2794 - val_loss: 6.8553\n",
      "Epoch 21/50\n",
      "3/3 [==============================] - 0s 14ms/step - loss: 9.2355 - val_loss: 6.8471\n",
      "Epoch 22/50\n",
      "3/3 [==============================] - 0s 14ms/step - loss: 9.2012 - val_loss: 6.8335\n",
      "Epoch 23/50\n",
      "3/3 [==============================] - 0s 17ms/step - loss: 9.1722 - val_loss: 6.8503\n",
      "Epoch 24/50\n",
      "3/3 [==============================] - 0s 14ms/step - loss: 9.1388 - val_loss: 6.8438\n",
      "Epoch 25/50\n",
      "3/3 [==============================] - 0s 13ms/step - loss: 9.1113 - val_loss: 6.8091\n",
      "Epoch 26/50\n",
      "3/3 [==============================] - 0s 13ms/step - loss: 9.0850 - val_loss: 6.8141\n",
      "Epoch 27/50\n",
      "3/3 [==============================] - 0s 13ms/step - loss: 9.0566 - val_loss: 6.7831\n",
      "Epoch 28/50\n",
      "3/3 [==============================] - 0s 14ms/step - loss: 9.0344 - val_loss: 6.7650\n",
      "Epoch 29/50\n",
      "3/3 [==============================] - 0s 14ms/step - loss: 9.0122 - val_loss: 6.7788\n",
      "Epoch 30/50\n",
      "3/3 [==============================] - 0s 14ms/step - loss: 8.9895 - val_loss: 6.7875\n",
      "Epoch 31/50\n",
      "3/3 [==============================] - 0s 14ms/step - loss: 8.9695 - val_loss: 6.7945\n",
      "Epoch 32/50\n",
      "3/3 [==============================] - 0s 14ms/step - loss: 8.9512 - val_loss: 6.7677\n",
      "Epoch 33/50\n",
      "3/3 [==============================] - 0s 14ms/step - loss: 8.9308 - val_loss: 6.7366\n",
      "Epoch 34/50\n",
      "3/3 [==============================] - 0s 14ms/step - loss: 8.9136 - val_loss: 6.7395\n",
      "Epoch 35/50\n",
      "3/3 [==============================] - 0s 13ms/step - loss: 8.8960 - val_loss: 6.7361\n",
      "Epoch 36/50\n",
      "3/3 [==============================] - 0s 14ms/step - loss: 8.8788 - val_loss: 6.7483\n",
      "Epoch 37/50\n",
      "3/3 [==============================] - 0s 14ms/step - loss: 8.8635 - val_loss: 6.7510\n",
      "Epoch 38/50\n",
      "3/3 [==============================] - 0s 14ms/step - loss: 8.8470 - val_loss: 6.7327\n",
      "Epoch 39/50\n",
      "3/3 [==============================] - 0s 14ms/step - loss: 8.8314 - val_loss: 6.7171\n",
      "Epoch 40/50\n",
      "3/3 [==============================] - 0s 14ms/step - loss: 8.8172 - val_loss: 6.7105\n",
      "Epoch 41/50\n",
      "3/3 [==============================] - 0s 14ms/step - loss: 8.8029 - val_loss: 6.7162\n",
      "Epoch 42/50\n",
      "3/3 [==============================] - 0s 15ms/step - loss: 8.7883 - val_loss: 6.7108\n",
      "Epoch 43/50\n",
      "3/3 [==============================] - 0s 15ms/step - loss: 8.7758 - val_loss: 6.7044\n",
      "Epoch 44/50\n",
      "3/3 [==============================] - 0s 14ms/step - loss: 8.7623 - val_loss: 6.7115\n",
      "Epoch 45/50\n",
      "3/3 [==============================] - 0s 14ms/step - loss: 8.7482 - val_loss: 6.7118\n",
      "Epoch 46/50\n",
      "3/3 [==============================] - 0s 14ms/step - loss: 8.7363 - val_loss: 6.7001\n",
      "Epoch 47/50\n",
      "3/3 [==============================] - 0s 14ms/step - loss: 8.7234 - val_loss: 6.6839\n",
      "Epoch 48/50\n",
      "3/3 [==============================] - 0s 15ms/step - loss: 8.7122 - val_loss: 6.6944\n",
      "Epoch 49/50\n",
      "3/3 [==============================] - 0s 15ms/step - loss: 8.6987 - val_loss: 6.7083\n",
      "Epoch 50/50\n",
      "3/3 [==============================] - 0s 14ms/step - loss: 8.6874 - val_loss: 6.6913\n",
      "============== EVALUATION =============="
     ]
    },
    {
     "name": "stderr",
     "output_type": "stream",
     "text": [
      "C:\\Users\\Baejs\\anaconda3\\envs\\bae\\lib\\site-packages\\keras\\src\\engine\\training.py:3000: UserWarning: You are saving your model as an HDF5 file via `model.save()`. This file format is considered legacy. We recommend using instead the native Keras format, e.g. `model.save('my_model.keras')`.\n",
      "  saving_api.save_model(\n"
     ]
    },
    {
     "name": "stdout",
     "output_type": "stream",
     "text": [
      "\n"
     ]
    },
    {
     "name": "stderr",
     "output_type": "stream",
     "text": [
      "  0%|                                                                                           | 0/10 [00:00<?, ?it/s]"
     ]
    },
    {
     "name": "stdout",
     "output_type": "stream",
     "text": [
      "10/10 [==============================] - 0s 1ms/step\n"
     ]
    },
    {
     "name": "stderr",
     "output_type": "stream",
     "text": [
      " 10%|████████▎                                                                          | 1/10 [00:00<00:00,  9.29it/s]"
     ]
    },
    {
     "name": "stdout",
     "output_type": "stream",
     "text": [
      "10/10 [==============================] - 0s 1ms/step\n",
      "10/10 [==============================] - 0s 1ms/step\n"
     ]
    },
    {
     "name": "stderr",
     "output_type": "stream",
     "text": [
      " 30%|████████████████████████▉                                                          | 3/10 [00:00<00:00, 12.63it/s]"
     ]
    },
    {
     "name": "stdout",
     "output_type": "stream",
     "text": [
      "10/10 [==============================] - 0s 1ms/step\n",
      "10/10 [==============================] - 0s 1ms/step\n"
     ]
    },
    {
     "name": "stderr",
     "output_type": "stream",
     "text": [
      " 50%|█████████████████████████████████████████▌                                         | 5/10 [00:00<00:00,  7.99it/s]"
     ]
    },
    {
     "name": "stdout",
     "output_type": "stream",
     "text": [
      "10/10 [==============================] - 0s 1ms/step\n",
      "10/10 [==============================] - 0s 1ms/step\n"
     ]
    },
    {
     "name": "stderr",
     "output_type": "stream",
     "text": [
      " 70%|██████████████████████████████████████████████████████████                         | 7/10 [00:00<00:00,  9.65it/s]"
     ]
    },
    {
     "name": "stdout",
     "output_type": "stream",
     "text": [
      "10/10 [==============================] - 0s 1ms/step\n",
      "10/10 [==============================] - 0s 1ms/step\n"
     ]
    },
    {
     "name": "stderr",
     "output_type": "stream",
     "text": [
      " 90%|██████████████████████████████████████████████████████████████████████████▋        | 9/10 [00:00<00:00, 10.80it/s]"
     ]
    },
    {
     "name": "stdout",
     "output_type": "stream",
     "text": [
      "10/10 [==============================] - 0s 1ms/step\n"
     ]
    },
    {
     "name": "stderr",
     "output_type": "stream",
     "text": [
      "100%|██████████████████████████████████████████████████████████████████████████████████| 10/10 [00:00<00:00, 10.44it/s]\n",
      "2023-08-26 01:11:22,907 - INFO - AUC : 0.6\n",
      "2023-08-26 01:11:22,909 - INFO - target_dir : ../Sample_data\n",
      "2023-08-26 01:11:22,911 - INFO - train_file num : 5\n",
      "2023-08-26 01:11:22,912 - INFO - eval_file  num : 10\n"
     ]
    },
    {
     "name": "stdout",
     "output_type": "stream",
     "text": [
      "===========================\n",
      "Model file not found for pump -> id_00. Skipping...\n",
      "Model file not found for pump -> id_00. Skipping...\n",
      "Model file not found for pump -> id_00. Skipping...\n",
      "Model file not found for pump -> id_00. Skipping...\n",
      "Model file not found for pump -> id_00. Skipping...\n",
      "\n",
      "===========================\n"
     ]
    },
    {
     "name": "stderr",
     "output_type": "stream",
     "text": [
      "generate train_dataset: 100%|████████████████████████████████████████████████████████████| 5/5 [00:00<00:00, 84.93it/s]\n",
      "2023-08-26 01:11:22,976 - INFO - save_pickle -> ./pickle_transfer_pretrain_v4/train_pump_id_02.pickle\n",
      "2023-08-26 01:11:22,981 - INFO - save_pickle -> ./pickle_transfer_pretrain_v4/eval_files_pump_id_02.pickle\n",
      "2023-08-26 01:11:22,983 - INFO - save_pickle -> ./pickle_transfer_pretrain_v4/eval_labels_pump_id_02.pickle\n"
     ]
    },
    {
     "name": "stdout",
     "output_type": "stream",
     "text": [
      "\n",
      "Training transfer model for pump -> id_02 using pretrain model pretrain_('fan', 'valve', 'slider')\n",
      "Epoch 1/50\n",
      "3/3 [==============================] - 1s 59ms/step - loss: 16.1283 - val_loss: 15.5853\n",
      "Epoch 2/50\n",
      "3/3 [==============================] - 0s 15ms/step - loss: 14.7200 - val_loss: 10.2265\n",
      "Epoch 3/50\n",
      "3/3 [==============================] - 0s 14ms/step - loss: 12.2464 - val_loss: 9.1011\n",
      "Epoch 4/50\n",
      "3/3 [==============================] - 0s 16ms/step - loss: 11.4746 - val_loss: 7.5022\n",
      "Epoch 5/50\n",
      "3/3 [==============================] - 0s 14ms/step - loss: 9.8440 - val_loss: 7.7094\n",
      "Epoch 6/50\n",
      "3/3 [==============================] - 0s 14ms/step - loss: 9.8895 - val_loss: 7.3770\n",
      "Epoch 7/50\n",
      "3/3 [==============================] - 0s 15ms/step - loss: 9.4335 - val_loss: 6.8121\n",
      "Epoch 8/50\n",
      "3/3 [==============================] - 0s 30ms/step - loss: 9.1549 - val_loss: 6.5998\n",
      "Epoch 9/50\n",
      "3/3 [==============================] - 0s 15ms/step - loss: 8.9262 - val_loss: 6.1869\n",
      "Epoch 10/50\n",
      "3/3 [==============================] - 0s 14ms/step - loss: 8.8330 - val_loss: 6.2343\n",
      "Epoch 11/50\n",
      "3/3 [==============================] - 0s 14ms/step - loss: 8.5770 - val_loss: 6.3565\n",
      "Epoch 12/50\n",
      "3/3 [==============================] - 0s 13ms/step - loss: 8.5642 - val_loss: 6.2115\n",
      "Epoch 13/50\n",
      "3/3 [==============================] - 0s 13ms/step - loss: 8.3857 - val_loss: 6.0162\n",
      "Epoch 14/50\n",
      "3/3 [==============================] - 0s 13ms/step - loss: 8.3684 - val_loss: 5.8822\n",
      "Epoch 15/50\n",
      "3/3 [==============================] - 0s 14ms/step - loss: 8.2455 - val_loss: 5.9301\n",
      "Epoch 16/50\n",
      "3/3 [==============================] - 0s 14ms/step - loss: 8.2067 - val_loss: 5.9240\n",
      "Epoch 17/50\n",
      "3/3 [==============================] - 0s 14ms/step - loss: 8.1373 - val_loss: 5.8652\n",
      "Epoch 18/50\n",
      "3/3 [==============================] - 0s 14ms/step - loss: 8.0734 - val_loss: 5.8449\n",
      "Epoch 19/50\n",
      "3/3 [==============================] - 0s 14ms/step - loss: 8.0096 - val_loss: 5.8824\n",
      "Epoch 20/50\n",
      "3/3 [==============================] - 0s 15ms/step - loss: 7.9517 - val_loss: 5.8708\n",
      "Epoch 21/50\n",
      "3/3 [==============================] - 0s 27ms/step - loss: 7.8966 - val_loss: 5.8649\n",
      "Epoch 22/50\n",
      "3/3 [==============================] - 0s 14ms/step - loss: 7.8364 - val_loss: 5.8485\n",
      "Epoch 23/50\n",
      "3/3 [==============================] - 0s 14ms/step - loss: 7.7833 - val_loss: 5.7876\n",
      "Epoch 24/50\n",
      "3/3 [==============================] - 0s 14ms/step - loss: 7.7275 - val_loss: 5.7886\n",
      "Epoch 25/50\n",
      "3/3 [==============================] - 0s 14ms/step - loss: 7.6683 - val_loss: 5.8185\n",
      "Epoch 26/50\n",
      "3/3 [==============================] - 0s 14ms/step - loss: 7.6158 - val_loss: 5.7988\n",
      "Epoch 27/50\n",
      "3/3 [==============================] - 0s 14ms/step - loss: 7.5591 - val_loss: 5.7991\n",
      "Epoch 28/50\n",
      "3/3 [==============================] - 0s 14ms/step - loss: 7.5013 - val_loss: 5.7749\n",
      "Epoch 29/50\n",
      "3/3 [==============================] - 0s 14ms/step - loss: 7.4481 - val_loss: 5.7799\n",
      "Epoch 30/50\n",
      "3/3 [==============================] - 0s 14ms/step - loss: 7.3931 - val_loss: 5.7807\n",
      "Epoch 31/50\n",
      "3/3 [==============================] - 0s 14ms/step - loss: 7.3395 - val_loss: 5.7655\n",
      "Epoch 32/50\n",
      "3/3 [==============================] - 0s 15ms/step - loss: 7.2866 - val_loss: 5.7615\n",
      "Epoch 33/50\n",
      "3/3 [==============================] - 0s 14ms/step - loss: 7.2343 - val_loss: 5.7666\n",
      "Epoch 34/50\n",
      "3/3 [==============================] - 0s 23ms/step - loss: 7.1829 - val_loss: 5.7534\n",
      "Epoch 35/50\n",
      "3/3 [==============================] - 0s 13ms/step - loss: 7.1328 - val_loss: 5.7533\n",
      "Epoch 36/50\n",
      "3/3 [==============================] - 0s 14ms/step - loss: 7.0824 - val_loss: 5.7380\n",
      "Epoch 37/50\n",
      "3/3 [==============================] - 0s 13ms/step - loss: 7.0346 - val_loss: 5.7544\n",
      "Epoch 38/50\n",
      "3/3 [==============================] - 0s 13ms/step - loss: 6.9870 - val_loss: 5.7495\n",
      "Epoch 39/50\n",
      "3/3 [==============================] - 0s 25ms/step - loss: 6.9415 - val_loss: 5.7420\n",
      "Epoch 40/50\n",
      "3/3 [==============================] - 0s 15ms/step - loss: 6.8984 - val_loss: 5.7374\n",
      "Epoch 41/50\n",
      "3/3 [==============================] - 0s 13ms/step - loss: 6.8543 - val_loss: 5.7265\n",
      "Epoch 42/50\n",
      "3/3 [==============================] - 0s 15ms/step - loss: 6.8131 - val_loss: 5.7414\n",
      "Epoch 43/50\n",
      "3/3 [==============================] - 0s 14ms/step - loss: 6.7734 - val_loss: 5.7396\n",
      "Epoch 44/50\n",
      "3/3 [==============================] - 0s 13ms/step - loss: 6.7356 - val_loss: 5.7382\n",
      "Epoch 45/50\n",
      "3/3 [==============================] - 0s 16ms/step - loss: 6.6991 - val_loss: 5.7187\n",
      "Epoch 46/50\n",
      "3/3 [==============================] - 0s 13ms/step - loss: 6.6633 - val_loss: 5.7316\n",
      "Epoch 47/50\n",
      "3/3 [==============================] - 0s 14ms/step - loss: 6.6301 - val_loss: 5.7305\n",
      "Epoch 48/50\n",
      "3/3 [==============================] - 0s 16ms/step - loss: 6.5993 - val_loss: 5.7527\n",
      "Epoch 49/50\n",
      "3/3 [==============================] - 0s 14ms/step - loss: 6.5704 - val_loss: 5.7098\n",
      "Epoch 50/50\n",
      "3/3 [==============================] - 0s 13ms/step - loss: 6.5403 - val_loss: 5.7185\n",
      "============== EVALUATION ==============\n"
     ]
    },
    {
     "name": "stderr",
     "output_type": "stream",
     "text": [
      "C:\\Users\\Baejs\\anaconda3\\envs\\bae\\lib\\site-packages\\keras\\src\\engine\\training.py:3000: UserWarning: You are saving your model as an HDF5 file via `model.save()`. This file format is considered legacy. We recommend using instead the native Keras format, e.g. `model.save('my_model.keras')`.\n",
      "  saving_api.save_model(\n",
      "  0%|                                                                                           | 0/10 [00:00<?, ?it/s]"
     ]
    },
    {
     "name": "stdout",
     "output_type": "stream",
     "text": [
      "10/10 [==============================] - 0s 1ms/step\n"
     ]
    },
    {
     "name": "stderr",
     "output_type": "stream",
     "text": [
      " 10%|████████▎                                                                          | 1/10 [00:00<00:01,  8.64it/s]"
     ]
    },
    {
     "name": "stdout",
     "output_type": "stream",
     "text": [
      "10/10 [==============================] - 0s 1ms/step\n",
      "10/10 [==============================] - 0s 994us/step\n"
     ]
    },
    {
     "name": "stderr",
     "output_type": "stream",
     "text": [
      " 30%|████████████████████████▉                                                          | 3/10 [00:00<00:00, 12.41it/s]"
     ]
    },
    {
     "name": "stdout",
     "output_type": "stream",
     "text": [
      "10/10 [==============================] - 0s 1ms/step\n",
      "10/10 [==============================] - 0s 1ms/step\n"
     ]
    },
    {
     "name": "stderr",
     "output_type": "stream",
     "text": [
      " 50%|█████████████████████████████████████████▌                                         | 5/10 [00:00<00:00, 13.30it/s]"
     ]
    },
    {
     "name": "stdout",
     "output_type": "stream",
     "text": [
      "10/10 [==============================] - 0s 1ms/step\n",
      "10/10 [==============================] - 0s 1ms/step\n"
     ]
    },
    {
     "name": "stderr",
     "output_type": "stream",
     "text": [
      " 70%|██████████████████████████████████████████████████████████                         | 7/10 [00:00<00:00, 13.67it/s]"
     ]
    },
    {
     "name": "stdout",
     "output_type": "stream",
     "text": [
      "10/10 [==============================] - 0s 1ms/step\n",
      "10/10 [==============================] - 0s 1ms/step\n"
     ]
    },
    {
     "name": "stderr",
     "output_type": "stream",
     "text": [
      " 90%|██████████████████████████████████████████████████████████████████████████▋        | 9/10 [00:00<00:00, 13.83it/s]"
     ]
    },
    {
     "name": "stdout",
     "output_type": "stream",
     "text": [
      "10/10 [==============================] - 0s 1ms/step\n"
     ]
    },
    {
     "name": "stderr",
     "output_type": "stream",
     "text": [
      "100%|██████████████████████████████████████████████████████████████████████████████████| 10/10 [00:00<00:00, 13.34it/s]\n",
      "2023-08-26 01:11:26,534 - INFO - AUC : 0.36\n",
      "2023-08-26 01:11:26,536 - INFO - target_dir : ../Sample_data\n",
      "2023-08-26 01:11:26,538 - INFO - train_file num : 5\n",
      "2023-08-26 01:11:26,538 - INFO - eval_file  num : 10\n"
     ]
    },
    {
     "name": "stdout",
     "output_type": "stream",
     "text": [
      "===========================\n",
      "Model file not found for pump -> id_02. Skipping...\n",
      "Model file not found for pump -> id_02. Skipping...\n",
      "Model file not found for pump -> id_02. Skipping...\n",
      "Model file not found for pump -> id_02. Skipping...\n",
      "Model file not found for pump -> id_02. Skipping...\n",
      "\n",
      "===========================\n"
     ]
    },
    {
     "name": "stderr",
     "output_type": "stream",
     "text": [
      "generate train_dataset: 100%|████████████████████████████████████████████████████████████| 5/5 [00:00<00:00, 84.93it/s]\n",
      "2023-08-26 01:11:26,601 - INFO - save_pickle -> ./pickle_transfer_pretrain_v4/train_pump_id_04.pickle\n",
      "2023-08-26 01:11:26,605 - INFO - save_pickle -> ./pickle_transfer_pretrain_v4/eval_files_pump_id_04.pickle\n",
      "2023-08-26 01:11:26,608 - INFO - save_pickle -> ./pickle_transfer_pretrain_v4/eval_labels_pump_id_04.pickle\n"
     ]
    },
    {
     "name": "stdout",
     "output_type": "stream",
     "text": [
      "\n",
      "Training transfer model for pump -> id_04 using pretrain model pretrain_('fan', 'valve', 'slider')\n",
      "Epoch 1/50\n",
      "3/3 [==============================] - 1s 60ms/step - loss: 16.8170 - val_loss: 16.7521\n",
      "Epoch 2/50\n",
      "3/3 [==============================] - 0s 14ms/step - loss: 13.6809 - val_loss: 10.5130\n",
      "Epoch 3/50\n",
      "3/3 [==============================] - 0s 14ms/step - loss: 11.8496 - val_loss: 10.8811\n",
      "Epoch 4/50\n",
      "3/3 [==============================] - 0s 14ms/step - loss: 11.3583 - val_loss: 11.0770\n",
      "Epoch 5/50\n",
      "3/3 [==============================] - 0s 14ms/step - loss: 11.2660 - val_loss: 11.0768\n",
      "Epoch 6/50\n",
      "3/3 [==============================] - 0s 14ms/step - loss: 10.4685 - val_loss: 11.1958\n",
      "Epoch 7/50\n",
      "3/3 [==============================] - 0s 14ms/step - loss: 10.4688 - val_loss: 10.7004\n",
      "Epoch 8/50\n",
      "3/3 [==============================] - 0s 14ms/step - loss: 10.0041 - val_loss: 10.6684\n",
      "Epoch 9/50\n",
      "3/3 [==============================] - 0s 14ms/step - loss: 10.0149 - val_loss: 10.1126\n",
      "Epoch 10/50\n",
      "3/3 [==============================] - 0s 13ms/step - loss: 9.8174 - val_loss: 9.9273\n",
      "Epoch 11/50\n",
      "3/3 [==============================] - 0s 14ms/step - loss: 9.6880 - val_loss: 9.4727\n",
      "Epoch 12/50\n",
      "3/3 [==============================] - 0s 14ms/step - loss: 9.6153 - val_loss: 9.1525\n",
      "Epoch 13/50\n",
      "3/3 [==============================] - 0s 14ms/step - loss: 9.4552 - val_loss: 9.2488\n",
      "Epoch 14/50\n",
      "3/3 [==============================] - 0s 16ms/step - loss: 9.4028 - val_loss: 9.0121\n",
      "Epoch 15/50\n",
      "3/3 [==============================] - 0s 25ms/step - loss: 9.2829 - val_loss: 8.9125\n",
      "Epoch 16/50\n",
      "3/3 [==============================] - 0s 13ms/step - loss: 9.1972 - val_loss: 8.9519\n",
      "Epoch 17/50\n",
      "3/3 [==============================] - 0s 13ms/step - loss: 9.1079 - val_loss: 8.6736\n",
      "Epoch 18/50\n",
      "3/3 [==============================] - 0s 13ms/step - loss: 9.0119 - val_loss: 8.3549\n",
      "Epoch 19/50\n",
      "3/3 [==============================] - 0s 14ms/step - loss: 8.9156 - val_loss: 8.3598\n",
      "Epoch 20/50\n",
      "3/3 [==============================] - 0s 14ms/step - loss: 8.8268 - val_loss: 8.0767\n",
      "Epoch 21/50\n",
      "3/3 [==============================] - 0s 14ms/step - loss: 8.7311 - val_loss: 7.9244\n",
      "Epoch 22/50\n",
      "3/3 [==============================] - 0s 14ms/step - loss: 8.6286 - val_loss: 7.8991\n",
      "Epoch 23/50\n",
      "3/3 [==============================] - 0s 13ms/step - loss: 8.5317 - val_loss: 7.6735\n",
      "Epoch 24/50\n",
      "3/3 [==============================] - 0s 15ms/step - loss: 8.4310 - val_loss: 7.5577\n",
      "Epoch 25/50\n",
      "3/3 [==============================] - 0s 14ms/step - loss: 8.3296 - val_loss: 7.4165\n",
      "Epoch 26/50\n",
      "3/3 [==============================] - 0s 13ms/step - loss: 8.2294 - val_loss: 7.2769\n",
      "Epoch 27/50\n",
      "3/3 [==============================] - 0s 14ms/step - loss: 8.1305 - val_loss: 7.1579\n",
      "Epoch 28/50\n",
      "3/3 [==============================] - 0s 14ms/step - loss: 8.0300 - val_loss: 6.9791\n",
      "Epoch 29/50\n",
      "3/3 [==============================] - 0s 14ms/step - loss: 7.9327 - val_loss: 6.8378\n",
      "Epoch 30/50\n",
      "3/3 [==============================] - 0s 14ms/step - loss: 7.8371 - val_loss: 6.7325\n",
      "Epoch 31/50\n",
      "3/3 [==============================] - 0s 14ms/step - loss: 7.7441 - val_loss: 6.5721\n",
      "Epoch 32/50\n",
      "3/3 [==============================] - 0s 13ms/step - loss: 7.6585 - val_loss: 6.5088\n",
      "Epoch 33/50\n",
      "3/3 [==============================] - 0s 14ms/step - loss: 7.5719 - val_loss: 6.4659\n",
      "Epoch 34/50\n",
      "3/3 [==============================] - 0s 14ms/step - loss: 7.4898 - val_loss: 6.4238\n",
      "Epoch 35/50\n",
      "3/3 [==============================] - 0s 14ms/step - loss: 7.4118 - val_loss: 6.3630\n",
      "Epoch 36/50\n",
      "3/3 [==============================] - 0s 14ms/step - loss: 7.3345 - val_loss: 6.2853\n",
      "Epoch 37/50\n",
      "3/3 [==============================] - 0s 14ms/step - loss: 7.2685 - val_loss: 6.2459\n",
      "Epoch 38/50\n",
      "3/3 [==============================] - 0s 15ms/step - loss: 7.2036 - val_loss: 6.2229\n",
      "Epoch 39/50\n",
      "3/3 [==============================] - 0s 14ms/step - loss: 7.1431 - val_loss: 6.2082\n",
      "Epoch 40/50\n",
      "3/3 [==============================] - 0s 14ms/step - loss: 7.0869 - val_loss: 6.2458\n",
      "Epoch 41/50\n",
      "3/3 [==============================] - 0s 16ms/step - loss: 7.0354 - val_loss: 6.2405\n",
      "Epoch 42/50\n",
      "3/3 [==============================] - 0s 14ms/step - loss: 6.9892 - val_loss: 6.1950\n",
      "Epoch 43/50\n",
      "3/3 [==============================] - 0s 15ms/step - loss: 6.9462 - val_loss: 6.1930\n",
      "Epoch 44/50\n",
      "3/3 [==============================] - 0s 14ms/step - loss: 6.9061 - val_loss: 6.1992\n",
      "Epoch 45/50\n",
      "3/3 [==============================] - 0s 17ms/step - loss: 6.8693 - val_loss: 6.2364\n",
      "Epoch 46/50\n",
      "3/3 [==============================] - 0s 15ms/step - loss: 6.8350 - val_loss: 6.2482\n",
      "Epoch 47/50\n",
      "3/3 [==============================] - 0s 14ms/step - loss: 6.8054 - val_loss: 6.2485\n",
      "Epoch 48/50\n",
      "3/3 [==============================] - 0s 15ms/step - loss: 6.7758 - val_loss: 6.2619\n",
      "Epoch 49/50\n",
      "3/3 [==============================] - 0s 15ms/step - loss: 6.7497 - val_loss: 6.2675\n",
      "Epoch 50/50\n",
      "3/3 [==============================] - 0s 13ms/step - loss: 6.7228 - val_loss: 6.3105\n",
      "============== EVALUATION ==============\n"
     ]
    },
    {
     "name": "stderr",
     "output_type": "stream",
     "text": [
      "C:\\Users\\Baejs\\anaconda3\\envs\\bae\\lib\\site-packages\\keras\\src\\engine\\training.py:3000: UserWarning: You are saving your model as an HDF5 file via `model.save()`. This file format is considered legacy. We recommend using instead the native Keras format, e.g. `model.save('my_model.keras')`.\n",
      "  saving_api.save_model(\n",
      "  0%|                                                                                           | 0/10 [00:00<?, ?it/s]"
     ]
    },
    {
     "name": "stdout",
     "output_type": "stream",
     "text": [
      "10/10 [==============================] - 0s 988us/step\n"
     ]
    },
    {
     "name": "stderr",
     "output_type": "stream",
     "text": [
      " 10%|████████▎                                                                          | 1/10 [00:00<00:00,  9.09it/s]"
     ]
    },
    {
     "name": "stdout",
     "output_type": "stream",
     "text": [
      "10/10 [==============================] - 0s 1ms/step\n",
      "10/10 [==============================] - 0s 2ms/step\n"
     ]
    },
    {
     "name": "stderr",
     "output_type": "stream",
     "text": [
      " 30%|████████████████████████▉                                                          | 3/10 [00:00<00:00, 11.72it/s]"
     ]
    },
    {
     "name": "stdout",
     "output_type": "stream",
     "text": [
      "10/10 [==============================] - 0s 1ms/step\n",
      "10/10 [==============================] - 0s 1ms/step\n"
     ]
    },
    {
     "name": "stderr",
     "output_type": "stream",
     "text": [
      " 50%|█████████████████████████████████████████▌                                         | 5/10 [00:00<00:00, 12.75it/s]"
     ]
    },
    {
     "name": "stdout",
     "output_type": "stream",
     "text": [
      "10/10 [==============================] - 0s 887us/step\n",
      "10/10 [==============================] - 0s 1ms/step\n"
     ]
    },
    {
     "name": "stderr",
     "output_type": "stream",
     "text": [
      " 70%|██████████████████████████████████████████████████████████                         | 7/10 [00:00<00:00, 13.34it/s]"
     ]
    },
    {
     "name": "stdout",
     "output_type": "stream",
     "text": [
      "10/10 [==============================] - 0s 989us/step\n",
      "10/10 [==============================] - 0s 1ms/step\n"
     ]
    },
    {
     "name": "stderr",
     "output_type": "stream",
     "text": [
      " 90%|██████████████████████████████████████████████████████████████████████████▋        | 9/10 [00:00<00:00, 13.70it/s]"
     ]
    },
    {
     "name": "stdout",
     "output_type": "stream",
     "text": [
      "10/10 [==============================] - 0s 1ms/step\n"
     ]
    },
    {
     "name": "stderr",
     "output_type": "stream",
     "text": [
      "100%|██████████████████████████████████████████████████████████████████████████████████| 10/10 [00:00<00:00, 13.20it/s]\n",
      "2023-08-26 01:11:30,116 - INFO - AUC : 0.76\n",
      "2023-08-26 01:11:30,117 - INFO - target_dir : ../Sample_data\n",
      "2023-08-26 01:11:30,119 - INFO - train_file num : 5\n",
      "2023-08-26 01:11:30,120 - INFO - eval_file  num : 10\n"
     ]
    },
    {
     "name": "stdout",
     "output_type": "stream",
     "text": [
      "===========================\n",
      "Model file not found for pump -> id_04. Skipping...\n",
      "Model file not found for pump -> id_04. Skipping...\n",
      "Model file not found for pump -> id_04. Skipping...\n",
      "Model file not found for pump -> id_04. Skipping...\n",
      "Model file not found for pump -> id_04. Skipping...\n",
      "\n",
      "===========================\n"
     ]
    },
    {
     "name": "stderr",
     "output_type": "stream",
     "text": [
      "generate train_dataset: 100%|████████████████████████████████████████████████████████████| 5/5 [00:00<00:00, 86.45it/s]\n",
      "2023-08-26 01:11:30,181 - INFO - save_pickle -> ./pickle_transfer_pretrain_v4/train_pump_id_06.pickle\n",
      "2023-08-26 01:11:30,186 - INFO - save_pickle -> ./pickle_transfer_pretrain_v4/eval_files_pump_id_06.pickle\n",
      "2023-08-26 01:11:30,189 - INFO - save_pickle -> ./pickle_transfer_pretrain_v4/eval_labels_pump_id_06.pickle\n"
     ]
    },
    {
     "name": "stdout",
     "output_type": "stream",
     "text": [
      "\n",
      "Training transfer model for pump -> id_06 using pretrain model pretrain_('fan', 'valve', 'slider')\n",
      "Epoch 1/50\n",
      "3/3 [==============================] - 1s 67ms/step - loss: 14.6668 - val_loss: 19.3481\n",
      "Epoch 2/50\n",
      "3/3 [==============================] - 0s 15ms/step - loss: 13.8613 - val_loss: 13.2643\n",
      "Epoch 3/50\n",
      "3/3 [==============================] - 0s 17ms/step - loss: 10.7618 - val_loss: 12.9184\n",
      "Epoch 4/50\n",
      "3/3 [==============================] - 0s 14ms/step - loss: 9.2182 - val_loss: 11.4248\n",
      "Epoch 5/50\n",
      "3/3 [==============================] - 0s 13ms/step - loss: 8.4087 - val_loss: 11.1179\n",
      "Epoch 6/50\n",
      "3/3 [==============================] - 0s 15ms/step - loss: 7.7340 - val_loss: 9.7437\n",
      "Epoch 7/50\n",
      "3/3 [==============================] - 0s 15ms/step - loss: 7.8337 - val_loss: 9.8108\n",
      "Epoch 8/50\n",
      "3/3 [==============================] - 0s 13ms/step - loss: 7.0342 - val_loss: 10.3428\n",
      "Epoch 9/50\n",
      "3/3 [==============================] - 0s 16ms/step - loss: 7.1114 - val_loss: 9.8745\n",
      "Epoch 10/50\n",
      "3/3 [==============================] - 0s 14ms/step - loss: 6.7725 - val_loss: 9.5690\n",
      "Epoch 11/50\n",
      "3/3 [==============================] - 0s 14ms/step - loss: 6.8093 - val_loss: 9.5422\n",
      "Epoch 12/50\n",
      "3/3 [==============================] - 0s 14ms/step - loss: 6.5201 - val_loss: 9.6396\n",
      "Epoch 13/50\n",
      "3/3 [==============================] - 0s 25ms/step - loss: 6.5424 - val_loss: 9.2366\n",
      "Epoch 14/50\n",
      "3/3 [==============================] - 0s 13ms/step - loss: 6.4182 - val_loss: 9.2140\n",
      "Epoch 15/50\n",
      "3/3 [==============================] - 0s 13ms/step - loss: 6.3705 - val_loss: 9.1982\n",
      "Epoch 16/50\n",
      "3/3 [==============================] - 0s 13ms/step - loss: 6.3009 - val_loss: 9.2052\n",
      "Epoch 17/50\n",
      "3/3 [==============================] - 0s 13ms/step - loss: 6.2326 - val_loss: 9.0690\n",
      "Epoch 18/50\n",
      "3/3 [==============================] - 0s 14ms/step - loss: 6.2065 - val_loss: 9.0336\n",
      "Epoch 19/50\n",
      "3/3 [==============================] - 0s 13ms/step - loss: 6.1453 - val_loss: 9.0654\n",
      "Epoch 20/50\n",
      "3/3 [==============================] - 0s 14ms/step - loss: 6.1065 - val_loss: 8.8727\n",
      "Epoch 21/50\n",
      "3/3 [==============================] - 0s 13ms/step - loss: 6.0690 - val_loss: 8.7669\n",
      "Epoch 22/50\n",
      "3/3 [==============================] - 0s 14ms/step - loss: 6.0218 - val_loss: 8.8542\n",
      "Epoch 23/50\n",
      "3/3 [==============================] - 0s 14ms/step - loss: 5.9879 - val_loss: 8.7520\n",
      "Epoch 24/50\n",
      "3/3 [==============================] - 0s 17ms/step - loss: 5.9515 - val_loss: 8.6394\n",
      "Epoch 25/50\n",
      "3/3 [==============================] - 0s 15ms/step - loss: 5.9137 - val_loss: 8.6372\n",
      "Epoch 26/50\n",
      "3/3 [==============================] - 0s 14ms/step - loss: 5.8832 - val_loss: 8.5201\n",
      "Epoch 27/50\n",
      "3/3 [==============================] - 0s 15ms/step - loss: 5.8501 - val_loss: 8.5000\n",
      "Epoch 28/50\n",
      "3/3 [==============================] - 0s 14ms/step - loss: 5.8173 - val_loss: 8.4706\n",
      "Epoch 29/50\n",
      "3/3 [==============================] - 0s 14ms/step - loss: 5.7884 - val_loss: 8.3388\n",
      "Epoch 30/50\n",
      "3/3 [==============================] - 0s 15ms/step - loss: 5.7599 - val_loss: 8.3271\n",
      "Epoch 31/50\n",
      "3/3 [==============================] - 0s 14ms/step - loss: 5.7312 - val_loss: 8.3055\n",
      "Epoch 32/50\n",
      "3/3 [==============================] - 0s 16ms/step - loss: 5.7046 - val_loss: 8.1955\n",
      "Epoch 33/50\n",
      "3/3 [==============================] - 0s 14ms/step - loss: 5.6794 - val_loss: 8.1726\n",
      "Epoch 34/50\n",
      "3/3 [==============================] - 0s 14ms/step - loss: 5.6539 - val_loss: 8.0946\n",
      "Epoch 35/50\n",
      "3/3 [==============================] - 0s 14ms/step - loss: 5.6295 - val_loss: 8.0372\n",
      "Epoch 36/50\n",
      "3/3 [==============================] - 0s 16ms/step - loss: 5.6073 - val_loss: 7.9977\n",
      "Epoch 37/50\n",
      "3/3 [==============================] - 0s 15ms/step - loss: 5.5860 - val_loss: 7.9423\n",
      "Epoch 38/50\n",
      "3/3 [==============================] - 0s 14ms/step - loss: 5.5659 - val_loss: 7.8898\n",
      "Epoch 39/50\n",
      "3/3 [==============================] - 0s 15ms/step - loss: 5.5466 - val_loss: 7.8342\n",
      "Epoch 40/50\n",
      "3/3 [==============================] - 0s 16ms/step - loss: 5.5274 - val_loss: 7.8287\n",
      "Epoch 41/50\n",
      "3/3 [==============================] - 0s 14ms/step - loss: 5.5102 - val_loss: 7.7765\n",
      "Epoch 42/50\n",
      "3/3 [==============================] - 0s 14ms/step - loss: 5.4933 - val_loss: 7.6980\n",
      "Epoch 43/50\n",
      "3/3 [==============================] - 0s 14ms/step - loss: 5.4776 - val_loss: 7.6587\n",
      "Epoch 44/50\n",
      "3/3 [==============================] - 0s 14ms/step - loss: 5.4627 - val_loss: 7.6295\n",
      "Epoch 45/50\n",
      "3/3 [==============================] - 0s 15ms/step - loss: 5.4484 - val_loss: 7.5846\n",
      "Epoch 46/50\n",
      "3/3 [==============================] - 0s 14ms/step - loss: 5.4352 - val_loss: 7.5727\n",
      "Epoch 47/50\n",
      "3/3 [==============================] - 0s 14ms/step - loss: 5.4219 - val_loss: 7.5488\n",
      "Epoch 48/50\n",
      "3/3 [==============================] - 0s 14ms/step - loss: 5.4108 - val_loss: 7.4928\n",
      "Epoch 49/50\n",
      "3/3 [==============================] - 0s 14ms/step - loss: 5.3985 - val_loss: 7.4633\n",
      "Epoch 50/50\n",
      "3/3 [==============================] - 0s 14ms/step - loss: 5.3879 - val_loss: 7.4173\n",
      "============== EVALUATION ==============\n"
     ]
    },
    {
     "name": "stderr",
     "output_type": "stream",
     "text": [
      "C:\\Users\\Baejs\\anaconda3\\envs\\bae\\lib\\site-packages\\keras\\src\\engine\\training.py:3000: UserWarning: You are saving your model as an HDF5 file via `model.save()`. This file format is considered legacy. We recommend using instead the native Keras format, e.g. `model.save('my_model.keras')`.\n",
      "  saving_api.save_model(\n",
      "  0%|                                                                                           | 0/10 [00:00<?, ?it/s]"
     ]
    },
    {
     "name": "stdout",
     "output_type": "stream",
     "text": [
      "10/10 [==============================] - 0s 1ms/step\n"
     ]
    },
    {
     "name": "stderr",
     "output_type": "stream",
     "text": [
      " 10%|████████▎                                                                          | 1/10 [00:00<00:01,  8.35it/s]"
     ]
    },
    {
     "name": "stdout",
     "output_type": "stream",
     "text": [
      "10/10 [==============================] - 0s 999us/step\n",
      "10/10 [==============================] - 0s 1ms/step\n"
     ]
    },
    {
     "name": "stderr",
     "output_type": "stream",
     "text": [
      " 30%|████████████████████████▉                                                          | 3/10 [00:00<00:00, 11.98it/s]"
     ]
    },
    {
     "name": "stdout",
     "output_type": "stream",
     "text": [
      "10/10 [==============================] - 0s 1ms/step\n",
      "10/10 [==============================] - 0s 1ms/step\n"
     ]
    },
    {
     "name": "stderr",
     "output_type": "stream",
     "text": [
      " 50%|█████████████████████████████████████████▌                                         | 5/10 [00:00<00:00, 12.89it/s]"
     ]
    },
    {
     "name": "stdout",
     "output_type": "stream",
     "text": [
      "10/10 [==============================] - 0s 1ms/step\n",
      "10/10 [==============================] - 0s 1ms/step\n"
     ]
    },
    {
     "name": "stderr",
     "output_type": "stream",
     "text": [
      " 70%|██████████████████████████████████████████████████████████                         | 7/10 [00:00<00:00, 13.06it/s]"
     ]
    },
    {
     "name": "stdout",
     "output_type": "stream",
     "text": [
      "10/10 [==============================] - 0s 1ms/step\n",
      "10/10 [==============================] - 0s 1ms/step\n"
     ]
    },
    {
     "name": "stderr",
     "output_type": "stream",
     "text": [
      " 90%|██████████████████████████████████████████████████████████████████████████▋        | 9/10 [00:00<00:00, 13.23it/s]"
     ]
    },
    {
     "name": "stdout",
     "output_type": "stream",
     "text": [
      "10/10 [==============================] - 0s 1ms/step\n"
     ]
    },
    {
     "name": "stderr",
     "output_type": "stream",
     "text": [
      "100%|██████████████████████████████████████████████████████████████████████████████████| 10/10 [00:00<00:00, 12.95it/s]\n",
      "2023-08-26 01:11:33,780 - INFO - AUC : 0.8800000000000001\n",
      "2023-08-26 01:11:33,781 - INFO - all results -> ./result_transfer_pretrain_v4/result_transfer_pretrain_v4.yaml\n"
     ]
    },
    {
     "name": "stdout",
     "output_type": "stream",
     "text": [
      "===========================\n",
      "Model file not found for pump -> id_06. Skipping...\n",
      "Model file not found for pump -> id_06. Skipping...\n",
      "Model file not found for pump -> id_06. Skipping...\n",
      "Model file not found for pump -> id_06. Skipping...\n",
      "Model file not found for pump -> id_06. Skipping...\n",
      "===========================\n"
     ]
    }
   ],
   "source": [
    "########################################################################\n",
    "# import python-library\n",
    "########################################################################\n",
    "import pickle\n",
    "import os\n",
    "import sys\n",
    "import glob\n",
    "\n",
    "import numpy as np\n",
    "import librosa\n",
    "import librosa.core\n",
    "import librosa.feature\n",
    "import yaml\n",
    "import logging\n",
    "import keras\n",
    "\n",
    "from tqdm import tqdm\n",
    "from sklearn import metrics\n",
    "from keras.models import Model\n",
    "from keras.layers import Input, Dense\n",
    "\n",
    "from itertools import combinations\n",
    "########################################################################\n",
    "\n",
    "\n",
    "\n",
    "########################################################################\n",
    "# setup STD I/O\n",
    "########################################################################\n",
    "# 로깅을 설정하고 초기화하는 부분\n",
    "logging.basicConfig(level=logging.DEBUG, filename=\"make_pretrain_v4.log\")\n",
    "logger = logging.getLogger(' ')\n",
    "handler = logging.StreamHandler()\n",
    "formatter = logging.Formatter('%(asctime)s - %(levelname)s - %(message)s')\n",
    "handler.setFormatter(formatter)\n",
    "logger.addHandler(handler)\n",
    "########################################################################\n",
    "\n",
    "\n",
    "\n",
    "########################################################################\n",
    "# file I/O\n",
    "########################################################################\n",
    "#파일 입출력 관련 함수 선언 부분\n",
    "def save_pickle(filename, save_data):  \n",
    "    logger.info(\"save_pickle -> {}\".format(filename))\n",
    "    with open(filename, 'wb') as sf:\n",
    "        pickle.dump(save_data, sf)\n",
    "\n",
    "def load_pickle(filename):\n",
    "    logger.info(\"load_pickle <- {}\".format(filename))\n",
    "    with open(filename, 'rb') as lf:\n",
    "        load_data = pickle.load(lf)\n",
    "    return load_data\n",
    "\n",
    "\n",
    "def file_load(wav_name, mono=False):\n",
    "    try:\n",
    "        return librosa.load(wav_name, sr=None, mono=mono)\n",
    "    except:\n",
    "        logger.error(\"file_broken or not exists!! : {}\".format(wav_name))\n",
    "\n",
    "\n",
    "def demux_wav(wav_name, channel=0):\n",
    "    try:\n",
    "        multi_channel_data, sr = file_load(wav_name)\n",
    "        if multi_channel_data.ndim <= 1:\n",
    "            return sr, multi_channel_data\n",
    "        return sr, np.array(multi_channel_data)[channel, :]\n",
    "    except ValueError as msg:\n",
    "        logger.warning(f'{msg}')\n",
    "########################################################################\n",
    "\n",
    "\n",
    "\n",
    "\n",
    "\n",
    "########################################################################\n",
    "# feature extractor\n",
    "########################################################################\n",
    "#소리 파일 하나를 로그멜스펙트로그램 형태로 바꾸고 딥러닝 모델에 넣을 형태로 바꾸는 함수 \n",
    "def file_to_vector_array(file_name, n_mels=64, frames=5, n_fft=1024, hop_length=512, power=2.0):\n",
    "    dims = n_mels * frames\n",
    "    sr, y = demux_wav(file_name)\n",
    "    mel_spectrogram = librosa.feature.melspectrogram(y=y, sr=sr, n_fft=n_fft, hop_length=hop_length, n_mels=n_mels, power=power)\n",
    "    log_mel_spectrogram = 20.0 / power * np.log10(mel_spectrogram + sys.float_info.epsilon)\n",
    "    vectorarray_size = len(log_mel_spectrogram[0, :]) - frames + 1\n",
    "    if vectorarray_size < 1:\n",
    "        return np.empty((0, dims), float)\n",
    "    vectorarray = np.zeros((vectorarray_size, dims), float)\n",
    "    for t in range(frames):\n",
    "        vectorarray[:, n_mels * t: n_mels * (t + 1)] = log_mel_spectrogram[:, t: t + vectorarray_size].T \n",
    "    return vectorarray\n",
    "\n",
    "#소리 파일들의 이름명이 담긴 리스트를 입력하면 그것들을 하나의 데이터셋으로 합치는 함수\n",
    "def list_to_vector_array(file_list, msg=\"calc...\", n_mels=64, frames=5, n_fft=1024, hop_length=512, power=2.0):\n",
    "    dims = n_mels * frames\n",
    "    for idx in tqdm(range(len(file_list)), desc=msg):\n",
    "        vector_array = file_to_vector_array(file_list[idx], n_mels=n_mels, frames=frames, n_fft=n_fft, hop_length=hop_length,power=power)\n",
    "        if idx == 0:\n",
    "            dataset = np.zeros((vector_array.shape[0] * len(file_list), dims), float)\n",
    "        dataset[vector_array.shape[0] * idx: vector_array.shape[0] * (idx + 1), :] = vector_array       \n",
    "    return dataset\n",
    "\n",
    "\n",
    "\n",
    "def dataset_generator(target_dir, machine_type, id_, normal_dir_name=\"normal\", abnormal_dir_name=\"abnormal\", ext=\"wav\"):\n",
    "    logger.info(\"target_dir : {}\".format(target_dir))\n",
    "    \n",
    "    machine_id = f\"-6dB_{machine_type}\"\n",
    "    machine = f\"{machine_type}\"\n",
    "    id_ = f\"{id_}\"\n",
    "    machine_type_id_path = os.path.join(target_dir, machine_id, machine, id_)\n",
    "    \n",
    "    normal_files = sorted(glob.glob(os.path.abspath(\"{dir}/{normal_dir_name}/*.{ext}\".format(dir=machine_type_id_path, normal_dir_name=normal_dir_name, ext=ext))))\n",
    "    normal_labels = np.zeros(len(normal_files))\n",
    "    if len(normal_files) == 0:\n",
    "        logger.exception(\"no_wav_data!!\")\n",
    "        \n",
    "    abnormal_files = sorted(glob.glob(os.path.abspath(\"{dir}/{abnormal_dir_name}/*.{ext}\".format(dir=machine_type_id_path, abnormal_dir_name=abnormal_dir_name, ext=ext))))\n",
    "    abnormal_labels = np.ones(len(abnormal_files))\n",
    "    if len(abnormal_files) == 0:\n",
    "        logger.exception(\"no_wav_data!!\")\n",
    "        \n",
    "    train_files = normal_files[len(abnormal_files):]\n",
    "    train_labels = normal_labels[len(abnormal_files):]\n",
    "    eval_files = np.concatenate((normal_files[:len(abnormal_files)], abnormal_files), axis=0)\n",
    "    eval_labels = np.concatenate((normal_labels[:len(abnormal_files)], abnormal_labels), axis=0)\n",
    "    \n",
    "    logger.info(\"train_file num : {num}\".format(num=len(train_files)))\n",
    "    logger.info(\"eval_file  num : {num}\".format(num=len(eval_files)))\n",
    "    \n",
    "    return train_files, train_labels, eval_files, eval_labels\n",
    "########################################################################\n",
    "\n",
    "\n",
    "\n",
    "\n",
    "\n",
    "########################################################################\n",
    "# keras model\n",
    "########################################################################\n",
    "#오토인코더 함수\n",
    "def keras_model(inputDim):\n",
    "    inputLayer = Input(shape=(inputDim,))\n",
    "    h = Dense(64, activation=\"relu\")(inputLayer)    \n",
    "    h = Dense(64, activation=\"relu\")(h)\n",
    "    h = Dense(8, activation=\"relu\")(h)\n",
    "    h = Dense(64, activation=\"relu\")(h)\n",
    "    h = Dense(64, activation=\"relu\")(h)\n",
    "    h = Dense(inputDim, activation=None)(h)\n",
    "    return Model(inputs=inputLayer, outputs=h)\n",
    "########################################################################\n",
    "\n",
    "\n",
    "\n",
    "\n",
    "########################################################################\n",
    "# main\n",
    "########################################################################\n",
    "# 메인 실행 부분\n",
    "if __name__ == \"__main__\":\n",
    "    with open(\"make_pretrain_v4.yaml\", encoding='utf-8') as stream:\n",
    "        pretrain_v4_param = yaml.safe_load(stream)\n",
    "    with open(\"transfer_pretrain_v4.yaml\", encoding='utf-8') as stream:\n",
    "        transfer_v4_param = yaml.safe_load(stream)\n",
    "\n",
    "    # pickle데이터, model데이터, result데이터가 저장될 파일과 폴더들 관련 변수 선언\n",
    "    os.makedirs(transfer_v4_param[\"pickle_directory\"], exist_ok=True)\n",
    "    os.makedirs(transfer_v4_param[\"model_directory\"], exist_ok=True)\n",
    "    os.makedirs(transfer_v4_param[\"result_directory\"], exist_ok=True)\n",
    "    model_directory = transfer_v4_param[\"model_directory\"]\n",
    "    base_directory = transfer_v4_param[\"base_directory\"]\n",
    "    result_file = \"{result}/{file_name}\".format(result=transfer_v4_param[\"result_directory\"], file_name=transfer_v4_param[\"result_file\"])\n",
    "    results = {}\n",
    "\n",
    "    machine_types = [\"fan\", \"valve\", \"slider\", \"pump\"]    \n",
    "    id_list =  [\"id_00\", \"id_02\", \"id_04\", \"id_06\"]   \n",
    "\n",
    "    for machine_type in machine_types:\n",
    "        for id_ in id_list:\n",
    "            print(\"\\n===========================\")\n",
    "            train_pickle = \"{pickle}/train_{machine_type}_{id_}.pickle\".format(pickle=transfer_v4_param[\"pickle_directory\"], machine_type= machine_type, id_ = id_)\n",
    "            eval_files_pickle = \"{pickle}/eval_files_{machine_type}_{id_}.pickle\".format(pickle=transfer_v4_param[\"pickle_directory\"], machine_type= machine_type, id_ = id_)\n",
    "            eval_labels_pickle = \"{pickle}/eval_labels_{machine_type}_{id_}.pickle\".format(pickle=transfer_v4_param[\"pickle_directory\"], machine_type= machine_type, id_ = id_)\n",
    "\n",
    "            if os.path.exists(train_pickle) and os.path.exists(eval_files_pickle) and os.path.exists(eval_labels_pickle):\n",
    "                train_data = load_pickle(train_pickle)\n",
    "                eval_files = load_pickle(eval_files_pickle)\n",
    "                eval_labels = load_pickle(eval_labels_pickle)\n",
    "            else:\n",
    "                train_files, train_labels, eval_files, eval_labels = dataset_generator(base_directory, machine_type, id_)\n",
    "                train_data = list_to_vector_array(train_files,\n",
    "                                                  msg=\"generate train_dataset\",\n",
    "                                                  n_mels=transfer_v4_param[\"feature\"][\"n_mels\"],\n",
    "                                                  frames=transfer_v4_param[\"feature\"][\"frames\"],\n",
    "                                                  n_fft=transfer_v4_param[\"feature\"][\"n_fft\"],\n",
    "                                                  hop_length=transfer_v4_param[\"feature\"][\"hop_length\"],\n",
    "                                                  power=transfer_v4_param[\"feature\"][\"power\"])\n",
    "                save_pickle(train_pickle, train_data)\n",
    "                save_pickle(eval_files_pickle, eval_files)\n",
    "                save_pickle(eval_labels_pickle, eval_labels)\n",
    "\n",
    "\n",
    "            pretrain_combinations = [(mt1, mt2, mt3) for mt1 in machine_types if mt1 != machine_type\n",
    "                                               for mt2 in machine_types if mt2 != machine_type and mt2 != mt1\n",
    "                                               for mt3 in machine_types if mt3 != machine_type and mt3 != mt1 and mt3 != mt2]\n",
    "\n",
    "            for pretrain_machine_types in pretrain_combinations:\n",
    "                pretrain_model_name = \"pretrain_('{}', '{}', '{}')\".format(pretrain_machine_types[0], pretrain_machine_types[1], pretrain_machine_types[2])\n",
    "                pretrain_model_path = os.path.join(pretrain_v4_param[\"model_directory\"], \"{}.h5\".format(pretrain_model_name))\n",
    "\n",
    "                if not os.path.exists(pretrain_model_path):\n",
    "                    print(\"Model file not found for {} -> {}. Skipping...\".format(machine_type, id_, pretrain_model_name))\n",
    "                    continue\n",
    "\n",
    "                model = keras.models.load_model(pretrain_model_path)\n",
    "                model.compile(**transfer_v4_param[\"fit\"][\"compile\"])\n",
    "                print(\"\\nTraining transfer model for {} -> {} using pretrain model {}\".format(machine_type, id_, pretrain_model_name))\n",
    "                model.fit(train_data, train_data,\n",
    "                          epochs=transfer_v4_param[\"fit\"][\"epochs\"],\n",
    "                          batch_size=transfer_v4_param[\"fit\"][\"batch_size\"],\n",
    "                          shuffle=transfer_v4_param[\"fit\"][\"shuffle\"],\n",
    "                          validation_split=transfer_v4_param[\"fit\"][\"validation_split\"],\n",
    "                          verbose=transfer_v4_param[\"fit\"][\"verbose\"])\n",
    "                model.save(os.path.join(model_directory, \"transfer_{}_{}_to_('{}', '{}', '{}').h5\".format(machine_type,id_, pretrain_machine_types[0], pretrain_machine_types[1], pretrain_machine_types[2])))\n",
    "\n",
    "                print(\"============== EVALUATION ==============\")\n",
    "                y_pred = [0. for k in eval_labels]\n",
    "                y_true = eval_labels\n",
    "\n",
    "                evaluation_result_key = \"{}_{}_to_('{}', '{}', '{}')\".format(machine_type, id_, pretrain_machine_types[0], pretrain_machine_types[1], pretrain_machine_types[2])\n",
    "                evaluation_result = {}\n",
    "                for num, file_name in tqdm(enumerate(eval_files), total=len(eval_files)):\n",
    "                    try:\n",
    "                        data = file_to_vector_array(file_name,\n",
    "                                                    n_mels=transfer_v4_param[\"feature\"][\"n_mels\"],\n",
    "                                                    frames=transfer_v4_param[\"feature\"][\"frames\"],\n",
    "                                                    n_fft=transfer_v4_param[\"feature\"][\"n_fft\"],\n",
    "                                                    hop_length=transfer_v4_param[\"feature\"][\"hop_length\"],\n",
    "                                                    power=transfer_v4_param[\"feature\"][\"power\"])\n",
    "                        error = np.mean(np.square(data - model.predict(data)), axis=1)\n",
    "                        y_pred[num] = np.mean(error)\n",
    "                    except:\n",
    "                        logger.warning(\"File broken!!: {}\".format(file_name))\n",
    "\n",
    "                # auc값을 저장함\n",
    "                score = metrics.roc_auc_score(y_true, y_pred)\n",
    "                logger.info(\"AUC : {}\".format(score))\n",
    "                evaluation_result[\"AUC\"] = float(score)\n",
    "\n",
    "                results[evaluation_result_key] = evaluation_result\n",
    "                print(\"===========================\")\n",
    "\n",
    "        logger.info(\"all results -> {}\".format(result_file))\n",
    "        with open(result_file, \"w\") as f:\n",
    "            f.write(yaml.dump(results, default_flow_style=False))       \n",
    "        print(\"===========================\")\n",
    "########################################################################"
   ]
  },
  {
   "cell_type": "code",
   "execution_count": null,
   "id": "c5e9cd99-1272-41bc-a079-0f58113b5894",
   "metadata": {},
   "outputs": [],
   "source": []
  }
 ],
 "metadata": {
  "kernelspec": {
   "display_name": "Python 3 (ipykernel)",
   "language": "python",
   "name": "python3"
  },
  "language_info": {
   "codemirror_mode": {
    "name": "ipython",
    "version": 3
   },
   "file_extension": ".py",
   "mimetype": "text/x-python",
   "name": "python",
   "nbconvert_exporter": "python",
   "pygments_lexer": "ipython3",
   "version": "3.9.0"
  }
 },
 "nbformat": 4,
 "nbformat_minor": 5
}
