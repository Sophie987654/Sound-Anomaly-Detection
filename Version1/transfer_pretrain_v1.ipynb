{
 "cells": [
  {
   "cell_type": "code",
   "execution_count": 1,
   "id": "c78b6ce3-4bde-4be7-9c2f-b7b2868e7139",
   "metadata": {
    "tags": []
   },
   "outputs": [
    {
     "name": "stderr",
     "output_type": "stream",
     "text": [
      "2023-08-26 00:52:12,471 - INFO - load_pickle <- ./pickle_transfer_pretrain_v1/train_fan_id_00.pickle\n",
      "2023-08-26 00:52:12,476 - INFO - load_pickle <- ./pickle_transfer_pretrain_v1/eval_files_fan_id_00.pickle\n",
      "2023-08-26 00:52:12,478 - INFO - load_pickle <- ./pickle_transfer_pretrain_v1/eval_labels_fan_id_00.pickle\n"
     ]
    },
    {
     "name": "stdout",
     "output_type": "stream",
     "text": [
      "\n",
      "===========================\n",
      "\n",
      "===========================\n",
      "Epoch 1/50\n",
      "3/3 [==============================] - 1s 79ms/step - loss: 18.4427 - val_loss: 20.4380\n",
      "Epoch 2/50\n",
      "3/3 [==============================] - 0s 16ms/step - loss: 19.2261 - val_loss: 15.2773\n",
      "Epoch 3/50\n",
      "3/3 [==============================] - 0s 15ms/step - loss: 13.3368 - val_loss: 19.4884\n",
      "Epoch 4/50\n",
      "3/3 [==============================] - 0s 15ms/step - loss: 13.3101 - val_loss: 15.0804\n",
      "Epoch 5/50\n",
      "3/3 [==============================] - 0s 15ms/step - loss: 12.6130 - val_loss: 15.4047\n",
      "Epoch 6/50\n",
      "3/3 [==============================] - 0s 15ms/step - loss: 11.5754 - val_loss: 15.3793\n",
      "Epoch 7/50\n",
      "3/3 [==============================] - 0s 15ms/step - loss: 11.7994 - val_loss: 15.3842\n",
      "Epoch 8/50\n",
      "3/3 [==============================] - 0s 15ms/step - loss: 10.9700 - val_loss: 14.3107\n",
      "Epoch 9/50\n",
      "3/3 [==============================] - 0s 14ms/step - loss: 11.1948 - val_loss: 14.2150\n",
      "Epoch 10/50\n",
      "3/3 [==============================] - 0s 15ms/step - loss: 10.6919 - val_loss: 14.6986\n",
      "Epoch 11/50\n",
      "3/3 [==============================] - 0s 14ms/step - loss: 10.7903 - val_loss: 14.3939\n",
      "Epoch 12/50\n",
      "3/3 [==============================] - 0s 14ms/step - loss: 10.4459 - val_loss: 14.2285\n",
      "Epoch 13/50\n",
      "3/3 [==============================] - 0s 14ms/step - loss: 10.4848 - val_loss: 14.2374\n",
      "Epoch 14/50\n",
      "3/3 [==============================] - 0s 13ms/step - loss: 10.3087 - val_loss: 14.3772\n",
      "Epoch 15/50\n",
      "3/3 [==============================] - 0s 14ms/step - loss: 10.2345 - val_loss: 14.1145\n",
      "Epoch 16/50\n",
      "3/3 [==============================] - 0s 16ms/step - loss: 10.1944 - val_loss: 14.0673\n",
      "Epoch 17/50\n",
      "3/3 [==============================] - 0s 13ms/step - loss: 10.0914 - val_loss: 14.2102\n",
      "Epoch 18/50\n",
      "3/3 [==============================] - 0s 13ms/step - loss: 10.0518 - val_loss: 14.1829\n",
      "Epoch 19/50\n",
      "3/3 [==============================] - 0s 14ms/step - loss: 9.9993 - val_loss: 14.1517\n",
      "Epoch 20/50\n",
      "3/3 [==============================] - 0s 13ms/step - loss: 9.9384 - val_loss: 14.1263\n",
      "Epoch 21/50\n",
      "3/3 [==============================] - 0s 13ms/step - loss: 9.9085 - val_loss: 14.1866\n",
      "Epoch 22/50\n",
      "3/3 [==============================] - 0s 13ms/step - loss: 9.8722 - val_loss: 14.1664\n",
      "Epoch 23/50\n",
      "3/3 [==============================] - 0s 13ms/step - loss: 9.8322 - val_loss: 14.2111\n",
      "Epoch 24/50\n",
      "3/3 [==============================] - 0s 15ms/step - loss: 9.8037 - val_loss: 14.3435\n",
      "Epoch 25/50\n",
      "3/3 [==============================] - 0s 14ms/step - loss: 9.7739 - val_loss: 14.1580\n",
      "Epoch 26/50\n",
      "3/3 [==============================] - 0s 14ms/step - loss: 9.7510 - val_loss: 14.3604\n",
      "Epoch 27/50\n",
      "3/3 [==============================] - 0s 14ms/step - loss: 9.7243 - val_loss: 14.3353\n",
      "Epoch 28/50\n",
      "3/3 [==============================] - 0s 15ms/step - loss: 9.7002 - val_loss: 14.4369\n",
      "Epoch 29/50\n",
      "3/3 [==============================] - 0s 15ms/step - loss: 9.6835 - val_loss: 14.4088\n",
      "Epoch 30/50\n",
      "3/3 [==============================] - 0s 14ms/step - loss: 9.6683 - val_loss: 14.4639\n",
      "Epoch 31/50\n",
      "3/3 [==============================] - 0s 14ms/step - loss: 9.6499 - val_loss: 14.5864\n",
      "Epoch 32/50\n",
      "3/3 [==============================] - 0s 15ms/step - loss: 9.6343 - val_loss: 14.5359\n",
      "Epoch 33/50\n",
      "3/3 [==============================] - 0s 15ms/step - loss: 9.6239 - val_loss: 14.4943\n",
      "Epoch 34/50\n",
      "3/3 [==============================] - 0s 14ms/step - loss: 9.6059 - val_loss: 14.7073\n",
      "Epoch 35/50\n",
      "3/3 [==============================] - 0s 13ms/step - loss: 9.5988 - val_loss: 14.8316\n",
      "Epoch 36/50\n",
      "3/3 [==============================] - 0s 13ms/step - loss: 9.5873 - val_loss: 14.5442\n",
      "Epoch 37/50\n",
      "3/3 [==============================] - 0s 14ms/step - loss: 9.5752 - val_loss: 14.6826\n",
      "Epoch 38/50\n",
      "3/3 [==============================] - 0s 14ms/step - loss: 9.5660 - val_loss: 14.8153\n",
      "Epoch 39/50\n",
      "3/3 [==============================] - 0s 14ms/step - loss: 9.5556 - val_loss: 14.8848\n",
      "Epoch 40/50\n",
      "3/3 [==============================] - 0s 14ms/step - loss: 9.5508 - val_loss: 14.7754\n",
      "Epoch 41/50\n",
      "3/3 [==============================] - 0s 14ms/step - loss: 9.5404 - val_loss: 14.8804\n",
      "Epoch 42/50\n",
      "3/3 [==============================] - 0s 14ms/step - loss: 9.5327 - val_loss: 14.9131\n",
      "Epoch 43/50\n",
      "3/3 [==============================] - 0s 14ms/step - loss: 9.5295 - val_loss: 14.9771\n",
      "Epoch 44/50\n",
      "3/3 [==============================] - 0s 21ms/step - loss: 9.5178 - val_loss: 14.9660\n",
      "Epoch 45/50\n",
      "3/3 [==============================] - 0s 15ms/step - loss: 9.5123 - val_loss: 14.9254\n",
      "Epoch 46/50\n",
      "3/3 [==============================] - 0s 15ms/step - loss: 9.5060 - val_loss: 14.8489\n",
      "Epoch 47/50\n",
      "3/3 [==============================] - 0s 14ms/step - loss: 9.5002 - val_loss: 14.9410\n",
      "Epoch 48/50\n",
      "3/3 [==============================] - 0s 14ms/step - loss: 9.4920 - val_loss: 15.0975\n",
      "Epoch 49/50\n",
      "3/3 [==============================] - 0s 14ms/step - loss: 9.4875 - val_loss: 15.1752\n",
      "Epoch 50/50\n",
      "3/3 [==============================] - 0s 15ms/step - loss: 9.4827 - val_loss: 14.9520\n",
      "============== EVALUATION ==============\n"
     ]
    },
    {
     "name": "stderr",
     "output_type": "stream",
     "text": [
      "C:\\Users\\Baejs\\anaconda3\\envs\\bae\\lib\\site-packages\\keras\\src\\engine\\training.py:3000: UserWarning: You are saving your model as an HDF5 file via `model.save()`. This file format is considered legacy. We recommend using instead the native Keras format, e.g. `model.save('my_model.keras')`.\n",
      "  saving_api.save_model(\n",
      "  0%|                                                                                           | 0/10 [00:00<?, ?it/s]C:\\Users\\Public\\Documents\\ESTsoft\\CreatorTemp\\ipykernel_14072\\3911258050.py:57: UserWarning: PySoundFile failed. Trying audioread instead.\n",
      "  return librosa.load(wav_name, sr=None, mono=mono)\n",
      "C:\\Users\\Baejs\\anaconda3\\envs\\bae\\lib\\site-packages\\librosa\\core\\audio.py:183: FutureWarning: librosa.core.audio.__audioread_load\n",
      "\tDeprecated as of librosa version 0.10.0.\n",
      "\tIt will be removed in librosa version 1.0.\n",
      "  y, sr_native = __audioread_load(path, offset, duration, dtype)\n",
      "2023-08-26 00:52:17,737 - ERROR - file_broken or not exists!! : C:\\Users\\Baejs\\Desktop\\9조최종-20230825T143738Z-001\\9조최종\\Sample_data\\-6dB_fan\\fan\\id_00\\normal\\00000000.wav\n",
      "2023-08-26 00:52:17,738 - WARNING - File broken!!: C:\\Users\\Baejs\\Desktop\\9조최종-20230825T143738Z-001\\9조최종\\Sample_data\\-6dB_fan\\fan\\id_00\\normal\\00000000.wav\n",
      " 10%|████████▎                                                                          | 1/10 [00:02<00:19,  2.17s/it]2023-08-26 00:52:17,740 - ERROR - file_broken or not exists!! : C:\\Users\\Baejs\\Desktop\\9조최종-20230825T143738Z-001\\9조최종\\Sample_data\\-6dB_fan\\fan\\id_00\\normal\\00000001.wav\n",
      "2023-08-26 00:52:17,742 - WARNING - File broken!!: C:\\Users\\Baejs\\Desktop\\9조최종-20230825T143738Z-001\\9조최종\\Sample_data\\-6dB_fan\\fan\\id_00\\normal\\00000001.wav\n",
      "2023-08-26 00:52:17,743 - ERROR - file_broken or not exists!! : C:\\Users\\Baejs\\Desktop\\9조최종-20230825T143738Z-001\\9조최종\\Sample_data\\-6dB_fan\\fan\\id_00\\normal\\00000002.wav\n",
      "2023-08-26 00:52:17,745 - WARNING - File broken!!: C:\\Users\\Baejs\\Desktop\\9조최종-20230825T143738Z-001\\9조최종\\Sample_data\\-6dB_fan\\fan\\id_00\\normal\\00000002.wav\n",
      "2023-08-26 00:52:17,747 - ERROR - file_broken or not exists!! : C:\\Users\\Baejs\\Desktop\\9조최종-20230825T143738Z-001\\9조최종\\Sample_data\\-6dB_fan\\fan\\id_00\\normal\\00000003.wav\n",
      "2023-08-26 00:52:17,749 - WARNING - File broken!!: C:\\Users\\Baejs\\Desktop\\9조최종-20230825T143738Z-001\\9조최종\\Sample_data\\-6dB_fan\\fan\\id_00\\normal\\00000003.wav\n",
      "2023-08-26 00:52:17,751 - ERROR - file_broken or not exists!! : C:\\Users\\Baejs\\Desktop\\9조최종-20230825T143738Z-001\\9조최종\\Sample_data\\-6dB_fan\\fan\\id_00\\normal\\00000004.wav\n",
      "2023-08-26 00:52:17,753 - WARNING - File broken!!: C:\\Users\\Baejs\\Desktop\\9조최종-20230825T143738Z-001\\9조최종\\Sample_data\\-6dB_fan\\fan\\id_00\\normal\\00000004.wav\n",
      "2023-08-26 00:52:17,754 - ERROR - file_broken or not exists!! : C:\\Users\\Baejs\\Desktop\\9조최종-20230825T143738Z-001\\9조최종\\Sample_data\\-6dB_fan\\fan\\id_00\\abnormal\\00000000.wav\n",
      "2023-08-26 00:52:17,755 - WARNING - File broken!!: C:\\Users\\Baejs\\Desktop\\9조최종-20230825T143738Z-001\\9조최종\\Sample_data\\-6dB_fan\\fan\\id_00\\abnormal\\00000000.wav\n",
      "2023-08-26 00:52:17,757 - ERROR - file_broken or not exists!! : C:\\Users\\Baejs\\Desktop\\9조최종-20230825T143738Z-001\\9조최종\\Sample_data\\-6dB_fan\\fan\\id_00\\abnormal\\00000001.wav\n",
      "2023-08-26 00:52:17,760 - WARNING - File broken!!: C:\\Users\\Baejs\\Desktop\\9조최종-20230825T143738Z-001\\9조최종\\Sample_data\\-6dB_fan\\fan\\id_00\\abnormal\\00000001.wav\n",
      "2023-08-26 00:52:17,762 - ERROR - file_broken or not exists!! : C:\\Users\\Baejs\\Desktop\\9조최종-20230825T143738Z-001\\9조최종\\Sample_data\\-6dB_fan\\fan\\id_00\\abnormal\\00000002.wav\n",
      "2023-08-26 00:52:17,763 - WARNING - File broken!!: C:\\Users\\Baejs\\Desktop\\9조최종-20230825T143738Z-001\\9조최종\\Sample_data\\-6dB_fan\\fan\\id_00\\abnormal\\00000002.wav\n",
      "2023-08-26 00:52:17,765 - ERROR - file_broken or not exists!! : C:\\Users\\Baejs\\Desktop\\9조최종-20230825T143738Z-001\\9조최종\\Sample_data\\-6dB_fan\\fan\\id_00\\abnormal\\00000003.wav\n",
      "2023-08-26 00:52:17,766 - WARNING - File broken!!: C:\\Users\\Baejs\\Desktop\\9조최종-20230825T143738Z-001\\9조최종\\Sample_data\\-6dB_fan\\fan\\id_00\\abnormal\\00000003.wav\n",
      "2023-08-26 00:52:17,767 - ERROR - file_broken or not exists!! : C:\\Users\\Baejs\\Desktop\\9조최종-20230825T143738Z-001\\9조최종\\Sample_data\\-6dB_fan\\fan\\id_00\\abnormal\\00000004.wav\n",
      "2023-08-26 00:52:17,769 - WARNING - File broken!!: C:\\Users\\Baejs\\Desktop\\9조최종-20230825T143738Z-001\\9조최종\\Sample_data\\-6dB_fan\\fan\\id_00\\abnormal\\00000004.wav\n",
      "100%|██████████████████████████████████████████████████████████████████████████████████| 10/10 [00:02<00:00,  4.55it/s]\n",
      "2023-08-26 00:52:17,773 - INFO - AUC : 0.5\n"
     ]
    },
    {
     "name": "stdout",
     "output_type": "stream",
     "text": [
      "===========================\n",
      "\n",
      "===========================\n",
      "Epoch 1/50\n",
      "3/3 [==============================] - 1s 59ms/step - loss: 17.8547 - val_loss: 23.2582\n",
      "Epoch 2/50\n",
      "3/3 [==============================] - 0s 16ms/step - loss: 17.7987 - val_loss: 13.8890\n",
      "Epoch 3/50\n",
      "3/3 [==============================] - 0s 16ms/step - loss: 15.0689 - val_loss: 13.9372\n",
      "Epoch 4/50\n",
      "3/3 [==============================] - 0s 14ms/step - loss: 12.0887 - val_loss: 17.8218\n",
      "Epoch 5/50\n",
      "3/3 [==============================] - 0s 14ms/step - loss: 12.9407 - val_loss: 15.3881\n",
      "Epoch 6/50\n",
      "3/3 [==============================] - 0s 15ms/step - loss: 11.5015 - val_loss: 13.2786\n",
      "Epoch 7/50\n",
      "3/3 [==============================] - 0s 15ms/step - loss: 11.8091 - val_loss: 13.1277\n",
      "Epoch 8/50\n",
      "3/3 [==============================] - 0s 16ms/step - loss: 11.0554 - val_loss: 14.8581\n",
      "Epoch 9/50\n",
      "3/3 [==============================] - 0s 14ms/step - loss: 11.3157 - val_loss: 14.2107\n",
      "Epoch 10/50\n",
      "3/3 [==============================] - 0s 14ms/step - loss: 10.7609 - val_loss: 13.4384\n",
      "Epoch 11/50\n",
      "3/3 [==============================] - 0s 14ms/step - loss: 10.8649 - val_loss: 13.5497\n",
      "Epoch 12/50\n",
      "3/3 [==============================] - 0s 14ms/step - loss: 10.5905 - val_loss: 14.1980\n",
      "Epoch 13/50\n",
      "3/3 [==============================] - 0s 14ms/step - loss: 10.5825 - val_loss: 13.4337\n",
      "Epoch 14/50\n",
      "3/3 [==============================] - 0s 14ms/step - loss: 10.3925 - val_loss: 12.8795\n",
      "Epoch 15/50\n",
      "3/3 [==============================] - 0s 21ms/step - loss: 10.3548 - val_loss: 13.0684\n",
      "Epoch 16/50\n",
      "3/3 [==============================] - 0s 16ms/step - loss: 10.2511 - val_loss: 13.4161\n",
      "Epoch 17/50\n",
      "3/3 [==============================] - 0s 14ms/step - loss: 10.1719 - val_loss: 13.0347\n",
      "Epoch 18/50\n",
      "3/3 [==============================] - 0s 14ms/step - loss: 10.1047 - val_loss: 12.9459\n",
      "Epoch 19/50\n",
      "3/3 [==============================] - 0s 13ms/step - loss: 10.0223 - val_loss: 13.0726\n",
      "Epoch 20/50\n",
      "3/3 [==============================] - 0s 14ms/step - loss: 9.9667 - val_loss: 12.7410\n",
      "Epoch 21/50\n",
      "3/3 [==============================] - 0s 13ms/step - loss: 9.8971 - val_loss: 12.6560\n",
      "Epoch 22/50\n",
      "3/3 [==============================] - 0s 13ms/step - loss: 9.8337 - val_loss: 12.6473\n",
      "Epoch 23/50\n",
      "3/3 [==============================] - 0s 13ms/step - loss: 9.7827 - val_loss: 12.4734\n",
      "Epoch 24/50\n",
      "3/3 [==============================] - 0s 14ms/step - loss: 9.7304 - val_loss: 12.5107\n",
      "Epoch 25/50\n",
      "3/3 [==============================] - 0s 15ms/step - loss: 9.6803 - val_loss: 12.4481\n",
      "Epoch 26/50\n",
      "3/3 [==============================] - 0s 14ms/step - loss: 9.6346 - val_loss: 12.3633\n",
      "Epoch 27/50\n",
      "3/3 [==============================] - 0s 14ms/step - loss: 9.5935 - val_loss: 12.3840\n",
      "Epoch 28/50\n",
      "3/3 [==============================] - 0s 14ms/step - loss: 9.5565 - val_loss: 12.2973\n",
      "Epoch 29/50\n",
      "3/3 [==============================] - 0s 14ms/step - loss: 9.5176 - val_loss: 12.3373\n",
      "Epoch 30/50\n",
      "3/3 [==============================] - 0s 14ms/step - loss: 9.4837 - val_loss: 12.4156\n",
      "Epoch 31/50\n",
      "3/3 [==============================] - 0s 15ms/step - loss: 9.4457 - val_loss: 12.2405\n",
      "Epoch 32/50\n",
      "3/3 [==============================] - 0s 16ms/step - loss: 9.4145 - val_loss: 12.0910\n",
      "Epoch 33/50\n",
      "3/3 [==============================] - 0s 15ms/step - loss: 9.3815 - val_loss: 12.1843\n",
      "Epoch 34/50\n",
      "3/3 [==============================] - 0s 15ms/step - loss: 9.3517 - val_loss: 12.1907\n",
      "Epoch 35/50\n",
      "3/3 [==============================] - 0s 15ms/step - loss: 9.3203 - val_loss: 12.0368\n",
      "Epoch 36/50\n",
      "3/3 [==============================] - 0s 14ms/step - loss: 9.2936 - val_loss: 12.0885\n",
      "Epoch 37/50\n",
      "3/3 [==============================] - 0s 16ms/step - loss: 9.2610 - val_loss: 12.0724\n",
      "Epoch 38/50\n",
      "3/3 [==============================] - 0s 15ms/step - loss: 9.2320 - val_loss: 11.9367\n",
      "Epoch 39/50\n",
      "3/3 [==============================] - 0s 15ms/step - loss: 9.2041 - val_loss: 11.8912\n",
      "Epoch 40/50\n",
      "3/3 [==============================] - 0s 13ms/step - loss: 9.1750 - val_loss: 11.8115\n",
      "Epoch 41/50\n",
      "3/3 [==============================] - 0s 14ms/step - loss: 9.1499 - val_loss: 11.8698\n",
      "Epoch 42/50\n",
      "3/3 [==============================] - 0s 15ms/step - loss: 9.1217 - val_loss: 11.8389\n",
      "Epoch 43/50\n",
      "3/3 [==============================] - 0s 15ms/step - loss: 9.0969 - val_loss: 11.7399\n",
      "Epoch 44/50\n",
      "3/3 [==============================] - 0s 16ms/step - loss: 9.0692 - val_loss: 11.6631\n",
      "Epoch 45/50\n",
      "3/3 [==============================] - 0s 16ms/step - loss: 9.0436 - val_loss: 11.6116\n",
      "Epoch 46/50\n",
      "3/3 [==============================] - 0s 15ms/step - loss: 9.0142 - val_loss: 11.5858\n",
      "Epoch 47/50\n",
      "3/3 [==============================] - 0s 15ms/step - loss: 8.9913 - val_loss: 11.5380\n",
      "Epoch 48/50\n",
      "3/3 [==============================] - 0s 14ms/step - loss: 8.9633 - val_loss: 11.3962\n",
      "Epoch 49/50\n",
      "3/3 [==============================] - 0s 14ms/step - loss: 8.9375 - val_loss: 11.3491\n",
      "Epoch 50/50\n",
      "3/3 [==============================] - 0s 14ms/step - loss: 8.9115 - val_loss: 11.3550\n",
      "============== EVALUATION =============="
     ]
    },
    {
     "name": "stderr",
     "output_type": "stream",
     "text": [
      "C:\\Users\\Baejs\\anaconda3\\envs\\bae\\lib\\site-packages\\keras\\src\\engine\\training.py:3000: UserWarning: You are saving your model as an HDF5 file via `model.save()`. This file format is considered legacy. We recommend using instead the native Keras format, e.g. `model.save('my_model.keras')`.\n",
      "  saving_api.save_model(\n"
     ]
    },
    {
     "name": "stdout",
     "output_type": "stream",
     "text": [
      "\n"
     ]
    },
    {
     "name": "stderr",
     "output_type": "stream",
     "text": [
      "  0%|                                                                                           | 0/10 [00:00<?, ?it/s]C:\\Users\\Public\\Documents\\ESTsoft\\CreatorTemp\\ipykernel_14072\\3911258050.py:57: UserWarning: PySoundFile failed. Trying audioread instead.\n",
      "  return librosa.load(wav_name, sr=None, mono=mono)\n",
      "C:\\Users\\Baejs\\anaconda3\\envs\\bae\\lib\\site-packages\\librosa\\core\\audio.py:183: FutureWarning: librosa.core.audio.__audioread_load\n",
      "\tDeprecated as of librosa version 0.10.0.\n",
      "\tIt will be removed in librosa version 1.0.\n",
      "  y, sr_native = __audioread_load(path, offset, duration, dtype)\n",
      "2023-08-26 00:52:20,535 - ERROR - file_broken or not exists!! : C:\\Users\\Baejs\\Desktop\\9조최종-20230825T143738Z-001\\9조최종\\Sample_data\\-6dB_fan\\fan\\id_00\\normal\\00000000.wav\n",
      "2023-08-26 00:52:20,536 - WARNING - File broken!!: C:\\Users\\Baejs\\Desktop\\9조최종-20230825T143738Z-001\\9조최종\\Sample_data\\-6dB_fan\\fan\\id_00\\normal\\00000000.wav\n",
      "2023-08-26 00:52:20,538 - ERROR - file_broken or not exists!! : C:\\Users\\Baejs\\Desktop\\9조최종-20230825T143738Z-001\\9조최종\\Sample_data\\-6dB_fan\\fan\\id_00\\normal\\00000001.wav\n",
      "2023-08-26 00:52:20,539 - WARNING - File broken!!: C:\\Users\\Baejs\\Desktop\\9조최종-20230825T143738Z-001\\9조최종\\Sample_data\\-6dB_fan\\fan\\id_00\\normal\\00000001.wav\n",
      "2023-08-26 00:52:20,540 - ERROR - file_broken or not exists!! : C:\\Users\\Baejs\\Desktop\\9조최종-20230825T143738Z-001\\9조최종\\Sample_data\\-6dB_fan\\fan\\id_00\\normal\\00000002.wav\n",
      "2023-08-26 00:52:20,541 - WARNING - File broken!!: C:\\Users\\Baejs\\Desktop\\9조최종-20230825T143738Z-001\\9조최종\\Sample_data\\-6dB_fan\\fan\\id_00\\normal\\00000002.wav\n",
      "2023-08-26 00:52:20,543 - ERROR - file_broken or not exists!! : C:\\Users\\Baejs\\Desktop\\9조최종-20230825T143738Z-001\\9조최종\\Sample_data\\-6dB_fan\\fan\\id_00\\normal\\00000003.wav\n",
      "2023-08-26 00:52:20,545 - WARNING - File broken!!: C:\\Users\\Baejs\\Desktop\\9조최종-20230825T143738Z-001\\9조최종\\Sample_data\\-6dB_fan\\fan\\id_00\\normal\\00000003.wav\n",
      "2023-08-26 00:52:20,547 - ERROR - file_broken or not exists!! : C:\\Users\\Baejs\\Desktop\\9조최종-20230825T143738Z-001\\9조최종\\Sample_data\\-6dB_fan\\fan\\id_00\\normal\\00000004.wav\n",
      "2023-08-26 00:52:20,549 - WARNING - File broken!!: C:\\Users\\Baejs\\Desktop\\9조최종-20230825T143738Z-001\\9조최종\\Sample_data\\-6dB_fan\\fan\\id_00\\normal\\00000004.wav\n",
      "2023-08-26 00:52:20,552 - ERROR - file_broken or not exists!! : C:\\Users\\Baejs\\Desktop\\9조최종-20230825T143738Z-001\\9조최종\\Sample_data\\-6dB_fan\\fan\\id_00\\abnormal\\00000000.wav\n",
      "2023-08-26 00:52:20,553 - WARNING - File broken!!: C:\\Users\\Baejs\\Desktop\\9조최종-20230825T143738Z-001\\9조최종\\Sample_data\\-6dB_fan\\fan\\id_00\\abnormal\\00000000.wav\n",
      "2023-08-26 00:52:20,555 - ERROR - file_broken or not exists!! : C:\\Users\\Baejs\\Desktop\\9조최종-20230825T143738Z-001\\9조최종\\Sample_data\\-6dB_fan\\fan\\id_00\\abnormal\\00000001.wav\n",
      "2023-08-26 00:52:20,556 - WARNING - File broken!!: C:\\Users\\Baejs\\Desktop\\9조최종-20230825T143738Z-001\\9조최종\\Sample_data\\-6dB_fan\\fan\\id_00\\abnormal\\00000001.wav\n",
      "2023-08-26 00:52:20,558 - ERROR - file_broken or not exists!! : C:\\Users\\Baejs\\Desktop\\9조최종-20230825T143738Z-001\\9조최종\\Sample_data\\-6dB_fan\\fan\\id_00\\abnormal\\00000002.wav\n",
      "2023-08-26 00:52:20,558 - WARNING - File broken!!: C:\\Users\\Baejs\\Desktop\\9조최종-20230825T143738Z-001\\9조최종\\Sample_data\\-6dB_fan\\fan\\id_00\\abnormal\\00000002.wav\n",
      "2023-08-26 00:52:20,560 - ERROR - file_broken or not exists!! : C:\\Users\\Baejs\\Desktop\\9조최종-20230825T143738Z-001\\9조최종\\Sample_data\\-6dB_fan\\fan\\id_00\\abnormal\\00000003.wav\n",
      "2023-08-26 00:52:20,562 - WARNING - File broken!!: C:\\Users\\Baejs\\Desktop\\9조최종-20230825T143738Z-001\\9조최종\\Sample_data\\-6dB_fan\\fan\\id_00\\abnormal\\00000003.wav\n",
      "2023-08-26 00:52:20,564 - ERROR - file_broken or not exists!! : C:\\Users\\Baejs\\Desktop\\9조최종-20230825T143738Z-001\\9조최종\\Sample_data\\-6dB_fan\\fan\\id_00\\abnormal\\00000004.wav\n",
      "2023-08-26 00:52:20,565 - WARNING - File broken!!: C:\\Users\\Baejs\\Desktop\\9조최종-20230825T143738Z-001\\9조최종\\Sample_data\\-6dB_fan\\fan\\id_00\\abnormal\\00000004.wav\n",
      "100%|█████████████████████████████████████████████████████████████████████████████████| 10/10 [00:00<00:00, 313.34it/s]\n",
      "2023-08-26 00:52:20,568 - INFO - AUC : 0.5\n"
     ]
    },
    {
     "name": "stdout",
     "output_type": "stream",
     "text": [
      "===========================\n",
      "\n",
      "===========================\n",
      "Epoch 1/50\n",
      "3/3 [==============================] - 1s 63ms/step - loss: 17.4648 - val_loss: 21.6017\n",
      "Epoch 2/50\n",
      "3/3 [==============================] - 0s 16ms/step - loss: 16.7184 - val_loss: 19.3117\n",
      "Epoch 3/50\n",
      "3/3 [==============================] - 0s 15ms/step - loss: 14.4313 - val_loss: 21.2306\n",
      "Epoch 4/50\n",
      "3/3 [==============================] - 0s 15ms/step - loss: 13.2622 - val_loss: 21.5185\n",
      "Epoch 5/50\n",
      "3/3 [==============================] - 0s 16ms/step - loss: 13.1876 - val_loss: 19.2341\n",
      "Epoch 6/50\n",
      "3/3 [==============================] - 0s 14ms/step - loss: 12.5550 - val_loss: 18.3421\n",
      "Epoch 7/50\n",
      "3/3 [==============================] - 0s 17ms/step - loss: 12.2768 - val_loss: 18.9054\n",
      "Epoch 8/50\n",
      "3/3 [==============================] - 0s 14ms/step - loss: 12.1529 - val_loss: 18.6253\n",
      "Epoch 9/50\n",
      "3/3 [==============================] - 0s 15ms/step - loss: 11.7659 - val_loss: 17.9965\n",
      "Epoch 10/50\n",
      "3/3 [==============================] - 0s 15ms/step - loss: 11.7106 - val_loss: 18.5449\n",
      "Epoch 11/50\n",
      "3/3 [==============================] - 0s 15ms/step - loss: 11.5044 - val_loss: 18.9311\n",
      "Epoch 12/50\n",
      "3/3 [==============================] - 0s 15ms/step - loss: 11.3462 - val_loss: 18.1790\n",
      "Epoch 13/50\n",
      "3/3 [==============================] - 0s 17ms/step - loss: 11.2420 - val_loss: 18.3071\n",
      "Epoch 14/50\n",
      "3/3 [==============================] - 0s 21ms/step - loss: 11.1065 - val_loss: 17.8685\n",
      "Epoch 15/50\n",
      "3/3 [==============================] - 0s 15ms/step - loss: 10.9804 - val_loss: 17.5470\n",
      "Epoch 16/50\n",
      "3/3 [==============================] - 0s 15ms/step - loss: 10.8844 - val_loss: 17.8976\n",
      "Epoch 17/50\n",
      "3/3 [==============================] - 0s 14ms/step - loss: 10.7948 - val_loss: 17.8088\n",
      "Epoch 18/50\n",
      "3/3 [==============================] - 0s 14ms/step - loss: 10.7201 - val_loss: 17.8960\n",
      "Epoch 19/50\n",
      "3/3 [==============================] - 0s 15ms/step - loss: 10.6395 - val_loss: 17.6095\n",
      "Epoch 20/50\n",
      "3/3 [==============================] - 0s 18ms/step - loss: 10.5747 - val_loss: 17.3437\n",
      "Epoch 21/50\n",
      "3/3 [==============================] - 0s 17ms/step - loss: 10.5278 - val_loss: 17.2086\n",
      "Epoch 22/50\n",
      "3/3 [==============================] - 0s 15ms/step - loss: 10.4834 - val_loss: 17.3551\n",
      "Epoch 23/50\n",
      "3/3 [==============================] - 0s 16ms/step - loss: 10.4433 - val_loss: 17.4389\n",
      "Epoch 24/50\n",
      "3/3 [==============================] - 0s 14ms/step - loss: 10.4172 - val_loss: 17.3007\n",
      "Epoch 25/50\n",
      "3/3 [==============================] - 0s 14ms/step - loss: 10.3949 - val_loss: 17.1901\n",
      "Epoch 26/50\n",
      "3/3 [==============================] - 0s 14ms/step - loss: 10.3749 - val_loss: 16.7908\n",
      "Epoch 27/50\n",
      "3/3 [==============================] - 0s 14ms/step - loss: 10.3561 - val_loss: 17.0363\n",
      "Epoch 28/50\n",
      "3/3 [==============================] - 0s 13ms/step - loss: 10.3420 - val_loss: 17.2044\n",
      "Epoch 29/50\n",
      "3/3 [==============================] - 0s 13ms/step - loss: 10.3314 - val_loss: 17.0330\n",
      "Epoch 30/50\n",
      "3/3 [==============================] - 0s 14ms/step - loss: 10.3177 - val_loss: 16.9916\n",
      "Epoch 31/50\n",
      "3/3 [==============================] - 0s 14ms/step - loss: 10.3133 - val_loss: 16.7783\n",
      "Epoch 32/50\n",
      "3/3 [==============================] - 0s 13ms/step - loss: 10.3016 - val_loss: 16.7083\n",
      "Epoch 33/50\n",
      "3/3 [==============================] - 0s 14ms/step - loss: 10.2895 - val_loss: 16.8806\n",
      "Epoch 34/50\n",
      "3/3 [==============================] - 0s 13ms/step - loss: 10.2817 - val_loss: 17.0444\n",
      "Epoch 35/50\n",
      "3/3 [==============================] - 0s 14ms/step - loss: 10.2721 - val_loss: 16.7055\n",
      "Epoch 36/50\n",
      "3/3 [==============================] - 0s 15ms/step - loss: 10.2696 - val_loss: 16.7484\n",
      "Epoch 37/50\n",
      "3/3 [==============================] - 0s 14ms/step - loss: 10.2597 - val_loss: 16.5940\n",
      "Epoch 38/50\n",
      "3/3 [==============================] - 0s 15ms/step - loss: 10.2527 - val_loss: 16.7759\n",
      "Epoch 39/50\n",
      "3/3 [==============================] - 0s 14ms/step - loss: 10.2437 - val_loss: 16.9521\n",
      "Epoch 40/50\n",
      "3/3 [==============================] - 0s 15ms/step - loss: 10.2362 - val_loss: 16.6313\n",
      "Epoch 41/50\n",
      "3/3 [==============================] - 0s 15ms/step - loss: 10.2240 - val_loss: 16.4743\n",
      "Epoch 42/50\n",
      "3/3 [==============================] - 0s 17ms/step - loss: 10.2190 - val_loss: 16.4996\n",
      "Epoch 43/50\n",
      "3/3 [==============================] - 0s 14ms/step - loss: 10.2123 - val_loss: 16.6202\n",
      "Epoch 44/50\n",
      "3/3 [==============================] - 0s 13ms/step - loss: 10.2029 - val_loss: 16.8014\n",
      "Epoch 45/50\n",
      "3/3 [==============================] - 0s 13ms/step - loss: 10.1989 - val_loss: 16.6189\n",
      "Epoch 46/50\n",
      "3/3 [==============================] - 0s 14ms/step - loss: 10.1960 - val_loss: 16.3973\n",
      "Epoch 47/50\n",
      "3/3 [==============================] - 0s 16ms/step - loss: 10.1907 - val_loss: 16.3006\n",
      "Epoch 48/50\n",
      "3/3 [==============================] - 0s 14ms/step - loss: 10.1860 - val_loss: 16.5476\n",
      "Epoch 49/50\n",
      "3/3 [==============================] - 0s 13ms/step - loss: 10.1857 - val_loss: 16.7025\n",
      "Epoch 50/50\n",
      "3/3 [==============================] - 0s 21ms/step - loss: 10.1746 - val_loss: 16.5600\n",
      "============== EVALUATION ==============\n"
     ]
    },
    {
     "name": "stderr",
     "output_type": "stream",
     "text": [
      "C:\\Users\\Baejs\\anaconda3\\envs\\bae\\lib\\site-packages\\keras\\src\\engine\\training.py:3000: UserWarning: You are saving your model as an HDF5 file via `model.save()`. This file format is considered legacy. We recommend using instead the native Keras format, e.g. `model.save('my_model.keras')`.\n",
      "  saving_api.save_model(\n",
      "  0%|                                                                                           | 0/10 [00:00<?, ?it/s]C:\\Users\\Public\\Documents\\ESTsoft\\CreatorTemp\\ipykernel_14072\\3911258050.py:57: UserWarning: PySoundFile failed. Trying audioread instead.\n",
      "  return librosa.load(wav_name, sr=None, mono=mono)\n",
      "C:\\Users\\Baejs\\anaconda3\\envs\\bae\\lib\\site-packages\\librosa\\core\\audio.py:183: FutureWarning: librosa.core.audio.__audioread_load\n",
      "\tDeprecated as of librosa version 0.10.0.\n",
      "\tIt will be removed in librosa version 1.0.\n",
      "  y, sr_native = __audioread_load(path, offset, duration, dtype)\n",
      "2023-08-26 00:52:23,444 - ERROR - file_broken or not exists!! : C:\\Users\\Baejs\\Desktop\\9조최종-20230825T143738Z-001\\9조최종\\Sample_data\\-6dB_fan\\fan\\id_00\\normal\\00000000.wav\n",
      "2023-08-26 00:52:23,445 - WARNING - File broken!!: C:\\Users\\Baejs\\Desktop\\9조최종-20230825T143738Z-001\\9조최종\\Sample_data\\-6dB_fan\\fan\\id_00\\normal\\00000000.wav\n",
      "2023-08-26 00:52:23,446 - ERROR - file_broken or not exists!! : C:\\Users\\Baejs\\Desktop\\9조최종-20230825T143738Z-001\\9조최종\\Sample_data\\-6dB_fan\\fan\\id_00\\normal\\00000001.wav\n",
      "2023-08-26 00:52:23,447 - WARNING - File broken!!: C:\\Users\\Baejs\\Desktop\\9조최종-20230825T143738Z-001\\9조최종\\Sample_data\\-6dB_fan\\fan\\id_00\\normal\\00000001.wav\n",
      "2023-08-26 00:52:23,449 - ERROR - file_broken or not exists!! : C:\\Users\\Baejs\\Desktop\\9조최종-20230825T143738Z-001\\9조최종\\Sample_data\\-6dB_fan\\fan\\id_00\\normal\\00000002.wav\n",
      "2023-08-26 00:52:23,450 - WARNING - File broken!!: C:\\Users\\Baejs\\Desktop\\9조최종-20230825T143738Z-001\\9조최종\\Sample_data\\-6dB_fan\\fan\\id_00\\normal\\00000002.wav\n",
      "2023-08-26 00:52:23,451 - ERROR - file_broken or not exists!! : C:\\Users\\Baejs\\Desktop\\9조최종-20230825T143738Z-001\\9조최종\\Sample_data\\-6dB_fan\\fan\\id_00\\normal\\00000003.wav\n",
      "2023-08-26 00:52:23,453 - WARNING - File broken!!: C:\\Users\\Baejs\\Desktop\\9조최종-20230825T143738Z-001\\9조최종\\Sample_data\\-6dB_fan\\fan\\id_00\\normal\\00000003.wav\n",
      "2023-08-26 00:52:23,455 - ERROR - file_broken or not exists!! : C:\\Users\\Baejs\\Desktop\\9조최종-20230825T143738Z-001\\9조최종\\Sample_data\\-6dB_fan\\fan\\id_00\\normal\\00000004.wav\n",
      "2023-08-26 00:52:23,457 - WARNING - File broken!!: C:\\Users\\Baejs\\Desktop\\9조최종-20230825T143738Z-001\\9조최종\\Sample_data\\-6dB_fan\\fan\\id_00\\normal\\00000004.wav\n",
      "2023-08-26 00:52:23,458 - ERROR - file_broken or not exists!! : C:\\Users\\Baejs\\Desktop\\9조최종-20230825T143738Z-001\\9조최종\\Sample_data\\-6dB_fan\\fan\\id_00\\abnormal\\00000000.wav\n",
      "2023-08-26 00:52:23,459 - WARNING - File broken!!: C:\\Users\\Baejs\\Desktop\\9조최종-20230825T143738Z-001\\9조최종\\Sample_data\\-6dB_fan\\fan\\id_00\\abnormal\\00000000.wav\n",
      "2023-08-26 00:52:23,461 - ERROR - file_broken or not exists!! : C:\\Users\\Baejs\\Desktop\\9조최종-20230825T143738Z-001\\9조최종\\Sample_data\\-6dB_fan\\fan\\id_00\\abnormal\\00000001.wav\n",
      "2023-08-26 00:52:23,462 - WARNING - File broken!!: C:\\Users\\Baejs\\Desktop\\9조최종-20230825T143738Z-001\\9조최종\\Sample_data\\-6dB_fan\\fan\\id_00\\abnormal\\00000001.wav\n",
      "2023-08-26 00:52:23,464 - ERROR - file_broken or not exists!! : C:\\Users\\Baejs\\Desktop\\9조최종-20230825T143738Z-001\\9조최종\\Sample_data\\-6dB_fan\\fan\\id_00\\abnormal\\00000002.wav\n",
      "2023-08-26 00:52:23,465 - WARNING - File broken!!: C:\\Users\\Baejs\\Desktop\\9조최종-20230825T143738Z-001\\9조최종\\Sample_data\\-6dB_fan\\fan\\id_00\\abnormal\\00000002.wav\n",
      "2023-08-26 00:52:23,466 - ERROR - file_broken or not exists!! : C:\\Users\\Baejs\\Desktop\\9조최종-20230825T143738Z-001\\9조최종\\Sample_data\\-6dB_fan\\fan\\id_00\\abnormal\\00000003.wav\n",
      "2023-08-26 00:52:23,467 - WARNING - File broken!!: C:\\Users\\Baejs\\Desktop\\9조최종-20230825T143738Z-001\\9조최종\\Sample_data\\-6dB_fan\\fan\\id_00\\abnormal\\00000003.wav\n",
      "2023-08-26 00:52:23,469 - ERROR - file_broken or not exists!! : C:\\Users\\Baejs\\Desktop\\9조최종-20230825T143738Z-001\\9조최종\\Sample_data\\-6dB_fan\\fan\\id_00\\abnormal\\00000004.wav\n",
      "2023-08-26 00:52:23,470 - WARNING - File broken!!: C:\\Users\\Baejs\\Desktop\\9조최종-20230825T143738Z-001\\9조최종\\Sample_data\\-6dB_fan\\fan\\id_00\\abnormal\\00000004.wav\n",
      "100%|█████████████████████████████████████████████████████████████████████████████████| 10/10 [00:00<00:00, 345.75it/s]\n",
      "2023-08-26 00:52:23,475 - INFO - AUC : 0.5\n",
      "2023-08-26 00:52:23,476 - INFO - target_dir : ../Sample_data\n",
      "2023-08-26 00:52:23,478 - INFO - train_file num : 5\n",
      "2023-08-26 00:52:23,479 - INFO - eval_file  num : 10\n"
     ]
    },
    {
     "name": "stdout",
     "output_type": "stream",
     "text": [
      "===========================\n",
      "\n",
      "===========================\n"
     ]
    },
    {
     "name": "stderr",
     "output_type": "stream",
     "text": [
      "generate train_dataset: 100%|████████████████████████████████████████████████████████████| 5/5 [00:00<00:00, 11.09it/s]\n",
      "2023-08-26 00:52:23,933 - INFO - save_pickle -> ./pickle_transfer_pretrain_v1/train_fan_id_02.pickle\n",
      "2023-08-26 00:52:23,938 - INFO - save_pickle -> ./pickle_transfer_pretrain_v1/eval_files_fan_id_02.pickle\n",
      "2023-08-26 00:52:23,940 - INFO - save_pickle -> ./pickle_transfer_pretrain_v1/eval_labels_fan_id_02.pickle\n"
     ]
    },
    {
     "name": "stdout",
     "output_type": "stream",
     "text": [
      "\n",
      "===========================\n",
      "Epoch 1/50\n",
      "3/3 [==============================] - 1s 60ms/step - loss: 14.7602 - val_loss: 16.0295\n",
      "Epoch 2/50\n",
      "3/3 [==============================] - 0s 15ms/step - loss: 15.2700 - val_loss: 9.4727\n",
      "Epoch 3/50\n",
      "3/3 [==============================] - 0s 15ms/step - loss: 11.2673 - val_loss: 10.4651\n",
      "Epoch 4/50\n",
      "3/3 [==============================] - 0s 15ms/step - loss: 10.5859 - val_loss: 10.1473\n",
      "Epoch 5/50\n",
      "3/3 [==============================] - 0s 15ms/step - loss: 10.7658 - val_loss: 9.7484\n",
      "Epoch 6/50\n",
      "3/3 [==============================] - 0s 15ms/step - loss: 9.4103 - val_loss: 8.9422\n",
      "Epoch 7/50\n",
      "3/3 [==============================] - 0s 15ms/step - loss: 9.9431 - val_loss: 8.5982\n",
      "Epoch 8/50\n",
      "3/3 [==============================] - 0s 14ms/step - loss: 9.1517 - val_loss: 9.6205\n",
      "Epoch 9/50\n",
      "3/3 [==============================] - 0s 14ms/step - loss: 9.4308 - val_loss: 8.6213\n",
      "Epoch 10/50\n",
      "3/3 [==============================] - 0s 14ms/step - loss: 9.0026 - val_loss: 8.3267\n",
      "Epoch 11/50\n",
      "3/3 [==============================] - 0s 14ms/step - loss: 9.1115 - val_loss: 8.4931\n",
      "Epoch 12/50\n",
      "3/3 [==============================] - 0s 14ms/step - loss: 8.9228 - val_loss: 8.7605\n",
      "Epoch 13/50\n",
      "3/3 [==============================] - 0s 14ms/step - loss: 8.8938 - val_loss: 8.2214\n",
      "Epoch 14/50\n",
      "3/3 [==============================] - 0s 14ms/step - loss: 8.8476 - val_loss: 8.1672\n",
      "Epoch 15/50\n",
      "3/3 [==============================] - 0s 14ms/step - loss: 8.7809 - val_loss: 8.3702\n",
      "Epoch 16/50\n",
      "3/3 [==============================] - 0s 16ms/step - loss: 8.7725 - val_loss: 8.1494\n",
      "Epoch 17/50\n",
      "3/3 [==============================] - 0s 16ms/step - loss: 8.7201 - val_loss: 8.0233\n",
      "Epoch 18/50\n",
      "3/3 [==============================] - 0s 14ms/step - loss: 8.6903 - val_loss: 8.0989\n",
      "Epoch 19/50\n",
      "3/3 [==============================] - 0s 14ms/step - loss: 8.6704 - val_loss: 8.0496\n",
      "Epoch 20/50\n",
      "3/3 [==============================] - 0s 14ms/step - loss: 8.6301 - val_loss: 7.9517\n",
      "Epoch 21/50\n",
      "3/3 [==============================] - 0s 14ms/step - loss: 8.6092 - val_loss: 7.9686\n",
      "Epoch 22/50\n",
      "3/3 [==============================] - 0s 15ms/step - loss: 8.5849 - val_loss: 7.9034\n",
      "Epoch 23/50\n",
      "3/3 [==============================] - 0s 20ms/step - loss: 8.5535 - val_loss: 7.8271\n",
      "Epoch 24/50\n",
      "3/3 [==============================] - 0s 14ms/step - loss: 8.5268 - val_loss: 7.8368\n",
      "Epoch 25/50\n",
      "3/3 [==============================] - 0s 14ms/step - loss: 8.4990 - val_loss: 7.7685\n",
      "Epoch 26/50\n",
      "3/3 [==============================] - 0s 15ms/step - loss: 8.4705 - val_loss: 7.7315\n",
      "Epoch 27/50\n",
      "3/3 [==============================] - 0s 13ms/step - loss: 8.4397 - val_loss: 7.7401\n",
      "Epoch 28/50\n",
      "3/3 [==============================] - 0s 13ms/step - loss: 8.4154 - val_loss: 7.7073\n",
      "Epoch 29/50\n",
      "3/3 [==============================] - 0s 14ms/step - loss: 8.3847 - val_loss: 7.6751\n",
      "Epoch 30/50\n",
      "3/3 [==============================] - 0s 13ms/step - loss: 8.3561 - val_loss: 7.6630\n",
      "Epoch 31/50\n",
      "3/3 [==============================] - 0s 14ms/step - loss: 8.3272 - val_loss: 7.6537\n",
      "Epoch 32/50\n",
      "3/3 [==============================] - 0s 14ms/step - loss: 8.2989 - val_loss: 7.6410\n",
      "Epoch 33/50\n",
      "3/3 [==============================] - 0s 13ms/step - loss: 8.2694 - val_loss: 7.5951\n",
      "Epoch 34/50\n",
      "3/3 [==============================] - 0s 14ms/step - loss: 8.2403 - val_loss: 7.6063\n",
      "Epoch 35/50\n",
      "3/3 [==============================] - 0s 14ms/step - loss: 8.2124 - val_loss: 7.6345\n",
      "Epoch 36/50\n",
      "3/3 [==============================] - 0s 13ms/step - loss: 8.1817 - val_loss: 7.6478\n",
      "Epoch 37/50\n",
      "3/3 [==============================] - 0s 13ms/step - loss: 8.1534 - val_loss: 7.6164\n",
      "Epoch 38/50\n",
      "3/3 [==============================] - 0s 14ms/step - loss: 8.1206 - val_loss: 7.6187\n",
      "Epoch 39/50\n",
      "3/3 [==============================] - 0s 14ms/step - loss: 8.0946 - val_loss: 7.6504\n",
      "Epoch 40/50\n",
      "3/3 [==============================] - 0s 14ms/step - loss: 8.0643 - val_loss: 7.6542\n",
      "Epoch 41/50\n",
      "3/3 [==============================] - 0s 14ms/step - loss: 8.0337 - val_loss: 7.6639\n",
      "Epoch 42/50\n",
      "3/3 [==============================] - 0s 14ms/step - loss: 8.0026 - val_loss: 7.6940\n",
      "Epoch 43/50\n",
      "3/3 [==============================] - 0s 14ms/step - loss: 7.9744 - val_loss: 7.7047\n",
      "Epoch 44/50\n",
      "3/3 [==============================] - 0s 13ms/step - loss: 7.9450 - val_loss: 7.7154\n",
      "Epoch 45/50\n",
      "3/3 [==============================] - 0s 13ms/step - loss: 7.9191 - val_loss: 7.7132\n",
      "Epoch 46/50\n",
      "3/3 [==============================] - 0s 14ms/step - loss: 7.8889 - val_loss: 7.7746\n",
      "Epoch 47/50\n",
      "3/3 [==============================] - 0s 15ms/step - loss: 7.8603 - val_loss: 7.8039\n",
      "Epoch 48/50\n",
      "3/3 [==============================] - 0s 14ms/step - loss: 7.8343 - val_loss: 7.8730\n",
      "Epoch 49/50\n",
      "3/3 [==============================] - 0s 14ms/step - loss: 7.8055 - val_loss: 7.8562\n",
      "Epoch 50/50\n",
      "3/3 [==============================] - 0s 14ms/step - loss: 7.7789 - val_loss: 7.8902\n",
      "============== EVALUATION ==============\n"
     ]
    },
    {
     "name": "stderr",
     "output_type": "stream",
     "text": [
      "C:\\Users\\Baejs\\anaconda3\\envs\\bae\\lib\\site-packages\\keras\\src\\engine\\training.py:3000: UserWarning: You are saving your model as an HDF5 file via `model.save()`. This file format is considered legacy. We recommend using instead the native Keras format, e.g. `model.save('my_model.keras')`.\n",
      "  saving_api.save_model(\n",
      "  0%|                                                                                           | 0/10 [00:00<?, ?it/s]"
     ]
    },
    {
     "name": "stdout",
     "output_type": "stream",
     "text": [
      "10/10 [==============================] - 0s 1ms/step\n"
     ]
    },
    {
     "name": "stderr",
     "output_type": "stream",
     "text": [
      " 10%|████████▎                                                                          | 1/10 [00:00<00:01,  6.60it/s]"
     ]
    },
    {
     "name": "stdout",
     "output_type": "stream",
     "text": [
      "10/10 [==============================] - 0s 1ms/step\n",
      "10/10 [==============================] - 0s 996us/step\n"
     ]
    },
    {
     "name": "stderr",
     "output_type": "stream",
     "text": [
      " 30%|████████████████████████▉                                                          | 3/10 [00:00<00:00, 10.85it/s]"
     ]
    },
    {
     "name": "stdout",
     "output_type": "stream",
     "text": [
      "10/10 [==============================] - 0s 997us/step\n",
      "10/10 [==============================] - 0s 1ms/step\n"
     ]
    },
    {
     "name": "stderr",
     "output_type": "stream",
     "text": [
      " 50%|█████████████████████████████████████████▌                                         | 5/10 [00:00<00:00, 12.21it/s]"
     ]
    },
    {
     "name": "stdout",
     "output_type": "stream",
     "text": [
      "10/10 [==============================] - 0s 1ms/step\n",
      "10/10 [==============================] - 0s 1ms/step\n"
     ]
    },
    {
     "name": "stderr",
     "output_type": "stream",
     "text": [
      " 70%|██████████████████████████████████████████████████████████                         | 7/10 [00:00<00:00, 12.33it/s]"
     ]
    },
    {
     "name": "stdout",
     "output_type": "stream",
     "text": [
      "10/10 [==============================] - 0s 997us/step\n",
      "10/10 [==============================] - 0s 1ms/step\n"
     ]
    },
    {
     "name": "stderr",
     "output_type": "stream",
     "text": [
      " 90%|██████████████████████████████████████████████████████████████████████████▋        | 9/10 [00:00<00:00, 12.57it/s]"
     ]
    },
    {
     "name": "stdout",
     "output_type": "stream",
     "text": [
      "10/10 [==============================] - 0s 3ms/step\n"
     ]
    },
    {
     "name": "stderr",
     "output_type": "stream",
     "text": [
      "100%|██████████████████████████████████████████████████████████████████████████████████| 10/10 [00:00<00:00, 11.78it/s]\n",
      "2023-08-26 00:52:27,478 - INFO - AUC : 0.64\n"
     ]
    },
    {
     "name": "stdout",
     "output_type": "stream",
     "text": [
      "===========================\n",
      "\n",
      "===========================\n",
      "Epoch 1/50\n",
      "3/3 [==============================] - 1s 60ms/step - loss: 15.2129 - val_loss: 15.6986\n",
      "Epoch 2/50\n",
      "3/3 [==============================] - 0s 17ms/step - loss: 15.4451 - val_loss: 10.4090\n",
      "Epoch 3/50\n",
      "3/3 [==============================] - 0s 16ms/step - loss: 12.1534 - val_loss: 11.5166\n",
      "Epoch 4/50\n",
      "3/3 [==============================] - 0s 15ms/step - loss: 10.1688 - val_loss: 10.5158\n",
      "Epoch 5/50\n",
      "3/3 [==============================] - 0s 15ms/step - loss: 10.9738 - val_loss: 9.2309\n",
      "Epoch 6/50\n",
      "3/3 [==============================] - 0s 13ms/step - loss: 9.4789 - val_loss: 10.6393\n",
      "Epoch 7/50\n",
      "3/3 [==============================] - 0s 14ms/step - loss: 9.7954 - val_loss: 8.5988\n",
      "Epoch 8/50\n",
      "3/3 [==============================] - 0s 13ms/step - loss: 9.2417 - val_loss: 8.7535\n",
      "Epoch 9/50\n",
      "3/3 [==============================] - 0s 13ms/step - loss: 9.1080 - val_loss: 9.3723\n",
      "Epoch 10/50\n",
      "3/3 [==============================] - 0s 15ms/step - loss: 9.0880 - val_loss: 9.2012\n",
      "Epoch 11/50\n",
      "3/3 [==============================] - 0s 14ms/step - loss: 8.8069 - val_loss: 8.6202\n",
      "Epoch 12/50\n",
      "3/3 [==============================] - 0s 14ms/step - loss: 8.8654 - val_loss: 8.6215\n",
      "Epoch 13/50\n",
      "3/3 [==============================] - 0s 15ms/step - loss: 8.6856 - val_loss: 8.7969\n",
      "Epoch 14/50\n",
      "3/3 [==============================] - 0s 15ms/step - loss: 8.6598 - val_loss: 8.2963\n",
      "Epoch 15/50\n",
      "3/3 [==============================] - 0s 14ms/step - loss: 8.5988 - val_loss: 8.3649\n",
      "Epoch 16/50\n",
      "3/3 [==============================] - 0s 15ms/step - loss: 8.5096 - val_loss: 8.5435\n",
      "Epoch 17/50\n",
      "3/3 [==============================] - 0s 14ms/step - loss: 8.4846 - val_loss: 8.3102\n",
      "Epoch 18/50\n",
      "3/3 [==============================] - 0s 16ms/step - loss: 8.4375 - val_loss: 8.2771\n",
      "Epoch 19/50\n",
      "3/3 [==============================] - 0s 15ms/step - loss: 8.3768 - val_loss: 8.2565\n",
      "Epoch 20/50\n",
      "3/3 [==============================] - 0s 15ms/step - loss: 8.3391 - val_loss: 8.0931\n",
      "Epoch 21/50\n",
      "3/3 [==============================] - 0s 14ms/step - loss: 8.2962 - val_loss: 8.0965\n",
      "Epoch 22/50\n",
      "3/3 [==============================] - 0s 15ms/step - loss: 8.2473 - val_loss: 8.1271\n",
      "Epoch 23/50\n",
      "3/3 [==============================] - 0s 15ms/step - loss: 8.2042 - val_loss: 8.0257\n",
      "Epoch 24/50\n",
      "3/3 [==============================] - 0s 15ms/step - loss: 8.1634 - val_loss: 7.9984\n",
      "Epoch 25/50\n",
      "3/3 [==============================] - 0s 14ms/step - loss: 8.1213 - val_loss: 7.9546\n",
      "Epoch 26/50\n",
      "3/3 [==============================] - 0s 15ms/step - loss: 8.0770 - val_loss: 7.9001\n",
      "Epoch 27/50\n",
      "3/3 [==============================] - 0s 14ms/step - loss: 8.0346 - val_loss: 7.9020\n",
      "Epoch 28/50\n",
      "3/3 [==============================] - 0s 13ms/step - loss: 7.9882 - val_loss: 7.8624\n",
      "Epoch 29/50\n",
      "3/3 [==============================] - 0s 14ms/step - loss: 7.9468 - val_loss: 7.8465\n",
      "Epoch 30/50\n",
      "3/3 [==============================] - 0s 14ms/step - loss: 7.9029 - val_loss: 7.7963\n",
      "Epoch 31/50\n",
      "3/3 [==============================] - 0s 17ms/step - loss: 7.8582 - val_loss: 7.7777\n",
      "Epoch 32/50\n",
      "3/3 [==============================] - 0s 13ms/step - loss: 7.8160 - val_loss: 7.7766\n",
      "Epoch 33/50\n",
      "3/3 [==============================] - 0s 14ms/step - loss: 7.7738 - val_loss: 7.7656\n",
      "Epoch 34/50\n",
      "3/3 [==============================] - 0s 15ms/step - loss: 7.7312 - val_loss: 7.7014\n",
      "Epoch 35/50\n",
      "3/3 [==============================] - 0s 16ms/step - loss: 7.6856 - val_loss: 7.7474\n",
      "Epoch 36/50\n",
      "3/3 [==============================] - 0s 14ms/step - loss: 7.6453 - val_loss: 7.7723\n",
      "Epoch 37/50\n",
      "3/3 [==============================] - 0s 14ms/step - loss: 7.6036 - val_loss: 7.7538\n",
      "Epoch 38/50\n",
      "3/3 [==============================] - 0s 14ms/step - loss: 7.5615 - val_loss: 7.7131\n",
      "Epoch 39/50\n",
      "3/3 [==============================] - 0s 14ms/step - loss: 7.5194 - val_loss: 7.7601\n",
      "Epoch 40/50\n",
      "3/3 [==============================] - 0s 15ms/step - loss: 7.4778 - val_loss: 7.7250\n",
      "Epoch 41/50\n",
      "3/3 [==============================] - 0s 14ms/step - loss: 7.4389 - val_loss: 7.7504\n",
      "Epoch 42/50\n",
      "3/3 [==============================] - 0s 14ms/step - loss: 7.3955 - val_loss: 7.7316\n",
      "Epoch 43/50\n",
      "3/3 [==============================] - 0s 14ms/step - loss: 7.3574 - val_loss: 7.7734\n",
      "Epoch 44/50\n",
      "3/3 [==============================] - 0s 15ms/step - loss: 7.3174 - val_loss: 7.7856\n",
      "Epoch 45/50\n",
      "3/3 [==============================] - 0s 14ms/step - loss: 7.2762 - val_loss: 7.8112\n",
      "Epoch 46/50\n",
      "3/3 [==============================] - 0s 14ms/step - loss: 7.2360 - val_loss: 7.7779\n",
      "Epoch 47/50\n",
      "3/3 [==============================] - 0s 14ms/step - loss: 7.1963 - val_loss: 7.7713\n",
      "Epoch 48/50\n",
      "3/3 [==============================] - 0s 15ms/step - loss: 7.1562 - val_loss: 7.8225\n",
      "Epoch 49/50\n",
      "3/3 [==============================] - 0s 14ms/step - loss: 7.1153 - val_loss: 7.8031\n",
      "Epoch 50/50\n",
      "3/3 [==============================] - 0s 14ms/step - loss: 7.0744 - val_loss: 7.8596\n",
      "============== EVALUATION ==============\n"
     ]
    },
    {
     "name": "stderr",
     "output_type": "stream",
     "text": [
      "C:\\Users\\Baejs\\anaconda3\\envs\\bae\\lib\\site-packages\\keras\\src\\engine\\training.py:3000: UserWarning: You are saving your model as an HDF5 file via `model.save()`. This file format is considered legacy. We recommend using instead the native Keras format, e.g. `model.save('my_model.keras')`.\n",
      "  saving_api.save_model(\n",
      "  0%|                                                                                           | 0/10 [00:00<?, ?it/s]"
     ]
    },
    {
     "name": "stdout",
     "output_type": "stream",
     "text": [
      "10/10 [==============================] - 0s 992us/step\n"
     ]
    },
    {
     "name": "stderr",
     "output_type": "stream",
     "text": [
      " 10%|████████▎                                                                          | 1/10 [00:00<00:00,  9.29it/s]"
     ]
    },
    {
     "name": "stdout",
     "output_type": "stream",
     "text": [
      "10/10 [==============================] - 0s 997us/step\n",
      "10/10 [==============================] - 0s 1ms/step\n"
     ]
    },
    {
     "name": "stderr",
     "output_type": "stream",
     "text": [
      " 30%|████████████████████████▉                                                          | 3/10 [00:00<00:00, 12.17it/s]"
     ]
    },
    {
     "name": "stdout",
     "output_type": "stream",
     "text": [
      "10/10 [==============================] - 0s 1ms/step\n",
      "10/10 [==============================] - 0s 964us/step\n"
     ]
    },
    {
     "name": "stderr",
     "output_type": "stream",
     "text": [
      " 50%|█████████████████████████████████████████▌                                         | 5/10 [00:00<00:00,  8.78it/s]"
     ]
    },
    {
     "name": "stdout",
     "output_type": "stream",
     "text": [
      "10/10 [==============================] - 0s 1ms/step\n",
      "10/10 [==============================] - 0s 1ms/step\n"
     ]
    },
    {
     "name": "stderr",
     "output_type": "stream",
     "text": [
      " 70%|██████████████████████████████████████████████████████████                         | 7/10 [00:00<00:00, 10.36it/s]"
     ]
    },
    {
     "name": "stdout",
     "output_type": "stream",
     "text": [
      "10/10 [==============================] - 0s 1ms/step\n",
      "10/10 [==============================] - 0s 1ms/step\n"
     ]
    },
    {
     "name": "stderr",
     "output_type": "stream",
     "text": [
      " 90%|██████████████████████████████████████████████████████████████████████████▋        | 9/10 [00:00<00:00, 11.44it/s]"
     ]
    },
    {
     "name": "stdout",
     "output_type": "stream",
     "text": [
      "10/10 [==============================] - 0s 1ms/step\n"
     ]
    },
    {
     "name": "stderr",
     "output_type": "stream",
     "text": [
      "100%|██████████████████████████████████████████████████████████████████████████████████| 10/10 [00:00<00:00, 11.03it/s]\n",
      "2023-08-26 00:52:31,115 - INFO - AUC : 0.8\n"
     ]
    },
    {
     "name": "stdout",
     "output_type": "stream",
     "text": [
      "===========================\n",
      "\n",
      "===========================\n",
      "Epoch 1/50\n",
      "3/3 [==============================] - 1s 61ms/step - loss: 17.6759 - val_loss: 17.9233\n",
      "Epoch 2/50\n",
      "3/3 [==============================] - 0s 17ms/step - loss: 19.1657 - val_loss: 11.4901\n",
      "Epoch 3/50\n",
      "3/3 [==============================] - 0s 14ms/step - loss: 12.3768 - val_loss: 16.2874\n",
      "Epoch 4/50\n",
      "3/3 [==============================] - 0s 13ms/step - loss: 13.2903 - val_loss: 11.5939\n",
      "Epoch 5/50\n",
      "3/3 [==============================] - 0s 14ms/step - loss: 11.0528 - val_loss: 11.2098\n",
      "Epoch 6/50\n",
      "3/3 [==============================] - 0s 14ms/step - loss: 11.5450 - val_loss: 10.1267\n",
      "Epoch 7/50\n",
      "3/3 [==============================] - 0s 15ms/step - loss: 9.9909 - val_loss: 12.2505\n",
      "Epoch 8/50\n",
      "3/3 [==============================] - 0s 15ms/step - loss: 10.6538 - val_loss: 10.4983\n",
      "Epoch 9/50\n",
      "3/3 [==============================] - 0s 14ms/step - loss: 9.7271 - val_loss: 10.1061\n",
      "Epoch 10/50\n",
      "3/3 [==============================] - 0s 14ms/step - loss: 10.0705 - val_loss: 9.9568\n",
      "Epoch 11/50\n",
      "3/3 [==============================] - 0s 15ms/step - loss: 9.5753 - val_loss: 10.6996\n",
      "Epoch 12/50\n",
      "3/3 [==============================] - 0s 15ms/step - loss: 9.7602 - val_loss: 10.1079\n",
      "Epoch 13/50\n",
      "3/3 [==============================] - 0s 15ms/step - loss: 9.4572 - val_loss: 9.4663\n",
      "Epoch 14/50\n",
      "3/3 [==============================] - 0s 14ms/step - loss: 9.5472 - val_loss: 9.3818\n",
      "Epoch 15/50\n",
      "3/3 [==============================] - 0s 14ms/step - loss: 9.3720 - val_loss: 9.7391\n",
      "Epoch 16/50\n",
      "3/3 [==============================] - 0s 15ms/step - loss: 9.3934 - val_loss: 9.3506\n",
      "Epoch 17/50\n",
      "3/3 [==============================] - 0s 14ms/step - loss: 9.3144 - val_loss: 9.1746\n",
      "Epoch 18/50\n",
      "3/3 [==============================] - 0s 15ms/step - loss: 9.3011 - val_loss: 9.5137\n",
      "Epoch 19/50\n",
      "3/3 [==============================] - 0s 14ms/step - loss: 9.2853 - val_loss: 9.5576\n",
      "Epoch 20/50\n",
      "3/3 [==============================] - 0s 14ms/step - loss: 9.2498 - val_loss: 9.1634\n",
      "Epoch 21/50\n",
      "3/3 [==============================] - 0s 16ms/step - loss: 9.2442 - val_loss: 9.1894\n",
      "Epoch 22/50\n",
      "3/3 [==============================] - 0s 15ms/step - loss: 9.2116 - val_loss: 9.3756\n",
      "Epoch 23/50\n",
      "3/3 [==============================] - 0s 14ms/step - loss: 9.1951 - val_loss: 9.1085\n",
      "Epoch 24/50\n",
      "3/3 [==============================] - 0s 14ms/step - loss: 9.1737 - val_loss: 9.0468\n",
      "Epoch 25/50\n",
      "3/3 [==============================] - 0s 15ms/step - loss: 9.1475 - val_loss: 9.1588\n",
      "Epoch 26/50\n",
      "3/3 [==============================] - 0s 14ms/step - loss: 9.1296 - val_loss: 9.0497\n",
      "Epoch 27/50\n",
      "3/3 [==============================] - 0s 15ms/step - loss: 9.1122 - val_loss: 8.9664\n",
      "Epoch 28/50\n",
      "3/3 [==============================] - 0s 15ms/step - loss: 9.0832 - val_loss: 9.0470\n",
      "Epoch 29/50\n",
      "3/3 [==============================] - 0s 14ms/step - loss: 9.0688 - val_loss: 8.8769\n",
      "Epoch 30/50\n",
      "3/3 [==============================] - 0s 15ms/step - loss: 9.0463 - val_loss: 8.8350\n",
      "Epoch 31/50\n",
      "3/3 [==============================] - 0s 20ms/step - loss: 9.0192 - val_loss: 8.9270\n",
      "Epoch 32/50\n",
      "3/3 [==============================] - 0s 14ms/step - loss: 8.9952 - val_loss: 8.8087\n",
      "Epoch 33/50\n",
      "3/3 [==============================] - 0s 14ms/step - loss: 8.9712 - val_loss: 8.7894\n",
      "Epoch 34/50\n",
      "3/3 [==============================] - 0s 14ms/step - loss: 8.9438 - val_loss: 8.7566\n",
      "Epoch 35/50\n",
      "3/3 [==============================] - 0s 13ms/step - loss: 8.9189 - val_loss: 8.6673\n",
      "Epoch 36/50\n",
      "3/3 [==============================] - 0s 13ms/step - loss: 8.8935 - val_loss: 8.6460\n",
      "Epoch 37/50\n",
      "3/3 [==============================] - 0s 13ms/step - loss: 8.8644 - val_loss: 8.6571\n",
      "Epoch 38/50\n",
      "3/3 [==============================] - 0s 13ms/step - loss: 8.8373 - val_loss: 8.6371\n",
      "Epoch 39/50\n",
      "3/3 [==============================] - 0s 14ms/step - loss: 8.8118 - val_loss: 8.6488\n",
      "Epoch 40/50\n",
      "3/3 [==============================] - 0s 14ms/step - loss: 8.7838 - val_loss: 8.5783\n",
      "Epoch 41/50\n",
      "3/3 [==============================] - 0s 13ms/step - loss: 8.7557 - val_loss: 8.4909\n",
      "Epoch 42/50\n",
      "3/3 [==============================] - 0s 14ms/step - loss: 8.7272 - val_loss: 8.5455\n",
      "Epoch 43/50\n",
      "3/3 [==============================] - 0s 15ms/step - loss: 8.7012 - val_loss: 8.5424\n",
      "Epoch 44/50\n",
      "3/3 [==============================] - 0s 14ms/step - loss: 8.6702 - val_loss: 8.5350\n",
      "Epoch 45/50\n",
      "3/3 [==============================] - 0s 14ms/step - loss: 8.6409 - val_loss: 8.5432\n",
      "Epoch 46/50\n",
      "3/3 [==============================] - 0s 14ms/step - loss: 8.6107 - val_loss: 8.4938\n",
      "Epoch 47/50\n",
      "3/3 [==============================] - 0s 15ms/step - loss: 8.5800 - val_loss: 8.4987\n",
      "Epoch 48/50\n",
      "3/3 [==============================] - 0s 15ms/step - loss: 8.5509 - val_loss: 8.5353\n",
      "Epoch 49/50\n",
      "3/3 [==============================] - 0s 15ms/step - loss: 8.5224 - val_loss: 8.5969\n",
      "Epoch 50/50\n",
      "3/3 [==============================] - 0s 13ms/step - loss: 8.4976 - val_loss: 8.6184\n",
      "============== EVALUATION =============="
     ]
    },
    {
     "name": "stderr",
     "output_type": "stream",
     "text": [
      "C:\\Users\\Baejs\\anaconda3\\envs\\bae\\lib\\site-packages\\keras\\src\\engine\\training.py:3000: UserWarning: You are saving your model as an HDF5 file via `model.save()`. This file format is considered legacy. We recommend using instead the native Keras format, e.g. `model.save('my_model.keras')`.\n",
      "  saving_api.save_model(\n"
     ]
    },
    {
     "name": "stdout",
     "output_type": "stream",
     "text": [
      "\n"
     ]
    },
    {
     "name": "stderr",
     "output_type": "stream",
     "text": [
      "  0%|                                                                                           | 0/10 [00:00<?, ?it/s]"
     ]
    },
    {
     "name": "stdout",
     "output_type": "stream",
     "text": [
      "10/10 [==============================] - 0s 998us/step\n"
     ]
    },
    {
     "name": "stderr",
     "output_type": "stream",
     "text": [
      " 10%|████████▎                                                                          | 1/10 [00:00<00:01,  8.99it/s]"
     ]
    },
    {
     "name": "stdout",
     "output_type": "stream",
     "text": [
      "10/10 [==============================] - 0s 1ms/step\n",
      "10/10 [==============================] - 0s 1ms/step\n"
     ]
    },
    {
     "name": "stderr",
     "output_type": "stream",
     "text": [
      " 30%|████████████████████████▉                                                          | 3/10 [00:00<00:00, 12.18it/s]"
     ]
    },
    {
     "name": "stdout",
     "output_type": "stream",
     "text": [
      "10/10 [==============================] - 0s 1ms/step\n",
      "10/10 [==============================] - 0s 1ms/step\n"
     ]
    },
    {
     "name": "stderr",
     "output_type": "stream",
     "text": [
      " 50%|█████████████████████████████████████████▌                                         | 5/10 [00:00<00:00, 12.93it/s]"
     ]
    },
    {
     "name": "stdout",
     "output_type": "stream",
     "text": [
      "10/10 [==============================] - 0s 974us/step\n",
      "10/10 [==============================] - 0s 999us/step\n"
     ]
    },
    {
     "name": "stderr",
     "output_type": "stream",
     "text": [
      " 70%|██████████████████████████████████████████████████████████                         | 7/10 [00:00<00:00, 13.45it/s]"
     ]
    },
    {
     "name": "stdout",
     "output_type": "stream",
     "text": [
      "10/10 [==============================] - 0s 1ms/step\n",
      "10/10 [==============================] - 0s 1ms/step\n"
     ]
    },
    {
     "name": "stderr",
     "output_type": "stream",
     "text": [
      " 90%|██████████████████████████████████████████████████████████████████████████▋        | 9/10 [00:00<00:00, 13.56it/s]"
     ]
    },
    {
     "name": "stdout",
     "output_type": "stream",
     "text": [
      "10/10 [==============================] - 0s 895us/step\n"
     ]
    },
    {
     "name": "stderr",
     "output_type": "stream",
     "text": [
      "100%|██████████████████████████████████████████████████████████████████████████████████| 10/10 [00:00<00:00, 13.25it/s]\n",
      "2023-08-26 00:52:34,600 - INFO - AUC : 0.8\n",
      "2023-08-26 00:52:34,600 - INFO - target_dir : ../Sample_data\n",
      "2023-08-26 00:52:34,602 - INFO - train_file num : 5\n",
      "2023-08-26 00:52:34,604 - INFO - eval_file  num : 10\n"
     ]
    },
    {
     "name": "stdout",
     "output_type": "stream",
     "text": [
      "===========================\n",
      "\n",
      "===========================\n"
     ]
    },
    {
     "name": "stderr",
     "output_type": "stream",
     "text": [
      "generate train_dataset: 100%|████████████████████████████████████████████████████████████| 5/5 [00:00<00:00, 82.19it/s]\n",
      "2023-08-26 00:52:34,679 - INFO - save_pickle -> ./pickle_transfer_pretrain_v1/train_fan_id_04.pickle\n",
      "2023-08-26 00:52:34,683 - INFO - save_pickle -> ./pickle_transfer_pretrain_v1/eval_files_fan_id_04.pickle\n",
      "2023-08-26 00:52:34,685 - INFO - save_pickle -> ./pickle_transfer_pretrain_v1/eval_labels_fan_id_04.pickle\n"
     ]
    },
    {
     "name": "stdout",
     "output_type": "stream",
     "text": [
      "\n",
      "===========================\n",
      "Epoch 1/50\n",
      "3/3 [==============================] - 1s 60ms/step - loss: 15.1525 - val_loss: 12.6780\n",
      "Epoch 2/50\n",
      "3/3 [==============================] - 0s 14ms/step - loss: 14.8339 - val_loss: 7.0088\n",
      "Epoch 3/50\n",
      "3/3 [==============================] - 0s 14ms/step - loss: 10.0058 - val_loss: 9.2809\n",
      "Epoch 4/50\n",
      "3/3 [==============================] - 0s 13ms/step - loss: 10.3647 - val_loss: 6.1479\n",
      "Epoch 5/50\n",
      "3/3 [==============================] - 0s 14ms/step - loss: 9.3540 - val_loss: 7.4067\n",
      "Epoch 6/50\n",
      "3/3 [==============================] - 0s 14ms/step - loss: 8.8154 - val_loss: 5.9214\n",
      "Epoch 7/50\n",
      "3/3 [==============================] - 0s 14ms/step - loss: 8.6643 - val_loss: 6.2358\n",
      "Epoch 8/50\n",
      "3/3 [==============================] - 0s 14ms/step - loss: 8.2216 - val_loss: 6.1579\n",
      "Epoch 9/50\n",
      "3/3 [==============================] - 0s 14ms/step - loss: 8.2290 - val_loss: 6.2421\n",
      "Epoch 10/50\n",
      "3/3 [==============================] - 0s 14ms/step - loss: 7.9312 - val_loss: 5.6961\n",
      "Epoch 11/50\n",
      "3/3 [==============================] - 0s 14ms/step - loss: 7.9701 - val_loss: 5.6474\n",
      "Epoch 12/50\n",
      "3/3 [==============================] - 0s 14ms/step - loss: 7.7525 - val_loss: 5.8502\n",
      "Epoch 13/50\n",
      "3/3 [==============================] - 0s 13ms/step - loss: 7.7863 - val_loss: 5.7937\n",
      "Epoch 14/50\n",
      "3/3 [==============================] - 0s 13ms/step - loss: 7.6340 - val_loss: 5.6104\n",
      "Epoch 15/50\n",
      "3/3 [==============================] - 0s 14ms/step - loss: 7.6448 - val_loss: 5.6080\n",
      "Epoch 16/50\n",
      "3/3 [==============================] - 0s 13ms/step - loss: 7.5438 - val_loss: 5.7570\n",
      "Epoch 17/50\n",
      "3/3 [==============================] - 0s 13ms/step - loss: 7.5297 - val_loss: 5.5896\n",
      "Epoch 18/50\n",
      "3/3 [==============================] - 0s 14ms/step - loss: 7.4680 - val_loss: 5.5554\n",
      "Epoch 19/50\n",
      "3/3 [==============================] - 0s 14ms/step - loss: 7.4315 - val_loss: 5.6222\n",
      "Epoch 20/50\n",
      "3/3 [==============================] - 0s 13ms/step - loss: 7.3948 - val_loss: 5.6099\n",
      "Epoch 21/50\n",
      "3/3 [==============================] - 0s 13ms/step - loss: 7.3510 - val_loss: 5.5361\n",
      "Epoch 22/50\n",
      "3/3 [==============================] - 0s 14ms/step - loss: 7.3162 - val_loss: 5.5742\n",
      "Epoch 23/50\n",
      "3/3 [==============================] - 0s 14ms/step - loss: 7.2762 - val_loss: 5.6135\n",
      "Epoch 24/50\n",
      "3/3 [==============================] - 0s 14ms/step - loss: 7.2403 - val_loss: 5.5491\n",
      "Epoch 25/50\n",
      "3/3 [==============================] - 0s 14ms/step - loss: 7.2057 - val_loss: 5.5535\n",
      "Epoch 26/50\n",
      "3/3 [==============================] - 0s 14ms/step - loss: 7.1676 - val_loss: 5.5885\n",
      "Epoch 27/50\n",
      "3/3 [==============================] - 0s 14ms/step - loss: 7.1342 - val_loss: 5.5646\n",
      "Epoch 28/50\n",
      "3/3 [==============================] - 0s 14ms/step - loss: 7.1008 - val_loss: 5.5712\n",
      "Epoch 29/50\n",
      "3/3 [==============================] - 0s 14ms/step - loss: 7.0658 - val_loss: 5.5883\n",
      "Epoch 30/50\n",
      "3/3 [==============================] - 0s 13ms/step - loss: 7.0322 - val_loss: 5.5667\n",
      "Epoch 31/50\n",
      "3/3 [==============================] - 0s 13ms/step - loss: 7.0019 - val_loss: 5.5598\n",
      "Epoch 32/50\n",
      "3/3 [==============================] - 0s 13ms/step - loss: 6.9665 - val_loss: 5.5682\n",
      "Epoch 33/50\n",
      "3/3 [==============================] - 0s 13ms/step - loss: 6.9344 - val_loss: 5.6011\n",
      "Epoch 34/50\n",
      "3/3 [==============================] - 0s 15ms/step - loss: 6.9039 - val_loss: 5.5985\n",
      "Epoch 35/50\n",
      "3/3 [==============================] - 0s 14ms/step - loss: 6.8725 - val_loss: 5.5871\n",
      "Epoch 36/50\n",
      "3/3 [==============================] - 0s 14ms/step - loss: 6.8431 - val_loss: 5.5973\n",
      "Epoch 37/50\n",
      "3/3 [==============================] - 0s 13ms/step - loss: 6.8149 - val_loss: 5.5906\n",
      "Epoch 38/50\n",
      "3/3 [==============================] - 0s 12ms/step - loss: 6.7893 - val_loss: 5.6231\n",
      "Epoch 39/50\n",
      "3/3 [==============================] - 0s 12ms/step - loss: 6.7614 - val_loss: 5.6046\n",
      "Epoch 40/50\n",
      "3/3 [==============================] - 0s 13ms/step - loss: 6.7353 - val_loss: 5.6347\n",
      "Epoch 41/50\n",
      "3/3 [==============================] - 0s 12ms/step - loss: 6.7097 - val_loss: 5.6453\n",
      "Epoch 42/50\n",
      "3/3 [==============================] - 0s 13ms/step - loss: 6.6857 - val_loss: 5.6321\n",
      "Epoch 43/50\n",
      "3/3 [==============================] - 0s 14ms/step - loss: 6.6610 - val_loss: 5.6926\n",
      "Epoch 44/50\n",
      "3/3 [==============================] - 0s 15ms/step - loss: 6.6400 - val_loss: 5.6738\n",
      "Epoch 45/50\n",
      "3/3 [==============================] - 0s 14ms/step - loss: 6.6164 - val_loss: 5.6727\n",
      "Epoch 46/50\n",
      "3/3 [==============================] - 0s 13ms/step - loss: 6.5972 - val_loss: 5.6878\n",
      "Epoch 47/50\n",
      "3/3 [==============================] - 0s 14ms/step - loss: 6.5772 - val_loss: 5.6966\n",
      "Epoch 48/50\n",
      "3/3 [==============================] - 0s 13ms/step - loss: 6.5576 - val_loss: 5.7125\n",
      "Epoch 49/50\n",
      "3/3 [==============================] - 0s 13ms/step - loss: 6.5384 - val_loss: 5.7014\n",
      "Epoch 50/50\n",
      "3/3 [==============================] - 0s 13ms/step - loss: 6.5214 - val_loss: 5.7247\n",
      "============== EVALUATION ==============\n"
     ]
    },
    {
     "name": "stderr",
     "output_type": "stream",
     "text": [
      "C:\\Users\\Baejs\\anaconda3\\envs\\bae\\lib\\site-packages\\keras\\src\\engine\\training.py:3000: UserWarning: You are saving your model as an HDF5 file via `model.save()`. This file format is considered legacy. We recommend using instead the native Keras format, e.g. `model.save('my_model.keras')`.\n",
      "  saving_api.save_model(\n",
      "  0%|                                                                                           | 0/10 [00:00<?, ?it/s]"
     ]
    },
    {
     "name": "stdout",
     "output_type": "stream",
     "text": [
      "10/10 [==============================] - 0s 966us/step\n"
     ]
    },
    {
     "name": "stderr",
     "output_type": "stream",
     "text": [
      " 10%|████████▎                                                                          | 1/10 [00:00<00:00,  9.40it/s]"
     ]
    },
    {
     "name": "stdout",
     "output_type": "stream",
     "text": [
      "10/10 [==============================] - 0s 1ms/step\n",
      "10/10 [==============================] - 0s 1ms/step\n"
     ]
    },
    {
     "name": "stderr",
     "output_type": "stream",
     "text": [
      " 30%|████████████████████████▉                                                          | 3/10 [00:00<00:00, 12.89it/s]"
     ]
    },
    {
     "name": "stdout",
     "output_type": "stream",
     "text": [
      "10/10 [==============================] - 0s 974us/step\n",
      "10/10 [==============================] - 0s 2ms/step\n"
     ]
    },
    {
     "name": "stderr",
     "output_type": "stream",
     "text": [
      " 50%|█████████████████████████████████████████▌                                         | 5/10 [00:00<00:00, 13.10it/s]"
     ]
    },
    {
     "name": "stdout",
     "output_type": "stream",
     "text": [
      "10/10 [==============================] - 0s 886us/step\n",
      "10/10 [==============================] - 0s 1ms/step\n"
     ]
    },
    {
     "name": "stderr",
     "output_type": "stream",
     "text": [
      " 70%|██████████████████████████████████████████████████████████                         | 7/10 [00:00<00:00, 13.04it/s]"
     ]
    },
    {
     "name": "stdout",
     "output_type": "stream",
     "text": [
      "10/10 [==============================] - 0s 1ms/step\n",
      "10/10 [==============================] - 0s 1ms/step\n"
     ]
    },
    {
     "name": "stderr",
     "output_type": "stream",
     "text": [
      " 90%|██████████████████████████████████████████████████████████████████████████▋        | 9/10 [00:00<00:00, 13.18it/s]"
     ]
    },
    {
     "name": "stdout",
     "output_type": "stream",
     "text": [
      "10/10 [==============================] - 0s 954us/step\n"
     ]
    },
    {
     "name": "stderr",
     "output_type": "stream",
     "text": [
      "100%|██████████████████████████████████████████████████████████████████████████████████| 10/10 [00:00<00:00, 12.95it/s]\n",
      "2023-08-26 00:52:38,102 - INFO - AUC : 0.6\n"
     ]
    },
    {
     "name": "stdout",
     "output_type": "stream",
     "text": [
      "===========================\n",
      "\n",
      "===========================\n",
      "Epoch 1/50\n",
      "3/3 [==============================] - 1s 58ms/step - loss: 13.8740 - val_loss: 11.8931\n",
      "Epoch 2/50\n",
      "3/3 [==============================] - 0s 14ms/step - loss: 12.2051 - val_loss: 9.3618\n",
      "Epoch 3/50\n",
      "3/3 [==============================] - 0s 14ms/step - loss: 11.1333 - val_loss: 6.1650\n",
      "Epoch 4/50\n",
      "3/3 [==============================] - 0s 15ms/step - loss: 9.5235 - val_loss: 6.7241\n",
      "Epoch 5/50\n",
      "3/3 [==============================] - 0s 14ms/step - loss: 9.2141 - val_loss: 6.4550\n",
      "Epoch 6/50\n",
      "3/3 [==============================] - 0s 14ms/step - loss: 8.9351 - val_loss: 6.4510\n",
      "Epoch 7/50\n",
      "3/3 [==============================] - 0s 14ms/step - loss: 8.4071 - val_loss: 6.1721\n",
      "Epoch 8/50\n",
      "3/3 [==============================] - 0s 19ms/step - loss: 8.4376 - val_loss: 6.0356\n",
      "Epoch 9/50\n",
      "3/3 [==============================] - 0s 13ms/step - loss: 8.2183 - val_loss: 6.2083\n",
      "Epoch 10/50\n",
      "3/3 [==============================] - 0s 14ms/step - loss: 8.0788 - val_loss: 6.0143\n",
      "Epoch 11/50\n",
      "3/3 [==============================] - 0s 14ms/step - loss: 8.0188 - val_loss: 5.8196\n",
      "Epoch 12/50\n",
      "3/3 [==============================] - 0s 14ms/step - loss: 7.8601 - val_loss: 5.9389\n",
      "Epoch 13/50\n",
      "3/3 [==============================] - 0s 14ms/step - loss: 7.8069 - val_loss: 5.7141\n",
      "Epoch 14/50\n",
      "3/3 [==============================] - 0s 14ms/step - loss: 7.7221 - val_loss: 5.7263\n",
      "Epoch 15/50\n",
      "3/3 [==============================] - 0s 14ms/step - loss: 7.6368 - val_loss: 5.7420\n",
      "Epoch 16/50\n",
      "3/3 [==============================] - 0s 14ms/step - loss: 7.5871 - val_loss: 5.6088\n",
      "Epoch 17/50\n",
      "3/3 [==============================] - 0s 14ms/step - loss: 7.5228 - val_loss: 5.6400\n",
      "Epoch 18/50\n",
      "3/3 [==============================] - 0s 14ms/step - loss: 7.4672 - val_loss: 5.6171\n",
      "Epoch 19/50\n",
      "3/3 [==============================] - 0s 14ms/step - loss: 7.4125 - val_loss: 5.5630\n",
      "Epoch 20/50\n",
      "3/3 [==============================] - 0s 14ms/step - loss: 7.3558 - val_loss: 5.5923\n",
      "Epoch 21/50\n",
      "3/3 [==============================] - 0s 14ms/step - loss: 7.3096 - val_loss: 5.5693\n",
      "Epoch 22/50\n",
      "3/3 [==============================] - 0s 14ms/step - loss: 7.2563 - val_loss: 5.5524\n",
      "Epoch 23/50\n",
      "3/3 [==============================] - 0s 14ms/step - loss: 7.2086 - val_loss: 5.5483\n",
      "Epoch 24/50\n",
      "3/3 [==============================] - 0s 15ms/step - loss: 7.1575 - val_loss: 5.5544\n",
      "Epoch 25/50\n",
      "3/3 [==============================] - 0s 14ms/step - loss: 7.1121 - val_loss: 5.5520\n",
      "Epoch 26/50\n",
      "3/3 [==============================] - 0s 14ms/step - loss: 7.0633 - val_loss: 5.5123\n",
      "Epoch 27/50\n",
      "3/3 [==============================] - 0s 14ms/step - loss: 7.0165 - val_loss: 5.5302\n",
      "Epoch 28/50\n",
      "3/3 [==============================] - 0s 14ms/step - loss: 6.9731 - val_loss: 5.5532\n",
      "Epoch 29/50\n",
      "3/3 [==============================] - 0s 14ms/step - loss: 6.9321 - val_loss: 5.5179\n",
      "Epoch 30/50\n",
      "3/3 [==============================] - 0s 14ms/step - loss: 6.8877 - val_loss: 5.5431\n",
      "Epoch 31/50\n",
      "3/3 [==============================] - 0s 14ms/step - loss: 6.8472 - val_loss: 5.5444\n",
      "Epoch 32/50\n",
      "3/3 [==============================] - 0s 14ms/step - loss: 6.8076 - val_loss: 5.5811\n",
      "Epoch 33/50\n",
      "3/3 [==============================] - 0s 14ms/step - loss: 6.7719 - val_loss: 5.5652\n",
      "Epoch 34/50\n",
      "3/3 [==============================] - 0s 14ms/step - loss: 6.7357 - val_loss: 5.5851\n",
      "Epoch 35/50\n",
      "3/3 [==============================] - 0s 14ms/step - loss: 6.7034 - val_loss: 5.5672\n",
      "Epoch 36/50\n",
      "3/3 [==============================] - 0s 13ms/step - loss: 6.6694 - val_loss: 5.6186\n",
      "Epoch 37/50\n",
      "3/3 [==============================] - 0s 14ms/step - loss: 6.6395 - val_loss: 5.6568\n",
      "Epoch 38/50\n",
      "3/3 [==============================] - 0s 14ms/step - loss: 6.6119 - val_loss: 5.6202\n",
      "Epoch 39/50\n",
      "3/3 [==============================] - 0s 14ms/step - loss: 6.5815 - val_loss: 5.6505\n",
      "Epoch 40/50\n",
      "3/3 [==============================] - 0s 14ms/step - loss: 6.5558 - val_loss: 5.6422\n",
      "Epoch 41/50\n",
      "3/3 [==============================] - 0s 13ms/step - loss: 6.5322 - val_loss: 5.6628\n",
      "Epoch 42/50\n",
      "3/3 [==============================] - 0s 20ms/step - loss: 6.5071 - val_loss: 5.6874\n",
      "Epoch 43/50\n",
      "3/3 [==============================] - 0s 13ms/step - loss: 6.4844 - val_loss: 5.6986\n",
      "Epoch 44/50\n",
      "3/3 [==============================] - 0s 13ms/step - loss: 6.4630 - val_loss: 5.7516\n",
      "Epoch 45/50\n",
      "3/3 [==============================] - 0s 14ms/step - loss: 6.4497 - val_loss: 5.6878\n",
      "Epoch 46/50\n",
      "3/3 [==============================] - 0s 13ms/step - loss: 6.4306 - val_loss: 5.7655\n",
      "Epoch 47/50\n",
      "3/3 [==============================] - 0s 14ms/step - loss: 6.4191 - val_loss: 5.7626\n",
      "Epoch 48/50\n",
      "3/3 [==============================] - 0s 13ms/step - loss: 6.3990 - val_loss: 5.8360\n",
      "Epoch 49/50\n",
      "3/3 [==============================] - 0s 13ms/step - loss: 6.3894 - val_loss: 5.8355\n",
      "Epoch 50/50\n",
      "3/3 [==============================] - 0s 13ms/step - loss: 6.3795 - val_loss: 5.7713\n",
      "============== EVALUATION ==============\n"
     ]
    },
    {
     "name": "stderr",
     "output_type": "stream",
     "text": [
      "C:\\Users\\Baejs\\anaconda3\\envs\\bae\\lib\\site-packages\\keras\\src\\engine\\training.py:3000: UserWarning: You are saving your model as an HDF5 file via `model.save()`. This file format is considered legacy. We recommend using instead the native Keras format, e.g. `model.save('my_model.keras')`.\n",
      "  saving_api.save_model(\n",
      "  0%|                                                                                           | 0/10 [00:00<?, ?it/s]"
     ]
    },
    {
     "name": "stdout",
     "output_type": "stream",
     "text": [
      "10/10 [==============================] - 0s 997us/step\n"
     ]
    },
    {
     "name": "stderr",
     "output_type": "stream",
     "text": [
      " 10%|████████▎                                                                          | 1/10 [00:00<00:01,  8.65it/s]"
     ]
    },
    {
     "name": "stdout",
     "output_type": "stream",
     "text": [
      "10/10 [==============================] - 0s 982us/step\n",
      "10/10 [==============================] - 0s 1ms/step\n"
     ]
    },
    {
     "name": "stderr",
     "output_type": "stream",
     "text": [
      " 30%|████████████████████████▉                                                          | 3/10 [00:00<00:00, 12.56it/s]"
     ]
    },
    {
     "name": "stdout",
     "output_type": "stream",
     "text": [
      "10/10 [==============================] - 0s 1ms/step\n",
      "10/10 [==============================] - 0s 1ms/step\n"
     ]
    },
    {
     "name": "stderr",
     "output_type": "stream",
     "text": [
      " 50%|█████████████████████████████████████████▌                                         | 5/10 [00:00<00:00, 13.46it/s]"
     ]
    },
    {
     "name": "stdout",
     "output_type": "stream",
     "text": [
      "10/10 [==============================] - 0s 1ms/step\n",
      "10/10 [==============================] - 0s 1ms/step\n"
     ]
    },
    {
     "name": "stderr",
     "output_type": "stream",
     "text": [
      " 70%|██████████████████████████████████████████████████████████                         | 7/10 [00:00<00:00, 13.94it/s]"
     ]
    },
    {
     "name": "stdout",
     "output_type": "stream",
     "text": [
      "10/10 [==============================] - 0s 1ms/step\n",
      "10/10 [==============================] - 0s 1ms/step\n"
     ]
    },
    {
     "name": "stderr",
     "output_type": "stream",
     "text": [
      " 90%|██████████████████████████████████████████████████████████████████████████▋        | 9/10 [00:00<00:00, 14.13it/s]"
     ]
    },
    {
     "name": "stdout",
     "output_type": "stream",
     "text": [
      "10/10 [==============================] - 0s 1ms/step\n"
     ]
    },
    {
     "name": "stderr",
     "output_type": "stream",
     "text": [
      "100%|██████████████████████████████████████████████████████████████████████████████████| 10/10 [00:00<00:00, 13.65it/s]\n",
      "2023-08-26 00:52:41,485 - INFO - AUC : 0.68\n"
     ]
    },
    {
     "name": "stdout",
     "output_type": "stream",
     "text": [
      "===========================\n",
      "\n",
      "===========================\n",
      "Epoch 1/50\n",
      "3/3 [==============================] - 1s 59ms/step - loss: 16.1414 - val_loss: 15.4475\n",
      "Epoch 2/50\n",
      "3/3 [==============================] - 0s 14ms/step - loss: 15.3621 - val_loss: 9.9457\n",
      "Epoch 3/50\n",
      "3/3 [==============================] - 0s 14ms/step - loss: 11.8101 - val_loss: 10.1358\n",
      "Epoch 4/50\n",
      "3/3 [==============================] - 0s 17ms/step - loss: 11.8174 - val_loss: 7.1864\n",
      "Epoch 5/50\n",
      "3/3 [==============================] - 0s 15ms/step - loss: 9.9568 - val_loss: 8.7332\n",
      "Epoch 6/50\n",
      "3/3 [==============================] - 0s 15ms/step - loss: 9.9165 - val_loss: 7.3798\n",
      "Epoch 7/50\n",
      "3/3 [==============================] - 0s 14ms/step - loss: 9.6253 - val_loss: 7.6550\n",
      "Epoch 8/50\n",
      "3/3 [==============================] - 0s 13ms/step - loss: 9.4230 - val_loss: 6.7456\n",
      "Epoch 9/50\n",
      "3/3 [==============================] - 0s 14ms/step - loss: 9.0230 - val_loss: 7.0146\n",
      "Epoch 10/50\n",
      "3/3 [==============================] - 0s 13ms/step - loss: 9.0290 - val_loss: 7.1022\n",
      "Epoch 11/50\n",
      "3/3 [==============================] - 0s 14ms/step - loss: 8.8841 - val_loss: 7.0407\n",
      "Epoch 12/50\n",
      "3/3 [==============================] - 0s 15ms/step - loss: 8.7864 - val_loss: 6.5972\n",
      "Epoch 13/50\n",
      "3/3 [==============================] - 0s 16ms/step - loss: 8.6722 - val_loss: 6.7139\n",
      "Epoch 14/50\n",
      "3/3 [==============================] - 0s 14ms/step - loss: 8.6051 - val_loss: 6.7432\n",
      "Epoch 15/50\n",
      "3/3 [==============================] - 0s 15ms/step - loss: 8.5686 - val_loss: 6.8083\n",
      "Epoch 16/50\n",
      "3/3 [==============================] - 0s 16ms/step - loss: 8.4957 - val_loss: 6.5397\n",
      "Epoch 17/50\n",
      "3/3 [==============================] - 0s 21ms/step - loss: 8.4679 - val_loss: 6.5551\n",
      "Epoch 18/50\n",
      "3/3 [==============================] - 0s 14ms/step - loss: 8.3926 - val_loss: 6.7074\n",
      "Epoch 19/50\n",
      "3/3 [==============================] - 0s 14ms/step - loss: 8.3648 - val_loss: 6.6099\n",
      "Epoch 20/50\n",
      "3/3 [==============================] - 0s 14ms/step - loss: 8.3153 - val_loss: 6.6162\n",
      "Epoch 21/50\n",
      "3/3 [==============================] - 0s 14ms/step - loss: 8.2731 - val_loss: 6.6364\n",
      "Epoch 22/50\n",
      "3/3 [==============================] - 0s 14ms/step - loss: 8.2429 - val_loss: 6.6029\n",
      "Epoch 23/50\n",
      "3/3 [==============================] - 0s 14ms/step - loss: 8.2029 - val_loss: 6.4979\n",
      "Epoch 24/50\n",
      "3/3 [==============================] - 0s 14ms/step - loss: 8.1670 - val_loss: 6.6146\n",
      "Epoch 25/50\n",
      "3/3 [==============================] - 0s 14ms/step - loss: 8.1293 - val_loss: 6.5814\n",
      "Epoch 26/50\n",
      "3/3 [==============================] - 0s 13ms/step - loss: 8.0968 - val_loss: 6.5468\n",
      "Epoch 27/50\n",
      "3/3 [==============================] - 0s 13ms/step - loss: 8.0603 - val_loss: 6.5851\n",
      "Epoch 28/50\n",
      "3/3 [==============================] - 0s 14ms/step - loss: 8.0276 - val_loss: 6.5375\n",
      "Epoch 29/50\n",
      "3/3 [==============================] - 0s 15ms/step - loss: 7.9999 - val_loss: 6.5380\n",
      "Epoch 30/50\n",
      "3/3 [==============================] - 0s 15ms/step - loss: 7.9673 - val_loss: 6.5550\n",
      "Epoch 31/50\n",
      "3/3 [==============================] - 0s 14ms/step - loss: 7.9380 - val_loss: 6.5277\n",
      "Epoch 32/50\n",
      "3/3 [==============================] - 0s 15ms/step - loss: 7.9145 - val_loss: 6.5436\n",
      "Epoch 33/50\n",
      "3/3 [==============================] - 0s 14ms/step - loss: 7.8897 - val_loss: 6.5651\n",
      "Epoch 34/50\n",
      "3/3 [==============================] - 0s 14ms/step - loss: 7.8662 - val_loss: 6.5538\n",
      "Epoch 35/50\n",
      "3/3 [==============================] - 0s 13ms/step - loss: 7.8494 - val_loss: 6.5421\n",
      "Epoch 36/50\n",
      "3/3 [==============================] - 0s 13ms/step - loss: 7.8252 - val_loss: 6.5057\n",
      "Epoch 37/50\n",
      "3/3 [==============================] - 0s 14ms/step - loss: 7.8066 - val_loss: 6.5218\n",
      "Epoch 38/50\n",
      "3/3 [==============================] - 0s 14ms/step - loss: 7.7916 - val_loss: 6.5507\n",
      "Epoch 39/50\n",
      "3/3 [==============================] - 0s 15ms/step - loss: 7.7773 - val_loss: 6.5897\n",
      "Epoch 40/50\n",
      "3/3 [==============================] - 0s 14ms/step - loss: 7.7572 - val_loss: 6.5275\n",
      "Epoch 41/50\n",
      "3/3 [==============================] - 0s 14ms/step - loss: 7.7436 - val_loss: 6.5051\n",
      "Epoch 42/50\n",
      "3/3 [==============================] - 0s 15ms/step - loss: 7.7298 - val_loss: 6.5335\n",
      "Epoch 43/50\n",
      "3/3 [==============================] - 0s 15ms/step - loss: 7.7164 - val_loss: 6.5714\n",
      "Epoch 44/50\n",
      "3/3 [==============================] - 0s 13ms/step - loss: 7.7037 - val_loss: 6.5732\n",
      "Epoch 45/50\n",
      "3/3 [==============================] - 0s 21ms/step - loss: 7.6922 - val_loss: 6.5559\n",
      "Epoch 46/50\n",
      "3/3 [==============================] - 0s 16ms/step - loss: 7.6791 - val_loss: 6.5090\n",
      "Epoch 47/50\n",
      "3/3 [==============================] - 0s 23ms/step - loss: 7.6707 - val_loss: 6.4835\n",
      "Epoch 48/50\n",
      "3/3 [==============================] - 0s 14ms/step - loss: 7.6607 - val_loss: 6.5616\n",
      "Epoch 49/50\n",
      "3/3 [==============================] - 0s 14ms/step - loss: 7.6509 - val_loss: 6.5820\n",
      "Epoch 50/50\n",
      "3/3 [==============================] - 0s 13ms/step - loss: 7.6418 - val_loss: 6.5273\n",
      "============== EVALUATION ==============\n"
     ]
    },
    {
     "name": "stderr",
     "output_type": "stream",
     "text": [
      "C:\\Users\\Baejs\\anaconda3\\envs\\bae\\lib\\site-packages\\keras\\src\\engine\\training.py:3000: UserWarning: You are saving your model as an HDF5 file via `model.save()`. This file format is considered legacy. We recommend using instead the native Keras format, e.g. `model.save('my_model.keras')`.\n",
      "  saving_api.save_model(\n",
      "  0%|                                                                                           | 0/10 [00:00<?, ?it/s]"
     ]
    },
    {
     "name": "stdout",
     "output_type": "stream",
     "text": [
      "10/10 [==============================] - 0s 1ms/step\n"
     ]
    },
    {
     "name": "stderr",
     "output_type": "stream",
     "text": [
      " 10%|████████▎                                                                          | 1/10 [00:00<00:01,  8.64it/s]"
     ]
    },
    {
     "name": "stdout",
     "output_type": "stream",
     "text": [
      "10/10 [==============================] - 0s 886us/step\n",
      "10/10 [==============================] - 0s 997us/step\n"
     ]
    },
    {
     "name": "stderr",
     "output_type": "stream",
     "text": [
      " 30%|████████████████████████▉                                                          | 3/10 [00:00<00:00, 11.76it/s]"
     ]
    },
    {
     "name": "stdout",
     "output_type": "stream",
     "text": [
      "10/10 [==============================] - 0s 1ms/step\n",
      "10/10 [==============================] - 0s 1ms/step\n"
     ]
    },
    {
     "name": "stderr",
     "output_type": "stream",
     "text": [
      " 50%|█████████████████████████████████████████▌                                         | 5/10 [00:00<00:00, 12.64it/s]"
     ]
    },
    {
     "name": "stdout",
     "output_type": "stream",
     "text": [
      "10/10 [==============================] - 0s 1ms/step\n",
      "10/10 [==============================] - 0s 1ms/step\n"
     ]
    },
    {
     "name": "stderr",
     "output_type": "stream",
     "text": [
      " 70%|██████████████████████████████████████████████████████████                         | 7/10 [00:00<00:00, 13.16it/s]"
     ]
    },
    {
     "name": "stdout",
     "output_type": "stream",
     "text": [
      "10/10 [==============================] - 0s 1ms/step\n",
      "10/10 [==============================] - 0s 1ms/step\n"
     ]
    },
    {
     "name": "stderr",
     "output_type": "stream",
     "text": [
      " 90%|██████████████████████████████████████████████████████████████████████████▋        | 9/10 [00:00<00:00, 13.43it/s]"
     ]
    },
    {
     "name": "stdout",
     "output_type": "stream",
     "text": [
      "10/10 [==============================] - 0s 1ms/step\n"
     ]
    },
    {
     "name": "stderr",
     "output_type": "stream",
     "text": [
      "100%|██████████████████████████████████████████████████████████████████████████████████| 10/10 [00:00<00:00, 12.86it/s]\n",
      "2023-08-26 00:52:44,990 - INFO - AUC : 0.7200000000000001\n",
      "2023-08-26 00:52:44,991 - INFO - target_dir : ../Sample_data\n",
      "2023-08-26 00:52:44,993 - INFO - train_file num : 5\n",
      "2023-08-26 00:52:44,994 - INFO - eval_file  num : 10\n"
     ]
    },
    {
     "name": "stdout",
     "output_type": "stream",
     "text": [
      "===========================\n",
      "\n",
      "===========================\n"
     ]
    },
    {
     "name": "stderr",
     "output_type": "stream",
     "text": [
      "generate train_dataset: 100%|████████████████████████████████████████████████████████████| 5/5 [00:00<00:00, 82.19it/s]\n",
      "2023-08-26 00:52:45,058 - INFO - save_pickle -> ./pickle_transfer_pretrain_v1/train_fan_id_06.pickle\n",
      "2023-08-26 00:52:45,063 - INFO - save_pickle -> ./pickle_transfer_pretrain_v1/eval_files_fan_id_06.pickle\n",
      "2023-08-26 00:52:45,065 - INFO - save_pickle -> ./pickle_transfer_pretrain_v1/eval_labels_fan_id_06.pickle\n"
     ]
    },
    {
     "name": "stdout",
     "output_type": "stream",
     "text": [
      "\n",
      "===========================\n",
      "Epoch 1/50\n",
      "3/3 [==============================] - 1s 59ms/step - loss: 12.9508 - val_loss: 13.4063\n",
      "Epoch 2/50\n",
      "3/3 [==============================] - 0s 15ms/step - loss: 11.4025 - val_loss: 7.9110\n",
      "Epoch 3/50\n",
      "3/3 [==============================] - 0s 15ms/step - loss: 9.7662 - val_loss: 8.2568\n",
      "Epoch 4/50\n",
      "3/3 [==============================] - 0s 14ms/step - loss: 8.3328 - val_loss: 8.4021\n",
      "Epoch 5/50\n",
      "3/3 [==============================] - 0s 15ms/step - loss: 8.5434 - val_loss: 7.4873\n",
      "Epoch 6/50\n",
      "3/3 [==============================] - 0s 14ms/step - loss: 7.4356 - val_loss: 7.5431\n",
      "Epoch 7/50\n",
      "3/3 [==============================] - 0s 15ms/step - loss: 7.7436 - val_loss: 6.9738\n",
      "Epoch 8/50\n",
      "3/3 [==============================] - 0s 15ms/step - loss: 7.2755 - val_loss: 7.0346\n",
      "Epoch 9/50\n",
      "3/3 [==============================] - 0s 14ms/step - loss: 7.3659 - val_loss: 6.7336\n",
      "Epoch 10/50\n",
      "3/3 [==============================] - 0s 14ms/step - loss: 7.0928 - val_loss: 6.9155\n",
      "Epoch 11/50\n",
      "3/3 [==============================] - 0s 14ms/step - loss: 7.1356 - val_loss: 6.7928\n",
      "Epoch 12/50\n",
      "3/3 [==============================] - 0s 15ms/step - loss: 7.0217 - val_loss: 6.7712\n",
      "Epoch 13/50\n",
      "3/3 [==============================] - 0s 14ms/step - loss: 7.0138 - val_loss: 6.7281\n",
      "Epoch 14/50\n",
      "3/3 [==============================] - 0s 14ms/step - loss: 6.9582 - val_loss: 6.7419\n",
      "Epoch 15/50\n",
      "3/3 [==============================] - 0s 14ms/step - loss: 6.9384 - val_loss: 6.6531\n",
      "Epoch 16/50\n",
      "3/3 [==============================] - 0s 14ms/step - loss: 6.9181 - val_loss: 6.6505\n",
      "Epoch 17/50\n",
      "3/3 [==============================] - 0s 15ms/step - loss: 6.9003 - val_loss: 6.6863\n",
      "Epoch 18/50\n",
      "3/3 [==============================] - 0s 14ms/step - loss: 6.8881 - val_loss: 6.6127\n",
      "Epoch 19/50\n",
      "3/3 [==============================] - 0s 21ms/step - loss: 6.8739 - val_loss: 6.6376\n",
      "Epoch 20/50\n",
      "3/3 [==============================] - 0s 13ms/step - loss: 6.8660 - val_loss: 6.6857\n",
      "Epoch 21/50\n",
      "3/3 [==============================] - 0s 14ms/step - loss: 6.8562 - val_loss: 6.7234\n",
      "Epoch 22/50\n",
      "3/3 [==============================] - 0s 14ms/step - loss: 6.8480 - val_loss: 6.6810\n",
      "Epoch 23/50\n",
      "3/3 [==============================] - 0s 15ms/step - loss: 6.8413 - val_loss: 6.5970\n",
      "Epoch 24/50\n",
      "3/3 [==============================] - 0s 15ms/step - loss: 6.8346 - val_loss: 6.5637\n",
      "Epoch 25/50\n",
      "3/3 [==============================] - 0s 14ms/step - loss: 6.8282 - val_loss: 6.5991\n",
      "Epoch 26/50\n",
      "3/3 [==============================] - 0s 16ms/step - loss: 6.8216 - val_loss: 6.6689\n",
      "Epoch 27/50\n",
      "3/3 [==============================] - 0s 15ms/step - loss: 6.8172 - val_loss: 6.6671\n",
      "Epoch 28/50\n",
      "3/3 [==============================] - 0s 14ms/step - loss: 6.8106 - val_loss: 6.6214\n",
      "Epoch 29/50\n",
      "3/3 [==============================] - 0s 14ms/step - loss: 6.8059 - val_loss: 6.5923\n",
      "Epoch 30/50\n",
      "3/3 [==============================] - 0s 14ms/step - loss: 6.7994 - val_loss: 6.6337\n",
      "Epoch 31/50\n",
      "3/3 [==============================] - 0s 13ms/step - loss: 6.7923 - val_loss: 6.6082\n",
      "Epoch 32/50\n",
      "3/3 [==============================] - 0s 14ms/step - loss: 6.7869 - val_loss: 6.6452\n",
      "Epoch 33/50\n",
      "3/3 [==============================] - 0s 14ms/step - loss: 6.7808 - val_loss: 6.6220\n",
      "Epoch 34/50\n",
      "3/3 [==============================] - 0s 15ms/step - loss: 6.7733 - val_loss: 6.5636\n",
      "Epoch 35/50\n",
      "3/3 [==============================] - 0s 13ms/step - loss: 6.7681 - val_loss: 6.5722\n",
      "Epoch 36/50\n",
      "3/3 [==============================] - 0s 13ms/step - loss: 6.7620 - val_loss: 6.5718\n",
      "Epoch 37/50\n",
      "3/3 [==============================] - 0s 13ms/step - loss: 6.7566 - val_loss: 6.6543\n",
      "Epoch 38/50\n",
      "3/3 [==============================] - 0s 14ms/step - loss: 6.7506 - val_loss: 6.6282\n",
      "Epoch 39/50\n",
      "3/3 [==============================] - 0s 13ms/step - loss: 6.7440 - val_loss: 6.5935\n",
      "Epoch 40/50\n",
      "3/3 [==============================] - 0s 13ms/step - loss: 6.7389 - val_loss: 6.5868\n",
      "Epoch 41/50\n",
      "3/3 [==============================] - 0s 14ms/step - loss: 6.7320 - val_loss: 6.5993\n",
      "Epoch 42/50\n",
      "3/3 [==============================] - 0s 14ms/step - loss: 6.7265 - val_loss: 6.5419\n",
      "Epoch 43/50\n",
      "3/3 [==============================] - 0s 14ms/step - loss: 6.7213 - val_loss: 6.6044\n",
      "Epoch 44/50\n",
      "3/3 [==============================] - 0s 13ms/step - loss: 6.7157 - val_loss: 6.6011\n",
      "Epoch 45/50\n",
      "3/3 [==============================] - 0s 13ms/step - loss: 6.7088 - val_loss: 6.5241\n",
      "Epoch 46/50\n",
      "3/3 [==============================] - 0s 14ms/step - loss: 6.7037 - val_loss: 6.5498\n",
      "Epoch 47/50\n",
      "3/3 [==============================] - 0s 13ms/step - loss: 6.6966 - val_loss: 6.5993\n",
      "Epoch 48/50\n",
      "3/3 [==============================] - 0s 14ms/step - loss: 6.6906 - val_loss: 6.6036\n",
      "Epoch 49/50\n",
      "3/3 [==============================] - 0s 13ms/step - loss: 6.6855 - val_loss: 6.6052\n",
      "Epoch 50/50\n",
      "3/3 [==============================] - 0s 15ms/step - loss: 6.6794 - val_loss: 6.5064\n",
      "============== EVALUATION ==============\n"
     ]
    },
    {
     "name": "stderr",
     "output_type": "stream",
     "text": [
      "C:\\Users\\Baejs\\anaconda3\\envs\\bae\\lib\\site-packages\\keras\\src\\engine\\training.py:3000: UserWarning: You are saving your model as an HDF5 file via `model.save()`. This file format is considered legacy. We recommend using instead the native Keras format, e.g. `model.save('my_model.keras')`.\n",
      "  saving_api.save_model(\n",
      "  0%|                                                                                           | 0/10 [00:00<?, ?it/s]"
     ]
    },
    {
     "name": "stdout",
     "output_type": "stream",
     "text": [
      "10/10 [==============================] - 0s 1ms/step\n"
     ]
    },
    {
     "name": "stderr",
     "output_type": "stream",
     "text": [
      " 10%|████████▎                                                                          | 1/10 [00:00<00:01,  8.87it/s]"
     ]
    },
    {
     "name": "stdout",
     "output_type": "stream",
     "text": [
      "10/10 [==============================] - 0s 1ms/step\n",
      "10/10 [==============================] - 0s 1ms/step\n"
     ]
    },
    {
     "name": "stderr",
     "output_type": "stream",
     "text": [
      " 30%|████████████████████████▉                                                          | 3/10 [00:00<00:00, 12.19it/s]"
     ]
    },
    {
     "name": "stdout",
     "output_type": "stream",
     "text": [
      "10/10 [==============================] - 0s 1ms/step\n",
      "10/10 [==============================] - 0s 1ms/step\n"
     ]
    },
    {
     "name": "stderr",
     "output_type": "stream",
     "text": [
      " 50%|█████████████████████████████████████████▌                                         | 5/10 [00:00<00:00, 12.80it/s]"
     ]
    },
    {
     "name": "stdout",
     "output_type": "stream",
     "text": [
      "10/10 [==============================] - 0s 1ms/step\n",
      "10/10 [==============================] - 0s 1ms/step\n"
     ]
    },
    {
     "name": "stderr",
     "output_type": "stream",
     "text": [
      " 70%|██████████████████████████████████████████████████████████                         | 7/10 [00:00<00:00, 12.68it/s]"
     ]
    },
    {
     "name": "stdout",
     "output_type": "stream",
     "text": [
      "10/10 [==============================] - 0s 1ms/step\n",
      "10/10 [==============================] - 0s 1ms/step\n"
     ]
    },
    {
     "name": "stderr",
     "output_type": "stream",
     "text": [
      " 90%|██████████████████████████████████████████████████████████████████████████▋        | 9/10 [00:00<00:00, 12.69it/s]"
     ]
    },
    {
     "name": "stdout",
     "output_type": "stream",
     "text": [
      "10/10 [==============================] - 0s 1ms/step\n"
     ]
    },
    {
     "name": "stderr",
     "output_type": "stream",
     "text": [
      "100%|██████████████████████████████████████████████████████████████████████████████████| 10/10 [00:00<00:00, 12.44it/s]\n",
      "2023-08-26 00:52:48,586 - INFO - AUC : 0.8\n"
     ]
    },
    {
     "name": "stdout",
     "output_type": "stream",
     "text": [
      "===========================\n",
      "\n",
      "===========================\n",
      "Epoch 1/50\n",
      "3/3 [==============================] - 1s 59ms/step - loss: 13.6359 - val_loss: 11.3809\n",
      "Epoch 2/50\n",
      "3/3 [==============================] - 0s 14ms/step - loss: 11.1285 - val_loss: 8.9697\n",
      "Epoch 3/50\n",
      "3/3 [==============================] - 0s 22ms/step - loss: 9.0756 - val_loss: 7.5111\n",
      "Epoch 4/50\n",
      "3/3 [==============================] - 0s 14ms/step - loss: 8.8316 - val_loss: 7.5181\n",
      "Epoch 5/50\n",
      "3/3 [==============================] - 0s 14ms/step - loss: 8.2883 - val_loss: 7.1866\n",
      "Epoch 6/50\n",
      "3/3 [==============================] - 0s 14ms/step - loss: 7.9059 - val_loss: 7.5777\n",
      "Epoch 7/50\n",
      "3/3 [==============================] - 0s 15ms/step - loss: 7.7520 - val_loss: 7.3958\n",
      "Epoch 8/50\n",
      "3/3 [==============================] - 0s 13ms/step - loss: 7.5296 - val_loss: 7.1261\n",
      "Epoch 9/50\n",
      "3/3 [==============================] - 0s 13ms/step - loss: 7.4239 - val_loss: 6.7467\n",
      "Epoch 10/50\n",
      "3/3 [==============================] - 0s 14ms/step - loss: 7.2712 - val_loss: 6.7752\n",
      "Epoch 11/50\n",
      "3/3 [==============================] - 0s 14ms/step - loss: 7.2476 - val_loss: 6.8260\n",
      "Epoch 12/50\n",
      "3/3 [==============================] - 0s 14ms/step - loss: 7.1699 - val_loss: 6.7426\n",
      "Epoch 13/50\n",
      "3/3 [==============================] - 0s 13ms/step - loss: 7.1544 - val_loss: 6.7705\n",
      "Epoch 14/50\n",
      "3/3 [==============================] - 0s 14ms/step - loss: 7.1143 - val_loss: 6.7903\n",
      "Epoch 15/50\n",
      "3/3 [==============================] - 0s 15ms/step - loss: 7.0948 - val_loss: 6.7199\n",
      "Epoch 16/50\n",
      "3/3 [==============================] - 0s 15ms/step - loss: 7.0790 - val_loss: 6.7236\n",
      "Epoch 17/50\n",
      "3/3 [==============================] - 0s 14ms/step - loss: 7.0662 - val_loss: 6.6879\n",
      "Epoch 18/50\n",
      "3/3 [==============================] - 0s 13ms/step - loss: 7.0495 - val_loss: 6.6894\n",
      "Epoch 19/50\n",
      "3/3 [==============================] - 0s 14ms/step - loss: 7.0386 - val_loss: 6.6875\n",
      "Epoch 20/50\n",
      "3/3 [==============================] - 0s 13ms/step - loss: 7.0291 - val_loss: 6.6400\n",
      "Epoch 21/50\n",
      "3/3 [==============================] - 0s 13ms/step - loss: 7.0177 - val_loss: 6.6472\n",
      "Epoch 22/50\n",
      "3/3 [==============================] - 0s 13ms/step - loss: 7.0100 - val_loss: 6.7100\n",
      "Epoch 23/50\n",
      "3/3 [==============================] - 0s 14ms/step - loss: 7.0023 - val_loss: 6.7134\n",
      "Epoch 24/50\n",
      "3/3 [==============================] - 0s 14ms/step - loss: 6.9938 - val_loss: 6.6730\n",
      "Epoch 25/50\n",
      "3/3 [==============================] - 0s 14ms/step - loss: 6.9863 - val_loss: 6.6491\n",
      "Epoch 26/50\n",
      "3/3 [==============================] - 0s 13ms/step - loss: 6.9819 - val_loss: 6.6981\n",
      "Epoch 27/50\n",
      "3/3 [==============================] - 0s 13ms/step - loss: 6.9773 - val_loss: 6.6583\n",
      "Epoch 28/50\n",
      "3/3 [==============================] - 0s 13ms/step - loss: 6.9684 - val_loss: 6.6691\n",
      "Epoch 29/50\n",
      "3/3 [==============================] - 0s 13ms/step - loss: 6.9616 - val_loss: 6.6207\n",
      "Epoch 30/50\n",
      "3/3 [==============================] - 0s 14ms/step - loss: 6.9554 - val_loss: 6.6194\n",
      "Epoch 31/50\n",
      "3/3 [==============================] - 0s 14ms/step - loss: 6.9455 - val_loss: 6.6469\n",
      "Epoch 32/50\n",
      "3/3 [==============================] - 0s 20ms/step - loss: 6.9368 - val_loss: 6.6194\n",
      "Epoch 33/50\n",
      "3/3 [==============================] - 0s 13ms/step - loss: 6.9265 - val_loss: 6.6472\n",
      "Epoch 34/50\n",
      "3/3 [==============================] - 0s 13ms/step - loss: 6.9185 - val_loss: 6.5963\n",
      "Epoch 35/50\n",
      "3/3 [==============================] - 0s 13ms/step - loss: 6.9127 - val_loss: 6.6005\n",
      "Epoch 36/50\n",
      "3/3 [==============================] - 0s 14ms/step - loss: 6.9001 - val_loss: 6.6067\n",
      "Epoch 37/50\n",
      "3/3 [==============================] - 0s 14ms/step - loss: 6.8915 - val_loss: 6.6347\n",
      "Epoch 38/50\n",
      "3/3 [==============================] - 0s 14ms/step - loss: 6.8826 - val_loss: 6.6174\n",
      "Epoch 39/50\n",
      "3/3 [==============================] - 0s 14ms/step - loss: 6.8735 - val_loss: 6.6538\n",
      "Epoch 40/50\n",
      "3/3 [==============================] - 0s 14ms/step - loss: 6.8700 - val_loss: 6.6317\n",
      "Epoch 41/50\n",
      "3/3 [==============================] - 0s 14ms/step - loss: 6.8638 - val_loss: 6.6396\n",
      "Epoch 42/50\n",
      "3/3 [==============================] - 0s 14ms/step - loss: 6.8550 - val_loss: 6.5574\n",
      "Epoch 43/50\n",
      "3/3 [==============================] - 0s 14ms/step - loss: 6.8463 - val_loss: 6.6263\n",
      "Epoch 44/50\n",
      "3/3 [==============================] - 0s 15ms/step - loss: 6.8362 - val_loss: 6.5610\n",
      "Epoch 45/50\n",
      "3/3 [==============================] - 0s 14ms/step - loss: 6.8266 - val_loss: 6.5798\n",
      "Epoch 46/50\n",
      "3/3 [==============================] - 0s 16ms/step - loss: 6.8167 - val_loss: 6.5438\n",
      "Epoch 47/50\n",
      "3/3 [==============================] - 0s 14ms/step - loss: 6.8039 - val_loss: 6.6291\n",
      "Epoch 48/50\n",
      "3/3 [==============================] - 0s 14ms/step - loss: 6.7914 - val_loss: 6.6264\n",
      "Epoch 49/50\n",
      "3/3 [==============================] - 0s 13ms/step - loss: 6.7876 - val_loss: 6.6546\n",
      "Epoch 50/50\n",
      "3/3 [==============================] - 0s 14ms/step - loss: 6.7812 - val_loss: 6.5875\n",
      "============== EVALUATION ==============\n"
     ]
    },
    {
     "name": "stderr",
     "output_type": "stream",
     "text": [
      "C:\\Users\\Baejs\\anaconda3\\envs\\bae\\lib\\site-packages\\keras\\src\\engine\\training.py:3000: UserWarning: You are saving your model as an HDF5 file via `model.save()`. This file format is considered legacy. We recommend using instead the native Keras format, e.g. `model.save('my_model.keras')`.\n",
      "  saving_api.save_model(\n",
      "  0%|                                                                                           | 0/10 [00:00<?, ?it/s]"
     ]
    },
    {
     "name": "stdout",
     "output_type": "stream",
     "text": [
      "10/10 [==============================] - 0s 1ms/step\n"
     ]
    },
    {
     "name": "stderr",
     "output_type": "stream",
     "text": [
      " 10%|████████▎                                                                          | 1/10 [00:00<00:01,  8.96it/s]"
     ]
    },
    {
     "name": "stdout",
     "output_type": "stream",
     "text": [
      "10/10 [==============================] - 0s 1ms/step\n",
      "10/10 [==============================] - 0s 1ms/step\n"
     ]
    },
    {
     "name": "stderr",
     "output_type": "stream",
     "text": [
      " 30%|████████████████████████▉                                                          | 3/10 [00:00<00:00, 12.12it/s]"
     ]
    },
    {
     "name": "stdout",
     "output_type": "stream",
     "text": [
      "10/10 [==============================] - 0s 1ms/step\n",
      "10/10 [==============================] - 0s 1ms/step\n"
     ]
    },
    {
     "name": "stderr",
     "output_type": "stream",
     "text": [
      " 50%|█████████████████████████████████████████▌                                         | 5/10 [00:00<00:00, 13.06it/s]"
     ]
    },
    {
     "name": "stdout",
     "output_type": "stream",
     "text": [
      "10/10 [==============================] - 0s 1ms/step\n",
      "10/10 [==============================] - 0s 1ms/step\n"
     ]
    },
    {
     "name": "stderr",
     "output_type": "stream",
     "text": [
      " 70%|██████████████████████████████████████████████████████████                         | 7/10 [00:00<00:00, 13.32it/s]"
     ]
    },
    {
     "name": "stdout",
     "output_type": "stream",
     "text": [
      "10/10 [==============================] - 0s 1ms/step\n",
      "10/10 [==============================] - 0s 1ms/step\n"
     ]
    },
    {
     "name": "stderr",
     "output_type": "stream",
     "text": [
      " 90%|██████████████████████████████████████████████████████████████████████████▋        | 9/10 [00:00<00:00, 13.52it/s]"
     ]
    },
    {
     "name": "stdout",
     "output_type": "stream",
     "text": [
      "10/10 [==============================] - 0s 2ms/step\n"
     ]
    },
    {
     "name": "stderr",
     "output_type": "stream",
     "text": [
      "100%|██████████████████████████████████████████████████████████████████████████████████| 10/10 [00:00<00:00, 13.09it/s]\n",
      "2023-08-26 00:52:52,023 - INFO - AUC : 0.8\n"
     ]
    },
    {
     "name": "stdout",
     "output_type": "stream",
     "text": [
      "===========================\n",
      "\n",
      "===========================\n",
      "Epoch 1/50\n",
      "3/3 [==============================] - 1s 59ms/step - loss: 19.0040 - val_loss: 19.2303\n",
      "Epoch 2/50\n",
      "3/3 [==============================] - 0s 15ms/step - loss: 19.2428 - val_loss: 6.7236\n",
      "Epoch 3/50\n",
      "3/3 [==============================] - 0s 15ms/step - loss: 11.2170 - val_loss: 11.8441\n",
      "Epoch 4/50\n",
      "3/3 [==============================] - 0s 16ms/step - loss: 10.7767 - val_loss: 8.4824\n",
      "Epoch 5/50\n",
      "3/3 [==============================] - 0s 16ms/step - loss: 10.5522 - val_loss: 9.4655\n",
      "Epoch 6/50\n",
      "3/3 [==============================] - 0s 21ms/step - loss: 9.0287 - val_loss: 7.6449\n",
      "Epoch 7/50\n",
      "3/3 [==============================] - 0s 14ms/step - loss: 8.6032 - val_loss: 8.3761\n",
      "Epoch 8/50\n",
      "3/3 [==============================] - 0s 14ms/step - loss: 8.0907 - val_loss: 7.2608\n",
      "Epoch 9/50\n",
      "3/3 [==============================] - 0s 14ms/step - loss: 8.0702 - val_loss: 7.4061\n",
      "Epoch 10/50\n",
      "3/3 [==============================] - 0s 14ms/step - loss: 7.7255 - val_loss: 6.6311\n",
      "Epoch 11/50\n",
      "3/3 [==============================] - 0s 14ms/step - loss: 7.5804 - val_loss: 6.8147\n",
      "Epoch 12/50\n",
      "3/3 [==============================] - 0s 14ms/step - loss: 7.5392 - val_loss: 6.6100\n",
      "Epoch 13/50\n",
      "3/3 [==============================] - 0s 14ms/step - loss: 7.3948 - val_loss: 6.9472\n",
      "Epoch 14/50\n",
      "3/3 [==============================] - 0s 14ms/step - loss: 7.4053 - val_loss: 6.7290\n",
      "Epoch 15/50\n",
      "3/3 [==============================] - 0s 14ms/step - loss: 7.2993 - val_loss: 6.7639\n",
      "Epoch 16/50\n",
      "3/3 [==============================] - 0s 14ms/step - loss: 7.3219 - val_loss: 6.6516\n",
      "Epoch 17/50\n",
      "3/3 [==============================] - 0s 14ms/step - loss: 7.2513 - val_loss: 6.6882\n",
      "Epoch 18/50\n",
      "3/3 [==============================] - 0s 14ms/step - loss: 7.2599 - val_loss: 6.5522\n",
      "Epoch 19/50\n",
      "3/3 [==============================] - 0s 14ms/step - loss: 7.2314 - val_loss: 6.5502\n",
      "Epoch 20/50\n",
      "3/3 [==============================] - 0s 15ms/step - loss: 7.2201 - val_loss: 6.6209\n",
      "Epoch 21/50\n",
      "3/3 [==============================] - 0s 15ms/step - loss: 7.2113 - val_loss: 6.7075\n",
      "Epoch 22/50\n",
      "3/3 [==============================] - 0s 14ms/step - loss: 7.1999 - val_loss: 6.6067\n",
      "Epoch 23/50\n",
      "3/3 [==============================] - 0s 14ms/step - loss: 7.1936 - val_loss: 6.5090\n",
      "Epoch 24/50\n",
      "3/3 [==============================] - 0s 14ms/step - loss: 7.1812 - val_loss: 6.5305\n",
      "Epoch 25/50\n",
      "3/3 [==============================] - 0s 14ms/step - loss: 7.1761 - val_loss: 6.5355\n",
      "Epoch 26/50\n",
      "3/3 [==============================] - 0s 14ms/step - loss: 7.1671 - val_loss: 6.5748\n",
      "Epoch 27/50\n",
      "3/3 [==============================] - 0s 13ms/step - loss: 7.1637 - val_loss: 6.5371\n",
      "Epoch 28/50\n",
      "3/3 [==============================] - 0s 14ms/step - loss: 7.1536 - val_loss: 6.5533\n",
      "Epoch 29/50\n",
      "3/3 [==============================] - 0s 14ms/step - loss: 7.1489 - val_loss: 6.4976\n",
      "Epoch 30/50\n",
      "3/3 [==============================] - 0s 14ms/step - loss: 7.1430 - val_loss: 6.4892\n",
      "Epoch 31/50\n",
      "3/3 [==============================] - 0s 14ms/step - loss: 7.1365 - val_loss: 6.4697\n",
      "Epoch 32/50\n",
      "3/3 [==============================] - 0s 14ms/step - loss: 7.1313 - val_loss: 6.4709\n",
      "Epoch 33/50\n",
      "3/3 [==============================] - 0s 15ms/step - loss: 7.1251 - val_loss: 6.4876\n",
      "Epoch 34/50\n",
      "3/3 [==============================] - 0s 16ms/step - loss: 7.1198 - val_loss: 6.4882\n",
      "Epoch 35/50\n",
      "3/3 [==============================] - 0s 16ms/step - loss: 7.1136 - val_loss: 6.4856\n",
      "Epoch 36/50\n",
      "3/3 [==============================] - 0s 14ms/step - loss: 7.1083 - val_loss: 6.4554\n",
      "Epoch 37/50\n",
      "3/3 [==============================] - 0s 14ms/step - loss: 7.1024 - val_loss: 6.4370\n",
      "Epoch 38/50\n",
      "3/3 [==============================] - 0s 14ms/step - loss: 7.0975 - val_loss: 6.4167\n",
      "Epoch 39/50\n",
      "3/3 [==============================] - 0s 18ms/step - loss: 7.0914 - val_loss: 6.4006\n",
      "Epoch 40/50\n",
      "3/3 [==============================] - 0s 13ms/step - loss: 7.0862 - val_loss: 6.4440\n",
      "Epoch 41/50\n",
      "3/3 [==============================] - 0s 14ms/step - loss: 7.0819 - val_loss: 6.4120\n",
      "Epoch 42/50\n",
      "3/3 [==============================] - 0s 14ms/step - loss: 7.0786 - val_loss: 6.4024\n",
      "Epoch 43/50\n",
      "3/3 [==============================] - 0s 14ms/step - loss: 7.0722 - val_loss: 6.3925\n",
      "Epoch 44/50\n",
      "3/3 [==============================] - 0s 14ms/step - loss: 7.0674 - val_loss: 6.3885\n",
      "Epoch 45/50\n",
      "3/3 [==============================] - 0s 14ms/step - loss: 7.0606 - val_loss: 6.3928\n",
      "Epoch 46/50\n",
      "3/3 [==============================] - 0s 14ms/step - loss: 7.0558 - val_loss: 6.3485\n",
      "Epoch 47/50\n",
      "3/3 [==============================] - 0s 14ms/step - loss: 7.0518 - val_loss: 6.3233\n",
      "Epoch 48/50\n",
      "3/3 [==============================] - 0s 14ms/step - loss: 7.0460 - val_loss: 6.3730\n",
      "Epoch 49/50\n",
      "3/3 [==============================] - 0s 13ms/step - loss: 7.0402 - val_loss: 6.3619\n",
      "Epoch 50/50\n",
      "3/3 [==============================] - 0s 13ms/step - loss: 7.0356 - val_loss: 6.2947\n",
      "============== EVALUATION ==============\n"
     ]
    },
    {
     "name": "stderr",
     "output_type": "stream",
     "text": [
      "C:\\Users\\Baejs\\anaconda3\\envs\\bae\\lib\\site-packages\\keras\\src\\engine\\training.py:3000: UserWarning: You are saving your model as an HDF5 file via `model.save()`. This file format is considered legacy. We recommend using instead the native Keras format, e.g. `model.save('my_model.keras')`.\n",
      "  saving_api.save_model(\n",
      "  0%|                                                                                           | 0/10 [00:00<?, ?it/s]"
     ]
    },
    {
     "name": "stdout",
     "output_type": "stream",
     "text": [
      "10/10 [==============================] - 0s 1ms/step\n"
     ]
    },
    {
     "name": "stderr",
     "output_type": "stream",
     "text": [
      " 10%|████████▎                                                                          | 1/10 [00:00<00:01,  8.89it/s]"
     ]
    },
    {
     "name": "stdout",
     "output_type": "stream",
     "text": [
      "10/10 [==============================] - 0s 988us/step\n",
      "10/10 [==============================] - 0s 1ms/step\n"
     ]
    },
    {
     "name": "stderr",
     "output_type": "stream",
     "text": [
      " 30%|████████████████████████▉                                                          | 3/10 [00:00<00:00, 12.29it/s]"
     ]
    },
    {
     "name": "stdout",
     "output_type": "stream",
     "text": [
      "10/10 [==============================] - 0s 1ms/step\n",
      "10/10 [==============================] - 0s 1ms/step\n"
     ]
    },
    {
     "name": "stderr",
     "output_type": "stream",
     "text": [
      " 50%|█████████████████████████████████████████▌                                         | 5/10 [00:00<00:00, 13.14it/s]"
     ]
    },
    {
     "name": "stdout",
     "output_type": "stream",
     "text": [
      "10/10 [==============================] - 0s 1ms/step\n",
      "10/10 [==============================] - 0s 1ms/step\n"
     ]
    },
    {
     "name": "stderr",
     "output_type": "stream",
     "text": [
      " 70%|██████████████████████████████████████████████████████████                         | 7/10 [00:00<00:00, 13.38it/s]"
     ]
    },
    {
     "name": "stdout",
     "output_type": "stream",
     "text": [
      "10/10 [==============================] - 0s 1ms/step\n",
      "10/10 [==============================] - 0s 997us/step\n"
     ]
    },
    {
     "name": "stderr",
     "output_type": "stream",
     "text": [
      " 90%|██████████████████████████████████████████████████████████████████████████▋        | 9/10 [00:00<00:00, 13.54it/s]"
     ]
    },
    {
     "name": "stdout",
     "output_type": "stream",
     "text": [
      "10/10 [==============================] - 0s 1ms/step\n"
     ]
    },
    {
     "name": "stderr",
     "output_type": "stream",
     "text": [
      "100%|██████████████████████████████████████████████████████████████████████████████████| 10/10 [00:00<00:00, 13.11it/s]\n",
      "2023-08-26 00:52:55,487 - INFO - AUC : 0.8400000000000001\n",
      "2023-08-26 00:52:55,488 - INFO - all results -> ./result_transfer_pretrain_v1/result_transfer_pretrain_v1.yaml\n",
      "2023-08-26 00:52:55,491 - INFO - target_dir : ../Sample_data\n",
      "2023-08-26 00:52:55,493 - INFO - train_file num : 5\n",
      "2023-08-26 00:52:55,494 - INFO - eval_file  num : 10\n"
     ]
    },
    {
     "name": "stdout",
     "output_type": "stream",
     "text": [
      "===========================\n",
      "===========================\n",
      "\n",
      "===========================\n"
     ]
    },
    {
     "name": "stderr",
     "output_type": "stream",
     "text": [
      "generate train_dataset: 100%|████████████████████████████████████████████████████████████| 5/5 [00:00<00:00, 78.34it/s]\n",
      "2023-08-26 00:52:55,565 - INFO - save_pickle -> ./pickle_transfer_pretrain_v1/train_valve_id_00.pickle\n",
      "2023-08-26 00:52:55,570 - INFO - save_pickle -> ./pickle_transfer_pretrain_v1/eval_files_valve_id_00.pickle\n",
      "2023-08-26 00:52:55,573 - INFO - save_pickle -> ./pickle_transfer_pretrain_v1/eval_labels_valve_id_00.pickle\n"
     ]
    },
    {
     "name": "stdout",
     "output_type": "stream",
     "text": [
      "\n",
      "===========================\n",
      "Epoch 1/50\n",
      "3/3 [==============================] - 1s 60ms/step - loss: 22.4182 - val_loss: 29.5494\n",
      "Epoch 2/50\n",
      "3/3 [==============================] - 0s 15ms/step - loss: 21.2774 - val_loss: 26.5768\n",
      "Epoch 3/50\n",
      "3/3 [==============================] - 0s 15ms/step - loss: 19.1437 - val_loss: 27.6170\n",
      "Epoch 4/50\n",
      "3/3 [==============================] - 0s 21ms/step - loss: 18.2214 - val_loss: 23.0649\n",
      "Epoch 5/50\n",
      "3/3 [==============================] - 0s 13ms/step - loss: 18.4111 - val_loss: 22.5249\n",
      "Epoch 6/50\n",
      "3/3 [==============================] - 0s 14ms/step - loss: 17.4541 - val_loss: 24.6134\n",
      "Epoch 7/50\n",
      "3/3 [==============================] - 0s 14ms/step - loss: 17.6884 - val_loss: 23.7022\n",
      "Epoch 8/50\n",
      "3/3 [==============================] - 0s 13ms/step - loss: 17.1329 - val_loss: 23.5106\n",
      "Epoch 9/50\n",
      "3/3 [==============================] - 0s 14ms/step - loss: 17.2308 - val_loss: 23.7730\n",
      "Epoch 10/50\n",
      "3/3 [==============================] - 0s 14ms/step - loss: 17.0484 - val_loss: 23.9232\n",
      "Epoch 11/50\n",
      "3/3 [==============================] - 0s 14ms/step - loss: 16.9851 - val_loss: 22.2936\n",
      "Epoch 12/50\n",
      "3/3 [==============================] - 0s 15ms/step - loss: 16.9572 - val_loss: 22.4022\n",
      "Epoch 13/50\n",
      "3/3 [==============================] - 0s 13ms/step - loss: 16.8299 - val_loss: 23.2214\n",
      "Epoch 14/50\n",
      "3/3 [==============================] - 0s 14ms/step - loss: 16.8176 - val_loss: 22.6920\n",
      "Epoch 15/50\n",
      "3/3 [==============================] - 0s 14ms/step - loss: 16.7476 - val_loss: 22.5394\n",
      "Epoch 16/50\n",
      "3/3 [==============================] - 0s 13ms/step - loss: 16.7020 - val_loss: 22.7610\n",
      "Epoch 17/50\n",
      "3/3 [==============================] - 0s 14ms/step - loss: 16.6713 - val_loss: 22.0132\n",
      "Epoch 18/50\n",
      "3/3 [==============================] - 0s 14ms/step - loss: 16.6310 - val_loss: 21.8086\n",
      "Epoch 19/50\n",
      "3/3 [==============================] - 0s 14ms/step - loss: 16.5816 - val_loss: 22.2328\n",
      "Epoch 20/50\n",
      "3/3 [==============================] - 0s 13ms/step - loss: 16.5431 - val_loss: 22.0783\n",
      "Epoch 21/50\n",
      "3/3 [==============================] - 0s 14ms/step - loss: 16.5043 - val_loss: 21.6563\n",
      "Epoch 22/50\n",
      "3/3 [==============================] - 0s 14ms/step - loss: 16.4676 - val_loss: 21.2070\n",
      "Epoch 23/50\n",
      "3/3 [==============================] - 0s 14ms/step - loss: 16.4411 - val_loss: 20.9661\n",
      "Epoch 24/50\n",
      "3/3 [==============================] - 0s 14ms/step - loss: 16.4146 - val_loss: 21.3355\n",
      "Epoch 25/50\n",
      "3/3 [==============================] - 0s 15ms/step - loss: 16.3945 - val_loss: 21.1282\n",
      "Epoch 26/50\n",
      "3/3 [==============================] - 0s 16ms/step - loss: 16.3665 - val_loss: 21.0598\n",
      "Epoch 27/50\n",
      "3/3 [==============================] - 0s 14ms/step - loss: 16.3479 - val_loss: 20.6788\n",
      "Epoch 28/50\n",
      "3/3 [==============================] - 0s 14ms/step - loss: 16.3219 - val_loss: 20.7484\n",
      "Epoch 29/50\n",
      "3/3 [==============================] - 0s 13ms/step - loss: 16.2976 - val_loss: 20.5811\n",
      "Epoch 30/50\n",
      "3/3 [==============================] - 0s 14ms/step - loss: 16.2769 - val_loss: 20.4057\n",
      "Epoch 31/50\n",
      "3/3 [==============================] - 0s 13ms/step - loss: 16.2571 - val_loss: 20.2037\n",
      "Epoch 32/50\n",
      "3/3 [==============================] - 0s 14ms/step - loss: 16.2347 - val_loss: 19.9566\n",
      "Epoch 33/50\n",
      "3/3 [==============================] - 0s 14ms/step - loss: 16.2193 - val_loss: 20.0489\n",
      "Epoch 34/50\n",
      "3/3 [==============================] - 0s 14ms/step - loss: 16.2007 - val_loss: 20.1841\n",
      "Epoch 35/50\n",
      "3/3 [==============================] - 0s 14ms/step - loss: 16.1844 - val_loss: 19.8798\n",
      "Epoch 36/50\n",
      "3/3 [==============================] - 0s 15ms/step - loss: 16.1538 - val_loss: 19.3076\n",
      "Epoch 37/50\n",
      "3/3 [==============================] - 0s 14ms/step - loss: 16.1354 - val_loss: 19.3020\n",
      "Epoch 38/50\n",
      "3/3 [==============================] - 0s 15ms/step - loss: 16.1071 - val_loss: 19.5344\n",
      "Epoch 39/50\n",
      "3/3 [==============================] - 0s 15ms/step - loss: 16.0768 - val_loss: 19.2541\n",
      "Epoch 40/50\n",
      "3/3 [==============================] - 0s 14ms/step - loss: 16.0506 - val_loss: 18.9545\n",
      "Epoch 41/50\n",
      "3/3 [==============================] - 0s 14ms/step - loss: 16.0311 - val_loss: 18.7895\n",
      "Epoch 42/50\n",
      "3/3 [==============================] - 0s 14ms/step - loss: 15.9896 - val_loss: 19.1871\n",
      "Epoch 43/50\n",
      "3/3 [==============================] - 0s 15ms/step - loss: 15.9655 - val_loss: 19.0032\n",
      "Epoch 44/50\n",
      "3/3 [==============================] - 0s 14ms/step - loss: 15.9327 - val_loss: 18.7074\n",
      "Epoch 45/50\n",
      "3/3 [==============================] - 0s 14ms/step - loss: 15.9009 - val_loss: 18.5002\n",
      "Epoch 46/50\n",
      "3/3 [==============================] - 0s 23ms/step - loss: 15.8667 - val_loss: 18.5663\n",
      "Epoch 47/50\n",
      "3/3 [==============================] - 0s 14ms/step - loss: 15.8287 - val_loss: 18.3971\n",
      "Epoch 48/50\n",
      "3/3 [==============================] - 0s 16ms/step - loss: 15.7901 - val_loss: 18.4657\n",
      "Epoch 49/50\n",
      "3/3 [==============================] - 0s 14ms/step - loss: 15.7514 - val_loss: 18.2719\n",
      "Epoch 50/50\n",
      "3/3 [==============================] - 0s 13ms/step - loss: 15.7091 - val_loss: 17.9632\n"
     ]
    },
    {
     "name": "stderr",
     "output_type": "stream",
     "text": [
      "C:\\Users\\Baejs\\anaconda3\\envs\\bae\\lib\\site-packages\\keras\\src\\engine\\training.py:3000: UserWarning: You are saving your model as an HDF5 file via `model.save()`. This file format is considered legacy. We recommend using instead the native Keras format, e.g. `model.save('my_model.keras')`.\n",
      "  saving_api.save_model(\n"
     ]
    },
    {
     "name": "stdout",
     "output_type": "stream",
     "text": [
      "============== EVALUATION ==============\n"
     ]
    },
    {
     "name": "stderr",
     "output_type": "stream",
     "text": [
      "  0%|                                                                                           | 0/10 [00:00<?, ?it/s]"
     ]
    },
    {
     "name": "stdout",
     "output_type": "stream",
     "text": [
      "10/10 [==============================] - 0s 1ms/step\n"
     ]
    },
    {
     "name": "stderr",
     "output_type": "stream",
     "text": [
      " 10%|████████▎                                                                          | 1/10 [00:00<00:01,  8.61it/s]"
     ]
    },
    {
     "name": "stdout",
     "output_type": "stream",
     "text": [
      "10/10 [==============================] - 0s 1ms/step\n",
      "10/10 [==============================] - 0s 1ms/step\n"
     ]
    },
    {
     "name": "stderr",
     "output_type": "stream",
     "text": [
      " 30%|████████████████████████▉                                                          | 3/10 [00:00<00:00, 11.80it/s]"
     ]
    },
    {
     "name": "stdout",
     "output_type": "stream",
     "text": [
      "10/10 [==============================] - 0s 2ms/step\n",
      "10/10 [==============================] - 0s 1ms/step\n"
     ]
    },
    {
     "name": "stderr",
     "output_type": "stream",
     "text": [
      " 50%|█████████████████████████████████████████▌                                         | 5/10 [00:00<00:00, 12.71it/s]"
     ]
    },
    {
     "name": "stdout",
     "output_type": "stream",
     "text": [
      "10/10 [==============================] - 0s 1ms/step\n",
      "10/10 [==============================] - 0s 2ms/step\n"
     ]
    },
    {
     "name": "stderr",
     "output_type": "stream",
     "text": [
      " 70%|██████████████████████████████████████████████████████████                         | 7/10 [00:00<00:00, 12.23it/s]"
     ]
    },
    {
     "name": "stdout",
     "output_type": "stream",
     "text": [
      "10/10 [==============================] - 0s 1ms/step\n",
      "10/10 [==============================] - 0s 1ms/step\n"
     ]
    },
    {
     "name": "stderr",
     "output_type": "stream",
     "text": [
      " 90%|██████████████████████████████████████████████████████████████████████████▋        | 9/10 [00:00<00:00, 12.37it/s]"
     ]
    },
    {
     "name": "stdout",
     "output_type": "stream",
     "text": [
      "10/10 [==============================] - 0s 2ms/step\n"
     ]
    },
    {
     "name": "stderr",
     "output_type": "stream",
     "text": [
      "100%|██████████████████████████████████████████████████████████████████████████████████| 10/10 [00:00<00:00, 12.06it/s]\n",
      "2023-08-26 00:52:59,522 - INFO - AUC : 0.4800000000000001\n"
     ]
    },
    {
     "name": "stdout",
     "output_type": "stream",
     "text": [
      "===========================\n",
      "\n",
      "===========================\n",
      "Epoch 1/50\n",
      "3/3 [==============================] - 1s 63ms/step - loss: 20.9582 - val_loss: 29.9998\n",
      "Epoch 2/50\n",
      "3/3 [==============================] - 0s 15ms/step - loss: 20.0305 - val_loss: 25.1011\n",
      "Epoch 3/50\n",
      "3/3 [==============================] - 0s 15ms/step - loss: 17.8802 - val_loss: 26.2205\n",
      "Epoch 4/50\n",
      "3/3 [==============================] - 0s 15ms/step - loss: 17.0388 - val_loss: 25.8179\n",
      "Epoch 5/50\n",
      "3/3 [==============================] - 0s 15ms/step - loss: 16.8850 - val_loss: 25.9268\n",
      "Epoch 6/50\n",
      "3/3 [==============================] - 0s 15ms/step - loss: 16.3755 - val_loss: 23.5497\n",
      "Epoch 7/50\n",
      "3/3 [==============================] - 0s 17ms/step - loss: 16.1066 - val_loss: 23.5991\n",
      "Epoch 8/50\n",
      "3/3 [==============================] - 0s 18ms/step - loss: 15.6856 - val_loss: 23.9799\n",
      "Epoch 9/50\n",
      "3/3 [==============================] - 0s 14ms/step - loss: 15.4868 - val_loss: 24.1766\n",
      "Epoch 10/50\n",
      "3/3 [==============================] - 0s 14ms/step - loss: 15.1828 - val_loss: 24.1175\n",
      "Epoch 11/50\n",
      "3/3 [==============================] - 0s 14ms/step - loss: 15.1440 - val_loss: 23.5880\n",
      "Epoch 12/50\n",
      "3/3 [==============================] - 0s 15ms/step - loss: 14.9982 - val_loss: 23.4406\n",
      "Epoch 13/50\n",
      "3/3 [==============================] - 0s 15ms/step - loss: 14.8420 - val_loss: 22.8742\n",
      "Epoch 14/50\n",
      "3/3 [==============================] - 0s 14ms/step - loss: 14.7250 - val_loss: 23.2488\n",
      "Epoch 15/50\n",
      "3/3 [==============================] - 0s 15ms/step - loss: 14.6392 - val_loss: 22.7765\n",
      "Epoch 16/50\n",
      "3/3 [==============================] - 0s 15ms/step - loss: 14.5483 - val_loss: 22.8718\n",
      "Epoch 17/50\n",
      "3/3 [==============================] - 0s 15ms/step - loss: 14.4379 - val_loss: 22.3571\n",
      "Epoch 18/50\n",
      "3/3 [==============================] - 0s 15ms/step - loss: 14.3415 - val_loss: 22.3594\n",
      "Epoch 19/50\n",
      "3/3 [==============================] - 0s 15ms/step - loss: 14.2434 - val_loss: 21.9708\n",
      "Epoch 20/50\n",
      "3/3 [==============================] - 0s 16ms/step - loss: 14.1562 - val_loss: 21.7470\n",
      "Epoch 21/50\n",
      "3/3 [==============================] - 0s 15ms/step - loss: 14.0649 - val_loss: 21.7980\n",
      "Epoch 22/50\n",
      "3/3 [==============================] - 0s 20ms/step - loss: 13.9843 - val_loss: 21.7823\n",
      "Epoch 23/50\n",
      "3/3 [==============================] - 0s 15ms/step - loss: 13.9006 - val_loss: 21.4284\n",
      "Epoch 24/50\n",
      "3/3 [==============================] - 0s 15ms/step - loss: 13.8248 - val_loss: 21.0818\n",
      "Epoch 25/50\n",
      "3/3 [==============================] - 0s 14ms/step - loss: 13.7495 - val_loss: 20.7448\n",
      "Epoch 26/50\n",
      "3/3 [==============================] - 0s 13ms/step - loss: 13.6772 - val_loss: 20.7880\n",
      "Epoch 27/50\n",
      "3/3 [==============================] - 0s 13ms/step - loss: 13.6066 - val_loss: 20.7013\n",
      "Epoch 28/50\n",
      "3/3 [==============================] - 0s 13ms/step - loss: 13.5451 - val_loss: 20.3713\n",
      "Epoch 29/50\n",
      "3/3 [==============================] - 0s 13ms/step - loss: 13.4876 - val_loss: 20.1414\n",
      "Epoch 30/50\n",
      "3/3 [==============================] - 0s 14ms/step - loss: 13.4309 - val_loss: 19.9455\n",
      "Epoch 31/50\n",
      "3/3 [==============================] - 0s 14ms/step - loss: 13.3757 - val_loss: 19.8930\n",
      "Epoch 32/50\n",
      "3/3 [==============================] - 0s 14ms/step - loss: 13.3190 - val_loss: 19.5219\n",
      "Epoch 33/50\n",
      "3/3 [==============================] - 0s 14ms/step - loss: 13.2728 - val_loss: 19.2306\n",
      "Epoch 34/50\n",
      "3/3 [==============================] - 0s 14ms/step - loss: 13.2239 - val_loss: 19.0425\n",
      "Epoch 35/50\n",
      "3/3 [==============================] - 0s 14ms/step - loss: 13.1782 - val_loss: 19.0230\n",
      "Epoch 36/50\n",
      "3/3 [==============================] - 0s 14ms/step - loss: 13.1347 - val_loss: 18.8208\n",
      "Epoch 37/50\n",
      "3/3 [==============================] - 0s 14ms/step - loss: 13.0928 - val_loss: 18.4865\n",
      "Epoch 38/50\n",
      "3/3 [==============================] - 0s 14ms/step - loss: 13.0528 - val_loss: 18.2819\n",
      "Epoch 39/50\n",
      "3/3 [==============================] - 0s 14ms/step - loss: 13.0136 - val_loss: 18.0547\n",
      "Epoch 40/50\n",
      "3/3 [==============================] - 0s 15ms/step - loss: 12.9793 - val_loss: 17.9541\n",
      "Epoch 41/50\n",
      "3/3 [==============================] - 0s 14ms/step - loss: 12.9309 - val_loss: 17.8264\n",
      "Epoch 42/50\n",
      "3/3 [==============================] - 0s 14ms/step - loss: 12.8890 - val_loss: 17.4853\n",
      "Epoch 43/50\n",
      "3/3 [==============================] - 0s 14ms/step - loss: 12.8448 - val_loss: 17.2444\n",
      "Epoch 44/50\n",
      "3/3 [==============================] - 0s 13ms/step - loss: 12.8094 - val_loss: 17.1734\n",
      "Epoch 45/50\n",
      "3/3 [==============================] - 0s 13ms/step - loss: 12.7711 - val_loss: 16.8038\n",
      "Epoch 46/50\n",
      "3/3 [==============================] - 0s 14ms/step - loss: 12.7376 - val_loss: 16.6377\n",
      "Epoch 47/50\n",
      "3/3 [==============================] - 0s 15ms/step - loss: 12.6948 - val_loss: 16.5894\n",
      "Epoch 48/50\n",
      "3/3 [==============================] - 0s 14ms/step - loss: 12.6497 - val_loss: 16.5100\n",
      "Epoch 49/50\n",
      "3/3 [==============================] - 0s 14ms/step - loss: 12.6056 - val_loss: 16.2891\n",
      "Epoch 50/50\n",
      "3/3 [==============================] - 0s 14ms/step - loss: 12.5542 - val_loss: 15.9392\n",
      "============== EVALUATION ==============\n"
     ]
    },
    {
     "name": "stderr",
     "output_type": "stream",
     "text": [
      "C:\\Users\\Baejs\\anaconda3\\envs\\bae\\lib\\site-packages\\keras\\src\\engine\\training.py:3000: UserWarning: You are saving your model as an HDF5 file via `model.save()`. This file format is considered legacy. We recommend using instead the native Keras format, e.g. `model.save('my_model.keras')`.\n",
      "  saving_api.save_model(\n",
      "  0%|                                                                                           | 0/10 [00:00<?, ?it/s]"
     ]
    },
    {
     "name": "stdout",
     "output_type": "stream",
     "text": [
      "10/10 [==============================] - 0s 1ms/step\n"
     ]
    },
    {
     "name": "stderr",
     "output_type": "stream",
     "text": [
      " 10%|████████▎                                                                          | 1/10 [00:00<00:01,  8.43it/s]"
     ]
    },
    {
     "name": "stdout",
     "output_type": "stream",
     "text": [
      "10/10 [==============================] - 0s 997us/step\n",
      "10/10 [==============================] - 0s 1ms/step\n"
     ]
    },
    {
     "name": "stderr",
     "output_type": "stream",
     "text": [
      " 30%|████████████████████████▉                                                          | 3/10 [00:00<00:00, 11.78it/s]"
     ]
    },
    {
     "name": "stdout",
     "output_type": "stream",
     "text": [
      "10/10 [==============================] - 0s 1ms/step\n",
      "10/10 [==============================] - 0s 1ms/step\n"
     ]
    },
    {
     "name": "stderr",
     "output_type": "stream",
     "text": [
      " 50%|█████████████████████████████████████████▌                                         | 5/10 [00:00<00:00, 12.72it/s]"
     ]
    },
    {
     "name": "stdout",
     "output_type": "stream",
     "text": [
      "10/10 [==============================] - 0s 3ms/step\n",
      "10/10 [==============================] - 0s 1ms/step\n"
     ]
    },
    {
     "name": "stderr",
     "output_type": "stream",
     "text": [
      " 70%|██████████████████████████████████████████████████████████                         | 7/10 [00:00<00:00, 12.68it/s]"
     ]
    },
    {
     "name": "stdout",
     "output_type": "stream",
     "text": [
      "10/10 [==============================] - 0s 1ms/step\n",
      "10/10 [==============================] - 0s 1ms/step\n"
     ]
    },
    {
     "name": "stderr",
     "output_type": "stream",
     "text": [
      " 90%|██████████████████████████████████████████████████████████████████████████▋        | 9/10 [00:00<00:00, 12.98it/s]"
     ]
    },
    {
     "name": "stdout",
     "output_type": "stream",
     "text": [
      "10/10 [==============================] - 0s 1ms/step\n"
     ]
    },
    {
     "name": "stderr",
     "output_type": "stream",
     "text": [
      "100%|██████████████████████████████████████████████████████████████████████████████████| 10/10 [00:00<00:00, 12.61it/s]\n",
      "2023-08-26 00:53:03,061 - INFO - AUC : 0.4800000000000001\n"
     ]
    },
    {
     "name": "stdout",
     "output_type": "stream",
     "text": [
      "===========================\n",
      "\n",
      "===========================\n",
      "Epoch 1/50\n",
      "3/3 [==============================] - 1s 61ms/step - loss: 21.1340 - val_loss: 32.8568\n",
      "Epoch 2/50\n",
      "3/3 [==============================] - 0s 15ms/step - loss: 21.0274 - val_loss: 28.4970\n",
      "Epoch 3/50\n",
      "3/3 [==============================] - 0s 15ms/step - loss: 18.9410 - val_loss: 28.0682\n",
      "Epoch 4/50\n",
      "3/3 [==============================] - 0s 16ms/step - loss: 17.6226 - val_loss: 26.4862\n",
      "Epoch 5/50\n",
      "3/3 [==============================] - 0s 16ms/step - loss: 18.0119 - val_loss: 25.8219\n",
      "Epoch 6/50\n",
      "3/3 [==============================] - 0s 16ms/step - loss: 17.0703 - val_loss: 27.4223\n",
      "Epoch 7/50\n",
      "3/3 [==============================] - 0s 15ms/step - loss: 17.3060 - val_loss: 26.6425\n",
      "Epoch 8/50\n",
      "3/3 [==============================] - 0s 14ms/step - loss: 16.8713 - val_loss: 26.5644\n",
      "Epoch 9/50\n",
      "3/3 [==============================] - 0s 14ms/step - loss: 16.8096 - val_loss: 26.4870\n",
      "Epoch 10/50\n",
      "3/3 [==============================] - 0s 14ms/step - loss: 16.6937 - val_loss: 26.2969\n",
      "Epoch 11/50\n",
      "3/3 [==============================] - 0s 15ms/step - loss: 16.5681 - val_loss: 25.6707\n",
      "Epoch 12/50\n",
      "3/3 [==============================] - 0s 15ms/step - loss: 16.5361 - val_loss: 25.7210\n",
      "Epoch 13/50\n",
      "3/3 [==============================] - 0s 15ms/step - loss: 16.4295 - val_loss: 26.0251\n",
      "Epoch 14/50\n",
      "3/3 [==============================] - 0s 14ms/step - loss: 16.3752 - val_loss: 25.8740\n",
      "Epoch 15/50\n",
      "3/3 [==============================] - 0s 15ms/step - loss: 16.3326 - val_loss: 25.6341\n",
      "Epoch 16/50\n",
      "3/3 [==============================] - 0s 15ms/step - loss: 16.2619 - val_loss: 25.6221\n",
      "Epoch 17/50\n",
      "3/3 [==============================] - 0s 15ms/step - loss: 16.2258 - val_loss: 26.0337\n",
      "Epoch 18/50\n",
      "3/3 [==============================] - 0s 15ms/step - loss: 16.1797 - val_loss: 25.7666\n",
      "Epoch 19/50\n",
      "3/3 [==============================] - 0s 14ms/step - loss: 16.1317 - val_loss: 25.3857\n",
      "Epoch 20/50\n",
      "3/3 [==============================] - 0s 14ms/step - loss: 16.0871 - val_loss: 25.7469\n",
      "Epoch 21/50\n",
      "3/3 [==============================] - 0s 14ms/step - loss: 16.0543 - val_loss: 25.8964\n",
      "Epoch 22/50\n",
      "3/3 [==============================] - 0s 14ms/step - loss: 16.0152 - val_loss: 25.4081\n",
      "Epoch 23/50\n",
      "3/3 [==============================] - 0s 14ms/step - loss: 15.9868 - val_loss: 25.4535\n",
      "Epoch 24/50\n",
      "3/3 [==============================] - 0s 15ms/step - loss: 15.9496 - val_loss: 25.3256\n",
      "Epoch 25/50\n",
      "3/3 [==============================] - 0s 16ms/step - loss: 15.9211 - val_loss: 25.1569\n",
      "Epoch 26/50\n",
      "3/3 [==============================] - 0s 14ms/step - loss: 15.8889 - val_loss: 25.4442\n",
      "Epoch 27/50\n",
      "3/3 [==============================] - 0s 14ms/step - loss: 15.8646 - val_loss: 25.3365\n",
      "Epoch 28/50\n",
      "3/3 [==============================] - 0s 13ms/step - loss: 15.8377 - val_loss: 25.2991\n",
      "Epoch 29/50\n",
      "3/3 [==============================] - 0s 13ms/step - loss: 15.8100 - val_loss: 25.3433\n",
      "Epoch 30/50\n",
      "3/3 [==============================] - 0s 13ms/step - loss: 15.7846 - val_loss: 25.2892\n",
      "Epoch 31/50\n",
      "3/3 [==============================] - 0s 20ms/step - loss: 15.7652 - val_loss: 25.0483\n",
      "Epoch 32/50\n",
      "3/3 [==============================] - 0s 14ms/step - loss: 15.7429 - val_loss: 25.0955\n",
      "Epoch 33/50\n",
      "3/3 [==============================] - 0s 14ms/step - loss: 15.7191 - val_loss: 24.7482\n",
      "Epoch 34/50\n",
      "3/3 [==============================] - 0s 14ms/step - loss: 15.6992 - val_loss: 25.0459\n",
      "Epoch 35/50\n",
      "3/3 [==============================] - 0s 15ms/step - loss: 15.6803 - val_loss: 24.9906\n",
      "Epoch 36/50\n",
      "3/3 [==============================] - 0s 14ms/step - loss: 15.6584 - val_loss: 24.8794\n",
      "Epoch 37/50\n",
      "3/3 [==============================] - 0s 14ms/step - loss: 15.6398 - val_loss: 24.7785\n",
      "Epoch 38/50\n",
      "3/3 [==============================] - 0s 16ms/step - loss: 15.6255 - val_loss: 24.6477\n",
      "Epoch 39/50\n",
      "3/3 [==============================] - 0s 17ms/step - loss: 15.6081 - val_loss: 24.5592\n",
      "Epoch 40/50\n",
      "3/3 [==============================] - 0s 14ms/step - loss: 15.5875 - val_loss: 24.6326\n",
      "Epoch 41/50\n",
      "3/3 [==============================] - 0s 14ms/step - loss: 15.5568 - val_loss: 24.8468\n",
      "Epoch 42/50\n",
      "3/3 [==============================] - 0s 14ms/step - loss: 15.5415 - val_loss: 24.6477\n",
      "Epoch 43/50\n",
      "3/3 [==============================] - 0s 14ms/step - loss: 15.5169 - val_loss: 24.4544\n",
      "Epoch 44/50\n",
      "3/3 [==============================] - 0s 14ms/step - loss: 15.4984 - val_loss: 24.4719\n",
      "Epoch 45/50\n",
      "3/3 [==============================] - 0s 14ms/step - loss: 15.4776 - val_loss: 24.4396\n",
      "Epoch 46/50\n",
      "3/3 [==============================] - 0s 14ms/step - loss: 15.4580 - val_loss: 24.2827\n",
      "Epoch 47/50\n",
      "3/3 [==============================] - 0s 14ms/step - loss: 15.4371 - val_loss: 24.2939\n",
      "Epoch 48/50\n",
      "3/3 [==============================] - 0s 14ms/step - loss: 15.4274 - val_loss: 24.0352\n",
      "Epoch 49/50\n",
      "3/3 [==============================] - 0s 14ms/step - loss: 15.4001 - val_loss: 24.1015\n",
      "Epoch 50/50\n",
      "3/3 [==============================] - 0s 13ms/step - loss: 15.3784 - val_loss: 23.7947\n",
      "============== EVALUATION ==============\n"
     ]
    },
    {
     "name": "stderr",
     "output_type": "stream",
     "text": [
      "C:\\Users\\Baejs\\anaconda3\\envs\\bae\\lib\\site-packages\\keras\\src\\engine\\training.py:3000: UserWarning: You are saving your model as an HDF5 file via `model.save()`. This file format is considered legacy. We recommend using instead the native Keras format, e.g. `model.save('my_model.keras')`.\n",
      "  saving_api.save_model(\n",
      "  0%|                                                                                           | 0/10 [00:00<?, ?it/s]"
     ]
    },
    {
     "name": "stdout",
     "output_type": "stream",
     "text": [
      "10/10 [==============================] - 0s 2ms/step\n"
     ]
    },
    {
     "name": "stderr",
     "output_type": "stream",
     "text": [
      " 10%|████████▎                                                                          | 1/10 [00:00<00:01,  8.59it/s]"
     ]
    },
    {
     "name": "stdout",
     "output_type": "stream",
     "text": [
      "10/10 [==============================] - 0s 1ms/step\n",
      "10/10 [==============================] - 0s 1ms/step\n"
     ]
    },
    {
     "name": "stderr",
     "output_type": "stream",
     "text": [
      " 30%|████████████████████████▉                                                          | 3/10 [00:00<00:00, 11.98it/s]"
     ]
    },
    {
     "name": "stdout",
     "output_type": "stream",
     "text": [
      "10/10 [==============================] - 0s 1ms/step\n",
      "10/10 [==============================] - 0s 1ms/step\n"
     ]
    },
    {
     "name": "stderr",
     "output_type": "stream",
     "text": [
      " 50%|█████████████████████████████████████████▌                                         | 5/10 [00:00<00:00, 12.68it/s]"
     ]
    },
    {
     "name": "stdout",
     "output_type": "stream",
     "text": [
      "10/10 [==============================] - 0s 1ms/step\n",
      "10/10 [==============================] - 0s 1ms/step\n"
     ]
    },
    {
     "name": "stderr",
     "output_type": "stream",
     "text": [
      " 70%|██████████████████████████████████████████████████████████                         | 7/10 [00:00<00:00, 13.15it/s]"
     ]
    },
    {
     "name": "stdout",
     "output_type": "stream",
     "text": [
      "10/10 [==============================] - 0s 1ms/step\n",
      "10/10 [==============================] - 0s 1ms/step\n"
     ]
    },
    {
     "name": "stderr",
     "output_type": "stream",
     "text": [
      " 90%|██████████████████████████████████████████████████████████████████████████▋        | 9/10 [00:00<00:00, 13.27it/s]"
     ]
    },
    {
     "name": "stdout",
     "output_type": "stream",
     "text": [
      "10/10 [==============================] - 0s 1ms/step\n"
     ]
    },
    {
     "name": "stderr",
     "output_type": "stream",
     "text": [
      "100%|██████████████████████████████████████████████████████████████████████████████████| 10/10 [00:00<00:00, 12.81it/s]\n",
      "2023-08-26 00:53:06,589 - INFO - AUC : 0.48\n",
      "2023-08-26 00:53:06,591 - INFO - target_dir : ../Sample_data\n",
      "2023-08-26 00:53:06,592 - INFO - train_file num : 5\n",
      "2023-08-26 00:53:06,593 - INFO - eval_file  num : 10\n"
     ]
    },
    {
     "name": "stdout",
     "output_type": "stream",
     "text": [
      "===========================\n",
      "\n",
      "===========================\n"
     ]
    },
    {
     "name": "stderr",
     "output_type": "stream",
     "text": [
      "generate train_dataset: 100%|████████████████████████████████████████████████████████████| 5/5 [00:00<00:00, 83.51it/s]\n",
      "2023-08-26 00:53:06,657 - INFO - save_pickle -> ./pickle_transfer_pretrain_v1/train_valve_id_02.pickle\n",
      "2023-08-26 00:53:06,662 - INFO - save_pickle -> ./pickle_transfer_pretrain_v1/eval_files_valve_id_02.pickle\n",
      "2023-08-26 00:53:06,665 - INFO - save_pickle -> ./pickle_transfer_pretrain_v1/eval_labels_valve_id_02.pickle\n"
     ]
    },
    {
     "name": "stdout",
     "output_type": "stream",
     "text": [
      "\n",
      "===========================\n",
      "Epoch 1/50\n",
      "3/3 [==============================] - 1s 60ms/step - loss: 16.3382 - val_loss: 29.6956\n",
      "Epoch 2/50\n",
      "3/3 [==============================] - 0s 22ms/step - loss: 15.7210 - val_loss: 28.3733\n",
      "Epoch 3/50\n",
      "3/3 [==============================] - 0s 13ms/step - loss: 14.0093 - val_loss: 29.2232\n",
      "Epoch 4/50\n",
      "3/3 [==============================] - 0s 13ms/step - loss: 12.5051 - val_loss: 27.6326\n",
      "Epoch 5/50\n",
      "3/3 [==============================] - 0s 13ms/step - loss: 12.9629 - val_loss: 27.6950\n",
      "Epoch 6/50\n",
      "3/3 [==============================] - 0s 14ms/step - loss: 12.0945 - val_loss: 28.2016\n",
      "Epoch 7/50\n",
      "3/3 [==============================] - 0s 17ms/step - loss: 12.1841 - val_loss: 25.4371\n",
      "Epoch 8/50\n",
      "3/3 [==============================] - 0s 14ms/step - loss: 11.9056 - val_loss: 25.3053\n",
      "Epoch 9/50\n",
      "3/3 [==============================] - 0s 14ms/step - loss: 11.7252 - val_loss: 26.9284\n",
      "Epoch 10/50\n",
      "3/3 [==============================] - 0s 14ms/step - loss: 11.7222 - val_loss: 26.0047\n",
      "Epoch 11/50\n",
      "3/3 [==============================] - 0s 15ms/step - loss: 11.5334 - val_loss: 24.3517\n",
      "Epoch 12/50\n",
      "3/3 [==============================] - 0s 14ms/step - loss: 11.4780 - val_loss: 25.0306\n",
      "Epoch 13/50\n",
      "3/3 [==============================] - 0s 14ms/step - loss: 11.3685 - val_loss: 24.4218\n",
      "Epoch 14/50\n",
      "3/3 [==============================] - 0s 14ms/step - loss: 11.2716 - val_loss: 22.8711\n",
      "Epoch 15/50\n",
      "3/3 [==============================] - 0s 13ms/step - loss: 11.2202 - val_loss: 23.1705\n",
      "Epoch 16/50\n",
      "3/3 [==============================] - 0s 16ms/step - loss: 11.1540 - val_loss: 22.6960\n",
      "Epoch 17/50\n",
      "3/3 [==============================] - 0s 14ms/step - loss: 11.0930 - val_loss: 22.0573\n",
      "Epoch 18/50\n",
      "3/3 [==============================] - 0s 14ms/step - loss: 11.0323 - val_loss: 21.9639\n",
      "Epoch 19/50\n",
      "3/3 [==============================] - 0s 14ms/step - loss: 10.9817 - val_loss: 21.0210\n",
      "Epoch 20/50\n",
      "3/3 [==============================] - 0s 16ms/step - loss: 10.9355 - val_loss: 20.7939\n",
      "Epoch 21/50\n",
      "3/3 [==============================] - 0s 14ms/step - loss: 10.8908 - val_loss: 20.0833\n",
      "Epoch 22/50\n",
      "3/3 [==============================] - 0s 13ms/step - loss: 10.8451 - val_loss: 19.7651\n",
      "Epoch 23/50\n",
      "3/3 [==============================] - 0s 13ms/step - loss: 10.8036 - val_loss: 19.2837\n",
      "Epoch 24/50\n",
      "3/3 [==============================] - 0s 15ms/step - loss: 10.7666 - val_loss: 18.9740\n",
      "Epoch 25/50\n",
      "3/3 [==============================] - 0s 16ms/step - loss: 10.7331 - val_loss: 18.5569\n",
      "Epoch 26/50\n",
      "3/3 [==============================] - 0s 14ms/step - loss: 10.7006 - val_loss: 17.8815\n",
      "Epoch 27/50\n",
      "3/3 [==============================] - 0s 14ms/step - loss: 10.6731 - val_loss: 17.6484\n",
      "Epoch 28/50\n",
      "3/3 [==============================] - 0s 15ms/step - loss: 10.6480 - val_loss: 17.3904\n",
      "Epoch 29/50\n",
      "3/3 [==============================] - 0s 13ms/step - loss: 10.6150 - val_loss: 17.0425\n",
      "Epoch 30/50\n",
      "3/3 [==============================] - 0s 14ms/step - loss: 10.5932 - val_loss: 16.5329\n",
      "Epoch 31/50\n",
      "3/3 [==============================] - 0s 13ms/step - loss: 10.5679 - val_loss: 16.3867\n",
      "Epoch 32/50\n",
      "3/3 [==============================] - 0s 13ms/step - loss: 10.5466 - val_loss: 16.0662\n",
      "Epoch 33/50\n",
      "3/3 [==============================] - 0s 13ms/step - loss: 10.5258 - val_loss: 15.8979\n",
      "Epoch 34/50\n",
      "3/3 [==============================] - 0s 15ms/step - loss: 10.5073 - val_loss: 15.4893\n",
      "Epoch 35/50\n",
      "3/3 [==============================] - 0s 14ms/step - loss: 10.4940 - val_loss: 15.2144\n",
      "Epoch 36/50\n",
      "3/3 [==============================] - 0s 14ms/step - loss: 10.4790 - val_loss: 14.9076\n",
      "Epoch 37/50\n",
      "3/3 [==============================] - 0s 20ms/step - loss: 10.4653 - val_loss: 14.8432\n",
      "Epoch 38/50\n",
      "3/3 [==============================] - 0s 14ms/step - loss: 10.4543 - val_loss: 14.2887\n",
      "Epoch 39/50\n",
      "3/3 [==============================] - 0s 14ms/step - loss: 10.4442 - val_loss: 14.2892\n",
      "Epoch 40/50\n",
      "3/3 [==============================] - 0s 14ms/step - loss: 10.4294 - val_loss: 14.0758\n",
      "Epoch 41/50\n",
      "3/3 [==============================] - 0s 14ms/step - loss: 10.4185 - val_loss: 14.0281\n",
      "Epoch 42/50\n",
      "3/3 [==============================] - 0s 15ms/step - loss: 10.4121 - val_loss: 13.7126\n",
      "Epoch 43/50\n",
      "3/3 [==============================] - 0s 15ms/step - loss: 10.3986 - val_loss: 13.4946\n",
      "Epoch 44/50\n",
      "3/3 [==============================] - 0s 14ms/step - loss: 10.3890 - val_loss: 13.4060\n",
      "Epoch 45/50\n",
      "3/3 [==============================] - 0s 16ms/step - loss: 10.3801 - val_loss: 13.1981\n",
      "Epoch 46/50\n",
      "3/3 [==============================] - 0s 14ms/step - loss: 10.3640 - val_loss: 13.1471\n",
      "Epoch 47/50\n",
      "3/3 [==============================] - 0s 15ms/step - loss: 10.3574 - val_loss: 12.9925\n",
      "Epoch 48/50\n",
      "3/3 [==============================] - 0s 14ms/step - loss: 10.3510 - val_loss: 12.8197\n",
      "Epoch 49/50\n",
      "3/3 [==============================] - 0s 14ms/step - loss: 10.3430 - val_loss: 12.6537\n",
      "Epoch 50/50\n",
      "3/3 [==============================] - 0s 14ms/step - loss: 10.3342 - val_loss: 12.5594\n",
      "============== EVALUATION =============="
     ]
    },
    {
     "name": "stderr",
     "output_type": "stream",
     "text": [
      "C:\\Users\\Baejs\\anaconda3\\envs\\bae\\lib\\site-packages\\keras\\src\\engine\\training.py:3000: UserWarning: You are saving your model as an HDF5 file via `model.save()`. This file format is considered legacy. We recommend using instead the native Keras format, e.g. `model.save('my_model.keras')`.\n",
      "  saving_api.save_model(\n"
     ]
    },
    {
     "name": "stdout",
     "output_type": "stream",
     "text": [
      "\n"
     ]
    },
    {
     "name": "stderr",
     "output_type": "stream",
     "text": [
      "  0%|                                                                                           | 0/10 [00:00<?, ?it/s]"
     ]
    },
    {
     "name": "stdout",
     "output_type": "stream",
     "text": [
      "10/10 [==============================] - 0s 1ms/step\n"
     ]
    },
    {
     "name": "stderr",
     "output_type": "stream",
     "text": [
      " 10%|████████▎                                                                          | 1/10 [00:00<00:00,  9.03it/s]"
     ]
    },
    {
     "name": "stdout",
     "output_type": "stream",
     "text": [
      "10/10 [==============================] - 0s 1ms/step\n",
      "10/10 [==============================] - 0s 1ms/step\n"
     ]
    },
    {
     "name": "stderr",
     "output_type": "stream",
     "text": [
      " 30%|████████████████████████▉                                                          | 3/10 [00:00<00:00, 11.97it/s]"
     ]
    },
    {
     "name": "stdout",
     "output_type": "stream",
     "text": [
      "10/10 [==============================] - 0s 1ms/step\n",
      "10/10 [==============================] - 0s 1ms/step\n"
     ]
    },
    {
     "name": "stderr",
     "output_type": "stream",
     "text": [
      " 50%|█████████████████████████████████████████▌                                         | 5/10 [00:00<00:00, 12.85it/s]"
     ]
    },
    {
     "name": "stdout",
     "output_type": "stream",
     "text": [
      "10/10 [==============================] - 0s 1ms/step\n",
      "10/10 [==============================] - 0s 1ms/step\n"
     ]
    },
    {
     "name": "stderr",
     "output_type": "stream",
     "text": [
      " 70%|██████████████████████████████████████████████████████████                         | 7/10 [00:00<00:00, 12.64it/s]"
     ]
    },
    {
     "name": "stdout",
     "output_type": "stream",
     "text": [
      "10/10 [==============================] - 0s 1ms/step\n",
      "10/10 [==============================] - 0s 997us/step\n"
     ]
    },
    {
     "name": "stderr",
     "output_type": "stream",
     "text": [
      " 90%|██████████████████████████████████████████████████████████████████████████▋        | 9/10 [00:00<00:00, 12.64it/s]"
     ]
    },
    {
     "name": "stdout",
     "output_type": "stream",
     "text": [
      "10/10 [==============================] - 0s 1ms/step\n"
     ]
    },
    {
     "name": "stderr",
     "output_type": "stream",
     "text": [
      "100%|██████████████████████████████████████████████████████████████████████████████████| 10/10 [00:00<00:00, 12.40it/s]\n",
      "2023-08-26 00:53:10,208 - INFO - AUC : 0.19999999999999998\n"
     ]
    },
    {
     "name": "stdout",
     "output_type": "stream",
     "text": [
      "===========================\n",
      "\n",
      "===========================\n",
      "Epoch 1/50\n",
      "3/3 [==============================] - 1s 62ms/step - loss: 15.0273 - val_loss: 16.1484\n",
      "Epoch 2/50\n",
      "3/3 [==============================] - 0s 16ms/step - loss: 14.3201 - val_loss: 15.6914\n",
      "Epoch 3/50\n",
      "3/3 [==============================] - 0s 15ms/step - loss: 12.6320 - val_loss: 13.6470\n",
      "Epoch 4/50\n",
      "3/3 [==============================] - 0s 16ms/step - loss: 11.7378 - val_loss: 12.2201\n",
      "Epoch 5/50\n",
      "3/3 [==============================] - 0s 16ms/step - loss: 11.2383 - val_loss: 13.0122\n",
      "Epoch 6/50\n",
      "3/3 [==============================] - 0s 15ms/step - loss: 10.9086 - val_loss: 12.5182\n",
      "Epoch 7/50\n",
      "3/3 [==============================] - 0s 15ms/step - loss: 10.7785 - val_loss: 12.2013\n",
      "Epoch 8/50\n",
      "3/3 [==============================] - 0s 15ms/step - loss: 10.4335 - val_loss: 11.8164\n",
      "Epoch 9/50\n",
      "3/3 [==============================] - 0s 20ms/step - loss: 10.4460 - val_loss: 11.2300\n",
      "Epoch 10/50\n",
      "3/3 [==============================] - 0s 14ms/step - loss: 10.1645 - val_loss: 10.9782\n",
      "Epoch 11/50\n",
      "3/3 [==============================] - 0s 15ms/step - loss: 10.1734 - val_loss: 10.6208\n",
      "Epoch 12/50\n",
      "3/3 [==============================] - 0s 13ms/step - loss: 10.0200 - val_loss: 10.4554\n",
      "Epoch 13/50\n",
      "3/3 [==============================] - 0s 13ms/step - loss: 9.9783 - val_loss: 10.2451\n",
      "Epoch 14/50\n",
      "3/3 [==============================] - 0s 13ms/step - loss: 9.9172 - val_loss: 10.1320\n",
      "Epoch 15/50\n",
      "3/3 [==============================] - 0s 14ms/step - loss: 9.8562 - val_loss: 9.9510\n",
      "Epoch 16/50\n",
      "3/3 [==============================] - 0s 14ms/step - loss: 9.8375 - val_loss: 9.7229\n",
      "Epoch 17/50\n",
      "3/3 [==============================] - 0s 13ms/step - loss: 9.7864 - val_loss: 9.5312\n",
      "Epoch 18/50\n",
      "3/3 [==============================] - 0s 13ms/step - loss: 9.7627 - val_loss: 9.3676\n",
      "Epoch 19/50\n",
      "3/3 [==============================] - 0s 13ms/step - loss: 9.7328 - val_loss: 9.2469\n",
      "Epoch 20/50\n",
      "3/3 [==============================] - 0s 14ms/step - loss: 9.7009 - val_loss: 9.1323\n",
      "Epoch 21/50\n",
      "3/3 [==============================] - 0s 13ms/step - loss: 9.6817 - val_loss: 9.0191\n",
      "Epoch 22/50\n",
      "3/3 [==============================] - 0s 13ms/step - loss: 9.6597 - val_loss: 8.8674\n",
      "Epoch 23/50\n",
      "3/3 [==============================] - 0s 13ms/step - loss: 9.6400 - val_loss: 8.7704\n",
      "Epoch 24/50\n",
      "3/3 [==============================] - 0s 14ms/step - loss: 9.6211 - val_loss: 8.6643\n",
      "Epoch 25/50\n",
      "3/3 [==============================] - 0s 14ms/step - loss: 9.6033 - val_loss: 8.5906\n",
      "Epoch 26/50\n",
      "3/3 [==============================] - 0s 13ms/step - loss: 9.5857 - val_loss: 8.5091\n",
      "Epoch 27/50\n",
      "3/3 [==============================] - 0s 14ms/step - loss: 9.5688 - val_loss: 8.4279\n",
      "Epoch 28/50\n",
      "3/3 [==============================] - 0s 13ms/step - loss: 9.5521 - val_loss: 8.3516\n",
      "Epoch 29/50\n",
      "3/3 [==============================] - 0s 14ms/step - loss: 9.5358 - val_loss: 8.3116\n",
      "Epoch 30/50\n",
      "3/3 [==============================] - 0s 14ms/step - loss: 9.5213 - val_loss: 8.2495\n",
      "Epoch 31/50\n",
      "3/3 [==============================] - 0s 13ms/step - loss: 9.5059 - val_loss: 8.1590\n",
      "Epoch 32/50\n",
      "3/3 [==============================] - 0s 14ms/step - loss: 9.4934 - val_loss: 8.1398\n",
      "Epoch 33/50\n",
      "3/3 [==============================] - 0s 14ms/step - loss: 9.4783 - val_loss: 8.1051\n",
      "Epoch 34/50\n",
      "3/3 [==============================] - 0s 14ms/step - loss: 9.4641 - val_loss: 8.0552\n",
      "Epoch 35/50\n",
      "3/3 [==============================] - 0s 14ms/step - loss: 9.4515 - val_loss: 8.0285\n",
      "Epoch 36/50\n",
      "3/3 [==============================] - 0s 13ms/step - loss: 9.4398 - val_loss: 7.9878\n",
      "Epoch 37/50\n",
      "3/3 [==============================] - 0s 14ms/step - loss: 9.4248 - val_loss: 7.9576\n",
      "Epoch 38/50\n",
      "3/3 [==============================] - 0s 14ms/step - loss: 9.4161 - val_loss: 7.9591\n",
      "Epoch 39/50\n",
      "3/3 [==============================] - 0s 14ms/step - loss: 9.4066 - val_loss: 7.9213\n",
      "Epoch 40/50\n",
      "3/3 [==============================] - 0s 14ms/step - loss: 9.3890 - val_loss: 7.8980\n",
      "Epoch 41/50\n",
      "3/3 [==============================] - 0s 15ms/step - loss: 9.3724 - val_loss: 7.8664\n",
      "Epoch 42/50\n",
      "3/3 [==============================] - 0s 14ms/step - loss: 9.3617 - val_loss: 7.8711\n",
      "Epoch 43/50\n",
      "3/3 [==============================] - 0s 16ms/step - loss: 9.3499 - val_loss: 7.8386\n",
      "Epoch 44/50\n",
      "3/3 [==============================] - 0s 14ms/step - loss: 9.3427 - val_loss: 7.8230\n",
      "Epoch 45/50\n",
      "3/3 [==============================] - 0s 16ms/step - loss: 9.3240 - val_loss: 7.8126\n",
      "Epoch 46/50\n",
      "3/3 [==============================] - 0s 14ms/step - loss: 9.3172 - val_loss: 7.8146\n",
      "Epoch 47/50\n",
      "3/3 [==============================] - 0s 14ms/step - loss: 9.3024 - val_loss: 7.7972\n",
      "Epoch 48/50\n",
      "3/3 [==============================] - 0s 14ms/step - loss: 9.2932 - val_loss: 7.7765\n",
      "Epoch 49/50\n",
      "3/3 [==============================] - 0s 14ms/step - loss: 9.2795 - val_loss: 7.7815\n",
      "Epoch 50/50\n",
      "3/3 [==============================] - 0s 14ms/step - loss: 9.2711 - val_loss: 7.7985\n",
      "============== EVALUATION ==============\n"
     ]
    },
    {
     "name": "stderr",
     "output_type": "stream",
     "text": [
      "C:\\Users\\Baejs\\anaconda3\\envs\\bae\\lib\\site-packages\\keras\\src\\engine\\training.py:3000: UserWarning: You are saving your model as an HDF5 file via `model.save()`. This file format is considered legacy. We recommend using instead the native Keras format, e.g. `model.save('my_model.keras')`.\n",
      "  saving_api.save_model(\n",
      "  0%|                                                                                           | 0/10 [00:00<?, ?it/s]"
     ]
    },
    {
     "name": "stdout",
     "output_type": "stream",
     "text": [
      "10/10 [==============================] - 0s 1ms/step\n"
     ]
    },
    {
     "name": "stderr",
     "output_type": "stream",
     "text": [
      " 10%|████████▎                                                                          | 1/10 [00:00<00:01,  8.65it/s]"
     ]
    },
    {
     "name": "stdout",
     "output_type": "stream",
     "text": [
      "10/10 [==============================] - 0s 1ms/step\n",
      "10/10 [==============================] - 0s 919us/step\n"
     ]
    },
    {
     "name": "stderr",
     "output_type": "stream",
     "text": [
      " 30%|████████████████████████▉                                                          | 3/10 [00:00<00:00, 12.00it/s]"
     ]
    },
    {
     "name": "stdout",
     "output_type": "stream",
     "text": [
      "10/10 [==============================] - 0s 1ms/step\n",
      "10/10 [==============================] - 0s 1ms/step\n"
     ]
    },
    {
     "name": "stderr",
     "output_type": "stream",
     "text": [
      " 50%|█████████████████████████████████████████▌                                         | 5/10 [00:00<00:00, 12.83it/s]"
     ]
    },
    {
     "name": "stdout",
     "output_type": "stream",
     "text": [
      "10/10 [==============================] - 0s 1ms/step\n",
      "10/10 [==============================] - 0s 1ms/step\n"
     ]
    },
    {
     "name": "stderr",
     "output_type": "stream",
     "text": [
      " 70%|██████████████████████████████████████████████████████████                         | 7/10 [00:00<00:00, 13.08it/s]"
     ]
    },
    {
     "name": "stdout",
     "output_type": "stream",
     "text": [
      "10/10 [==============================] - 0s 1ms/step\n",
      "10/10 [==============================] - 0s 1ms/step\n"
     ]
    },
    {
     "name": "stderr",
     "output_type": "stream",
     "text": [
      " 90%|██████████████████████████████████████████████████████████████████████████▋        | 9/10 [00:00<00:00, 13.19it/s]"
     ]
    },
    {
     "name": "stdout",
     "output_type": "stream",
     "text": [
      "10/10 [==============================] - 0s 1ms/step\n"
     ]
    },
    {
     "name": "stderr",
     "output_type": "stream",
     "text": [
      "100%|██████████████████████████████████████████████████████████████████████████████████| 10/10 [00:00<00:00, 12.82it/s]\n",
      "2023-08-26 00:53:13,697 - INFO - AUC : 0.15999999999999998\n"
     ]
    },
    {
     "name": "stdout",
     "output_type": "stream",
     "text": [
      "===========================\n",
      "\n",
      "===========================\n",
      "Epoch 1/50\n",
      "3/3 [==============================] - 1s 63ms/step - loss: 16.5482 - val_loss: 17.3794\n",
      "Epoch 2/50\n",
      "3/3 [==============================] - 0s 14ms/step - loss: 15.0773 - val_loss: 16.1921\n",
      "Epoch 3/50\n",
      "3/3 [==============================] - 0s 16ms/step - loss: 13.0620 - val_loss: 15.2120\n",
      "Epoch 4/50\n",
      "3/3 [==============================] - 0s 15ms/step - loss: 12.2879 - val_loss: 15.4683\n",
      "Epoch 5/50\n",
      "3/3 [==============================] - 0s 15ms/step - loss: 12.0881 - val_loss: 14.7519\n",
      "Epoch 6/50\n",
      "3/3 [==============================] - 0s 14ms/step - loss: 11.2953 - val_loss: 13.9064\n",
      "Epoch 7/50\n",
      "3/3 [==============================] - 0s 15ms/step - loss: 11.4723 - val_loss: 14.1336\n",
      "Epoch 8/50\n",
      "3/3 [==============================] - 0s 14ms/step - loss: 10.9677 - val_loss: 14.8954\n",
      "Epoch 9/50\n",
      "3/3 [==============================] - 0s 15ms/step - loss: 10.9852 - val_loss: 13.6756\n",
      "Epoch 10/50\n",
      "3/3 [==============================] - 0s 14ms/step - loss: 10.7750 - val_loss: 12.9353\n",
      "Epoch 11/50\n",
      "3/3 [==============================] - 0s 15ms/step - loss: 10.7130 - val_loss: 13.0866\n",
      "Epoch 12/50\n",
      "3/3 [==============================] - 0s 14ms/step - loss: 10.6335 - val_loss: 12.7674\n",
      "Epoch 13/50\n",
      "3/3 [==============================] - 0s 13ms/step - loss: 10.5234 - val_loss: 12.0850\n",
      "Epoch 14/50\n",
      "3/3 [==============================] - 0s 20ms/step - loss: 10.5152 - val_loss: 12.0528\n",
      "Epoch 15/50\n",
      "3/3 [==============================] - 0s 13ms/step - loss: 10.4387 - val_loss: 11.9172\n",
      "Epoch 16/50\n",
      "3/3 [==============================] - 0s 14ms/step - loss: 10.3907 - val_loss: 11.4219\n",
      "Epoch 17/50\n",
      "3/3 [==============================] - 0s 13ms/step - loss: 10.3659 - val_loss: 11.2285\n",
      "Epoch 18/50\n",
      "3/3 [==============================] - 0s 14ms/step - loss: 10.3238 - val_loss: 11.1746\n",
      "Epoch 19/50\n",
      "3/3 [==============================] - 0s 13ms/step - loss: 10.2880 - val_loss: 10.8293\n",
      "Epoch 20/50\n",
      "3/3 [==============================] - 0s 14ms/step - loss: 10.2639 - val_loss: 10.7333\n",
      "Epoch 21/50\n",
      "3/3 [==============================] - 0s 13ms/step - loss: 10.2401 - val_loss: 10.6062\n",
      "Epoch 22/50\n",
      "3/3 [==============================] - 0s 14ms/step - loss: 10.2146 - val_loss: 10.4242\n",
      "Epoch 23/50\n",
      "3/3 [==============================] - 0s 13ms/step - loss: 10.1950 - val_loss: 10.3577\n",
      "Epoch 24/50\n",
      "3/3 [==============================] - 0s 14ms/step - loss: 10.1829 - val_loss: 10.1558\n",
      "Epoch 25/50\n",
      "3/3 [==============================] - 0s 14ms/step - loss: 10.1681 - val_loss: 9.9811\n",
      "Epoch 26/50\n",
      "3/3 [==============================] - 0s 14ms/step - loss: 10.1491 - val_loss: 9.9590\n",
      "Epoch 27/50\n",
      "3/3 [==============================] - 0s 14ms/step - loss: 10.1370 - val_loss: 9.8480\n",
      "Epoch 28/50\n",
      "3/3 [==============================] - 0s 15ms/step - loss: 10.1251 - val_loss: 9.7669\n",
      "Epoch 29/50\n",
      "3/3 [==============================] - 0s 13ms/step - loss: 10.1130 - val_loss: 9.6867\n",
      "Epoch 30/50\n",
      "3/3 [==============================] - 0s 14ms/step - loss: 10.1043 - val_loss: 9.5954\n",
      "Epoch 31/50\n",
      "3/3 [==============================] - 0s 14ms/step - loss: 10.0921 - val_loss: 9.6028\n",
      "Epoch 32/50\n",
      "3/3 [==============================] - 0s 14ms/step - loss: 10.0831 - val_loss: 9.5516\n",
      "Epoch 33/50\n",
      "3/3 [==============================] - 0s 14ms/step - loss: 10.0732 - val_loss: 9.4416\n",
      "Epoch 34/50\n",
      "3/3 [==============================] - 0s 14ms/step - loss: 10.0647 - val_loss: 9.4001\n",
      "Epoch 35/50\n",
      "3/3 [==============================] - 0s 14ms/step - loss: 10.0552 - val_loss: 9.4032\n",
      "Epoch 36/50\n",
      "3/3 [==============================] - 0s 14ms/step - loss: 10.0450 - val_loss: 9.3747\n",
      "Epoch 37/50\n",
      "3/3 [==============================] - 0s 13ms/step - loss: 10.0362 - val_loss: 9.2930\n",
      "Epoch 38/50\n",
      "3/3 [==============================] - 0s 14ms/step - loss: 10.0286 - val_loss: 9.2859\n",
      "Epoch 39/50\n",
      "3/3 [==============================] - 0s 14ms/step - loss: 10.0190 - val_loss: 9.2542\n",
      "Epoch 40/50\n",
      "3/3 [==============================] - 0s 14ms/step - loss: 10.0101 - val_loss: 9.2481\n",
      "Epoch 41/50\n",
      "3/3 [==============================] - 0s 14ms/step - loss: 10.0025 - val_loss: 9.2385\n",
      "Epoch 42/50\n",
      "3/3 [==============================] - 0s 14ms/step - loss: 9.9950 - val_loss: 9.2134\n",
      "Epoch 43/50\n",
      "3/3 [==============================] - 0s 14ms/step - loss: 9.9859 - val_loss: 9.1497\n",
      "Epoch 44/50\n",
      "3/3 [==============================] - 0s 15ms/step - loss: 9.9796 - val_loss: 9.1321\n",
      "Epoch 45/50\n",
      "3/3 [==============================] - 0s 20ms/step - loss: 9.9702 - val_loss: 9.1392\n",
      "Epoch 46/50\n",
      "3/3 [==============================] - 0s 13ms/step - loss: 9.9635 - val_loss: 9.1180\n",
      "Epoch 47/50\n",
      "3/3 [==============================] - 0s 14ms/step - loss: 9.9552 - val_loss: 9.0703\n",
      "Epoch 48/50\n",
      "3/3 [==============================] - 0s 14ms/step - loss: 9.9491 - val_loss: 8.9922\n",
      "Epoch 49/50\n",
      "3/3 [==============================] - 0s 13ms/step - loss: 9.9416 - val_loss: 9.0364\n",
      "Epoch 50/50\n",
      "3/3 [==============================] - 0s 13ms/step - loss: 9.9313 - val_loss: 9.0627\n",
      "============== EVALUATION ==============\n"
     ]
    },
    {
     "name": "stderr",
     "output_type": "stream",
     "text": [
      "C:\\Users\\Baejs\\anaconda3\\envs\\bae\\lib\\site-packages\\keras\\src\\engine\\training.py:3000: UserWarning: You are saving your model as an HDF5 file via `model.save()`. This file format is considered legacy. We recommend using instead the native Keras format, e.g. `model.save('my_model.keras')`.\n",
      "  saving_api.save_model(\n",
      "  0%|                                                                                           | 0/10 [00:00<?, ?it/s]"
     ]
    },
    {
     "name": "stdout",
     "output_type": "stream",
     "text": [
      "10/10 [==============================] - 0s 1ms/step\n"
     ]
    },
    {
     "name": "stderr",
     "output_type": "stream",
     "text": [
      " 10%|████████▎                                                                          | 1/10 [00:00<00:01,  8.80it/s]"
     ]
    },
    {
     "name": "stdout",
     "output_type": "stream",
     "text": [
      "10/10 [==============================] - 0s 1ms/step\n",
      "10/10 [==============================] - 0s 1ms/step\n"
     ]
    },
    {
     "name": "stderr",
     "output_type": "stream",
     "text": [
      " 30%|████████████████████████▉                                                          | 3/10 [00:00<00:00, 11.94it/s]"
     ]
    },
    {
     "name": "stdout",
     "output_type": "stream",
     "text": [
      "10/10 [==============================] - 0s 1ms/step\n",
      "10/10 [==============================] - 0s 1ms/step\n"
     ]
    },
    {
     "name": "stderr",
     "output_type": "stream",
     "text": [
      " 50%|█████████████████████████████████████████▌                                         | 5/10 [00:00<00:00, 12.78it/s]"
     ]
    },
    {
     "name": "stdout",
     "output_type": "stream",
     "text": [
      "10/10 [==============================] - 0s 1ms/step\n",
      "10/10 [==============================] - 0s 1ms/step\n"
     ]
    },
    {
     "name": "stderr",
     "output_type": "stream",
     "text": [
      " 70%|██████████████████████████████████████████████████████████                         | 7/10 [00:00<00:00, 13.17it/s]"
     ]
    },
    {
     "name": "stdout",
     "output_type": "stream",
     "text": [
      "10/10 [==============================] - 0s 1ms/step\n",
      "10/10 [==============================] - 0s 1ms/step\n"
     ]
    },
    {
     "name": "stderr",
     "output_type": "stream",
     "text": [
      " 90%|██████████████████████████████████████████████████████████████████████████▋        | 9/10 [00:00<00:00, 13.29it/s]"
     ]
    },
    {
     "name": "stdout",
     "output_type": "stream",
     "text": [
      "10/10 [==============================] - 0s 1ms/step\n"
     ]
    },
    {
     "name": "stderr",
     "output_type": "stream",
     "text": [
      "100%|██████████████████████████████████████████████████████████████████████████████████| 10/10 [00:00<00:00, 12.91it/s]\n",
      "2023-08-26 00:53:17,170 - INFO - AUC : 0.24\n",
      "2023-08-26 00:53:17,171 - INFO - target_dir : ../Sample_data\n"
     ]
    },
    {
     "name": "stdout",
     "output_type": "stream",
     "text": [
      "===========================\n",
      "\n",
      "===========================\n"
     ]
    },
    {
     "name": "stderr",
     "output_type": "stream",
     "text": [
      "2023-08-26 00:53:17,173 - INFO - train_file num : 5\n",
      "2023-08-26 00:53:17,174 - INFO - eval_file  num : 10\n",
      "generate train_dataset: 100%|████████████████████████████████████████████████████████████| 5/5 [00:00<00:00, 83.57it/s]\n",
      "2023-08-26 00:53:17,237 - INFO - save_pickle -> ./pickle_transfer_pretrain_v1/train_valve_id_04.pickle\n",
      "2023-08-26 00:53:17,241 - INFO - save_pickle -> ./pickle_transfer_pretrain_v1/eval_files_valve_id_04.pickle\n",
      "2023-08-26 00:53:17,243 - INFO - save_pickle -> ./pickle_transfer_pretrain_v1/eval_labels_valve_id_04.pickle\n"
     ]
    },
    {
     "name": "stdout",
     "output_type": "stream",
     "text": [
      "\n",
      "===========================\n",
      "Epoch 1/50\n",
      "3/3 [==============================] - 1s 60ms/step - loss: 22.7852 - val_loss: 23.8329\n",
      "Epoch 2/50\n",
      "3/3 [==============================] - 0s 15ms/step - loss: 20.8109 - val_loss: 20.8143\n",
      "Epoch 3/50\n",
      "3/3 [==============================] - 0s 15ms/step - loss: 17.8608 - val_loss: 21.2630\n",
      "Epoch 4/50\n",
      "3/3 [==============================] - 0s 14ms/step - loss: 18.1552 - val_loss: 16.3410\n",
      "Epoch 5/50\n",
      "3/3 [==============================] - 0s 14ms/step - loss: 15.8808 - val_loss: 15.6510\n",
      "Epoch 6/50\n",
      "3/3 [==============================] - 0s 15ms/step - loss: 16.5274 - val_loss: 14.6953\n",
      "Epoch 7/50\n",
      "3/3 [==============================] - 0s 14ms/step - loss: 15.6851 - val_loss: 16.3960\n",
      "Epoch 8/50\n",
      "3/3 [==============================] - 0s 14ms/step - loss: 15.8656 - val_loss: 15.4111\n",
      "Epoch 9/50\n",
      "3/3 [==============================] - 0s 15ms/step - loss: 15.2669 - val_loss: 14.9405\n",
      "Epoch 10/50\n",
      "3/3 [==============================] - 0s 14ms/step - loss: 15.4429 - val_loss: 14.8173\n",
      "Epoch 11/50\n",
      "3/3 [==============================] - 0s 13ms/step - loss: 15.1470 - val_loss: 15.3682\n",
      "Epoch 12/50\n",
      "3/3 [==============================] - 0s 13ms/step - loss: 15.1585 - val_loss: 14.4385\n",
      "Epoch 13/50\n",
      "3/3 [==============================] - 0s 13ms/step - loss: 14.9714 - val_loss: 13.7894\n",
      "Epoch 14/50\n",
      "3/3 [==============================] - 0s 14ms/step - loss: 14.9721 - val_loss: 14.1942\n",
      "Epoch 15/50\n",
      "3/3 [==============================] - 0s 14ms/step - loss: 14.8734 - val_loss: 14.3425\n",
      "Epoch 16/50\n",
      "3/3 [==============================] - 0s 13ms/step - loss: 14.8053 - val_loss: 13.7388\n",
      "Epoch 17/50\n",
      "3/3 [==============================] - 0s 13ms/step - loss: 14.7562 - val_loss: 13.6378\n",
      "Epoch 18/50\n",
      "3/3 [==============================] - 0s 14ms/step - loss: 14.6788 - val_loss: 13.8462\n",
      "Epoch 19/50\n",
      "3/3 [==============================] - 0s 13ms/step - loss: 14.6399 - val_loss: 13.4359\n",
      "Epoch 20/50\n",
      "3/3 [==============================] - 0s 21ms/step - loss: 14.5894 - val_loss: 13.3434\n",
      "Epoch 21/50\n",
      "3/3 [==============================] - 0s 14ms/step - loss: 14.5378 - val_loss: 13.4690\n",
      "Epoch 22/50\n",
      "3/3 [==============================] - 0s 13ms/step - loss: 14.4985 - val_loss: 13.1574\n",
      "Epoch 23/50\n",
      "3/3 [==============================] - 0s 14ms/step - loss: 14.4524 - val_loss: 13.0702\n",
      "Epoch 24/50\n",
      "3/3 [==============================] - 0s 14ms/step - loss: 14.4100 - val_loss: 13.0487\n",
      "Epoch 25/50\n",
      "3/3 [==============================] - 0s 13ms/step - loss: 14.3702 - val_loss: 12.9973\n",
      "Epoch 26/50\n",
      "3/3 [==============================] - 0s 13ms/step - loss: 14.3376 - val_loss: 13.0211\n",
      "Epoch 27/50\n",
      "3/3 [==============================] - 0s 13ms/step - loss: 14.3064 - val_loss: 12.9222\n",
      "Epoch 28/50\n",
      "3/3 [==============================] - 0s 14ms/step - loss: 14.2772 - val_loss: 12.8710\n",
      "Epoch 29/50\n",
      "3/3 [==============================] - 0s 13ms/step - loss: 14.2519 - val_loss: 12.8318\n",
      "Epoch 30/50\n",
      "3/3 [==============================] - 0s 14ms/step - loss: 14.2292 - val_loss: 12.8121\n",
      "Epoch 31/50\n",
      "3/3 [==============================] - 0s 15ms/step - loss: 14.2103 - val_loss: 12.8411\n",
      "Epoch 32/50\n",
      "3/3 [==============================] - 0s 15ms/step - loss: 14.1868 - val_loss: 12.7948\n",
      "Epoch 33/50\n",
      "3/3 [==============================] - 0s 15ms/step - loss: 14.1696 - val_loss: 12.8611\n",
      "Epoch 34/50\n",
      "3/3 [==============================] - 0s 14ms/step - loss: 14.1511 - val_loss: 12.8454\n",
      "Epoch 35/50\n",
      "3/3 [==============================] - 0s 15ms/step - loss: 14.1354 - val_loss: 12.8412\n",
      "Epoch 36/50\n",
      "3/3 [==============================] - 0s 15ms/step - loss: 14.1204 - val_loss: 12.8492\n",
      "Epoch 37/50\n",
      "3/3 [==============================] - 0s 15ms/step - loss: 14.1050 - val_loss: 12.8364\n",
      "Epoch 38/50\n",
      "3/3 [==============================] - 0s 15ms/step - loss: 14.0863 - val_loss: 12.9070\n",
      "Epoch 39/50\n",
      "3/3 [==============================] - 0s 14ms/step - loss: 14.0789 - val_loss: 12.8804\n",
      "Epoch 40/50\n",
      "3/3 [==============================] - 0s 15ms/step - loss: 14.0610 - val_loss: 12.8697\n",
      "Epoch 41/50\n",
      "3/3 [==============================] - 0s 15ms/step - loss: 14.0499 - val_loss: 12.9609\n",
      "Epoch 42/50\n",
      "3/3 [==============================] - 0s 15ms/step - loss: 14.0402 - val_loss: 12.9716\n",
      "Epoch 43/50\n",
      "3/3 [==============================] - 0s 14ms/step - loss: 14.0223 - val_loss: 12.9340\n",
      "Epoch 44/50\n",
      "3/3 [==============================] - 0s 14ms/step - loss: 14.0079 - val_loss: 12.9876\n",
      "Epoch 45/50\n",
      "3/3 [==============================] - 0s 14ms/step - loss: 13.9979 - val_loss: 13.0710\n",
      "Epoch 46/50\n",
      "3/3 [==============================] - 0s 15ms/step - loss: 13.9808 - val_loss: 13.0049\n",
      "Epoch 47/50\n",
      "3/3 [==============================] - 0s 15ms/step - loss: 13.9682 - val_loss: 13.0499\n",
      "Epoch 48/50\n",
      "3/3 [==============================] - 0s 16ms/step - loss: 13.9546 - val_loss: 13.1030\n",
      "Epoch 49/50\n",
      "3/3 [==============================] - 0s 15ms/step - loss: 13.9447 - val_loss: 13.1032\n",
      "Epoch 50/50\n",
      "3/3 [==============================] - 0s 14ms/step - loss: 13.9245 - val_loss: 13.1458\n"
     ]
    },
    {
     "name": "stderr",
     "output_type": "stream",
     "text": [
      "C:\\Users\\Baejs\\anaconda3\\envs\\bae\\lib\\site-packages\\keras\\src\\engine\\training.py:3000: UserWarning: You are saving your model as an HDF5 file via `model.save()`. This file format is considered legacy. We recommend using instead the native Keras format, e.g. `model.save('my_model.keras')`.\n",
      "  saving_api.save_model(\n"
     ]
    },
    {
     "name": "stdout",
     "output_type": "stream",
     "text": [
      "============== EVALUATION ==============\n"
     ]
    },
    {
     "name": "stderr",
     "output_type": "stream",
     "text": [
      "  0%|                                                                                           | 0/10 [00:00<?, ?it/s]"
     ]
    },
    {
     "name": "stdout",
     "output_type": "stream",
     "text": [
      "10/10 [==============================] - 0s 1ms/step\n"
     ]
    },
    {
     "name": "stderr",
     "output_type": "stream",
     "text": [
      " 10%|████████▎                                                                          | 1/10 [00:00<00:01,  8.22it/s]"
     ]
    },
    {
     "name": "stdout",
     "output_type": "stream",
     "text": [
      "10/10 [==============================] - 0s 3ms/step\n",
      "10/10 [==============================] - 0s 1ms/step\n"
     ]
    },
    {
     "name": "stderr",
     "output_type": "stream",
     "text": [
      " 30%|████████████████████████▉                                                          | 3/10 [00:00<00:00, 10.40it/s]"
     ]
    },
    {
     "name": "stdout",
     "output_type": "stream",
     "text": [
      "10/10 [==============================] - 0s 2ms/step\n",
      "10/10 [==============================] - 0s 1ms/step\n"
     ]
    },
    {
     "name": "stderr",
     "output_type": "stream",
     "text": [
      " 50%|█████████████████████████████████████████▌                                         | 5/10 [00:00<00:00, 11.26it/s]"
     ]
    },
    {
     "name": "stdout",
     "output_type": "stream",
     "text": [
      "10/10 [==============================] - 0s 1ms/step\n",
      "10/10 [==============================] - 0s 1ms/step\n"
     ]
    },
    {
     "name": "stderr",
     "output_type": "stream",
     "text": [
      " 70%|██████████████████████████████████████████████████████████                         | 7/10 [00:00<00:00, 11.51it/s]"
     ]
    },
    {
     "name": "stdout",
     "output_type": "stream",
     "text": [
      "10/10 [==============================] - 0s 2ms/step\n",
      "10/10 [==============================] - 0s 1ms/step\n"
     ]
    },
    {
     "name": "stderr",
     "output_type": "stream",
     "text": [
      " 90%|██████████████████████████████████████████████████████████████████████████▋        | 9/10 [00:00<00:00, 11.62it/s]"
     ]
    },
    {
     "name": "stdout",
     "output_type": "stream",
     "text": [
      "10/10 [==============================] - 0s 1ms/step\n"
     ]
    },
    {
     "name": "stderr",
     "output_type": "stream",
     "text": [
      "100%|██████████████████████████████████████████████████████████████████████████████████| 10/10 [00:00<00:00, 11.38it/s]\n",
      "2023-08-26 00:53:20,865 - INFO - AUC : 0.6000000000000001\n"
     ]
    },
    {
     "name": "stdout",
     "output_type": "stream",
     "text": [
      "===========================\n",
      "\n",
      "===========================\n",
      "Epoch 1/50\n",
      "3/3 [==============================] - 1s 59ms/step - loss: 18.6742 - val_loss: 24.0317\n",
      "Epoch 2/50\n",
      "3/3 [==============================] - 0s 15ms/step - loss: 18.8465 - val_loss: 15.8044\n",
      "Epoch 3/50\n",
      "3/3 [==============================] - 0s 16ms/step - loss: 15.9745 - val_loss: 14.6745\n",
      "Epoch 4/50\n",
      "3/3 [==============================] - 0s 15ms/step - loss: 13.7426 - val_loss: 15.0297\n",
      "Epoch 5/50\n",
      "3/3 [==============================] - 0s 15ms/step - loss: 14.1008 - val_loss: 13.1519\n",
      "Epoch 6/50\n",
      "3/3 [==============================] - 0s 14ms/step - loss: 13.1706 - val_loss: 13.9225\n",
      "Epoch 7/50\n",
      "3/3 [==============================] - 0s 15ms/step - loss: 12.6994 - val_loss: 13.4858\n",
      "Epoch 8/50\n",
      "3/3 [==============================] - 0s 13ms/step - loss: 12.7167 - val_loss: 12.9435\n",
      "Epoch 9/50\n",
      "3/3 [==============================] - 0s 13ms/step - loss: 12.1079 - val_loss: 13.2446\n",
      "Epoch 10/50\n",
      "3/3 [==============================] - 0s 13ms/step - loss: 12.1930 - val_loss: 12.4972\n",
      "Epoch 11/50\n",
      "3/3 [==============================] - 0s 13ms/step - loss: 11.8832 - val_loss: 12.8117\n",
      "Epoch 12/50\n",
      "3/3 [==============================] - 0s 14ms/step - loss: 11.7342 - val_loss: 12.7038\n",
      "Epoch 13/50\n",
      "3/3 [==============================] - 0s 13ms/step - loss: 11.6648 - val_loss: 12.6407\n",
      "Epoch 14/50\n",
      "3/3 [==============================] - 0s 14ms/step - loss: 11.4469 - val_loss: 12.7326\n",
      "Epoch 15/50\n",
      "3/3 [==============================] - 0s 14ms/step - loss: 11.4009 - val_loss: 12.4788\n",
      "Epoch 16/50\n",
      "3/3 [==============================] - 0s 15ms/step - loss: 11.2725 - val_loss: 12.5964\n",
      "Epoch 17/50\n",
      "3/3 [==============================] - 0s 14ms/step - loss: 11.1745 - val_loss: 12.6033\n",
      "Epoch 18/50\n",
      "3/3 [==============================] - 0s 14ms/step - loss: 11.0881 - val_loss: 12.4666\n",
      "Epoch 19/50\n",
      "3/3 [==============================] - 0s 14ms/step - loss: 11.0071 - val_loss: 12.5619\n",
      "Epoch 20/50\n",
      "3/3 [==============================] - 0s 15ms/step - loss: 10.9312 - val_loss: 12.4966\n",
      "Epoch 21/50\n",
      "3/3 [==============================] - 0s 14ms/step - loss: 10.8551 - val_loss: 12.3992\n",
      "Epoch 22/50\n",
      "3/3 [==============================] - 0s 15ms/step - loss: 10.7880 - val_loss: 12.5569\n",
      "Epoch 23/50\n",
      "3/3 [==============================] - 0s 14ms/step - loss: 10.7279 - val_loss: 12.4716\n",
      "Epoch 24/50\n",
      "3/3 [==============================] - 0s 13ms/step - loss: 10.6691 - val_loss: 12.3967\n",
      "Epoch 25/50\n",
      "3/3 [==============================] - 0s 15ms/step - loss: 10.6156 - val_loss: 12.4440\n",
      "Epoch 26/50\n",
      "3/3 [==============================] - 0s 13ms/step - loss: 10.5677 - val_loss: 12.3933\n",
      "Epoch 27/50\n",
      "3/3 [==============================] - 0s 21ms/step - loss: 10.5195 - val_loss: 12.4052\n",
      "Epoch 28/50\n",
      "3/3 [==============================] - 0s 13ms/step - loss: 10.4757 - val_loss: 12.4028\n",
      "Epoch 29/50\n",
      "3/3 [==============================] - 0s 14ms/step - loss: 10.4387 - val_loss: 12.3288\n",
      "Epoch 30/50\n",
      "3/3 [==============================] - 0s 14ms/step - loss: 10.4017 - val_loss: 12.3704\n",
      "Epoch 31/50\n",
      "3/3 [==============================] - 0s 14ms/step - loss: 10.3671 - val_loss: 12.4008\n",
      "Epoch 32/50\n",
      "3/3 [==============================] - 0s 13ms/step - loss: 10.3373 - val_loss: 12.3537\n",
      "Epoch 33/50\n",
      "3/3 [==============================] - 0s 13ms/step - loss: 10.3084 - val_loss: 12.3351\n",
      "Epoch 34/50\n",
      "3/3 [==============================] - 0s 14ms/step - loss: 10.2811 - val_loss: 12.3830\n",
      "Epoch 35/50\n",
      "3/3 [==============================] - 0s 14ms/step - loss: 10.2575 - val_loss: 12.3156\n",
      "Epoch 36/50\n",
      "3/3 [==============================] - 0s 13ms/step - loss: 10.2341 - val_loss: 12.3254\n",
      "Epoch 37/50\n",
      "3/3 [==============================] - 0s 14ms/step - loss: 10.2135 - val_loss: 12.3394\n",
      "Epoch 38/50\n",
      "3/3 [==============================] - 0s 14ms/step - loss: 10.1960 - val_loss: 12.3500\n",
      "Epoch 39/50\n",
      "3/3 [==============================] - 0s 14ms/step - loss: 10.1807 - val_loss: 12.3807\n",
      "Epoch 40/50\n",
      "3/3 [==============================] - 0s 14ms/step - loss: 10.1675 - val_loss: 12.3481\n",
      "Epoch 41/50\n",
      "3/3 [==============================] - 0s 14ms/step - loss: 10.1496 - val_loss: 12.3278\n",
      "Epoch 42/50\n",
      "3/3 [==============================] - 0s 14ms/step - loss: 10.1326 - val_loss: 12.3496\n",
      "Epoch 43/50\n",
      "3/3 [==============================] - 0s 14ms/step - loss: 10.1192 - val_loss: 12.3872\n",
      "Epoch 44/50\n",
      "3/3 [==============================] - 0s 14ms/step - loss: 10.1066 - val_loss: 12.3283\n",
      "Epoch 45/50\n",
      "3/3 [==============================] - 0s 14ms/step - loss: 10.0953 - val_loss: 12.3490\n",
      "Epoch 46/50\n",
      "3/3 [==============================] - 0s 13ms/step - loss: 10.0834 - val_loss: 12.3938\n",
      "Epoch 47/50\n",
      "3/3 [==============================] - 0s 14ms/step - loss: 10.0744 - val_loss: 12.3828\n",
      "Epoch 48/50\n",
      "3/3 [==============================] - 0s 14ms/step - loss: 10.0663 - val_loss: 12.3600\n",
      "Epoch 49/50\n",
      "3/3 [==============================] - 0s 13ms/step - loss: 10.0578 - val_loss: 12.3802\n",
      "Epoch 50/50\n",
      "3/3 [==============================] - 0s 14ms/step - loss: 10.0463 - val_loss: 12.4034\n",
      "============== EVALUATION ==============\n"
     ]
    },
    {
     "name": "stderr",
     "output_type": "stream",
     "text": [
      "C:\\Users\\Baejs\\anaconda3\\envs\\bae\\lib\\site-packages\\keras\\src\\engine\\training.py:3000: UserWarning: You are saving your model as an HDF5 file via `model.save()`. This file format is considered legacy. We recommend using instead the native Keras format, e.g. `model.save('my_model.keras')`.\n",
      "  saving_api.save_model(\n",
      "  0%|                                                                                           | 0/10 [00:00<?, ?it/s]"
     ]
    },
    {
     "name": "stdout",
     "output_type": "stream",
     "text": [
      "10/10 [==============================] - 0s 1ms/step\n"
     ]
    },
    {
     "name": "stderr",
     "output_type": "stream",
     "text": [
      " 10%|████████▎                                                                          | 1/10 [00:00<00:01,  8.46it/s]"
     ]
    },
    {
     "name": "stdout",
     "output_type": "stream",
     "text": [
      "10/10 [==============================] - 0s 2ms/step\n",
      "10/10 [==============================] - 0s 1ms/step\n"
     ]
    },
    {
     "name": "stderr",
     "output_type": "stream",
     "text": [
      " 30%|████████████████████████▉                                                          | 3/10 [00:00<00:00, 11.40it/s]"
     ]
    },
    {
     "name": "stdout",
     "output_type": "stream",
     "text": [
      "10/10 [==============================] - 0s 996us/step\n",
      "10/10 [==============================] - 0s 1ms/step\n"
     ]
    },
    {
     "name": "stderr",
     "output_type": "stream",
     "text": [
      " 50%|█████████████████████████████████████████▌                                         | 5/10 [00:00<00:00, 12.14it/s]"
     ]
    },
    {
     "name": "stdout",
     "output_type": "stream",
     "text": [
      "10/10 [==============================] - 0s 1ms/step\n",
      "10/10 [==============================] - 0s 1ms/step\n"
     ]
    },
    {
     "name": "stderr",
     "output_type": "stream",
     "text": [
      " 70%|██████████████████████████████████████████████████████████                         | 7/10 [00:00<00:00, 12.73it/s]"
     ]
    },
    {
     "name": "stdout",
     "output_type": "stream",
     "text": [
      "10/10 [==============================] - 0s 1ms/step\n",
      "10/10 [==============================] - 0s 1ms/step\n"
     ]
    },
    {
     "name": "stderr",
     "output_type": "stream",
     "text": [
      " 90%|██████████████████████████████████████████████████████████████████████████▋        | 9/10 [00:00<00:00, 13.08it/s]"
     ]
    },
    {
     "name": "stdout",
     "output_type": "stream",
     "text": [
      "10/10 [==============================] - 0s 997us/step\n"
     ]
    },
    {
     "name": "stderr",
     "output_type": "stream",
     "text": [
      "100%|██████████████████████████████████████████████████████████████████████████████████| 10/10 [00:00<00:00, 12.59it/s]\n",
      "2023-08-26 00:53:24,376 - INFO - AUC : 0.48\n"
     ]
    },
    {
     "name": "stdout",
     "output_type": "stream",
     "text": [
      "===========================\n",
      "\n",
      "===========================\n",
      "Epoch 1/50\n",
      "3/3 [==============================] - 1s 60ms/step - loss: 17.6772 - val_loss: 19.3036\n",
      "Epoch 2/50\n",
      "3/3 [==============================] - 0s 17ms/step - loss: 17.1335 - val_loss: 14.4310\n",
      "Epoch 3/50\n",
      "3/3 [==============================] - 0s 16ms/step - loss: 15.4317 - val_loss: 13.7358\n",
      "Epoch 4/50\n",
      "3/3 [==============================] - 0s 15ms/step - loss: 14.3420 - val_loss: 14.3875\n",
      "Epoch 5/50\n",
      "3/3 [==============================] - 0s 14ms/step - loss: 14.6615 - val_loss: 13.0209\n",
      "Epoch 6/50\n",
      "3/3 [==============================] - 0s 14ms/step - loss: 13.7979 - val_loss: 12.9305\n",
      "Epoch 7/50\n",
      "3/3 [==============================] - 0s 14ms/step - loss: 13.8978 - val_loss: 13.2131\n",
      "Epoch 8/50\n",
      "3/3 [==============================] - 0s 14ms/step - loss: 13.5710 - val_loss: 13.7475\n",
      "Epoch 9/50\n",
      "3/3 [==============================] - 0s 14ms/step - loss: 13.4575 - val_loss: 12.9315\n",
      "Epoch 10/50\n",
      "3/3 [==============================] - 0s 15ms/step - loss: 13.3921 - val_loss: 12.7696\n",
      "Epoch 11/50\n",
      "3/3 [==============================] - 0s 13ms/step - loss: 13.2025 - val_loss: 13.2137\n",
      "Epoch 12/50\n",
      "3/3 [==============================] - 0s 15ms/step - loss: 13.1908 - val_loss: 12.9836\n",
      "Epoch 13/50\n",
      "3/3 [==============================] - 0s 15ms/step - loss: 13.0471 - val_loss: 13.0008\n",
      "Epoch 14/50\n",
      "3/3 [==============================] - 0s 14ms/step - loss: 12.9819 - val_loss: 13.0519\n",
      "Epoch 15/50\n",
      "3/3 [==============================] - 0s 15ms/step - loss: 12.9121 - val_loss: 12.9868\n",
      "Epoch 16/50\n",
      "3/3 [==============================] - 0s 15ms/step - loss: 12.8351 - val_loss: 13.0435\n",
      "Epoch 17/50\n",
      "3/3 [==============================] - 0s 14ms/step - loss: 12.7707 - val_loss: 13.0151\n",
      "Epoch 18/50\n",
      "3/3 [==============================] - 0s 14ms/step - loss: 12.7120 - val_loss: 13.0761\n",
      "Epoch 19/50\n",
      "3/3 [==============================] - 0s 14ms/step - loss: 12.6527 - val_loss: 13.1659\n",
      "Epoch 20/50\n",
      "3/3 [==============================] - 0s 14ms/step - loss: 12.5964 - val_loss: 13.1511\n",
      "Epoch 21/50\n",
      "3/3 [==============================] - 0s 16ms/step - loss: 12.5467 - val_loss: 13.1390\n",
      "Epoch 22/50\n",
      "3/3 [==============================] - 0s 14ms/step - loss: 12.4941 - val_loss: 13.2162\n",
      "Epoch 23/50\n",
      "3/3 [==============================] - 0s 14ms/step - loss: 12.4486 - val_loss: 13.2945\n",
      "Epoch 24/50\n",
      "3/3 [==============================] - 0s 13ms/step - loss: 12.3934 - val_loss: 13.2353\n",
      "Epoch 25/50\n",
      "3/3 [==============================] - 0s 15ms/step - loss: 12.3422 - val_loss: 13.2701\n",
      "Epoch 26/50\n",
      "3/3 [==============================] - 0s 14ms/step - loss: 12.2948 - val_loss: 13.2973\n",
      "Epoch 27/50\n",
      "3/3 [==============================] - 0s 14ms/step - loss: 12.2412 - val_loss: 13.2911\n",
      "Epoch 28/50\n",
      "3/3 [==============================] - 0s 15ms/step - loss: 12.1902 - val_loss: 13.3115\n",
      "Epoch 29/50\n",
      "3/3 [==============================] - 0s 14ms/step - loss: 12.1444 - val_loss: 13.2675\n",
      "Epoch 30/50\n",
      "3/3 [==============================] - 0s 15ms/step - loss: 12.0912 - val_loss: 13.1395\n",
      "Epoch 31/50\n",
      "3/3 [==============================] - 0s 14ms/step - loss: 12.0439 - val_loss: 13.2082\n",
      "Epoch 32/50\n",
      "3/3 [==============================] - 0s 14ms/step - loss: 11.9980 - val_loss: 13.2994\n",
      "Epoch 33/50\n",
      "3/3 [==============================] - 0s 14ms/step - loss: 11.9441 - val_loss: 13.2203\n",
      "Epoch 34/50\n",
      "3/3 [==============================] - 0s 14ms/step - loss: 11.8995 - val_loss: 13.1711\n",
      "Epoch 35/50\n",
      "3/3 [==============================] - 0s 22ms/step - loss: 11.8531 - val_loss: 13.1183\n",
      "Epoch 36/50\n",
      "3/3 [==============================] - 0s 14ms/step - loss: 11.8079 - val_loss: 13.0813\n",
      "Epoch 37/50\n",
      "3/3 [==============================] - 0s 14ms/step - loss: 11.7635 - val_loss: 13.1247\n",
      "Epoch 38/50\n",
      "3/3 [==============================] - 0s 16ms/step - loss: 11.7278 - val_loss: 13.0976\n",
      "Epoch 39/50\n",
      "3/3 [==============================] - 0s 14ms/step - loss: 11.6904 - val_loss: 13.0521\n",
      "Epoch 40/50\n",
      "3/3 [==============================] - 0s 14ms/step - loss: 11.6507 - val_loss: 13.0220\n",
      "Epoch 41/50\n",
      "3/3 [==============================] - 0s 15ms/step - loss: 11.6198 - val_loss: 13.1033\n",
      "Epoch 42/50\n",
      "3/3 [==============================] - 0s 15ms/step - loss: 11.5842 - val_loss: 12.9320\n",
      "Epoch 43/50\n",
      "3/3 [==============================] - 0s 16ms/step - loss: 11.5554 - val_loss: 13.0115\n",
      "Epoch 44/50\n",
      "3/3 [==============================] - 0s 15ms/step - loss: 11.5310 - val_loss: 13.0128\n",
      "Epoch 45/50\n",
      "3/3 [==============================] - 0s 15ms/step - loss: 11.5016 - val_loss: 12.9675\n",
      "Epoch 46/50\n",
      "3/3 [==============================] - 0s 14ms/step - loss: 11.4755 - val_loss: 12.9526\n",
      "Epoch 47/50\n",
      "3/3 [==============================] - 0s 14ms/step - loss: 11.4544 - val_loss: 12.9206\n",
      "Epoch 48/50\n",
      "3/3 [==============================] - 0s 16ms/step - loss: 11.4399 - val_loss: 12.9772\n",
      "Epoch 49/50\n",
      "3/3 [==============================] - 0s 14ms/step - loss: 11.4202 - val_loss: 13.0261\n",
      "Epoch 50/50\n",
      "3/3 [==============================] - 0s 14ms/step - loss: 11.4002 - val_loss: 12.9155\n",
      "============== EVALUATION =============="
     ]
    },
    {
     "name": "stderr",
     "output_type": "stream",
     "text": [
      "C:\\Users\\Baejs\\anaconda3\\envs\\bae\\lib\\site-packages\\keras\\src\\engine\\training.py:3000: UserWarning: You are saving your model as an HDF5 file via `model.save()`. This file format is considered legacy. We recommend using instead the native Keras format, e.g. `model.save('my_model.keras')`.\n",
      "  saving_api.save_model(\n"
     ]
    },
    {
     "name": "stdout",
     "output_type": "stream",
     "text": [
      "\n"
     ]
    },
    {
     "name": "stderr",
     "output_type": "stream",
     "text": [
      "  0%|                                                                                           | 0/10 [00:00<?, ?it/s]"
     ]
    },
    {
     "name": "stdout",
     "output_type": "stream",
     "text": [
      "10/10 [==============================] - 0s 1ms/step\n"
     ]
    },
    {
     "name": "stderr",
     "output_type": "stream",
     "text": [
      " 10%|████████▎                                                                          | 1/10 [00:00<00:01,  8.57it/s]"
     ]
    },
    {
     "name": "stdout",
     "output_type": "stream",
     "text": [
      "10/10 [==============================] - 0s 2ms/step\n",
      "10/10 [==============================] - 0s 1ms/step\n"
     ]
    },
    {
     "name": "stderr",
     "output_type": "stream",
     "text": [
      " 30%|████████████████████████▉                                                          | 3/10 [00:00<00:00, 11.73it/s]"
     ]
    },
    {
     "name": "stdout",
     "output_type": "stream",
     "text": [
      "10/10 [==============================] - 0s 2ms/step\n",
      "10/10 [==============================] - 0s 1ms/step\n"
     ]
    },
    {
     "name": "stderr",
     "output_type": "stream",
     "text": [
      " 50%|█████████████████████████████████████████▌                                         | 5/10 [00:00<00:00, 12.54it/s]"
     ]
    },
    {
     "name": "stdout",
     "output_type": "stream",
     "text": [
      "10/10 [==============================] - 0s 2ms/step\n",
      "10/10 [==============================] - 0s 1ms/step\n"
     ]
    },
    {
     "name": "stderr",
     "output_type": "stream",
     "text": [
      " 70%|██████████████████████████████████████████████████████████                         | 7/10 [00:00<00:00, 12.85it/s]"
     ]
    },
    {
     "name": "stdout",
     "output_type": "stream",
     "text": [
      "10/10 [==============================] - 0s 1ms/step\n",
      "10/10 [==============================] - 0s 1ms/step\n"
     ]
    },
    {
     "name": "stderr",
     "output_type": "stream",
     "text": [
      " 90%|██████████████████████████████████████████████████████████████████████████▋        | 9/10 [00:00<00:00, 12.80it/s]"
     ]
    },
    {
     "name": "stdout",
     "output_type": "stream",
     "text": [
      "10/10 [==============================] - 0s 1ms/step\n"
     ]
    },
    {
     "name": "stderr",
     "output_type": "stream",
     "text": [
      "100%|██████████████████████████████████████████████████████████████████████████████████| 10/10 [00:00<00:00, 12.52it/s]\n",
      "2023-08-26 00:53:28,148 - INFO - AUC : 0.52\n",
      "2023-08-26 00:53:28,149 - INFO - target_dir : ../Sample_data\n",
      "2023-08-26 00:53:28,151 - INFO - train_file num : 5\n",
      "2023-08-26 00:53:28,152 - INFO - eval_file  num : 10\n"
     ]
    },
    {
     "name": "stdout",
     "output_type": "stream",
     "text": [
      "===========================\n",
      "\n",
      "===========================\n"
     ]
    },
    {
     "name": "stderr",
     "output_type": "stream",
     "text": [
      "generate train_dataset: 100%|████████████████████████████████████████████████████████████| 5/5 [00:00<00:00, 75.97it/s]\n",
      "2023-08-26 00:53:28,223 - INFO - save_pickle -> ./pickle_transfer_pretrain_v1/train_valve_id_06.pickle\n",
      "2023-08-26 00:53:28,227 - INFO - save_pickle -> ./pickle_transfer_pretrain_v1/eval_files_valve_id_06.pickle\n",
      "2023-08-26 00:53:28,230 - INFO - save_pickle -> ./pickle_transfer_pretrain_v1/eval_labels_valve_id_06.pickle\n"
     ]
    },
    {
     "name": "stdout",
     "output_type": "stream",
     "text": [
      "\n",
      "===========================\n",
      "Epoch 1/50\n",
      "3/3 [==============================] - 1s 60ms/step - loss: 18.9964 - val_loss: 23.7005\n",
      "Epoch 2/50\n",
      "3/3 [==============================] - 0s 15ms/step - loss: 17.5061 - val_loss: 21.6744\n",
      "Epoch 3/50\n",
      "3/3 [==============================] - 0s 16ms/step - loss: 15.6099 - val_loss: 24.1083\n",
      "Epoch 4/50\n",
      "3/3 [==============================] - 0s 15ms/step - loss: 14.7843 - val_loss: 23.9093\n",
      "Epoch 5/50\n",
      "3/3 [==============================] - 0s 19ms/step - loss: 14.5632 - val_loss: 21.2197\n",
      "Epoch 6/50\n",
      "3/3 [==============================] - 0s 14ms/step - loss: 14.2277 - val_loss: 19.7798\n",
      "Epoch 7/50\n",
      "3/3 [==============================] - 0s 14ms/step - loss: 13.6544 - val_loss: 19.8378\n",
      "Epoch 8/50\n",
      "3/3 [==============================] - 0s 15ms/step - loss: 13.4305 - val_loss: 18.7600\n",
      "Epoch 9/50\n",
      "3/3 [==============================] - 0s 14ms/step - loss: 13.2591 - val_loss: 18.7109\n",
      "Epoch 10/50\n",
      "3/3 [==============================] - 0s 14ms/step - loss: 13.0282 - val_loss: 18.7827\n",
      "Epoch 11/50\n",
      "3/3 [==============================] - 0s 14ms/step - loss: 12.8108 - val_loss: 18.1610\n",
      "Epoch 12/50\n",
      "3/3 [==============================] - 0s 15ms/step - loss: 12.6546 - val_loss: 18.6004\n",
      "Epoch 13/50\n",
      "3/3 [==============================] - 0s 14ms/step - loss: 12.5326 - val_loss: 18.1721\n",
      "Epoch 14/50\n",
      "3/3 [==============================] - 0s 14ms/step - loss: 12.4140 - val_loss: 18.2248\n",
      "Epoch 15/50\n",
      "3/3 [==============================] - 0s 15ms/step - loss: 12.3066 - val_loss: 18.0400\n",
      "Epoch 16/50\n",
      "3/3 [==============================] - 0s 14ms/step - loss: 12.2128 - val_loss: 17.5778\n",
      "Epoch 17/50\n",
      "3/3 [==============================] - 0s 16ms/step - loss: 12.1274 - val_loss: 17.5403\n",
      "Epoch 18/50\n",
      "3/3 [==============================] - 0s 16ms/step - loss: 12.0518 - val_loss: 17.0123\n",
      "Epoch 19/50\n",
      "3/3 [==============================] - 0s 15ms/step - loss: 11.9939 - val_loss: 16.9910\n",
      "Epoch 20/50\n",
      "3/3 [==============================] - 0s 15ms/step - loss: 11.9292 - val_loss: 16.7204\n",
      "Epoch 21/50\n",
      "3/3 [==============================] - 0s 14ms/step - loss: 11.8725 - val_loss: 16.8639\n",
      "Epoch 22/50\n",
      "3/3 [==============================] - 0s 15ms/step - loss: 11.8199 - val_loss: 16.5181\n",
      "Epoch 23/50\n",
      "3/3 [==============================] - 0s 14ms/step - loss: 11.7761 - val_loss: 16.3430\n",
      "Epoch 24/50\n",
      "3/3 [==============================] - 0s 14ms/step - loss: 11.7291 - val_loss: 16.3155\n",
      "Epoch 25/50\n",
      "3/3 [==============================] - 0s 14ms/step - loss: 11.6881 - val_loss: 16.1994\n",
      "Epoch 26/50\n",
      "3/3 [==============================] - 0s 16ms/step - loss: 11.6481 - val_loss: 15.7431\n",
      "Epoch 27/50\n",
      "3/3 [==============================] - 0s 15ms/step - loss: 11.6122 - val_loss: 15.5479\n",
      "Epoch 28/50\n",
      "3/3 [==============================] - 0s 14ms/step - loss: 11.5772 - val_loss: 15.4476\n",
      "Epoch 29/50\n",
      "3/3 [==============================] - 0s 15ms/step - loss: 11.5410 - val_loss: 15.3216\n",
      "Epoch 30/50\n",
      "3/3 [==============================] - 0s 15ms/step - loss: 11.5114 - val_loss: 15.0971\n",
      "Epoch 31/50\n",
      "3/3 [==============================] - 0s 14ms/step - loss: 11.4839 - val_loss: 14.9426\n",
      "Epoch 32/50\n",
      "3/3 [==============================] - 0s 14ms/step - loss: 11.4541 - val_loss: 14.8425\n",
      "Epoch 33/50\n",
      "3/3 [==============================] - 0s 14ms/step - loss: 11.4284 - val_loss: 14.4915\n",
      "Epoch 34/50\n",
      "3/3 [==============================] - 0s 14ms/step - loss: 11.3983 - val_loss: 14.3298\n",
      "Epoch 35/50\n",
      "3/3 [==============================] - 0s 14ms/step - loss: 11.3776 - val_loss: 14.1207\n",
      "Epoch 36/50\n",
      "3/3 [==============================] - 0s 14ms/step - loss: 11.3478 - val_loss: 14.0886\n",
      "Epoch 37/50\n",
      "3/3 [==============================] - 0s 14ms/step - loss: 11.3290 - val_loss: 14.0086\n",
      "Epoch 38/50\n",
      "3/3 [==============================] - 0s 20ms/step - loss: 11.3034 - val_loss: 13.8359\n",
      "Epoch 39/50\n",
      "3/3 [==============================] - 0s 15ms/step - loss: 11.2851 - val_loss: 13.4711\n",
      "Epoch 40/50\n",
      "3/3 [==============================] - 0s 14ms/step - loss: 11.2585 - val_loss: 13.5024\n",
      "Epoch 41/50\n",
      "3/3 [==============================] - 0s 14ms/step - loss: 11.2379 - val_loss: 13.4050\n",
      "Epoch 42/50\n",
      "3/3 [==============================] - 0s 14ms/step - loss: 11.2185 - val_loss: 13.0890\n",
      "Epoch 43/50\n",
      "3/3 [==============================] - 0s 13ms/step - loss: 11.2009 - val_loss: 13.0358\n",
      "Epoch 44/50\n",
      "3/3 [==============================] - 0s 15ms/step - loss: 11.1849 - val_loss: 12.8032\n",
      "Epoch 45/50\n",
      "3/3 [==============================] - 0s 14ms/step - loss: 11.1617 - val_loss: 12.8426\n",
      "Epoch 46/50\n",
      "3/3 [==============================] - 0s 14ms/step - loss: 11.1423 - val_loss: 12.6223\n",
      "Epoch 47/50\n",
      "3/3 [==============================] - 0s 14ms/step - loss: 11.1244 - val_loss: 12.5493\n",
      "Epoch 48/50\n",
      "3/3 [==============================] - 0s 14ms/step - loss: 11.1067 - val_loss: 12.3586\n",
      "Epoch 49/50\n",
      "3/3 [==============================] - 0s 14ms/step - loss: 11.0929 - val_loss: 12.2042\n",
      "Epoch 50/50\n",
      "3/3 [==============================] - 0s 14ms/step - loss: 11.0751 - val_loss: 12.1590\n",
      "============== EVALUATION ==============\n"
     ]
    },
    {
     "name": "stderr",
     "output_type": "stream",
     "text": [
      "C:\\Users\\Baejs\\anaconda3\\envs\\bae\\lib\\site-packages\\keras\\src\\engine\\training.py:3000: UserWarning: You are saving your model as an HDF5 file via `model.save()`. This file format is considered legacy. We recommend using instead the native Keras format, e.g. `model.save('my_model.keras')`.\n",
      "  saving_api.save_model(\n",
      "  0%|                                                                                           | 0/10 [00:00<?, ?it/s]"
     ]
    },
    {
     "name": "stdout",
     "output_type": "stream",
     "text": [
      "10/10 [==============================] - 0s 2ms/step\n"
     ]
    },
    {
     "name": "stderr",
     "output_type": "stream",
     "text": [
      " 10%|████████▎                                                                          | 1/10 [00:00<00:01,  8.52it/s]"
     ]
    },
    {
     "name": "stdout",
     "output_type": "stream",
     "text": [
      "10/10 [==============================] - 0s 995us/step\n",
      "10/10 [==============================] - 0s 1ms/step\n"
     ]
    },
    {
     "name": "stderr",
     "output_type": "stream",
     "text": [
      " 30%|████████████████████████▉                                                          | 3/10 [00:00<00:00, 11.54it/s]"
     ]
    },
    {
     "name": "stdout",
     "output_type": "stream",
     "text": [
      "10/10 [==============================] - 0s 998us/step\n",
      "10/10 [==============================] - 0s 1ms/step\n"
     ]
    },
    {
     "name": "stderr",
     "output_type": "stream",
     "text": [
      " 50%|█████████████████████████████████████████▌                                         | 5/10 [00:00<00:00, 12.56it/s]"
     ]
    },
    {
     "name": "stdout",
     "output_type": "stream",
     "text": [
      "10/10 [==============================] - 0s 2ms/step\n",
      "10/10 [==============================] - 0s 2ms/step\n"
     ]
    },
    {
     "name": "stderr",
     "output_type": "stream",
     "text": [
      " 70%|██████████████████████████████████████████████████████████                         | 7/10 [00:00<00:00, 12.19it/s]"
     ]
    },
    {
     "name": "stdout",
     "output_type": "stream",
     "text": [
      "10/10 [==============================] - 0s 1ms/step\n",
      "10/10 [==============================] - 0s 1ms/step\n"
     ]
    },
    {
     "name": "stderr",
     "output_type": "stream",
     "text": [
      " 90%|██████████████████████████████████████████████████████████████████████████▋        | 9/10 [00:00<00:00, 12.22it/s]"
     ]
    },
    {
     "name": "stdout",
     "output_type": "stream",
     "text": [
      "10/10 [==============================] - 0s 1ms/step\n"
     ]
    },
    {
     "name": "stderr",
     "output_type": "stream",
     "text": [
      "100%|██████████████████████████████████████████████████████████████████████████████████| 10/10 [00:00<00:00, 12.01it/s]\n",
      "2023-08-26 00:53:31,951 - INFO - AUC : 0.2\n"
     ]
    },
    {
     "name": "stdout",
     "output_type": "stream",
     "text": [
      "===========================\n",
      "\n",
      "===========================\n",
      "Epoch 1/50\n",
      "3/3 [==============================] - 1s 60ms/step - loss: 20.1739 - val_loss: 28.0496\n",
      "Epoch 2/50\n",
      "3/3 [==============================] - 0s 16ms/step - loss: 19.4774 - val_loss: 26.3919\n",
      "Epoch 3/50\n",
      "3/3 [==============================] - 0s 16ms/step - loss: 15.2155 - val_loss: 27.1645\n",
      "Epoch 4/50\n",
      "3/3 [==============================] - 0s 17ms/step - loss: 15.6702 - val_loss: 24.4470\n",
      "Epoch 5/50\n",
      "3/3 [==============================] - 0s 14ms/step - loss: 14.1332 - val_loss: 24.4700\n",
      "Epoch 6/50\n",
      "3/3 [==============================] - 0s 14ms/step - loss: 14.2039 - val_loss: 22.5203\n",
      "Epoch 7/50\n",
      "3/3 [==============================] - 0s 15ms/step - loss: 13.4198 - val_loss: 21.8174\n",
      "Epoch 8/50\n",
      "3/3 [==============================] - 0s 14ms/step - loss: 13.4876 - val_loss: 20.9252\n",
      "Epoch 9/50\n",
      "3/3 [==============================] - 0s 16ms/step - loss: 13.0711 - val_loss: 21.3155\n",
      "Epoch 10/50\n",
      "3/3 [==============================] - 0s 14ms/step - loss: 13.0233 - val_loss: 21.1766\n",
      "Epoch 11/50\n",
      "3/3 [==============================] - 0s 22ms/step - loss: 12.7453 - val_loss: 21.4674\n",
      "Epoch 12/50\n",
      "3/3 [==============================] - 0s 14ms/step - loss: 12.6897 - val_loss: 21.6799\n",
      "Epoch 13/50\n",
      "3/3 [==============================] - 0s 14ms/step - loss: 12.5446 - val_loss: 21.6303\n",
      "Epoch 14/50\n",
      "3/3 [==============================] - 0s 14ms/step - loss: 12.4692 - val_loss: 21.1291\n",
      "Epoch 15/50\n",
      "3/3 [==============================] - 0s 14ms/step - loss: 12.3751 - val_loss: 20.8600\n",
      "Epoch 16/50\n",
      "3/3 [==============================] - 0s 14ms/step - loss: 12.3021 - val_loss: 20.5961\n",
      "Epoch 17/50\n",
      "3/3 [==============================] - 0s 14ms/step - loss: 12.2279 - val_loss: 20.5103\n",
      "Epoch 18/50\n",
      "3/3 [==============================] - 0s 15ms/step - loss: 12.1553 - val_loss: 20.6980\n",
      "Epoch 19/50\n",
      "3/3 [==============================] - 0s 14ms/step - loss: 12.0941 - val_loss: 20.4864\n",
      "Epoch 20/50\n",
      "3/3 [==============================] - 0s 14ms/step - loss: 12.0399 - val_loss: 20.3850\n",
      "Epoch 21/50\n",
      "3/3 [==============================] - 0s 15ms/step - loss: 11.9806 - val_loss: 20.2714\n",
      "Epoch 22/50\n",
      "3/3 [==============================] - 0s 14ms/step - loss: 11.9315 - val_loss: 20.2992\n",
      "Epoch 23/50\n",
      "3/3 [==============================] - 0s 14ms/step - loss: 11.8853 - val_loss: 20.0819\n",
      "Epoch 24/50\n",
      "3/3 [==============================] - 0s 14ms/step - loss: 11.8382 - val_loss: 19.9481\n",
      "Epoch 25/50\n",
      "3/3 [==============================] - 0s 14ms/step - loss: 11.7972 - val_loss: 19.8714\n",
      "Epoch 26/50\n",
      "3/3 [==============================] - 0s 14ms/step - loss: 11.7542 - val_loss: 19.6360\n",
      "Epoch 27/50\n",
      "3/3 [==============================] - 0s 14ms/step - loss: 11.7170 - val_loss: 19.5619\n",
      "Epoch 28/50\n",
      "3/3 [==============================] - 0s 14ms/step - loss: 11.6808 - val_loss: 19.5733\n",
      "Epoch 29/50\n",
      "3/3 [==============================] - 0s 14ms/step - loss: 11.6456 - val_loss: 19.3625\n",
      "Epoch 30/50\n",
      "3/3 [==============================] - 0s 14ms/step - loss: 11.6102 - val_loss: 18.9880\n",
      "Epoch 31/50\n",
      "3/3 [==============================] - 0s 15ms/step - loss: 11.5779 - val_loss: 18.9617\n",
      "Epoch 32/50\n",
      "3/3 [==============================] - 0s 14ms/step - loss: 11.5503 - val_loss: 19.2370\n",
      "Epoch 33/50\n",
      "3/3 [==============================] - 0s 14ms/step - loss: 11.5180 - val_loss: 18.9723\n",
      "Epoch 34/50\n",
      "3/3 [==============================] - 0s 14ms/step - loss: 11.4922 - val_loss: 18.7203\n",
      "Epoch 35/50\n",
      "3/3 [==============================] - 0s 14ms/step - loss: 11.4699 - val_loss: 18.4760\n",
      "Epoch 36/50\n",
      "3/3 [==============================] - 0s 13ms/step - loss: 11.4413 - val_loss: 18.4940\n",
      "Epoch 37/50\n",
      "3/3 [==============================] - 0s 14ms/step - loss: 11.4199 - val_loss: 18.4318\n",
      "Epoch 38/50\n",
      "3/3 [==============================] - 0s 14ms/step - loss: 11.4009 - val_loss: 18.3379\n",
      "Epoch 39/50\n",
      "3/3 [==============================] - 0s 14ms/step - loss: 11.3784 - val_loss: 17.9756\n",
      "Epoch 40/50\n",
      "3/3 [==============================] - 0s 14ms/step - loss: 11.3559 - val_loss: 17.7906\n",
      "Epoch 41/50\n",
      "3/3 [==============================] - 0s 22ms/step - loss: 11.3373 - val_loss: 17.8977\n",
      "Epoch 42/50\n",
      "3/3 [==============================] - 0s 14ms/step - loss: 11.3183 - val_loss: 17.8410\n",
      "Epoch 43/50\n",
      "3/3 [==============================] - 0s 14ms/step - loss: 11.2996 - val_loss: 17.6505\n",
      "Epoch 44/50\n",
      "3/3 [==============================] - 0s 14ms/step - loss: 11.2798 - val_loss: 17.3835\n",
      "Epoch 45/50\n",
      "3/3 [==============================] - 0s 14ms/step - loss: 11.2623 - val_loss: 17.2763\n",
      "Epoch 46/50\n",
      "3/3 [==============================] - 0s 15ms/step - loss: 11.2470 - val_loss: 17.2190\n",
      "Epoch 47/50\n",
      "3/3 [==============================] - 0s 14ms/step - loss: 11.2283 - val_loss: 17.2640\n",
      "Epoch 48/50\n",
      "3/3 [==============================] - 0s 13ms/step - loss: 11.2167 - val_loss: 17.1764\n",
      "Epoch 49/50\n",
      "3/3 [==============================] - 0s 14ms/step - loss: 11.1979 - val_loss: 16.7186\n",
      "Epoch 50/50\n",
      "3/3 [==============================] - 0s 15ms/step - loss: 11.1872 - val_loss: 16.6119\n",
      "============== EVALUATION ==============\n"
     ]
    },
    {
     "name": "stderr",
     "output_type": "stream",
     "text": [
      "C:\\Users\\Baejs\\anaconda3\\envs\\bae\\lib\\site-packages\\keras\\src\\engine\\training.py:3000: UserWarning: You are saving your model as an HDF5 file via `model.save()`. This file format is considered legacy. We recommend using instead the native Keras format, e.g. `model.save('my_model.keras')`.\n",
      "  saving_api.save_model(\n",
      "  0%|                                                                                           | 0/10 [00:00<?, ?it/s]"
     ]
    },
    {
     "name": "stdout",
     "output_type": "stream",
     "text": [
      "10/10 [==============================] - 0s 1ms/step\n"
     ]
    },
    {
     "name": "stderr",
     "output_type": "stream",
     "text": [
      " 10%|████████▎                                                                          | 1/10 [00:00<00:01,  8.87it/s]"
     ]
    },
    {
     "name": "stdout",
     "output_type": "stream",
     "text": [
      "10/10 [==============================] - 0s 1000us/step\n",
      "10/10 [==============================] - 0s 1ms/step\n"
     ]
    },
    {
     "name": "stderr",
     "output_type": "stream",
     "text": [
      " 30%|████████████████████████▉                                                          | 3/10 [00:00<00:00, 12.08it/s]"
     ]
    },
    {
     "name": "stdout",
     "output_type": "stream",
     "text": [
      "10/10 [==============================] - 0s 1ms/step\n",
      "10/10 [==============================] - 0s 1ms/step\n"
     ]
    },
    {
     "name": "stderr",
     "output_type": "stream",
     "text": [
      " 50%|█████████████████████████████████████████▌                                         | 5/10 [00:00<00:00, 12.82it/s]"
     ]
    },
    {
     "name": "stdout",
     "output_type": "stream",
     "text": [
      "10/10 [==============================] - 0s 2ms/step\n",
      "10/10 [==============================] - 0s 1ms/step\n"
     ]
    },
    {
     "name": "stderr",
     "output_type": "stream",
     "text": [
      " 70%|██████████████████████████████████████████████████████████                         | 7/10 [00:00<00:00, 13.09it/s]"
     ]
    },
    {
     "name": "stdout",
     "output_type": "stream",
     "text": [
      "10/10 [==============================] - 0s 1ms/step\n",
      "10/10 [==============================] - 0s 1ms/step\n"
     ]
    },
    {
     "name": "stderr",
     "output_type": "stream",
     "text": [
      " 90%|██████████████████████████████████████████████████████████████████████████▋        | 9/10 [00:00<00:00, 13.21it/s]"
     ]
    },
    {
     "name": "stdout",
     "output_type": "stream",
     "text": [
      "10/10 [==============================] - 0s 1ms/step\n"
     ]
    },
    {
     "name": "stderr",
     "output_type": "stream",
     "text": [
      "100%|██████████████████████████████████████████████████████████████████████████████████| 10/10 [00:00<00:00, 12.87it/s]\n",
      "2023-08-26 00:53:35,486 - INFO - AUC : 0.24\n"
     ]
    },
    {
     "name": "stdout",
     "output_type": "stream",
     "text": [
      "===========================\n",
      "\n",
      "===========================\n",
      "Epoch 1/50\n",
      "3/3 [==============================] - 1s 66ms/step - loss: 21.9142 - val_loss: 26.4087\n",
      "Epoch 2/50\n",
      "3/3 [==============================] - 0s 16ms/step - loss: 19.7142 - val_loss: 24.5131\n",
      "Epoch 3/50\n",
      "3/3 [==============================] - 0s 17ms/step - loss: 17.2791 - val_loss: 26.9021\n",
      "Epoch 4/50\n",
      "3/3 [==============================] - 0s 15ms/step - loss: 16.4535 - val_loss: 26.4053\n",
      "Epoch 5/50\n",
      "3/3 [==============================] - 0s 16ms/step - loss: 16.5369 - val_loss: 24.8324\n",
      "Epoch 6/50\n",
      "3/3 [==============================] - 0s 15ms/step - loss: 15.5718 - val_loss: 23.5444\n",
      "Epoch 7/50\n",
      "3/3 [==============================] - 0s 17ms/step - loss: 15.6460 - val_loss: 21.8856\n",
      "Epoch 8/50\n",
      "3/3 [==============================] - 0s 16ms/step - loss: 15.1824 - val_loss: 21.7814\n",
      "Epoch 9/50\n",
      "3/3 [==============================] - 0s 15ms/step - loss: 15.1722 - val_loss: 21.9189\n",
      "Epoch 10/50\n",
      "3/3 [==============================] - 0s 15ms/step - loss: 14.9970 - val_loss: 21.8859\n",
      "Epoch 11/50\n",
      "3/3 [==============================] - 0s 20ms/step - loss: 14.8866 - val_loss: 22.0902\n",
      "Epoch 12/50\n",
      "3/3 [==============================] - 0s 14ms/step - loss: 14.7868 - val_loss: 22.6015\n",
      "Epoch 13/50\n",
      "3/3 [==============================] - 0s 15ms/step - loss: 14.6748 - val_loss: 22.6884\n",
      "Epoch 14/50\n",
      "3/3 [==============================] - 0s 17ms/step - loss: 14.6045 - val_loss: 22.5544\n",
      "Epoch 15/50\n",
      "3/3 [==============================] - 0s 15ms/step - loss: 14.5398 - val_loss: 22.8188\n",
      "Epoch 16/50\n",
      "3/3 [==============================] - 0s 16ms/step - loss: 14.4297 - val_loss: 23.0303\n",
      "Epoch 17/50\n",
      "3/3 [==============================] - 0s 16ms/step - loss: 14.3640 - val_loss: 22.6605\n",
      "Epoch 18/50\n",
      "3/3 [==============================] - 0s 15ms/step - loss: 14.2707 - val_loss: 22.2817\n",
      "Epoch 19/50\n",
      "3/3 [==============================] - 0s 14ms/step - loss: 14.1857 - val_loss: 22.2599\n",
      "Epoch 20/50\n",
      "3/3 [==============================] - 0s 14ms/step - loss: 14.0988 - val_loss: 22.5571\n",
      "Epoch 21/50\n",
      "3/3 [==============================] - 0s 15ms/step - loss: 14.0055 - val_loss: 22.6086\n",
      "Epoch 22/50\n",
      "3/3 [==============================] - 0s 15ms/step - loss: 13.9178 - val_loss: 22.5952\n",
      "Epoch 23/50\n",
      "3/3 [==============================] - 0s 15ms/step - loss: 13.8237 - val_loss: 22.9380\n",
      "Epoch 24/50\n",
      "3/3 [==============================] - 0s 14ms/step - loss: 13.7397 - val_loss: 23.2170\n",
      "Epoch 25/50\n",
      "3/3 [==============================] - 0s 15ms/step - loss: 13.6447 - val_loss: 22.8064\n",
      "Epoch 26/50\n",
      "3/3 [==============================] - 0s 14ms/step - loss: 13.5541 - val_loss: 22.5969\n",
      "Epoch 27/50\n",
      "3/3 [==============================] - 0s 16ms/step - loss: 13.4665 - val_loss: 22.7617\n",
      "Epoch 28/50\n",
      "3/3 [==============================] - 0s 14ms/step - loss: 13.3857 - val_loss: 22.9285\n",
      "Epoch 29/50\n",
      "3/3 [==============================] - 0s 15ms/step - loss: 13.3062 - val_loss: 22.7067\n",
      "Epoch 30/50\n",
      "3/3 [==============================] - 0s 15ms/step - loss: 13.2273 - val_loss: 22.6047\n",
      "Epoch 31/50\n",
      "3/3 [==============================] - 0s 15ms/step - loss: 13.1559 - val_loss: 22.6258\n",
      "Epoch 32/50\n",
      "3/3 [==============================] - 0s 14ms/step - loss: 13.0824 - val_loss: 22.7387\n",
      "Epoch 33/50\n",
      "3/3 [==============================] - 0s 14ms/step - loss: 13.0143 - val_loss: 22.7128\n",
      "Epoch 34/50\n",
      "3/3 [==============================] - 0s 15ms/step - loss: 12.9489 - val_loss: 22.4193\n",
      "Epoch 35/50\n",
      "3/3 [==============================] - 0s 15ms/step - loss: 12.8879 - val_loss: 22.3780\n",
      "Epoch 36/50\n",
      "3/3 [==============================] - 0s 14ms/step - loss: 12.8332 - val_loss: 22.2358\n",
      "Epoch 37/50\n",
      "3/3 [==============================] - 0s 15ms/step - loss: 12.7706 - val_loss: 22.1215\n",
      "Epoch 38/50\n",
      "3/3 [==============================] - 0s 15ms/step - loss: 12.7068 - val_loss: 22.2159\n",
      "Epoch 39/50\n",
      "3/3 [==============================] - 0s 14ms/step - loss: 12.6555 - val_loss: 21.6651\n",
      "Epoch 40/50\n",
      "3/3 [==============================] - 0s 14ms/step - loss: 12.5935 - val_loss: 21.8692\n",
      "Epoch 41/50\n",
      "3/3 [==============================] - 0s 14ms/step - loss: 12.5426 - val_loss: 21.7387\n",
      "Epoch 42/50\n",
      "3/3 [==============================] - 0s 16ms/step - loss: 12.4980 - val_loss: 21.2435\n",
      "Epoch 43/50\n",
      "3/3 [==============================] - 0s 25ms/step - loss: 12.4584 - val_loss: 21.2696\n",
      "Epoch 44/50\n",
      "3/3 [==============================] - 0s 14ms/step - loss: 12.4086 - val_loss: 20.9416\n",
      "Epoch 45/50\n",
      "3/3 [==============================] - 0s 15ms/step - loss: 12.3708 - val_loss: 20.6354\n",
      "Epoch 46/50\n",
      "3/3 [==============================] - 0s 14ms/step - loss: 12.3342 - val_loss: 20.7509\n",
      "Epoch 47/50\n",
      "3/3 [==============================] - 0s 14ms/step - loss: 12.2985 - val_loss: 20.6151\n",
      "Epoch 48/50\n",
      "3/3 [==============================] - 0s 17ms/step - loss: 12.2693 - val_loss: 20.4610\n",
      "Epoch 49/50\n",
      "3/3 [==============================] - 0s 15ms/step - loss: 12.2422 - val_loss: 20.1801\n",
      "Epoch 50/50\n",
      "3/3 [==============================] - 0s 16ms/step - loss: 12.2125 - val_loss: 19.9138\n",
      "============== EVALUATION ==============\n"
     ]
    },
    {
     "name": "stderr",
     "output_type": "stream",
     "text": [
      "C:\\Users\\Baejs\\anaconda3\\envs\\bae\\lib\\site-packages\\keras\\src\\engine\\training.py:3000: UserWarning: You are saving your model as an HDF5 file via `model.save()`. This file format is considered legacy. We recommend using instead the native Keras format, e.g. `model.save('my_model.keras')`.\n",
      "  saving_api.save_model(\n",
      "  0%|                                                                                           | 0/10 [00:00<?, ?it/s]"
     ]
    },
    {
     "name": "stdout",
     "output_type": "stream",
     "text": [
      "10/10 [==============================] - 0s 1ms/step\n"
     ]
    },
    {
     "name": "stderr",
     "output_type": "stream",
     "text": [
      " 10%|████████▎                                                                          | 1/10 [00:00<00:01,  7.96it/s]"
     ]
    },
    {
     "name": "stdout",
     "output_type": "stream",
     "text": [
      "10/10 [==============================] - 0s 1ms/step\n",
      "10/10 [==============================] - 0s 1ms/step\n"
     ]
    },
    {
     "name": "stderr",
     "output_type": "stream",
     "text": [
      " 30%|████████████████████████▉                                                          | 3/10 [00:00<00:00, 10.57it/s]"
     ]
    },
    {
     "name": "stdout",
     "output_type": "stream",
     "text": [
      "10/10 [==============================] - 0s 1ms/step\n",
      "10/10 [==============================] - 0s 1ms/step\n"
     ]
    },
    {
     "name": "stderr",
     "output_type": "stream",
     "text": [
      " 50%|█████████████████████████████████████████▌                                         | 5/10 [00:00<00:00, 11.50it/s]"
     ]
    },
    {
     "name": "stdout",
     "output_type": "stream",
     "text": [
      "10/10 [==============================] - 0s 1ms/step\n",
      "10/10 [==============================] - 0s 2ms/step\n"
     ]
    },
    {
     "name": "stderr",
     "output_type": "stream",
     "text": [
      " 70%|██████████████████████████████████████████████████████████                         | 7/10 [00:00<00:00, 11.73it/s]"
     ]
    },
    {
     "name": "stdout",
     "output_type": "stream",
     "text": [
      "10/10 [==============================] - 0s 1ms/step\n",
      "10/10 [==============================] - 0s 1ms/step\n"
     ]
    },
    {
     "name": "stderr",
     "output_type": "stream",
     "text": [
      " 90%|██████████████████████████████████████████████████████████████████████████▋        | 9/10 [00:00<00:00, 12.00it/s]"
     ]
    },
    {
     "name": "stdout",
     "output_type": "stream",
     "text": [
      "10/10 [==============================] - 0s 1ms/step\n"
     ]
    },
    {
     "name": "stderr",
     "output_type": "stream",
     "text": [
      "100%|██████████████████████████████████████████████████████████████████████████████████| 10/10 [00:00<00:00, 11.57it/s]\n",
      "2023-08-26 00:53:39,187 - INFO - AUC : 0.2\n",
      "2023-08-26 00:53:39,188 - INFO - all results -> ./result_transfer_pretrain_v1/result_transfer_pretrain_v1.yaml\n",
      "2023-08-26 00:53:39,194 - INFO - target_dir : ../Sample_data\n",
      "2023-08-26 00:53:39,196 - INFO - train_file num : 5\n",
      "2023-08-26 00:53:39,198 - INFO - eval_file  num : 10\n"
     ]
    },
    {
     "name": "stdout",
     "output_type": "stream",
     "text": [
      "===========================\n",
      "===========================\n",
      "\n",
      "===========================\n"
     ]
    },
    {
     "name": "stderr",
     "output_type": "stream",
     "text": [
      "generate train_dataset: 100%|████████████████████████████████████████████████████████████| 5/5 [00:00<00:00, 75.96it/s]\n",
      "2023-08-26 00:53:39,267 - INFO - save_pickle -> ./pickle_transfer_pretrain_v1/train_slider_id_00.pickle\n",
      "2023-08-26 00:53:39,273 - INFO - save_pickle -> ./pickle_transfer_pretrain_v1/eval_files_slider_id_00.pickle\n",
      "2023-08-26 00:53:39,276 - INFO - save_pickle -> ./pickle_transfer_pretrain_v1/eval_labels_slider_id_00.pickle\n"
     ]
    },
    {
     "name": "stdout",
     "output_type": "stream",
     "text": [
      "\n",
      "===========================\n",
      "Epoch 1/50\n",
      "3/3 [==============================] - 1s 61ms/step - loss: 14.2264 - val_loss: 12.1368\n",
      "Epoch 2/50\n",
      "3/3 [==============================] - 0s 17ms/step - loss: 12.9720 - val_loss: 8.2262\n",
      "Epoch 3/50\n",
      "3/3 [==============================] - 0s 16ms/step - loss: 9.8831 - val_loss: 8.7014\n",
      "Epoch 4/50\n",
      "3/3 [==============================] - 0s 16ms/step - loss: 9.7036 - val_loss: 6.5383\n",
      "Epoch 5/50\n",
      "3/3 [==============================] - 0s 14ms/step - loss: 9.2521 - val_loss: 6.5140\n",
      "Epoch 6/50\n",
      "3/3 [==============================] - 0s 16ms/step - loss: 8.4046 - val_loss: 5.8972\n",
      "Epoch 7/50\n",
      "3/3 [==============================] - 0s 15ms/step - loss: 8.5021 - val_loss: 5.9506\n",
      "Epoch 8/50\n",
      "3/3 [==============================] - 0s 15ms/step - loss: 7.7820 - val_loss: 6.3845\n",
      "Epoch 9/50\n",
      "3/3 [==============================] - 0s 16ms/step - loss: 7.8886 - val_loss: 5.8026\n",
      "Epoch 10/50\n",
      "3/3 [==============================] - 0s 21ms/step - loss: 7.5331 - val_loss: 5.5461\n",
      "Epoch 11/50\n",
      "3/3 [==============================] - 0s 15ms/step - loss: 7.4839 - val_loss: 5.5376\n",
      "Epoch 12/50\n",
      "3/3 [==============================] - 0s 13ms/step - loss: 7.3548 - val_loss: 5.5664\n",
      "Epoch 13/50\n",
      "3/3 [==============================] - 0s 14ms/step - loss: 7.2076 - val_loss: 5.4076\n",
      "Epoch 14/50\n",
      "3/3 [==============================] - 0s 14ms/step - loss: 7.1565 - val_loss: 5.3809\n",
      "Epoch 15/50\n",
      "3/3 [==============================] - 0s 15ms/step - loss: 7.0538 - val_loss: 5.3596\n",
      "Epoch 16/50\n",
      "3/3 [==============================] - 0s 13ms/step - loss: 6.9759 - val_loss: 5.2582\n",
      "Epoch 17/50\n",
      "3/3 [==============================] - 0s 15ms/step - loss: 6.9338 - val_loss: 5.2690\n",
      "Epoch 18/50\n",
      "3/3 [==============================] - 0s 17ms/step - loss: 6.8646 - val_loss: 5.2951\n",
      "Epoch 19/50\n",
      "3/3 [==============================] - 0s 15ms/step - loss: 6.8072 - val_loss: 5.2231\n",
      "Epoch 20/50\n",
      "3/3 [==============================] - 0s 14ms/step - loss: 6.7614 - val_loss: 5.2238\n",
      "Epoch 21/50\n",
      "3/3 [==============================] - 0s 14ms/step - loss: 6.7141 - val_loss: 5.1860\n",
      "Epoch 22/50\n",
      "3/3 [==============================] - 0s 15ms/step - loss: 6.6615 - val_loss: 5.1914\n",
      "Epoch 23/50\n",
      "3/3 [==============================] - 0s 16ms/step - loss: 6.6172 - val_loss: 5.2343\n",
      "Epoch 24/50\n",
      "3/3 [==============================] - 0s 14ms/step - loss: 6.5755 - val_loss: 5.1666\n",
      "Epoch 25/50\n",
      "3/3 [==============================] - 0s 15ms/step - loss: 6.5321 - val_loss: 5.1638\n",
      "Epoch 26/50\n",
      "3/3 [==============================] - 0s 27ms/step - loss: 6.4867 - val_loss: 5.1750\n",
      "Epoch 27/50\n",
      "3/3 [==============================] - 0s 17ms/step - loss: 6.4440 - val_loss: 5.1474\n",
      "Epoch 28/50\n",
      "3/3 [==============================] - 0s 15ms/step - loss: 6.4017 - val_loss: 5.1964\n",
      "Epoch 29/50\n",
      "3/3 [==============================] - 0s 15ms/step - loss: 6.3633 - val_loss: 5.1952\n",
      "Epoch 30/50\n",
      "3/3 [==============================] - 0s 15ms/step - loss: 6.3220 - val_loss: 5.1631\n",
      "Epoch 31/50\n",
      "3/3 [==============================] - 0s 16ms/step - loss: 6.2818 - val_loss: 5.1789\n",
      "Epoch 32/50\n",
      "3/3 [==============================] - 0s 15ms/step - loss: 6.2433 - val_loss: 5.1772\n",
      "Epoch 33/50\n",
      "3/3 [==============================] - 0s 15ms/step - loss: 6.2058 - val_loss: 5.1828\n",
      "Epoch 34/50\n",
      "3/3 [==============================] - 0s 15ms/step - loss: 6.1687 - val_loss: 5.1726\n",
      "Epoch 35/50\n",
      "3/3 [==============================] - 0s 15ms/step - loss: 6.1325 - val_loss: 5.1936\n",
      "Epoch 36/50\n",
      "3/3 [==============================] - 0s 15ms/step - loss: 6.0960 - val_loss: 5.1728\n",
      "Epoch 37/50\n",
      "3/3 [==============================] - 0s 14ms/step - loss: 6.0623 - val_loss: 5.2097\n",
      "Epoch 38/50\n",
      "3/3 [==============================] - 0s 16ms/step - loss: 6.0307 - val_loss: 5.1890\n",
      "Epoch 39/50\n",
      "3/3 [==============================] - 0s 16ms/step - loss: 5.9966 - val_loss: 5.1822\n",
      "Epoch 40/50\n",
      "3/3 [==============================] - 0s 21ms/step - loss: 5.9651 - val_loss: 5.1784\n",
      "Epoch 41/50\n",
      "3/3 [==============================] - 0s 14ms/step - loss: 5.9353 - val_loss: 5.2024\n",
      "Epoch 42/50\n",
      "3/3 [==============================] - 0s 14ms/step - loss: 5.9046 - val_loss: 5.2102\n",
      "Epoch 43/50\n",
      "3/3 [==============================] - 0s 14ms/step - loss: 5.8744 - val_loss: 5.1987\n",
      "Epoch 44/50\n",
      "3/3 [==============================] - 0s 13ms/step - loss: 5.8438 - val_loss: 5.1923\n",
      "Epoch 45/50\n",
      "3/3 [==============================] - 0s 18ms/step - loss: 5.8157 - val_loss: 5.2064\n",
      "Epoch 46/50\n",
      "3/3 [==============================] - 0s 17ms/step - loss: 5.7883 - val_loss: 5.2160\n",
      "Epoch 47/50\n",
      "3/3 [==============================] - 0s 27ms/step - loss: 5.7633 - val_loss: 5.2116\n",
      "Epoch 48/50\n",
      "3/3 [==============================] - 0s 16ms/step - loss: 5.7398 - val_loss: 5.1853\n",
      "Epoch 49/50\n",
      "3/3 [==============================] - 0s 14ms/step - loss: 5.7166 - val_loss: 5.1969\n",
      "Epoch 50/50\n",
      "3/3 [==============================] - 0s 21ms/step - loss: 5.6952 - val_loss: 5.2287\n"
     ]
    },
    {
     "name": "stderr",
     "output_type": "stream",
     "text": [
      "C:\\Users\\Baejs\\anaconda3\\envs\\bae\\lib\\site-packages\\keras\\src\\engine\\training.py:3000: UserWarning: You are saving your model as an HDF5 file via `model.save()`. This file format is considered legacy. We recommend using instead the native Keras format, e.g. `model.save('my_model.keras')`.\n",
      "  saving_api.save_model(\n"
     ]
    },
    {
     "name": "stdout",
     "output_type": "stream",
     "text": [
      "============== EVALUATION ==============\n"
     ]
    },
    {
     "name": "stderr",
     "output_type": "stream",
     "text": [
      "  0%|                                                                                           | 0/10 [00:00<?, ?it/s]"
     ]
    },
    {
     "name": "stdout",
     "output_type": "stream",
     "text": [
      "10/10 [==============================] - 0s 1ms/step\n"
     ]
    },
    {
     "name": "stderr",
     "output_type": "stream",
     "text": [
      " 10%|████████▎                                                                          | 1/10 [00:00<00:01,  8.66it/s]"
     ]
    },
    {
     "name": "stdout",
     "output_type": "stream",
     "text": [
      "10/10 [==============================] - 0s 1ms/step\n",
      "10/10 [==============================] - 0s 1000us/step\n"
     ]
    },
    {
     "name": "stderr",
     "output_type": "stream",
     "text": [
      " 30%|████████████████████████▉                                                          | 3/10 [00:00<00:00, 11.92it/s]"
     ]
    },
    {
     "name": "stdout",
     "output_type": "stream",
     "text": [
      "10/10 [==============================] - 0s 1ms/step\n",
      "10/10 [==============================] - 0s 1ms/step\n"
     ]
    },
    {
     "name": "stderr",
     "output_type": "stream",
     "text": [
      " 50%|█████████████████████████████████████████▌                                         | 5/10 [00:00<00:00, 12.53it/s]"
     ]
    },
    {
     "name": "stdout",
     "output_type": "stream",
     "text": [
      "10/10 [==============================] - 0s 1ms/step\n",
      "10/10 [==============================] - 0s 1ms/step\n"
     ]
    },
    {
     "name": "stderr",
     "output_type": "stream",
     "text": [
      " 70%|██████████████████████████████████████████████████████████                         | 7/10 [00:00<00:00, 12.44it/s]"
     ]
    },
    {
     "name": "stdout",
     "output_type": "stream",
     "text": [
      "10/10 [==============================] - 0s 1ms/step\n",
      "10/10 [==============================] - 0s 1ms/step\n"
     ]
    },
    {
     "name": "stderr",
     "output_type": "stream",
     "text": [
      " 90%|██████████████████████████████████████████████████████████████████████████▋        | 9/10 [00:00<00:00, 12.42it/s]"
     ]
    },
    {
     "name": "stdout",
     "output_type": "stream",
     "text": [
      "10/10 [==============================] - 0s 1ms/step\n"
     ]
    },
    {
     "name": "stderr",
     "output_type": "stream",
     "text": [
      "100%|██████████████████████████████████████████████████████████████████████████████████| 10/10 [00:00<00:00, 12.15it/s]\n",
      "2023-08-26 00:53:43,082 - INFO - AUC : 0.6\n"
     ]
    },
    {
     "name": "stdout",
     "output_type": "stream",
     "text": [
      "===========================\n",
      "\n",
      "===========================\n",
      "Epoch 1/50\n",
      "3/3 [==============================] - 1s 72ms/step - loss: 14.5950 - val_loss: 12.0368\n",
      "Epoch 2/50\n",
      "3/3 [==============================] - 0s 17ms/step - loss: 13.4001 - val_loss: 7.9909\n",
      "Epoch 3/50\n",
      "3/3 [==============================] - 0s 17ms/step - loss: 11.7455 - val_loss: 7.1773\n",
      "Epoch 4/50\n",
      "3/3 [==============================] - 0s 16ms/step - loss: 9.9164 - val_loss: 6.5654\n",
      "Epoch 5/50\n",
      "3/3 [==============================] - 0s 16ms/step - loss: 10.3381 - val_loss: 5.4285\n",
      "Epoch 6/50\n",
      "3/3 [==============================] - 0s 14ms/step - loss: 9.3426 - val_loss: 6.6026\n",
      "Epoch 7/50\n",
      "3/3 [==============================] - 0s 15ms/step - loss: 9.4064 - val_loss: 5.5179\n",
      "Epoch 8/50\n",
      "3/3 [==============================] - 0s 14ms/step - loss: 9.0308 - val_loss: 5.6316\n",
      "Epoch 9/50\n",
      "3/3 [==============================] - 0s 15ms/step - loss: 8.8640 - val_loss: 5.6174\n",
      "Epoch 10/50\n",
      "3/3 [==============================] - 0s 15ms/step - loss: 8.7439 - val_loss: 5.5729\n",
      "Epoch 11/50\n",
      "3/3 [==============================] - 0s 17ms/step - loss: 8.5386 - val_loss: 5.2598\n",
      "Epoch 12/50\n",
      "3/3 [==============================] - 0s 15ms/step - loss: 8.5006 - val_loss: 5.1846\n",
      "Epoch 13/50\n",
      "3/3 [==============================] - 0s 15ms/step - loss: 8.3326 - val_loss: 5.3095\n",
      "Epoch 14/50\n",
      "3/3 [==============================] - 0s 14ms/step - loss: 8.3023 - val_loss: 5.1283\n",
      "Epoch 15/50\n",
      "3/3 [==============================] - 0s 15ms/step - loss: 8.1999 - val_loss: 5.0984\n",
      "Epoch 16/50\n",
      "3/3 [==============================] - 0s 15ms/step - loss: 8.1456 - val_loss: 5.1475\n",
      "Epoch 17/50\n",
      "3/3 [==============================] - 0s 14ms/step - loss: 8.0973 - val_loss: 5.1074\n",
      "Epoch 18/50\n",
      "3/3 [==============================] - 0s 15ms/step - loss: 8.0325 - val_loss: 5.0187\n",
      "Epoch 19/50\n",
      "3/3 [==============================] - 0s 14ms/step - loss: 7.9987 - val_loss: 5.0239\n",
      "Epoch 20/50\n",
      "3/3 [==============================] - 0s 14ms/step - loss: 7.9544 - val_loss: 5.0267\n",
      "Epoch 21/50\n",
      "3/3 [==============================] - 0s 14ms/step - loss: 7.9150 - val_loss: 4.9614\n",
      "Epoch 22/50\n",
      "3/3 [==============================] - 0s 15ms/step - loss: 7.8858 - val_loss: 4.9848\n",
      "Epoch 23/50\n",
      "3/3 [==============================] - 0s 14ms/step - loss: 7.8523 - val_loss: 4.9919\n",
      "Epoch 24/50\n",
      "3/3 [==============================] - 0s 14ms/step - loss: 7.8261 - val_loss: 4.9605\n",
      "Epoch 25/50\n",
      "3/3 [==============================] - 0s 14ms/step - loss: 7.8012 - val_loss: 4.9395\n",
      "Epoch 26/50\n",
      "3/3 [==============================] - 0s 21ms/step - loss: 7.7767 - val_loss: 4.9444\n",
      "Epoch 27/50\n",
      "3/3 [==============================] - 0s 15ms/step - loss: 7.7551 - val_loss: 4.9405\n",
      "Epoch 28/50\n",
      "3/3 [==============================] - 0s 14ms/step - loss: 7.7322 - val_loss: 4.9518\n",
      "Epoch 29/50\n",
      "3/3 [==============================] - 0s 15ms/step - loss: 7.7108 - val_loss: 4.9447\n",
      "Epoch 30/50\n",
      "3/3 [==============================] - 0s 14ms/step - loss: 7.6899 - val_loss: 4.9189\n",
      "Epoch 31/50\n",
      "3/3 [==============================] - 0s 16ms/step - loss: 7.6665 - val_loss: 4.9243\n",
      "Epoch 32/50\n",
      "3/3 [==============================] - 0s 17ms/step - loss: 7.6437 - val_loss: 4.9228\n",
      "Epoch 33/50\n",
      "3/3 [==============================] - 0s 16ms/step - loss: 7.6217 - val_loss: 4.9226\n",
      "Epoch 34/50\n",
      "3/3 [==============================] - 0s 15ms/step - loss: 7.6014 - val_loss: 4.9494\n",
      "Epoch 35/50\n",
      "3/3 [==============================] - 0s 15ms/step - loss: 7.5761 - val_loss: 4.9207\n",
      "Epoch 36/50\n",
      "3/3 [==============================] - 0s 15ms/step - loss: 7.5525 - val_loss: 4.8992\n",
      "Epoch 37/50\n",
      "3/3 [==============================] - 0s 17ms/step - loss: 7.5196 - val_loss: 4.9291\n",
      "Epoch 38/50\n",
      "3/3 [==============================] - 0s 15ms/step - loss: 7.4884 - val_loss: 4.9287\n",
      "Epoch 39/50\n",
      "3/3 [==============================] - 0s 15ms/step - loss: 7.4571 - val_loss: 4.9240\n",
      "Epoch 40/50\n",
      "3/3 [==============================] - 0s 14ms/step - loss: 7.4217 - val_loss: 4.9222\n",
      "Epoch 41/50\n",
      "3/3 [==============================] - 0s 15ms/step - loss: 7.3882 - val_loss: 4.9312\n",
      "Epoch 42/50\n",
      "3/3 [==============================] - 0s 14ms/step - loss: 7.3573 - val_loss: 4.9326\n",
      "Epoch 43/50\n",
      "3/3 [==============================] - 0s 15ms/step - loss: 7.3165 - val_loss: 4.9292\n",
      "Epoch 44/50\n",
      "3/3 [==============================] - 0s 14ms/step - loss: 7.2747 - val_loss: 4.9354\n",
      "Epoch 45/50\n",
      "3/3 [==============================] - 0s 15ms/step - loss: 7.2249 - val_loss: 4.9223\n",
      "Epoch 46/50\n",
      "3/3 [==============================] - 0s 22ms/step - loss: 7.1780 - val_loss: 4.9161\n",
      "Epoch 47/50\n",
      "3/3 [==============================] - 0s 14ms/step - loss: 7.1310 - val_loss: 4.9241\n",
      "Epoch 48/50\n",
      "3/3 [==============================] - 0s 14ms/step - loss: 7.0834 - val_loss: 4.9375\n",
      "Epoch 49/50\n",
      "3/3 [==============================] - 0s 15ms/step - loss: 7.0368 - val_loss: 4.9459\n",
      "Epoch 50/50\n",
      "3/3 [==============================] - 0s 15ms/step - loss: 6.9728 - val_loss: 4.9529\n"
     ]
    },
    {
     "name": "stderr",
     "output_type": "stream",
     "text": [
      "C:\\Users\\Baejs\\anaconda3\\envs\\bae\\lib\\site-packages\\keras\\src\\engine\\training.py:3000: UserWarning: You are saving your model as an HDF5 file via `model.save()`. This file format is considered legacy. We recommend using instead the native Keras format, e.g. `model.save('my_model.keras')`.\n",
      "  saving_api.save_model(\n"
     ]
    },
    {
     "name": "stdout",
     "output_type": "stream",
     "text": [
      "============== EVALUATION ==============\n"
     ]
    },
    {
     "name": "stderr",
     "output_type": "stream",
     "text": [
      "  0%|                                                                                           | 0/10 [00:00<?, ?it/s]"
     ]
    },
    {
     "name": "stdout",
     "output_type": "stream",
     "text": [
      "10/10 [==============================] - 0s 997us/step\n"
     ]
    },
    {
     "name": "stderr",
     "output_type": "stream",
     "text": [
      " 10%|████████▎                                                                          | 1/10 [00:00<00:01,  8.68it/s]"
     ]
    },
    {
     "name": "stdout",
     "output_type": "stream",
     "text": [
      "10/10 [==============================] - 0s 1ms/step\n",
      "10/10 [==============================] - 0s 1ms/step\n"
     ]
    },
    {
     "name": "stderr",
     "output_type": "stream",
     "text": [
      " 30%|████████████████████████▉                                                          | 3/10 [00:00<00:00, 11.60it/s]"
     ]
    },
    {
     "name": "stdout",
     "output_type": "stream",
     "text": [
      "10/10 [==============================] - 0s 1ms/step\n",
      "10/10 [==============================] - 0s 1ms/step\n"
     ]
    },
    {
     "name": "stderr",
     "output_type": "stream",
     "text": [
      " 50%|█████████████████████████████████████████▌                                         | 5/10 [00:00<00:00, 12.53it/s]"
     ]
    },
    {
     "name": "stdout",
     "output_type": "stream",
     "text": [
      "10/10 [==============================] - 0s 1ms/step\n",
      "10/10 [==============================] - 0s 887us/step\n"
     ]
    },
    {
     "name": "stderr",
     "output_type": "stream",
     "text": [
      " 70%|██████████████████████████████████████████████████████████                         | 7/10 [00:00<00:00, 12.96it/s]"
     ]
    },
    {
     "name": "stdout",
     "output_type": "stream",
     "text": [
      "10/10 [==============================] - 0s 1ms/step\n",
      "10/10 [==============================] - 0s 2ms/step\n"
     ]
    },
    {
     "name": "stderr",
     "output_type": "stream",
     "text": [
      " 90%|██████████████████████████████████████████████████████████████████████████▋        | 9/10 [00:00<00:00, 12.61it/s]"
     ]
    },
    {
     "name": "stdout",
     "output_type": "stream",
     "text": [
      "10/10 [==============================] - 0s 1ms/step\n"
     ]
    },
    {
     "name": "stderr",
     "output_type": "stream",
     "text": [
      "100%|██████████████████████████████████████████████████████████████████████████████████| 10/10 [00:00<00:00, 12.35it/s]\n",
      "2023-08-26 00:53:46,804 - INFO - AUC : 0.68\n"
     ]
    },
    {
     "name": "stdout",
     "output_type": "stream",
     "text": [
      "===========================\n",
      "\n",
      "===========================\n",
      "Epoch 1/50\n",
      "3/3 [==============================] - 1s 64ms/step - loss: 17.6556 - val_loss: 12.6222\n",
      "Epoch 2/50\n",
      "3/3 [==============================] - 0s 17ms/step - loss: 15.8254 - val_loss: 9.6007\n",
      "Epoch 3/50\n",
      "3/3 [==============================] - 0s 17ms/step - loss: 12.7749 - val_loss: 8.6239\n",
      "Epoch 4/50\n",
      "3/3 [==============================] - 0s 15ms/step - loss: 12.8058 - val_loss: 8.3673\n",
      "Epoch 5/50\n",
      "3/3 [==============================] - 0s 15ms/step - loss: 11.7472 - val_loss: 9.0652\n",
      "Epoch 6/50\n",
      "3/3 [==============================] - 0s 15ms/step - loss: 11.3791 - val_loss: 6.5218\n",
      "Epoch 7/50\n",
      "3/3 [==============================] - 0s 17ms/step - loss: 10.9605 - val_loss: 6.6443\n",
      "Epoch 8/50\n",
      "3/3 [==============================] - 0s 15ms/step - loss: 10.3480 - val_loss: 8.2974\n",
      "Epoch 9/50\n",
      "3/3 [==============================] - 0s 15ms/step - loss: 10.1835 - val_loss: 7.1662\n",
      "Epoch 10/50\n",
      "3/3 [==============================] - 0s 18ms/step - loss: 9.6983 - val_loss: 6.2349\n",
      "Epoch 11/50\n",
      "3/3 [==============================] - 0s 14ms/step - loss: 9.5328 - val_loss: 6.8178\n",
      "Epoch 12/50\n",
      "3/3 [==============================] - 0s 16ms/step - loss: 9.2938 - val_loss: 6.6336\n",
      "Epoch 13/50\n",
      "3/3 [==============================] - 0s 15ms/step - loss: 9.0536 - val_loss: 6.0097\n",
      "Epoch 14/50\n",
      "3/3 [==============================] - 0s 15ms/step - loss: 8.9197 - val_loss: 6.2175\n",
      "Epoch 15/50\n",
      "3/3 [==============================] - 0s 15ms/step - loss: 8.7703 - val_loss: 6.2049\n",
      "Epoch 16/50\n",
      "3/3 [==============================] - 0s 16ms/step - loss: 8.6284 - val_loss: 5.9889\n",
      "Epoch 17/50\n",
      "3/3 [==============================] - 0s 14ms/step - loss: 8.5187 - val_loss: 6.1664\n",
      "Epoch 18/50\n",
      "3/3 [==============================] - 0s 15ms/step - loss: 8.4436 - val_loss: 5.6849\n",
      "Epoch 19/50\n",
      "3/3 [==============================] - 0s 14ms/step - loss: 8.3651 - val_loss: 5.8420\n",
      "Epoch 20/50\n",
      "3/3 [==============================] - 0s 15ms/step - loss: 8.3031 - val_loss: 5.8331\n",
      "Epoch 21/50\n",
      "3/3 [==============================] - 0s 15ms/step - loss: 8.2412 - val_loss: 5.6800\n",
      "Epoch 22/50\n",
      "3/3 [==============================] - 0s 15ms/step - loss: 8.1920 - val_loss: 5.7481\n",
      "Epoch 23/50\n",
      "3/3 [==============================] - 0s 15ms/step - loss: 8.1484 - val_loss: 5.6466\n",
      "Epoch 24/50\n",
      "3/3 [==============================] - 0s 14ms/step - loss: 8.1092 - val_loss: 5.7637\n",
      "Epoch 25/50\n",
      "3/3 [==============================] - 0s 14ms/step - loss: 8.0740 - val_loss: 5.6114\n",
      "Epoch 26/50\n",
      "3/3 [==============================] - 0s 14ms/step - loss: 8.0381 - val_loss: 5.6698\n",
      "Epoch 27/50\n",
      "3/3 [==============================] - 0s 14ms/step - loss: 8.0115 - val_loss: 5.5993\n",
      "Epoch 28/50\n",
      "3/3 [==============================] - 0s 14ms/step - loss: 7.9815 - val_loss: 5.5997\n",
      "Epoch 29/50\n",
      "3/3 [==============================] - 0s 14ms/step - loss: 7.9629 - val_loss: 5.5254\n",
      "Epoch 30/50\n",
      "3/3 [==============================] - 0s 14ms/step - loss: 7.9458 - val_loss: 5.5366\n",
      "Epoch 31/50\n",
      "3/3 [==============================] - 0s 16ms/step - loss: 7.9224 - val_loss: 5.5409\n",
      "Epoch 32/50\n",
      "3/3 [==============================] - 0s 15ms/step - loss: 7.9045 - val_loss: 5.5116\n",
      "Epoch 33/50\n",
      "3/3 [==============================] - 0s 14ms/step - loss: 7.8899 - val_loss: 5.4974\n",
      "Epoch 34/50\n",
      "3/3 [==============================] - 0s 15ms/step - loss: 7.8741 - val_loss: 5.4936\n",
      "Epoch 35/50\n",
      "3/3 [==============================] - 0s 14ms/step - loss: 7.8614 - val_loss: 5.4663\n",
      "Epoch 36/50\n",
      "3/3 [==============================] - 0s 22ms/step - loss: 7.8513 - val_loss: 5.5230\n",
      "Epoch 37/50\n",
      "3/3 [==============================] - 0s 14ms/step - loss: 7.8389 - val_loss: 5.4723\n",
      "Epoch 38/50\n",
      "3/3 [==============================] - 0s 15ms/step - loss: 7.8262 - val_loss: 5.5120\n",
      "Epoch 39/50\n",
      "3/3 [==============================] - 0s 15ms/step - loss: 7.8104 - val_loss: 5.4129\n",
      "Epoch 40/50\n",
      "3/3 [==============================] - 0s 15ms/step - loss: 7.7967 - val_loss: 5.5526\n",
      "Epoch 41/50\n",
      "3/3 [==============================] - 0s 15ms/step - loss: 7.7864 - val_loss: 5.3819\n",
      "Epoch 42/50\n",
      "3/3 [==============================] - 0s 13ms/step - loss: 7.7772 - val_loss: 5.5621\n",
      "Epoch 43/50\n",
      "3/3 [==============================] - 0s 20ms/step - loss: 7.7579 - val_loss: 5.3657\n",
      "Epoch 44/50\n",
      "3/3 [==============================] - 0s 17ms/step - loss: 7.7435 - val_loss: 5.5558\n",
      "Epoch 45/50\n",
      "3/3 [==============================] - 0s 15ms/step - loss: 7.7240 - val_loss: 5.3890\n",
      "Epoch 46/50\n",
      "3/3 [==============================] - 0s 16ms/step - loss: 7.7077 - val_loss: 5.5051\n",
      "Epoch 47/50\n",
      "3/3 [==============================] - 0s 14ms/step - loss: 7.6928 - val_loss: 5.4577\n",
      "Epoch 48/50\n",
      "3/3 [==============================] - 0s 14ms/step - loss: 7.6728 - val_loss: 5.4531\n",
      "Epoch 49/50\n",
      "3/3 [==============================] - 0s 16ms/step - loss: 7.6560 - val_loss: 5.5154\n",
      "Epoch 50/50\n",
      "3/3 [==============================] - 0s 15ms/step - loss: 7.6353 - val_loss: 5.4038\n"
     ]
    },
    {
     "name": "stderr",
     "output_type": "stream",
     "text": [
      "C:\\Users\\Baejs\\anaconda3\\envs\\bae\\lib\\site-packages\\keras\\src\\engine\\training.py:3000: UserWarning: You are saving your model as an HDF5 file via `model.save()`. This file format is considered legacy. We recommend using instead the native Keras format, e.g. `model.save('my_model.keras')`.\n",
      "  saving_api.save_model(\n"
     ]
    },
    {
     "name": "stdout",
     "output_type": "stream",
     "text": [
      "============== EVALUATION ==============\n"
     ]
    },
    {
     "name": "stderr",
     "output_type": "stream",
     "text": [
      "  0%|                                                                                           | 0/10 [00:00<?, ?it/s]"
     ]
    },
    {
     "name": "stdout",
     "output_type": "stream",
     "text": [
      "10/10 [==============================] - 0s 2ms/step\n"
     ]
    },
    {
     "name": "stderr",
     "output_type": "stream",
     "text": [
      " 10%|████████▎                                                                          | 1/10 [00:00<00:01,  8.38it/s]"
     ]
    },
    {
     "name": "stdout",
     "output_type": "stream",
     "text": [
      "10/10 [==============================] - 0s 1ms/step\n",
      "10/10 [==============================] - 0s 1ms/step\n"
     ]
    },
    {
     "name": "stderr",
     "output_type": "stream",
     "text": [
      " 30%|████████████████████████▉                                                          | 3/10 [00:00<00:00, 11.59it/s]"
     ]
    },
    {
     "name": "stdout",
     "output_type": "stream",
     "text": [
      "10/10 [==============================] - 0s 1ms/step\n",
      "10/10 [==============================] - 0s 1ms/step\n"
     ]
    },
    {
     "name": "stderr",
     "output_type": "stream",
     "text": [
      " 50%|█████████████████████████████████████████▌                                         | 5/10 [00:00<00:00, 12.09it/s]"
     ]
    },
    {
     "name": "stdout",
     "output_type": "stream",
     "text": [
      "10/10 [==============================] - 0s 1ms/step\n",
      "10/10 [==============================] - 0s 1ms/step\n"
     ]
    },
    {
     "name": "stderr",
     "output_type": "stream",
     "text": [
      " 70%|██████████████████████████████████████████████████████████                         | 7/10 [00:00<00:00, 12.47it/s]"
     ]
    },
    {
     "name": "stdout",
     "output_type": "stream",
     "text": [
      "10/10 [==============================] - 0s 1ms/step\n",
      "10/10 [==============================] - 0s 1ms/step\n"
     ]
    },
    {
     "name": "stderr",
     "output_type": "stream",
     "text": [
      " 90%|██████████████████████████████████████████████████████████████████████████▋        | 9/10 [00:00<00:00, 12.56it/s]"
     ]
    },
    {
     "name": "stdout",
     "output_type": "stream",
     "text": [
      "10/10 [==============================] - 0s 1ms/step\n"
     ]
    },
    {
     "name": "stderr",
     "output_type": "stream",
     "text": [
      "100%|██████████████████████████████████████████████████████████████████████████████████| 10/10 [00:00<00:00, 12.15it/s]\n",
      "2023-08-26 00:53:50,482 - INFO - AUC : 0.6799999999999999\n",
      "2023-08-26 00:53:50,484 - INFO - target_dir : ../Sample_data\n"
     ]
    },
    {
     "name": "stdout",
     "output_type": "stream",
     "text": [
      "===========================\n",
      "\n",
      "===========================\n"
     ]
    },
    {
     "name": "stderr",
     "output_type": "stream",
     "text": [
      "2023-08-26 00:53:50,486 - INFO - train_file num : 5\n",
      "2023-08-26 00:53:50,488 - INFO - eval_file  num : 10\n",
      "generate train_dataset: 100%|████████████████████████████████████████████████████████████| 5/5 [00:00<00:00, 73.73it/s]\n",
      "2023-08-26 00:53:50,560 - INFO - save_pickle -> ./pickle_transfer_pretrain_v1/train_slider_id_02.pickle\n",
      "2023-08-26 00:53:50,564 - INFO - save_pickle -> ./pickle_transfer_pretrain_v1/eval_files_slider_id_02.pickle\n",
      "2023-08-26 00:53:50,566 - INFO - save_pickle -> ./pickle_transfer_pretrain_v1/eval_labels_slider_id_02.pickle\n"
     ]
    },
    {
     "name": "stdout",
     "output_type": "stream",
     "text": [
      "\n",
      "===========================\n",
      "Epoch 1/50\n",
      "3/3 [==============================] - 1s 59ms/step - loss: 17.7900 - val_loss: 16.0590\n",
      "Epoch 2/50\n",
      "3/3 [==============================] - 0s 15ms/step - loss: 15.1857 - val_loss: 14.1556\n",
      "Epoch 3/50\n",
      "3/3 [==============================] - 0s 14ms/step - loss: 11.4745 - val_loss: 19.4799\n",
      "Epoch 4/50\n",
      "3/3 [==============================] - 0s 14ms/step - loss: 12.1481 - val_loss: 14.6665\n",
      "Epoch 5/50\n",
      "3/3 [==============================] - 0s 14ms/step - loss: 10.6521 - val_loss: 15.3208\n",
      "Epoch 6/50\n",
      "3/3 [==============================] - 0s 14ms/step - loss: 10.3762 - val_loss: 14.4832\n",
      "Epoch 7/50\n",
      "3/3 [==============================] - 0s 14ms/step - loss: 10.0348 - val_loss: 15.0721\n",
      "Epoch 8/50\n",
      "3/3 [==============================] - 0s 13ms/step - loss: 9.6078 - val_loss: 14.1177\n",
      "Epoch 9/50\n",
      "3/3 [==============================] - 0s 13ms/step - loss: 9.5429 - val_loss: 13.9731\n",
      "Epoch 10/50\n",
      "3/3 [==============================] - 0s 13ms/step - loss: 9.1388 - val_loss: 14.7568\n",
      "Epoch 11/50\n",
      "3/3 [==============================] - 0s 14ms/step - loss: 9.1228 - val_loss: 14.0112\n",
      "Epoch 12/50\n",
      "3/3 [==============================] - 0s 14ms/step - loss: 8.8231 - val_loss: 13.5498\n",
      "Epoch 13/50\n",
      "3/3 [==============================] - 0s 14ms/step - loss: 8.7973 - val_loss: 13.6677\n",
      "Epoch 14/50\n",
      "3/3 [==============================] - 0s 14ms/step - loss: 8.6573 - val_loss: 13.7717\n",
      "Epoch 15/50\n",
      "3/3 [==============================] - 0s 14ms/step - loss: 8.5361 - val_loss: 13.1959\n",
      "Epoch 16/50\n",
      "3/3 [==============================] - 0s 14ms/step - loss: 8.5050 - val_loss: 13.3624\n",
      "Epoch 17/50\n",
      "3/3 [==============================] - 0s 14ms/step - loss: 8.4177 - val_loss: 13.6054\n",
      "Epoch 18/50\n",
      "3/3 [==============================] - 0s 14ms/step - loss: 8.3485 - val_loss: 13.0747\n",
      "Epoch 19/50\n",
      "3/3 [==============================] - 0s 15ms/step - loss: 8.3156 - val_loss: 13.2613\n",
      "Epoch 20/50\n",
      "3/3 [==============================] - 0s 14ms/step - loss: 8.2585 - val_loss: 13.2778\n",
      "Epoch 21/50\n",
      "3/3 [==============================] - 0s 14ms/step - loss: 8.2175 - val_loss: 13.0560\n",
      "Epoch 22/50\n",
      "3/3 [==============================] - 0s 14ms/step - loss: 8.1813 - val_loss: 13.3212\n",
      "Epoch 23/50\n",
      "3/3 [==============================] - 0s 13ms/step - loss: 8.1504 - val_loss: 13.0570\n",
      "Epoch 24/50\n",
      "3/3 [==============================] - 0s 14ms/step - loss: 8.1166 - val_loss: 13.0399\n",
      "Epoch 25/50\n",
      "3/3 [==============================] - 0s 14ms/step - loss: 8.0905 - val_loss: 12.9465\n",
      "Epoch 26/50\n",
      "3/3 [==============================] - 0s 14ms/step - loss: 8.0656 - val_loss: 12.7565\n",
      "Epoch 27/50\n",
      "3/3 [==============================] - 0s 14ms/step - loss: 8.0412 - val_loss: 12.9474\n",
      "Epoch 28/50\n",
      "3/3 [==============================] - 0s 13ms/step - loss: 8.0181 - val_loss: 12.8647\n",
      "Epoch 29/50\n",
      "3/3 [==============================] - 0s 14ms/step - loss: 7.9983 - val_loss: 12.8372\n",
      "Epoch 30/50\n",
      "3/3 [==============================] - 0s 13ms/step - loss: 7.9799 - val_loss: 12.5849\n",
      "Epoch 31/50\n",
      "3/3 [==============================] - 0s 14ms/step - loss: 7.9615 - val_loss: 12.6435\n",
      "Epoch 32/50\n",
      "3/3 [==============================] - 0s 13ms/step - loss: 7.9413 - val_loss: 12.6721\n",
      "Epoch 33/50\n",
      "3/3 [==============================] - 0s 14ms/step - loss: 7.9250 - val_loss: 12.4801\n",
      "Epoch 34/50\n",
      "3/3 [==============================] - 0s 14ms/step - loss: 7.9128 - val_loss: 12.3616\n",
      "Epoch 35/50\n",
      "3/3 [==============================] - 0s 14ms/step - loss: 7.8915 - val_loss: 12.4482\n",
      "Epoch 36/50\n",
      "3/3 [==============================] - 0s 13ms/step - loss: 7.8776 - val_loss: 12.3169\n",
      "Epoch 37/50\n",
      "3/3 [==============================] - 0s 13ms/step - loss: 7.8606 - val_loss: 12.2389\n",
      "Epoch 38/50\n",
      "3/3 [==============================] - 0s 14ms/step - loss: 7.8458 - val_loss: 12.0661\n",
      "Epoch 39/50\n",
      "3/3 [==============================] - 0s 14ms/step - loss: 7.8317 - val_loss: 11.9013\n",
      "Epoch 40/50\n",
      "3/3 [==============================] - 0s 13ms/step - loss: 7.8168 - val_loss: 12.0535\n",
      "Epoch 41/50\n",
      "3/3 [==============================] - 0s 14ms/step - loss: 7.8040 - val_loss: 11.8789\n",
      "Epoch 42/50\n",
      "3/3 [==============================] - 0s 14ms/step - loss: 7.7892 - val_loss: 11.7977\n",
      "Epoch 43/50\n",
      "3/3 [==============================] - 0s 14ms/step - loss: 7.7745 - val_loss: 11.6584\n",
      "Epoch 44/50\n",
      "3/3 [==============================] - 0s 14ms/step - loss: 7.7604 - val_loss: 11.7128\n",
      "Epoch 45/50\n",
      "3/3 [==============================] - 0s 14ms/step - loss: 7.7461 - val_loss: 11.4533\n",
      "Epoch 46/50\n",
      "3/3 [==============================] - 0s 14ms/step - loss: 7.7316 - val_loss: 11.4552\n",
      "Epoch 47/50\n",
      "3/3 [==============================] - 0s 16ms/step - loss: 7.7175 - val_loss: 11.3939\n",
      "Epoch 48/50\n",
      "3/3 [==============================] - 0s 14ms/step - loss: 7.7037 - val_loss: 11.2712\n",
      "Epoch 49/50\n",
      "3/3 [==============================] - 0s 16ms/step - loss: 7.6910 - val_loss: 11.1086\n",
      "Epoch 50/50\n",
      "3/3 [==============================] - 0s 15ms/step - loss: 7.6772 - val_loss: 11.0781\n"
     ]
    },
    {
     "name": "stderr",
     "output_type": "stream",
     "text": [
      "C:\\Users\\Baejs\\anaconda3\\envs\\bae\\lib\\site-packages\\keras\\src\\engine\\training.py:3000: UserWarning: You are saving your model as an HDF5 file via `model.save()`. This file format is considered legacy. We recommend using instead the native Keras format, e.g. `model.save('my_model.keras')`.\n",
      "  saving_api.save_model(\n"
     ]
    },
    {
     "name": "stdout",
     "output_type": "stream",
     "text": [
      "============== EVALUATION ==============\n"
     ]
    },
    {
     "name": "stderr",
     "output_type": "stream",
     "text": [
      "  0%|                                                                                           | 0/10 [00:00<?, ?it/s]"
     ]
    },
    {
     "name": "stdout",
     "output_type": "stream",
     "text": [
      "10/10 [==============================] - 0s 1ms/step\n"
     ]
    },
    {
     "name": "stderr",
     "output_type": "stream",
     "text": [
      " 10%|████████▎                                                                          | 1/10 [00:00<00:01,  8.83it/s]"
     ]
    },
    {
     "name": "stdout",
     "output_type": "stream",
     "text": [
      "10/10 [==============================] - 0s 1ms/step\n",
      "10/10 [==============================] - 0s 1ms/step\n"
     ]
    },
    {
     "name": "stderr",
     "output_type": "stream",
     "text": [
      " 30%|████████████████████████▉                                                          | 3/10 [00:00<00:00, 12.48it/s]"
     ]
    },
    {
     "name": "stdout",
     "output_type": "stream",
     "text": [
      "10/10 [==============================] - 0s 1ms/step\n",
      "10/10 [==============================] - 0s 1ms/step\n"
     ]
    },
    {
     "name": "stderr",
     "output_type": "stream",
     "text": [
      " 50%|█████████████████████████████████████████▌                                         | 5/10 [00:00<00:00, 13.38it/s]"
     ]
    },
    {
     "name": "stdout",
     "output_type": "stream",
     "text": [
      "10/10 [==============================] - 0s 1ms/step\n",
      "10/10 [==============================] - 0s 1ms/step\n"
     ]
    },
    {
     "name": "stderr",
     "output_type": "stream",
     "text": [
      " 70%|██████████████████████████████████████████████████████████                         | 7/10 [00:00<00:00, 13.18it/s]"
     ]
    },
    {
     "name": "stdout",
     "output_type": "stream",
     "text": [
      "10/10 [==============================] - 0s 1ms/step\n",
      "10/10 [==============================] - 0s 1ms/step\n"
     ]
    },
    {
     "name": "stderr",
     "output_type": "stream",
     "text": [
      " 90%|██████████████████████████████████████████████████████████████████████████▋        | 9/10 [00:00<00:00, 13.14it/s]"
     ]
    },
    {
     "name": "stdout",
     "output_type": "stream",
     "text": [
      "10/10 [==============================] - 0s 2ms/step\n"
     ]
    },
    {
     "name": "stderr",
     "output_type": "stream",
     "text": [
      "100%|██████████████████████████████████████████████████████████████████████████████████| 10/10 [00:00<00:00, 12.77it/s]\n",
      "2023-08-26 00:53:54,130 - INFO - AUC : 0.52\n"
     ]
    },
    {
     "name": "stdout",
     "output_type": "stream",
     "text": [
      "===========================\n",
      "\n",
      "===========================\n",
      "Epoch 1/50\n",
      "3/3 [==============================] - 1s 64ms/step - loss: 17.5952 - val_loss: 21.2917\n",
      "Epoch 2/50\n",
      "3/3 [==============================] - 0s 15ms/step - loss: 15.3745 - val_loss: 18.9796\n",
      "Epoch 3/50\n",
      "3/3 [==============================] - 0s 15ms/step - loss: 12.9772 - val_loss: 18.7301\n",
      "Epoch 4/50\n",
      "3/3 [==============================] - 0s 14ms/step - loss: 11.9115 - val_loss: 16.7250\n",
      "Epoch 5/50\n",
      "3/3 [==============================] - 0s 15ms/step - loss: 11.3833 - val_loss: 16.1752\n",
      "Epoch 6/50\n",
      "3/3 [==============================] - 0s 14ms/step - loss: 10.2407 - val_loss: 16.4298\n",
      "Epoch 7/50\n",
      "3/3 [==============================] - 0s 13ms/step - loss: 10.5847 - val_loss: 16.6545\n",
      "Epoch 8/50\n",
      "3/3 [==============================] - 0s 14ms/step - loss: 9.9187 - val_loss: 15.9475\n",
      "Epoch 9/50\n",
      "3/3 [==============================] - 0s 14ms/step - loss: 10.0006 - val_loss: 15.9806\n",
      "Epoch 10/50\n",
      "3/3 [==============================] - 0s 15ms/step - loss: 9.6016 - val_loss: 16.1101\n",
      "Epoch 11/50\n",
      "3/3 [==============================] - 0s 14ms/step - loss: 9.6390 - val_loss: 15.4997\n",
      "Epoch 12/50\n",
      "3/3 [==============================] - 0s 15ms/step - loss: 9.3569 - val_loss: 15.6059\n",
      "Epoch 13/50\n",
      "3/3 [==============================] - 0s 16ms/step - loss: 9.3780 - val_loss: 15.5039\n",
      "Epoch 14/50\n",
      "3/3 [==============================] - 0s 15ms/step - loss: 9.2311 - val_loss: 15.7980\n",
      "Epoch 15/50\n",
      "3/3 [==============================] - 0s 15ms/step - loss: 9.1742 - val_loss: 15.4358\n",
      "Epoch 16/50\n",
      "3/3 [==============================] - 0s 15ms/step - loss: 9.1182 - val_loss: 15.3425\n",
      "Epoch 17/50\n",
      "3/3 [==============================] - 0s 16ms/step - loss: 9.0400 - val_loss: 15.4370\n",
      "Epoch 18/50\n",
      "3/3 [==============================] - 0s 14ms/step - loss: 9.0058 - val_loss: 15.3486\n",
      "Epoch 19/50\n",
      "3/3 [==============================] - 0s 14ms/step - loss: 8.9473 - val_loss: 15.3684\n",
      "Epoch 20/50\n",
      "3/3 [==============================] - 0s 14ms/step - loss: 8.9019 - val_loss: 15.4644\n",
      "Epoch 21/50\n",
      "3/3 [==============================] - 0s 14ms/step - loss: 8.8669 - val_loss: 15.3558\n",
      "Epoch 22/50\n",
      "3/3 [==============================] - 0s 14ms/step - loss: 8.8220 - val_loss: 15.3172\n",
      "Epoch 23/50\n",
      "3/3 [==============================] - 0s 15ms/step - loss: 8.7853 - val_loss: 15.4779\n",
      "Epoch 24/50\n",
      "3/3 [==============================] - 0s 14ms/step - loss: 8.7538 - val_loss: 15.3352\n",
      "Epoch 25/50\n",
      "3/3 [==============================] - 0s 15ms/step - loss: 8.7159 - val_loss: 15.3221\n",
      "Epoch 26/50\n",
      "3/3 [==============================] - 0s 15ms/step - loss: 8.6835 - val_loss: 15.3398\n",
      "Epoch 27/50\n",
      "3/3 [==============================] - 0s 15ms/step - loss: 8.6536 - val_loss: 15.3160\n",
      "Epoch 28/50\n",
      "3/3 [==============================] - 0s 15ms/step - loss: 8.6252 - val_loss: 15.3442\n",
      "Epoch 29/50\n",
      "3/3 [==============================] - 0s 14ms/step - loss: 8.5973 - val_loss: 15.3131\n",
      "Epoch 30/50\n",
      "3/3 [==============================] - 0s 14ms/step - loss: 8.5691 - val_loss: 15.1796\n",
      "Epoch 31/50\n",
      "3/3 [==============================] - 0s 16ms/step - loss: 8.5449 - val_loss: 15.2758\n",
      "Epoch 32/50\n",
      "3/3 [==============================] - 0s 15ms/step - loss: 8.5198 - val_loss: 15.3044\n",
      "Epoch 33/50\n",
      "3/3 [==============================] - 0s 14ms/step - loss: 8.4960 - val_loss: 15.2093\n",
      "Epoch 34/50\n",
      "3/3 [==============================] - 0s 16ms/step - loss: 8.4728 - val_loss: 15.2455\n",
      "Epoch 35/50\n",
      "3/3 [==============================] - 0s 16ms/step - loss: 8.4508 - val_loss: 15.1820\n",
      "Epoch 36/50\n",
      "3/3 [==============================] - 0s 14ms/step - loss: 8.4319 - val_loss: 15.2149\n",
      "Epoch 37/50\n",
      "3/3 [==============================] - 0s 14ms/step - loss: 8.4102 - val_loss: 15.1270\n",
      "Epoch 38/50\n",
      "3/3 [==============================] - 0s 15ms/step - loss: 8.3931 - val_loss: 15.0121\n",
      "Epoch 39/50\n",
      "3/3 [==============================] - 0s 15ms/step - loss: 8.3718 - val_loss: 15.2146\n",
      "Epoch 40/50\n",
      "3/3 [==============================] - 0s 14ms/step - loss: 8.3547 - val_loss: 15.1433\n",
      "Epoch 41/50\n",
      "3/3 [==============================] - 0s 15ms/step - loss: 8.3363 - val_loss: 14.8309\n",
      "Epoch 42/50\n",
      "3/3 [==============================] - 0s 14ms/step - loss: 8.3182 - val_loss: 15.0514\n",
      "Epoch 43/50\n",
      "3/3 [==============================] - 0s 14ms/step - loss: 8.2996 - val_loss: 15.1723\n",
      "Epoch 44/50\n",
      "3/3 [==============================] - 0s 14ms/step - loss: 8.2820 - val_loss: 15.1127\n",
      "Epoch 45/50\n",
      "3/3 [==============================] - 0s 14ms/step - loss: 8.2667 - val_loss: 14.8865\n",
      "Epoch 46/50\n",
      "3/3 [==============================] - 0s 14ms/step - loss: 8.2504 - val_loss: 14.8143\n",
      "Epoch 47/50\n",
      "3/3 [==============================] - 0s 14ms/step - loss: 8.2349 - val_loss: 14.8723\n",
      "Epoch 48/50\n",
      "3/3 [==============================] - 0s 14ms/step - loss: 8.2200 - val_loss: 14.8588\n",
      "Epoch 49/50\n",
      "3/3 [==============================] - 0s 14ms/step - loss: 8.2004 - val_loss: 14.9587\n",
      "Epoch 50/50\n",
      "3/3 [==============================] - 0s 14ms/step - loss: 8.1864 - val_loss: 14.8186\n",
      "============== EVALUATION ==============\n"
     ]
    },
    {
     "name": "stderr",
     "output_type": "stream",
     "text": [
      "C:\\Users\\Baejs\\anaconda3\\envs\\bae\\lib\\site-packages\\keras\\src\\engine\\training.py:3000: UserWarning: You are saving your model as an HDF5 file via `model.save()`. This file format is considered legacy. We recommend using instead the native Keras format, e.g. `model.save('my_model.keras')`.\n",
      "  saving_api.save_model(\n",
      "  0%|                                                                                           | 0/10 [00:00<?, ?it/s]"
     ]
    },
    {
     "name": "stdout",
     "output_type": "stream",
     "text": [
      "10/10 [==============================] - 0s 1ms/step\n"
     ]
    },
    {
     "name": "stderr",
     "output_type": "stream",
     "text": [
      " 10%|████████▎                                                                          | 1/10 [00:00<00:00,  9.17it/s]"
     ]
    },
    {
     "name": "stdout",
     "output_type": "stream",
     "text": [
      "10/10 [==============================] - 0s 1ms/step\n",
      "10/10 [==============================] - 0s 1ms/step\n"
     ]
    },
    {
     "name": "stderr",
     "output_type": "stream",
     "text": [
      " 30%|████████████████████████▉                                                          | 3/10 [00:00<00:00, 12.41it/s]"
     ]
    },
    {
     "name": "stdout",
     "output_type": "stream",
     "text": [
      "10/10 [==============================] - 0s 2ms/step\n",
      "10/10 [==============================] - 0s 1ms/step\n"
     ]
    },
    {
     "name": "stderr",
     "output_type": "stream",
     "text": [
      " 50%|█████████████████████████████████████████▌                                         | 5/10 [00:00<00:00, 10.64it/s]"
     ]
    },
    {
     "name": "stdout",
     "output_type": "stream",
     "text": [
      "10/10 [==============================] - 0s 997us/step\n",
      "10/10 [==============================] - 0s 1ms/step\n"
     ]
    },
    {
     "name": "stderr",
     "output_type": "stream",
     "text": [
      " 70%|██████████████████████████████████████████████████████████                         | 7/10 [00:00<00:00, 11.57it/s]"
     ]
    },
    {
     "name": "stdout",
     "output_type": "stream",
     "text": [
      "10/10 [==============================] - 0s 1ms/step\n",
      "10/10 [==============================] - 0s 1ms/step\n"
     ]
    },
    {
     "name": "stderr",
     "output_type": "stream",
     "text": [
      " 90%|██████████████████████████████████████████████████████████████████████████▋        | 9/10 [00:00<00:00, 12.06it/s]"
     ]
    },
    {
     "name": "stdout",
     "output_type": "stream",
     "text": [
      "10/10 [==============================] - 0s 2ms/step\n"
     ]
    },
    {
     "name": "stderr",
     "output_type": "stream",
     "text": [
      "100%|██████████████████████████████████████████████████████████████████████████████████| 10/10 [00:00<00:00, 11.70it/s]\n",
      "2023-08-26 00:53:58,042 - INFO - AUC : 0.6\n"
     ]
    },
    {
     "name": "stdout",
     "output_type": "stream",
     "text": [
      "===========================\n",
      "\n",
      "===========================\n",
      "Epoch 1/50\n",
      "3/3 [==============================] - 1s 67ms/step - loss: 18.6197 - val_loss: 20.8967\n",
      "Epoch 2/50\n",
      "3/3 [==============================] - 0s 18ms/step - loss: 16.3626 - val_loss: 16.6979\n",
      "Epoch 3/50\n",
      "3/3 [==============================] - 0s 15ms/step - loss: 14.1658 - val_loss: 16.5922\n",
      "Epoch 4/50\n",
      "3/3 [==============================] - 0s 14ms/step - loss: 12.8606 - val_loss: 16.9575\n",
      "Epoch 5/50\n",
      "3/3 [==============================] - 0s 14ms/step - loss: 12.9250 - val_loss: 15.7362\n",
      "Epoch 6/50\n",
      "3/3 [==============================] - 0s 14ms/step - loss: 11.9383 - val_loss: 15.1252\n",
      "Epoch 7/50\n",
      "3/3 [==============================] - 0s 14ms/step - loss: 11.8753 - val_loss: 15.1811\n",
      "Epoch 8/50\n",
      "3/3 [==============================] - 0s 15ms/step - loss: 11.5729 - val_loss: 15.1976\n",
      "Epoch 9/50\n",
      "3/3 [==============================] - 0s 15ms/step - loss: 11.2870 - val_loss: 14.9219\n",
      "Epoch 10/50\n",
      "3/3 [==============================] - 0s 15ms/step - loss: 11.2070 - val_loss: 14.8721\n",
      "Epoch 11/50\n",
      "3/3 [==============================] - 0s 13ms/step - loss: 10.9967 - val_loss: 15.0486\n",
      "Epoch 12/50\n",
      "3/3 [==============================] - 0s 14ms/step - loss: 10.8817 - val_loss: 14.6823\n",
      "Epoch 13/50\n",
      "3/3 [==============================] - 0s 14ms/step - loss: 10.7677 - val_loss: 14.4496\n",
      "Epoch 14/50\n",
      "3/3 [==============================] - 0s 15ms/step - loss: 10.6311 - val_loss: 14.3853\n",
      "Epoch 15/50\n",
      "3/3 [==============================] - 0s 15ms/step - loss: 10.5459 - val_loss: 14.1750\n",
      "Epoch 16/50\n",
      "3/3 [==============================] - 0s 14ms/step - loss: 10.4330 - val_loss: 14.3178\n",
      "Epoch 17/50\n",
      "3/3 [==============================] - 0s 15ms/step - loss: 10.3152 - val_loss: 14.2979\n",
      "Epoch 18/50\n",
      "3/3 [==============================] - 0s 15ms/step - loss: 10.2219 - val_loss: 13.9957\n",
      "Epoch 19/50\n",
      "3/3 [==============================] - 0s 15ms/step - loss: 10.1348 - val_loss: 13.9998\n",
      "Epoch 20/50\n",
      "3/3 [==============================] - 0s 14ms/step - loss: 10.0439 - val_loss: 13.9145\n",
      "Epoch 21/50\n",
      "3/3 [==============================] - 0s 15ms/step - loss: 9.9589 - val_loss: 13.9234\n",
      "Epoch 22/50\n",
      "3/3 [==============================] - 0s 15ms/step - loss: 9.8699 - val_loss: 13.9733\n",
      "Epoch 23/50\n",
      "3/3 [==============================] - 0s 14ms/step - loss: 9.7904 - val_loss: 14.1625\n",
      "Epoch 24/50\n",
      "3/3 [==============================] - 0s 15ms/step - loss: 9.7189 - val_loss: 14.0922\n",
      "Epoch 25/50\n",
      "3/3 [==============================] - 0s 16ms/step - loss: 9.6521 - val_loss: 14.1398\n",
      "Epoch 26/50\n",
      "3/3 [==============================] - 0s 16ms/step - loss: 9.5927 - val_loss: 14.1161\n",
      "Epoch 27/50\n",
      "3/3 [==============================] - 0s 17ms/step - loss: 9.5364 - val_loss: 14.4038\n",
      "Epoch 28/50\n",
      "3/3 [==============================] - 0s 16ms/step - loss: 9.4915 - val_loss: 14.4652\n",
      "Epoch 29/50\n",
      "3/3 [==============================] - 0s 15ms/step - loss: 9.4491 - val_loss: 14.3631\n",
      "Epoch 30/50\n",
      "3/3 [==============================] - 0s 14ms/step - loss: 9.4082 - val_loss: 14.6548\n",
      "Epoch 31/50\n",
      "3/3 [==============================] - 0s 14ms/step - loss: 9.3720 - val_loss: 14.6847\n",
      "Epoch 32/50\n",
      "3/3 [==============================] - 0s 15ms/step - loss: 9.3457 - val_loss: 14.8272\n",
      "Epoch 33/50\n",
      "3/3 [==============================] - 0s 15ms/step - loss: 9.3276 - val_loss: 15.0794\n",
      "Epoch 34/50\n",
      "3/3 [==============================] - 0s 14ms/step - loss: 9.2977 - val_loss: 15.2381\n",
      "Epoch 35/50\n",
      "3/3 [==============================] - 0s 15ms/step - loss: 9.2755 - val_loss: 15.0233\n",
      "Epoch 36/50\n",
      "3/3 [==============================] - 0s 22ms/step - loss: 9.2561 - val_loss: 15.2139\n",
      "Epoch 37/50\n",
      "3/3 [==============================] - 0s 14ms/step - loss: 9.2406 - val_loss: 15.4061\n",
      "Epoch 38/50\n",
      "3/3 [==============================] - 0s 15ms/step - loss: 9.2222 - val_loss: 15.4875\n",
      "Epoch 39/50\n",
      "3/3 [==============================] - 0s 14ms/step - loss: 9.2057 - val_loss: 15.4410\n",
      "Epoch 40/50\n",
      "3/3 [==============================] - 0s 14ms/step - loss: 9.1919 - val_loss: 15.3914\n",
      "Epoch 41/50\n",
      "3/3 [==============================] - 0s 14ms/step - loss: 9.1831 - val_loss: 15.6988\n",
      "Epoch 42/50\n",
      "3/3 [==============================] - 0s 15ms/step - loss: 9.1720 - val_loss: 15.6244\n",
      "Epoch 43/50\n",
      "3/3 [==============================] - 0s 15ms/step - loss: 9.1604 - val_loss: 15.6570\n",
      "Epoch 44/50\n",
      "3/3 [==============================] - 0s 18ms/step - loss: 9.1598 - val_loss: 15.8992\n",
      "Epoch 45/50\n",
      "3/3 [==============================] - 0s 15ms/step - loss: 9.1444 - val_loss: 15.6208\n",
      "Epoch 46/50\n",
      "3/3 [==============================] - 0s 15ms/step - loss: 9.1508 - val_loss: 15.8698\n",
      "Epoch 47/50\n",
      "3/3 [==============================] - 0s 15ms/step - loss: 9.1328 - val_loss: 15.8784\n",
      "Epoch 48/50\n",
      "3/3 [==============================] - 0s 15ms/step - loss: 9.1306 - val_loss: 16.0404\n",
      "Epoch 49/50\n",
      "3/3 [==============================] - 0s 15ms/step - loss: 9.1258 - val_loss: 16.1133\n",
      "Epoch 50/50\n",
      "3/3 [==============================] - 0s 15ms/step - loss: 9.1192 - val_loss: 16.0123\n",
      "============== EVALUATION ==============\n"
     ]
    },
    {
     "name": "stderr",
     "output_type": "stream",
     "text": [
      "C:\\Users\\Baejs\\anaconda3\\envs\\bae\\lib\\site-packages\\keras\\src\\engine\\training.py:3000: UserWarning: You are saving your model as an HDF5 file via `model.save()`. This file format is considered legacy. We recommend using instead the native Keras format, e.g. `model.save('my_model.keras')`.\n",
      "  saving_api.save_model(\n",
      "  0%|                                                                                           | 0/10 [00:00<?, ?it/s]"
     ]
    },
    {
     "name": "stdout",
     "output_type": "stream",
     "text": [
      "10/10 [==============================] - 0s 2ms/step\n"
     ]
    },
    {
     "name": "stderr",
     "output_type": "stream",
     "text": [
      " 10%|████████▎                                                                          | 1/10 [00:00<00:01,  7.84it/s]"
     ]
    },
    {
     "name": "stdout",
     "output_type": "stream",
     "text": [
      "10/10 [==============================] - 0s 1ms/step\n",
      "10/10 [==============================] - 0s 1ms/step\n"
     ]
    },
    {
     "name": "stderr",
     "output_type": "stream",
     "text": [
      " 30%|████████████████████████▉                                                          | 3/10 [00:00<00:00, 10.98it/s]"
     ]
    },
    {
     "name": "stdout",
     "output_type": "stream",
     "text": [
      "10/10 [==============================] - 0s 1ms/step\n",
      "10/10 [==============================] - 0s 1ms/step\n"
     ]
    },
    {
     "name": "stderr",
     "output_type": "stream",
     "text": [
      " 50%|█████████████████████████████████████████▌                                         | 5/10 [00:00<00:00, 12.02it/s]"
     ]
    },
    {
     "name": "stdout",
     "output_type": "stream",
     "text": [
      "10/10 [==============================] - 0s 1ms/step\n",
      "10/10 [==============================] - 0s 1ms/step\n"
     ]
    },
    {
     "name": "stderr",
     "output_type": "stream",
     "text": [
      " 70%|██████████████████████████████████████████████████████████                         | 7/10 [00:00<00:00, 12.55it/s]"
     ]
    },
    {
     "name": "stdout",
     "output_type": "stream",
     "text": [
      "10/10 [==============================] - 0s 2ms/step\n",
      "10/10 [==============================] - 0s 1ms/step\n"
     ]
    },
    {
     "name": "stderr",
     "output_type": "stream",
     "text": [
      " 90%|██████████████████████████████████████████████████████████████████████████▋        | 9/10 [00:00<00:00, 12.68it/s]"
     ]
    },
    {
     "name": "stdout",
     "output_type": "stream",
     "text": [
      "10/10 [==============================] - 0s 3ms/step\n"
     ]
    },
    {
     "name": "stderr",
     "output_type": "stream",
     "text": [
      "100%|██████████████████████████████████████████████████████████████████████████████████| 10/10 [00:00<00:00, 12.02it/s]\n",
      "2023-08-26 00:54:01,775 - INFO - AUC : 0.48\n",
      "2023-08-26 00:54:01,777 - INFO - target_dir : ../Sample_data\n",
      "2023-08-26 00:54:01,778 - INFO - train_file num : 5\n",
      "2023-08-26 00:54:01,779 - INFO - eval_file  num : 10\n"
     ]
    },
    {
     "name": "stdout",
     "output_type": "stream",
     "text": [
      "===========================\n",
      "\n",
      "===========================\n"
     ]
    },
    {
     "name": "stderr",
     "output_type": "stream",
     "text": [
      "generate train_dataset: 100%|████████████████████████████████████████████████████████████| 5/5 [00:00<00:00, 79.58it/s]\n",
      "2023-08-26 00:54:01,846 - INFO - save_pickle -> ./pickle_transfer_pretrain_v1/train_slider_id_04.pickle\n",
      "2023-08-26 00:54:01,851 - INFO - save_pickle -> ./pickle_transfer_pretrain_v1/eval_files_slider_id_04.pickle\n",
      "2023-08-26 00:54:01,853 - INFO - save_pickle -> ./pickle_transfer_pretrain_v1/eval_labels_slider_id_04.pickle\n"
     ]
    },
    {
     "name": "stdout",
     "output_type": "stream",
     "text": [
      "\n",
      "===========================\n",
      "Epoch 1/50\n",
      "3/3 [==============================] - 1s 64ms/step - loss: 20.3919 - val_loss: 26.2498\n",
      "Epoch 2/50\n",
      "3/3 [==============================] - 0s 16ms/step - loss: 20.4494 - val_loss: 21.5277\n",
      "Epoch 3/50\n",
      "3/3 [==============================] - 0s 24ms/step - loss: 16.9293 - val_loss: 21.8894\n",
      "Epoch 4/50\n",
      "3/3 [==============================] - 0s 23ms/step - loss: 16.0048 - val_loss: 20.7180\n",
      "Epoch 5/50\n",
      "3/3 [==============================] - 0s 37ms/step - loss: 15.4239 - val_loss: 21.0579\n",
      "Epoch 6/50\n",
      "3/3 [==============================] - 0s 33ms/step - loss: 14.7855 - val_loss: 19.1543\n",
      "Epoch 7/50\n",
      "3/3 [==============================] - 0s 29ms/step - loss: 14.7749 - val_loss: 19.0288\n",
      "Epoch 8/50\n",
      "3/3 [==============================] - 0s 21ms/step - loss: 14.0586 - val_loss: 19.6068\n",
      "Epoch 9/50\n",
      "3/3 [==============================] - 0s 23ms/step - loss: 14.1952 - val_loss: 19.4925\n",
      "Epoch 10/50\n",
      "3/3 [==============================] - 0s 24ms/step - loss: 13.7975 - val_loss: 19.4129\n",
      "Epoch 11/50\n",
      "3/3 [==============================] - 0s 19ms/step - loss: 13.8274 - val_loss: 18.8733\n",
      "Epoch 12/50\n",
      "3/3 [==============================] - 0s 17ms/step - loss: 13.5400 - val_loss: 18.7810\n",
      "Epoch 13/50\n",
      "3/3 [==============================] - 0s 18ms/step - loss: 13.5196 - val_loss: 18.6697\n",
      "Epoch 14/50\n",
      "3/3 [==============================] - 0s 17ms/step - loss: 13.4077 - val_loss: 18.6499\n",
      "Epoch 15/50\n",
      "3/3 [==============================] - 0s 17ms/step - loss: 13.3088 - val_loss: 18.7597\n",
      "Epoch 16/50\n",
      "3/3 [==============================] - 0s 23ms/step - loss: 13.2601 - val_loss: 18.6567\n",
      "Epoch 17/50\n",
      "3/3 [==============================] - 0s 20ms/step - loss: 13.1603 - val_loss: 18.4790\n",
      "Epoch 18/50\n",
      "3/3 [==============================] - 0s 15ms/step - loss: 13.1021 - val_loss: 18.4556\n",
      "Epoch 19/50\n",
      "3/3 [==============================] - 0s 14ms/step - loss: 13.0539 - val_loss: 18.2854\n",
      "Epoch 20/50\n",
      "3/3 [==============================] - 0s 14ms/step - loss: 12.9933 - val_loss: 18.2612\n",
      "Epoch 21/50\n",
      "3/3 [==============================] - 0s 16ms/step - loss: 12.9516 - val_loss: 18.2924\n",
      "Epoch 22/50\n",
      "3/3 [==============================] - 0s 15ms/step - loss: 12.9115 - val_loss: 18.3021\n",
      "Epoch 23/50\n",
      "3/3 [==============================] - 0s 15ms/step - loss: 12.8725 - val_loss: 18.2580\n",
      "Epoch 24/50\n",
      "3/3 [==============================] - 0s 16ms/step - loss: 12.8392 - val_loss: 18.1528\n",
      "Epoch 25/50\n",
      "3/3 [==============================] - 0s 15ms/step - loss: 12.8084 - val_loss: 18.0518\n",
      "Epoch 26/50\n",
      "3/3 [==============================] - 0s 14ms/step - loss: 12.7825 - val_loss: 18.1034\n",
      "Epoch 27/50\n",
      "3/3 [==============================] - 0s 15ms/step - loss: 12.7611 - val_loss: 18.0952\n",
      "Epoch 28/50\n",
      "3/3 [==============================] - 0s 15ms/step - loss: 12.7399 - val_loss: 18.0133\n",
      "Epoch 29/50\n",
      "3/3 [==============================] - 0s 16ms/step - loss: 12.7248 - val_loss: 17.9503\n",
      "Epoch 30/50\n",
      "3/3 [==============================] - 0s 15ms/step - loss: 12.7062 - val_loss: 18.0605\n",
      "Epoch 31/50\n",
      "3/3 [==============================] - 0s 15ms/step - loss: 12.6906 - val_loss: 18.1655\n",
      "Epoch 32/50\n",
      "3/3 [==============================] - 0s 15ms/step - loss: 12.6774 - val_loss: 18.0626\n",
      "Epoch 33/50\n",
      "3/3 [==============================] - 0s 16ms/step - loss: 12.6638 - val_loss: 17.9069\n",
      "Epoch 34/50\n",
      "3/3 [==============================] - 0s 16ms/step - loss: 12.6540 - val_loss: 17.8657\n",
      "Epoch 35/50\n",
      "3/3 [==============================] - 0s 15ms/step - loss: 12.6454 - val_loss: 17.8908\n",
      "Epoch 36/50\n",
      "3/3 [==============================] - 0s 15ms/step - loss: 12.6376 - val_loss: 18.0701\n",
      "Epoch 37/50\n",
      "3/3 [==============================] - 0s 14ms/step - loss: 12.6297 - val_loss: 17.9987\n",
      "Epoch 38/50\n",
      "3/3 [==============================] - 0s 15ms/step - loss: 12.6186 - val_loss: 18.0141\n",
      "Epoch 39/50\n",
      "3/3 [==============================] - 0s 15ms/step - loss: 12.6107 - val_loss: 17.8484\n",
      "Epoch 40/50\n",
      "3/3 [==============================] - 0s 15ms/step - loss: 12.6062 - val_loss: 17.8180\n",
      "Epoch 41/50\n",
      "3/3 [==============================] - 0s 14ms/step - loss: 12.6047 - val_loss: 18.0552\n",
      "Epoch 42/50\n",
      "3/3 [==============================] - 0s 15ms/step - loss: 12.5956 - val_loss: 18.0140\n",
      "Epoch 43/50\n",
      "3/3 [==============================] - 0s 14ms/step - loss: 12.5929 - val_loss: 17.8460\n",
      "Epoch 44/50\n",
      "3/3 [==============================] - 0s 14ms/step - loss: 12.5914 - val_loss: 17.8679\n",
      "Epoch 45/50\n",
      "3/3 [==============================] - 0s 14ms/step - loss: 12.5838 - val_loss: 17.9720\n",
      "Epoch 46/50\n",
      "3/3 [==============================] - 0s 16ms/step - loss: 12.5788 - val_loss: 17.9877\n",
      "Epoch 47/50\n",
      "3/3 [==============================] - 0s 14ms/step - loss: 12.5730 - val_loss: 17.9534\n",
      "Epoch 48/50\n",
      "3/3 [==============================] - 0s 14ms/step - loss: 12.5698 - val_loss: 17.8217\n",
      "Epoch 49/50\n",
      "3/3 [==============================] - 0s 15ms/step - loss: 12.5624 - val_loss: 17.8472\n",
      "Epoch 50/50\n",
      "3/3 [==============================] - 0s 14ms/step - loss: 12.5598 - val_loss: 17.9595\n",
      "============== EVALUATION =============="
     ]
    },
    {
     "name": "stderr",
     "output_type": "stream",
     "text": [
      "C:\\Users\\Baejs\\anaconda3\\envs\\bae\\lib\\site-packages\\keras\\src\\engine\\training.py:3000: UserWarning: You are saving your model as an HDF5 file via `model.save()`. This file format is considered legacy. We recommend using instead the native Keras format, e.g. `model.save('my_model.keras')`.\n",
      "  saving_api.save_model(\n"
     ]
    },
    {
     "name": "stdout",
     "output_type": "stream",
     "text": [
      "\n"
     ]
    },
    {
     "name": "stderr",
     "output_type": "stream",
     "text": [
      "  0%|                                                                                           | 0/10 [00:00<?, ?it/s]"
     ]
    },
    {
     "name": "stdout",
     "output_type": "stream",
     "text": [
      "10/10 [==============================] - 0s 1ms/step\n"
     ]
    },
    {
     "name": "stderr",
     "output_type": "stream",
     "text": [
      " 10%|████████▎                                                                          | 1/10 [00:00<00:01,  7.50it/s]"
     ]
    },
    {
     "name": "stdout",
     "output_type": "stream",
     "text": [
      "10/10 [==============================] - 0s 1ms/step\n",
      "10/10 [==============================] - 0s 1ms/step\n"
     ]
    },
    {
     "name": "stderr",
     "output_type": "stream",
     "text": [
      " 30%|████████████████████████▉                                                          | 3/10 [00:00<00:00, 11.11it/s]"
     ]
    },
    {
     "name": "stdout",
     "output_type": "stream",
     "text": [
      "10/10 [==============================] - 0s 1ms/step\n",
      "10/10 [==============================] - 0s 1ms/step\n"
     ]
    },
    {
     "name": "stderr",
     "output_type": "stream",
     "text": [
      " 50%|█████████████████████████████████████████▌                                         | 5/10 [00:00<00:00, 12.20it/s]"
     ]
    },
    {
     "name": "stdout",
     "output_type": "stream",
     "text": [
      "10/10 [==============================] - 0s 1ms/step\n",
      "10/10 [==============================] - 0s 1ms/step\n"
     ]
    },
    {
     "name": "stderr",
     "output_type": "stream",
     "text": [
      " 70%|██████████████████████████████████████████████████████████                         | 7/10 [00:00<00:00, 12.24it/s]"
     ]
    },
    {
     "name": "stdout",
     "output_type": "stream",
     "text": [
      "10/10 [==============================] - 0s 1ms/step\n",
      "10/10 [==============================] - 0s 2ms/step\n"
     ]
    },
    {
     "name": "stderr",
     "output_type": "stream",
     "text": [
      " 90%|██████████████████████████████████████████████████████████████████████████▋        | 9/10 [00:00<00:00, 10.30it/s]"
     ]
    },
    {
     "name": "stdout",
     "output_type": "stream",
     "text": [
      "10/10 [==============================] - 0s 3ms/step\n"
     ]
    },
    {
     "name": "stderr",
     "output_type": "stream",
     "text": [
      "100%|██████████████████████████████████████████████████████████████████████████████████| 10/10 [00:01<00:00,  9.87it/s]\n",
      "2023-08-26 00:54:06,036 - INFO - AUC : 0.52\n"
     ]
    },
    {
     "name": "stdout",
     "output_type": "stream",
     "text": [
      "===========================\n",
      "\n",
      "===========================\n",
      "Epoch 1/50\n",
      "3/3 [==============================] - 1s 62ms/step - loss: 19.9617 - val_loss: 26.3905\n",
      "Epoch 2/50\n",
      "3/3 [==============================] - 0s 28ms/step - loss: 21.1479 - val_loss: 18.6845\n",
      "Epoch 3/50\n",
      "3/3 [==============================] - 0s 40ms/step - loss: 15.2432 - val_loss: 21.7477\n",
      "Epoch 4/50\n",
      "3/3 [==============================] - 0s 33ms/step - loss: 15.1889 - val_loss: 18.8123\n",
      "Epoch 5/50\n",
      "3/3 [==============================] - 0s 21ms/step - loss: 14.6626 - val_loss: 19.2769\n",
      "Epoch 6/50\n",
      "3/3 [==============================] - 0s 30ms/step - loss: 13.4828 - val_loss: 17.8003\n",
      "Epoch 7/50\n",
      "3/3 [==============================] - 0s 35ms/step - loss: 13.6580 - val_loss: 17.9481\n",
      "Epoch 8/50\n",
      "3/3 [==============================] - 0s 25ms/step - loss: 12.8592 - val_loss: 17.9475\n",
      "Epoch 9/50\n",
      "3/3 [==============================] - 0s 32ms/step - loss: 13.0741 - val_loss: 17.5833\n",
      "Epoch 10/50\n",
      "3/3 [==============================] - 0s 24ms/step - loss: 12.5207 - val_loss: 17.3525\n",
      "Epoch 11/50\n",
      "3/3 [==============================] - 0s 21ms/step - loss: 12.6518 - val_loss: 17.2378\n",
      "Epoch 12/50\n",
      "3/3 [==============================] - 0s 19ms/step - loss: 12.3253 - val_loss: 17.5132\n",
      "Epoch 13/50\n",
      "3/3 [==============================] - 0s 18ms/step - loss: 12.3645 - val_loss: 17.1746\n",
      "Epoch 14/50\n",
      "3/3 [==============================] - 0s 53ms/step - loss: 12.1644 - val_loss: 17.0605\n",
      "Epoch 15/50\n",
      "3/3 [==============================] - 0s 122ms/step - loss: 12.1562 - val_loss: 16.9664\n",
      "Epoch 16/50\n",
      "3/3 [==============================] - 0s 21ms/step - loss: 12.0455 - val_loss: 17.0907\n",
      "Epoch 17/50\n",
      "3/3 [==============================] - 0s 18ms/step - loss: 11.9851 - val_loss: 16.8858\n",
      "Epoch 18/50\n",
      "3/3 [==============================] - 0s 17ms/step - loss: 11.9333 - val_loss: 16.8940\n",
      "Epoch 19/50\n",
      "3/3 [==============================] - 0s 15ms/step - loss: 11.8579 - val_loss: 16.9118\n",
      "Epoch 20/50\n",
      "3/3 [==============================] - 0s 18ms/step - loss: 11.8213 - val_loss: 16.8562\n",
      "Epoch 21/50\n",
      "3/3 [==============================] - 0s 17ms/step - loss: 11.7625 - val_loss: 16.8273\n",
      "Epoch 22/50\n",
      "3/3 [==============================] - 0s 18ms/step - loss: 11.7155 - val_loss: 16.8047\n",
      "Epoch 23/50\n",
      "3/3 [==============================] - 0s 15ms/step - loss: 11.6768 - val_loss: 16.8568\n",
      "Epoch 24/50\n",
      "3/3 [==============================] - 0s 14ms/step - loss: 11.6313 - val_loss: 16.8889\n",
      "Epoch 25/50\n",
      "3/3 [==============================] - 0s 15ms/step - loss: 11.5915 - val_loss: 16.7343\n",
      "Epoch 26/50\n",
      "3/3 [==============================] - 0s 16ms/step - loss: 11.5548 - val_loss: 16.7182\n",
      "Epoch 27/50\n",
      "3/3 [==============================] - 0s 17ms/step - loss: 11.5173 - val_loss: 16.7927\n",
      "Epoch 28/50\n",
      "3/3 [==============================] - 0s 17ms/step - loss: 11.4854 - val_loss: 16.8065\n",
      "Epoch 29/50\n",
      "3/3 [==============================] - 0s 15ms/step - loss: 11.4512 - val_loss: 16.6688\n",
      "Epoch 30/50\n",
      "3/3 [==============================] - 0s 18ms/step - loss: 11.4206 - val_loss: 16.7623\n",
      "Epoch 31/50\n",
      "3/3 [==============================] - 0s 15ms/step - loss: 11.3886 - val_loss: 16.6998\n",
      "Epoch 32/50\n",
      "3/3 [==============================] - 0s 15ms/step - loss: 11.3616 - val_loss: 16.7568\n",
      "Epoch 33/50\n",
      "3/3 [==============================] - 0s 14ms/step - loss: 11.3302 - val_loss: 16.8121\n",
      "Epoch 34/50\n",
      "3/3 [==============================] - 0s 17ms/step - loss: 11.3032 - val_loss: 16.7274\n",
      "Epoch 35/50\n",
      "3/3 [==============================] - 0s 15ms/step - loss: 11.2789 - val_loss: 16.7817\n",
      "Epoch 36/50\n",
      "3/3 [==============================] - 0s 30ms/step - loss: 11.2554 - val_loss: 16.7550\n",
      "Epoch 37/50\n",
      "3/3 [==============================] - 0s 17ms/step - loss: 11.2289 - val_loss: 16.7172\n",
      "Epoch 38/50\n",
      "3/3 [==============================] - 0s 16ms/step - loss: 11.2057 - val_loss: 16.8317\n",
      "Epoch 39/50\n",
      "3/3 [==============================] - 0s 19ms/step - loss: 11.1852 - val_loss: 16.8092\n",
      "Epoch 40/50\n",
      "3/3 [==============================] - 0s 15ms/step - loss: 11.1591 - val_loss: 16.7404\n",
      "Epoch 41/50\n",
      "3/3 [==============================] - 0s 15ms/step - loss: 11.1361 - val_loss: 16.7683\n",
      "Epoch 42/50\n",
      "3/3 [==============================] - 0s 16ms/step - loss: 11.1134 - val_loss: 16.7955\n",
      "Epoch 43/50\n",
      "3/3 [==============================] - 0s 16ms/step - loss: 11.0938 - val_loss: 16.7708\n",
      "Epoch 44/50\n",
      "3/3 [==============================] - 0s 15ms/step - loss: 11.0749 - val_loss: 16.8624\n",
      "Epoch 45/50\n",
      "3/3 [==============================] - 0s 14ms/step - loss: 11.0547 - val_loss: 16.7687\n",
      "Epoch 46/50\n",
      "3/3 [==============================] - 0s 14ms/step - loss: 11.0373 - val_loss: 16.8361\n",
      "Epoch 47/50\n",
      "3/3 [==============================] - 0s 15ms/step - loss: 11.0192 - val_loss: 16.8362\n",
      "Epoch 48/50\n",
      "3/3 [==============================] - 0s 16ms/step - loss: 11.0028 - val_loss: 16.7777\n",
      "Epoch 49/50\n",
      "3/3 [==============================] - 0s 14ms/step - loss: 10.9837 - val_loss: 16.8281\n",
      "Epoch 50/50\n",
      "3/3 [==============================] - 0s 15ms/step - loss: 10.9683 - val_loss: 16.7796\n",
      "============== EVALUATION =============="
     ]
    },
    {
     "name": "stderr",
     "output_type": "stream",
     "text": [
      "C:\\Users\\Baejs\\anaconda3\\envs\\bae\\lib\\site-packages\\keras\\src\\engine\\training.py:3000: UserWarning: You are saving your model as an HDF5 file via `model.save()`. This file format is considered legacy. We recommend using instead the native Keras format, e.g. `model.save('my_model.keras')`.\n",
      "  saving_api.save_model(\n"
     ]
    },
    {
     "name": "stdout",
     "output_type": "stream",
     "text": [
      "\n"
     ]
    },
    {
     "name": "stderr",
     "output_type": "stream",
     "text": [
      "  0%|                                                                                           | 0/10 [00:00<?, ?it/s]"
     ]
    },
    {
     "name": "stdout",
     "output_type": "stream",
     "text": [
      "10/10 [==============================] - 0s 1ms/step\n"
     ]
    },
    {
     "name": "stderr",
     "output_type": "stream",
     "text": [
      " 10%|████████▎                                                                          | 1/10 [00:00<00:01,  8.43it/s]"
     ]
    },
    {
     "name": "stdout",
     "output_type": "stream",
     "text": [
      "10/10 [==============================] - 0s 1ms/step\n",
      "10/10 [==============================] - 0s 1ms/step\n"
     ]
    },
    {
     "name": "stderr",
     "output_type": "stream",
     "text": [
      " 30%|████████████████████████▉                                                          | 3/10 [00:00<00:00, 11.81it/s]"
     ]
    },
    {
     "name": "stdout",
     "output_type": "stream",
     "text": [
      "10/10 [==============================] - 0s 1ms/step\n",
      "10/10 [==============================] - 0s 1ms/step\n"
     ]
    },
    {
     "name": "stderr",
     "output_type": "stream",
     "text": [
      " 50%|█████████████████████████████████████████▌                                         | 5/10 [00:00<00:00, 12.48it/s]"
     ]
    },
    {
     "name": "stdout",
     "output_type": "stream",
     "text": [
      "10/10 [==============================] - 0s 1ms/step\n",
      "10/10 [==============================] - 0s 1ms/step\n"
     ]
    },
    {
     "name": "stderr",
     "output_type": "stream",
     "text": [
      " 70%|██████████████████████████████████████████████████████████                         | 7/10 [00:00<00:00, 12.81it/s]"
     ]
    },
    {
     "name": "stdout",
     "output_type": "stream",
     "text": [
      "10/10 [==============================] - 0s 1ms/step\n",
      "10/10 [==============================] - 0s 1ms/step\n"
     ]
    },
    {
     "name": "stderr",
     "output_type": "stream",
     "text": [
      " 90%|██████████████████████████████████████████████████████████████████████████▋        | 9/10 [00:00<00:00, 12.98it/s]"
     ]
    },
    {
     "name": "stdout",
     "output_type": "stream",
     "text": [
      "10/10 [==============================] - 0s 2ms/step\n"
     ]
    },
    {
     "name": "stderr",
     "output_type": "stream",
     "text": [
      "100%|██████████████████████████████████████████████████████████████████████████████████| 10/10 [00:00<00:00, 12.56it/s]\n",
      "2023-08-26 00:54:10,728 - INFO - AUC : 0.52\n"
     ]
    },
    {
     "name": "stdout",
     "output_type": "stream",
     "text": [
      "===========================\n",
      "\n",
      "===========================\n",
      "Epoch 1/50\n",
      "3/3 [==============================] - 1s 66ms/step - loss: 18.0360 - val_loss: 25.2311\n",
      "Epoch 2/50\n",
      "3/3 [==============================] - 0s 15ms/step - loss: 18.3120 - val_loss: 19.6664\n",
      "Epoch 3/50\n",
      "3/3 [==============================] - 0s 15ms/step - loss: 16.3098 - val_loss: 19.7271\n",
      "Epoch 4/50\n",
      "3/3 [==============================] - 0s 15ms/step - loss: 14.6748 - val_loss: 19.7979\n",
      "Epoch 5/50\n",
      "3/3 [==============================] - 0s 15ms/step - loss: 15.0425 - val_loss: 18.7253\n",
      "Epoch 6/50\n",
      "3/3 [==============================] - 0s 15ms/step - loss: 14.0124 - val_loss: 19.4050\n",
      "Epoch 7/50\n",
      "3/3 [==============================] - 0s 15ms/step - loss: 14.1925 - val_loss: 18.4508\n",
      "Epoch 8/50\n",
      "3/3 [==============================] - 0s 22ms/step - loss: 13.6439 - val_loss: 18.6114\n",
      "Epoch 9/50\n",
      "3/3 [==============================] - 0s 15ms/step - loss: 13.5971 - val_loss: 18.2972\n",
      "Epoch 10/50\n",
      "3/3 [==============================] - 0s 14ms/step - loss: 13.4046 - val_loss: 18.1974\n",
      "Epoch 11/50\n",
      "3/3 [==============================] - 0s 15ms/step - loss: 13.2180 - val_loss: 17.7687\n",
      "Epoch 12/50\n",
      "3/3 [==============================] - 0s 14ms/step - loss: 13.1632 - val_loss: 17.8383\n",
      "Epoch 13/50\n",
      "3/3 [==============================] - 0s 15ms/step - loss: 12.9960 - val_loss: 17.9328\n",
      "Epoch 14/50\n",
      "3/3 [==============================] - 0s 15ms/step - loss: 12.9374 - val_loss: 17.7436\n",
      "Epoch 15/50\n",
      "3/3 [==============================] - 0s 14ms/step - loss: 12.8644 - val_loss: 17.5443\n",
      "Epoch 16/50\n",
      "3/3 [==============================] - 0s 15ms/step - loss: 12.7832 - val_loss: 17.5392\n",
      "Epoch 17/50\n",
      "3/3 [==============================] - 0s 15ms/step - loss: 12.7407 - val_loss: 17.4943\n",
      "Epoch 18/50\n",
      "3/3 [==============================] - 0s 15ms/step - loss: 12.6997 - val_loss: 17.4277\n",
      "Epoch 19/50\n",
      "3/3 [==============================] - 0s 14ms/step - loss: 12.6526 - val_loss: 17.4844\n",
      "Epoch 20/50\n",
      "3/3 [==============================] - 0s 15ms/step - loss: 12.6206 - val_loss: 17.3698\n",
      "Epoch 21/50\n",
      "3/3 [==============================] - 0s 15ms/step - loss: 12.5937 - val_loss: 17.4401\n",
      "Epoch 22/50\n",
      "3/3 [==============================] - 0s 15ms/step - loss: 12.5703 - val_loss: 17.4172\n",
      "Epoch 23/50\n",
      "3/3 [==============================] - 0s 15ms/step - loss: 12.5492 - val_loss: 17.3137\n",
      "Epoch 24/50\n",
      "3/3 [==============================] - 0s 15ms/step - loss: 12.5356 - val_loss: 17.3071\n",
      "Epoch 25/50\n",
      "3/3 [==============================] - 0s 15ms/step - loss: 12.5201 - val_loss: 17.3658\n",
      "Epoch 26/50\n",
      "3/3 [==============================] - 0s 16ms/step - loss: 12.5063 - val_loss: 17.3362\n",
      "Epoch 27/50\n",
      "3/3 [==============================] - 0s 15ms/step - loss: 12.4928 - val_loss: 17.3718\n",
      "Epoch 28/50\n",
      "3/3 [==============================] - 0s 15ms/step - loss: 12.4816 - val_loss: 17.2896\n",
      "Epoch 29/50\n",
      "3/3 [==============================] - 0s 14ms/step - loss: 12.4778 - val_loss: 17.2208\n",
      "Epoch 30/50\n",
      "3/3 [==============================] - 0s 14ms/step - loss: 12.4657 - val_loss: 17.3782\n",
      "Epoch 31/50\n",
      "3/3 [==============================] - 0s 14ms/step - loss: 12.4542 - val_loss: 17.3994\n",
      "Epoch 32/50\n",
      "3/3 [==============================] - 0s 14ms/step - loss: 12.4450 - val_loss: 17.2879\n",
      "Epoch 33/50\n",
      "3/3 [==============================] - 0s 15ms/step - loss: 12.4389 - val_loss: 17.2007\n",
      "Epoch 34/50\n",
      "3/3 [==============================] - 0s 15ms/step - loss: 12.4270 - val_loss: 17.2886\n",
      "Epoch 35/50\n",
      "3/3 [==============================] - 0s 16ms/step - loss: 12.4189 - val_loss: 17.3480\n",
      "Epoch 36/50\n",
      "3/3 [==============================] - 0s 16ms/step - loss: 12.4137 - val_loss: 17.3593\n",
      "Epoch 37/50\n",
      "3/3 [==============================] - 0s 32ms/step - loss: 12.4044 - val_loss: 17.3231\n",
      "Epoch 38/50\n",
      "3/3 [==============================] - 0s 15ms/step - loss: 12.3973 - val_loss: 17.3139\n",
      "Epoch 39/50\n",
      "3/3 [==============================] - 0s 15ms/step - loss: 12.3912 - val_loss: 17.2417\n",
      "Epoch 40/50\n",
      "3/3 [==============================] - 0s 14ms/step - loss: 12.3847 - val_loss: 17.3300\n",
      "Epoch 41/50\n",
      "3/3 [==============================] - 0s 15ms/step - loss: 12.3784 - val_loss: 17.3643\n",
      "Epoch 42/50\n",
      "3/3 [==============================] - 0s 15ms/step - loss: 12.3712 - val_loss: 17.3324\n",
      "Epoch 43/50\n",
      "3/3 [==============================] - 0s 14ms/step - loss: 12.3635 - val_loss: 17.2657\n",
      "Epoch 44/50\n",
      "3/3 [==============================] - 0s 14ms/step - loss: 12.3594 - val_loss: 17.1727\n",
      "Epoch 45/50\n",
      "3/3 [==============================] - 0s 20ms/step - loss: 12.3538 - val_loss: 17.2351\n",
      "Epoch 46/50\n",
      "3/3 [==============================] - 0s 16ms/step - loss: 12.3424 - val_loss: 17.3022\n",
      "Epoch 47/50\n",
      "3/3 [==============================] - 0s 15ms/step - loss: 12.3357 - val_loss: 17.3399\n",
      "Epoch 48/50\n",
      "3/3 [==============================] - 0s 15ms/step - loss: 12.3270 - val_loss: 17.3409\n",
      "Epoch 49/50\n",
      "3/3 [==============================] - 0s 14ms/step - loss: 12.3202 - val_loss: 17.1536\n",
      "Epoch 50/50\n",
      "3/3 [==============================] - 0s 15ms/step - loss: 12.3129 - val_loss: 17.2591\n"
     ]
    },
    {
     "name": "stderr",
     "output_type": "stream",
     "text": [
      "C:\\Users\\Baejs\\anaconda3\\envs\\bae\\lib\\site-packages\\keras\\src\\engine\\training.py:3000: UserWarning: You are saving your model as an HDF5 file via `model.save()`. This file format is considered legacy. We recommend using instead the native Keras format, e.g. `model.save('my_model.keras')`.\n",
      "  saving_api.save_model(\n"
     ]
    },
    {
     "name": "stdout",
     "output_type": "stream",
     "text": [
      "============== EVALUATION ==============\n"
     ]
    },
    {
     "name": "stderr",
     "output_type": "stream",
     "text": [
      "  0%|                                                                                           | 0/10 [00:00<?, ?it/s]"
     ]
    },
    {
     "name": "stdout",
     "output_type": "stream",
     "text": [
      "10/10 [==============================] - 0s 1ms/step\n"
     ]
    },
    {
     "name": "stderr",
     "output_type": "stream",
     "text": [
      " 10%|████████▎                                                                          | 1/10 [00:00<00:01,  8.72it/s]"
     ]
    },
    {
     "name": "stdout",
     "output_type": "stream",
     "text": [
      "10/10 [==============================] - 0s 997us/step\n",
      "10/10 [==============================] - 0s 1ms/step\n"
     ]
    },
    {
     "name": "stderr",
     "output_type": "stream",
     "text": [
      " 30%|████████████████████████▉                                                          | 3/10 [00:00<00:00, 12.06it/s]"
     ]
    },
    {
     "name": "stdout",
     "output_type": "stream",
     "text": [
      "10/10 [==============================] - 0s 1ms/step\n",
      "10/10 [==============================] - 0s 1ms/step\n"
     ]
    },
    {
     "name": "stderr",
     "output_type": "stream",
     "text": [
      " 50%|█████████████████████████████████████████▌                                         | 5/10 [00:00<00:00, 12.95it/s]"
     ]
    },
    {
     "name": "stdout",
     "output_type": "stream",
     "text": [
      "10/10 [==============================] - 0s 997us/step\n",
      "10/10 [==============================] - 0s 1ms/step\n"
     ]
    },
    {
     "name": "stderr",
     "output_type": "stream",
     "text": [
      " 70%|██████████████████████████████████████████████████████████                         | 7/10 [00:00<00:00, 13.31it/s]"
     ]
    },
    {
     "name": "stdout",
     "output_type": "stream",
     "text": [
      "10/10 [==============================] - 0s 1ms/step\n",
      "10/10 [==============================] - 0s 1ms/step\n"
     ]
    },
    {
     "name": "stderr",
     "output_type": "stream",
     "text": [
      " 90%|██████████████████████████████████████████████████████████████████████████▋        | 9/10 [00:00<00:00, 13.60it/s]"
     ]
    },
    {
     "name": "stdout",
     "output_type": "stream",
     "text": [
      "10/10 [==============================] - 0s 1ms/step\n"
     ]
    },
    {
     "name": "stderr",
     "output_type": "stream",
     "text": [
      "100%|██████████████████████████████████████████████████████████████████████████████████| 10/10 [00:00<00:00, 13.04it/s]\n",
      "2023-08-26 00:54:14,388 - INFO - AUC : 0.52\n",
      "2023-08-26 00:54:14,389 - INFO - target_dir : ../Sample_data\n",
      "2023-08-26 00:54:14,390 - INFO - train_file num : 5\n",
      "2023-08-26 00:54:14,391 - INFO - eval_file  num : 10\n"
     ]
    },
    {
     "name": "stdout",
     "output_type": "stream",
     "text": [
      "===========================\n",
      "\n",
      "===========================\n"
     ]
    },
    {
     "name": "stderr",
     "output_type": "stream",
     "text": [
      "generate train_dataset: 100%|████████████████████████████████████████████████████████████| 5/5 [00:00<00:00, 80.86it/s]\n",
      "2023-08-26 00:54:14,456 - INFO - save_pickle -> ./pickle_transfer_pretrain_v1/train_slider_id_06.pickle\n",
      "2023-08-26 00:54:14,461 - INFO - save_pickle -> ./pickle_transfer_pretrain_v1/eval_files_slider_id_06.pickle\n",
      "2023-08-26 00:54:14,464 - INFO - save_pickle -> ./pickle_transfer_pretrain_v1/eval_labels_slider_id_06.pickle\n"
     ]
    },
    {
     "name": "stdout",
     "output_type": "stream",
     "text": [
      "\n",
      "===========================\n",
      "Epoch 1/50\n",
      "3/3 [==============================] - 1s 66ms/step - loss: 17.0350 - val_loss: 26.6442\n",
      "Epoch 2/50\n",
      "3/3 [==============================] - 0s 17ms/step - loss: 15.6117 - val_loss: 24.4211\n",
      "Epoch 3/50\n",
      "3/3 [==============================] - 0s 16ms/step - loss: 13.1823 - val_loss: 26.1719\n",
      "Epoch 4/50\n",
      "3/3 [==============================] - 0s 15ms/step - loss: 12.8913 - val_loss: 23.5879\n",
      "Epoch 5/50\n",
      "3/3 [==============================] - 0s 15ms/step - loss: 12.6634 - val_loss: 23.8968\n",
      "Epoch 6/50\n",
      "3/3 [==============================] - 0s 15ms/step - loss: 11.9395 - val_loss: 25.0354\n",
      "Epoch 7/50\n",
      "3/3 [==============================] - 0s 17ms/step - loss: 12.1573 - val_loss: 24.1723\n",
      "Epoch 8/50\n",
      "3/3 [==============================] - 0s 15ms/step - loss: 11.6122 - val_loss: 23.3433\n",
      "Epoch 9/50\n",
      "3/3 [==============================] - 0s 16ms/step - loss: 11.6527 - val_loss: 23.4040\n",
      "Epoch 10/50\n",
      "3/3 [==============================] - 0s 15ms/step - loss: 11.4524 - val_loss: 24.0729\n",
      "Epoch 11/50\n",
      "3/3 [==============================] - 0s 17ms/step - loss: 11.3628 - val_loss: 23.5048\n",
      "Epoch 12/50\n",
      "3/3 [==============================] - 0s 15ms/step - loss: 11.3533 - val_loss: 23.3809\n",
      "Epoch 13/50\n",
      "3/3 [==============================] - 0s 14ms/step - loss: 11.2465 - val_loss: 23.5933\n",
      "Epoch 14/50\n",
      "3/3 [==============================] - 0s 14ms/step - loss: 11.2329 - val_loss: 23.2281\n",
      "Epoch 15/50\n",
      "3/3 [==============================] - 0s 15ms/step - loss: 11.1974 - val_loss: 23.2477\n",
      "Epoch 16/50\n",
      "3/3 [==============================] - 0s 15ms/step - loss: 11.1526 - val_loss: 23.3459\n",
      "Epoch 17/50\n",
      "3/3 [==============================] - 0s 18ms/step - loss: 11.1387 - val_loss: 23.0743\n",
      "Epoch 18/50\n",
      "3/3 [==============================] - 0s 20ms/step - loss: 11.1114 - val_loss: 23.1670\n",
      "Epoch 19/50\n",
      "3/3 [==============================] - 0s 17ms/step - loss: 11.0831 - val_loss: 23.1574\n",
      "Epoch 20/50\n",
      "3/3 [==============================] - 0s 26ms/step - loss: 11.0657 - val_loss: 23.0988\n",
      "Epoch 21/50\n",
      "3/3 [==============================] - 0s 15ms/step - loss: 11.0455 - val_loss: 22.9402\n",
      "Epoch 22/50\n",
      "3/3 [==============================] - 0s 15ms/step - loss: 11.0253 - val_loss: 22.7393\n",
      "Epoch 23/50\n",
      "3/3 [==============================] - 0s 15ms/step - loss: 11.0024 - val_loss: 22.6740\n",
      "Epoch 24/50\n",
      "3/3 [==============================] - 0s 14ms/step - loss: 10.9869 - val_loss: 22.7759\n",
      "Epoch 25/50\n",
      "3/3 [==============================] - 0s 14ms/step - loss: 10.9652 - val_loss: 22.6554\n",
      "Epoch 26/50\n",
      "3/3 [==============================] - 0s 15ms/step - loss: 10.9475 - val_loss: 22.4952\n",
      "Epoch 27/50\n",
      "3/3 [==============================] - 0s 16ms/step - loss: 10.9256 - val_loss: 22.3471\n",
      "Epoch 28/50\n",
      "3/3 [==============================] - 0s 15ms/step - loss: 10.9055 - val_loss: 22.2881\n",
      "Epoch 29/50\n",
      "3/3 [==============================] - 0s 15ms/step - loss: 10.8883 - val_loss: 22.4645\n",
      "Epoch 30/50\n",
      "3/3 [==============================] - 0s 15ms/step - loss: 10.8671 - val_loss: 22.3727\n",
      "Epoch 31/50\n",
      "3/3 [==============================] - 0s 16ms/step - loss: 10.8478 - val_loss: 22.2675\n",
      "Epoch 32/50\n",
      "3/3 [==============================] - 0s 15ms/step - loss: 10.8240 - val_loss: 21.9248\n",
      "Epoch 33/50\n",
      "3/3 [==============================] - 0s 14ms/step - loss: 10.8068 - val_loss: 21.7892\n",
      "Epoch 34/50\n",
      "3/3 [==============================] - 0s 17ms/step - loss: 10.7844 - val_loss: 21.8582\n",
      "Epoch 35/50\n",
      "3/3 [==============================] - 0s 15ms/step - loss: 10.7641 - val_loss: 21.8880\n",
      "Epoch 36/50\n",
      "3/3 [==============================] - 0s 14ms/step - loss: 10.7453 - val_loss: 21.6958\n",
      "Epoch 37/50\n",
      "3/3 [==============================] - 0s 15ms/step - loss: 10.7221 - val_loss: 21.7238\n",
      "Epoch 38/50\n",
      "3/3 [==============================] - 0s 14ms/step - loss: 10.7033 - val_loss: 21.4968\n",
      "Epoch 39/50\n",
      "3/3 [==============================] - 0s 14ms/step - loss: 10.6794 - val_loss: 21.3250\n",
      "Epoch 40/50\n",
      "3/3 [==============================] - 0s 14ms/step - loss: 10.6586 - val_loss: 21.4733\n",
      "Epoch 41/50\n",
      "3/3 [==============================] - 0s 15ms/step - loss: 10.6398 - val_loss: 21.4021\n",
      "Epoch 42/50\n",
      "3/3 [==============================] - 0s 14ms/step - loss: 10.6145 - val_loss: 21.0865\n",
      "Epoch 43/50\n",
      "3/3 [==============================] - 0s 15ms/step - loss: 10.5937 - val_loss: 20.8028\n",
      "Epoch 44/50\n",
      "3/3 [==============================] - 0s 15ms/step - loss: 10.5766 - val_loss: 20.9370\n",
      "Epoch 45/50\n",
      "3/3 [==============================] - 0s 15ms/step - loss: 10.5528 - val_loss: 20.8304\n",
      "Epoch 46/50\n",
      "3/3 [==============================] - 0s 14ms/step - loss: 10.5288 - val_loss: 20.6754\n",
      "Epoch 47/50\n",
      "3/3 [==============================] - 0s 14ms/step - loss: 10.5100 - val_loss: 20.6537\n",
      "Epoch 48/50\n",
      "3/3 [==============================] - 0s 14ms/step - loss: 10.4867 - val_loss: 20.5624\n",
      "Epoch 49/50\n",
      "3/3 [==============================] - 0s 15ms/step - loss: 10.4669 - val_loss: 20.5480\n",
      "Epoch 50/50\n",
      "3/3 [==============================] - 0s 27ms/step - loss: 10.4396 - val_loss: 20.1898\n",
      "============== EVALUATION ==============\n"
     ]
    },
    {
     "name": "stderr",
     "output_type": "stream",
     "text": [
      "C:\\Users\\Baejs\\anaconda3\\envs\\bae\\lib\\site-packages\\keras\\src\\engine\\training.py:3000: UserWarning: You are saving your model as an HDF5 file via `model.save()`. This file format is considered legacy. We recommend using instead the native Keras format, e.g. `model.save('my_model.keras')`.\n",
      "  saving_api.save_model(\n",
      "  0%|                                                                                           | 0/10 [00:00<?, ?it/s]"
     ]
    },
    {
     "name": "stdout",
     "output_type": "stream",
     "text": [
      "10/10 [==============================] - 0s 1ms/step\n"
     ]
    },
    {
     "name": "stderr",
     "output_type": "stream",
     "text": [
      " 10%|████████▎                                                                          | 1/10 [00:00<00:01,  8.57it/s]"
     ]
    },
    {
     "name": "stdout",
     "output_type": "stream",
     "text": [
      "10/10 [==============================] - 0s 1ms/step\n",
      "10/10 [==============================] - 0s 1ms/step\n"
     ]
    },
    {
     "name": "stderr",
     "output_type": "stream",
     "text": [
      " 30%|████████████████████████▉                                                          | 3/10 [00:00<00:00, 11.62it/s]"
     ]
    },
    {
     "name": "stdout",
     "output_type": "stream",
     "text": [
      "10/10 [==============================] - 0s 1ms/step\n",
      "10/10 [==============================] - 0s 1ms/step\n"
     ]
    },
    {
     "name": "stderr",
     "output_type": "stream",
     "text": [
      " 50%|█████████████████████████████████████████▌                                         | 5/10 [00:00<00:00, 12.50it/s]"
     ]
    },
    {
     "name": "stdout",
     "output_type": "stream",
     "text": [
      "10/10 [==============================] - 0s 1ms/step\n",
      "10/10 [==============================] - 0s 1ms/step\n"
     ]
    },
    {
     "name": "stderr",
     "output_type": "stream",
     "text": [
      " 70%|██████████████████████████████████████████████████████████                         | 7/10 [00:00<00:00, 12.48it/s]"
     ]
    },
    {
     "name": "stdout",
     "output_type": "stream",
     "text": [
      "10/10 [==============================] - 0s 1ms/step\n",
      "10/10 [==============================] - 0s 997us/step\n"
     ]
    },
    {
     "name": "stderr",
     "output_type": "stream",
     "text": [
      " 90%|██████████████████████████████████████████████████████████████████████████▋        | 9/10 [00:00<00:00, 12.65it/s]"
     ]
    },
    {
     "name": "stdout",
     "output_type": "stream",
     "text": [
      "10/10 [==============================] - 0s 1ms/step\n"
     ]
    },
    {
     "name": "stderr",
     "output_type": "stream",
     "text": [
      "100%|██████████████████████████████████████████████████████████████████████████████████| 10/10 [00:00<00:00, 12.35it/s]\n",
      "2023-08-26 00:54:18,225 - INFO - AUC : 0.7600000000000001\n"
     ]
    },
    {
     "name": "stdout",
     "output_type": "stream",
     "text": [
      "===========================\n",
      "\n",
      "===========================\n",
      "Epoch 1/50\n",
      "3/3 [==============================] - 1s 74ms/step - loss: 15.3791 - val_loss: 12.3291\n",
      "Epoch 2/50\n",
      "3/3 [==============================] - 0s 15ms/step - loss: 14.7602 - val_loss: 9.8143\n",
      "Epoch 3/50\n",
      "3/3 [==============================] - 0s 15ms/step - loss: 12.8517 - val_loss: 10.5346\n",
      "Epoch 4/50\n",
      "3/3 [==============================] - 0s 16ms/step - loss: 11.5530 - val_loss: 9.0791\n",
      "Epoch 5/50\n",
      "3/3 [==============================] - 0s 19ms/step - loss: 11.8530 - val_loss: 9.2231\n",
      "Epoch 6/50\n",
      "3/3 [==============================] - 0s 18ms/step - loss: 10.8822 - val_loss: 10.5937\n",
      "Epoch 7/50\n",
      "3/3 [==============================] - 0s 31ms/step - loss: 11.0175 - val_loss: 8.8839\n",
      "Epoch 8/50\n",
      "3/3 [==============================] - 0s 16ms/step - loss: 10.6744 - val_loss: 8.5529\n",
      "Epoch 9/50\n",
      "3/3 [==============================] - 0s 14ms/step - loss: 10.5078 - val_loss: 9.2299\n",
      "Epoch 10/50\n",
      "3/3 [==============================] - 0s 15ms/step - loss: 10.4752 - val_loss: 9.0520\n",
      "Epoch 11/50\n",
      "3/3 [==============================] - 0s 15ms/step - loss: 10.2644 - val_loss: 8.4644\n",
      "Epoch 12/50\n",
      "3/3 [==============================] - 0s 15ms/step - loss: 10.2713 - val_loss: 8.6500\n",
      "Epoch 13/50\n",
      "3/3 [==============================] - 0s 15ms/step - loss: 10.1441 - val_loss: 8.8162\n",
      "Epoch 14/50\n",
      "3/3 [==============================] - 0s 15ms/step - loss: 10.0865 - val_loss: 8.2847\n",
      "Epoch 15/50\n",
      "3/3 [==============================] - 0s 15ms/step - loss: 10.0460 - val_loss: 8.2551\n",
      "Epoch 16/50\n",
      "3/3 [==============================] - 0s 15ms/step - loss: 9.9684 - val_loss: 8.4445\n",
      "Epoch 17/50\n",
      "3/3 [==============================] - 0s 14ms/step - loss: 9.9376 - val_loss: 8.1750\n",
      "Epoch 18/50\n",
      "3/3 [==============================] - 0s 14ms/step - loss: 9.8955 - val_loss: 8.0972\n",
      "Epoch 19/50\n",
      "3/3 [==============================] - 0s 14ms/step - loss: 9.8490 - val_loss: 8.1253\n",
      "Epoch 20/50\n",
      "3/3 [==============================] - 0s 16ms/step - loss: 9.8131 - val_loss: 7.9306\n",
      "Epoch 21/50\n",
      "3/3 [==============================] - 0s 14ms/step - loss: 9.7807 - val_loss: 7.9405\n",
      "Epoch 22/50\n",
      "3/3 [==============================] - 0s 15ms/step - loss: 9.7442 - val_loss: 7.8883\n",
      "Epoch 23/50\n",
      "3/3 [==============================] - 0s 14ms/step - loss: 9.7162 - val_loss: 7.7757\n",
      "Epoch 24/50\n",
      "3/3 [==============================] - 0s 17ms/step - loss: 9.6882 - val_loss: 7.7474\n",
      "Epoch 25/50\n",
      "3/3 [==============================] - 0s 14ms/step - loss: 9.6638 - val_loss: 7.6586\n",
      "Epoch 26/50\n",
      "3/3 [==============================] - 0s 15ms/step - loss: 9.6434 - val_loss: 7.6233\n",
      "Epoch 27/50\n",
      "3/3 [==============================] - 0s 15ms/step - loss: 9.6192 - val_loss: 7.5702\n",
      "Epoch 28/50\n",
      "3/3 [==============================] - 0s 16ms/step - loss: 9.6001 - val_loss: 7.5106\n",
      "Epoch 29/50\n",
      "3/3 [==============================] - 0s 17ms/step - loss: 9.5834 - val_loss: 7.4653\n",
      "Epoch 30/50\n",
      "3/3 [==============================] - 0s 18ms/step - loss: 9.5664 - val_loss: 7.4181\n",
      "Epoch 31/50\n",
      "3/3 [==============================] - 0s 17ms/step - loss: 9.5523 - val_loss: 7.3694\n",
      "Epoch 32/50\n",
      "3/3 [==============================] - 0s 15ms/step - loss: 9.5370 - val_loss: 7.3129\n",
      "Epoch 33/50\n",
      "3/3 [==============================] - 0s 15ms/step - loss: 9.5239 - val_loss: 7.2800\n",
      "Epoch 34/50\n",
      "3/3 [==============================] - 0s 14ms/step - loss: 9.5083 - val_loss: 7.2573\n",
      "Epoch 35/50\n",
      "3/3 [==============================] - 0s 16ms/step - loss: 9.4975 - val_loss: 7.2018\n",
      "Epoch 36/50\n",
      "3/3 [==============================] - 0s 19ms/step - loss: 9.4873 - val_loss: 7.1668\n",
      "Epoch 37/50\n",
      "3/3 [==============================] - 0s 22ms/step - loss: 9.4773 - val_loss: 7.1252\n",
      "Epoch 38/50\n",
      "3/3 [==============================] - 0s 18ms/step - loss: 9.4671 - val_loss: 7.0996\n",
      "Epoch 39/50\n",
      "3/3 [==============================] - 0s 16ms/step - loss: 9.4579 - val_loss: 7.0830\n",
      "Epoch 40/50\n",
      "3/3 [==============================] - 0s 15ms/step - loss: 9.4507 - val_loss: 7.0481\n",
      "Epoch 41/50\n",
      "3/3 [==============================] - 0s 23ms/step - loss: 9.4394 - val_loss: 7.0266\n",
      "Epoch 42/50\n",
      "3/3 [==============================] - 0s 15ms/step - loss: 9.4339 - val_loss: 7.0118\n",
      "Epoch 43/50\n",
      "3/3 [==============================] - 0s 19ms/step - loss: 9.4217 - val_loss: 6.9926\n",
      "Epoch 44/50\n",
      "3/3 [==============================] - 0s 17ms/step - loss: 9.4150 - val_loss: 6.9485\n",
      "Epoch 45/50\n",
      "3/3 [==============================] - 0s 15ms/step - loss: 9.4065 - val_loss: 6.9314\n",
      "Epoch 46/50\n",
      "3/3 [==============================] - 0s 14ms/step - loss: 9.3988 - val_loss: 6.9368\n",
      "Epoch 47/50\n",
      "3/3 [==============================] - 0s 14ms/step - loss: 9.3917 - val_loss: 6.9322\n",
      "Epoch 48/50\n",
      "3/3 [==============================] - 0s 14ms/step - loss: 9.3897 - val_loss: 6.8971\n",
      "Epoch 49/50\n",
      "3/3 [==============================] - 0s 15ms/step - loss: 9.3790 - val_loss: 6.9058\n",
      "Epoch 50/50\n",
      "3/3 [==============================] - 0s 14ms/step - loss: 9.3817 - val_loss: 6.8567\n",
      "============== EVALUATION ==============\n"
     ]
    },
    {
     "name": "stderr",
     "output_type": "stream",
     "text": [
      "C:\\Users\\Baejs\\anaconda3\\envs\\bae\\lib\\site-packages\\keras\\src\\engine\\training.py:3000: UserWarning: You are saving your model as an HDF5 file via `model.save()`. This file format is considered legacy. We recommend using instead the native Keras format, e.g. `model.save('my_model.keras')`.\n",
      "  saving_api.save_model(\n",
      "  0%|                                                                                           | 0/10 [00:00<?, ?it/s]"
     ]
    },
    {
     "name": "stdout",
     "output_type": "stream",
     "text": [
      "10/10 [==============================] - 0s 1ms/step\n"
     ]
    },
    {
     "name": "stderr",
     "output_type": "stream",
     "text": [
      " 10%|████████▎                                                                          | 1/10 [00:00<00:01,  8.57it/s]"
     ]
    },
    {
     "name": "stdout",
     "output_type": "stream",
     "text": [
      "10/10 [==============================] - 0s 1ms/step\n",
      "10/10 [==============================] - 0s 1ms/step\n"
     ]
    },
    {
     "name": "stderr",
     "output_type": "stream",
     "text": [
      " 30%|████████████████████████▉                                                          | 3/10 [00:00<00:00, 11.78it/s]"
     ]
    },
    {
     "name": "stdout",
     "output_type": "stream",
     "text": [
      "10/10 [==============================] - 0s 1ms/step\n",
      "10/10 [==============================] - 0s 1ms/step\n"
     ]
    },
    {
     "name": "stderr",
     "output_type": "stream",
     "text": [
      " 50%|█████████████████████████████████████████▌                                         | 5/10 [00:00<00:00, 12.61it/s]"
     ]
    },
    {
     "name": "stdout",
     "output_type": "stream",
     "text": [
      "10/10 [==============================] - 0s 1ms/step\n",
      "10/10 [==============================] - 0s 1ms/step\n"
     ]
    },
    {
     "name": "stderr",
     "output_type": "stream",
     "text": [
      " 70%|██████████████████████████████████████████████████████████                         | 7/10 [00:00<00:00, 12.95it/s]"
     ]
    },
    {
     "name": "stdout",
     "output_type": "stream",
     "text": [
      "10/10 [==============================] - 0s 1ms/step\n",
      "10/10 [==============================] - 0s 1ms/step\n"
     ]
    },
    {
     "name": "stderr",
     "output_type": "stream",
     "text": [
      " 90%|██████████████████████████████████████████████████████████████████████████▋        | 9/10 [00:00<00:00, 13.06it/s]"
     ]
    },
    {
     "name": "stdout",
     "output_type": "stream",
     "text": [
      "10/10 [==============================] - 0s 1ms/step\n"
     ]
    },
    {
     "name": "stderr",
     "output_type": "stream",
     "text": [
      "100%|██████████████████████████████████████████████████████████████████████████████████| 10/10 [00:00<00:00, 12.65it/s]\n",
      "2023-08-26 00:54:22,060 - INFO - AUC : 0.8\n"
     ]
    },
    {
     "name": "stdout",
     "output_type": "stream",
     "text": [
      "===========================\n",
      "\n",
      "===========================\n",
      "Epoch 1/50\n",
      "3/3 [==============================] - 1s 61ms/step - loss: 20.4172 - val_loss: 18.9333\n",
      "Epoch 2/50\n",
      "3/3 [==============================] - 0s 16ms/step - loss: 18.0682 - val_loss: 15.5120\n",
      "Epoch 3/50\n",
      "3/3 [==============================] - 0s 16ms/step - loss: 15.3803 - val_loss: 16.5792\n",
      "Epoch 4/50\n",
      "3/3 [==============================] - 0s 15ms/step - loss: 15.3862 - val_loss: 13.4993\n",
      "Epoch 5/50\n",
      "3/3 [==============================] - 0s 15ms/step - loss: 14.4893 - val_loss: 13.6451\n",
      "Epoch 6/50\n",
      "3/3 [==============================] - 0s 15ms/step - loss: 13.7552 - val_loss: 15.2384\n",
      "Epoch 7/50\n",
      "3/3 [==============================] - 0s 15ms/step - loss: 13.6629 - val_loss: 14.5690\n",
      "Epoch 8/50\n",
      "3/3 [==============================] - 0s 14ms/step - loss: 13.1939 - val_loss: 13.8359\n",
      "Epoch 9/50\n",
      "3/3 [==============================] - 0s 14ms/step - loss: 13.2061 - val_loss: 13.9095\n",
      "Epoch 10/50\n",
      "3/3 [==============================] - 0s 14ms/step - loss: 12.8721 - val_loss: 14.9426\n",
      "Epoch 11/50\n",
      "3/3 [==============================] - 0s 15ms/step - loss: 12.8354 - val_loss: 14.0508\n",
      "Epoch 12/50\n",
      "3/3 [==============================] - 0s 14ms/step - loss: 12.6204 - val_loss: 13.7467\n",
      "Epoch 13/50\n",
      "3/3 [==============================] - 0s 21ms/step - loss: 12.4968 - val_loss: 14.4917\n",
      "Epoch 14/50\n",
      "3/3 [==============================] - 0s 14ms/step - loss: 12.4248 - val_loss: 14.5369\n",
      "Epoch 15/50\n",
      "3/3 [==============================] - 0s 14ms/step - loss: 12.3006 - val_loss: 14.4299\n",
      "Epoch 16/50\n",
      "3/3 [==============================] - 0s 18ms/step - loss: 12.2350 - val_loss: 14.4161\n",
      "Epoch 17/50\n",
      "3/3 [==============================] - 0s 13ms/step - loss: 12.1576 - val_loss: 14.6794\n",
      "Epoch 18/50\n",
      "3/3 [==============================] - 0s 13ms/step - loss: 12.0785 - val_loss: 14.7701\n",
      "Epoch 19/50\n",
      "3/3 [==============================] - 0s 25ms/step - loss: 12.0167 - val_loss: 14.9054\n",
      "Epoch 20/50\n",
      "3/3 [==============================] - 0s 31ms/step - loss: 11.9502 - val_loss: 14.9222\n",
      "Epoch 21/50\n",
      "3/3 [==============================] - 0s 18ms/step - loss: 11.8957 - val_loss: 15.0294\n",
      "Epoch 22/50\n",
      "3/3 [==============================] - 0s 14ms/step - loss: 11.8464 - val_loss: 15.1901\n",
      "Epoch 23/50\n",
      "3/3 [==============================] - 0s 14ms/step - loss: 11.7947 - val_loss: 15.1559\n",
      "Epoch 24/50\n",
      "3/3 [==============================] - 0s 15ms/step - loss: 11.7498 - val_loss: 15.3678\n",
      "Epoch 25/50\n",
      "3/3 [==============================] - 0s 15ms/step - loss: 11.7080 - val_loss: 15.5072\n",
      "Epoch 26/50\n",
      "3/3 [==============================] - 0s 15ms/step - loss: 11.6668 - val_loss: 15.4588\n",
      "Epoch 27/50\n",
      "3/3 [==============================] - 0s 15ms/step - loss: 11.6306 - val_loss: 15.5822\n",
      "Epoch 28/50\n",
      "3/3 [==============================] - 0s 15ms/step - loss: 11.5977 - val_loss: 15.8050\n",
      "Epoch 29/50\n",
      "3/3 [==============================] - 0s 14ms/step - loss: 11.5626 - val_loss: 15.8074\n",
      "Epoch 30/50\n",
      "3/3 [==============================] - 0s 15ms/step - loss: 11.5360 - val_loss: 15.7056\n",
      "Epoch 31/50\n",
      "3/3 [==============================] - 0s 15ms/step - loss: 11.5048 - val_loss: 15.9784\n",
      "Epoch 32/50\n",
      "3/3 [==============================] - 0s 14ms/step - loss: 11.4771 - val_loss: 16.0703\n",
      "Epoch 33/50\n",
      "3/3 [==============================] - 0s 14ms/step - loss: 11.4512 - val_loss: 15.9562\n",
      "Epoch 34/50\n",
      "3/3 [==============================] - 0s 15ms/step - loss: 11.4278 - val_loss: 15.9589\n",
      "Epoch 35/50\n",
      "3/3 [==============================] - 0s 15ms/step - loss: 11.4072 - val_loss: 15.9755\n",
      "Epoch 36/50\n",
      "3/3 [==============================] - 0s 13ms/step - loss: 11.3845 - val_loss: 15.9057\n",
      "Epoch 37/50\n",
      "3/3 [==============================] - 0s 14ms/step - loss: 11.3661 - val_loss: 15.9369\n",
      "Epoch 38/50\n",
      "3/3 [==============================] - 0s 14ms/step - loss: 11.3476 - val_loss: 16.0482\n",
      "Epoch 39/50\n",
      "3/3 [==============================] - 0s 15ms/step - loss: 11.3335 - val_loss: 16.0098\n",
      "Epoch 40/50\n",
      "3/3 [==============================] - 0s 14ms/step - loss: 11.3137 - val_loss: 15.7163\n",
      "Epoch 41/50\n",
      "3/3 [==============================] - 0s 14ms/step - loss: 11.2996 - val_loss: 15.7352\n",
      "Epoch 42/50\n",
      "3/3 [==============================] - 0s 14ms/step - loss: 11.2855 - val_loss: 15.5526\n",
      "Epoch 43/50\n",
      "3/3 [==============================] - 0s 14ms/step - loss: 11.2672 - val_loss: 15.6611\n",
      "Epoch 44/50\n",
      "3/3 [==============================] - 0s 14ms/step - loss: 11.2453 - val_loss: 15.3242\n",
      "Epoch 45/50\n",
      "3/3 [==============================] - 0s 14ms/step - loss: 11.2275 - val_loss: 15.2448\n",
      "Epoch 46/50\n",
      "3/3 [==============================] - 0s 15ms/step - loss: 11.2135 - val_loss: 15.0870\n",
      "Epoch 47/50\n",
      "3/3 [==============================] - 0s 16ms/step - loss: 11.1974 - val_loss: 15.0425\n",
      "Epoch 48/50\n",
      "3/3 [==============================] - 0s 15ms/step - loss: 11.1889 - val_loss: 14.7812\n",
      "Epoch 49/50\n",
      "3/3 [==============================] - 0s 14ms/step - loss: 11.1756 - val_loss: 14.9516\n",
      "Epoch 50/50\n",
      "3/3 [==============================] - 0s 14ms/step - loss: 11.1634 - val_loss: 14.5154\n",
      "============== EVALUATION ==============\n"
     ]
    },
    {
     "name": "stderr",
     "output_type": "stream",
     "text": [
      "C:\\Users\\Baejs\\anaconda3\\envs\\bae\\lib\\site-packages\\keras\\src\\engine\\training.py:3000: UserWarning: You are saving your model as an HDF5 file via `model.save()`. This file format is considered legacy. We recommend using instead the native Keras format, e.g. `model.save('my_model.keras')`.\n",
      "  saving_api.save_model(\n",
      "  0%|                                                                                           | 0/10 [00:00<?, ?it/s]"
     ]
    },
    {
     "name": "stdout",
     "output_type": "stream",
     "text": [
      "10/10 [==============================] - 0s 1ms/step\n"
     ]
    },
    {
     "name": "stderr",
     "output_type": "stream",
     "text": [
      " 10%|████████▎                                                                          | 1/10 [00:00<00:01,  8.60it/s]"
     ]
    },
    {
     "name": "stdout",
     "output_type": "stream",
     "text": [
      "10/10 [==============================] - 0s 2ms/step\n",
      "10/10 [==============================] - 0s 1ms/step\n"
     ]
    },
    {
     "name": "stderr",
     "output_type": "stream",
     "text": [
      " 30%|████████████████████████▉                                                          | 3/10 [00:00<00:00, 11.27it/s]"
     ]
    },
    {
     "name": "stdout",
     "output_type": "stream",
     "text": [
      "10/10 [==============================] - 0s 1ms/step\n",
      "10/10 [==============================] - 0s 1ms/step\n"
     ]
    },
    {
     "name": "stderr",
     "output_type": "stream",
     "text": [
      " 50%|█████████████████████████████████████████▌                                         | 5/10 [00:00<00:00, 11.85it/s]"
     ]
    },
    {
     "name": "stdout",
     "output_type": "stream",
     "text": [
      "10/10 [==============================] - 0s 1ms/step\n",
      "10/10 [==============================] - 0s 1ms/step\n"
     ]
    },
    {
     "name": "stderr",
     "output_type": "stream",
     "text": [
      " 70%|██████████████████████████████████████████████████████████                         | 7/10 [00:00<00:00, 12.10it/s]"
     ]
    },
    {
     "name": "stdout",
     "output_type": "stream",
     "text": [
      "10/10 [==============================] - 0s 1ms/step\n",
      "10/10 [==============================] - 0s 1ms/step\n"
     ]
    },
    {
     "name": "stderr",
     "output_type": "stream",
     "text": [
      " 90%|██████████████████████████████████████████████████████████████████████████▋        | 9/10 [00:00<00:00, 12.39it/s]"
     ]
    },
    {
     "name": "stdout",
     "output_type": "stream",
     "text": [
      "10/10 [==============================] - 0s 1ms/step\n"
     ]
    },
    {
     "name": "stderr",
     "output_type": "stream",
     "text": [
      "100%|██████████████████████████████████████████████████████████████████████████████████| 10/10 [00:00<00:00, 12.06it/s]\n",
      "2023-08-26 00:54:25,765 - INFO - AUC : 0.8\n",
      "2023-08-26 00:54:25,766 - INFO - all results -> ./result_transfer_pretrain_v1/result_transfer_pretrain_v1.yaml\n",
      "2023-08-26 00:54:25,772 - INFO - target_dir : ../Sample_data\n",
      "2023-08-26 00:54:25,774 - INFO - train_file num : 5\n",
      "2023-08-26 00:54:25,775 - INFO - eval_file  num : 10\n"
     ]
    },
    {
     "name": "stdout",
     "output_type": "stream",
     "text": [
      "===========================\n",
      "===========================\n",
      "\n",
      "===========================\n"
     ]
    },
    {
     "name": "stderr",
     "output_type": "stream",
     "text": [
      "generate train_dataset: 100%|████████████████████████████████████████████████████████████| 5/5 [00:00<00:00, 80.86it/s]\n",
      "2023-08-26 00:54:25,842 - INFO - save_pickle -> ./pickle_transfer_pretrain_v1/train_pump_id_00.pickle\n",
      "2023-08-26 00:54:25,847 - INFO - save_pickle -> ./pickle_transfer_pretrain_v1/eval_files_pump_id_00.pickle\n",
      "2023-08-26 00:54:25,849 - INFO - save_pickle -> ./pickle_transfer_pretrain_v1/eval_labels_pump_id_00.pickle\n"
     ]
    },
    {
     "name": "stdout",
     "output_type": "stream",
     "text": [
      "\n",
      "===========================\n",
      "Epoch 1/50\n",
      "3/3 [==============================] - 1s 61ms/step - loss: 20.9774 - val_loss: 17.3938\n",
      "Epoch 2/50\n",
      "3/3 [==============================] - 0s 17ms/step - loss: 19.6952 - val_loss: 13.5167\n",
      "Epoch 3/50\n",
      "3/3 [==============================] - 0s 22ms/step - loss: 17.0727 - val_loss: 12.8897\n",
      "Epoch 4/50\n",
      "3/3 [==============================] - 0s 15ms/step - loss: 16.5419 - val_loss: 9.2425\n",
      "Epoch 5/50\n",
      "3/3 [==============================] - 0s 17ms/step - loss: 14.6402 - val_loss: 9.4192\n",
      "Epoch 6/50\n",
      "3/3 [==============================] - 0s 16ms/step - loss: 15.3736 - val_loss: 8.0426\n",
      "Epoch 7/50\n",
      "3/3 [==============================] - 0s 16ms/step - loss: 14.5005 - val_loss: 9.6189\n",
      "Epoch 8/50\n",
      "3/3 [==============================] - 0s 18ms/step - loss: 14.5595 - val_loss: 9.5181\n",
      "Epoch 9/50\n",
      "3/3 [==============================] - 0s 16ms/step - loss: 14.2030 - val_loss: 8.8346\n",
      "Epoch 10/50\n",
      "3/3 [==============================] - 0s 15ms/step - loss: 14.3420 - val_loss: 8.5486\n",
      "Epoch 11/50\n",
      "3/3 [==============================] - 0s 19ms/step - loss: 14.0253 - val_loss: 8.8409\n",
      "Epoch 12/50\n",
      "3/3 [==============================] - 0s 16ms/step - loss: 14.0669 - val_loss: 8.4875\n",
      "Epoch 13/50\n",
      "3/3 [==============================] - 0s 16ms/step - loss: 13.9546 - val_loss: 8.0430\n",
      "Epoch 14/50\n",
      "3/3 [==============================] - 0s 16ms/step - loss: 13.9622 - val_loss: 8.0555\n",
      "Epoch 15/50\n",
      "3/3 [==============================] - 0s 16ms/step - loss: 13.8643 - val_loss: 8.3853\n",
      "Epoch 16/50\n",
      "3/3 [==============================] - 0s 23ms/step - loss: 13.8524 - val_loss: 8.2292\n",
      "Epoch 17/50\n",
      "3/3 [==============================] - 0s 17ms/step - loss: 13.7988 - val_loss: 8.0332\n",
      "Epoch 18/50\n",
      "3/3 [==============================] - 0s 38ms/step - loss: 13.7893 - val_loss: 8.0819\n",
      "Epoch 19/50\n",
      "3/3 [==============================] - 0s 15ms/step - loss: 13.7560 - val_loss: 8.0455\n",
      "Epoch 20/50\n",
      "3/3 [==============================] - 0s 16ms/step - loss: 13.7253 - val_loss: 7.9065\n",
      "Epoch 21/50\n",
      "3/3 [==============================] - 0s 16ms/step - loss: 13.7052 - val_loss: 7.9696\n",
      "Epoch 22/50\n",
      "3/3 [==============================] - 0s 15ms/step - loss: 13.6780 - val_loss: 7.9904\n",
      "Epoch 23/50\n",
      "3/3 [==============================] - 0s 16ms/step - loss: 13.6587 - val_loss: 7.8521\n",
      "Epoch 24/50\n",
      "3/3 [==============================] - 0s 15ms/step - loss: 13.6373 - val_loss: 7.7951\n",
      "Epoch 25/50\n",
      "3/3 [==============================] - 0s 15ms/step - loss: 13.6120 - val_loss: 7.7656\n",
      "Epoch 26/50\n",
      "3/3 [==============================] - 0s 17ms/step - loss: 13.5872 - val_loss: 7.6851\n",
      "Epoch 27/50\n",
      "3/3 [==============================] - 0s 16ms/step - loss: 13.5629 - val_loss: 7.6582\n",
      "Epoch 28/50\n",
      "3/3 [==============================] - 0s 17ms/step - loss: 13.5359 - val_loss: 7.6466\n",
      "Epoch 29/50\n",
      "3/3 [==============================] - 0s 22ms/step - loss: 13.5100 - val_loss: 7.6290\n",
      "Epoch 30/50\n",
      "3/3 [==============================] - 0s 17ms/step - loss: 13.4837 - val_loss: 7.6195\n",
      "Epoch 31/50\n",
      "3/3 [==============================] - 0s 17ms/step - loss: 13.4551 - val_loss: 7.5107\n",
      "Epoch 32/50\n",
      "3/3 [==============================] - 0s 17ms/step - loss: 13.4234 - val_loss: 7.4668\n",
      "Epoch 33/50\n",
      "3/3 [==============================] - 0s 17ms/step - loss: 13.3921 - val_loss: 7.4830\n",
      "Epoch 34/50\n",
      "3/3 [==============================] - 0s 16ms/step - loss: 13.3591 - val_loss: 7.4264\n",
      "Epoch 35/50\n",
      "3/3 [==============================] - 0s 16ms/step - loss: 13.3250 - val_loss: 7.3906\n",
      "Epoch 36/50\n",
      "3/3 [==============================] - 0s 18ms/step - loss: 13.2896 - val_loss: 7.3663\n",
      "Epoch 37/50\n",
      "3/3 [==============================] - 0s 19ms/step - loss: 13.2527 - val_loss: 7.3470\n",
      "Epoch 38/50\n",
      "3/3 [==============================] - 0s 16ms/step - loss: 13.2127 - val_loss: 7.3635\n",
      "Epoch 39/50\n",
      "3/3 [==============================] - 0s 17ms/step - loss: 13.1766 - val_loss: 7.3145\n",
      "Epoch 40/50\n",
      "3/3 [==============================] - 0s 15ms/step - loss: 13.1336 - val_loss: 7.2665\n",
      "Epoch 41/50\n",
      "3/3 [==============================] - 0s 15ms/step - loss: 13.0941 - val_loss: 7.2519\n",
      "Epoch 42/50\n",
      "3/3 [==============================] - 0s 18ms/step - loss: 13.0489 - val_loss: 7.2212\n",
      "Epoch 43/50\n",
      "3/3 [==============================] - 0s 17ms/step - loss: 13.0049 - val_loss: 7.2783\n",
      "Epoch 44/50\n",
      "3/3 [==============================] - 0s 18ms/step - loss: 12.9603 - val_loss: 7.2328\n",
      "Epoch 45/50\n",
      "3/3 [==============================] - 0s 15ms/step - loss: 12.9166 - val_loss: 7.2457\n",
      "Epoch 46/50\n",
      "3/3 [==============================] - 0s 15ms/step - loss: 12.8750 - val_loss: 7.2290\n",
      "Epoch 47/50\n",
      "3/3 [==============================] - 0s 15ms/step - loss: 12.8264 - val_loss: 7.3341\n",
      "Epoch 48/50\n",
      "3/3 [==============================] - 0s 26ms/step - loss: 12.7785 - val_loss: 7.2789\n",
      "Epoch 49/50\n",
      "3/3 [==============================] - 0s 16ms/step - loss: 12.7297 - val_loss: 7.2750\n",
      "Epoch 50/50\n",
      "3/3 [==============================] - 0s 15ms/step - loss: 12.6846 - val_loss: 7.2850\n",
      "============== EVALUATION ==============\n"
     ]
    },
    {
     "name": "stderr",
     "output_type": "stream",
     "text": [
      "C:\\Users\\Baejs\\anaconda3\\envs\\bae\\lib\\site-packages\\keras\\src\\engine\\training.py:3000: UserWarning: You are saving your model as an HDF5 file via `model.save()`. This file format is considered legacy. We recommend using instead the native Keras format, e.g. `model.save('my_model.keras')`.\n",
      "  saving_api.save_model(\n",
      "  0%|                                                                                           | 0/10 [00:00<?, ?it/s]"
     ]
    },
    {
     "name": "stdout",
     "output_type": "stream",
     "text": [
      "10/10 [==============================] - 0s 1ms/step\n"
     ]
    },
    {
     "name": "stderr",
     "output_type": "stream",
     "text": [
      " 10%|████████▎                                                                          | 1/10 [00:00<00:01,  8.09it/s]"
     ]
    },
    {
     "name": "stdout",
     "output_type": "stream",
     "text": [
      "10/10 [==============================] - 0s 2ms/step\n"
     ]
    },
    {
     "name": "stderr",
     "output_type": "stream",
     "text": [
      " 20%|████████████████▌                                                                  | 2/10 [00:00<00:00,  9.03it/s]"
     ]
    },
    {
     "name": "stdout",
     "output_type": "stream",
     "text": [
      "10/10 [==============================] - 0s 1ms/step\n",
      "10/10 [==============================] - 0s 1ms/step\n"
     ]
    },
    {
     "name": "stderr",
     "output_type": "stream",
     "text": [
      " 40%|█████████████████████████████████▏                                                 | 4/10 [00:00<00:00, 10.48it/s]"
     ]
    },
    {
     "name": "stdout",
     "output_type": "stream",
     "text": [
      "10/10 [==============================] - 0s 2ms/step\n",
      "10/10 [==============================] - 0s 2ms/step\n"
     ]
    },
    {
     "name": "stderr",
     "output_type": "stream",
     "text": [
      " 60%|█████████████████████████████████████████████████▊                                 | 6/10 [00:00<00:00, 10.65it/s]"
     ]
    },
    {
     "name": "stdout",
     "output_type": "stream",
     "text": [
      "10/10 [==============================] - 0s 2ms/step\n",
      "10/10 [==============================] - 0s 1ms/step\n"
     ]
    },
    {
     "name": "stderr",
     "output_type": "stream",
     "text": [
      " 80%|██████████████████████████████████████████████████████████████████▍                | 8/10 [00:00<00:00, 10.94it/s]"
     ]
    },
    {
     "name": "stdout",
     "output_type": "stream",
     "text": [
      "10/10 [==============================] - 0s 2ms/step\n",
      "10/10 [==============================] - 0s 1ms/step\n"
     ]
    },
    {
     "name": "stderr",
     "output_type": "stream",
     "text": [
      "100%|██████████████████████████████████████████████████████████████████████████████████| 10/10 [00:00<00:00, 10.85it/s]\n",
      "2023-08-26 00:54:30,379 - INFO - AUC : 0.52\n"
     ]
    },
    {
     "name": "stdout",
     "output_type": "stream",
     "text": [
      "===========================\n",
      "\n",
      "===========================\n",
      "Epoch 1/50\n",
      "3/3 [==============================] - 1s 62ms/step - loss: 17.3504 - val_loss: 17.2632\n",
      "Epoch 2/50\n",
      "3/3 [==============================] - 0s 16ms/step - loss: 17.6341 - val_loss: 10.2275\n",
      "Epoch 3/50\n",
      "3/3 [==============================] - 0s 17ms/step - loss: 14.7269 - val_loss: 10.2764\n",
      "Epoch 4/50\n",
      "3/3 [==============================] - 0s 16ms/step - loss: 13.1529 - val_loss: 9.7435\n",
      "Epoch 5/50\n",
      "3/3 [==============================] - 0s 16ms/step - loss: 13.7107 - val_loss: 8.4315\n",
      "Epoch 6/50\n",
      "3/3 [==============================] - 0s 16ms/step - loss: 12.3386 - val_loss: 8.8500\n",
      "Epoch 7/50\n",
      "3/3 [==============================] - 0s 16ms/step - loss: 12.7575 - val_loss: 8.4287\n",
      "Epoch 8/50\n",
      "3/3 [==============================] - 0s 15ms/step - loss: 12.0475 - val_loss: 9.3442\n",
      "Epoch 9/50\n",
      "3/3 [==============================] - 0s 14ms/step - loss: 12.1495 - val_loss: 8.2505\n",
      "Epoch 10/50\n",
      "3/3 [==============================] - 0s 15ms/step - loss: 11.8871 - val_loss: 8.1454\n",
      "Epoch 11/50\n",
      "3/3 [==============================] - 0s 15ms/step - loss: 11.7939 - val_loss: 8.1844\n",
      "Epoch 12/50\n",
      "3/3 [==============================] - 0s 15ms/step - loss: 11.7094 - val_loss: 8.2278\n",
      "Epoch 13/50\n",
      "3/3 [==============================] - 0s 15ms/step - loss: 11.5668 - val_loss: 7.8800\n",
      "Epoch 14/50\n",
      "3/3 [==============================] - 0s 14ms/step - loss: 11.5411 - val_loss: 7.9639\n",
      "Epoch 15/50\n",
      "3/3 [==============================] - 0s 15ms/step - loss: 11.4194 - val_loss: 8.0807\n",
      "Epoch 16/50\n",
      "3/3 [==============================] - 0s 14ms/step - loss: 11.3780 - val_loss: 7.7560\n",
      "Epoch 17/50\n",
      "3/3 [==============================] - 0s 16ms/step - loss: 11.3085 - val_loss: 7.7267\n",
      "Epoch 18/50\n",
      "3/3 [==============================] - 0s 15ms/step - loss: 11.2490 - val_loss: 7.8113\n",
      "Epoch 19/50\n",
      "3/3 [==============================] - 0s 19ms/step - loss: 11.1958 - val_loss: 7.5885\n",
      "Epoch 20/50\n",
      "3/3 [==============================] - 0s 15ms/step - loss: 11.1439 - val_loss: 7.5613\n",
      "Epoch 21/50\n",
      "3/3 [==============================] - 0s 14ms/step - loss: 11.0909 - val_loss: 7.6273\n",
      "Epoch 22/50\n",
      "3/3 [==============================] - 0s 14ms/step - loss: 11.0444 - val_loss: 7.4498\n",
      "Epoch 23/50\n",
      "3/3 [==============================] - 0s 14ms/step - loss: 11.0015 - val_loss: 7.3838\n",
      "Epoch 24/50\n",
      "3/3 [==============================] - 0s 15ms/step - loss: 10.9573 - val_loss: 7.4495\n",
      "Epoch 25/50\n",
      "3/3 [==============================] - 0s 15ms/step - loss: 10.9188 - val_loss: 7.3182\n",
      "Epoch 26/50\n",
      "3/3 [==============================] - 0s 14ms/step - loss: 10.8776 - val_loss: 7.3281\n",
      "Epoch 27/50\n",
      "3/3 [==============================] - 0s 14ms/step - loss: 10.8413 - val_loss: 7.2799\n",
      "Epoch 28/50\n",
      "3/3 [==============================] - 0s 15ms/step - loss: 10.8043 - val_loss: 7.1658\n",
      "Epoch 29/50\n",
      "3/3 [==============================] - 0s 15ms/step - loss: 10.7719 - val_loss: 7.1246\n",
      "Epoch 30/50\n",
      "3/3 [==============================] - 0s 14ms/step - loss: 10.7451 - val_loss: 7.1090\n",
      "Epoch 31/50\n",
      "3/3 [==============================] - 0s 14ms/step - loss: 10.7090 - val_loss: 7.0271\n",
      "Epoch 32/50\n",
      "3/3 [==============================] - 0s 15ms/step - loss: 10.6789 - val_loss: 7.0492\n",
      "Epoch 33/50\n",
      "3/3 [==============================] - 0s 14ms/step - loss: 10.6485 - val_loss: 6.9795\n",
      "Epoch 34/50\n",
      "3/3 [==============================] - 0s 14ms/step - loss: 10.6241 - val_loss: 6.9739\n",
      "Epoch 35/50\n",
      "3/3 [==============================] - 0s 15ms/step - loss: 10.5969 - val_loss: 6.9352\n",
      "Epoch 36/50\n",
      "3/3 [==============================] - 0s 18ms/step - loss: 10.5690 - val_loss: 6.9122\n",
      "Epoch 37/50\n",
      "3/3 [==============================] - 0s 17ms/step - loss: 10.5450 - val_loss: 6.8923\n",
      "Epoch 38/50\n",
      "3/3 [==============================] - 0s 14ms/step - loss: 10.5217 - val_loss: 6.8365\n",
      "Epoch 39/50\n",
      "3/3 [==============================] - 0s 15ms/step - loss: 10.4945 - val_loss: 6.8283\n",
      "Epoch 40/50\n",
      "3/3 [==============================] - 0s 14ms/step - loss: 10.4722 - val_loss: 6.8175\n",
      "Epoch 41/50\n",
      "3/3 [==============================] - 0s 14ms/step - loss: 10.4524 - val_loss: 6.7873\n",
      "Epoch 42/50\n",
      "3/3 [==============================] - 0s 14ms/step - loss: 10.4303 - val_loss: 6.7562\n",
      "Epoch 43/50\n",
      "3/3 [==============================] - 0s 14ms/step - loss: 10.4120 - val_loss: 6.7479\n",
      "Epoch 44/50\n",
      "3/3 [==============================] - 0s 14ms/step - loss: 10.3918 - val_loss: 6.7956\n",
      "Epoch 45/50\n",
      "3/3 [==============================] - 0s 14ms/step - loss: 10.3708 - val_loss: 6.7744\n",
      "Epoch 46/50\n",
      "3/3 [==============================] - 0s 15ms/step - loss: 10.3551 - val_loss: 6.7474\n",
      "Epoch 47/50\n",
      "3/3 [==============================] - 0s 15ms/step - loss: 10.3311 - val_loss: 6.7414\n",
      "Epoch 48/50\n",
      "3/3 [==============================] - 0s 15ms/step - loss: 10.3189 - val_loss: 6.7983\n",
      "Epoch 49/50\n",
      "3/3 [==============================] - 0s 14ms/step - loss: 10.3020 - val_loss: 6.7377\n",
      "Epoch 50/50\n",
      "3/3 [==============================] - 0s 14ms/step - loss: 10.2812 - val_loss: 6.7543\n",
      "============== EVALUATION =============="
     ]
    },
    {
     "name": "stderr",
     "output_type": "stream",
     "text": [
      "C:\\Users\\Baejs\\anaconda3\\envs\\bae\\lib\\site-packages\\keras\\src\\engine\\training.py:3000: UserWarning: You are saving your model as an HDF5 file via `model.save()`. This file format is considered legacy. We recommend using instead the native Keras format, e.g. `model.save('my_model.keras')`.\n",
      "  saving_api.save_model(\n"
     ]
    },
    {
     "name": "stdout",
     "output_type": "stream",
     "text": [
      "\n"
     ]
    },
    {
     "name": "stderr",
     "output_type": "stream",
     "text": [
      "  0%|                                                                                           | 0/10 [00:00<?, ?it/s]"
     ]
    },
    {
     "name": "stdout",
     "output_type": "stream",
     "text": [
      "10/10 [==============================] - 0s 1ms/step\n"
     ]
    },
    {
     "name": "stderr",
     "output_type": "stream",
     "text": [
      " 10%|████████▎                                                                          | 1/10 [00:00<00:01,  8.22it/s]"
     ]
    },
    {
     "name": "stdout",
     "output_type": "stream",
     "text": [
      "10/10 [==============================] - 0s 1ms/step\n",
      "10/10 [==============================] - 0s 1ms/step\n"
     ]
    },
    {
     "name": "stderr",
     "output_type": "stream",
     "text": [
      " 30%|████████████████████████▉                                                          | 3/10 [00:00<00:00, 11.17it/s]"
     ]
    },
    {
     "name": "stdout",
     "output_type": "stream",
     "text": [
      "10/10 [==============================] - 0s 1ms/step\n",
      "10/10 [==============================] - 0s 1ms/step\n"
     ]
    },
    {
     "name": "stderr",
     "output_type": "stream",
     "text": [
      " 50%|█████████████████████████████████████████▌                                         | 5/10 [00:00<00:00, 12.03it/s]"
     ]
    },
    {
     "name": "stdout",
     "output_type": "stream",
     "text": [
      "10/10 [==============================] - 0s 2ms/step\n",
      "10/10 [==============================] - 0s 1ms/step\n"
     ]
    },
    {
     "name": "stderr",
     "output_type": "stream",
     "text": [
      " 70%|██████████████████████████████████████████████████████████                         | 7/10 [00:00<00:00, 12.28it/s]"
     ]
    },
    {
     "name": "stdout",
     "output_type": "stream",
     "text": [
      "10/10 [==============================] - 0s 2ms/step\n",
      "10/10 [==============================] - 0s 1ms/step\n"
     ]
    },
    {
     "name": "stderr",
     "output_type": "stream",
     "text": [
      " 90%|██████████████████████████████████████████████████████████████████████████▋        | 9/10 [00:00<00:00, 12.48it/s]"
     ]
    },
    {
     "name": "stdout",
     "output_type": "stream",
     "text": [
      "10/10 [==============================] - 0s 2ms/step\n"
     ]
    },
    {
     "name": "stderr",
     "output_type": "stream",
     "text": [
      "100%|██████████████████████████████████████████████████████████████████████████████████| 10/10 [00:00<00:00, 12.00it/s]\n",
      "2023-08-26 00:54:34,038 - INFO - AUC : 0.6\n"
     ]
    },
    {
     "name": "stdout",
     "output_type": "stream",
     "text": [
      "===========================\n",
      "\n",
      "===========================\n",
      "Epoch 1/50\n",
      "3/3 [==============================] - 1s 61ms/step - loss: 19.3811 - val_loss: 16.3761\n",
      "Epoch 2/50\n",
      "3/3 [==============================] - 0s 16ms/step - loss: 19.2885 - val_loss: 10.5281\n",
      "Epoch 3/50\n",
      "3/3 [==============================] - 0s 16ms/step - loss: 15.1317 - val_loss: 13.6923\n",
      "Epoch 4/50\n",
      "3/3 [==============================] - 0s 15ms/step - loss: 14.3783 - val_loss: 9.6886\n",
      "Epoch 5/50\n",
      "3/3 [==============================] - 0s 15ms/step - loss: 14.3928 - val_loss: 8.9154\n",
      "Epoch 6/50\n",
      "3/3 [==============================] - 0s 14ms/step - loss: 13.0316 - val_loss: 9.2046\n",
      "Epoch 7/50\n",
      "3/3 [==============================] - 0s 15ms/step - loss: 13.5347 - val_loss: 8.4989\n",
      "Epoch 8/50\n",
      "3/3 [==============================] - 0s 14ms/step - loss: 12.5932 - val_loss: 8.7712\n",
      "Epoch 9/50\n",
      "3/3 [==============================] - 0s 14ms/step - loss: 12.8802 - val_loss: 8.6710\n",
      "Epoch 10/50\n",
      "3/3 [==============================] - 0s 15ms/step - loss: 12.3680 - val_loss: 9.2479\n",
      "Epoch 11/50\n",
      "3/3 [==============================] - 0s 15ms/step - loss: 12.4698 - val_loss: 8.4894\n",
      "Epoch 12/50\n",
      "3/3 [==============================] - 0s 15ms/step - loss: 12.2104 - val_loss: 8.3756\n",
      "Epoch 13/50\n",
      "3/3 [==============================] - 0s 14ms/step - loss: 12.1386 - val_loss: 8.2339\n",
      "Epoch 14/50\n",
      "3/3 [==============================] - 0s 16ms/step - loss: 12.0631 - val_loss: 8.1467\n",
      "Epoch 15/50\n",
      "3/3 [==============================] - 0s 16ms/step - loss: 11.9241 - val_loss: 8.1771\n",
      "Epoch 16/50\n",
      "3/3 [==============================] - 0s 18ms/step - loss: 11.8788 - val_loss: 8.2207\n",
      "Epoch 17/50\n",
      "3/3 [==============================] - 0s 17ms/step - loss: 11.7795 - val_loss: 8.2433\n",
      "Epoch 18/50\n",
      "3/3 [==============================] - 0s 16ms/step - loss: 11.6955 - val_loss: 8.1532\n",
      "Epoch 19/50\n",
      "3/3 [==============================] - 0s 16ms/step - loss: 11.6323 - val_loss: 8.0608\n",
      "Epoch 20/50\n",
      "3/3 [==============================] - 0s 18ms/step - loss: 11.5497 - val_loss: 7.9744\n",
      "Epoch 21/50\n",
      "3/3 [==============================] - 0s 21ms/step - loss: 11.4794 - val_loss: 7.9613\n",
      "Epoch 22/50\n",
      "3/3 [==============================] - 0s 30ms/step - loss: 11.4082 - val_loss: 8.0069\n",
      "Epoch 23/50\n",
      "3/3 [==============================] - 0s 17ms/step - loss: 11.3404 - val_loss: 7.9801\n",
      "Epoch 24/50\n",
      "3/3 [==============================] - 0s 16ms/step - loss: 11.2732 - val_loss: 7.9872\n",
      "Epoch 25/50\n",
      "3/3 [==============================] - 0s 34ms/step - loss: 11.2129 - val_loss: 7.9285\n",
      "Epoch 26/50\n",
      "3/3 [==============================] - 0s 16ms/step - loss: 11.1546 - val_loss: 7.8718\n",
      "Epoch 27/50\n",
      "3/3 [==============================] - 0s 17ms/step - loss: 11.0953 - val_loss: 7.8939\n",
      "Epoch 28/50\n",
      "3/3 [==============================] - 0s 16ms/step - loss: 11.0414 - val_loss: 7.8713\n",
      "Epoch 29/50\n",
      "3/3 [==============================] - 0s 19ms/step - loss: 10.9894 - val_loss: 7.8461\n",
      "Epoch 30/50\n",
      "3/3 [==============================] - 0s 18ms/step - loss: 10.9387 - val_loss: 7.8096\n",
      "Epoch 31/50\n",
      "3/3 [==============================] - 0s 17ms/step - loss: 10.8934 - val_loss: 7.7064\n",
      "Epoch 32/50\n",
      "3/3 [==============================] - 0s 17ms/step - loss: 10.8466 - val_loss: 7.7038\n",
      "Epoch 33/50\n",
      "3/3 [==============================] - 0s 17ms/step - loss: 10.8055 - val_loss: 7.7181\n",
      "Epoch 34/50\n",
      "3/3 [==============================] - 0s 20ms/step - loss: 10.7650 - val_loss: 7.7060\n",
      "Epoch 35/50\n",
      "3/3 [==============================] - 0s 16ms/step - loss: 10.7282 - val_loss: 7.7238\n",
      "Epoch 36/50\n",
      "3/3 [==============================] - 0s 15ms/step - loss: 10.6888 - val_loss: 7.6813\n",
      "Epoch 37/50\n",
      "3/3 [==============================] - 0s 15ms/step - loss: 10.6538 - val_loss: 7.6105\n",
      "Epoch 38/50\n",
      "3/3 [==============================] - 0s 18ms/step - loss: 10.6208 - val_loss: 7.5965\n",
      "Epoch 39/50\n",
      "3/3 [==============================] - 0s 15ms/step - loss: 10.5918 - val_loss: 7.5231\n",
      "Epoch 40/50\n",
      "3/3 [==============================] - 0s 14ms/step - loss: 10.5568 - val_loss: 7.6022\n",
      "Epoch 41/50\n",
      "3/3 [==============================] - 0s 14ms/step - loss: 10.5303 - val_loss: 7.6198\n",
      "Epoch 42/50\n",
      "3/3 [==============================] - 0s 19ms/step - loss: 10.4999 - val_loss: 7.5719\n",
      "Epoch 43/50\n",
      "3/3 [==============================] - 0s 16ms/step - loss: 10.4737 - val_loss: 7.5560\n",
      "Epoch 44/50\n",
      "3/3 [==============================] - 0s 15ms/step - loss: 10.4404 - val_loss: 7.5007\n",
      "Epoch 45/50\n",
      "3/3 [==============================] - 0s 16ms/step - loss: 10.4178 - val_loss: 7.4994\n",
      "Epoch 46/50\n",
      "3/3 [==============================] - 0s 15ms/step - loss: 10.3890 - val_loss: 7.5305\n",
      "Epoch 47/50\n",
      "3/3 [==============================] - 0s 15ms/step - loss: 10.3616 - val_loss: 7.4355\n",
      "Epoch 48/50\n",
      "3/3 [==============================] - 0s 15ms/step - loss: 10.3363 - val_loss: 7.4377\n",
      "Epoch 49/50\n",
      "3/3 [==============================] - 0s 14ms/step - loss: 10.3126 - val_loss: 7.4732\n",
      "Epoch 50/50\n",
      "3/3 [==============================] - 0s 14ms/step - loss: 10.2875 - val_loss: 7.4782\n",
      "============== EVALUATION =============="
     ]
    },
    {
     "name": "stderr",
     "output_type": "stream",
     "text": [
      "C:\\Users\\Baejs\\anaconda3\\envs\\bae\\lib\\site-packages\\keras\\src\\engine\\training.py:3000: UserWarning: You are saving your model as an HDF5 file via `model.save()`. This file format is considered legacy. We recommend using instead the native Keras format, e.g. `model.save('my_model.keras')`.\n",
      "  saving_api.save_model(\n"
     ]
    },
    {
     "name": "stdout",
     "output_type": "stream",
     "text": [
      "\n"
     ]
    },
    {
     "name": "stderr",
     "output_type": "stream",
     "text": [
      "  0%|                                                                                           | 0/10 [00:00<?, ?it/s]"
     ]
    },
    {
     "name": "stdout",
     "output_type": "stream",
     "text": [
      "10/10 [==============================] - 0s 1ms/step\n"
     ]
    },
    {
     "name": "stderr",
     "output_type": "stream",
     "text": [
      " 10%|████████▎                                                                          | 1/10 [00:00<00:01,  8.43it/s]"
     ]
    },
    {
     "name": "stdout",
     "output_type": "stream",
     "text": [
      "10/10 [==============================] - 0s 1ms/step\n",
      "10/10 [==============================] - 0s 1ms/step\n"
     ]
    },
    {
     "name": "stderr",
     "output_type": "stream",
     "text": [
      " 30%|████████████████████████▉                                                          | 3/10 [00:00<00:00, 11.59it/s]"
     ]
    },
    {
     "name": "stdout",
     "output_type": "stream",
     "text": [
      "10/10 [==============================] - 0s 1ms/step\n",
      "10/10 [==============================] - 0s 1ms/step\n"
     ]
    },
    {
     "name": "stderr",
     "output_type": "stream",
     "text": [
      " 50%|█████████████████████████████████████████▌                                         | 5/10 [00:00<00:00, 12.44it/s]"
     ]
    },
    {
     "name": "stdout",
     "output_type": "stream",
     "text": [
      "10/10 [==============================] - 0s 2ms/step\n",
      "10/10 [==============================] - 0s 1ms/step\n"
     ]
    },
    {
     "name": "stderr",
     "output_type": "stream",
     "text": [
      " 70%|██████████████████████████████████████████████████████████                         | 7/10 [00:00<00:00, 12.79it/s]"
     ]
    },
    {
     "name": "stdout",
     "output_type": "stream",
     "text": [
      "10/10 [==============================] - 0s 2ms/step\n",
      "10/10 [==============================] - 0s 3ms/step\n"
     ]
    },
    {
     "name": "stderr",
     "output_type": "stream",
     "text": [
      " 90%|██████████████████████████████████████████████████████████████████████████▋        | 9/10 [00:00<00:00, 12.20it/s]"
     ]
    },
    {
     "name": "stdout",
     "output_type": "stream",
     "text": [
      "10/10 [==============================] - 0s 1ms/step\n"
     ]
    },
    {
     "name": "stderr",
     "output_type": "stream",
     "text": [
      "100%|██████████████████████████████████████████████████████████████████████████████████| 10/10 [00:00<00:00, 12.19it/s]\n",
      "2023-08-26 00:54:37,897 - INFO - AUC : 0.56\n",
      "2023-08-26 00:54:37,898 - INFO - target_dir : ../Sample_data\n",
      "2023-08-26 00:54:37,899 - INFO - train_file num : 5\n",
      "2023-08-26 00:54:37,900 - INFO - eval_file  num : 10\n"
     ]
    },
    {
     "name": "stdout",
     "output_type": "stream",
     "text": [
      "===========================\n",
      "\n",
      "===========================\n"
     ]
    },
    {
     "name": "stderr",
     "output_type": "stream",
     "text": [
      "generate train_dataset: 100%|████████████████████████████████████████████████████████████| 5/5 [00:00<00:00, 80.84it/s]\n",
      "2023-08-26 00:54:37,965 - INFO - save_pickle -> ./pickle_transfer_pretrain_v1/train_pump_id_02.pickle\n",
      "2023-08-26 00:54:37,969 - INFO - save_pickle -> ./pickle_transfer_pretrain_v1/eval_files_pump_id_02.pickle\n",
      "2023-08-26 00:54:37,971 - INFO - save_pickle -> ./pickle_transfer_pretrain_v1/eval_labels_pump_id_02.pickle\n"
     ]
    },
    {
     "name": "stdout",
     "output_type": "stream",
     "text": [
      "\n",
      "===========================\n",
      "Epoch 1/50\n",
      "3/3 [==============================] - 1s 63ms/step - loss: 16.5846 - val_loss: 12.8561\n",
      "Epoch 2/50\n",
      "3/3 [==============================] - 0s 25ms/step - loss: 15.0830 - val_loss: 9.7134\n",
      "Epoch 3/50\n",
      "3/3 [==============================] - 0s 17ms/step - loss: 12.7037 - val_loss: 11.6113\n",
      "Epoch 4/50\n",
      "3/3 [==============================] - 0s 15ms/step - loss: 12.7422 - val_loss: 9.7681\n",
      "Epoch 5/50\n",
      "3/3 [==============================] - 0s 14ms/step - loss: 11.8307 - val_loss: 10.5579\n",
      "Epoch 6/50\n",
      "3/3 [==============================] - 0s 14ms/step - loss: 11.6922 - val_loss: 9.2429\n",
      "Epoch 7/50\n",
      "3/3 [==============================] - 0s 15ms/step - loss: 11.3223 - val_loss: 9.3390\n",
      "Epoch 8/50\n",
      "3/3 [==============================] - 0s 14ms/step - loss: 11.1010 - val_loss: 9.3552\n",
      "Epoch 9/50\n",
      "3/3 [==============================] - 0s 16ms/step - loss: 11.0948 - val_loss: 9.1310\n",
      "Epoch 10/50\n",
      "3/3 [==============================] - 0s 15ms/step - loss: 10.8053 - val_loss: 9.1392\n",
      "Epoch 11/50\n",
      "3/3 [==============================] - 0s 15ms/step - loss: 10.7532 - val_loss: 8.7497\n",
      "Epoch 12/50\n",
      "3/3 [==============================] - 0s 15ms/step - loss: 10.6317 - val_loss: 8.7026\n",
      "Epoch 13/50\n",
      "3/3 [==============================] - 0s 14ms/step - loss: 10.5321 - val_loss: 8.8267\n",
      "Epoch 14/50\n",
      "3/3 [==============================] - 0s 16ms/step - loss: 10.4570 - val_loss: 8.6850\n",
      "Epoch 15/50\n",
      "3/3 [==============================] - 0s 16ms/step - loss: 10.3788 - val_loss: 8.6926\n",
      "Epoch 16/50\n",
      "3/3 [==============================] - 0s 14ms/step - loss: 10.3096 - val_loss: 8.7280\n",
      "Epoch 17/50\n",
      "3/3 [==============================] - 0s 15ms/step - loss: 10.2526 - val_loss: 8.5861\n",
      "Epoch 18/50\n",
      "3/3 [==============================] - 0s 14ms/step - loss: 10.1954 - val_loss: 8.6535\n",
      "Epoch 19/50\n",
      "3/3 [==============================] - 0s 15ms/step - loss: 10.1466 - val_loss: 8.6053\n",
      "Epoch 20/50\n",
      "3/3 [==============================] - 0s 14ms/step - loss: 10.0967 - val_loss: 8.5658\n",
      "Epoch 21/50\n",
      "3/3 [==============================] - 0s 14ms/step - loss: 10.0467 - val_loss: 8.5840\n",
      "Epoch 22/50\n",
      "3/3 [==============================] - 0s 15ms/step - loss: 10.0062 - val_loss: 8.4842\n",
      "Epoch 23/50\n",
      "3/3 [==============================] - 0s 14ms/step - loss: 9.9651 - val_loss: 8.5047\n",
      "Epoch 24/50\n",
      "3/3 [==============================] - 0s 15ms/step - loss: 9.9223 - val_loss: 8.4063\n",
      "Epoch 25/50\n",
      "3/3 [==============================] - 0s 15ms/step - loss: 9.8831 - val_loss: 8.5291\n",
      "Epoch 26/50\n",
      "3/3 [==============================] - 0s 15ms/step - loss: 9.8465 - val_loss: 8.4929\n",
      "Epoch 27/50\n",
      "3/3 [==============================] - 0s 15ms/step - loss: 9.8186 - val_loss: 8.3788\n",
      "Epoch 28/50\n",
      "3/3 [==============================] - 0s 15ms/step - loss: 9.7680 - val_loss: 8.4253\n",
      "Epoch 29/50\n",
      "3/3 [==============================] - 0s 15ms/step - loss: 9.7293 - val_loss: 8.4151\n",
      "Epoch 30/50\n",
      "3/3 [==============================] - 0s 14ms/step - loss: 9.6864 - val_loss: 8.3695\n",
      "Epoch 31/50\n",
      "3/3 [==============================] - 0s 15ms/step - loss: 9.6468 - val_loss: 8.2948\n",
      "Epoch 32/50\n",
      "3/3 [==============================] - 0s 15ms/step - loss: 9.5961 - val_loss: 8.4103\n",
      "Epoch 33/50\n",
      "3/3 [==============================] - 0s 14ms/step - loss: 9.5415 - val_loss: 8.4252\n",
      "Epoch 34/50\n",
      "3/3 [==============================] - 0s 14ms/step - loss: 9.4876 - val_loss: 8.3652\n",
      "Epoch 35/50\n",
      "3/3 [==============================] - 0s 15ms/step - loss: 9.4281 - val_loss: 8.2816\n",
      "Epoch 36/50\n",
      "3/3 [==============================] - 0s 14ms/step - loss: 9.3630 - val_loss: 8.3260\n",
      "Epoch 37/50\n",
      "3/3 [==============================] - 0s 14ms/step - loss: 9.2909 - val_loss: 8.3620\n",
      "Epoch 38/50\n",
      "3/3 [==============================] - 0s 15ms/step - loss: 9.2129 - val_loss: 8.3760\n",
      "Epoch 39/50\n",
      "3/3 [==============================] - 0s 15ms/step - loss: 9.1280 - val_loss: 8.3741\n",
      "Epoch 40/50\n",
      "3/3 [==============================] - 0s 15ms/step - loss: 9.0409 - val_loss: 8.3891\n",
      "Epoch 41/50\n",
      "3/3 [==============================] - 0s 17ms/step - loss: 8.9498 - val_loss: 8.3552\n",
      "Epoch 42/50\n",
      "3/3 [==============================] - 0s 16ms/step - loss: 8.8581 - val_loss: 8.3792\n",
      "Epoch 43/50\n",
      "3/3 [==============================] - 0s 15ms/step - loss: 8.7601 - val_loss: 8.5113\n",
      "Epoch 44/50\n",
      "3/3 [==============================] - 0s 14ms/step - loss: 8.6752 - val_loss: 8.5120\n",
      "Epoch 45/50\n",
      "3/3 [==============================] - 0s 14ms/step - loss: 8.5698 - val_loss: 8.4356\n",
      "Epoch 46/50\n",
      "3/3 [==============================] - 0s 14ms/step - loss: 8.4954 - val_loss: 8.7379\n",
      "Epoch 47/50\n",
      "3/3 [==============================] - 0s 15ms/step - loss: 8.4187 - val_loss: 8.6405\n",
      "Epoch 48/50\n",
      "3/3 [==============================] - 0s 20ms/step - loss: 8.3125 - val_loss: 8.6179\n",
      "Epoch 49/50\n",
      "3/3 [==============================] - 0s 15ms/step - loss: 8.2264 - val_loss: 8.8936\n",
      "Epoch 50/50\n",
      "3/3 [==============================] - 0s 14ms/step - loss: 8.1620 - val_loss: 8.8491\n",
      "============== EVALUATION ==============\n"
     ]
    },
    {
     "name": "stderr",
     "output_type": "stream",
     "text": [
      "C:\\Users\\Baejs\\anaconda3\\envs\\bae\\lib\\site-packages\\keras\\src\\engine\\training.py:3000: UserWarning: You are saving your model as an HDF5 file via `model.save()`. This file format is considered legacy. We recommend using instead the native Keras format, e.g. `model.save('my_model.keras')`.\n",
      "  saving_api.save_model(\n",
      "  0%|                                                                                           | 0/10 [00:00<?, ?it/s]"
     ]
    },
    {
     "name": "stdout",
     "output_type": "stream",
     "text": [
      "10/10 [==============================] - 0s 1ms/step\n"
     ]
    },
    {
     "name": "stderr",
     "output_type": "stream",
     "text": [
      " 10%|████████▎                                                                          | 1/10 [00:00<00:01,  8.14it/s]"
     ]
    },
    {
     "name": "stdout",
     "output_type": "stream",
     "text": [
      "10/10 [==============================] - 0s 1ms/step\n",
      "10/10 [==============================] - 0s 1ms/step\n"
     ]
    },
    {
     "name": "stderr",
     "output_type": "stream",
     "text": [
      " 30%|████████████████████████▉                                                          | 3/10 [00:00<00:00, 11.29it/s]"
     ]
    },
    {
     "name": "stdout",
     "output_type": "stream",
     "text": [
      "10/10 [==============================] - 0s 2ms/step\n",
      "10/10 [==============================] - 0s 1ms/step\n"
     ]
    },
    {
     "name": "stderr",
     "output_type": "stream",
     "text": [
      " 50%|█████████████████████████████████████████▌                                         | 5/10 [00:00<00:00, 12.06it/s]"
     ]
    },
    {
     "name": "stdout",
     "output_type": "stream",
     "text": [
      "10/10 [==============================] - 0s 1ms/step\n",
      "10/10 [==============================] - 0s 1ms/step\n"
     ]
    },
    {
     "name": "stderr",
     "output_type": "stream",
     "text": [
      " 70%|██████████████████████████████████████████████████████████                         | 7/10 [00:00<00:00, 12.10it/s]"
     ]
    },
    {
     "name": "stdout",
     "output_type": "stream",
     "text": [
      "10/10 [==============================] - 0s 1ms/step\n",
      "10/10 [==============================] - 0s 1ms/step\n"
     ]
    },
    {
     "name": "stderr",
     "output_type": "stream",
     "text": [
      " 90%|██████████████████████████████████████████████████████████████████████████▋        | 9/10 [00:00<00:00, 12.06it/s]"
     ]
    },
    {
     "name": "stdout",
     "output_type": "stream",
     "text": [
      "10/10 [==============================] - 0s 1ms/step\n"
     ]
    },
    {
     "name": "stderr",
     "output_type": "stream",
     "text": [
      "100%|██████████████████████████████████████████████████████████████████████████████████| 10/10 [00:00<00:00, 11.80it/s]\n",
      "2023-08-26 00:54:41,652 - INFO - AUC : 0.2\n"
     ]
    },
    {
     "name": "stdout",
     "output_type": "stream",
     "text": [
      "===========================\n",
      "\n",
      "===========================\n",
      "Epoch 1/50\n",
      "3/3 [==============================] - 1s 62ms/step - loss: 15.8729 - val_loss: 14.4595\n",
      "Epoch 2/50\n",
      "3/3 [==============================] - 0s 16ms/step - loss: 15.2746 - val_loss: 9.7131\n",
      "Epoch 3/50\n",
      "3/3 [==============================] - 0s 17ms/step - loss: 12.2501 - val_loss: 12.1249\n",
      "Epoch 4/50\n",
      "3/3 [==============================] - 0s 15ms/step - loss: 12.1743 - val_loss: 8.6778\n",
      "Epoch 5/50\n",
      "3/3 [==============================] - 0s 15ms/step - loss: 11.5720 - val_loss: 9.3291\n",
      "Epoch 6/50\n",
      "3/3 [==============================] - 0s 15ms/step - loss: 11.0205 - val_loss: 9.4426\n",
      "Epoch 7/50\n",
      "3/3 [==============================] - 0s 15ms/step - loss: 11.0470 - val_loss: 9.6816\n",
      "Epoch 8/50\n",
      "3/3 [==============================] - 0s 14ms/step - loss: 10.6671 - val_loss: 8.6665\n",
      "Epoch 9/50\n",
      "3/3 [==============================] - 0s 14ms/step - loss: 10.6620 - val_loss: 8.7321\n",
      "Epoch 10/50\n",
      "3/3 [==============================] - 0s 16ms/step - loss: 10.4154 - val_loss: 9.1650\n",
      "Epoch 11/50\n",
      "3/3 [==============================] - 0s 15ms/step - loss: 10.4242 - val_loss: 9.0649\n",
      "Epoch 12/50\n",
      "3/3 [==============================] - 0s 15ms/step - loss: 10.2481 - val_loss: 8.5431\n",
      "Epoch 13/50\n",
      "3/3 [==============================] - 0s 15ms/step - loss: 10.2624 - val_loss: 8.5797\n",
      "Epoch 14/50\n",
      "3/3 [==============================] - 0s 16ms/step - loss: 10.1317 - val_loss: 8.8753\n",
      "Epoch 15/50\n",
      "3/3 [==============================] - 0s 14ms/step - loss: 10.1272 - val_loss: 8.6984\n",
      "Epoch 16/50\n",
      "3/3 [==============================] - 0s 15ms/step - loss: 10.0502 - val_loss: 8.7048\n",
      "Epoch 17/50\n",
      "3/3 [==============================] - 0s 14ms/step - loss: 10.0163 - val_loss: 8.7976\n",
      "Epoch 18/50\n",
      "3/3 [==============================] - 0s 15ms/step - loss: 9.9813 - val_loss: 8.6960\n",
      "Epoch 19/50\n",
      "3/3 [==============================] - 0s 14ms/step - loss: 9.9265 - val_loss: 8.4828\n",
      "Epoch 20/50\n",
      "3/3 [==============================] - 0s 17ms/step - loss: 9.8984 - val_loss: 8.6168\n",
      "Epoch 21/50\n",
      "3/3 [==============================] - 0s 15ms/step - loss: 9.8520 - val_loss: 8.6934\n",
      "Epoch 22/50\n",
      "3/3 [==============================] - 0s 15ms/step - loss: 9.8135 - val_loss: 8.5658\n",
      "Epoch 23/50\n",
      "3/3 [==============================] - 0s 15ms/step - loss: 9.7792 - val_loss: 8.6702\n",
      "Epoch 24/50\n",
      "3/3 [==============================] - 0s 15ms/step - loss: 9.7361 - val_loss: 8.5879\n",
      "Epoch 25/50\n",
      "3/3 [==============================] - 0s 15ms/step - loss: 9.7029 - val_loss: 8.4553\n",
      "Epoch 26/50\n",
      "3/3 [==============================] - 0s 14ms/step - loss: 9.6621 - val_loss: 8.6246\n",
      "Epoch 27/50\n",
      "3/3 [==============================] - 0s 15ms/step - loss: 9.6254 - val_loss: 8.6172\n",
      "Epoch 28/50\n",
      "3/3 [==============================] - 0s 14ms/step - loss: 9.5857 - val_loss: 8.5399\n",
      "Epoch 29/50\n",
      "3/3 [==============================] - 0s 22ms/step - loss: 9.5474 - val_loss: 8.4854\n",
      "Epoch 30/50\n",
      "3/3 [==============================] - 0s 13ms/step - loss: 9.5119 - val_loss: 8.5299\n",
      "Epoch 31/50\n",
      "3/3 [==============================] - 0s 14ms/step - loss: 9.4719 - val_loss: 8.4741\n",
      "Epoch 32/50\n",
      "3/3 [==============================] - 0s 14ms/step - loss: 9.4347 - val_loss: 8.4475\n",
      "Epoch 33/50\n",
      "3/3 [==============================] - 0s 15ms/step - loss: 9.3921 - val_loss: 8.4950\n",
      "Epoch 34/50\n",
      "3/3 [==============================] - 0s 15ms/step - loss: 9.3589 - val_loss: 8.4956\n",
      "Epoch 35/50\n",
      "3/3 [==============================] - 0s 17ms/step - loss: 9.3148 - val_loss: 8.5449\n",
      "Epoch 36/50\n",
      "3/3 [==============================] - 0s 17ms/step - loss: 9.2750 - val_loss: 8.4872\n",
      "Epoch 37/50\n",
      "3/3 [==============================] - 0s 15ms/step - loss: 9.2279 - val_loss: 8.3715\n",
      "Epoch 38/50\n",
      "3/3 [==============================] - 0s 15ms/step - loss: 9.1897 - val_loss: 8.3199\n",
      "Epoch 39/50\n",
      "3/3 [==============================] - 0s 14ms/step - loss: 9.1464 - val_loss: 8.5324\n",
      "Epoch 40/50\n",
      "3/3 [==============================] - 0s 18ms/step - loss: 9.1044 - val_loss: 8.4717\n",
      "Epoch 41/50\n",
      "3/3 [==============================] - 0s 16ms/step - loss: 9.0591 - val_loss: 8.4847\n",
      "Epoch 42/50\n",
      "3/3 [==============================] - 0s 15ms/step - loss: 9.0130 - val_loss: 8.4726\n",
      "Epoch 43/50\n",
      "3/3 [==============================] - 0s 15ms/step - loss: 8.9700 - val_loss: 8.4822\n",
      "Epoch 44/50\n",
      "3/3 [==============================] - 0s 14ms/step - loss: 8.9215 - val_loss: 8.4252\n",
      "Epoch 45/50\n",
      "3/3 [==============================] - 0s 14ms/step - loss: 8.8736 - val_loss: 8.4077\n",
      "Epoch 46/50\n",
      "3/3 [==============================] - 0s 14ms/step - loss: 8.8279 - val_loss: 8.4431\n",
      "Epoch 47/50\n",
      "3/3 [==============================] - 0s 14ms/step - loss: 8.7757 - val_loss: 8.4842\n",
      "Epoch 48/50\n",
      "3/3 [==============================] - 0s 14ms/step - loss: 8.7236 - val_loss: 8.4349\n",
      "Epoch 49/50\n",
      "3/3 [==============================] - 0s 13ms/step - loss: 8.6703 - val_loss: 8.3959\n",
      "Epoch 50/50\n",
      "3/3 [==============================] - 0s 14ms/step - loss: 8.6139 - val_loss: 8.5032\n",
      "============== EVALUATION ==============\n"
     ]
    },
    {
     "name": "stderr",
     "output_type": "stream",
     "text": [
      "C:\\Users\\Baejs\\anaconda3\\envs\\bae\\lib\\site-packages\\keras\\src\\engine\\training.py:3000: UserWarning: You are saving your model as an HDF5 file via `model.save()`. This file format is considered legacy. We recommend using instead the native Keras format, e.g. `model.save('my_model.keras')`.\n",
      "  saving_api.save_model(\n",
      "  0%|                                                                                           | 0/10 [00:00<?, ?it/s]"
     ]
    },
    {
     "name": "stdout",
     "output_type": "stream",
     "text": [
      "10/10 [==============================] - 0s 2ms/step\n"
     ]
    },
    {
     "name": "stderr",
     "output_type": "stream",
     "text": [
      " 10%|████████▎                                                                          | 1/10 [00:00<00:01,  8.49it/s]"
     ]
    },
    {
     "name": "stdout",
     "output_type": "stream",
     "text": [
      "10/10 [==============================] - 0s 1ms/step\n",
      "10/10 [==============================] - 0s 1ms/step\n"
     ]
    },
    {
     "name": "stderr",
     "output_type": "stream",
     "text": [
      " 30%|████████████████████████▉                                                          | 3/10 [00:00<00:00, 11.81it/s]"
     ]
    },
    {
     "name": "stdout",
     "output_type": "stream",
     "text": [
      "10/10 [==============================] - 0s 1ms/step\n",
      "10/10 [==============================] - 0s 1ms/step\n"
     ]
    },
    {
     "name": "stderr",
     "output_type": "stream",
     "text": [
      " 50%|█████████████████████████████████████████▌                                         | 5/10 [00:00<00:00, 12.69it/s]"
     ]
    },
    {
     "name": "stdout",
     "output_type": "stream",
     "text": [
      "10/10 [==============================] - 0s 1ms/step\n",
      "10/10 [==============================] - 0s 1ms/step\n"
     ]
    },
    {
     "name": "stderr",
     "output_type": "stream",
     "text": [
      " 70%|██████████████████████████████████████████████████████████                         | 7/10 [00:00<00:00, 12.91it/s]"
     ]
    },
    {
     "name": "stdout",
     "output_type": "stream",
     "text": [
      "10/10 [==============================] - 0s 1ms/step\n",
      "10/10 [==============================] - 0s 1ms/step\n"
     ]
    },
    {
     "name": "stderr",
     "output_type": "stream",
     "text": [
      " 90%|██████████████████████████████████████████████████████████████████████████▋        | 9/10 [00:00<00:00, 13.10it/s]"
     ]
    },
    {
     "name": "stdout",
     "output_type": "stream",
     "text": [
      "10/10 [==============================] - 0s 1ms/step\n"
     ]
    },
    {
     "name": "stderr",
     "output_type": "stream",
     "text": [
      "100%|██████████████████████████████████████████████████████████████████████████████████| 10/10 [00:00<00:00, 12.70it/s]\n",
      "2023-08-26 00:54:45,245 - INFO - AUC : 0.28\n"
     ]
    },
    {
     "name": "stdout",
     "output_type": "stream",
     "text": [
      "===========================\n",
      "\n",
      "===========================\n",
      "Epoch 1/50\n",
      "3/3 [==============================] - 1s 61ms/step - loss: 18.5445 - val_loss: 19.0105\n",
      "Epoch 2/50\n",
      "3/3 [==============================] - 0s 23ms/step - loss: 19.8963 - val_loss: 9.3473\n",
      "Epoch 3/50\n",
      "3/3 [==============================] - 0s 16ms/step - loss: 13.8102 - val_loss: 13.6903\n",
      "Epoch 4/50\n",
      "3/3 [==============================] - 0s 13ms/step - loss: 12.9845 - val_loss: 9.7901\n",
      "Epoch 5/50\n",
      "3/3 [==============================] - 0s 15ms/step - loss: 13.2971 - val_loss: 9.4196\n",
      "Epoch 6/50\n",
      "3/3 [==============================] - 0s 14ms/step - loss: 11.4405 - val_loss: 10.2313\n",
      "Epoch 7/50\n",
      "3/3 [==============================] - 0s 15ms/step - loss: 11.8081 - val_loss: 8.3859\n",
      "Epoch 8/50\n",
      "3/3 [==============================] - 0s 15ms/step - loss: 11.0661 - val_loss: 8.4971\n",
      "Epoch 9/50\n",
      "3/3 [==============================] - 0s 15ms/step - loss: 10.9421 - val_loss: 8.9091\n",
      "Epoch 10/50\n",
      "3/3 [==============================] - 0s 14ms/step - loss: 10.8495 - val_loss: 8.5026\n",
      "Epoch 11/50\n",
      "3/3 [==============================] - 0s 15ms/step - loss: 10.5288 - val_loss: 8.2153\n",
      "Epoch 12/50\n",
      "3/3 [==============================] - 0s 14ms/step - loss: 10.5278 - val_loss: 8.2264\n",
      "Epoch 13/50\n",
      "3/3 [==============================] - 0s 14ms/step - loss: 10.4108 - val_loss: 8.3767\n",
      "Epoch 14/50\n",
      "3/3 [==============================] - 0s 15ms/step - loss: 10.2708 - val_loss: 7.8759\n",
      "Epoch 15/50\n",
      "3/3 [==============================] - 0s 16ms/step - loss: 10.2869 - val_loss: 7.9890\n",
      "Epoch 16/50\n",
      "3/3 [==============================] - 0s 15ms/step - loss: 10.1564 - val_loss: 8.2571\n",
      "Epoch 17/50\n",
      "3/3 [==============================] - 0s 14ms/step - loss: 10.1266 - val_loss: 7.9400\n",
      "Epoch 18/50\n",
      "3/3 [==============================] - 0s 14ms/step - loss: 10.0785 - val_loss: 7.9275\n",
      "Epoch 19/50\n",
      "3/3 [==============================] - 0s 14ms/step - loss: 10.0238 - val_loss: 7.9970\n",
      "Epoch 20/50\n",
      "3/3 [==============================] - 0s 15ms/step - loss: 9.9689 - val_loss: 7.8058\n",
      "Epoch 21/50\n",
      "3/3 [==============================] - 0s 14ms/step - loss: 9.9349 - val_loss: 7.8982\n",
      "Epoch 22/50\n",
      "3/3 [==============================] - 0s 15ms/step - loss: 9.8861 - val_loss: 7.8576\n",
      "Epoch 23/50\n",
      "3/3 [==============================] - 0s 14ms/step - loss: 9.8398 - val_loss: 7.8378\n",
      "Epoch 24/50\n",
      "3/3 [==============================] - 0s 15ms/step - loss: 9.8024 - val_loss: 7.8551\n",
      "Epoch 25/50\n",
      "3/3 [==============================] - 0s 15ms/step - loss: 9.7631 - val_loss: 7.8371\n",
      "Epoch 26/50\n",
      "3/3 [==============================] - 0s 14ms/step - loss: 9.7232 - val_loss: 7.8119\n",
      "Epoch 27/50\n",
      "3/3 [==============================] - 0s 15ms/step - loss: 9.6853 - val_loss: 7.7553\n",
      "Epoch 28/50\n",
      "3/3 [==============================] - 0s 15ms/step - loss: 9.6459 - val_loss: 7.6818\n",
      "Epoch 29/50\n",
      "3/3 [==============================] - 0s 14ms/step - loss: 9.6105 - val_loss: 7.6912\n",
      "Epoch 30/50\n",
      "3/3 [==============================] - 0s 14ms/step - loss: 9.5770 - val_loss: 7.6353\n",
      "Epoch 31/50\n",
      "3/3 [==============================] - 0s 15ms/step - loss: 9.5342 - val_loss: 7.7189\n",
      "Epoch 32/50\n",
      "3/3 [==============================] - 0s 15ms/step - loss: 9.5011 - val_loss: 7.7537\n",
      "Epoch 33/50\n",
      "3/3 [==============================] - 0s 16ms/step - loss: 9.4653 - val_loss: 7.6284\n",
      "Epoch 34/50\n",
      "3/3 [==============================] - 0s 14ms/step - loss: 9.4305 - val_loss: 7.5892\n",
      "Epoch 35/50\n",
      "3/3 [==============================] - 0s 14ms/step - loss: 9.3954 - val_loss: 7.5823\n",
      "Epoch 36/50\n",
      "3/3 [==============================] - 0s 14ms/step - loss: 9.3620 - val_loss: 7.6532\n",
      "Epoch 37/50\n",
      "3/3 [==============================] - 0s 17ms/step - loss: 9.3277 - val_loss: 7.5904\n",
      "Epoch 38/50\n",
      "3/3 [==============================] - 0s 14ms/step - loss: 9.2958 - val_loss: 7.5085\n",
      "Epoch 39/50\n",
      "3/3 [==============================] - 0s 14ms/step - loss: 9.2637 - val_loss: 7.5807\n",
      "Epoch 40/50\n",
      "3/3 [==============================] - 0s 15ms/step - loss: 9.2311 - val_loss: 7.5610\n",
      "Epoch 41/50\n",
      "3/3 [==============================] - 0s 14ms/step - loss: 9.1988 - val_loss: 7.5158\n",
      "Epoch 42/50\n",
      "3/3 [==============================] - 0s 14ms/step - loss: 9.1668 - val_loss: 7.5000\n",
      "Epoch 43/50\n",
      "3/3 [==============================] - 0s 14ms/step - loss: 9.1374 - val_loss: 7.5586\n",
      "Epoch 44/50\n",
      "3/3 [==============================] - 0s 14ms/step - loss: 9.1084 - val_loss: 7.5562\n",
      "Epoch 45/50\n",
      "3/3 [==============================] - 0s 14ms/step - loss: 9.0850 - val_loss: 7.5098\n",
      "Epoch 46/50\n",
      "3/3 [==============================] - 0s 14ms/step - loss: 9.0471 - val_loss: 7.4733\n",
      "Epoch 47/50\n",
      "3/3 [==============================] - 0s 14ms/step - loss: 9.0127 - val_loss: 7.5554\n",
      "Epoch 48/50\n",
      "3/3 [==============================] - 0s 14ms/step - loss: 8.9870 - val_loss: 7.5639\n",
      "Epoch 49/50\n",
      "3/3 [==============================] - 0s 16ms/step - loss: 8.9552 - val_loss: 7.5136\n",
      "Epoch 50/50\n",
      "3/3 [==============================] - 0s 16ms/step - loss: 8.9199 - val_loss: 7.5563\n",
      "============== EVALUATION =============="
     ]
    },
    {
     "name": "stderr",
     "output_type": "stream",
     "text": [
      "C:\\Users\\Baejs\\anaconda3\\envs\\bae\\lib\\site-packages\\keras\\src\\engine\\training.py:3000: UserWarning: You are saving your model as an HDF5 file via `model.save()`. This file format is considered legacy. We recommend using instead the native Keras format, e.g. `model.save('my_model.keras')`.\n",
      "  saving_api.save_model(\n"
     ]
    },
    {
     "name": "stdout",
     "output_type": "stream",
     "text": [
      "\n"
     ]
    },
    {
     "name": "stderr",
     "output_type": "stream",
     "text": [
      "  0%|                                                                                           | 0/10 [00:00<?, ?it/s]"
     ]
    },
    {
     "name": "stdout",
     "output_type": "stream",
     "text": [
      "10/10 [==============================] - 0s 1ms/step\n"
     ]
    },
    {
     "name": "stderr",
     "output_type": "stream",
     "text": [
      " 10%|████████▎                                                                          | 1/10 [00:00<00:01,  8.43it/s]"
     ]
    },
    {
     "name": "stdout",
     "output_type": "stream",
     "text": [
      "10/10 [==============================] - 0s 1ms/step\n",
      "10/10 [==============================] - 0s 1ms/step\n"
     ]
    },
    {
     "name": "stderr",
     "output_type": "stream",
     "text": [
      " 30%|████████████████████████▉                                                          | 3/10 [00:00<00:00, 11.54it/s]"
     ]
    },
    {
     "name": "stdout",
     "output_type": "stream",
     "text": [
      "10/10 [==============================] - 0s 2ms/step\n",
      "10/10 [==============================] - 0s 1ms/step\n"
     ]
    },
    {
     "name": "stderr",
     "output_type": "stream",
     "text": [
      " 50%|█████████████████████████████████████████▌                                         | 5/10 [00:00<00:00, 12.26it/s]"
     ]
    },
    {
     "name": "stdout",
     "output_type": "stream",
     "text": [
      "10/10 [==============================] - 0s 1ms/step\n",
      "10/10 [==============================] - 0s 1ms/step\n"
     ]
    },
    {
     "name": "stderr",
     "output_type": "stream",
     "text": [
      " 70%|██████████████████████████████████████████████████████████                         | 7/10 [00:00<00:00, 12.75it/s]"
     ]
    },
    {
     "name": "stdout",
     "output_type": "stream",
     "text": [
      "10/10 [==============================] - 0s 2ms/step\n",
      "10/10 [==============================] - 0s 1ms/step\n"
     ]
    },
    {
     "name": "stderr",
     "output_type": "stream",
     "text": [
      " 90%|██████████████████████████████████████████████████████████████████████████▋        | 9/10 [00:00<00:00, 12.78it/s]"
     ]
    },
    {
     "name": "stdout",
     "output_type": "stream",
     "text": [
      "10/10 [==============================] - 0s 1ms/step\n"
     ]
    },
    {
     "name": "stderr",
     "output_type": "stream",
     "text": [
      "100%|██████████████████████████████████████████████████████████████████████████████████| 10/10 [00:00<00:00, 12.42it/s]\n",
      "2023-08-26 00:54:48,821 - INFO - AUC : 0.36\n",
      "2023-08-26 00:54:48,822 - INFO - target_dir : ../Sample_data\n",
      "2023-08-26 00:54:48,824 - INFO - train_file num : 5\n",
      "2023-08-26 00:54:48,825 - INFO - eval_file  num : 10\n"
     ]
    },
    {
     "name": "stdout",
     "output_type": "stream",
     "text": [
      "===========================\n",
      "\n",
      "===========================\n"
     ]
    },
    {
     "name": "stderr",
     "output_type": "stream",
     "text": [
      "generate train_dataset: 100%|████████████████████████████████████████████████████████████| 5/5 [00:00<00:00, 80.86it/s]\n",
      "2023-08-26 00:54:48,892 - INFO - save_pickle -> ./pickle_transfer_pretrain_v1/train_pump_id_04.pickle\n",
      "2023-08-26 00:54:48,896 - INFO - save_pickle -> ./pickle_transfer_pretrain_v1/eval_files_pump_id_04.pickle\n",
      "2023-08-26 00:54:48,898 - INFO - save_pickle -> ./pickle_transfer_pretrain_v1/eval_labels_pump_id_04.pickle\n"
     ]
    },
    {
     "name": "stdout",
     "output_type": "stream",
     "text": [
      "\n",
      "===========================\n",
      "Epoch 1/50\n",
      "3/3 [==============================] - 1s 59ms/step - loss: 21.1662 - val_loss: 17.3665\n",
      "Epoch 2/50\n",
      "3/3 [==============================] - 0s 15ms/step - loss: 15.6988 - val_loss: 13.5758\n",
      "Epoch 3/50\n",
      "3/3 [==============================] - 0s 16ms/step - loss: 13.8870 - val_loss: 14.2682\n",
      "Epoch 4/50\n",
      "3/3 [==============================] - 0s 15ms/step - loss: 14.0336 - val_loss: 13.6958\n",
      "Epoch 5/50\n",
      "3/3 [==============================] - 0s 16ms/step - loss: 13.6575 - val_loss: 13.8120\n",
      "Epoch 6/50\n",
      "3/3 [==============================] - 0s 15ms/step - loss: 12.7906 - val_loss: 13.9972\n",
      "Epoch 7/50\n",
      "3/3 [==============================] - 0s 15ms/step - loss: 12.8240 - val_loss: 13.7966\n",
      "Epoch 8/50\n",
      "3/3 [==============================] - 0s 16ms/step - loss: 12.4185 - val_loss: 13.7699\n",
      "Epoch 9/50\n",
      "3/3 [==============================] - 0s 14ms/step - loss: 12.3946 - val_loss: 13.1381\n",
      "Epoch 10/50\n",
      "3/3 [==============================] - 0s 14ms/step - loss: 12.2251 - val_loss: 12.8714\n",
      "Epoch 11/50\n",
      "3/3 [==============================] - 0s 16ms/step - loss: 12.1190 - val_loss: 12.4185\n",
      "Epoch 12/50\n",
      "3/3 [==============================] - 0s 14ms/step - loss: 12.0812 - val_loss: 12.4106\n",
      "Epoch 13/50\n",
      "3/3 [==============================] - 0s 15ms/step - loss: 11.9463 - val_loss: 12.5017\n",
      "Epoch 14/50\n",
      "3/3 [==============================] - 0s 14ms/step - loss: 11.8904 - val_loss: 12.8092\n",
      "Epoch 15/50\n",
      "3/3 [==============================] - 0s 14ms/step - loss: 11.8420 - val_loss: 12.8867\n",
      "Epoch 16/50\n",
      "3/3 [==============================] - 0s 14ms/step - loss: 11.7691 - val_loss: 12.7146\n",
      "Epoch 17/50\n",
      "3/3 [==============================] - 0s 14ms/step - loss: 11.7068 - val_loss: 12.6014\n",
      "Epoch 18/50\n",
      "3/3 [==============================] - 0s 14ms/step - loss: 11.6593 - val_loss: 12.5845\n",
      "Epoch 19/50\n",
      "3/3 [==============================] - 0s 14ms/step - loss: 11.6003 - val_loss: 12.7469\n",
      "Epoch 20/50\n",
      "3/3 [==============================] - 0s 14ms/step - loss: 11.5544 - val_loss: 12.7380\n",
      "Epoch 21/50\n",
      "3/3 [==============================] - 0s 14ms/step - loss: 11.5115 - val_loss: 12.6244\n",
      "Epoch 22/50\n",
      "3/3 [==============================] - 0s 14ms/step - loss: 11.4719 - val_loss: 12.8327\n",
      "Epoch 23/50\n",
      "3/3 [==============================] - 0s 14ms/step - loss: 11.4303 - val_loss: 12.5270\n",
      "Epoch 24/50\n",
      "3/3 [==============================] - 0s 13ms/step - loss: 11.3880 - val_loss: 12.5953\n",
      "Epoch 25/50\n",
      "3/3 [==============================] - 0s 16ms/step - loss: 11.3516 - val_loss: 12.7047\n",
      "Epoch 26/50\n",
      "3/3 [==============================] - 0s 15ms/step - loss: 11.3221 - val_loss: 12.6736\n",
      "Epoch 27/50\n",
      "3/3 [==============================] - 0s 15ms/step - loss: 11.2879 - val_loss: 12.6217\n",
      "Epoch 28/50\n",
      "3/3 [==============================] - 0s 15ms/step - loss: 11.2527 - val_loss: 12.7481\n",
      "Epoch 29/50\n",
      "3/3 [==============================] - 0s 14ms/step - loss: 11.2283 - val_loss: 12.9087\n",
      "Epoch 30/50\n",
      "3/3 [==============================] - 0s 15ms/step - loss: 11.2009 - val_loss: 12.5742\n",
      "Epoch 31/50\n",
      "3/3 [==============================] - 0s 15ms/step - loss: 11.1783 - val_loss: 12.6681\n",
      "Epoch 32/50\n",
      "3/3 [==============================] - 0s 14ms/step - loss: 11.1545 - val_loss: 12.6803\n",
      "Epoch 33/50\n",
      "3/3 [==============================] - 0s 14ms/step - loss: 11.1391 - val_loss: 12.9933\n",
      "Epoch 34/50\n",
      "3/3 [==============================] - 0s 14ms/step - loss: 11.1167 - val_loss: 12.5027\n",
      "Epoch 35/50\n",
      "3/3 [==============================] - 0s 14ms/step - loss: 11.0973 - val_loss: 12.6763\n",
      "Epoch 36/50\n",
      "3/3 [==============================] - 0s 15ms/step - loss: 11.0730 - val_loss: 12.5685\n",
      "Epoch 37/50\n",
      "3/3 [==============================] - 0s 15ms/step - loss: 11.0575 - val_loss: 12.5222\n",
      "Epoch 38/50\n",
      "3/3 [==============================] - 0s 14ms/step - loss: 11.0382 - val_loss: 12.7272\n",
      "Epoch 39/50\n",
      "3/3 [==============================] - 0s 15ms/step - loss: 11.0227 - val_loss: 12.7673\n",
      "Epoch 40/50\n",
      "3/3 [==============================] - 0s 14ms/step - loss: 11.0064 - val_loss: 12.5144\n",
      "Epoch 41/50\n",
      "3/3 [==============================] - 0s 14ms/step - loss: 10.9910 - val_loss: 12.5166\n",
      "Epoch 42/50\n",
      "3/3 [==============================] - 0s 19ms/step - loss: 10.9702 - val_loss: 12.7172\n",
      "Epoch 43/50\n",
      "3/3 [==============================] - 0s 14ms/step - loss: 10.9579 - val_loss: 12.5827\n",
      "Epoch 44/50\n",
      "3/3 [==============================] - 0s 14ms/step - loss: 10.9389 - val_loss: 12.3231\n",
      "Epoch 45/50\n",
      "3/3 [==============================] - 0s 14ms/step - loss: 10.9258 - val_loss: 12.3604\n",
      "Epoch 46/50\n",
      "3/3 [==============================] - 0s 14ms/step - loss: 10.9133 - val_loss: 12.4801\n",
      "Epoch 47/50\n",
      "3/3 [==============================] - 0s 14ms/step - loss: 10.8989 - val_loss: 12.1423\n",
      "Epoch 48/50\n",
      "3/3 [==============================] - 0s 14ms/step - loss: 10.8810 - val_loss: 12.3354\n",
      "Epoch 49/50\n",
      "3/3 [==============================] - 0s 13ms/step - loss: 10.8587 - val_loss: 12.4898\n",
      "Epoch 50/50\n",
      "3/3 [==============================] - 0s 14ms/step - loss: 10.8506 - val_loss: 12.3141\n",
      "============== EVALUATION ==============\n"
     ]
    },
    {
     "name": "stderr",
     "output_type": "stream",
     "text": [
      "C:\\Users\\Baejs\\anaconda3\\envs\\bae\\lib\\site-packages\\keras\\src\\engine\\training.py:3000: UserWarning: You are saving your model as an HDF5 file via `model.save()`. This file format is considered legacy. We recommend using instead the native Keras format, e.g. `model.save('my_model.keras')`.\n",
      "  saving_api.save_model(\n",
      "  0%|                                                                                           | 0/10 [00:00<?, ?it/s]"
     ]
    },
    {
     "name": "stdout",
     "output_type": "stream",
     "text": [
      "10/10 [==============================] - 0s 1ms/step\n"
     ]
    },
    {
     "name": "stderr",
     "output_type": "stream",
     "text": [
      " 10%|████████▎                                                                          | 1/10 [00:00<00:01,  8.15it/s]"
     ]
    },
    {
     "name": "stdout",
     "output_type": "stream",
     "text": [
      "10/10 [==============================] - 0s 1ms/step\n",
      "10/10 [==============================] - 0s 1ms/step\n"
     ]
    },
    {
     "name": "stderr",
     "output_type": "stream",
     "text": [
      " 30%|████████████████████████▉                                                          | 3/10 [00:00<00:00, 11.10it/s]"
     ]
    },
    {
     "name": "stdout",
     "output_type": "stream",
     "text": [
      "10/10 [==============================] - 0s 1ms/step\n",
      "10/10 [==============================] - 0s 1ms/step\n"
     ]
    },
    {
     "name": "stderr",
     "output_type": "stream",
     "text": [
      " 50%|█████████████████████████████████████████▌                                         | 5/10 [00:00<00:00, 11.94it/s]"
     ]
    },
    {
     "name": "stdout",
     "output_type": "stream",
     "text": [
      "10/10 [==============================] - 0s 1ms/step\n",
      "10/10 [==============================] - 0s 1ms/step\n"
     ]
    },
    {
     "name": "stderr",
     "output_type": "stream",
     "text": [
      " 70%|██████████████████████████████████████████████████████████                         | 7/10 [00:00<00:00, 12.04it/s]"
     ]
    },
    {
     "name": "stdout",
     "output_type": "stream",
     "text": [
      "10/10 [==============================] - 0s 1ms/step\n",
      "10/10 [==============================] - 0s 1ms/step\n"
     ]
    },
    {
     "name": "stderr",
     "output_type": "stream",
     "text": [
      " 90%|██████████████████████████████████████████████████████████████████████████▋        | 9/10 [00:00<00:00, 12.18it/s]"
     ]
    },
    {
     "name": "stdout",
     "output_type": "stream",
     "text": [
      "10/10 [==============================] - 0s 1ms/step\n"
     ]
    },
    {
     "name": "stderr",
     "output_type": "stream",
     "text": [
      "100%|██████████████████████████████████████████████████████████████████████████████████| 10/10 [00:00<00:00, 11.83it/s]\n",
      "2023-08-26 00:54:52,504 - INFO - AUC : 0.8400000000000001\n"
     ]
    },
    {
     "name": "stdout",
     "output_type": "stream",
     "text": [
      "===========================\n",
      "\n",
      "===========================\n",
      "Epoch 1/50\n",
      "3/3 [==============================] - 1s 59ms/step - loss: 18.3904 - val_loss: 17.7888\n",
      "Epoch 2/50\n",
      "3/3 [==============================] - 0s 16ms/step - loss: 15.3448 - val_loss: 10.0752\n",
      "Epoch 3/50\n",
      "3/3 [==============================] - 0s 16ms/step - loss: 12.9092 - val_loss: 10.8737\n",
      "Epoch 4/50\n",
      "3/3 [==============================] - 0s 15ms/step - loss: 12.2794 - val_loss: 12.5319\n",
      "Epoch 5/50\n",
      "3/3 [==============================] - 0s 16ms/step - loss: 12.3722 - val_loss: 13.1337\n",
      "Epoch 6/50\n",
      "3/3 [==============================] - 0s 15ms/step - loss: 11.4836 - val_loss: 12.2031\n",
      "Epoch 7/50\n",
      "3/3 [==============================] - 0s 14ms/step - loss: 11.4900 - val_loss: 11.9369\n",
      "Epoch 8/50\n",
      "3/3 [==============================] - 0s 14ms/step - loss: 11.0826 - val_loss: 12.3015\n",
      "Epoch 9/50\n",
      "3/3 [==============================] - 0s 14ms/step - loss: 11.1255 - val_loss: 12.1463\n",
      "Epoch 10/50\n",
      "3/3 [==============================] - 0s 15ms/step - loss: 10.9613 - val_loss: 11.2949\n",
      "Epoch 11/50\n",
      "3/3 [==============================] - 0s 16ms/step - loss: 10.9091 - val_loss: 11.1325\n",
      "Epoch 12/50\n",
      "3/3 [==============================] - 0s 14ms/step - loss: 10.7860 - val_loss: 11.4825\n",
      "Epoch 13/50\n",
      "3/3 [==============================] - 0s 14ms/step - loss: 10.7491 - val_loss: 11.3758\n",
      "Epoch 14/50\n",
      "3/3 [==============================] - 0s 14ms/step - loss: 10.6747 - val_loss: 10.9759\n",
      "Epoch 15/50\n",
      "3/3 [==============================] - 0s 14ms/step - loss: 10.6418 - val_loss: 10.9305\n",
      "Epoch 16/50\n",
      "3/3 [==============================] - 0s 16ms/step - loss: 10.5808 - val_loss: 11.1432\n",
      "Epoch 17/50\n",
      "3/3 [==============================] - 0s 15ms/step - loss: 10.5385 - val_loss: 10.9989\n",
      "Epoch 18/50\n",
      "3/3 [==============================] - 0s 14ms/step - loss: 10.4945 - val_loss: 10.7838\n",
      "Epoch 19/50\n",
      "3/3 [==============================] - 0s 14ms/step - loss: 10.4572 - val_loss: 10.8853\n",
      "Epoch 20/50\n",
      "3/3 [==============================] - 0s 14ms/step - loss: 10.4155 - val_loss: 10.7927\n",
      "Epoch 21/50\n",
      "3/3 [==============================] - 0s 14ms/step - loss: 10.3735 - val_loss: 10.4768\n",
      "Epoch 22/50\n",
      "3/3 [==============================] - 0s 14ms/step - loss: 10.3409 - val_loss: 10.3762\n",
      "Epoch 23/50\n",
      "3/3 [==============================] - 0s 14ms/step - loss: 10.3010 - val_loss: 10.4941\n",
      "Epoch 24/50\n",
      "3/3 [==============================] - 0s 14ms/step - loss: 10.2595 - val_loss: 10.3441\n",
      "Epoch 25/50\n",
      "3/3 [==============================] - 0s 14ms/step - loss: 10.2194 - val_loss: 10.3701\n",
      "Epoch 26/50\n",
      "3/3 [==============================] - 0s 14ms/step - loss: 10.1732 - val_loss: 10.2223\n",
      "Epoch 27/50\n",
      "3/3 [==============================] - 0s 14ms/step - loss: 10.1292 - val_loss: 9.9995\n",
      "Epoch 28/50\n",
      "3/3 [==============================] - 0s 14ms/step - loss: 10.0818 - val_loss: 9.8837\n",
      "Epoch 29/50\n",
      "3/3 [==============================] - 0s 14ms/step - loss: 10.0337 - val_loss: 9.8126\n",
      "Epoch 30/50\n",
      "3/3 [==============================] - 0s 14ms/step - loss: 9.9830 - val_loss: 9.6822\n",
      "Epoch 31/50\n",
      "3/3 [==============================] - 0s 14ms/step - loss: 9.9303 - val_loss: 9.5308\n",
      "Epoch 32/50\n",
      "3/3 [==============================] - 0s 14ms/step - loss: 9.8796 - val_loss: 9.4516\n",
      "Epoch 33/50\n",
      "3/3 [==============================] - 0s 14ms/step - loss: 9.8277 - val_loss: 9.2089\n",
      "Epoch 34/50\n",
      "3/3 [==============================] - 0s 14ms/step - loss: 9.7622 - val_loss: 9.1894\n",
      "Epoch 35/50\n",
      "3/3 [==============================] - 0s 15ms/step - loss: 9.6935 - val_loss: 8.9512\n",
      "Epoch 36/50\n",
      "3/3 [==============================] - 0s 16ms/step - loss: 9.6285 - val_loss: 8.8070\n",
      "Epoch 37/50\n",
      "3/3 [==============================] - 0s 14ms/step - loss: 9.5604 - val_loss: 8.6334\n",
      "Epoch 38/50\n",
      "3/3 [==============================] - 0s 14ms/step - loss: 9.4863 - val_loss: 8.3997\n",
      "Epoch 39/50\n",
      "3/3 [==============================] - 0s 15ms/step - loss: 9.4024 - val_loss: 8.1866\n",
      "Epoch 40/50\n",
      "3/3 [==============================] - 0s 14ms/step - loss: 9.3257 - val_loss: 7.9323\n",
      "Epoch 41/50\n",
      "3/3 [==============================] - 0s 14ms/step - loss: 9.2456 - val_loss: 7.9313\n",
      "Epoch 42/50\n",
      "3/3 [==============================] - 0s 14ms/step - loss: 9.1528 - val_loss: 7.7728\n",
      "Epoch 43/50\n",
      "3/3 [==============================] - 0s 14ms/step - loss: 9.0587 - val_loss: 7.6472\n",
      "Epoch 44/50\n",
      "3/3 [==============================] - 0s 15ms/step - loss: 8.9735 - val_loss: 7.4095\n",
      "Epoch 45/50\n",
      "3/3 [==============================] - 0s 14ms/step - loss: 8.8790 - val_loss: 7.2640\n",
      "Epoch 46/50\n",
      "3/3 [==============================] - 0s 14ms/step - loss: 8.7869 - val_loss: 7.1072\n",
      "Epoch 47/50\n",
      "3/3 [==============================] - 0s 14ms/step - loss: 8.6991 - val_loss: 6.9804\n",
      "Epoch 48/50\n",
      "3/3 [==============================] - 0s 14ms/step - loss: 8.6077 - val_loss: 6.8962\n",
      "Epoch 49/50\n",
      "3/3 [==============================] - 0s 14ms/step - loss: 8.5180 - val_loss: 6.8447\n",
      "Epoch 50/50\n",
      "3/3 [==============================] - 0s 15ms/step - loss: 8.4305 - val_loss: 6.6868\n",
      "============== EVALUATION ==============\n"
     ]
    },
    {
     "name": "stderr",
     "output_type": "stream",
     "text": [
      "C:\\Users\\Baejs\\anaconda3\\envs\\bae\\lib\\site-packages\\keras\\src\\engine\\training.py:3000: UserWarning: You are saving your model as an HDF5 file via `model.save()`. This file format is considered legacy. We recommend using instead the native Keras format, e.g. `model.save('my_model.keras')`.\n",
      "  saving_api.save_model(\n",
      "  0%|                                                                                           | 0/10 [00:00<?, ?it/s]"
     ]
    },
    {
     "name": "stdout",
     "output_type": "stream",
     "text": [
      "10/10 [==============================] - 0s 1ms/step\n"
     ]
    },
    {
     "name": "stderr",
     "output_type": "stream",
     "text": [
      " 10%|████████▎                                                                          | 1/10 [00:00<00:01,  8.72it/s]"
     ]
    },
    {
     "name": "stdout",
     "output_type": "stream",
     "text": [
      "10/10 [==============================] - 0s 1ms/step\n",
      "10/10 [==============================] - 0s 1ms/step\n"
     ]
    },
    {
     "name": "stderr",
     "output_type": "stream",
     "text": [
      " 30%|████████████████████████▉                                                          | 3/10 [00:00<00:00, 11.80it/s]"
     ]
    },
    {
     "name": "stdout",
     "output_type": "stream",
     "text": [
      "10/10 [==============================] - 0s 1ms/step\n",
      "10/10 [==============================] - 0s 1ms/step\n"
     ]
    },
    {
     "name": "stderr",
     "output_type": "stream",
     "text": [
      " 50%|█████████████████████████████████████████▌                                         | 5/10 [00:00<00:00, 12.49it/s]"
     ]
    },
    {
     "name": "stdout",
     "output_type": "stream",
     "text": [
      "10/10 [==============================] - 0s 1ms/step\n",
      "10/10 [==============================] - 0s 1ms/step\n"
     ]
    },
    {
     "name": "stderr",
     "output_type": "stream",
     "text": [
      " 70%|██████████████████████████████████████████████████████████                         | 7/10 [00:00<00:00, 12.92it/s]"
     ]
    },
    {
     "name": "stdout",
     "output_type": "stream",
     "text": [
      "10/10 [==============================] - 0s 1ms/step\n",
      "10/10 [==============================] - 0s 1ms/step\n"
     ]
    },
    {
     "name": "stderr",
     "output_type": "stream",
     "text": [
      " 90%|██████████████████████████████████████████████████████████████████████████▋        | 9/10 [00:00<00:00, 13.10it/s]"
     ]
    },
    {
     "name": "stdout",
     "output_type": "stream",
     "text": [
      "10/10 [==============================] - 0s 1ms/step\n"
     ]
    },
    {
     "name": "stderr",
     "output_type": "stream",
     "text": [
      "100%|██████████████████████████████████████████████████████████████████████████████████| 10/10 [00:00<00:00, 12.67it/s]\n",
      "2023-08-26 00:54:56,011 - INFO - AUC : 0.76\n"
     ]
    },
    {
     "name": "stdout",
     "output_type": "stream",
     "text": [
      "===========================\n",
      "\n",
      "===========================\n",
      "Epoch 1/50\n",
      "3/3 [==============================] - 1s 60ms/step - loss: 19.2060 - val_loss: 19.3753\n",
      "Epoch 2/50\n",
      "3/3 [==============================] - 0s 16ms/step - loss: 15.8181 - val_loss: 11.6982\n",
      "Epoch 3/50\n",
      "3/3 [==============================] - 0s 16ms/step - loss: 13.2114 - val_loss: 11.8420\n",
      "Epoch 4/50\n",
      "3/3 [==============================] - 0s 16ms/step - loss: 12.0710 - val_loss: 11.7069\n",
      "Epoch 5/50\n",
      "3/3 [==============================] - 0s 15ms/step - loss: 12.6616 - val_loss: 10.8311\n",
      "Epoch 6/50\n",
      "3/3 [==============================] - 0s 16ms/step - loss: 11.6364 - val_loss: 11.9696\n",
      "Epoch 7/50\n",
      "3/3 [==============================] - 0s 16ms/step - loss: 11.4688 - val_loss: 11.2118\n",
      "Epoch 8/50\n",
      "3/3 [==============================] - 0s 15ms/step - loss: 11.0235 - val_loss: 11.1193\n",
      "Epoch 9/50\n",
      "3/3 [==============================] - 0s 15ms/step - loss: 10.9040 - val_loss: 11.2209\n",
      "Epoch 10/50\n",
      "3/3 [==============================] - 0s 16ms/step - loss: 10.7963 - val_loss: 11.3405\n",
      "Epoch 11/50\n",
      "3/3 [==============================] - 0s 14ms/step - loss: 10.6477 - val_loss: 10.6110\n",
      "Epoch 12/50\n",
      "3/3 [==============================] - 0s 19ms/step - loss: 10.5379 - val_loss: 10.2941\n",
      "Epoch 13/50\n",
      "3/3 [==============================] - 0s 15ms/step - loss: 10.3439 - val_loss: 10.2267\n",
      "Epoch 14/50\n",
      "3/3 [==============================] - 0s 15ms/step - loss: 10.2828 - val_loss: 9.7431\n",
      "Epoch 15/50\n",
      "3/3 [==============================] - 0s 15ms/step - loss: 10.1525 - val_loss: 9.6929\n",
      "Epoch 16/50\n",
      "3/3 [==============================] - 0s 15ms/step - loss: 10.0606 - val_loss: 9.7120\n",
      "Epoch 17/50\n",
      "3/3 [==============================] - 0s 14ms/step - loss: 9.9709 - val_loss: 9.5567\n",
      "Epoch 18/50\n",
      "3/3 [==============================] - 0s 14ms/step - loss: 9.8665 - val_loss: 9.3390\n",
      "Epoch 19/50\n",
      "3/3 [==============================] - 0s 15ms/step - loss: 9.7778 - val_loss: 9.2515\n",
      "Epoch 20/50\n",
      "3/3 [==============================] - 0s 15ms/step - loss: 9.6795 - val_loss: 9.0052\n",
      "Epoch 21/50\n",
      "3/3 [==============================] - 0s 16ms/step - loss: 9.5877 - val_loss: 8.7558\n",
      "Epoch 22/50\n",
      "3/3 [==============================] - 0s 16ms/step - loss: 9.4903 - val_loss: 8.6083\n",
      "Epoch 23/50\n",
      "3/3 [==============================] - 0s 14ms/step - loss: 9.3955 - val_loss: 8.4251\n",
      "Epoch 24/50\n",
      "3/3 [==============================] - 0s 15ms/step - loss: 9.2978 - val_loss: 8.3020\n",
      "Epoch 25/50\n",
      "3/3 [==============================] - 0s 15ms/step - loss: 9.1909 - val_loss: 8.1729\n",
      "Epoch 26/50\n",
      "3/3 [==============================] - 0s 14ms/step - loss: 9.0886 - val_loss: 7.9690\n",
      "Epoch 27/50\n",
      "3/3 [==============================] - 0s 15ms/step - loss: 8.9793 - val_loss: 7.7948\n",
      "Epoch 28/50\n",
      "3/3 [==============================] - 0s 15ms/step - loss: 8.8794 - val_loss: 7.6130\n",
      "Epoch 29/50\n",
      "3/3 [==============================] - 0s 14ms/step - loss: 8.7718 - val_loss: 7.4582\n",
      "Epoch 30/50\n",
      "3/3 [==============================] - 0s 15ms/step - loss: 8.6637 - val_loss: 7.3625\n",
      "Epoch 31/50\n",
      "3/3 [==============================] - 0s 15ms/step - loss: 8.5571 - val_loss: 7.2196\n",
      "Epoch 32/50\n",
      "3/3 [==============================] - 0s 16ms/step - loss: 8.4525 - val_loss: 7.0401\n",
      "Epoch 33/50\n",
      "3/3 [==============================] - 0s 14ms/step - loss: 8.3502 - val_loss: 6.9169\n",
      "Epoch 34/50\n",
      "3/3 [==============================] - 0s 15ms/step - loss: 8.2447 - val_loss: 6.8035\n",
      "Epoch 35/50\n",
      "3/3 [==============================] - 0s 15ms/step - loss: 8.1511 - val_loss: 6.7285\n",
      "Epoch 36/50\n",
      "3/3 [==============================] - 0s 15ms/step - loss: 8.0597 - val_loss: 6.6223\n",
      "Epoch 37/50\n",
      "3/3 [==============================] - 0s 15ms/step - loss: 7.9686 - val_loss: 6.5700\n",
      "Epoch 38/50\n",
      "3/3 [==============================] - 0s 14ms/step - loss: 7.8691 - val_loss: 6.4827\n",
      "Epoch 39/50\n",
      "3/3 [==============================] - 0s 14ms/step - loss: 7.7844 - val_loss: 6.4150\n",
      "Epoch 40/50\n",
      "3/3 [==============================] - 0s 15ms/step - loss: 7.7053 - val_loss: 6.4166\n",
      "Epoch 41/50\n",
      "3/3 [==============================] - 0s 15ms/step - loss: 7.6429 - val_loss: 6.3762\n",
      "Epoch 42/50\n",
      "3/3 [==============================] - 0s 15ms/step - loss: 7.5733 - val_loss: 6.3854\n",
      "Epoch 43/50\n",
      "3/3 [==============================] - 0s 15ms/step - loss: 7.5015 - val_loss: 6.4177\n",
      "Epoch 44/50\n",
      "3/3 [==============================] - 0s 15ms/step - loss: 7.4457 - val_loss: 6.4503\n",
      "Epoch 45/50\n",
      "3/3 [==============================] - 0s 15ms/step - loss: 7.3942 - val_loss: 6.4679\n",
      "Epoch 46/50\n",
      "3/3 [==============================] - 0s 15ms/step - loss: 7.3506 - val_loss: 6.4656\n",
      "Epoch 47/50\n",
      "3/3 [==============================] - 0s 15ms/step - loss: 7.2981 - val_loss: 6.4668\n",
      "Epoch 48/50\n",
      "3/3 [==============================] - 0s 15ms/step - loss: 7.2572 - val_loss: 6.4330\n",
      "Epoch 49/50\n",
      "3/3 [==============================] - 0s 15ms/step - loss: 7.2271 - val_loss: 6.4324\n",
      "Epoch 50/50\n",
      "3/3 [==============================] - 0s 15ms/step - loss: 7.2043 - val_loss: 6.4939\n",
      "============== EVALUATION =============="
     ]
    },
    {
     "name": "stderr",
     "output_type": "stream",
     "text": [
      "C:\\Users\\Baejs\\anaconda3\\envs\\bae\\lib\\site-packages\\keras\\src\\engine\\training.py:3000: UserWarning: You are saving your model as an HDF5 file via `model.save()`. This file format is considered legacy. We recommend using instead the native Keras format, e.g. `model.save('my_model.keras')`.\n",
      "  saving_api.save_model(\n"
     ]
    },
    {
     "name": "stdout",
     "output_type": "stream",
     "text": [
      "\n"
     ]
    },
    {
     "name": "stderr",
     "output_type": "stream",
     "text": [
      "  0%|                                                                                           | 0/10 [00:00<?, ?it/s]"
     ]
    },
    {
     "name": "stdout",
     "output_type": "stream",
     "text": [
      "10/10 [==============================] - 0s 1ms/step\n"
     ]
    },
    {
     "name": "stderr",
     "output_type": "stream",
     "text": [
      " 10%|████████▎                                                                          | 1/10 [00:00<00:01,  8.51it/s]"
     ]
    },
    {
     "name": "stdout",
     "output_type": "stream",
     "text": [
      "10/10 [==============================] - 0s 2ms/step\n",
      "10/10 [==============================] - 0s 1ms/step\n"
     ]
    },
    {
     "name": "stderr",
     "output_type": "stream",
     "text": [
      " 30%|████████████████████████▉                                                          | 3/10 [00:00<00:00, 11.37it/s]"
     ]
    },
    {
     "name": "stdout",
     "output_type": "stream",
     "text": [
      "10/10 [==============================] - 0s 1ms/step\n",
      "10/10 [==============================] - 0s 2ms/step\n"
     ]
    },
    {
     "name": "stderr",
     "output_type": "stream",
     "text": [
      " 50%|█████████████████████████████████████████▌                                         | 5/10 [00:00<00:00, 12.20it/s]"
     ]
    },
    {
     "name": "stdout",
     "output_type": "stream",
     "text": [
      "10/10 [==============================] - 0s 1ms/step\n",
      "10/10 [==============================] - 0s 1ms/step\n"
     ]
    },
    {
     "name": "stderr",
     "output_type": "stream",
     "text": [
      " 70%|██████████████████████████████████████████████████████████                         | 7/10 [00:00<00:00, 12.66it/s]"
     ]
    },
    {
     "name": "stdout",
     "output_type": "stream",
     "text": [
      "10/10 [==============================] - 0s 1ms/step\n",
      "10/10 [==============================] - 0s 1ms/step\n"
     ]
    },
    {
     "name": "stderr",
     "output_type": "stream",
     "text": [
      " 90%|██████████████████████████████████████████████████████████████████████████▋        | 9/10 [00:00<00:00, 12.92it/s]"
     ]
    },
    {
     "name": "stdout",
     "output_type": "stream",
     "text": [
      "10/10 [==============================] - 0s 997us/step\n"
     ]
    },
    {
     "name": "stderr",
     "output_type": "stream",
     "text": [
      "100%|██████████████████████████████████████████████████████████████████████████████████| 10/10 [00:00<00:00, 12.51it/s]\n",
      "2023-08-26 00:54:59,852 - INFO - AUC : 0.76\n",
      "2023-08-26 00:54:59,853 - INFO - target_dir : ../Sample_data\n",
      "2023-08-26 00:54:59,855 - INFO - train_file num : 5\n",
      "2023-08-26 00:54:59,856 - INFO - eval_file  num : 10\n"
     ]
    },
    {
     "name": "stdout",
     "output_type": "stream",
     "text": [
      "===========================\n",
      "\n",
      "===========================\n"
     ]
    },
    {
     "name": "stderr",
     "output_type": "stream",
     "text": [
      "generate train_dataset: 100%|████████████████████████████████████████████████████████████| 5/5 [00:00<00:00, 74.83it/s]\n",
      "2023-08-26 00:54:59,928 - INFO - save_pickle -> ./pickle_transfer_pretrain_v1/train_pump_id_06.pickle\n",
      "2023-08-26 00:54:59,933 - INFO - save_pickle -> ./pickle_transfer_pretrain_v1/eval_files_pump_id_06.pickle\n",
      "2023-08-26 00:54:59,935 - INFO - save_pickle -> ./pickle_transfer_pretrain_v1/eval_labels_pump_id_06.pickle\n"
     ]
    },
    {
     "name": "stdout",
     "output_type": "stream",
     "text": [
      "\n",
      "===========================\n",
      "Epoch 1/50\n",
      "3/3 [==============================] - 1s 61ms/step - loss: 14.9230 - val_loss: 16.7700\n",
      "Epoch 2/50\n",
      "3/3 [==============================] - 0s 15ms/step - loss: 13.2061 - val_loss: 15.2703\n",
      "Epoch 3/50\n",
      "3/3 [==============================] - 0s 15ms/step - loss: 10.7380 - val_loss: 18.5689\n",
      "Epoch 4/50\n",
      "3/3 [==============================] - 0s 15ms/step - loss: 10.5823 - val_loss: 13.7612\n",
      "Epoch 5/50\n",
      "3/3 [==============================] - 0s 18ms/step - loss: 10.0975 - val_loss: 13.2516\n",
      "Epoch 6/50\n",
      "3/3 [==============================] - 0s 14ms/step - loss: 9.4147 - val_loss: 14.2435\n",
      "Epoch 7/50\n",
      "3/3 [==============================] - 0s 16ms/step - loss: 9.4751 - val_loss: 14.1412\n",
      "Epoch 8/50\n",
      "3/3 [==============================] - 0s 15ms/step - loss: 8.9469 - val_loss: 13.3140\n",
      "Epoch 9/50\n",
      "3/3 [==============================] - 0s 22ms/step - loss: 9.0488 - val_loss: 13.3176\n",
      "Epoch 10/50\n",
      "3/3 [==============================] - 0s 14ms/step - loss: 8.7235 - val_loss: 14.1966\n",
      "Epoch 11/50\n",
      "3/3 [==============================] - 0s 15ms/step - loss: 8.7433 - val_loss: 13.1041\n",
      "Epoch 12/50\n",
      "3/3 [==============================] - 0s 17ms/step - loss: 8.5876 - val_loss: 12.8478\n",
      "Epoch 13/50\n",
      "3/3 [==============================] - 0s 16ms/step - loss: 8.5256 - val_loss: 13.3163\n",
      "Epoch 14/50\n",
      "3/3 [==============================] - 0s 17ms/step - loss: 8.4598 - val_loss: 13.3958\n",
      "Epoch 15/50\n",
      "3/3 [==============================] - 0s 19ms/step - loss: 8.3630 - val_loss: 12.8992\n",
      "Epoch 16/50\n",
      "3/3 [==============================] - 0s 19ms/step - loss: 8.3404 - val_loss: 12.9210\n",
      "Epoch 17/50\n",
      "3/3 [==============================] - 0s 18ms/step - loss: 8.2800 - val_loss: 13.0025\n",
      "Epoch 18/50\n",
      "3/3 [==============================] - 0s 19ms/step - loss: 8.2349 - val_loss: 12.9585\n",
      "Epoch 19/50\n",
      "3/3 [==============================] - 0s 22ms/step - loss: 8.2114 - val_loss: 13.1610\n",
      "Epoch 20/50\n",
      "3/3 [==============================] - 0s 21ms/step - loss: 8.1833 - val_loss: 13.0007\n",
      "Epoch 21/50\n",
      "3/3 [==============================] - 0s 24ms/step - loss: 8.1583 - val_loss: 12.6975\n",
      "Epoch 22/50\n",
      "3/3 [==============================] - 0s 18ms/step - loss: 8.1359 - val_loss: 12.8962\n",
      "Epoch 23/50\n",
      "3/3 [==============================] - 0s 19ms/step - loss: 8.1220 - val_loss: 12.9129\n",
      "Epoch 24/50\n",
      "3/3 [==============================] - 0s 22ms/step - loss: 8.1049 - val_loss: 12.9664\n",
      "Epoch 25/50\n",
      "3/3 [==============================] - 0s 17ms/step - loss: 8.0918 - val_loss: 12.9771\n",
      "Epoch 26/50\n",
      "3/3 [==============================] - 0s 16ms/step - loss: 8.0803 - val_loss: 12.7686\n",
      "Epoch 27/50\n",
      "3/3 [==============================] - 0s 16ms/step - loss: 8.0698 - val_loss: 12.8132\n",
      "Epoch 28/50\n",
      "3/3 [==============================] - 0s 21ms/step - loss: 8.0603 - val_loss: 12.8230\n",
      "Epoch 29/50\n",
      "3/3 [==============================] - 0s 16ms/step - loss: 8.0528 - val_loss: 12.7718\n",
      "Epoch 30/50\n",
      "3/3 [==============================] - 0s 16ms/step - loss: 8.0435 - val_loss: 12.6945\n",
      "Epoch 31/50\n",
      "3/3 [==============================] - 0s 14ms/step - loss: 8.0366 - val_loss: 12.8091\n",
      "Epoch 32/50\n",
      "3/3 [==============================] - 0s 17ms/step - loss: 8.0282 - val_loss: 12.7419\n",
      "Epoch 33/50\n",
      "3/3 [==============================] - 0s 16ms/step - loss: 8.0222 - val_loss: 12.7970\n",
      "Epoch 34/50\n",
      "3/3 [==============================] - 0s 16ms/step - loss: 8.0160 - val_loss: 12.6693\n",
      "Epoch 35/50\n",
      "3/3 [==============================] - 0s 18ms/step - loss: 8.0090 - val_loss: 12.7637\n",
      "Epoch 36/50\n",
      "3/3 [==============================] - 0s 16ms/step - loss: 8.0054 - val_loss: 12.9297\n",
      "Epoch 37/50\n",
      "3/3 [==============================] - 0s 17ms/step - loss: 7.9979 - val_loss: 12.7068\n",
      "Epoch 38/50\n",
      "3/3 [==============================] - 0s 15ms/step - loss: 7.9917 - val_loss: 12.6114\n",
      "Epoch 39/50\n",
      "3/3 [==============================] - 0s 14ms/step - loss: 7.9880 - val_loss: 12.7390\n",
      "Epoch 40/50\n",
      "3/3 [==============================] - 0s 16ms/step - loss: 7.9855 - val_loss: 12.6490\n",
      "Epoch 41/50\n",
      "3/3 [==============================] - 0s 15ms/step - loss: 7.9764 - val_loss: 12.8651\n",
      "Epoch 42/50\n",
      "3/3 [==============================] - 0s 14ms/step - loss: 7.9769 - val_loss: 12.9702\n",
      "Epoch 43/50\n",
      "3/3 [==============================] - 0s 15ms/step - loss: 7.9634 - val_loss: 12.5782\n",
      "Epoch 44/50\n",
      "3/3 [==============================] - 0s 17ms/step - loss: 7.9660 - val_loss: 12.4081\n",
      "Epoch 45/50\n",
      "3/3 [==============================] - 0s 14ms/step - loss: 7.9523 - val_loss: 12.9068\n",
      "Epoch 46/50\n",
      "3/3 [==============================] - 0s 15ms/step - loss: 7.9531 - val_loss: 13.0139\n",
      "Epoch 47/50\n",
      "3/3 [==============================] - 0s 15ms/step - loss: 7.9418 - val_loss: 12.5255\n",
      "Epoch 48/50\n",
      "3/3 [==============================] - 0s 14ms/step - loss: 7.9383 - val_loss: 12.4725\n",
      "Epoch 49/50\n",
      "3/3 [==============================] - 0s 16ms/step - loss: 7.9276 - val_loss: 12.8300\n",
      "Epoch 50/50\n",
      "3/3 [==============================] - 0s 15ms/step - loss: 7.9217 - val_loss: 12.8493\n",
      "============== EVALUATION =============="
     ]
    },
    {
     "name": "stderr",
     "output_type": "stream",
     "text": [
      "C:\\Users\\Baejs\\anaconda3\\envs\\bae\\lib\\site-packages\\keras\\src\\engine\\training.py:3000: UserWarning: You are saving your model as an HDF5 file via `model.save()`. This file format is considered legacy. We recommend using instead the native Keras format, e.g. `model.save('my_model.keras')`.\n",
      "  saving_api.save_model(\n"
     ]
    },
    {
     "name": "stdout",
     "output_type": "stream",
     "text": [
      "\n"
     ]
    },
    {
     "name": "stderr",
     "output_type": "stream",
     "text": [
      "  0%|                                                                                           | 0/10 [00:00<?, ?it/s]"
     ]
    },
    {
     "name": "stdout",
     "output_type": "stream",
     "text": [
      "10/10 [==============================] - 0s 1ms/step\n"
     ]
    },
    {
     "name": "stderr",
     "output_type": "stream",
     "text": [
      " 10%|████████▎                                                                          | 1/10 [00:00<00:01,  8.29it/s]"
     ]
    },
    {
     "name": "stdout",
     "output_type": "stream",
     "text": [
      "10/10 [==============================] - 0s 1ms/step\n",
      "10/10 [==============================] - 0s 1ms/step\n"
     ]
    },
    {
     "name": "stderr",
     "output_type": "stream",
     "text": [
      " 30%|████████████████████████▉                                                          | 3/10 [00:00<00:00, 11.68it/s]"
     ]
    },
    {
     "name": "stdout",
     "output_type": "stream",
     "text": [
      "10/10 [==============================] - 0s 997us/step\n",
      "10/10 [==============================] - 0s 1ms/step\n"
     ]
    },
    {
     "name": "stderr",
     "output_type": "stream",
     "text": [
      " 50%|█████████████████████████████████████████▌                                         | 5/10 [00:00<00:00, 12.66it/s]"
     ]
    },
    {
     "name": "stdout",
     "output_type": "stream",
     "text": [
      "10/10 [==============================] - 0s 1ms/step\n",
      "10/10 [==============================] - 0s 1ms/step\n"
     ]
    },
    {
     "name": "stderr",
     "output_type": "stream",
     "text": [
      " 70%|██████████████████████████████████████████████████████████                         | 7/10 [00:00<00:00, 12.67it/s]"
     ]
    },
    {
     "name": "stdout",
     "output_type": "stream",
     "text": [
      "10/10 [==============================] - 0s 1ms/step\n",
      "10/10 [==============================] - 0s 2ms/step\n"
     ]
    },
    {
     "name": "stderr",
     "output_type": "stream",
     "text": [
      " 90%|██████████████████████████████████████████████████████████████████████████▋        | 9/10 [00:00<00:00, 12.59it/s]"
     ]
    },
    {
     "name": "stdout",
     "output_type": "stream",
     "text": [
      "10/10 [==============================] - 0s 1ms/step\n"
     ]
    },
    {
     "name": "stderr",
     "output_type": "stream",
     "text": [
      "100%|██████████████████████████████████████████████████████████████████████████████████| 10/10 [00:00<00:00, 12.29it/s]\n",
      "2023-08-26 00:55:03,772 - INFO - AUC : 0.72\n"
     ]
    },
    {
     "name": "stdout",
     "output_type": "stream",
     "text": [
      "===========================\n",
      "\n",
      "===========================\n",
      "Epoch 1/50\n",
      "3/3 [==============================] - 1s 61ms/step - loss: 16.9133 - val_loss: 19.1830\n",
      "Epoch 2/50\n",
      "3/3 [==============================] - 0s 14ms/step - loss: 17.0189 - val_loss: 11.6770\n",
      "Epoch 3/50\n",
      "3/3 [==============================] - 0s 15ms/step - loss: 10.4271 - val_loss: 15.6736\n",
      "Epoch 4/50\n",
      "3/3 [==============================] - 0s 15ms/step - loss: 11.0971 - val_loss: 11.3075\n",
      "Epoch 5/50\n",
      "3/3 [==============================] - 0s 17ms/step - loss: 9.7352 - val_loss: 12.8356\n",
      "Epoch 6/50\n",
      "3/3 [==============================] - 0s 14ms/step - loss: 8.9405 - val_loss: 10.4283\n",
      "Epoch 7/50\n",
      "3/3 [==============================] - 0s 15ms/step - loss: 8.7315 - val_loss: 10.9699\n",
      "Epoch 8/50\n",
      "3/3 [==============================] - 0s 17ms/step - loss: 8.0990 - val_loss: 10.7767\n",
      "Epoch 9/50\n",
      "3/3 [==============================] - 0s 16ms/step - loss: 8.1997 - val_loss: 10.6338\n",
      "Epoch 10/50\n",
      "3/3 [==============================] - 0s 15ms/step - loss: 7.6449 - val_loss: 9.8800\n",
      "Epoch 11/50\n",
      "3/3 [==============================] - 0s 15ms/step - loss: 7.7501 - val_loss: 9.7920\n",
      "Epoch 12/50\n",
      "3/3 [==============================] - 0s 15ms/step - loss: 7.3800 - val_loss: 10.2623\n",
      "Epoch 13/50\n",
      "3/3 [==============================] - 0s 15ms/step - loss: 7.4516 - val_loss: 9.6773\n",
      "Epoch 14/50\n",
      "3/3 [==============================] - 0s 15ms/step - loss: 7.1956 - val_loss: 9.5136\n",
      "Epoch 15/50\n",
      "3/3 [==============================] - 0s 16ms/step - loss: 7.1956 - val_loss: 9.5743\n",
      "Epoch 16/50\n",
      "3/3 [==============================] - 0s 16ms/step - loss: 7.0884 - val_loss: 9.5962\n",
      "Epoch 17/50\n",
      "3/3 [==============================] - 0s 15ms/step - loss: 7.0132 - val_loss: 9.1960\n",
      "Epoch 18/50\n",
      "3/3 [==============================] - 0s 14ms/step - loss: 6.9714 - val_loss: 9.2930\n",
      "Epoch 19/50\n",
      "3/3 [==============================] - 0s 17ms/step - loss: 6.8874 - val_loss: 9.4060\n",
      "Epoch 20/50\n",
      "3/3 [==============================] - 0s 20ms/step - loss: 6.8443 - val_loss: 9.0693\n",
      "Epoch 21/50\n",
      "3/3 [==============================] - 0s 25ms/step - loss: 6.7860 - val_loss: 9.0140\n",
      "Epoch 22/50\n",
      "3/3 [==============================] - 0s 15ms/step - loss: 6.7268 - val_loss: 9.1376\n",
      "Epoch 23/50\n",
      "3/3 [==============================] - 0s 16ms/step - loss: 6.6860 - val_loss: 8.8850\n",
      "Epoch 24/50\n",
      "3/3 [==============================] - 0s 15ms/step - loss: 6.6364 - val_loss: 8.8579\n",
      "Epoch 25/50\n",
      "3/3 [==============================] - 0s 15ms/step - loss: 6.5923 - val_loss: 8.9014\n",
      "Epoch 26/50\n",
      "3/3 [==============================] - 0s 17ms/step - loss: 6.5499 - val_loss: 8.6877\n",
      "Epoch 27/50\n",
      "3/3 [==============================] - 0s 17ms/step - loss: 6.5095 - val_loss: 8.7052\n",
      "Epoch 28/50\n",
      "3/3 [==============================] - 0s 14ms/step - loss: 6.4684 - val_loss: 8.6408\n",
      "Epoch 29/50\n",
      "3/3 [==============================] - 0s 15ms/step - loss: 6.4332 - val_loss: 8.5334\n",
      "Epoch 30/50\n",
      "3/3 [==============================] - 0s 15ms/step - loss: 6.3973 - val_loss: 8.5216\n",
      "Epoch 31/50\n",
      "3/3 [==============================] - 0s 16ms/step - loss: 6.3645 - val_loss: 8.4823\n",
      "Epoch 32/50\n",
      "3/3 [==============================] - 0s 15ms/step - loss: 6.3325 - val_loss: 8.4182\n",
      "Epoch 33/50\n",
      "3/3 [==============================] - 0s 15ms/step - loss: 6.3020 - val_loss: 8.3614\n",
      "Epoch 34/50\n",
      "3/3 [==============================] - 0s 16ms/step - loss: 6.2734 - val_loss: 8.3040\n",
      "Epoch 35/50\n",
      "3/3 [==============================] - 0s 25ms/step - loss: 6.2453 - val_loss: 8.2802\n",
      "Epoch 36/50\n",
      "3/3 [==============================] - 0s 17ms/step - loss: 6.2190 - val_loss: 8.2190\n",
      "Epoch 37/50\n",
      "3/3 [==============================] - 0s 14ms/step - loss: 6.1946 - val_loss: 8.2027\n",
      "Epoch 38/50\n",
      "3/3 [==============================] - 0s 15ms/step - loss: 6.1711 - val_loss: 8.1480\n",
      "Epoch 39/50\n",
      "3/3 [==============================] - 0s 17ms/step - loss: 6.1498 - val_loss: 8.1072\n",
      "Epoch 40/50\n",
      "3/3 [==============================] - 0s 15ms/step - loss: 6.1307 - val_loss: 8.0907\n",
      "Epoch 41/50\n",
      "3/3 [==============================] - 0s 15ms/step - loss: 6.1109 - val_loss: 8.0316\n",
      "Epoch 42/50\n",
      "3/3 [==============================] - 0s 16ms/step - loss: 6.0924 - val_loss: 7.9798\n",
      "Epoch 43/50\n",
      "3/3 [==============================] - 0s 22ms/step - loss: 6.0741 - val_loss: 8.0265\n",
      "Epoch 44/50\n",
      "3/3 [==============================] - 0s 17ms/step - loss: 6.0583 - val_loss: 7.9252\n",
      "Epoch 45/50\n",
      "3/3 [==============================] - 0s 15ms/step - loss: 6.0432 - val_loss: 7.8620\n",
      "Epoch 46/50\n",
      "3/3 [==============================] - 0s 15ms/step - loss: 6.0293 - val_loss: 7.8144\n",
      "Epoch 47/50\n",
      "3/3 [==============================] - 0s 16ms/step - loss: 6.0147 - val_loss: 7.8771\n",
      "Epoch 48/50\n",
      "3/3 [==============================] - 0s 15ms/step - loss: 6.0028 - val_loss: 7.7941\n",
      "Epoch 49/50\n",
      "3/3 [==============================] - 0s 14ms/step - loss: 5.9914 - val_loss: 7.6939\n",
      "Epoch 50/50\n",
      "3/3 [==============================] - 0s 16ms/step - loss: 5.9829 - val_loss: 7.8047\n"
     ]
    },
    {
     "name": "stderr",
     "output_type": "stream",
     "text": [
      "C:\\Users\\Baejs\\anaconda3\\envs\\bae\\lib\\site-packages\\keras\\src\\engine\\training.py:3000: UserWarning: You are saving your model as an HDF5 file via `model.save()`. This file format is considered legacy. We recommend using instead the native Keras format, e.g. `model.save('my_model.keras')`.\n",
      "  saving_api.save_model(\n"
     ]
    },
    {
     "name": "stdout",
     "output_type": "stream",
     "text": [
      "============== EVALUATION ==============\n"
     ]
    },
    {
     "name": "stderr",
     "output_type": "stream",
     "text": [
      "  0%|                                                                                           | 0/10 [00:00<?, ?it/s]"
     ]
    },
    {
     "name": "stdout",
     "output_type": "stream",
     "text": [
      "10/10 [==============================] - 0s 1ms/step\n"
     ]
    },
    {
     "name": "stderr",
     "output_type": "stream",
     "text": [
      " 10%|████████▎                                                                          | 1/10 [00:00<00:01,  8.36it/s]"
     ]
    },
    {
     "name": "stdout",
     "output_type": "stream",
     "text": [
      "10/10 [==============================] - 0s 1ms/step\n",
      "10/10 [==============================] - 0s 1ms/step\n"
     ]
    },
    {
     "name": "stderr",
     "output_type": "stream",
     "text": [
      " 30%|████████████████████████▉                                                          | 3/10 [00:00<00:00, 11.57it/s]"
     ]
    },
    {
     "name": "stdout",
     "output_type": "stream",
     "text": [
      "10/10 [==============================] - 0s 2ms/step\n",
      "10/10 [==============================] - 0s 1ms/step\n"
     ]
    },
    {
     "name": "stderr",
     "output_type": "stream",
     "text": [
      " 50%|█████████████████████████████████████████▌                                         | 5/10 [00:00<00:00, 12.39it/s]"
     ]
    },
    {
     "name": "stdout",
     "output_type": "stream",
     "text": [
      "10/10 [==============================] - 0s 1ms/step\n",
      "10/10 [==============================] - 0s 1ms/step\n"
     ]
    },
    {
     "name": "stderr",
     "output_type": "stream",
     "text": [
      " 70%|██████████████████████████████████████████████████████████                         | 7/10 [00:00<00:00, 12.79it/s]"
     ]
    },
    {
     "name": "stdout",
     "output_type": "stream",
     "text": [
      "10/10 [==============================] - 0s 1ms/step\n",
      "10/10 [==============================] - 0s 1ms/step\n"
     ]
    },
    {
     "name": "stderr",
     "output_type": "stream",
     "text": [
      " 90%|██████████████████████████████████████████████████████████████████████████▋        | 9/10 [00:00<00:00, 13.00it/s]"
     ]
    },
    {
     "name": "stdout",
     "output_type": "stream",
     "text": [
      "10/10 [==============================] - 0s 1ms/step\n"
     ]
    },
    {
     "name": "stderr",
     "output_type": "stream",
     "text": [
      "100%|██████████████████████████████████████████████████████████████████████████████████| 10/10 [00:00<00:00, 12.52it/s]\n",
      "2023-08-26 00:55:07,517 - INFO - AUC : 0.6799999999999999\n"
     ]
    },
    {
     "name": "stdout",
     "output_type": "stream",
     "text": [
      "===========================\n",
      "\n",
      "===========================\n",
      "Epoch 1/50\n",
      "3/3 [==============================] - 1s 64ms/step - loss: 16.5416 - val_loss: 19.4282\n",
      "Epoch 2/50\n",
      "3/3 [==============================] - 0s 15ms/step - loss: 15.9118 - val_loss: 19.9923\n",
      "Epoch 3/50\n",
      "3/3 [==============================] - 0s 17ms/step - loss: 11.3212 - val_loss: 12.8229\n",
      "Epoch 4/50\n",
      "3/3 [==============================] - 0s 16ms/step - loss: 10.5425 - val_loss: 12.4536\n",
      "Epoch 5/50\n",
      "3/3 [==============================] - 0s 23ms/step - loss: 9.6696 - val_loss: 11.5415\n",
      "Epoch 6/50\n",
      "3/3 [==============================] - 0s 18ms/step - loss: 8.8047 - val_loss: 13.0617\n",
      "Epoch 7/50\n",
      "3/3 [==============================] - 0s 26ms/step - loss: 8.7142 - val_loss: 11.9381\n",
      "Epoch 8/50\n",
      "3/3 [==============================] - 0s 15ms/step - loss: 8.1079 - val_loss: 10.9442\n",
      "Epoch 9/50\n",
      "3/3 [==============================] - 0s 16ms/step - loss: 7.8664 - val_loss: 10.7010\n",
      "Epoch 10/50\n",
      "3/3 [==============================] - 0s 17ms/step - loss: 7.6084 - val_loss: 10.5607\n",
      "Epoch 11/50\n",
      "3/3 [==============================] - 0s 15ms/step - loss: 7.4776 - val_loss: 10.3138\n",
      "Epoch 12/50\n",
      "3/3 [==============================] - 0s 15ms/step - loss: 7.3492 - val_loss: 9.7952\n",
      "Epoch 13/50\n",
      "3/3 [==============================] - 0s 15ms/step - loss: 7.2548 - val_loss: 9.6367\n",
      "Epoch 14/50\n",
      "3/3 [==============================] - 0s 17ms/step - loss: 7.1330 - val_loss: 9.7873\n",
      "Epoch 15/50\n",
      "3/3 [==============================] - 0s 26ms/step - loss: 7.0578 - val_loss: 9.7192\n",
      "Epoch 16/50\n",
      "3/3 [==============================] - 0s 15ms/step - loss: 6.9624 - val_loss: 9.5658\n",
      "Epoch 17/50\n",
      "3/3 [==============================] - 0s 19ms/step - loss: 6.8849 - val_loss: 9.5383\n",
      "Epoch 18/50\n",
      "3/3 [==============================] - 0s 17ms/step - loss: 6.8246 - val_loss: 9.2950\n",
      "Epoch 19/50\n",
      "3/3 [==============================] - 0s 21ms/step - loss: 6.7555 - val_loss: 9.1396\n",
      "Epoch 20/50\n",
      "3/3 [==============================] - 0s 15ms/step - loss: 6.7078 - val_loss: 9.2534\n",
      "Epoch 21/50\n",
      "3/3 [==============================] - 0s 16ms/step - loss: 6.6570 - val_loss: 9.1400\n",
      "Epoch 22/50\n",
      "3/3 [==============================] - 0s 16ms/step - loss: 6.6086 - val_loss: 9.0912\n",
      "Epoch 23/50\n",
      "3/3 [==============================] - 0s 16ms/step - loss: 6.5650 - val_loss: 8.9817\n",
      "Epoch 24/50\n",
      "3/3 [==============================] - 0s 17ms/step - loss: 6.5221 - val_loss: 8.8627\n",
      "Epoch 25/50\n",
      "3/3 [==============================] - 0s 17ms/step - loss: 6.4814 - val_loss: 8.8599\n",
      "Epoch 26/50\n",
      "3/3 [==============================] - 0s 16ms/step - loss: 6.4430 - val_loss: 8.7591\n",
      "Epoch 27/50\n",
      "3/3 [==============================] - 0s 15ms/step - loss: 6.4054 - val_loss: 8.7294\n",
      "Epoch 28/50\n",
      "3/3 [==============================] - 0s 15ms/step - loss: 6.3706 - val_loss: 8.6395\n",
      "Epoch 29/50\n",
      "3/3 [==============================] - 0s 15ms/step - loss: 6.3358 - val_loss: 8.5848\n",
      "Epoch 30/50\n",
      "3/3 [==============================] - 0s 25ms/step - loss: 6.3038 - val_loss: 8.4865\n",
      "Epoch 31/50\n",
      "3/3 [==============================] - 0s 15ms/step - loss: 6.2740 - val_loss: 8.4442\n",
      "Epoch 32/50\n",
      "3/3 [==============================] - 0s 15ms/step - loss: 6.2438 - val_loss: 8.4077\n",
      "Epoch 33/50\n",
      "3/3 [==============================] - 0s 15ms/step - loss: 6.2131 - val_loss: 8.3821\n",
      "Epoch 34/50\n",
      "3/3 [==============================] - 0s 15ms/step - loss: 6.1868 - val_loss: 8.3305\n",
      "Epoch 35/50\n",
      "3/3 [==============================] - 0s 15ms/step - loss: 6.1606 - val_loss: 8.2807\n",
      "Epoch 36/50\n",
      "3/3 [==============================] - 0s 14ms/step - loss: 6.1360 - val_loss: 8.2411\n",
      "Epoch 37/50\n",
      "3/3 [==============================] - 0s 15ms/step - loss: 6.1117 - val_loss: 8.1902\n",
      "Epoch 38/50\n",
      "3/3 [==============================] - 0s 15ms/step - loss: 6.0896 - val_loss: 8.1282\n",
      "Epoch 39/50\n",
      "3/3 [==============================] - 0s 14ms/step - loss: 6.0678 - val_loss: 8.1005\n",
      "Epoch 40/50\n",
      "3/3 [==============================] - 0s 15ms/step - loss: 6.0485 - val_loss: 8.0781\n",
      "Epoch 41/50\n",
      "3/3 [==============================] - 0s 15ms/step - loss: 6.0290 - val_loss: 8.0708\n",
      "Epoch 42/50\n",
      "3/3 [==============================] - 0s 15ms/step - loss: 6.0120 - val_loss: 8.0029\n",
      "Epoch 43/50\n",
      "3/3 [==============================] - 0s 16ms/step - loss: 5.9942 - val_loss: 7.9392\n",
      "Epoch 44/50\n",
      "3/3 [==============================] - 0s 15ms/step - loss: 5.9782 - val_loss: 7.9623\n",
      "Epoch 45/50\n",
      "3/3 [==============================] - 0s 15ms/step - loss: 5.9644 - val_loss: 7.8637\n",
      "Epoch 46/50\n",
      "3/3 [==============================] - 0s 14ms/step - loss: 5.9478 - val_loss: 7.8712\n",
      "Epoch 47/50\n",
      "3/3 [==============================] - 0s 16ms/step - loss: 5.9317 - val_loss: 7.8589\n",
      "Epoch 48/50\n",
      "3/3 [==============================] - 0s 15ms/step - loss: 5.9197 - val_loss: 7.8166\n",
      "Epoch 49/50\n",
      "3/3 [==============================] - 0s 16ms/step - loss: 5.9064 - val_loss: 7.8097\n",
      "Epoch 50/50\n",
      "3/3 [==============================] - 0s 14ms/step - loss: 5.8928 - val_loss: 7.7392\n",
      "============== EVALUATION ==============\n"
     ]
    },
    {
     "name": "stderr",
     "output_type": "stream",
     "text": [
      "C:\\Users\\Baejs\\anaconda3\\envs\\bae\\lib\\site-packages\\keras\\src\\engine\\training.py:3000: UserWarning: You are saving your model as an HDF5 file via `model.save()`. This file format is considered legacy. We recommend using instead the native Keras format, e.g. `model.save('my_model.keras')`.\n",
      "  saving_api.save_model(\n",
      "  0%|                                                                                           | 0/10 [00:00<?, ?it/s]"
     ]
    },
    {
     "name": "stdout",
     "output_type": "stream",
     "text": [
      "10/10 [==============================] - 0s 1ms/step\n"
     ]
    },
    {
     "name": "stderr",
     "output_type": "stream",
     "text": [
      " 10%|████████▎                                                                          | 1/10 [00:00<00:01,  8.16it/s]"
     ]
    },
    {
     "name": "stdout",
     "output_type": "stream",
     "text": [
      "10/10 [==============================] - 0s 1ms/step\n",
      "10/10 [==============================] - 0s 1ms/step\n"
     ]
    },
    {
     "name": "stderr",
     "output_type": "stream",
     "text": [
      " 30%|████████████████████████▉                                                          | 3/10 [00:00<00:00, 10.62it/s]"
     ]
    },
    {
     "name": "stdout",
     "output_type": "stream",
     "text": [
      "10/10 [==============================] - 0s 1ms/step\n",
      "10/10 [==============================] - 0s 1ms/step\n"
     ]
    },
    {
     "name": "stderr",
     "output_type": "stream",
     "text": [
      " 50%|█████████████████████████████████████████▌                                         | 5/10 [00:00<00:00, 11.91it/s]"
     ]
    },
    {
     "name": "stdout",
     "output_type": "stream",
     "text": [
      "10/10 [==============================] - 0s 1ms/step\n",
      "10/10 [==============================] - 0s 1ms/step\n"
     ]
    },
    {
     "name": "stderr",
     "output_type": "stream",
     "text": [
      " 70%|██████████████████████████████████████████████████████████                         | 7/10 [00:00<00:00, 12.48it/s]"
     ]
    },
    {
     "name": "stdout",
     "output_type": "stream",
     "text": [
      "10/10 [==============================] - 0s 1ms/step\n",
      "10/10 [==============================] - 0s 1ms/step\n"
     ]
    },
    {
     "name": "stderr",
     "output_type": "stream",
     "text": [
      " 90%|██████████████████████████████████████████████████████████████████████████▋        | 9/10 [00:00<00:00, 12.78it/s]"
     ]
    },
    {
     "name": "stdout",
     "output_type": "stream",
     "text": [
      "10/10 [==============================] - 0s 1ms/step\n"
     ]
    },
    {
     "name": "stderr",
     "output_type": "stream",
     "text": [
      "100%|██████████████████████████████████████████████████████████████████████████████████| 10/10 [00:00<00:00, 12.11it/s]\n",
      "2023-08-26 00:55:11,336 - INFO - AUC : 0.72\n",
      "2023-08-26 00:55:11,337 - INFO - all results -> ./result_transfer_pretrain_v1/result_transfer_pretrain_v1.yaml\n"
     ]
    },
    {
     "name": "stdout",
     "output_type": "stream",
     "text": [
      "===========================\n",
      "===========================\n"
     ]
    }
   ],
   "source": [
    "########################################################################\n",
    "# import python-library\n",
    "########################################################################\n",
    "import pickle\n",
    "import os\n",
    "import sys\n",
    "import glob\n",
    "\n",
    "import numpy as np\n",
    "import librosa\n",
    "import librosa.core\n",
    "import librosa.feature\n",
    "import yaml\n",
    "import logging\n",
    "import keras\n",
    "\n",
    "from tqdm import tqdm\n",
    "from sklearn import metrics\n",
    "from keras.models import Model\n",
    "from keras.layers import Input, Dense\n",
    "########################################################################\n",
    "\n",
    "\n",
    "\n",
    "########################################################################\n",
    "# setup STD I/O\n",
    "########################################################################\n",
    "# 로깅을 설정하고 초기화하는 부분\n",
    "logging.basicConfig(level=logging.DEBUG, filename=\"transfer_pretrain_v1.log\")\n",
    "logger = logging.getLogger(' ')\n",
    "handler = logging.StreamHandler()\n",
    "formatter = logging.Formatter('%(asctime)s - %(levelname)s - %(message)s')\n",
    "handler.setFormatter(formatter)\n",
    "logger.addHandler(handler)\n",
    "########################################################################\n",
    "\n",
    "\n",
    "\n",
    "########################################################################\n",
    "# file I/O\n",
    "########################################################################\n",
    "#파일 입출력 관련 함수 선언 부분\n",
    "def save_pickle(filename, save_data):  \n",
    "    logger.info(\"save_pickle -> {}\".format(filename))\n",
    "    with open(filename, 'wb') as sf:\n",
    "        pickle.dump(save_data, sf)\n",
    "\n",
    "def load_pickle(filename):\n",
    "    logger.info(\"load_pickle <- {}\".format(filename))\n",
    "    with open(filename, 'rb') as lf:\n",
    "        load_data = pickle.load(lf)\n",
    "    return load_data\n",
    "\n",
    "\n",
    "def file_load(wav_name, mono=False):\n",
    "    try:\n",
    "        return librosa.load(wav_name, sr=None, mono=mono)\n",
    "    except:\n",
    "        logger.error(\"file_broken or not exists!! : {}\".format(wav_name))\n",
    "\n",
    "\n",
    "def demux_wav(wav_name, channel=0):\n",
    "    try:\n",
    "        multi_channel_data, sr = file_load(wav_name)\n",
    "        if multi_channel_data.ndim <= 1:\n",
    "            return sr, multi_channel_data\n",
    "        return sr, np.array(multi_channel_data)[channel, :]\n",
    "    except ValueError as msg:\n",
    "        logger.warning(f'{msg}')\n",
    "########################################################################\n",
    "\n",
    "\n",
    " \n",
    "\n",
    "\n",
    "########################################################################\n",
    "# feature extractor\n",
    "########################################################################\n",
    "#소리 파일 하나를 로그멜스펙트로그램 형태로 바꾸고 딥러닝 모델에 넣을 형태로 바꾸는 함수 \n",
    "def file_to_vector_array(file_name, n_mels=64, frames=5, n_fft=1024, hop_length=512, power=2.0):\n",
    "    dims = n_mels * frames\n",
    "    sr, y = demux_wav(file_name) \n",
    "    mel_spectrogram = librosa.feature.melspectrogram(y=y, sr=sr, n_fft=n_fft, hop_length=hop_length, n_mels=n_mels, power=power)\n",
    "    log_mel_spectrogram = 20.0 / power * np.log10(mel_spectrogram + sys.float_info.epsilon)\n",
    "    vectorarray_size = len(log_mel_spectrogram[0, :]) - frames + 1\n",
    "    if vectorarray_size < 1:\n",
    "        return np.empty((0, dims), float)\n",
    "    vectorarray = np.zeros((vectorarray_size, dims), float)\n",
    "    for t in range(frames):\n",
    "        vectorarray[:, n_mels * t: n_mels * (t + 1)] = log_mel_spectrogram[:, t: t + vectorarray_size].T\n",
    "    return vectorarray\n",
    "\n",
    "\n",
    "#소리 파일들의 이름명이 담긴 리스트를 입력하면 그것들을 하나의 데이터셋으로 합치는 함수\n",
    "def list_to_vector_array(file_list, msg=\"calc...\", n_mels=64, frames=5, n_fft=1024, hop_length=512, power=2.0):\n",
    "    dims = n_mels * frames\n",
    "    for idx in tqdm(range(len(file_list)), desc=msg):\n",
    "        vector_array = file_to_vector_array(file_list[idx], n_mels=n_mels, frames=frames, n_fft=n_fft, hop_length=hop_length, power=power)\n",
    "        if idx == 0:\n",
    "            dataset = np.zeros((vector_array.shape[0] * len(file_list), dims), float)          \n",
    "        dataset[vector_array.shape[0] * idx: vector_array.shape[0] * (idx + 1), :] = vector_array\n",
    "    return dataset\n",
    "\n",
    "\n",
    "# machine4종류와 id4종류 각각의 데이터셋을 만드는 함수. \n",
    "# eval데이터셋: abnormal파일들 + normal파일들(5대5비율), train데이터셋: eval에 사용한 normal파일을 제외한 나머지 normal파일 전부\n",
    "def dataset_generator(target_dir, machine_type, id_, normal_dir_name=\"normal\", abnormal_dir_name=\"abnormal\", ext=\"wav\"):\n",
    "    logger.info(\"target_dir : {}\".format(target_dir))\n",
    "    machine_id = f\"-6dB_{machine_type}\"\n",
    "    machine = f\"{machine_type}\"\n",
    "    id_ = f\"{id_}\"\n",
    "    machine_type_id_path = os.path.join(target_dir, machine_id, machine, id_)\n",
    "    normal_files = sorted(glob.glob(os.path.abspath(\"{dir}/{normal_dir_name}/*.{ext}\".format(dir=machine_type_id_path, normal_dir_name=normal_dir_name, ext=ext))))\n",
    "    normal_labels = np.zeros(len(normal_files))\n",
    "    \n",
    "    if len(normal_files) == 0:\n",
    "        logger.exception(\"no_wav_data!!\")    \n",
    "    abnormal_files = sorted(glob.glob(os.path.abspath(\"{dir}/{abnormal_dir_name}/*.{ext}\".format(dir=machine_type_id_path, abnormal_dir_name=abnormal_dir_name, ext=ext))))\n",
    "    abnormal_labels = np.ones(len(abnormal_files))\n",
    "    \n",
    "    if len(abnormal_files) == 0:\n",
    "        logger.exception(\"no_wav_data!!\")  \n",
    "    train_files = normal_files[len(abnormal_files):]\n",
    "    train_labels = normal_labels[len(abnormal_files):]\n",
    "    eval_files = np.concatenate((normal_files[:len(abnormal_files)], abnormal_files), axis=0)\n",
    "    eval_labels = np.concatenate((normal_labels[:len(abnormal_files)], abnormal_labels), axis=0)\n",
    "    \n",
    "    logger.info(\"train_file num : {num}\".format(num=len(train_files)))\n",
    "    logger.info(\"eval_file  num : {num}\".format(num=len(eval_files)))\n",
    "    \n",
    "    return train_files, train_labels, eval_files, eval_labels\n",
    "########################################################################\n",
    "\n",
    "\n",
    "\n",
    "\n",
    "########################################################################\n",
    "# keras model\n",
    "########################################################################\n",
    "#오토인코더 함수\n",
    "def keras_model(inputDim):\n",
    "    inputLayer = Input(shape=(inputDim,))\n",
    "    h = Dense(64, activation=\"relu\")(inputLayer)    \n",
    "    h = Dense(64, activation=\"relu\")(h)\n",
    "    h = Dense(8, activation=\"relu\")(h)\n",
    "    h = Dense(64, activation=\"relu\")(h)\n",
    "    h = Dense(64, activation=\"relu\")(h)\n",
    "    h = Dense(inputDim, activation=None)(h)\n",
    "    return Model(inputs=inputLayer, outputs=h)\n",
    "########################################################################\n",
    "\n",
    "\n",
    "\n",
    "\n",
    "########################################################################\n",
    "# main\n",
    "########################################################################\n",
    "# 메인 실행 부분\n",
    "if __name__ == \"__main__\":\n",
    "    with open(\"make_pretrain_v1.yaml\", encoding='utf-8') as stream:\n",
    "        pretrain_v1_param = yaml.safe_load(stream)\n",
    "    with open(\"transfer_pretrain_v1.yaml\", encoding='utf-8') as stream:\n",
    "        transfer_v1_param = yaml.safe_load(stream)\n",
    "\n",
    "    # pickle데이터, model데이터, result데이터가 저장될 파일과 폴더들 관련 변수 선언\n",
    "    os.makedirs(transfer_v1_param[\"pickle_directory\"], exist_ok=True)\n",
    "    os.makedirs(transfer_v1_param[\"model_directory\"], exist_ok=True)\n",
    "    os.makedirs(transfer_v1_param[\"result_directory\"], exist_ok=True)\n",
    "    model_directory = transfer_v1_param[\"model_directory\"]\n",
    "    base_directory = transfer_v1_param[\"base_directory\"]\n",
    "    result_file = \"{result}/{file_name}\".format(result=transfer_v1_param[\"result_directory\"], file_name=transfer_v1_param[\"result_file\"])\n",
    "    results = {}\n",
    "\n",
    "    machine_types = [\"fan\", \"valve\", \"slider\", \"pump\"]    \n",
    "    id_list =  [\"id_00\", \"id_02\", \"id_04\", \"id_06\"]   \n",
    "\n",
    "    # 4종류의 machine와 4종류의 id를 각각 for문을 돔.\n",
    "    for machine_type in machine_types:\n",
    "        for id_ in id_list:\n",
    "            print(\"\\n===========================\")\n",
    "            train_pickle = \"{pickle}/train_{machine_type}_{id_}.pickle\".format(pickle=transfer_v1_param[\"pickle_directory\"], machine_type= machine_type, id_ = id_)\n",
    "            eval_files_pickle = \"{pickle}/eval_files_{machine_type}_{id_}.pickle\".format(pickle=transfer_v1_param[\"pickle_directory\"], machine_type= machine_type, id_ = id_)\n",
    "            eval_labels_pickle = \"{pickle}/eval_labels_{machine_type}_{id_}.pickle\".format(pickle=transfer_v1_param[\"pickle_directory\"], machine_type= machine_type, id_ = id_)\n",
    "\n",
    "            #데이터셋 생성, pickle에 저장돼있다면 그것을 사용\n",
    "            if os.path.exists(train_pickle) and os.path.exists(eval_files_pickle) and os.path.exists(eval_labels_pickle):\n",
    "                train_data = load_pickle(train_pickle)\n",
    "                eval_files = load_pickle(eval_files_pickle)\n",
    "                eval_labels = load_pickle(eval_labels_pickle)\n",
    "            else:\n",
    "                train_files, train_labels, eval_files, eval_labels = dataset_generator(base_directory, machine_type, id_)\n",
    "                train_data = list_to_vector_array(train_files,\n",
    "                                                  msg=\"generate train_dataset\",\n",
    "                                                  n_mels=transfer_v1_param[\"feature\"][\"n_mels\"],\n",
    "                                                  frames=transfer_v1_param[\"feature\"][\"frames\"],\n",
    "                                                  n_fft=transfer_v1_param[\"feature\"][\"n_fft\"],\n",
    "                                                  hop_length=transfer_v1_param[\"feature\"][\"hop_length\"],\n",
    "                                                  power=transfer_v1_param[\"feature\"][\"power\"])\n",
    "                save_pickle(train_pickle, train_data)\n",
    "                save_pickle(eval_files_pickle, eval_files)\n",
    "                save_pickle(eval_labels_pickle, eval_labels)\n",
    "\n",
    "            # v1 특성상 machine이 fan이라면 fan을 제외한 pump, valve, slider로 학습한 pretrain된 모델을 불러와서 transfer학습 시작\n",
    "            for source_type in machine_types:\n",
    "                if source_type == machine_type:\n",
    "                    continue\n",
    "                print(\"\\n===========================\")\n",
    "                \n",
    "               \n",
    "                model = keras.models.load_model(pretrain_v1_param[\"model_directory\"] + \"/pretrain_only_-6dB_{source_type}.h5\".format(source_type=source_type))\n",
    "                model.compile(**transfer_v1_param[\"fit\"][\"compile\"])\n",
    "                model.fit(train_data,\n",
    "                          train_data,\n",
    "                          epochs=transfer_v1_param[\"fit\"][\"epochs\"],\n",
    "                          batch_size=transfer_v1_param[\"fit\"][\"batch_size\"],\n",
    "                          shuffle=transfer_v1_param[\"fit\"][\"shuffle\"],\n",
    "                          validation_split=transfer_v1_param[\"fit\"][\"validation_split\"],\n",
    "                          verbose=transfer_v1_param[\"fit\"][\"verbose\"])\n",
    "                model.save(os.path.join(model_directory, \"transfer_{machine_type}_{id_}_to_{source_type}.h5\".format(machine_type= machine_type, id_ = id_, source_type=source_type)))\n",
    "\n",
    "                print(\"============== EVALUATION ==============\")\n",
    "                y_pred = [0. for k in eval_labels]\n",
    "                y_true = eval_labels\n",
    "\n",
    "                evaluation_result_key = \"{machine_type}_{id_}_to_{source_type}\".format(machine_type=machine_type, id_= id_, source_type=source_type)\n",
    "                evaluation_result = {}\n",
    "                for num, file_name in tqdm(enumerate(eval_files), total=len(eval_files)):\n",
    "                    try:\n",
    "                        data = file_to_vector_array(file_name,\n",
    "                                                    n_mels=transfer_v1_param[\"feature\"][\"n_mels\"],\n",
    "                                                    frames=transfer_v1_param[\"feature\"][\"frames\"],\n",
    "                                                    n_fft=transfer_v1_param[\"feature\"][\"n_fft\"],\n",
    "                                                    hop_length=transfer_v1_param[\"feature\"][\"hop_length\"],\n",
    "                                                    power=transfer_v1_param[\"feature\"][\"power\"])\n",
    "                        error = np.mean(np.square(data - model.predict(data)), axis=1)\n",
    "                        y_pred[num] = np.mean(error)\n",
    "                    except:\n",
    "                        logger.warning(\"File broken!!: {}\".format(file_name))\n",
    "                \n",
    "                # auc값을 저장함\n",
    "                score = metrics.roc_auc_score(y_true, y_pred)\n",
    "                logger.info(\"AUC : {}\".format(score))\n",
    "                evaluation_result[\"AUC\"] = float(score)\n",
    "                results[evaluation_result_key] = evaluation_result\n",
    "                print(\"===========================\")\n",
    "        \n",
    "        # 모든 학습이 완료됐을 때 auc 결과들을 yaml파일로 저장       \n",
    "        logger.info(\"all results -> {}\".format(result_file))\n",
    "        with open(result_file, \"w\") as f:\n",
    "            f.write(yaml.dump(results, default_flow_style=False))       \n",
    "        print(\"===========================\")\n",
    "########################################################################"
   ]
  },
  {
   "cell_type": "code",
   "execution_count": null,
   "id": "1ffa1427-7560-4c3d-b648-bddd14c33e8c",
   "metadata": {},
   "outputs": [],
   "source": []
  }
 ],
 "metadata": {
  "kernelspec": {
   "display_name": "Python 3 (ipykernel)",
   "language": "python",
   "name": "python3"
  },
  "language_info": {
   "codemirror_mode": {
    "name": "ipython",
    "version": 3
   },
   "file_extension": ".py",
   "mimetype": "text/x-python",
   "name": "python",
   "nbconvert_exporter": "python",
   "pygments_lexer": "ipython3",
   "version": "3.11.4"
  },
  "toc": {
   "base_numbering": 1,
   "nav_menu": {},
   "number_sections": true,
   "sideBar": true,
   "skip_h1_title": false,
   "title_cell": "Table of Contents",
   "title_sidebar": "Contents",
   "toc_cell": false,
   "toc_position": {},
   "toc_section_display": true,
   "toc_window_display": false
  },
  "vscode": {
   "interpreter": {
    "hash": "557b26f2afb0034d2b9583f22e5a96d5c2fd0b947b12212a0c5ba344d367ad03"
   }
  }
 },
 "nbformat": 4,
 "nbformat_minor": 5
}
