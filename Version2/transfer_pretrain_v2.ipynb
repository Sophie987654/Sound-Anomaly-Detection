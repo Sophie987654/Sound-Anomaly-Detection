{
 "cells": [
  {
   "cell_type": "code",
   "execution_count": 1,
   "id": "5136a332-cdae-4856-a8fa-d39f2aa0c5b1",
   "metadata": {
    "tags": []
   },
   "outputs": [
    {
     "name": "stderr",
     "output_type": "stream",
     "text": [
      "2023-08-26 00:59:15,677 - INFO - target_dir : ../Sample_data\n",
      "2023-08-26 00:59:15,681 - INFO - train_file num : 5\n",
      "2023-08-26 00:59:15,683 - INFO - eval_file  num : 10\n"
     ]
    },
    {
     "name": "stdout",
     "output_type": "stream",
     "text": [
      "\n",
      "===========================\n"
     ]
    },
    {
     "name": "stderr",
     "output_type": "stream",
     "text": [
      "generate train_dataset: 100%|████████████████████████████████████████████████████████████| 5/5 [00:02<00:00,  1.89it/s]\n",
      "2023-08-26 00:59:18,338 - INFO - save_pickle -> ./pickle_transfer_pretrain_v2/train_fan_id_00.pickle\n",
      "2023-08-26 00:59:18,343 - INFO - save_pickle -> ./pickle_transfer_pretrain_v2/eval_files_fan_id_00.pickle\n",
      "2023-08-26 00:59:18,345 - INFO - save_pickle -> ./pickle_transfer_pretrain_v2/eval_labels_fan_id_00.pickle\n",
      "2023-08-26 00:59:18,348 - INFO - save_pickle -> ./pickle_transfer_pretrain_v2/train_labels_fan_id_00.pickle\n"
     ]
    },
    {
     "name": "stdout",
     "output_type": "stream",
     "text": [
      "Epoch 1/50\n",
      "3/3 [==============================] - 1s 77ms/step - loss: 17.2342 - val_loss: 20.3495\n",
      "Epoch 2/50\n",
      "3/3 [==============================] - 0s 15ms/step - loss: 16.0614 - val_loss: 20.7839\n",
      "Epoch 3/50\n",
      "3/3 [==============================] - 0s 15ms/step - loss: 15.2711 - val_loss: 17.8787\n",
      "Epoch 4/50\n",
      "3/3 [==============================] - 0s 15ms/step - loss: 13.9259 - val_loss: 17.5569\n",
      "Epoch 5/50\n",
      "3/3 [==============================] - 0s 15ms/step - loss: 13.3429 - val_loss: 18.7694\n",
      "Epoch 6/50\n",
      "3/3 [==============================] - 0s 16ms/step - loss: 13.4603 - val_loss: 16.9353\n",
      "Epoch 7/50\n",
      "3/3 [==============================] - 0s 15ms/step - loss: 12.7849 - val_loss: 16.4325\n",
      "Epoch 8/50\n",
      "3/3 [==============================] - 0s 15ms/step - loss: 12.7483 - val_loss: 17.6436\n",
      "Epoch 9/50\n",
      "3/3 [==============================] - 0s 15ms/step - loss: 12.5313 - val_loss: 16.8287\n",
      "Epoch 10/50\n",
      "3/3 [==============================] - 0s 16ms/step - loss: 12.3250 - val_loss: 15.8546\n",
      "Epoch 11/50\n",
      "3/3 [==============================] - 0s 17ms/step - loss: 12.1368 - val_loss: 16.6518\n",
      "Epoch 12/50\n",
      "3/3 [==============================] - 0s 29ms/step - loss: 12.0116 - val_loss: 15.8893\n",
      "Epoch 13/50\n",
      "3/3 [==============================] - 0s 16ms/step - loss: 11.8545 - val_loss: 15.8121\n",
      "Epoch 14/50\n",
      "3/3 [==============================] - 0s 15ms/step - loss: 11.6654 - val_loss: 15.5918\n",
      "Epoch 15/50\n",
      "3/3 [==============================] - 0s 15ms/step - loss: 11.5158 - val_loss: 15.2900\n",
      "Epoch 16/50\n",
      "3/3 [==============================] - 0s 18ms/step - loss: 11.3784 - val_loss: 15.4232\n",
      "Epoch 17/50\n",
      "3/3 [==============================] - 0s 16ms/step - loss: 11.2213 - val_loss: 15.0272\n",
      "Epoch 18/50\n",
      "3/3 [==============================] - 0s 15ms/step - loss: 11.0794 - val_loss: 15.0949\n",
      "Epoch 19/50\n",
      "3/3 [==============================] - 0s 16ms/step - loss: 10.9379 - val_loss: 14.4757\n",
      "Epoch 20/50\n",
      "3/3 [==============================] - 0s 15ms/step - loss: 10.8074 - val_loss: 14.6247\n",
      "Epoch 21/50\n",
      "3/3 [==============================] - 0s 15ms/step - loss: 10.6808 - val_loss: 14.5505\n",
      "Epoch 22/50\n",
      "3/3 [==============================] - 0s 15ms/step - loss: 10.5621 - val_loss: 14.6950\n",
      "Epoch 23/50\n",
      "3/3 [==============================] - 0s 15ms/step - loss: 10.4547 - val_loss: 14.2829\n",
      "Epoch 24/50\n",
      "3/3 [==============================] - 0s 14ms/step - loss: 10.3568 - val_loss: 14.3103\n",
      "Epoch 25/50\n",
      "3/3 [==============================] - 0s 14ms/step - loss: 10.2707 - val_loss: 14.3018\n",
      "Epoch 26/50\n",
      "3/3 [==============================] - 0s 15ms/step - loss: 10.2004 - val_loss: 14.3928\n",
      "Epoch 27/50\n",
      "3/3 [==============================] - 0s 22ms/step - loss: 10.1255 - val_loss: 14.2353\n",
      "Epoch 28/50\n",
      "3/3 [==============================] - 0s 23ms/step - loss: 10.0698 - val_loss: 14.1916\n",
      "Epoch 29/50\n",
      "3/3 [==============================] - 0s 34ms/step - loss: 10.0142 - val_loss: 14.4761\n",
      "Epoch 30/50\n",
      "3/3 [==============================] - 0s 15ms/step - loss: 9.9636 - val_loss: 14.5573\n",
      "Epoch 31/50\n",
      "3/3 [==============================] - 0s 16ms/step - loss: 9.9136 - val_loss: 14.4256\n",
      "Epoch 32/50\n",
      "3/3 [==============================] - 0s 15ms/step - loss: 9.8749 - val_loss: 14.4236\n",
      "Epoch 33/50\n",
      "3/3 [==============================] - 0s 18ms/step - loss: 9.8329 - val_loss: 14.3572\n",
      "Epoch 34/50\n",
      "3/3 [==============================] - 0s 17ms/step - loss: 9.7883 - val_loss: 14.5208\n",
      "Epoch 35/50\n",
      "3/3 [==============================] - 0s 16ms/step - loss: 9.7499 - val_loss: 14.7669\n",
      "Epoch 36/50\n",
      "3/3 [==============================] - 0s 15ms/step - loss: 9.7149 - val_loss: 14.5620\n",
      "Epoch 37/50\n",
      "3/3 [==============================] - 0s 15ms/step - loss: 9.6859 - val_loss: 14.5135\n",
      "Epoch 38/50\n",
      "3/3 [==============================] - 0s 14ms/step - loss: 9.6469 - val_loss: 14.5829\n",
      "Epoch 39/50\n",
      "3/3 [==============================] - 0s 14ms/step - loss: 9.5955 - val_loss: 14.4488\n",
      "Epoch 40/50\n",
      "3/3 [==============================] - 0s 13ms/step - loss: 9.5533 - val_loss: 14.5256\n",
      "Epoch 41/50\n",
      "3/3 [==============================] - 0s 14ms/step - loss: 9.5017 - val_loss: 14.4343\n",
      "Epoch 42/50\n",
      "3/3 [==============================] - 0s 14ms/step - loss: 9.4528 - val_loss: 14.5437\n",
      "Epoch 43/50\n",
      "3/3 [==============================] - 0s 14ms/step - loss: 9.4097 - val_loss: 14.4671\n",
      "Epoch 44/50\n",
      "3/3 [==============================] - 0s 14ms/step - loss: 9.3528 - val_loss: 14.2193\n",
      "Epoch 45/50\n",
      "3/3 [==============================] - 0s 13ms/step - loss: 9.3155 - val_loss: 14.4223\n",
      "Epoch 46/50\n",
      "3/3 [==============================] - 0s 14ms/step - loss: 9.2602 - val_loss: 14.4685\n",
      "Epoch 47/50\n",
      "3/3 [==============================] - 0s 15ms/step - loss: 9.1994 - val_loss: 13.9377\n",
      "Epoch 48/50\n",
      "3/3 [==============================] - 0s 14ms/step - loss: 9.1470 - val_loss: 14.2193\n",
      "Epoch 49/50\n",
      "3/3 [==============================] - 0s 14ms/step - loss: 9.0871 - val_loss: 14.3900\n",
      "Epoch 50/50\n",
      "3/3 [==============================] - 0s 15ms/step - loss: 9.0348 - val_loss: 14.0662\n",
      "============== EVALUATION ==============\n"
     ]
    },
    {
     "name": "stderr",
     "output_type": "stream",
     "text": [
      "C:\\Users\\Baejs\\anaconda3\\envs\\bae\\lib\\site-packages\\keras\\src\\engine\\training.py:3000: UserWarning: You are saving your model as an HDF5 file via `model.save()`. This file format is considered legacy. We recommend using instead the native Keras format, e.g. `model.save('my_model.keras')`.\n",
      "  saving_api.save_model(\n",
      "  0%|                                                                                           | 0/10 [00:00<?, ?it/s]"
     ]
    },
    {
     "name": "stdout",
     "output_type": "stream",
     "text": [
      "10/10 [==============================] - 0s 1ms/step\n"
     ]
    },
    {
     "name": "stderr",
     "output_type": "stream",
     "text": [
      " 10%|████████▎                                                                          | 1/10 [00:00<00:01,  6.67it/s]"
     ]
    },
    {
     "name": "stdout",
     "output_type": "stream",
     "text": [
      "10/10 [==============================] - 0s 1ms/step\n",
      "10/10 [==============================] - 0s 1ms/step\n"
     ]
    },
    {
     "name": "stderr",
     "output_type": "stream",
     "text": [
      " 30%|████████████████████████▉                                                          | 3/10 [00:00<00:00, 10.80it/s]"
     ]
    },
    {
     "name": "stdout",
     "output_type": "stream",
     "text": [
      "10/10 [==============================] - 0s 990us/step\n",
      "10/10 [==============================] - 0s 1ms/step\n"
     ]
    },
    {
     "name": "stderr",
     "output_type": "stream",
     "text": [
      " 50%|█████████████████████████████████████████▌                                         | 5/10 [00:00<00:00, 12.57it/s]"
     ]
    },
    {
     "name": "stdout",
     "output_type": "stream",
     "text": [
      "10/10 [==============================] - 0s 1ms/step\n",
      "10/10 [==============================] - 0s 1ms/step\n"
     ]
    },
    {
     "name": "stderr",
     "output_type": "stream",
     "text": [
      " 70%|██████████████████████████████████████████████████████████                         | 7/10 [00:00<00:00, 12.28it/s]"
     ]
    },
    {
     "name": "stdout",
     "output_type": "stream",
     "text": [
      "10/10 [==============================] - 0s 1ms/step\n",
      "10/10 [==============================] - 0s 990us/step\n"
     ]
    },
    {
     "name": "stderr",
     "output_type": "stream",
     "text": [
      " 90%|██████████████████████████████████████████████████████████████████████████▋        | 9/10 [00:00<00:00, 12.17it/s]"
     ]
    },
    {
     "name": "stdout",
     "output_type": "stream",
     "text": [
      "10/10 [==============================] - 0s 1ms/step\n"
     ]
    },
    {
     "name": "stderr",
     "output_type": "stream",
     "text": [
      "100%|██████████████████████████████████████████████████████████████████████████████████| 10/10 [00:00<00:00, 11.60it/s]\n",
      "2023-08-26 00:59:22,280 - INFO - AUC : 0.92\n",
      "2023-08-26 00:59:22,281 - INFO - target_dir : ../Sample_data\n",
      "2023-08-26 00:59:22,283 - INFO - train_file num : 5\n",
      "2023-08-26 00:59:22,285 - INFO - eval_file  num : 10\n"
     ]
    },
    {
     "name": "stdout",
     "output_type": "stream",
     "text": [
      "===========================\n",
      "\n",
      "===========================\n"
     ]
    },
    {
     "name": "stderr",
     "output_type": "stream",
     "text": [
      "generate train_dataset: 100%|████████████████████████████████████████████████████████████| 5/5 [00:00<00:00, 48.67it/s]\n",
      "2023-08-26 00:59:22,394 - INFO - save_pickle -> ./pickle_transfer_pretrain_v2/train_fan_id_02.pickle\n",
      "2023-08-26 00:59:22,399 - INFO - save_pickle -> ./pickle_transfer_pretrain_v2/eval_files_fan_id_02.pickle\n",
      "2023-08-26 00:59:22,401 - INFO - save_pickle -> ./pickle_transfer_pretrain_v2/eval_labels_fan_id_02.pickle\n",
      "2023-08-26 00:59:22,404 - INFO - save_pickle -> ./pickle_transfer_pretrain_v2/train_labels_fan_id_02.pickle\n"
     ]
    },
    {
     "name": "stdout",
     "output_type": "stream",
     "text": [
      "Epoch 1/50\n",
      "3/3 [==============================] - 1s 60ms/step - loss: 14.3231 - val_loss: 17.7060\n",
      "Epoch 2/50\n",
      "3/3 [==============================] - 0s 14ms/step - loss: 13.6890 - val_loss: 12.9278\n",
      "Epoch 3/50\n",
      "3/3 [==============================] - 0s 14ms/step - loss: 11.5148 - val_loss: 14.2157\n",
      "Epoch 4/50\n",
      "3/3 [==============================] - 0s 14ms/step - loss: 10.9058 - val_loss: 13.4550\n",
      "Epoch 5/50\n",
      "3/3 [==============================] - 0s 15ms/step - loss: 10.5283 - val_loss: 13.8358\n",
      "Epoch 6/50\n",
      "3/3 [==============================] - 0s 16ms/step - loss: 10.3248 - val_loss: 13.4657\n",
      "Epoch 7/50\n",
      "3/3 [==============================] - 0s 42ms/step - loss: 10.1141 - val_loss: 13.1393\n",
      "Epoch 8/50\n",
      "3/3 [==============================] - 0s 17ms/step - loss: 9.9754 - val_loss: 12.6834\n",
      "Epoch 9/50\n",
      "3/3 [==============================] - 0s 16ms/step - loss: 9.9056 - val_loss: 12.6994\n",
      "Epoch 10/50\n",
      "3/3 [==============================] - 0s 14ms/step - loss: 9.8078 - val_loss: 13.0127\n",
      "Epoch 11/50\n",
      "3/3 [==============================] - 0s 16ms/step - loss: 9.7864 - val_loss: 13.1091\n",
      "Epoch 12/50\n",
      "3/3 [==============================] - 0s 14ms/step - loss: 9.7199 - val_loss: 12.7897\n",
      "Epoch 13/50\n",
      "3/3 [==============================] - 0s 13ms/step - loss: 9.6801 - val_loss: 12.8065\n",
      "Epoch 14/50\n",
      "3/3 [==============================] - 0s 17ms/step - loss: 9.6518 - val_loss: 12.8864\n",
      "Epoch 15/50\n",
      "3/3 [==============================] - 0s 15ms/step - loss: 9.6252 - val_loss: 12.8223\n",
      "Epoch 16/50\n",
      "3/3 [==============================] - 0s 13ms/step - loss: 9.5921 - val_loss: 12.7936\n",
      "Epoch 17/50\n",
      "3/3 [==============================] - 0s 13ms/step - loss: 9.5754 - val_loss: 12.8070\n",
      "Epoch 18/50\n",
      "3/3 [==============================] - 0s 18ms/step - loss: 9.5392 - val_loss: 12.7429\n",
      "Epoch 19/50\n",
      "3/3 [==============================] - 0s 15ms/step - loss: 9.5216 - val_loss: 12.6800\n",
      "Epoch 20/50\n",
      "3/3 [==============================] - 0s 18ms/step - loss: 9.4953 - val_loss: 12.8239\n",
      "Epoch 21/50\n",
      "3/3 [==============================] - 0s 19ms/step - loss: 9.4785 - val_loss: 12.9004\n",
      "Epoch 22/50\n",
      "3/3 [==============================] - 0s 25ms/step - loss: 9.4605 - val_loss: 12.7976\n",
      "Epoch 23/50\n",
      "3/3 [==============================] - 0s 14ms/step - loss: 9.4439 - val_loss: 12.6465\n",
      "Epoch 24/50\n",
      "3/3 [==============================] - 0s 13ms/step - loss: 9.4260 - val_loss: 12.6915\n",
      "Epoch 25/50\n",
      "3/3 [==============================] - 0s 13ms/step - loss: 9.4098 - val_loss: 12.8174\n",
      "Epoch 26/50\n",
      "3/3 [==============================] - 0s 16ms/step - loss: 9.3913 - val_loss: 12.8000\n",
      "Epoch 27/50\n",
      "3/3 [==============================] - 0s 15ms/step - loss: 9.3712 - val_loss: 12.7169\n",
      "Epoch 28/50\n",
      "3/3 [==============================] - 0s 13ms/step - loss: 9.3519 - val_loss: 12.7199\n",
      "Epoch 29/50\n",
      "3/3 [==============================] - 0s 14ms/step - loss: 9.3323 - val_loss: 12.7393\n",
      "Epoch 30/50\n",
      "3/3 [==============================] - 0s 16ms/step - loss: 9.3116 - val_loss: 12.7696\n",
      "Epoch 31/50\n",
      "3/3 [==============================] - 0s 16ms/step - loss: 9.2910 - val_loss: 12.6936\n",
      "Epoch 32/50\n",
      "3/3 [==============================] - 0s 13ms/step - loss: 9.2689 - val_loss: 12.7281\n",
      "Epoch 33/50\n",
      "3/3 [==============================] - 0s 13ms/step - loss: 9.2432 - val_loss: 12.7400\n",
      "Epoch 34/50\n",
      "3/3 [==============================] - 0s 13ms/step - loss: 9.2191 - val_loss: 12.7315\n",
      "Epoch 35/50\n",
      "3/3 [==============================] - 0s 13ms/step - loss: 9.1943 - val_loss: 12.7846\n",
      "Epoch 36/50\n",
      "3/3 [==============================] - 0s 15ms/step - loss: 9.1695 - val_loss: 12.6930\n",
      "Epoch 37/50\n",
      "3/3 [==============================] - 0s 15ms/step - loss: 9.1433 - val_loss: 12.7270\n",
      "Epoch 38/50\n",
      "3/3 [==============================] - 0s 14ms/step - loss: 9.1159 - val_loss: 12.7305\n",
      "Epoch 39/50\n",
      "3/3 [==============================] - 0s 15ms/step - loss: 9.0912 - val_loss: 12.6355\n",
      "Epoch 40/50\n",
      "3/3 [==============================] - 0s 14ms/step - loss: 9.0604 - val_loss: 12.6058\n",
      "Epoch 41/50\n",
      "3/3 [==============================] - 0s 14ms/step - loss: 9.0309 - val_loss: 12.6620\n",
      "Epoch 42/50\n",
      "3/3 [==============================] - 0s 15ms/step - loss: 8.9982 - val_loss: 12.6926\n",
      "Epoch 43/50\n",
      "3/3 [==============================] - 0s 14ms/step - loss: 8.9689 - val_loss: 12.7126\n",
      "Epoch 44/50\n",
      "3/3 [==============================] - 0s 14ms/step - loss: 8.9328 - val_loss: 12.6046\n",
      "Epoch 45/50\n",
      "3/3 [==============================] - 0s 14ms/step - loss: 8.8998 - val_loss: 12.5411\n",
      "Epoch 46/50\n",
      "3/3 [==============================] - 0s 14ms/step - loss: 8.8691 - val_loss: 12.6351\n",
      "Epoch 47/50\n",
      "3/3 [==============================] - 0s 15ms/step - loss: 8.8333 - val_loss: 12.8292\n",
      "Epoch 48/50\n",
      "3/3 [==============================] - 0s 13ms/step - loss: 8.7998 - val_loss: 12.6515\n",
      "Epoch 49/50\n",
      "3/3 [==============================] - 0s 13ms/step - loss: 8.7596 - val_loss: 12.4407\n",
      "Epoch 50/50\n",
      "3/3 [==============================] - 0s 14ms/step - loss: 8.7265 - val_loss: 12.4495\n",
      "============== EVALUATION ==============\n"
     ]
    },
    {
     "name": "stderr",
     "output_type": "stream",
     "text": [
      "C:\\Users\\Baejs\\anaconda3\\envs\\bae\\lib\\site-packages\\keras\\src\\engine\\training.py:3000: UserWarning: You are saving your model as an HDF5 file via `model.save()`. This file format is considered legacy. We recommend using instead the native Keras format, e.g. `model.save('my_model.keras')`.\n",
      "  saving_api.save_model(\n",
      "  0%|                                                                                           | 0/10 [00:00<?, ?it/s]"
     ]
    },
    {
     "name": "stdout",
     "output_type": "stream",
     "text": [
      "10/10 [==============================] - 0s 1ms/step\n"
     ]
    },
    {
     "name": "stderr",
     "output_type": "stream",
     "text": [
      " 10%|████████▎                                                                          | 1/10 [00:00<00:01,  8.36it/s]"
     ]
    },
    {
     "name": "stdout",
     "output_type": "stream",
     "text": [
      "10/10 [==============================] - 0s 1ms/step\n",
      "10/10 [==============================] - 0s 1ms/step\n"
     ]
    },
    {
     "name": "stderr",
     "output_type": "stream",
     "text": [
      " 30%|████████████████████████▉                                                          | 3/10 [00:00<00:00, 11.68it/s]"
     ]
    },
    {
     "name": "stdout",
     "output_type": "stream",
     "text": [
      "10/10 [==============================] - 0s 1ms/step\n",
      "10/10 [==============================] - 0s 1ms/step\n"
     ]
    },
    {
     "name": "stderr",
     "output_type": "stream",
     "text": [
      " 50%|█████████████████████████████████████████▌                                         | 5/10 [00:00<00:00, 12.12it/s]"
     ]
    },
    {
     "name": "stdout",
     "output_type": "stream",
     "text": [
      "10/10 [==============================] - 0s 1ms/step\n",
      "10/10 [==============================] - 0s 1ms/step\n"
     ]
    },
    {
     "name": "stderr",
     "output_type": "stream",
     "text": [
      " 70%|██████████████████████████████████████████████████████████                         | 7/10 [00:00<00:00, 12.35it/s]"
     ]
    },
    {
     "name": "stdout",
     "output_type": "stream",
     "text": [
      "10/10 [==============================] - 0s 1ms/step\n",
      "10/10 [==============================] - 0s 997us/step\n"
     ]
    },
    {
     "name": "stderr",
     "output_type": "stream",
     "text": [
      " 90%|██████████████████████████████████████████████████████████████████████████▋        | 9/10 [00:00<00:00, 12.72it/s]"
     ]
    },
    {
     "name": "stdout",
     "output_type": "stream",
     "text": [
      "10/10 [==============================] - 0s 998us/step\n"
     ]
    },
    {
     "name": "stderr",
     "output_type": "stream",
     "text": [
      "100%|██████████████████████████████████████████████████████████████████████████████████| 10/10 [00:00<00:00, 12.45it/s]\n",
      "2023-08-26 00:59:26,121 - INFO - AUC : 0.68\n",
      "2023-08-26 00:59:26,122 - INFO - target_dir : ../Sample_data\n",
      "2023-08-26 00:59:26,124 - INFO - train_file num : 5\n",
      "2023-08-26 00:59:26,125 - INFO - eval_file  num : 10\n"
     ]
    },
    {
     "name": "stdout",
     "output_type": "stream",
     "text": [
      "===========================\n",
      "\n",
      "===========================\n"
     ]
    },
    {
     "name": "stderr",
     "output_type": "stream",
     "text": [
      "generate train_dataset: 100%|████████████████████████████████████████████████████████████| 5/5 [00:00<00:00, 84.97it/s]\n",
      "2023-08-26 00:59:26,187 - INFO - save_pickle -> ./pickle_transfer_pretrain_v2/train_fan_id_04.pickle\n",
      "2023-08-26 00:59:26,192 - INFO - save_pickle -> ./pickle_transfer_pretrain_v2/eval_files_fan_id_04.pickle\n",
      "2023-08-26 00:59:26,194 - INFO - save_pickle -> ./pickle_transfer_pretrain_v2/eval_labels_fan_id_04.pickle\n",
      "2023-08-26 00:59:26,196 - INFO - save_pickle -> ./pickle_transfer_pretrain_v2/train_labels_fan_id_04.pickle\n"
     ]
    },
    {
     "name": "stdout",
     "output_type": "stream",
     "text": [
      "Epoch 1/50\n",
      "3/3 [==============================] - 1s 57ms/step - loss: 15.0148 - val_loss: 13.0984\n",
      "Epoch 2/50\n",
      "3/3 [==============================] - 0s 14ms/step - loss: 13.6425 - val_loss: 7.5828\n",
      "Epoch 3/50\n",
      "3/3 [==============================] - 0s 13ms/step - loss: 11.5245 - val_loss: 8.1346\n",
      "Epoch 4/50\n",
      "3/3 [==============================] - 0s 13ms/step - loss: 10.4059 - val_loss: 7.2328\n",
      "Epoch 5/50\n",
      "3/3 [==============================] - 0s 14ms/step - loss: 10.5372 - val_loss: 6.4620\n",
      "Epoch 6/50\n",
      "3/3 [==============================] - 0s 13ms/step - loss: 9.5201 - val_loss: 6.9147\n",
      "Epoch 7/50\n",
      "3/3 [==============================] - 0s 14ms/step - loss: 9.6770 - val_loss: 6.4381\n",
      "Epoch 8/50\n",
      "3/3 [==============================] - 0s 14ms/step - loss: 9.2741 - val_loss: 6.9871\n",
      "Epoch 9/50\n",
      "3/3 [==============================] - 0s 15ms/step - loss: 9.1752 - val_loss: 6.3255\n",
      "Epoch 10/50\n",
      "3/3 [==============================] - 0s 15ms/step - loss: 9.1604 - val_loss: 6.1986\n",
      "Epoch 11/50\n",
      "3/3 [==============================] - 0s 16ms/step - loss: 8.9306 - val_loss: 6.2709\n",
      "Epoch 12/50\n",
      "3/3 [==============================] - 0s 14ms/step - loss: 8.9549 - val_loss: 6.1626\n",
      "Epoch 13/50\n",
      "3/3 [==============================] - 0s 13ms/step - loss: 8.8101 - val_loss: 6.2376\n",
      "Epoch 14/50\n",
      "3/3 [==============================] - 0s 13ms/step - loss: 8.7741 - val_loss: 6.1779\n",
      "Epoch 15/50\n",
      "3/3 [==============================] - 0s 14ms/step - loss: 8.7052 - val_loss: 6.1606\n",
      "Epoch 16/50\n",
      "3/3 [==============================] - 0s 14ms/step - loss: 8.6304 - val_loss: 6.0934\n",
      "Epoch 17/50\n",
      "3/3 [==============================] - 0s 14ms/step - loss: 8.5891 - val_loss: 6.1673\n",
      "Epoch 18/50\n",
      "3/3 [==============================] - 0s 14ms/step - loss: 8.5302 - val_loss: 6.0765\n",
      "Epoch 19/50\n",
      "3/3 [==============================] - 0s 15ms/step - loss: 8.4675 - val_loss: 6.0438\n",
      "Epoch 20/50\n",
      "3/3 [==============================] - 0s 15ms/step - loss: 8.4244 - val_loss: 6.0186\n",
      "Epoch 21/50\n",
      "3/3 [==============================] - 0s 15ms/step - loss: 8.3686 - val_loss: 6.0837\n",
      "Epoch 22/50\n",
      "3/3 [==============================] - 0s 13ms/step - loss: 8.3150 - val_loss: 6.0641\n",
      "Epoch 23/50\n",
      "3/3 [==============================] - 0s 12ms/step - loss: 8.2637 - val_loss: 6.0710\n",
      "Epoch 24/50\n",
      "3/3 [==============================] - 0s 14ms/step - loss: 8.2132 - val_loss: 6.0467\n",
      "Epoch 25/50\n",
      "3/3 [==============================] - 0s 13ms/step - loss: 8.1639 - val_loss: 6.0503\n",
      "Epoch 26/50\n",
      "3/3 [==============================] - 0s 13ms/step - loss: 8.1131 - val_loss: 6.0740\n",
      "Epoch 27/50\n",
      "3/3 [==============================] - 0s 13ms/step - loss: 8.0648 - val_loss: 6.0909\n",
      "Epoch 28/50\n",
      "3/3 [==============================] - 0s 14ms/step - loss: 8.0166 - val_loss: 6.0609\n",
      "Epoch 29/50\n",
      "3/3 [==============================] - 0s 13ms/step - loss: 7.9712 - val_loss: 6.0559\n",
      "Epoch 30/50\n",
      "3/3 [==============================] - 0s 15ms/step - loss: 7.9230 - val_loss: 6.0828\n",
      "Epoch 31/50\n",
      "3/3 [==============================] - 0s 20ms/step - loss: 7.8810 - val_loss: 6.1025\n",
      "Epoch 32/50\n",
      "3/3 [==============================] - 0s 20ms/step - loss: 7.8391 - val_loss: 6.1062\n",
      "Epoch 33/50\n",
      "3/3 [==============================] - 0s 17ms/step - loss: 7.7996 - val_loss: 6.0760\n",
      "Epoch 34/50\n",
      "3/3 [==============================] - 0s 17ms/step - loss: 7.7653 - val_loss: 6.1096\n",
      "Epoch 35/50\n",
      "3/3 [==============================] - 0s 16ms/step - loss: 7.7289 - val_loss: 6.1268\n",
      "Epoch 36/50\n",
      "3/3 [==============================] - 0s 15ms/step - loss: 7.6933 - val_loss: 6.1629\n",
      "Epoch 37/50\n",
      "3/3 [==============================] - 0s 15ms/step - loss: 7.6598 - val_loss: 6.1435\n",
      "Epoch 38/50\n",
      "3/3 [==============================] - 0s 15ms/step - loss: 7.6297 - val_loss: 6.1331\n",
      "Epoch 39/50\n",
      "3/3 [==============================] - 0s 14ms/step - loss: 7.6014 - val_loss: 6.1348\n",
      "Epoch 40/50\n",
      "3/3 [==============================] - 0s 13ms/step - loss: 7.5730 - val_loss: 6.1267\n",
      "Epoch 41/50\n",
      "3/3 [==============================] - 0s 13ms/step - loss: 7.5476 - val_loss: 6.1709\n",
      "Epoch 42/50\n",
      "3/3 [==============================] - 0s 14ms/step - loss: 7.5232 - val_loss: 6.2056\n",
      "Epoch 43/50\n",
      "3/3 [==============================] - 0s 14ms/step - loss: 7.5007 - val_loss: 6.1581\n",
      "Epoch 44/50\n",
      "3/3 [==============================] - 0s 17ms/step - loss: 7.4801 - val_loss: 6.1991\n",
      "Epoch 45/50\n",
      "3/3 [==============================] - 0s 13ms/step - loss: 7.4610 - val_loss: 6.1819\n",
      "Epoch 46/50\n",
      "3/3 [==============================] - 0s 13ms/step - loss: 7.4418 - val_loss: 6.1550\n",
      "Epoch 47/50\n",
      "3/3 [==============================] - 0s 13ms/step - loss: 7.4249 - val_loss: 6.1387\n",
      "Epoch 48/50\n",
      "3/3 [==============================] - 0s 14ms/step - loss: 7.4089 - val_loss: 6.1914\n",
      "Epoch 49/50\n",
      "3/3 [==============================] - 0s 14ms/step - loss: 7.3933 - val_loss: 6.2043\n",
      "Epoch 50/50\n",
      "3/3 [==============================] - 0s 14ms/step - loss: 7.3777 - val_loss: 6.1700\n",
      "============== EVALUATION ==============\n"
     ]
    },
    {
     "name": "stderr",
     "output_type": "stream",
     "text": [
      "C:\\Users\\Baejs\\anaconda3\\envs\\bae\\lib\\site-packages\\keras\\src\\engine\\training.py:3000: UserWarning: You are saving your model as an HDF5 file via `model.save()`. This file format is considered legacy. We recommend using instead the native Keras format, e.g. `model.save('my_model.keras')`.\n",
      "  saving_api.save_model(\n",
      "  0%|                                                                                           | 0/10 [00:00<?, ?it/s]"
     ]
    },
    {
     "name": "stdout",
     "output_type": "stream",
     "text": [
      "10/10 [==============================] - 0s 1ms/step\n"
     ]
    },
    {
     "name": "stderr",
     "output_type": "stream",
     "text": [
      " 10%|████████▎                                                                          | 1/10 [00:00<00:01,  8.02it/s]"
     ]
    },
    {
     "name": "stdout",
     "output_type": "stream",
     "text": [
      "10/10 [==============================] - 0s 1ms/step\n",
      "10/10 [==============================] - 0s 1ms/step\n"
     ]
    },
    {
     "name": "stderr",
     "output_type": "stream",
     "text": [
      " 30%|████████████████████████▉                                                          | 3/10 [00:00<00:00, 11.54it/s]"
     ]
    },
    {
     "name": "stdout",
     "output_type": "stream",
     "text": [
      "10/10 [==============================] - 0s 1ms/step\n",
      "10/10 [==============================] - 0s 1ms/step\n"
     ]
    },
    {
     "name": "stderr",
     "output_type": "stream",
     "text": [
      " 50%|█████████████████████████████████████████▌                                         | 5/10 [00:00<00:00, 12.33it/s]"
     ]
    },
    {
     "name": "stdout",
     "output_type": "stream",
     "text": [
      "10/10 [==============================] - 0s 1ms/step\n",
      "10/10 [==============================] - 0s 1ms/step\n"
     ]
    },
    {
     "name": "stderr",
     "output_type": "stream",
     "text": [
      " 70%|██████████████████████████████████████████████████████████                         | 7/10 [00:00<00:00, 12.52it/s]"
     ]
    },
    {
     "name": "stdout",
     "output_type": "stream",
     "text": [
      "10/10 [==============================] - 0s 1ms/step\n",
      "10/10 [==============================] - 0s 2ms/step\n"
     ]
    },
    {
     "name": "stderr",
     "output_type": "stream",
     "text": [
      " 90%|██████████████████████████████████████████████████████████████████████████▋        | 9/10 [00:00<00:00,  9.44it/s]"
     ]
    },
    {
     "name": "stdout",
     "output_type": "stream",
     "text": [
      "10/10 [==============================] - 0s 1ms/step\n"
     ]
    },
    {
     "name": "stderr",
     "output_type": "stream",
     "text": [
      "100%|██████████████████████████████████████████████████████████████████████████████████| 10/10 [00:00<00:00, 10.51it/s]\n",
      "2023-08-26 00:59:29,870 - INFO - AUC : 0.7200000000000001\n",
      "2023-08-26 00:59:29,871 - INFO - target_dir : ../Sample_data\n",
      "2023-08-26 00:59:29,873 - INFO - train_file num : 5\n",
      "2023-08-26 00:59:29,874 - INFO - eval_file  num : 10\n"
     ]
    },
    {
     "name": "stdout",
     "output_type": "stream",
     "text": [
      "===========================\n",
      "\n",
      "===========================\n"
     ]
    },
    {
     "name": "stderr",
     "output_type": "stream",
     "text": [
      "generate train_dataset: 100%|████████████████████████████████████████████████████████████| 5/5 [00:00<00:00, 86.44it/s]\n",
      "2023-08-26 00:59:29,935 - INFO - save_pickle -> ./pickle_transfer_pretrain_v2/train_fan_id_06.pickle\n",
      "2023-08-26 00:59:29,940 - INFO - save_pickle -> ./pickle_transfer_pretrain_v2/eval_files_fan_id_06.pickle\n",
      "2023-08-26 00:59:29,942 - INFO - save_pickle -> ./pickle_transfer_pretrain_v2/eval_labels_fan_id_06.pickle\n",
      "2023-08-26 00:59:29,945 - INFO - save_pickle -> ./pickle_transfer_pretrain_v2/train_labels_fan_id_06.pickle\n"
     ]
    },
    {
     "name": "stdout",
     "output_type": "stream",
     "text": [
      "Epoch 1/50\n",
      "3/3 [==============================] - 1s 60ms/step - loss: 15.2721 - val_loss: 12.9906\n",
      "Epoch 2/50\n",
      "3/3 [==============================] - 0s 15ms/step - loss: 12.5684 - val_loss: 10.4316\n",
      "Epoch 3/50\n",
      "3/3 [==============================] - 0s 14ms/step - loss: 10.3470 - val_loss: 8.2053\n",
      "Epoch 4/50\n",
      "3/3 [==============================] - 0s 14ms/step - loss: 9.7159 - val_loss: 7.7769\n",
      "Epoch 5/50\n",
      "3/3 [==============================] - 0s 15ms/step - loss: 8.5087 - val_loss: 8.0363\n",
      "Epoch 6/50\n",
      "3/3 [==============================] - 0s 15ms/step - loss: 8.1645 - val_loss: 8.0811\n",
      "Epoch 7/50\n",
      "3/3 [==============================] - 0s 29ms/step - loss: 8.0893 - val_loss: 7.3979\n",
      "Epoch 8/50\n",
      "3/3 [==============================] - 0s 26ms/step - loss: 7.9128 - val_loss: 6.8930\n",
      "Epoch 9/50\n",
      "3/3 [==============================] - 0s 13ms/step - loss: 7.6836 - val_loss: 6.7478\n",
      "Epoch 10/50\n",
      "3/3 [==============================] - 0s 13ms/step - loss: 7.5452 - val_loss: 7.0015\n",
      "Epoch 11/50\n",
      "3/3 [==============================] - 0s 18ms/step - loss: 7.5158 - val_loss: 6.9281\n",
      "Epoch 12/50\n",
      "3/3 [==============================] - 0s 15ms/step - loss: 7.4417 - val_loss: 6.9929\n",
      "Epoch 13/50\n",
      "3/3 [==============================] - 0s 16ms/step - loss: 7.4316 - val_loss: 6.9003\n",
      "Epoch 14/50\n",
      "3/3 [==============================] - 0s 16ms/step - loss: 7.3760 - val_loss: 6.8748\n",
      "Epoch 15/50\n",
      "3/3 [==============================] - 0s 16ms/step - loss: 7.3524 - val_loss: 6.7677\n",
      "Epoch 16/50\n",
      "3/3 [==============================] - 0s 14ms/step - loss: 7.3307 - val_loss: 6.7307\n",
      "Epoch 17/50\n",
      "3/3 [==============================] - 0s 13ms/step - loss: 7.3229 - val_loss: 6.8023\n",
      "Epoch 18/50\n",
      "3/3 [==============================] - 0s 13ms/step - loss: 7.3122 - val_loss: 6.8125\n",
      "Epoch 19/50\n",
      "3/3 [==============================] - 0s 16ms/step - loss: 7.3055 - val_loss: 6.8433\n",
      "Epoch 20/50\n",
      "3/3 [==============================] - 0s 16ms/step - loss: 7.3014 - val_loss: 6.7449\n",
      "Epoch 21/50\n",
      "3/3 [==============================] - 0s 15ms/step - loss: 7.2950 - val_loss: 6.7793\n",
      "Epoch 22/50\n",
      "3/3 [==============================] - 0s 16ms/step - loss: 7.2895 - val_loss: 6.7599\n",
      "Epoch 23/50\n",
      "3/3 [==============================] - 0s 13ms/step - loss: 7.2869 - val_loss: 6.7096\n",
      "Epoch 24/50\n",
      "3/3 [==============================] - 0s 12ms/step - loss: 7.2860 - val_loss: 6.7483\n",
      "Epoch 25/50\n",
      "3/3 [==============================] - 0s 14ms/step - loss: 7.2831 - val_loss: 6.8186\n",
      "Epoch 26/50\n",
      "3/3 [==============================] - 0s 16ms/step - loss: 7.2809 - val_loss: 6.8265\n",
      "Epoch 27/50\n",
      "3/3 [==============================] - 0s 15ms/step - loss: 7.2789 - val_loss: 6.7388\n",
      "Epoch 28/50\n",
      "3/3 [==============================] - 0s 12ms/step - loss: 7.2780 - val_loss: 6.6863\n",
      "Epoch 29/50\n",
      "3/3 [==============================] - 0s 13ms/step - loss: 7.2776 - val_loss: 6.7457\n",
      "Epoch 30/50\n",
      "3/3 [==============================] - 0s 13ms/step - loss: 7.2746 - val_loss: 6.7759\n",
      "Epoch 31/50\n",
      "3/3 [==============================] - 0s 13ms/step - loss: 7.2741 - val_loss: 6.7765\n",
      "Epoch 32/50\n",
      "3/3 [==============================] - 0s 14ms/step - loss: 7.2734 - val_loss: 6.6990\n",
      "Epoch 33/50\n",
      "3/3 [==============================] - 0s 14ms/step - loss: 7.2723 - val_loss: 6.7475\n",
      "Epoch 34/50\n",
      "3/3 [==============================] - 0s 16ms/step - loss: 7.2708 - val_loss: 6.7828\n",
      "Epoch 35/50\n",
      "3/3 [==============================] - 0s 14ms/step - loss: 7.2695 - val_loss: 6.7950\n",
      "Epoch 36/50\n",
      "3/3 [==============================] - 0s 12ms/step - loss: 7.2695 - val_loss: 6.7398\n",
      "Epoch 37/50\n",
      "3/3 [==============================] - 0s 12ms/step - loss: 7.2702 - val_loss: 6.7321\n",
      "Epoch 38/50\n",
      "3/3 [==============================] - 0s 13ms/step - loss: 7.2669 - val_loss: 6.7884\n",
      "Epoch 39/50\n",
      "3/3 [==============================] - 0s 13ms/step - loss: 7.2647 - val_loss: 6.7439\n",
      "Epoch 40/50\n",
      "3/3 [==============================] - 0s 14ms/step - loss: 7.2650 - val_loss: 6.7121\n",
      "Epoch 41/50\n",
      "3/3 [==============================] - 0s 15ms/step - loss: 7.2632 - val_loss: 6.7781\n",
      "Epoch 42/50\n",
      "3/3 [==============================] - 0s 14ms/step - loss: 7.2619 - val_loss: 6.7412\n",
      "Epoch 43/50\n",
      "3/3 [==============================] - 0s 15ms/step - loss: 7.2606 - val_loss: 6.7596\n",
      "Epoch 44/50\n",
      "3/3 [==============================] - 0s 14ms/step - loss: 7.2599 - val_loss: 6.7505\n",
      "Epoch 45/50\n",
      "3/3 [==============================] - 0s 16ms/step - loss: 7.2595 - val_loss: 6.7284\n",
      "Epoch 46/50\n",
      "3/3 [==============================] - 0s 18ms/step - loss: 7.2579 - val_loss: 6.7113\n",
      "Epoch 47/50\n",
      "3/3 [==============================] - 0s 17ms/step - loss: 7.2558 - val_loss: 6.7767\n",
      "Epoch 48/50\n",
      "3/3 [==============================] - 0s 16ms/step - loss: 7.2546 - val_loss: 6.7747\n",
      "Epoch 49/50\n",
      "3/3 [==============================] - 0s 16ms/step - loss: 7.2541 - val_loss: 6.7542\n",
      "Epoch 50/50\n",
      "3/3 [==============================] - 0s 13ms/step - loss: 7.2517 - val_loss: 6.7205\n"
     ]
    },
    {
     "name": "stderr",
     "output_type": "stream",
     "text": [
      "C:\\Users\\Baejs\\anaconda3\\envs\\bae\\lib\\site-packages\\keras\\src\\engine\\training.py:3000: UserWarning: You are saving your model as an HDF5 file via `model.save()`. This file format is considered legacy. We recommend using instead the native Keras format, e.g. `model.save('my_model.keras')`.\n",
      "  saving_api.save_model(\n"
     ]
    },
    {
     "name": "stdout",
     "output_type": "stream",
     "text": [
      "============== EVALUATION ==============\n"
     ]
    },
    {
     "name": "stderr",
     "output_type": "stream",
     "text": [
      "  0%|                                                                                           | 0/10 [00:00<?, ?it/s]"
     ]
    },
    {
     "name": "stdout",
     "output_type": "stream",
     "text": [
      "10/10 [==============================] - 0s 997us/step\n"
     ]
    },
    {
     "name": "stderr",
     "output_type": "stream",
     "text": [
      " 10%|████████▎                                                                          | 1/10 [00:00<00:01,  8.36it/s]"
     ]
    },
    {
     "name": "stdout",
     "output_type": "stream",
     "text": [
      "10/10 [==============================] - 0s 996us/step\n",
      "10/10 [==============================] - 0s 1ms/step\n"
     ]
    },
    {
     "name": "stderr",
     "output_type": "stream",
     "text": [
      " 30%|████████████████████████▉                                                          | 3/10 [00:00<00:00, 11.94it/s]"
     ]
    },
    {
     "name": "stdout",
     "output_type": "stream",
     "text": [
      "10/10 [==============================] - 0s 1ms/step\n",
      "10/10 [==============================] - 0s 1ms/step\n"
     ]
    },
    {
     "name": "stderr",
     "output_type": "stream",
     "text": [
      " 50%|█████████████████████████████████████████▌                                         | 5/10 [00:00<00:00, 13.19it/s]"
     ]
    },
    {
     "name": "stdout",
     "output_type": "stream",
     "text": [
      "10/10 [==============================] - 0s 1ms/step\n",
      "10/10 [==============================] - 0s 2ms/step\n"
     ]
    },
    {
     "name": "stderr",
     "output_type": "stream",
     "text": [
      " 70%|██████████████████████████████████████████████████████████                         | 7/10 [00:00<00:00, 13.53it/s]"
     ]
    },
    {
     "name": "stdout",
     "output_type": "stream",
     "text": [
      "10/10 [==============================] - 0s 1ms/step\n",
      "10/10 [==============================] - 0s 887us/step\n"
     ]
    },
    {
     "name": "stderr",
     "output_type": "stream",
     "text": [
      " 90%|██████████████████████████████████████████████████████████████████████████▋        | 9/10 [00:00<00:00, 13.76it/s]"
     ]
    },
    {
     "name": "stdout",
     "output_type": "stream",
     "text": [
      "10/10 [==============================] - 0s 1ms/step\n"
     ]
    },
    {
     "name": "stderr",
     "output_type": "stream",
     "text": [
      "100%|██████████████████████████████████████████████████████████████████████████████████| 10/10 [00:00<00:00, 13.33it/s]\n",
      "2023-08-26 00:59:33,815 - INFO - AUC : 0.8\n",
      "2023-08-26 00:59:33,816 - INFO - all results -> ./result_transfer_pretrain_v2/result_transfer_pretrain_v2.yaml\n",
      "2023-08-26 00:59:33,818 - INFO - target_dir : ../Sample_data\n",
      "2023-08-26 00:59:33,820 - INFO - train_file num : 5\n",
      "2023-08-26 00:59:33,821 - INFO - eval_file  num : 10\n"
     ]
    },
    {
     "name": "stdout",
     "output_type": "stream",
     "text": [
      "===========================\n",
      "===========================\n",
      "\n",
      "===========================\n"
     ]
    },
    {
     "name": "stderr",
     "output_type": "stream",
     "text": [
      "generate train_dataset: 100%|████████████████████████████████████████████████████████████| 5/5 [00:00<00:00, 89.54it/s]\n",
      "2023-08-26 00:59:33,879 - INFO - save_pickle -> ./pickle_transfer_pretrain_v2/train_valve_id_00.pickle\n",
      "2023-08-26 00:59:33,884 - INFO - save_pickle -> ./pickle_transfer_pretrain_v2/eval_files_valve_id_00.pickle\n",
      "2023-08-26 00:59:33,885 - INFO - save_pickle -> ./pickle_transfer_pretrain_v2/eval_labels_valve_id_00.pickle\n",
      "2023-08-26 00:59:33,888 - INFO - save_pickle -> ./pickle_transfer_pretrain_v2/train_labels_valve_id_00.pickle\n"
     ]
    },
    {
     "name": "stdout",
     "output_type": "stream",
     "text": [
      "Epoch 1/50\n",
      "3/3 [==============================] - 1s 59ms/step - loss: 24.1998 - val_loss: 34.2877\n",
      "Epoch 2/50\n",
      "3/3 [==============================] - 0s 14ms/step - loss: 25.5578 - val_loss: 27.0066\n",
      "Epoch 3/50\n",
      "3/3 [==============================] - 0s 14ms/step - loss: 18.8837 - val_loss: 28.6388\n",
      "Epoch 4/50\n",
      "3/3 [==============================] - 0s 15ms/step - loss: 19.8287 - val_loss: 25.5373\n",
      "Epoch 5/50\n",
      "3/3 [==============================] - 0s 14ms/step - loss: 17.1932 - val_loss: 27.5721\n",
      "Epoch 6/50\n",
      "3/3 [==============================] - 0s 14ms/step - loss: 18.0450 - val_loss: 26.0759\n",
      "Epoch 7/50\n",
      "3/3 [==============================] - 0s 14ms/step - loss: 16.2213 - val_loss: 26.0996\n",
      "Epoch 8/50\n",
      "3/3 [==============================] - 0s 14ms/step - loss: 16.9925 - val_loss: 25.5418\n",
      "Epoch 9/50\n",
      "3/3 [==============================] - 0s 14ms/step - loss: 16.0103 - val_loss: 26.2286\n",
      "Epoch 10/50\n",
      "3/3 [==============================] - 0s 14ms/step - loss: 16.2503 - val_loss: 25.4828\n",
      "Epoch 11/50\n",
      "3/3 [==============================] - 0s 14ms/step - loss: 15.8130 - val_loss: 25.3537\n",
      "Epoch 12/50\n",
      "3/3 [==============================] - 0s 17ms/step - loss: 15.8663 - val_loss: 25.1653\n",
      "Epoch 13/50\n",
      "3/3 [==============================] - 0s 14ms/step - loss: 15.5553 - val_loss: 25.1485\n",
      "Epoch 14/50\n",
      "3/3 [==============================] - 0s 17ms/step - loss: 15.5892 - val_loss: 24.9224\n",
      "Epoch 15/50\n",
      "3/3 [==============================] - 0s 16ms/step - loss: 15.3850 - val_loss: 24.4338\n",
      "Epoch 16/50\n",
      "3/3 [==============================] - 0s 16ms/step - loss: 15.3593 - val_loss: 24.3116\n",
      "Epoch 17/50\n",
      "3/3 [==============================] - 0s 17ms/step - loss: 15.2216 - val_loss: 24.5571\n",
      "Epoch 18/50\n",
      "3/3 [==============================] - 0s 14ms/step - loss: 15.1939 - val_loss: 24.2197\n",
      "Epoch 19/50\n",
      "3/3 [==============================] - 0s 13ms/step - loss: 15.1097 - val_loss: 24.0168\n",
      "Epoch 20/50\n",
      "3/3 [==============================] - 0s 13ms/step - loss: 15.0357 - val_loss: 24.2472\n",
      "Epoch 21/50\n",
      "3/3 [==============================] - 0s 13ms/step - loss: 14.9706 - val_loss: 24.2575\n",
      "Epoch 22/50\n",
      "3/3 [==============================] - 0s 13ms/step - loss: 14.8982 - val_loss: 23.9334\n",
      "Epoch 23/50\n",
      "3/3 [==============================] - 0s 14ms/step - loss: 14.8351 - val_loss: 23.8832\n",
      "Epoch 24/50\n",
      "3/3 [==============================] - 0s 14ms/step - loss: 14.7646 - val_loss: 23.8763\n",
      "Epoch 25/50\n",
      "3/3 [==============================] - 0s 14ms/step - loss: 14.6939 - val_loss: 23.7829\n",
      "Epoch 26/50\n",
      "3/3 [==============================] - 0s 14ms/step - loss: 14.6327 - val_loss: 23.8040\n",
      "Epoch 27/50\n",
      "3/3 [==============================] - 0s 13ms/step - loss: 14.5674 - val_loss: 23.4732\n",
      "Epoch 28/50\n",
      "3/3 [==============================] - 0s 14ms/step - loss: 14.5030 - val_loss: 23.5378\n",
      "Epoch 29/50\n",
      "3/3 [==============================] - 0s 14ms/step - loss: 14.4399 - val_loss: 23.5031\n",
      "Epoch 30/50\n",
      "3/3 [==============================] - 0s 14ms/step - loss: 14.3767 - val_loss: 23.4632\n",
      "Epoch 31/50\n",
      "3/3 [==============================] - 0s 14ms/step - loss: 14.3101 - val_loss: 23.2744\n",
      "Epoch 32/50\n",
      "3/3 [==============================] - 0s 15ms/step - loss: 14.2482 - val_loss: 22.9412\n",
      "Epoch 33/50\n",
      "3/3 [==============================] - 0s 16ms/step - loss: 14.1871 - val_loss: 22.8897\n",
      "Epoch 34/50\n",
      "3/3 [==============================] - 0s 15ms/step - loss: 14.1279 - val_loss: 22.9430\n",
      "Epoch 35/50\n",
      "3/3 [==============================] - 0s 15ms/step - loss: 14.0652 - val_loss: 23.0324\n",
      "Epoch 36/50\n",
      "3/3 [==============================] - 0s 14ms/step - loss: 14.0049 - val_loss: 22.8007\n",
      "Epoch 37/50\n",
      "3/3 [==============================] - 0s 13ms/step - loss: 13.9464 - val_loss: 22.4601\n",
      "Epoch 38/50\n",
      "3/3 [==============================] - 0s 13ms/step - loss: 13.8924 - val_loss: 22.2352\n",
      "Epoch 39/50\n",
      "3/3 [==============================] - 0s 13ms/step - loss: 13.8354 - val_loss: 22.2561\n",
      "Epoch 40/50\n",
      "3/3 [==============================] - 0s 14ms/step - loss: 13.7811 - val_loss: 22.3579\n",
      "Epoch 41/50\n",
      "3/3 [==============================] - 0s 13ms/step - loss: 13.7261 - val_loss: 22.1373\n",
      "Epoch 42/50\n",
      "3/3 [==============================] - 0s 14ms/step - loss: 13.6721 - val_loss: 22.0228\n",
      "Epoch 43/50\n",
      "3/3 [==============================] - 0s 18ms/step - loss: 13.6224 - val_loss: 21.9223\n",
      "Epoch 44/50\n",
      "3/3 [==============================] - 0s 15ms/step - loss: 13.5707 - val_loss: 21.9453\n",
      "Epoch 45/50\n",
      "3/3 [==============================] - 0s 21ms/step - loss: 13.5275 - val_loss: 21.6597\n",
      "Epoch 46/50\n",
      "3/3 [==============================] - 0s 53ms/step - loss: 13.4822 - val_loss: 21.6389\n",
      "Epoch 47/50\n",
      "3/3 [==============================] - 0s 16ms/step - loss: 13.4367 - val_loss: 21.5687\n",
      "Epoch 48/50\n",
      "3/3 [==============================] - 0s 14ms/step - loss: 13.3955 - val_loss: 21.4810\n",
      "Epoch 49/50\n",
      "3/3 [==============================] - 0s 14ms/step - loss: 13.3594 - val_loss: 21.1890\n",
      "Epoch 50/50\n",
      "3/3 [==============================] - 0s 14ms/step - loss: 13.3231 - val_loss: 21.1402\n"
     ]
    },
    {
     "name": "stderr",
     "output_type": "stream",
     "text": [
      "C:\\Users\\Baejs\\anaconda3\\envs\\bae\\lib\\site-packages\\keras\\src\\engine\\training.py:3000: UserWarning: You are saving your model as an HDF5 file via `model.save()`. This file format is considered legacy. We recommend using instead the native Keras format, e.g. `model.save('my_model.keras')`.\n",
      "  saving_api.save_model(\n"
     ]
    },
    {
     "name": "stdout",
     "output_type": "stream",
     "text": [
      "============== EVALUATION ==============\n"
     ]
    },
    {
     "name": "stderr",
     "output_type": "stream",
     "text": [
      "  0%|                                                                                           | 0/10 [00:00<?, ?it/s]"
     ]
    },
    {
     "name": "stdout",
     "output_type": "stream",
     "text": [
      "10/10 [==============================] - 0s 1ms/step\n"
     ]
    },
    {
     "name": "stderr",
     "output_type": "stream",
     "text": [
      " 10%|████████▎                                                                          | 1/10 [00:00<00:01,  8.32it/s]"
     ]
    },
    {
     "name": "stdout",
     "output_type": "stream",
     "text": [
      "10/10 [==============================] - 0s 997us/step\n",
      "10/10 [==============================] - 0s 1ms/step\n"
     ]
    },
    {
     "name": "stderr",
     "output_type": "stream",
     "text": [
      " 30%|████████████████████████▉                                                          | 3/10 [00:00<00:00, 10.64it/s]"
     ]
    },
    {
     "name": "stdout",
     "output_type": "stream",
     "text": [
      "10/10 [==============================] - 0s 1ms/step\n",
      "10/10 [==============================] - 0s 1ms/step\n"
     ]
    },
    {
     "name": "stderr",
     "output_type": "stream",
     "text": [
      " 50%|█████████████████████████████████████████▌                                         | 5/10 [00:00<00:00, 11.40it/s]"
     ]
    },
    {
     "name": "stdout",
     "output_type": "stream",
     "text": [
      "10/10 [==============================] - 0s 997us/step\n",
      "10/10 [==============================] - 0s 997us/step\n"
     ]
    },
    {
     "name": "stderr",
     "output_type": "stream",
     "text": [
      " 70%|██████████████████████████████████████████████████████████                         | 7/10 [00:00<00:00, 12.36it/s]"
     ]
    },
    {
     "name": "stdout",
     "output_type": "stream",
     "text": [
      "10/10 [==============================] - 0s 1ms/step\n",
      "10/10 [==============================] - 0s 883us/step\n"
     ]
    },
    {
     "name": "stderr",
     "output_type": "stream",
     "text": [
      " 90%|██████████████████████████████████████████████████████████████████████████▋        | 9/10 [00:00<00:00, 13.07it/s]"
     ]
    },
    {
     "name": "stdout",
     "output_type": "stream",
     "text": [
      "10/10 [==============================] - 0s 1ms/step\n"
     ]
    },
    {
     "name": "stderr",
     "output_type": "stream",
     "text": [
      "100%|██████████████████████████████████████████████████████████████████████████████████| 10/10 [00:00<00:00, 12.38it/s]\n",
      "2023-08-26 00:59:37,637 - INFO - AUC : 0.52\n",
      "2023-08-26 00:59:37,638 - INFO - target_dir : ../Sample_data\n",
      "2023-08-26 00:59:37,639 - INFO - train_file num : 5\n",
      "2023-08-26 00:59:37,641 - INFO - eval_file  num : 10\n"
     ]
    },
    {
     "name": "stdout",
     "output_type": "stream",
     "text": [
      "===========================\n",
      "\n",
      "===========================\n"
     ]
    },
    {
     "name": "stderr",
     "output_type": "stream",
     "text": [
      "generate train_dataset: 100%|████████████████████████████████████████████████████████████| 5/5 [00:00<00:00, 79.58it/s]\n",
      "2023-08-26 00:59:37,709 - INFO - save_pickle -> ./pickle_transfer_pretrain_v2/train_valve_id_02.pickle\n",
      "2023-08-26 00:59:37,713 - INFO - save_pickle -> ./pickle_transfer_pretrain_v2/eval_files_valve_id_02.pickle\n",
      "2023-08-26 00:59:37,715 - INFO - save_pickle -> ./pickle_transfer_pretrain_v2/eval_labels_valve_id_02.pickle\n",
      "2023-08-26 00:59:37,717 - INFO - save_pickle -> ./pickle_transfer_pretrain_v2/train_labels_valve_id_02.pickle\n"
     ]
    },
    {
     "name": "stdout",
     "output_type": "stream",
     "text": [
      "Epoch 1/50\n",
      "3/3 [==============================] - 1s 109ms/step - loss: 20.1965 - val_loss: 19.8150\n",
      "Epoch 2/50\n",
      "3/3 [==============================] - 0s 15ms/step - loss: 21.7382 - val_loss: 14.5709\n",
      "Epoch 3/50\n",
      "3/3 [==============================] - 0s 15ms/step - loss: 13.5922 - val_loss: 17.7013\n",
      "Epoch 4/50\n",
      "3/3 [==============================] - 0s 15ms/step - loss: 14.0754 - val_loss: 14.3522\n",
      "Epoch 5/50\n",
      "3/3 [==============================] - 0s 13ms/step - loss: 12.7807 - val_loss: 14.7369\n",
      "Epoch 6/50\n",
      "3/3 [==============================] - 0s 13ms/step - loss: 11.8677 - val_loss: 13.7667\n",
      "Epoch 7/50\n",
      "3/3 [==============================] - 0s 13ms/step - loss: 11.5784 - val_loss: 13.9295\n",
      "Epoch 8/50\n",
      "3/3 [==============================] - 0s 13ms/step - loss: 10.8795 - val_loss: 13.6627\n",
      "Epoch 9/50\n",
      "3/3 [==============================] - 0s 15ms/step - loss: 11.0132 - val_loss: 13.3342\n",
      "Epoch 10/50\n",
      "3/3 [==============================] - 0s 14ms/step - loss: 10.4184 - val_loss: 12.8817\n",
      "Epoch 11/50\n",
      "3/3 [==============================] - 0s 13ms/step - loss: 10.5846 - val_loss: 12.6896\n",
      "Epoch 12/50\n",
      "3/3 [==============================] - 0s 13ms/step - loss: 10.2107 - val_loss: 12.5666\n",
      "Epoch 13/50\n",
      "3/3 [==============================] - 0s 13ms/step - loss: 10.3299 - val_loss: 12.4369\n",
      "Epoch 14/50\n",
      "3/3 [==============================] - 0s 14ms/step - loss: 10.0848 - val_loss: 12.3307\n",
      "Epoch 15/50\n",
      "3/3 [==============================] - 0s 14ms/step - loss: 10.1521 - val_loss: 12.1285\n",
      "Epoch 16/50\n",
      "3/3 [==============================] - 0s 15ms/step - loss: 10.0045 - val_loss: 12.0989\n",
      "Epoch 17/50\n",
      "3/3 [==============================] - 0s 14ms/step - loss: 10.0201 - val_loss: 11.8520\n",
      "Epoch 18/50\n",
      "3/3 [==============================] - 0s 14ms/step - loss: 9.9566 - val_loss: 11.5803\n",
      "Epoch 19/50\n",
      "3/3 [==============================] - 0s 13ms/step - loss: 9.9275 - val_loss: 11.4437\n",
      "Epoch 20/50\n",
      "3/3 [==============================] - 0s 14ms/step - loss: 9.9020 - val_loss: 11.3507\n",
      "Epoch 21/50\n",
      "3/3 [==============================] - 0s 16ms/step - loss: 9.8661 - val_loss: 11.3060\n",
      "Epoch 22/50\n",
      "3/3 [==============================] - 0s 14ms/step - loss: 9.8476 - val_loss: 11.1186\n",
      "Epoch 23/50\n",
      "3/3 [==============================] - 0s 13ms/step - loss: 9.8235 - val_loss: 10.9526\n",
      "Epoch 24/50\n",
      "3/3 [==============================] - 0s 13ms/step - loss: 9.7977 - val_loss: 10.8239\n",
      "Epoch 25/50\n",
      "3/3 [==============================] - 0s 14ms/step - loss: 9.7785 - val_loss: 10.6724\n",
      "Epoch 26/50\n",
      "3/3 [==============================] - 0s 13ms/step - loss: 9.7547 - val_loss: 10.5431\n",
      "Epoch 27/50\n",
      "3/3 [==============================] - 0s 13ms/step - loss: 9.7341 - val_loss: 10.4421\n",
      "Epoch 28/50\n",
      "3/3 [==============================] - 0s 13ms/step - loss: 9.7162 - val_loss: 10.3228\n",
      "Epoch 29/50\n",
      "3/3 [==============================] - 0s 13ms/step - loss: 9.6973 - val_loss: 10.1901\n",
      "Epoch 30/50\n",
      "3/3 [==============================] - 0s 14ms/step - loss: 9.6791 - val_loss: 10.1105\n",
      "Epoch 31/50\n",
      "3/3 [==============================] - 0s 14ms/step - loss: 9.6644 - val_loss: 9.9919\n",
      "Epoch 32/50\n",
      "3/3 [==============================] - 0s 15ms/step - loss: 9.6465 - val_loss: 9.9281\n",
      "Epoch 33/50\n",
      "3/3 [==============================] - 0s 14ms/step - loss: 9.6299 - val_loss: 9.8091\n",
      "Epoch 34/50\n",
      "3/3 [==============================] - 0s 24ms/step - loss: 9.6147 - val_loss: 9.7287\n",
      "Epoch 35/50\n",
      "3/3 [==============================] - 0s 16ms/step - loss: 9.5997 - val_loss: 9.6305\n",
      "Epoch 36/50\n",
      "3/3 [==============================] - 0s 20ms/step - loss: 9.5828 - val_loss: 9.5470\n",
      "Epoch 37/50\n",
      "3/3 [==============================] - 0s 21ms/step - loss: 9.5664 - val_loss: 9.4722\n",
      "Epoch 38/50\n",
      "3/3 [==============================] - 0s 22ms/step - loss: 9.5524 - val_loss: 9.4055\n",
      "Epoch 39/50\n",
      "3/3 [==============================] - 0s 16ms/step - loss: 9.5397 - val_loss: 9.3422\n",
      "Epoch 40/50\n",
      "3/3 [==============================] - 0s 13ms/step - loss: 9.5252 - val_loss: 9.2692\n",
      "Epoch 41/50\n",
      "3/3 [==============================] - 0s 13ms/step - loss: 9.5115 - val_loss: 9.1754\n",
      "Epoch 42/50\n",
      "3/3 [==============================] - 0s 13ms/step - loss: 9.4983 - val_loss: 9.1344\n",
      "Epoch 43/50\n",
      "3/3 [==============================] - 0s 13ms/step - loss: 9.4884 - val_loss: 9.0823\n",
      "Epoch 44/50\n",
      "3/3 [==============================] - 0s 13ms/step - loss: 9.4731 - val_loss: 9.0391\n",
      "Epoch 45/50\n",
      "3/3 [==============================] - 0s 14ms/step - loss: 9.4620 - val_loss: 8.9596\n",
      "Epoch 46/50\n",
      "3/3 [==============================] - 0s 14ms/step - loss: 9.4496 - val_loss: 8.9096\n",
      "Epoch 47/50\n",
      "3/3 [==============================] - 0s 14ms/step - loss: 9.4377 - val_loss: 8.8505\n",
      "Epoch 48/50\n",
      "3/3 [==============================] - 0s 15ms/step - loss: 9.4276 - val_loss: 8.8193\n",
      "Epoch 49/50\n",
      "3/3 [==============================] - 0s 14ms/step - loss: 9.4143 - val_loss: 8.8087\n",
      "Epoch 50/50\n",
      "3/3 [==============================] - 0s 13ms/step - loss: 9.4040 - val_loss: 8.7323\n",
      "============== EVALUATION ==============\n"
     ]
    },
    {
     "name": "stderr",
     "output_type": "stream",
     "text": [
      "C:\\Users\\Baejs\\anaconda3\\envs\\bae\\lib\\site-packages\\keras\\src\\engine\\training.py:3000: UserWarning: You are saving your model as an HDF5 file via `model.save()`. This file format is considered legacy. We recommend using instead the native Keras format, e.g. `model.save('my_model.keras')`.\n",
      "  saving_api.save_model(\n",
      "  0%|                                                                                           | 0/10 [00:00<?, ?it/s]"
     ]
    },
    {
     "name": "stdout",
     "output_type": "stream",
     "text": [
      "10/10 [==============================] - 0s 1ms/step\n"
     ]
    },
    {
     "name": "stderr",
     "output_type": "stream",
     "text": [
      " 10%|████████▎                                                                          | 1/10 [00:00<00:01,  8.91it/s]"
     ]
    },
    {
     "name": "stdout",
     "output_type": "stream",
     "text": [
      "10/10 [==============================] - 0s 1ms/step\n",
      "10/10 [==============================] - 0s 1ms/step\n"
     ]
    },
    {
     "name": "stderr",
     "output_type": "stream",
     "text": [
      " 30%|████████████████████████▉                                                          | 3/10 [00:00<00:00, 11.94it/s]"
     ]
    },
    {
     "name": "stdout",
     "output_type": "stream",
     "text": [
      "10/10 [==============================] - 0s 1ms/step\n",
      "10/10 [==============================] - 0s 1ms/step\n"
     ]
    },
    {
     "name": "stderr",
     "output_type": "stream",
     "text": [
      " 50%|█████████████████████████████████████████▌                                         | 5/10 [00:00<00:00, 12.92it/s]"
     ]
    },
    {
     "name": "stdout",
     "output_type": "stream",
     "text": [
      "10/10 [==============================] - 0s 1ms/step\n",
      "10/10 [==============================] - 0s 1ms/step\n"
     ]
    },
    {
     "name": "stderr",
     "output_type": "stream",
     "text": [
      " 70%|██████████████████████████████████████████████████████████                         | 7/10 [00:00<00:00, 13.40it/s]"
     ]
    },
    {
     "name": "stdout",
     "output_type": "stream",
     "text": [
      "10/10 [==============================] - 0s 1ms/step\n",
      "10/10 [==============================] - 0s 997us/step\n"
     ]
    },
    {
     "name": "stderr",
     "output_type": "stream",
     "text": [
      " 90%|██████████████████████████████████████████████████████████████████████████▋        | 9/10 [00:00<00:00, 13.64it/s]"
     ]
    },
    {
     "name": "stdout",
     "output_type": "stream",
     "text": [
      "10/10 [==============================] - 0s 1ms/step\n"
     ]
    },
    {
     "name": "stderr",
     "output_type": "stream",
     "text": [
      "100%|██████████████████████████████████████████████████████████████████████████████████| 10/10 [00:00<00:00, 13.25it/s]\n",
      "2023-08-26 00:59:41,678 - INFO - AUC : 0.15999999999999998\n",
      "2023-08-26 00:59:41,679 - INFO - target_dir : ../Sample_data\n",
      "2023-08-26 00:59:41,680 - INFO - train_file num : 5\n",
      "2023-08-26 00:59:41,681 - INFO - eval_file  num : 10\n"
     ]
    },
    {
     "name": "stdout",
     "output_type": "stream",
     "text": [
      "===========================\n",
      "\n",
      "===========================\n"
     ]
    },
    {
     "name": "stderr",
     "output_type": "stream",
     "text": [
      "generate train_dataset: 100%|████████████████████████████████████████████████████████████| 5/5 [00:00<00:00, 86.39it/s]\n",
      "2023-08-26 00:59:41,743 - INFO - save_pickle -> ./pickle_transfer_pretrain_v2/train_valve_id_04.pickle\n",
      "2023-08-26 00:59:41,747 - INFO - save_pickle -> ./pickle_transfer_pretrain_v2/eval_files_valve_id_04.pickle\n",
      "2023-08-26 00:59:41,749 - INFO - save_pickle -> ./pickle_transfer_pretrain_v2/eval_labels_valve_id_04.pickle\n",
      "2023-08-26 00:59:41,751 - INFO - save_pickle -> ./pickle_transfer_pretrain_v2/train_labels_valve_id_04.pickle\n"
     ]
    },
    {
     "name": "stdout",
     "output_type": "stream",
     "text": [
      "Epoch 1/50\n",
      "3/3 [==============================] - 1s 61ms/step - loss: 18.2020 - val_loss: 22.0462\n",
      "Epoch 2/50\n",
      "3/3 [==============================] - 0s 15ms/step - loss: 18.7159 - val_loss: 13.8415\n",
      "Epoch 3/50\n",
      "3/3 [==============================] - 0s 15ms/step - loss: 14.6106 - val_loss: 15.6210\n",
      "Epoch 4/50\n",
      "3/3 [==============================] - 0s 14ms/step - loss: 13.8721 - val_loss: 15.0072\n",
      "Epoch 5/50\n",
      "3/3 [==============================] - 0s 14ms/step - loss: 13.9429 - val_loss: 14.6487\n",
      "Epoch 6/50\n",
      "3/3 [==============================] - 0s 14ms/step - loss: 12.6922 - val_loss: 13.4739\n",
      "Epoch 7/50\n",
      "3/3 [==============================] - 0s 14ms/step - loss: 13.0815 - val_loss: 13.1862\n",
      "Epoch 8/50\n",
      "3/3 [==============================] - 0s 13ms/step - loss: 12.2900 - val_loss: 14.1452\n",
      "Epoch 9/50\n",
      "3/3 [==============================] - 0s 13ms/step - loss: 12.4962 - val_loss: 13.5776\n",
      "Epoch 10/50\n",
      "3/3 [==============================] - 0s 14ms/step - loss: 12.0478 - val_loss: 13.0930\n",
      "Epoch 11/50\n",
      "3/3 [==============================] - 0s 14ms/step - loss: 12.1256 - val_loss: 13.0642\n",
      "Epoch 12/50\n",
      "3/3 [==============================] - 0s 14ms/step - loss: 11.8286 - val_loss: 13.5690\n",
      "Epoch 13/50\n",
      "3/3 [==============================] - 0s 14ms/step - loss: 11.8479 - val_loss: 13.0937\n",
      "Epoch 14/50\n",
      "3/3 [==============================] - 0s 14ms/step - loss: 11.6931 - val_loss: 12.9568\n",
      "Epoch 15/50\n",
      "3/3 [==============================] - 0s 17ms/step - loss: 11.6322 - val_loss: 13.2680\n",
      "Epoch 16/50\n",
      "3/3 [==============================] - 0s 14ms/step - loss: 11.5492 - val_loss: 13.2774\n",
      "Epoch 17/50\n",
      "3/3 [==============================] - 0s 13ms/step - loss: 11.4558 - val_loss: 12.9860\n",
      "Epoch 18/50\n",
      "3/3 [==============================] - 0s 13ms/step - loss: 11.4013 - val_loss: 13.1332\n",
      "Epoch 19/50\n",
      "3/3 [==============================] - 0s 14ms/step - loss: 11.3172 - val_loss: 13.2588\n",
      "Epoch 20/50\n",
      "3/3 [==============================] - 0s 13ms/step - loss: 11.2594 - val_loss: 13.1613\n",
      "Epoch 21/50\n",
      "3/3 [==============================] - 0s 14ms/step - loss: 11.1934 - val_loss: 13.2296\n",
      "Epoch 22/50\n",
      "3/3 [==============================] - 0s 13ms/step - loss: 11.1283 - val_loss: 13.3621\n",
      "Epoch 23/50\n",
      "3/3 [==============================] - 0s 14ms/step - loss: 11.0759 - val_loss: 13.2135\n",
      "Epoch 24/50\n",
      "3/3 [==============================] - 0s 17ms/step - loss: 11.0165 - val_loss: 13.2528\n",
      "Epoch 25/50\n",
      "3/3 [==============================] - 0s 16ms/step - loss: 10.9640 - val_loss: 13.3785\n",
      "Epoch 26/50\n",
      "3/3 [==============================] - 0s 15ms/step - loss: 10.9102 - val_loss: 13.3072\n",
      "Epoch 27/50\n",
      "3/3 [==============================] - 0s 15ms/step - loss: 10.8629 - val_loss: 13.3480\n",
      "Epoch 28/50\n",
      "3/3 [==============================] - 0s 14ms/step - loss: 10.8141 - val_loss: 13.3491\n",
      "Epoch 29/50\n",
      "3/3 [==============================] - 0s 17ms/step - loss: 10.7694 - val_loss: 13.3327\n",
      "Epoch 30/50\n",
      "3/3 [==============================] - 0s 19ms/step - loss: 10.7264 - val_loss: 13.3936\n",
      "Epoch 31/50\n",
      "3/3 [==============================] - 0s 14ms/step - loss: 10.6865 - val_loss: 13.3983\n",
      "Epoch 32/50\n",
      "3/3 [==============================] - 0s 16ms/step - loss: 10.6459 - val_loss: 13.3550\n",
      "Epoch 33/50\n",
      "3/3 [==============================] - 0s 14ms/step - loss: 10.6134 - val_loss: 13.3777\n",
      "Epoch 34/50\n",
      "3/3 [==============================] - 0s 13ms/step - loss: 10.5795 - val_loss: 13.3144\n",
      "Epoch 35/50\n",
      "3/3 [==============================] - 0s 14ms/step - loss: 10.5473 - val_loss: 13.3161\n",
      "Epoch 36/50\n",
      "3/3 [==============================] - 0s 14ms/step - loss: 10.5197 - val_loss: 13.4089\n",
      "Epoch 37/50\n",
      "3/3 [==============================] - 0s 15ms/step - loss: 10.4910 - val_loss: 13.4246\n",
      "Epoch 38/50\n",
      "3/3 [==============================] - 0s 15ms/step - loss: 10.4632 - val_loss: 13.3321\n",
      "Epoch 39/50\n",
      "3/3 [==============================] - 0s 14ms/step - loss: 10.4400 - val_loss: 13.4098\n",
      "Epoch 40/50\n",
      "3/3 [==============================] - 0s 14ms/step - loss: 10.4180 - val_loss: 13.3751\n",
      "Epoch 41/50\n",
      "3/3 [==============================] - 0s 15ms/step - loss: 10.3948 - val_loss: 13.3454\n",
      "Epoch 42/50\n",
      "3/3 [==============================] - 0s 15ms/step - loss: 10.3731 - val_loss: 13.3375\n",
      "Epoch 43/50\n",
      "3/3 [==============================] - 0s 15ms/step - loss: 10.3589 - val_loss: 13.3649\n",
      "Epoch 44/50\n",
      "3/3 [==============================] - 0s 14ms/step - loss: 10.3421 - val_loss: 13.3756\n",
      "Epoch 45/50\n",
      "3/3 [==============================] - 0s 14ms/step - loss: 10.3221 - val_loss: 13.3151\n",
      "Epoch 46/50\n",
      "3/3 [==============================] - 0s 15ms/step - loss: 10.3069 - val_loss: 13.3321\n",
      "Epoch 47/50\n",
      "3/3 [==============================] - 0s 14ms/step - loss: 10.2925 - val_loss: 13.2785\n",
      "Epoch 48/50\n",
      "3/3 [==============================] - 0s 14ms/step - loss: 10.2777 - val_loss: 13.3511\n",
      "Epoch 49/50\n",
      "3/3 [==============================] - 0s 14ms/step - loss: 10.2684 - val_loss: 13.3993\n",
      "Epoch 50/50\n",
      "3/3 [==============================] - 0s 14ms/step - loss: 10.2559 - val_loss: 13.3709\n",
      "============== EVALUATION ==============\n"
     ]
    },
    {
     "name": "stderr",
     "output_type": "stream",
     "text": [
      "C:\\Users\\Baejs\\anaconda3\\envs\\bae\\lib\\site-packages\\keras\\src\\engine\\training.py:3000: UserWarning: You are saving your model as an HDF5 file via `model.save()`. This file format is considered legacy. We recommend using instead the native Keras format, e.g. `model.save('my_model.keras')`.\n",
      "  saving_api.save_model(\n",
      "  0%|                                                                                           | 0/10 [00:00<?, ?it/s]"
     ]
    },
    {
     "name": "stdout",
     "output_type": "stream",
     "text": [
      "10/10 [==============================] - 0s 965us/step\n"
     ]
    },
    {
     "name": "stderr",
     "output_type": "stream",
     "text": [
      " 10%|████████▎                                                                          | 1/10 [00:00<00:00,  9.24it/s]"
     ]
    },
    {
     "name": "stdout",
     "output_type": "stream",
     "text": [
      "10/10 [==============================] - 0s 1ms/step\n",
      "10/10 [==============================] - 0s 1ms/step\n"
     ]
    },
    {
     "name": "stderr",
     "output_type": "stream",
     "text": [
      " 30%|████████████████████████▉                                                          | 3/10 [00:00<00:00, 12.71it/s]"
     ]
    },
    {
     "name": "stdout",
     "output_type": "stream",
     "text": [
      "10/10 [==============================] - 0s 1ms/step\n",
      "10/10 [==============================] - 0s 1ms/step\n"
     ]
    },
    {
     "name": "stderr",
     "output_type": "stream",
     "text": [
      " 50%|█████████████████████████████████████████▌                                         | 5/10 [00:00<00:00, 13.10it/s]"
     ]
    },
    {
     "name": "stdout",
     "output_type": "stream",
     "text": [
      "10/10 [==============================] - 0s 1ms/step\n",
      "10/10 [==============================] - 0s 1ms/step\n"
     ]
    },
    {
     "name": "stderr",
     "output_type": "stream",
     "text": [
      " 70%|██████████████████████████████████████████████████████████                         | 7/10 [00:00<00:00, 13.26it/s]"
     ]
    },
    {
     "name": "stdout",
     "output_type": "stream",
     "text": [
      "10/10 [==============================] - 0s 1ms/step\n",
      "10/10 [==============================] - 0s 1ms/step\n"
     ]
    },
    {
     "name": "stderr",
     "output_type": "stream",
     "text": [
      " 90%|██████████████████████████████████████████████████████████████████████████▋        | 9/10 [00:00<00:00, 13.68it/s]"
     ]
    },
    {
     "name": "stdout",
     "output_type": "stream",
     "text": [
      "10/10 [==============================] - 0s 1ms/step\n"
     ]
    },
    {
     "name": "stderr",
     "output_type": "stream",
     "text": [
      "100%|██████████████████████████████████████████████████████████████████████████████████| 10/10 [00:00<00:00, 13.31it/s]\n",
      "2023-08-26 00:59:45,352 - INFO - AUC : 0.48\n",
      "2023-08-26 00:59:45,353 - INFO - target_dir : ../Sample_data\n",
      "2023-08-26 00:59:45,354 - INFO - train_file num : 5\n",
      "2023-08-26 00:59:45,355 - INFO - eval_file  num : 10\n"
     ]
    },
    {
     "name": "stdout",
     "output_type": "stream",
     "text": [
      "===========================\n",
      "\n",
      "===========================\n"
     ]
    },
    {
     "name": "stderr",
     "output_type": "stream",
     "text": [
      "generate train_dataset: 100%|████████████████████████████████████████████████████████████| 5/5 [00:00<00:00, 75.96it/s]\n",
      "2023-08-26 00:59:45,424 - INFO - save_pickle -> ./pickle_transfer_pretrain_v2/train_valve_id_06.pickle\n",
      "2023-08-26 00:59:45,429 - INFO - save_pickle -> ./pickle_transfer_pretrain_v2/eval_files_valve_id_06.pickle\n",
      "2023-08-26 00:59:45,432 - INFO - save_pickle -> ./pickle_transfer_pretrain_v2/eval_labels_valve_id_06.pickle\n",
      "2023-08-26 00:59:45,434 - INFO - save_pickle -> ./pickle_transfer_pretrain_v2/train_labels_valve_id_06.pickle\n"
     ]
    },
    {
     "name": "stdout",
     "output_type": "stream",
     "text": [
      "Epoch 1/50\n",
      "3/3 [==============================] - 1s 58ms/step - loss: 24.1117 - val_loss: 31.8689\n",
      "Epoch 2/50\n",
      "3/3 [==============================] - 0s 15ms/step - loss: 23.5030 - val_loss: 24.2440\n",
      "Epoch 3/50\n",
      "3/3 [==============================] - 0s 14ms/step - loss: 17.0688 - val_loss: 29.9789\n",
      "Epoch 4/50\n",
      "3/3 [==============================] - 0s 13ms/step - loss: 16.6292 - val_loss: 26.2878\n",
      "Epoch 5/50\n",
      "3/3 [==============================] - 0s 12ms/step - loss: 15.6822 - val_loss: 26.5540\n",
      "Epoch 6/50\n",
      "3/3 [==============================] - 0s 13ms/step - loss: 15.4786 - val_loss: 22.9615\n",
      "Epoch 7/50\n",
      "3/3 [==============================] - 0s 13ms/step - loss: 14.5516 - val_loss: 21.3026\n",
      "Epoch 8/50\n",
      "3/3 [==============================] - 0s 13ms/step - loss: 14.5309 - val_loss: 21.4824\n",
      "Epoch 9/50\n",
      "3/3 [==============================] - 0s 13ms/step - loss: 14.2820 - val_loss: 20.9179\n",
      "Epoch 10/50\n",
      "3/3 [==============================] - 0s 14ms/step - loss: 13.8826 - val_loss: 21.2201\n",
      "Epoch 11/50\n",
      "3/3 [==============================] - 0s 13ms/step - loss: 13.6581 - val_loss: 21.1876\n",
      "Epoch 12/50\n",
      "3/3 [==============================] - 0s 13ms/step - loss: 13.3976 - val_loss: 21.2951\n",
      "Epoch 13/50\n",
      "3/3 [==============================] - 0s 14ms/step - loss: 13.3356 - val_loss: 21.5928\n",
      "Epoch 14/50\n",
      "3/3 [==============================] - 0s 13ms/step - loss: 13.2012 - val_loss: 21.7200\n",
      "Epoch 15/50\n",
      "3/3 [==============================] - 0s 14ms/step - loss: 13.0877 - val_loss: 21.4959\n",
      "Epoch 16/50\n",
      "3/3 [==============================] - 0s 14ms/step - loss: 13.0241 - val_loss: 21.3274\n",
      "Epoch 17/50\n",
      "3/3 [==============================] - 0s 13ms/step - loss: 12.9214 - val_loss: 21.2290\n",
      "Epoch 18/50\n",
      "3/3 [==============================] - 0s 13ms/step - loss: 12.8184 - val_loss: 20.9497\n",
      "Epoch 19/50\n",
      "3/3 [==============================] - 0s 13ms/step - loss: 12.7328 - val_loss: 20.7478\n",
      "Epoch 20/50\n",
      "3/3 [==============================] - 0s 13ms/step - loss: 12.6499 - val_loss: 20.9021\n",
      "Epoch 21/50\n",
      "3/3 [==============================] - 0s 13ms/step - loss: 12.5568 - val_loss: 21.0364\n",
      "Epoch 22/50\n",
      "3/3 [==============================] - 0s 14ms/step - loss: 12.4728 - val_loss: 20.9455\n",
      "Epoch 23/50\n",
      "3/3 [==============================] - 0s 14ms/step - loss: 12.3933 - val_loss: 20.7313\n",
      "Epoch 24/50\n",
      "3/3 [==============================] - 0s 13ms/step - loss: 12.3088 - val_loss: 20.6462\n",
      "Epoch 25/50\n",
      "3/3 [==============================] - 0s 13ms/step - loss: 12.2303 - val_loss: 20.6172\n",
      "Epoch 26/50\n",
      "3/3 [==============================] - 0s 13ms/step - loss: 12.1560 - val_loss: 20.5415\n",
      "Epoch 27/50\n",
      "3/3 [==============================] - 0s 14ms/step - loss: 12.0777 - val_loss: 20.2721\n",
      "Epoch 28/50\n",
      "3/3 [==============================] - 0s 14ms/step - loss: 12.0086 - val_loss: 20.0714\n",
      "Epoch 29/50\n",
      "3/3 [==============================] - 0s 14ms/step - loss: 11.9383 - val_loss: 19.9907\n",
      "Epoch 30/50\n",
      "3/3 [==============================] - 0s 13ms/step - loss: 11.8745 - val_loss: 20.1259\n",
      "Epoch 31/50\n",
      "3/3 [==============================] - 0s 14ms/step - loss: 11.8116 - val_loss: 20.1171\n",
      "Epoch 32/50\n",
      "3/3 [==============================] - 0s 13ms/step - loss: 11.7512 - val_loss: 19.8381\n",
      "Epoch 33/50\n",
      "3/3 [==============================] - 0s 13ms/step - loss: 11.6925 - val_loss: 19.7298\n",
      "Epoch 34/50\n",
      "3/3 [==============================] - 0s 13ms/step - loss: 11.6368 - val_loss: 19.6028\n",
      "Epoch 35/50\n",
      "3/3 [==============================] - 0s 13ms/step - loss: 11.5839 - val_loss: 19.5179\n",
      "Epoch 36/50\n",
      "3/3 [==============================] - 0s 13ms/step - loss: 11.5327 - val_loss: 19.3452\n",
      "Epoch 37/50\n",
      "3/3 [==============================] - 0s 14ms/step - loss: 11.4812 - val_loss: 19.2353\n",
      "Epoch 38/50\n",
      "3/3 [==============================] - 0s 13ms/step - loss: 11.4357 - val_loss: 19.1324\n",
      "Epoch 39/50\n",
      "3/3 [==============================] - 0s 13ms/step - loss: 11.3909 - val_loss: 18.9354\n",
      "Epoch 40/50\n",
      "3/3 [==============================] - 0s 14ms/step - loss: 11.3471 - val_loss: 19.1280\n",
      "Epoch 41/50\n",
      "3/3 [==============================] - 0s 14ms/step - loss: 11.3036 - val_loss: 18.7552\n",
      "Epoch 42/50\n",
      "3/3 [==============================] - 0s 13ms/step - loss: 11.2605 - val_loss: 18.5803\n",
      "Epoch 43/50\n",
      "3/3 [==============================] - 0s 13ms/step - loss: 11.2239 - val_loss: 18.4356\n",
      "Epoch 44/50\n",
      "3/3 [==============================] - 0s 12ms/step - loss: 11.1806 - val_loss: 18.5404\n",
      "Epoch 45/50\n",
      "3/3 [==============================] - 0s 13ms/step - loss: 11.1439 - val_loss: 18.3642\n",
      "Epoch 46/50\n",
      "3/3 [==============================] - 0s 14ms/step - loss: 11.1049 - val_loss: 18.1998\n",
      "Epoch 47/50\n",
      "3/3 [==============================] - 0s 13ms/step - loss: 11.0684 - val_loss: 18.1270\n",
      "Epoch 48/50\n",
      "3/3 [==============================] - 0s 13ms/step - loss: 11.0317 - val_loss: 17.9123\n",
      "Epoch 49/50\n",
      "3/3 [==============================] - 0s 14ms/step - loss: 11.0010 - val_loss: 17.7023\n",
      "Epoch 50/50\n",
      "3/3 [==============================] - 0s 13ms/step - loss: 10.9616 - val_loss: 17.5117\n"
     ]
    },
    {
     "name": "stderr",
     "output_type": "stream",
     "text": [
      "C:\\Users\\Baejs\\anaconda3\\envs\\bae\\lib\\site-packages\\keras\\src\\engine\\training.py:3000: UserWarning: You are saving your model as an HDF5 file via `model.save()`. This file format is considered legacy. We recommend using instead the native Keras format, e.g. `model.save('my_model.keras')`.\n",
      "  saving_api.save_model(\n"
     ]
    },
    {
     "name": "stdout",
     "output_type": "stream",
     "text": [
      "============== EVALUATION ==============\n"
     ]
    },
    {
     "name": "stderr",
     "output_type": "stream",
     "text": [
      "  0%|                                                                                           | 0/10 [00:00<?, ?it/s]"
     ]
    },
    {
     "name": "stdout",
     "output_type": "stream",
     "text": [
      "10/10 [==============================] - 0s 997us/step\n"
     ]
    },
    {
     "name": "stderr",
     "output_type": "stream",
     "text": [
      " 10%|████████▎                                                                          | 1/10 [00:00<00:00,  9.63it/s]"
     ]
    },
    {
     "name": "stdout",
     "output_type": "stream",
     "text": [
      "10/10 [==============================] - 0s 1ms/step\n",
      "10/10 [==============================] - 0s 996us/step\n"
     ]
    },
    {
     "name": "stderr",
     "output_type": "stream",
     "text": [
      " 30%|████████████████████████▉                                                          | 3/10 [00:00<00:00, 13.06it/s]"
     ]
    },
    {
     "name": "stdout",
     "output_type": "stream",
     "text": [
      "10/10 [==============================] - 0s 1ms/step\n",
      "10/10 [==============================] - 0s 1ms/step\n"
     ]
    },
    {
     "name": "stderr",
     "output_type": "stream",
     "text": [
      " 50%|█████████████████████████████████████████▌                                         | 5/10 [00:00<00:00, 12.70it/s]"
     ]
    },
    {
     "name": "stdout",
     "output_type": "stream",
     "text": [
      "10/10 [==============================] - 0s 997us/step\n",
      "10/10 [==============================] - 0s 997us/step\n"
     ]
    },
    {
     "name": "stderr",
     "output_type": "stream",
     "text": [
      " 70%|██████████████████████████████████████████████████████████                         | 7/10 [00:00<00:00, 12.56it/s]"
     ]
    },
    {
     "name": "stdout",
     "output_type": "stream",
     "text": [
      "10/10 [==============================] - 0s 947us/step\n",
      "10/10 [==============================] - 0s 1ms/step\n"
     ]
    },
    {
     "name": "stderr",
     "output_type": "stream",
     "text": [
      " 90%|██████████████████████████████████████████████████████████████████████████▋        | 9/10 [00:00<00:00, 13.12it/s]"
     ]
    },
    {
     "name": "stdout",
     "output_type": "stream",
     "text": [
      "10/10 [==============================] - 0s 1ms/step\n"
     ]
    },
    {
     "name": "stderr",
     "output_type": "stream",
     "text": [
      "100%|██████████████████████████████████████████████████████████████████████████████████| 10/10 [00:00<00:00, 12.96it/s]\n",
      "2023-08-26 00:59:48,806 - INFO - AUC : 0.24\n",
      "2023-08-26 00:59:48,807 - INFO - all results -> ./result_transfer_pretrain_v2/result_transfer_pretrain_v2.yaml\n",
      "2023-08-26 00:59:48,810 - INFO - target_dir : ../Sample_data\n",
      "2023-08-26 00:59:48,811 - INFO - train_file num : 5\n",
      "2023-08-26 00:59:48,812 - INFO - eval_file  num : 10\n"
     ]
    },
    {
     "name": "stdout",
     "output_type": "stream",
     "text": [
      "===========================\n",
      "===========================\n",
      "\n",
      "===========================\n"
     ]
    },
    {
     "name": "stderr",
     "output_type": "stream",
     "text": [
      "generate train_dataset: 100%|████████████████████████████████████████████████████████████| 5/5 [00:00<00:00, 66.82it/s]\n",
      "2023-08-26 00:59:48,891 - INFO - save_pickle -> ./pickle_transfer_pretrain_v2/train_slider_id_00.pickle\n",
      "2023-08-26 00:59:48,896 - INFO - save_pickle -> ./pickle_transfer_pretrain_v2/eval_files_slider_id_00.pickle\n",
      "2023-08-26 00:59:48,898 - INFO - save_pickle -> ./pickle_transfer_pretrain_v2/eval_labels_slider_id_00.pickle\n",
      "2023-08-26 00:59:48,900 - INFO - save_pickle -> ./pickle_transfer_pretrain_v2/train_labels_slider_id_00.pickle\n"
     ]
    },
    {
     "name": "stdout",
     "output_type": "stream",
     "text": [
      "Epoch 1/50\n",
      "3/3 [==============================] - 1s 69ms/step - loss: 16.5545 - val_loss: 12.2182\n",
      "Epoch 2/50\n",
      "3/3 [==============================] - 0s 14ms/step - loss: 16.3533 - val_loss: 8.7686\n",
      "Epoch 3/50\n",
      "3/3 [==============================] - 0s 13ms/step - loss: 12.2367 - val_loss: 10.8210\n",
      "Epoch 4/50\n",
      "3/3 [==============================] - 0s 13ms/step - loss: 12.7485 - val_loss: 7.4455\n",
      "Epoch 5/50\n",
      "3/3 [==============================] - 0s 13ms/step - loss: 10.8963 - val_loss: 6.8886\n",
      "Epoch 6/50\n",
      "3/3 [==============================] - 0s 59ms/step - loss: 11.0542 - val_loss: 6.4116\n",
      "Epoch 7/50\n",
      "3/3 [==============================] - 0s 39ms/step - loss: 10.0822 - val_loss: 7.5614\n",
      "Epoch 8/50\n",
      "3/3 [==============================] - 0s 16ms/step - loss: 10.0263 - val_loss: 6.2793\n",
      "Epoch 9/50\n",
      "3/3 [==============================] - 0s 14ms/step - loss: 9.5003 - val_loss: 6.1659\n",
      "Epoch 10/50\n",
      "3/3 [==============================] - 0s 14ms/step - loss: 9.2636 - val_loss: 6.5892\n",
      "Epoch 11/50\n",
      "3/3 [==============================] - 0s 23ms/step - loss: 9.0192 - val_loss: 6.4045\n",
      "Epoch 12/50\n",
      "3/3 [==============================] - 0s 15ms/step - loss: 8.7775 - val_loss: 6.1409\n",
      "Epoch 13/50\n",
      "3/3 [==============================] - 0s 13ms/step - loss: 8.6774 - val_loss: 6.0814\n",
      "Epoch 14/50\n",
      "3/3 [==============================] - 0s 14ms/step - loss: 8.5378 - val_loss: 6.0368\n",
      "Epoch 15/50\n",
      "3/3 [==============================] - 0s 15ms/step - loss: 8.3753 - val_loss: 5.8035\n",
      "Epoch 16/50\n",
      "3/3 [==============================] - 0s 16ms/step - loss: 8.2741 - val_loss: 5.9571\n",
      "Epoch 17/50\n",
      "3/3 [==============================] - 0s 14ms/step - loss: 8.1981 - val_loss: 5.6136\n",
      "Epoch 18/50\n",
      "3/3 [==============================] - 0s 14ms/step - loss: 8.1183 - val_loss: 5.6474\n",
      "Epoch 19/50\n",
      "3/3 [==============================] - 0s 14ms/step - loss: 8.0437 - val_loss: 5.6315\n",
      "Epoch 20/50\n",
      "3/3 [==============================] - 0s 14ms/step - loss: 7.9841 - val_loss: 5.6000\n",
      "Epoch 21/50\n",
      "3/3 [==============================] - 0s 14ms/step - loss: 7.9411 - val_loss: 5.6115\n",
      "Epoch 22/50\n",
      "3/3 [==============================] - 0s 13ms/step - loss: 7.8972 - val_loss: 5.5317\n",
      "Epoch 23/50\n",
      "3/3 [==============================] - 0s 14ms/step - loss: 7.8548 - val_loss: 5.4718\n",
      "Epoch 24/50\n",
      "3/3 [==============================] - 0s 13ms/step - loss: 7.8208 - val_loss: 5.4408\n",
      "Epoch 25/50\n",
      "3/3 [==============================] - 0s 14ms/step - loss: 7.7862 - val_loss: 5.4136\n",
      "Epoch 26/50\n",
      "3/3 [==============================] - 0s 14ms/step - loss: 7.7494 - val_loss: 5.4524\n",
      "Epoch 27/50\n",
      "3/3 [==============================] - 0s 14ms/step - loss: 7.7202 - val_loss: 5.3824\n",
      "Epoch 28/50\n",
      "3/3 [==============================] - 0s 13ms/step - loss: 7.6936 - val_loss: 5.4006\n",
      "Epoch 29/50\n",
      "3/3 [==============================] - 0s 14ms/step - loss: 7.6647 - val_loss: 5.3414\n",
      "Epoch 30/50\n",
      "3/3 [==============================] - 0s 14ms/step - loss: 7.6402 - val_loss: 5.3407\n",
      "Epoch 31/50\n",
      "3/3 [==============================] - 0s 45ms/step - loss: 7.6105 - val_loss: 5.3710\n",
      "Epoch 32/50\n",
      "3/3 [==============================] - 0s 17ms/step - loss: 7.5868 - val_loss: 5.3223\n",
      "Epoch 33/50\n",
      "3/3 [==============================] - 0s 17ms/step - loss: 7.5560 - val_loss: 5.2974\n",
      "Epoch 34/50\n",
      "3/3 [==============================] - 0s 18ms/step - loss: 7.5288 - val_loss: 5.3318\n",
      "Epoch 35/50\n",
      "3/3 [==============================] - 0s 20ms/step - loss: 7.4992 - val_loss: 5.2850\n",
      "Epoch 36/50\n",
      "3/3 [==============================] - 0s 13ms/step - loss: 7.4671 - val_loss: 5.2779\n",
      "Epoch 37/50\n",
      "3/3 [==============================] - 0s 16ms/step - loss: 7.4364 - val_loss: 5.2907\n",
      "Epoch 38/50\n",
      "3/3 [==============================] - 0s 17ms/step - loss: 7.4026 - val_loss: 5.2757\n",
      "Epoch 39/50\n",
      "3/3 [==============================] - 0s 13ms/step - loss: 7.3668 - val_loss: 5.2576\n",
      "Epoch 40/50\n",
      "3/3 [==============================] - 0s 12ms/step - loss: 7.3349 - val_loss: 5.2611\n",
      "Epoch 41/50\n",
      "3/3 [==============================] - 0s 14ms/step - loss: 7.2974 - val_loss: 5.2619\n",
      "Epoch 42/50\n",
      "3/3 [==============================] - 0s 14ms/step - loss: 7.2628 - val_loss: 5.2388\n",
      "Epoch 43/50\n",
      "3/3 [==============================] - 0s 13ms/step - loss: 7.2238 - val_loss: 5.2593\n",
      "Epoch 44/50\n",
      "3/3 [==============================] - 0s 13ms/step - loss: 7.1828 - val_loss: 5.2426\n",
      "Epoch 45/50\n",
      "3/3 [==============================] - 0s 14ms/step - loss: 7.1418 - val_loss: 5.2645\n",
      "Epoch 46/50\n",
      "3/3 [==============================] - 0s 14ms/step - loss: 7.1035 - val_loss: 5.2651\n",
      "Epoch 47/50\n",
      "3/3 [==============================] - 0s 14ms/step - loss: 7.0577 - val_loss: 5.2127\n",
      "Epoch 48/50\n",
      "3/3 [==============================] - 0s 14ms/step - loss: 7.0110 - val_loss: 5.2396\n",
      "Epoch 49/50\n",
      "3/3 [==============================] - 0s 13ms/step - loss: 6.9746 - val_loss: 5.2134\n",
      "Epoch 50/50\n",
      "3/3 [==============================] - 0s 14ms/step - loss: 6.9305 - val_loss: 5.2370\n",
      "============== EVALUATION ==============\n"
     ]
    },
    {
     "name": "stderr",
     "output_type": "stream",
     "text": [
      "C:\\Users\\Baejs\\anaconda3\\envs\\bae\\lib\\site-packages\\keras\\src\\engine\\training.py:3000: UserWarning: You are saving your model as an HDF5 file via `model.save()`. This file format is considered legacy. We recommend using instead the native Keras format, e.g. `model.save('my_model.keras')`.\n",
      "  saving_api.save_model(\n",
      "  0%|                                                                                           | 0/10 [00:00<?, ?it/s]"
     ]
    },
    {
     "name": "stdout",
     "output_type": "stream",
     "text": [
      "10/10 [==============================] - 0s 966us/step\n"
     ]
    },
    {
     "name": "stderr",
     "output_type": "stream",
     "text": [
      " 10%|████████▎                                                                          | 1/10 [00:00<00:00,  9.48it/s]"
     ]
    },
    {
     "name": "stdout",
     "output_type": "stream",
     "text": [
      "10/10 [==============================] - 0s 1ms/step\n",
      "10/10 [==============================] - 0s 1ms/step\n"
     ]
    },
    {
     "name": "stderr",
     "output_type": "stream",
     "text": [
      " 30%|████████████████████████▉                                                          | 3/10 [00:00<00:00, 12.91it/s]"
     ]
    },
    {
     "name": "stdout",
     "output_type": "stream",
     "text": [
      "10/10 [==============================] - 0s 1ms/step\n",
      "10/10 [==============================] - 0s 999us/step\n"
     ]
    },
    {
     "name": "stderr",
     "output_type": "stream",
     "text": [
      " 50%|█████████████████████████████████████████▌                                         | 5/10 [00:00<00:00, 13.59it/s]"
     ]
    },
    {
     "name": "stdout",
     "output_type": "stream",
     "text": [
      "10/10 [==============================] - 0s 1ms/step\n",
      "10/10 [==============================] - 0s 1ms/step\n"
     ]
    },
    {
     "name": "stderr",
     "output_type": "stream",
     "text": [
      " 70%|██████████████████████████████████████████████████████████                         | 7/10 [00:00<00:00, 14.05it/s]"
     ]
    },
    {
     "name": "stdout",
     "output_type": "stream",
     "text": [
      "10/10 [==============================] - 0s 1ms/step\n",
      "10/10 [==============================] - 0s 1ms/step\n"
     ]
    },
    {
     "name": "stderr",
     "output_type": "stream",
     "text": [
      " 90%|██████████████████████████████████████████████████████████████████████████▋        | 9/10 [00:00<00:00, 14.34it/s]"
     ]
    },
    {
     "name": "stdout",
     "output_type": "stream",
     "text": [
      "10/10 [==============================] - 0s 1ms/step\n"
     ]
    },
    {
     "name": "stderr",
     "output_type": "stream",
     "text": [
      "100%|██████████████████████████████████████████████████████████████████████████████████| 10/10 [00:00<00:00, 13.91it/s]\n",
      "2023-08-26 00:59:52,720 - INFO - AUC : 0.64\n",
      "2023-08-26 00:59:52,721 - INFO - target_dir : ../Sample_data\n",
      "2023-08-26 00:59:52,723 - INFO - train_file num : 5\n",
      "2023-08-26 00:59:52,723 - INFO - eval_file  num : 10\n"
     ]
    },
    {
     "name": "stdout",
     "output_type": "stream",
     "text": [
      "===========================\n",
      "\n",
      "===========================\n"
     ]
    },
    {
     "name": "stderr",
     "output_type": "stream",
     "text": [
      "generate train_dataset: 100%|████████████████████████████████████████████████████████████| 5/5 [00:00<00:00, 87.95it/s]\n",
      "2023-08-26 00:59:52,784 - INFO - save_pickle -> ./pickle_transfer_pretrain_v2/train_slider_id_02.pickle\n",
      "2023-08-26 00:59:52,788 - INFO - save_pickle -> ./pickle_transfer_pretrain_v2/eval_files_slider_id_02.pickle\n",
      "2023-08-26 00:59:52,790 - INFO - save_pickle -> ./pickle_transfer_pretrain_v2/eval_labels_slider_id_02.pickle\n",
      "2023-08-26 00:59:52,792 - INFO - save_pickle -> ./pickle_transfer_pretrain_v2/train_labels_slider_id_02.pickle\n"
     ]
    },
    {
     "name": "stdout",
     "output_type": "stream",
     "text": [
      "Epoch 1/50\n",
      "3/3 [==============================] - 1s 58ms/step - loss: 22.5751 - val_loss: 24.8353\n",
      "Epoch 2/50\n",
      "3/3 [==============================] - 0s 15ms/step - loss: 24.5645 - val_loss: 17.5030\n",
      "Epoch 3/50\n",
      "3/3 [==============================] - 0s 14ms/step - loss: 13.9416 - val_loss: 21.8649\n",
      "Epoch 4/50\n",
      "3/3 [==============================] - 0s 14ms/step - loss: 16.5893 - val_loss: 16.1282\n",
      "Epoch 5/50\n",
      "3/3 [==============================] - 0s 14ms/step - loss: 12.5643 - val_loss: 19.8768\n",
      "Epoch 6/50\n",
      "3/3 [==============================] - 0s 13ms/step - loss: 13.7420 - val_loss: 15.8749\n",
      "Epoch 7/50\n",
      "3/3 [==============================] - 0s 17ms/step - loss: 11.2919 - val_loss: 15.8989\n",
      "Epoch 8/50\n",
      "3/3 [==============================] - 0s 15ms/step - loss: 12.3982 - val_loss: 14.9560\n",
      "Epoch 9/50\n",
      "3/3 [==============================] - 0s 13ms/step - loss: 10.9318 - val_loss: 16.2168\n",
      "Epoch 10/50\n",
      "3/3 [==============================] - 0s 13ms/step - loss: 11.4885 - val_loss: 15.7602\n",
      "Epoch 11/50\n",
      "3/3 [==============================] - 0s 13ms/step - loss: 10.7493 - val_loss: 14.9857\n",
      "Epoch 12/50\n",
      "3/3 [==============================] - 0s 18ms/step - loss: 10.8757 - val_loss: 14.7975\n",
      "Epoch 13/50\n",
      "3/3 [==============================] - 0s 13ms/step - loss: 10.5080 - val_loss: 15.1957\n",
      "Epoch 14/50\n",
      "3/3 [==============================] - 0s 13ms/step - loss: 10.5407 - val_loss: 15.0084\n",
      "Epoch 15/50\n",
      "3/3 [==============================] - 0s 13ms/step - loss: 10.3017 - val_loss: 14.7226\n",
      "Epoch 16/50\n",
      "3/3 [==============================] - 0s 13ms/step - loss: 10.3067 - val_loss: 14.6426\n",
      "Epoch 17/50\n",
      "3/3 [==============================] - 0s 14ms/step - loss: 10.1433 - val_loss: 14.7452\n",
      "Epoch 18/50\n",
      "3/3 [==============================] - 0s 13ms/step - loss: 10.1253 - val_loss: 14.6547\n",
      "Epoch 19/50\n",
      "3/3 [==============================] - 0s 14ms/step - loss: 10.0231 - val_loss: 14.7266\n",
      "Epoch 20/50\n",
      "3/3 [==============================] - 0s 13ms/step - loss: 9.9687 - val_loss: 14.6783\n",
      "Epoch 21/50\n",
      "3/3 [==============================] - 0s 12ms/step - loss: 9.9197 - val_loss: 14.7257\n",
      "Epoch 22/50\n",
      "3/3 [==============================] - 0s 13ms/step - loss: 9.8565 - val_loss: 14.7524\n",
      "Epoch 23/50\n",
      "3/3 [==============================] - 0s 13ms/step - loss: 9.8064 - val_loss: 14.7018\n",
      "Epoch 24/50\n",
      "3/3 [==============================] - 0s 14ms/step - loss: 9.7593 - val_loss: 14.7090\n",
      "Epoch 25/50\n",
      "3/3 [==============================] - 0s 13ms/step - loss: 9.7063 - val_loss: 14.6835\n",
      "Epoch 26/50\n",
      "3/3 [==============================] - 0s 14ms/step - loss: 9.6619 - val_loss: 14.7582\n",
      "Epoch 27/50\n",
      "3/3 [==============================] - 0s 15ms/step - loss: 9.6178 - val_loss: 14.9137\n",
      "Epoch 28/50\n",
      "3/3 [==============================] - 0s 15ms/step - loss: 9.5705 - val_loss: 14.9079\n",
      "Epoch 29/50\n",
      "3/3 [==============================] - 0s 16ms/step - loss: 9.5299 - val_loss: 14.8920\n",
      "Epoch 30/50\n",
      "3/3 [==============================] - 0s 15ms/step - loss: 9.4883 - val_loss: 14.8622\n",
      "Epoch 31/50\n",
      "3/3 [==============================] - 0s 13ms/step - loss: 9.4492 - val_loss: 14.9428\n",
      "Epoch 32/50\n",
      "3/3 [==============================] - 0s 13ms/step - loss: 9.4093 - val_loss: 14.9581\n",
      "Epoch 33/50\n",
      "3/3 [==============================] - 0s 13ms/step - loss: 9.3730 - val_loss: 15.0928\n",
      "Epoch 34/50\n",
      "3/3 [==============================] - 0s 12ms/step - loss: 9.3375 - val_loss: 15.1499\n",
      "Epoch 35/50\n",
      "3/3 [==============================] - 0s 14ms/step - loss: 9.3063 - val_loss: 15.2926\n",
      "Epoch 36/50\n",
      "3/3 [==============================] - 0s 13ms/step - loss: 9.2728 - val_loss: 15.2313\n",
      "Epoch 37/50\n",
      "3/3 [==============================] - 0s 13ms/step - loss: 9.2422 - val_loss: 15.1927\n",
      "Epoch 38/50\n",
      "3/3 [==============================] - 0s 13ms/step - loss: 9.2076 - val_loss: 15.2685\n",
      "Epoch 39/50\n",
      "3/3 [==============================] - 0s 14ms/step - loss: 9.1728 - val_loss: 15.4729\n",
      "Epoch 40/50\n",
      "3/3 [==============================] - 0s 14ms/step - loss: 9.1480 - val_loss: 15.5921\n",
      "Epoch 41/50\n",
      "3/3 [==============================] - 0s 13ms/step - loss: 9.1232 - val_loss: 15.4995\n",
      "Epoch 42/50\n",
      "3/3 [==============================] - 0s 13ms/step - loss: 9.0984 - val_loss: 15.5220\n",
      "Epoch 43/50\n",
      "3/3 [==============================] - 0s 14ms/step - loss: 9.0728 - val_loss: 15.4691\n",
      "Epoch 44/50\n",
      "3/3 [==============================] - 0s 13ms/step - loss: 9.0509 - val_loss: 15.7477\n",
      "Epoch 45/50\n",
      "3/3 [==============================] - 0s 13ms/step - loss: 9.0291 - val_loss: 15.8632\n",
      "Epoch 46/50\n",
      "3/3 [==============================] - 0s 14ms/step - loss: 9.0078 - val_loss: 15.7341\n",
      "Epoch 47/50\n",
      "3/3 [==============================] - 0s 13ms/step - loss: 8.9901 - val_loss: 15.7538\n",
      "Epoch 48/50\n",
      "3/3 [==============================] - 0s 14ms/step - loss: 8.9750 - val_loss: 15.8719\n",
      "Epoch 49/50\n",
      "3/3 [==============================] - 0s 14ms/step - loss: 8.9570 - val_loss: 15.9057\n",
      "Epoch 50/50\n",
      "3/3 [==============================] - 0s 14ms/step - loss: 8.9425 - val_loss: 15.9642\n"
     ]
    },
    {
     "name": "stderr",
     "output_type": "stream",
     "text": [
      "C:\\Users\\Baejs\\anaconda3\\envs\\bae\\lib\\site-packages\\keras\\src\\engine\\training.py:3000: UserWarning: You are saving your model as an HDF5 file via `model.save()`. This file format is considered legacy. We recommend using instead the native Keras format, e.g. `model.save('my_model.keras')`.\n",
      "  saving_api.save_model(\n"
     ]
    },
    {
     "name": "stdout",
     "output_type": "stream",
     "text": [
      "============== EVALUATION ==============\n"
     ]
    },
    {
     "name": "stderr",
     "output_type": "stream",
     "text": [
      "  0%|                                                                                           | 0/10 [00:00<?, ?it/s]"
     ]
    },
    {
     "name": "stdout",
     "output_type": "stream",
     "text": [
      "10/10 [==============================] - 0s 1ms/step\n"
     ]
    },
    {
     "name": "stderr",
     "output_type": "stream",
     "text": [
      " 10%|████████▎                                                                          | 1/10 [00:00<00:00,  9.34it/s]"
     ]
    },
    {
     "name": "stdout",
     "output_type": "stream",
     "text": [
      "10/10 [==============================] - 0s 1ms/step\n",
      "10/10 [==============================] - 0s 1ms/step\n"
     ]
    },
    {
     "name": "stderr",
     "output_type": "stream",
     "text": [
      " 30%|████████████████████████▉                                                          | 3/10 [00:00<00:00, 12.76it/s]"
     ]
    },
    {
     "name": "stdout",
     "output_type": "stream",
     "text": [
      "10/10 [==============================] - 0s 1ms/step\n",
      "10/10 [==============================] - 0s 1ms/step\n"
     ]
    },
    {
     "name": "stderr",
     "output_type": "stream",
     "text": [
      " 50%|█████████████████████████████████████████▌                                         | 5/10 [00:00<00:00, 13.72it/s]"
     ]
    },
    {
     "name": "stdout",
     "output_type": "stream",
     "text": [
      "10/10 [==============================] - 0s 998us/step\n",
      "10/10 [==============================] - 0s 998us/step\n"
     ]
    },
    {
     "name": "stderr",
     "output_type": "stream",
     "text": [
      " 70%|██████████████████████████████████████████████████████████                         | 7/10 [00:00<00:00, 14.22it/s]"
     ]
    },
    {
     "name": "stdout",
     "output_type": "stream",
     "text": [
      "10/10 [==============================] - 0s 954us/step\n",
      "10/10 [==============================] - 0s 971us/step\n"
     ]
    },
    {
     "name": "stderr",
     "output_type": "stream",
     "text": [
      " 90%|██████████████████████████████████████████████████████████████████████████▋        | 9/10 [00:00<00:00, 14.38it/s]"
     ]
    },
    {
     "name": "stdout",
     "output_type": "stream",
     "text": [
      "10/10 [==============================] - 0s 1ms/step\n"
     ]
    },
    {
     "name": "stderr",
     "output_type": "stream",
     "text": [
      "100%|██████████████████████████████████████████████████████████████████████████████████| 10/10 [00:00<00:00, 13.95it/s]\n",
      "2023-08-26 00:59:56,139 - INFO - AUC : 0.48\n",
      "2023-08-26 00:59:56,140 - INFO - target_dir : ../Sample_data\n",
      "2023-08-26 00:59:56,142 - INFO - train_file num : 5\n",
      "2023-08-26 00:59:56,142 - INFO - eval_file  num : 10\n"
     ]
    },
    {
     "name": "stdout",
     "output_type": "stream",
     "text": [
      "===========================\n",
      "\n",
      "===========================\n"
     ]
    },
    {
     "name": "stderr",
     "output_type": "stream",
     "text": [
      "generate train_dataset: 100%|████████████████████████████████████████████████████████████| 5/5 [00:00<00:00, 83.56it/s]\n",
      "2023-08-26 00:59:56,204 - INFO - save_pickle -> ./pickle_transfer_pretrain_v2/train_slider_id_04.pickle\n",
      "2023-08-26 00:59:56,210 - INFO - save_pickle -> ./pickle_transfer_pretrain_v2/eval_files_slider_id_04.pickle\n",
      "2023-08-26 00:59:56,213 - INFO - save_pickle -> ./pickle_transfer_pretrain_v2/eval_labels_slider_id_04.pickle\n",
      "2023-08-26 00:59:56,215 - INFO - save_pickle -> ./pickle_transfer_pretrain_v2/train_labels_slider_id_04.pickle\n"
     ]
    },
    {
     "name": "stdout",
     "output_type": "stream",
     "text": [
      "Epoch 1/50\n",
      "3/3 [==============================] - 1s 70ms/step - loss: 20.4281 - val_loss: 27.5014\n",
      "Epoch 2/50\n",
      "3/3 [==============================] - 0s 16ms/step - loss: 19.8281 - val_loss: 20.3791\n",
      "Epoch 3/50\n",
      "3/3 [==============================] - 0s 13ms/step - loss: 16.5717 - val_loss: 19.5307\n",
      "Epoch 4/50\n",
      "3/3 [==============================] - 0s 15ms/step - loss: 14.9270 - val_loss: 19.9510\n",
      "Epoch 5/50\n",
      "3/3 [==============================] - 0s 14ms/step - loss: 13.8915 - val_loss: 18.9345\n",
      "Epoch 6/50\n",
      "3/3 [==============================] - 0s 13ms/step - loss: 13.9861 - val_loss: 17.7155\n",
      "Epoch 7/50\n",
      "3/3 [==============================] - 0s 13ms/step - loss: 12.8980 - val_loss: 18.2636\n",
      "Epoch 8/50\n",
      "3/3 [==============================] - 0s 13ms/step - loss: 13.1970 - val_loss: 17.4424\n",
      "Epoch 9/50\n",
      "3/3 [==============================] - 0s 13ms/step - loss: 12.5331 - val_loss: 17.5058\n",
      "Epoch 10/50\n",
      "3/3 [==============================] - 0s 14ms/step - loss: 12.5820 - val_loss: 17.2034\n",
      "Epoch 11/50\n",
      "3/3 [==============================] - 0s 13ms/step - loss: 12.3235 - val_loss: 17.3546\n",
      "Epoch 12/50\n",
      "3/3 [==============================] - 0s 13ms/step - loss: 12.2352 - val_loss: 17.1500\n",
      "Epoch 13/50\n",
      "3/3 [==============================] - 0s 15ms/step - loss: 12.0938 - val_loss: 17.0690\n",
      "Epoch 14/50\n",
      "3/3 [==============================] - 0s 14ms/step - loss: 12.0298 - val_loss: 16.8869\n",
      "Epoch 15/50\n",
      "3/3 [==============================] - 0s 13ms/step - loss: 11.9027 - val_loss: 16.9081\n",
      "Epoch 16/50\n",
      "3/3 [==============================] - 0s 13ms/step - loss: 11.8543 - val_loss: 16.8787\n",
      "Epoch 17/50\n",
      "3/3 [==============================] - 0s 13ms/step - loss: 11.7735 - val_loss: 16.7637\n",
      "Epoch 18/50\n",
      "3/3 [==============================] - 0s 13ms/step - loss: 11.6986 - val_loss: 16.7368\n",
      "Epoch 19/50\n",
      "3/3 [==============================] - 0s 14ms/step - loss: 11.6392 - val_loss: 16.7771\n",
      "Epoch 20/50\n",
      "3/3 [==============================] - 0s 16ms/step - loss: 11.5732 - val_loss: 16.6848\n",
      "Epoch 21/50\n",
      "3/3 [==============================] - 0s 18ms/step - loss: 11.5137 - val_loss: 16.6213\n",
      "Epoch 22/50\n",
      "3/3 [==============================] - 0s 13ms/step - loss: 11.4464 - val_loss: 16.5969\n",
      "Epoch 23/50\n",
      "3/3 [==============================] - 0s 14ms/step - loss: 11.3947 - val_loss: 16.5324\n",
      "Epoch 24/50\n",
      "3/3 [==============================] - 0s 13ms/step - loss: 11.3384 - val_loss: 16.6184\n",
      "Epoch 25/50\n",
      "3/3 [==============================] - 0s 14ms/step - loss: 11.2848 - val_loss: 16.6005\n",
      "Epoch 26/50\n",
      "3/3 [==============================] - 0s 37ms/step - loss: 11.2329 - val_loss: 16.4868\n",
      "Epoch 27/50\n",
      "3/3 [==============================] - 0s 21ms/step - loss: 11.1840 - val_loss: 16.4608\n",
      "Epoch 28/50\n",
      "3/3 [==============================] - 0s 25ms/step - loss: 11.1385 - val_loss: 16.4482\n",
      "Epoch 29/50\n",
      "3/3 [==============================] - 0s 15ms/step - loss: 11.0934 - val_loss: 16.4012\n",
      "Epoch 30/50\n",
      "3/3 [==============================] - 0s 13ms/step - loss: 11.0470 - val_loss: 16.4608\n",
      "Epoch 31/50\n",
      "3/3 [==============================] - 0s 13ms/step - loss: 11.0056 - val_loss: 16.4202\n",
      "Epoch 32/50\n",
      "3/3 [==============================] - 0s 13ms/step - loss: 10.9635 - val_loss: 16.3299\n",
      "Epoch 33/50\n",
      "3/3 [==============================] - 0s 13ms/step - loss: 10.9227 - val_loss: 16.3463\n",
      "Epoch 34/50\n",
      "3/3 [==============================] - 0s 13ms/step - loss: 10.8801 - val_loss: 16.3309\n",
      "Epoch 35/50\n",
      "3/3 [==============================] - 0s 14ms/step - loss: 10.8388 - val_loss: 16.2966\n",
      "Epoch 36/50\n",
      "3/3 [==============================] - 0s 14ms/step - loss: 10.8013 - val_loss: 16.2933\n",
      "Epoch 37/50\n",
      "3/3 [==============================] - 0s 15ms/step - loss: 10.7608 - val_loss: 16.2354\n",
      "Epoch 38/50\n",
      "3/3 [==============================] - 0s 15ms/step - loss: 10.7189 - val_loss: 16.2575\n",
      "Epoch 39/50\n",
      "3/3 [==============================] - 0s 14ms/step - loss: 10.6805 - val_loss: 16.2314\n",
      "Epoch 40/50\n",
      "3/3 [==============================] - 0s 14ms/step - loss: 10.6412 - val_loss: 16.2169\n",
      "Epoch 41/50\n",
      "3/3 [==============================] - 0s 16ms/step - loss: 10.6047 - val_loss: 16.1356\n",
      "Epoch 42/50\n",
      "3/3 [==============================] - 0s 15ms/step - loss: 10.5656 - val_loss: 16.1062\n",
      "Epoch 43/50\n",
      "3/3 [==============================] - 0s 15ms/step - loss: 10.5282 - val_loss: 16.0921\n",
      "Epoch 44/50\n",
      "3/3 [==============================] - 0s 14ms/step - loss: 10.4935 - val_loss: 16.0998\n",
      "Epoch 45/50\n",
      "3/3 [==============================] - 0s 14ms/step - loss: 10.4566 - val_loss: 16.0213\n",
      "Epoch 46/50\n",
      "3/3 [==============================] - 0s 14ms/step - loss: 10.4261 - val_loss: 16.0316\n",
      "Epoch 47/50\n",
      "3/3 [==============================] - 0s 15ms/step - loss: 10.3901 - val_loss: 15.9889\n",
      "Epoch 48/50\n",
      "3/3 [==============================] - 0s 13ms/step - loss: 10.3581 - val_loss: 15.9262\n",
      "Epoch 49/50\n",
      "3/3 [==============================] - 0s 14ms/step - loss: 10.3312 - val_loss: 15.8149\n",
      "Epoch 50/50\n",
      "3/3 [==============================] - 0s 14ms/step - loss: 10.3036 - val_loss: 15.8147\n",
      "============== EVALUATION ==============\n"
     ]
    },
    {
     "name": "stderr",
     "output_type": "stream",
     "text": [
      "C:\\Users\\Baejs\\anaconda3\\envs\\bae\\lib\\site-packages\\keras\\src\\engine\\training.py:3000: UserWarning: You are saving your model as an HDF5 file via `model.save()`. This file format is considered legacy. We recommend using instead the native Keras format, e.g. `model.save('my_model.keras')`.\n",
      "  saving_api.save_model(\n",
      "  0%|                                                                                           | 0/10 [00:00<?, ?it/s]"
     ]
    },
    {
     "name": "stdout",
     "output_type": "stream",
     "text": [
      "10/10 [==============================] - 0s 962us/step\n"
     ]
    },
    {
     "name": "stderr",
     "output_type": "stream",
     "text": [
      " 10%|████████▎                                                                          | 1/10 [00:00<00:00,  9.08it/s]"
     ]
    },
    {
     "name": "stdout",
     "output_type": "stream",
     "text": [
      "10/10 [==============================] - 0s 1ms/step\n",
      "10/10 [==============================] - 0s 1ms/step\n"
     ]
    },
    {
     "name": "stderr",
     "output_type": "stream",
     "text": [
      " 30%|████████████████████████▉                                                          | 3/10 [00:00<00:00, 11.75it/s]"
     ]
    },
    {
     "name": "stdout",
     "output_type": "stream",
     "text": [
      "10/10 [==============================] - 0s 1ms/step\n",
      "10/10 [==============================] - 0s 1ms/step\n"
     ]
    },
    {
     "name": "stderr",
     "output_type": "stream",
     "text": [
      " 50%|█████████████████████████████████████████▌                                         | 5/10 [00:00<00:00, 12.49it/s]"
     ]
    },
    {
     "name": "stdout",
     "output_type": "stream",
     "text": [
      "10/10 [==============================] - 0s 1ms/step\n",
      "10/10 [==============================] - 0s 1ms/step\n"
     ]
    },
    {
     "name": "stderr",
     "output_type": "stream",
     "text": [
      " 70%|██████████████████████████████████████████████████████████                         | 7/10 [00:00<00:00, 12.67it/s]"
     ]
    },
    {
     "name": "stdout",
     "output_type": "stream",
     "text": [
      "10/10 [==============================] - 0s 1ms/step\n",
      "10/10 [==============================] - 0s 1ms/step\n"
     ]
    },
    {
     "name": "stderr",
     "output_type": "stream",
     "text": [
      " 90%|██████████████████████████████████████████████████████████████████████████▋        | 9/10 [00:00<00:00, 12.92it/s]"
     ]
    },
    {
     "name": "stdout",
     "output_type": "stream",
     "text": [
      "10/10 [==============================] - 0s 1ms/step\n"
     ]
    },
    {
     "name": "stderr",
     "output_type": "stream",
     "text": [
      "100%|██████████████████████████████████████████████████████████████████████████████████| 10/10 [00:00<00:00, 12.50it/s]\n",
      "2023-08-26 00:59:59,916 - INFO - AUC : 0.48\n",
      "2023-08-26 00:59:59,917 - INFO - target_dir : ../Sample_data\n",
      "2023-08-26 00:59:59,918 - INFO - train_file num : 5\n",
      "2023-08-26 00:59:59,919 - INFO - eval_file  num : 10\n"
     ]
    },
    {
     "name": "stdout",
     "output_type": "stream",
     "text": [
      "===========================\n",
      "\n",
      "===========================\n"
     ]
    },
    {
     "name": "stderr",
     "output_type": "stream",
     "text": [
      "generate train_dataset: 100%|████████████████████████████████████████████████████████████| 5/5 [00:00<00:00, 78.34it/s]\n",
      "2023-08-26 00:59:59,986 - INFO - save_pickle -> ./pickle_transfer_pretrain_v2/train_slider_id_06.pickle\n",
      "2023-08-26 00:59:59,991 - INFO - save_pickle -> ./pickle_transfer_pretrain_v2/eval_files_slider_id_06.pickle\n",
      "2023-08-26 00:59:59,994 - INFO - save_pickle -> ./pickle_transfer_pretrain_v2/eval_labels_slider_id_06.pickle\n",
      "2023-08-26 00:59:59,996 - INFO - save_pickle -> ./pickle_transfer_pretrain_v2/train_labels_slider_id_06.pickle\n"
     ]
    },
    {
     "name": "stdout",
     "output_type": "stream",
     "text": [
      "Epoch 1/50\n",
      "3/3 [==============================] - 1s 71ms/step - loss: 20.1507 - val_loss: 24.3849\n",
      "Epoch 2/50\n",
      "3/3 [==============================] - 0s 16ms/step - loss: 22.5569 - val_loss: 16.4864\n",
      "Epoch 3/50\n",
      "3/3 [==============================] - 0s 14ms/step - loss: 14.8079 - val_loss: 19.4321\n",
      "Epoch 4/50\n",
      "3/3 [==============================] - 0s 16ms/step - loss: 14.0475 - val_loss: 16.6199\n",
      "Epoch 5/50\n",
      "3/3 [==============================] - 0s 17ms/step - loss: 14.6826 - val_loss: 16.0115\n",
      "Epoch 6/50\n",
      "3/3 [==============================] - 0s 17ms/step - loss: 11.9129 - val_loss: 17.1693\n",
      "Epoch 7/50\n",
      "3/3 [==============================] - 0s 16ms/step - loss: 13.0512 - val_loss: 15.7923\n",
      "Epoch 8/50\n",
      "3/3 [==============================] - 0s 18ms/step - loss: 11.3814 - val_loss: 15.9320\n",
      "Epoch 9/50\n",
      "3/3 [==============================] - 0s 17ms/step - loss: 11.9009 - val_loss: 15.3254\n",
      "Epoch 10/50\n",
      "3/3 [==============================] - 0s 18ms/step - loss: 11.2288 - val_loss: 15.6880\n",
      "Epoch 11/50\n",
      "3/3 [==============================] - 0s 14ms/step - loss: 11.0877 - val_loss: 14.6495\n",
      "Epoch 12/50\n",
      "3/3 [==============================] - 0s 16ms/step - loss: 11.0726 - val_loss: 14.4762\n",
      "Epoch 13/50\n",
      "3/3 [==============================] - 0s 16ms/step - loss: 10.7170 - val_loss: 14.7905\n",
      "Epoch 14/50\n",
      "3/3 [==============================] - 0s 21ms/step - loss: 10.7903 - val_loss: 14.1692\n",
      "Epoch 15/50\n",
      "3/3 [==============================] - 0s 15ms/step - loss: 10.5743 - val_loss: 13.9667\n",
      "Epoch 16/50\n",
      "3/3 [==============================] - 0s 14ms/step - loss: 10.5010 - val_loss: 14.1059\n",
      "Epoch 17/50\n",
      "3/3 [==============================] - 0s 13ms/step - loss: 10.4596 - val_loss: 13.7880\n",
      "Epoch 18/50\n",
      "3/3 [==============================] - 0s 13ms/step - loss: 10.3353 - val_loss: 13.4208\n",
      "Epoch 19/50\n",
      "3/3 [==============================] - 0s 14ms/step - loss: 10.2887 - val_loss: 13.3994\n",
      "Epoch 20/50\n",
      "3/3 [==============================] - 0s 14ms/step - loss: 10.2336 - val_loss: 13.1626\n",
      "Epoch 21/50\n",
      "3/3 [==============================] - 0s 14ms/step - loss: 10.1578 - val_loss: 12.9361\n",
      "Epoch 22/50\n",
      "3/3 [==============================] - 0s 14ms/step - loss: 10.1086 - val_loss: 12.9028\n",
      "Epoch 23/50\n",
      "3/3 [==============================] - 0s 14ms/step - loss: 10.0656 - val_loss: 12.6737\n",
      "Epoch 24/50\n",
      "3/3 [==============================] - 0s 14ms/step - loss: 10.0092 - val_loss: 12.4895\n",
      "Epoch 25/50\n",
      "3/3 [==============================] - 0s 14ms/step - loss: 9.9627 - val_loss: 12.3794\n",
      "Epoch 26/50\n",
      "3/3 [==============================] - 0s 15ms/step - loss: 9.9262 - val_loss: 12.1124\n",
      "Epoch 27/50\n",
      "3/3 [==============================] - 0s 15ms/step - loss: 9.8854 - val_loss: 11.9469\n",
      "Epoch 28/50\n",
      "3/3 [==============================] - 0s 15ms/step - loss: 9.8460 - val_loss: 11.8724\n",
      "Epoch 29/50\n",
      "3/3 [==============================] - 0s 16ms/step - loss: 9.8106 - val_loss: 11.7133\n",
      "Epoch 30/50\n",
      "3/3 [==============================] - 0s 16ms/step - loss: 9.7774 - val_loss: 11.5678\n",
      "Epoch 31/50\n",
      "3/3 [==============================] - 0s 15ms/step - loss: 9.7474 - val_loss: 11.3475\n",
      "Epoch 32/50\n",
      "3/3 [==============================] - 0s 14ms/step - loss: 9.7182 - val_loss: 11.2359\n",
      "Epoch 33/50\n",
      "3/3 [==============================] - 0s 19ms/step - loss: 9.6897 - val_loss: 11.1766\n",
      "Epoch 34/50\n",
      "3/3 [==============================] - 0s 17ms/step - loss: 9.6625 - val_loss: 11.0247\n",
      "Epoch 35/50\n",
      "3/3 [==============================] - 0s 17ms/step - loss: 9.6417 - val_loss: 10.8255\n",
      "Epoch 36/50\n",
      "3/3 [==============================] - 0s 18ms/step - loss: 9.6159 - val_loss: 10.7727\n",
      "Epoch 37/50\n",
      "3/3 [==============================] - 0s 16ms/step - loss: 9.5938 - val_loss: 10.6571\n",
      "Epoch 38/50\n",
      "3/3 [==============================] - 0s 16ms/step - loss: 9.5738 - val_loss: 10.5194\n",
      "Epoch 39/50\n",
      "3/3 [==============================] - 0s 17ms/step - loss: 9.5543 - val_loss: 10.4304\n",
      "Epoch 40/50\n",
      "3/3 [==============================] - 0s 16ms/step - loss: 9.5355 - val_loss: 10.3674\n",
      "Epoch 41/50\n",
      "3/3 [==============================] - 0s 16ms/step - loss: 9.5206 - val_loss: 10.2224\n",
      "Epoch 42/50\n",
      "3/3 [==============================] - 0s 16ms/step - loss: 9.5059 - val_loss: 10.1616\n",
      "Epoch 43/50\n",
      "3/3 [==============================] - 0s 14ms/step - loss: 9.4911 - val_loss: 10.0517\n",
      "Epoch 44/50\n",
      "3/3 [==============================] - 0s 14ms/step - loss: 9.4760 - val_loss: 9.9569\n",
      "Epoch 45/50\n",
      "3/3 [==============================] - 0s 16ms/step - loss: 9.4619 - val_loss: 9.8931\n",
      "Epoch 46/50\n",
      "3/3 [==============================] - 0s 16ms/step - loss: 9.4511 - val_loss: 9.8557\n",
      "Epoch 47/50\n",
      "3/3 [==============================] - 0s 16ms/step - loss: 9.4403 - val_loss: 9.7392\n",
      "Epoch 48/50\n",
      "3/3 [==============================] - 0s 17ms/step - loss: 9.4301 - val_loss: 9.6606\n",
      "Epoch 49/50\n",
      "3/3 [==============================] - 0s 17ms/step - loss: 9.4206 - val_loss: 9.6185\n",
      "Epoch 50/50\n",
      "3/3 [==============================] - 0s 17ms/step - loss: 9.4106 - val_loss: 9.6144\n",
      "============== EVALUATION ==============\n"
     ]
    },
    {
     "name": "stderr",
     "output_type": "stream",
     "text": [
      "C:\\Users\\Baejs\\anaconda3\\envs\\bae\\lib\\site-packages\\keras\\src\\engine\\training.py:3000: UserWarning: You are saving your model as an HDF5 file via `model.save()`. This file format is considered legacy. We recommend using instead the native Keras format, e.g. `model.save('my_model.keras')`.\n",
      "  saving_api.save_model(\n",
      "  0%|                                                                                           | 0/10 [00:00<?, ?it/s]"
     ]
    },
    {
     "name": "stdout",
     "output_type": "stream",
     "text": [
      "10/10 [==============================] - 0s 1ms/step\n"
     ]
    },
    {
     "name": "stderr",
     "output_type": "stream",
     "text": [
      " 10%|████████▎                                                                          | 1/10 [00:00<00:01,  6.87it/s]"
     ]
    },
    {
     "name": "stdout",
     "output_type": "stream",
     "text": [
      "10/10 [==============================] - 0s 2ms/step\n",
      "10/10 [==============================] - 0s 886us/step\n"
     ]
    },
    {
     "name": "stderr",
     "output_type": "stream",
     "text": [
      " 30%|████████████████████████▉                                                          | 3/10 [00:00<00:00, 10.36it/s]"
     ]
    },
    {
     "name": "stdout",
     "output_type": "stream",
     "text": [
      "10/10 [==============================] - 0s 997us/step\n",
      "10/10 [==============================] - 0s 1ms/step\n"
     ]
    },
    {
     "name": "stderr",
     "output_type": "stream",
     "text": [
      " 50%|█████████████████████████████████████████▌                                         | 5/10 [00:00<00:00, 11.82it/s]"
     ]
    },
    {
     "name": "stdout",
     "output_type": "stream",
     "text": [
      "10/10 [==============================] - 0s 1ms/step\n",
      "10/10 [==============================] - 0s 1ms/step\n"
     ]
    },
    {
     "name": "stderr",
     "output_type": "stream",
     "text": [
      " 70%|██████████████████████████████████████████████████████████                         | 7/10 [00:00<00:00, 12.23it/s]"
     ]
    },
    {
     "name": "stdout",
     "output_type": "stream",
     "text": [
      "10/10 [==============================] - 0s 999us/step\n",
      "10/10 [==============================] - 0s 998us/step\n"
     ]
    },
    {
     "name": "stderr",
     "output_type": "stream",
     "text": [
      " 90%|██████████████████████████████████████████████████████████████████████████▋        | 9/10 [00:00<00:00, 12.79it/s]"
     ]
    },
    {
     "name": "stdout",
     "output_type": "stream",
     "text": [
      "10/10 [==============================] - 0s 2ms/step\n"
     ]
    },
    {
     "name": "stderr",
     "output_type": "stream",
     "text": [
      "100%|██████████████████████████████████████████████████████████████████████████████████| 10/10 [00:00<00:00, 11.89it/s]\n",
      "2023-08-26 01:00:03,931 - INFO - AUC : 0.8\n",
      "2023-08-26 01:00:03,933 - INFO - all results -> ./result_transfer_pretrain_v2/result_transfer_pretrain_v2.yaml\n",
      "2023-08-26 01:00:03,936 - INFO - target_dir : ../Sample_data\n"
     ]
    },
    {
     "name": "stdout",
     "output_type": "stream",
     "text": [
      "===========================\n",
      "===========================\n",
      "\n",
      "===========================\n"
     ]
    },
    {
     "name": "stderr",
     "output_type": "stream",
     "text": [
      "2023-08-26 01:00:03,938 - INFO - train_file num : 5\n",
      "2023-08-26 01:00:03,938 - INFO - eval_file  num : 10\n",
      "generate train_dataset: 100%|████████████████████████████████████████████████████████████| 5/5 [00:00<00:00, 82.19it/s]\n",
      "2023-08-26 01:00:04,003 - INFO - save_pickle -> ./pickle_transfer_pretrain_v2/train_pump_id_00.pickle\n",
      "2023-08-26 01:00:04,007 - INFO - save_pickle -> ./pickle_transfer_pretrain_v2/eval_files_pump_id_00.pickle\n",
      "2023-08-26 01:00:04,010 - INFO - save_pickle -> ./pickle_transfer_pretrain_v2/eval_labels_pump_id_00.pickle\n",
      "2023-08-26 01:00:04,012 - INFO - save_pickle -> ./pickle_transfer_pretrain_v2/train_labels_pump_id_00.pickle\n"
     ]
    },
    {
     "name": "stdout",
     "output_type": "stream",
     "text": [
      "Epoch 1/50\n",
      "3/3 [==============================] - 1s 67ms/step - loss: 19.0193 - val_loss: 13.4083\n",
      "Epoch 2/50\n",
      "3/3 [==============================] - 0s 14ms/step - loss: 17.1593 - val_loss: 10.7976\n",
      "Epoch 3/50\n",
      "3/3 [==============================] - 0s 15ms/step - loss: 15.5024 - val_loss: 10.2511\n",
      "Epoch 4/50\n",
      "3/3 [==============================] - 0s 15ms/step - loss: 14.7057 - val_loss: 9.6501\n",
      "Epoch 5/50\n",
      "3/3 [==============================] - 0s 15ms/step - loss: 14.1025 - val_loss: 8.6101\n",
      "Epoch 6/50\n",
      "3/3 [==============================] - 0s 15ms/step - loss: 14.0986 - val_loss: 8.2731\n",
      "Epoch 7/50\n",
      "3/3 [==============================] - 0s 15ms/step - loss: 13.4746 - val_loss: 9.1070\n",
      "Epoch 8/50\n",
      "3/3 [==============================] - 0s 14ms/step - loss: 13.6469 - val_loss: 8.4230\n",
      "Epoch 9/50\n",
      "3/3 [==============================] - 0s 14ms/step - loss: 13.2039 - val_loss: 8.4004\n",
      "Epoch 10/50\n",
      "3/3 [==============================] - 0s 14ms/step - loss: 13.2328 - val_loss: 8.2408\n",
      "Epoch 11/50\n",
      "3/3 [==============================] - 0s 13ms/step - loss: 13.0734 - val_loss: 8.2673\n",
      "Epoch 12/50\n",
      "3/3 [==============================] - 0s 14ms/step - loss: 12.9904 - val_loss: 7.9769\n",
      "Epoch 13/50\n",
      "3/3 [==============================] - 0s 16ms/step - loss: 12.9159 - val_loss: 7.9629\n",
      "Epoch 14/50\n",
      "3/3 [==============================] - 0s 13ms/step - loss: 12.8443 - val_loss: 8.0478\n",
      "Epoch 15/50\n",
      "3/3 [==============================] - 0s 15ms/step - loss: 12.7671 - val_loss: 7.9622\n",
      "Epoch 16/50\n",
      "3/3 [==============================] - 0s 14ms/step - loss: 12.6995 - val_loss: 7.8952\n",
      "Epoch 17/50\n",
      "3/3 [==============================] - 0s 14ms/step - loss: 12.6402 - val_loss: 7.8574\n",
      "Epoch 18/50\n",
      "3/3 [==============================] - 0s 19ms/step - loss: 12.5644 - val_loss: 7.8583\n",
      "Epoch 19/50\n",
      "3/3 [==============================] - 0s 15ms/step - loss: 12.5000 - val_loss: 7.8023\n",
      "Epoch 20/50\n",
      "3/3 [==============================] - 0s 14ms/step - loss: 12.4387 - val_loss: 7.7574\n",
      "Epoch 21/50\n",
      "3/3 [==============================] - 0s 14ms/step - loss: 12.3650 - val_loss: 7.7534\n",
      "Epoch 22/50\n",
      "3/3 [==============================] - 0s 14ms/step - loss: 12.2994 - val_loss: 7.7421\n",
      "Epoch 23/50\n",
      "3/3 [==============================] - 0s 15ms/step - loss: 12.2278 - val_loss: 7.7830\n",
      "Epoch 24/50\n",
      "3/3 [==============================] - 0s 14ms/step - loss: 12.1594 - val_loss: 7.7529\n",
      "Epoch 25/50\n",
      "3/3 [==============================] - 0s 16ms/step - loss: 12.0893 - val_loss: 7.6742\n",
      "Epoch 26/50\n",
      "3/3 [==============================] - 0s 16ms/step - loss: 12.0197 - val_loss: 7.6396\n",
      "Epoch 27/50\n",
      "3/3 [==============================] - 0s 16ms/step - loss: 11.9454 - val_loss: 7.6975\n",
      "Epoch 28/50\n",
      "3/3 [==============================] - 0s 17ms/step - loss: 11.8720 - val_loss: 7.7558\n",
      "Epoch 29/50\n",
      "3/3 [==============================] - 0s 17ms/step - loss: 11.8016 - val_loss: 7.7354\n",
      "Epoch 30/50\n",
      "3/3 [==============================] - 0s 17ms/step - loss: 11.7292 - val_loss: 7.7440\n",
      "Epoch 31/50\n",
      "3/3 [==============================] - 0s 19ms/step - loss: 11.6584 - val_loss: 7.7412\n",
      "Epoch 32/50\n",
      "3/3 [==============================] - 0s 18ms/step - loss: 11.5880 - val_loss: 7.8053\n",
      "Epoch 33/50\n",
      "3/3 [==============================] - 0s 15ms/step - loss: 11.5188 - val_loss: 7.8141\n",
      "Epoch 34/50\n",
      "3/3 [==============================] - 0s 17ms/step - loss: 11.4521 - val_loss: 7.8514\n",
      "Epoch 35/50\n",
      "3/3 [==============================] - 0s 17ms/step - loss: 11.3853 - val_loss: 7.8520\n",
      "Epoch 36/50\n",
      "3/3 [==============================] - 0s 17ms/step - loss: 11.3197 - val_loss: 7.9163\n",
      "Epoch 37/50\n",
      "3/3 [==============================] - 0s 18ms/step - loss: 11.2580 - val_loss: 7.9873\n",
      "Epoch 38/50\n",
      "3/3 [==============================] - 0s 16ms/step - loss: 11.1975 - val_loss: 7.9966\n",
      "Epoch 39/50\n",
      "3/3 [==============================] - 0s 15ms/step - loss: 11.1402 - val_loss: 7.9945\n",
      "Epoch 40/50\n",
      "3/3 [==============================] - 0s 34ms/step - loss: 11.0816 - val_loss: 8.0977\n",
      "Epoch 41/50\n",
      "3/3 [==============================] - 0s 16ms/step - loss: 11.0256 - val_loss: 8.1702\n",
      "Epoch 42/50\n",
      "3/3 [==============================] - 0s 18ms/step - loss: 10.9629 - val_loss: 7.9950\n",
      "Epoch 43/50\n",
      "3/3 [==============================] - 0s 15ms/step - loss: 10.9098 - val_loss: 8.1804\n",
      "Epoch 44/50\n",
      "3/3 [==============================] - 0s 16ms/step - loss: 10.8542 - val_loss: 8.1777\n",
      "Epoch 45/50\n",
      "3/3 [==============================] - 0s 17ms/step - loss: 10.8071 - val_loss: 8.3068\n",
      "Epoch 46/50\n",
      "3/3 [==============================] - 0s 16ms/step - loss: 10.7519 - val_loss: 8.1801\n",
      "Epoch 47/50\n",
      "3/3 [==============================] - 0s 16ms/step - loss: 10.7037 - val_loss: 8.2523\n",
      "Epoch 48/50\n",
      "3/3 [==============================] - 0s 19ms/step - loss: 10.6512 - val_loss: 8.2509\n",
      "Epoch 49/50\n",
      "3/3 [==============================] - 0s 18ms/step - loss: 10.6056 - val_loss: 8.3305\n",
      "Epoch 50/50\n",
      "3/3 [==============================] - 0s 17ms/step - loss: 10.5576 - val_loss: 8.3326\n",
      "============== EVALUATION ==============\n"
     ]
    },
    {
     "name": "stderr",
     "output_type": "stream",
     "text": [
      "C:\\Users\\Baejs\\anaconda3\\envs\\bae\\lib\\site-packages\\keras\\src\\engine\\training.py:3000: UserWarning: You are saving your model as an HDF5 file via `model.save()`. This file format is considered legacy. We recommend using instead the native Keras format, e.g. `model.save('my_model.keras')`.\n",
      "  saving_api.save_model(\n",
      "  0%|                                                                                           | 0/10 [00:00<?, ?it/s]"
     ]
    },
    {
     "name": "stdout",
     "output_type": "stream",
     "text": [
      "10/10 [==============================] - 0s 1ms/step\n"
     ]
    },
    {
     "name": "stderr",
     "output_type": "stream",
     "text": [
      " 10%|████████▎                                                                          | 1/10 [00:00<00:03,  2.44it/s]"
     ]
    },
    {
     "name": "stdout",
     "output_type": "stream",
     "text": [
      "10/10 [==============================] - 0s 2ms/step\n",
      "10/10 [==============================] - 0s 2ms/step\n"
     ]
    },
    {
     "name": "stderr",
     "output_type": "stream",
     "text": [
      " 30%|████████████████████████▉                                                          | 3/10 [00:00<00:01,  5.89it/s]"
     ]
    },
    {
     "name": "stdout",
     "output_type": "stream",
     "text": [
      "10/10 [==============================] - 0s 1ms/step\n",
      "10/10 [==============================] - 0s 1ms/step\n"
     ]
    },
    {
     "name": "stderr",
     "output_type": "stream",
     "text": [
      " 50%|█████████████████████████████████████████▌                                         | 5/10 [00:00<00:00,  8.08it/s]"
     ]
    },
    {
     "name": "stdout",
     "output_type": "stream",
     "text": [
      "10/10 [==============================] - 0s 2ms/step\n",
      "10/10 [==============================] - 0s 1ms/step\n"
     ]
    },
    {
     "name": "stderr",
     "output_type": "stream",
     "text": [
      " 70%|██████████████████████████████████████████████████████████                         | 7/10 [00:00<00:00,  9.21it/s]"
     ]
    },
    {
     "name": "stdout",
     "output_type": "stream",
     "text": [
      "10/10 [==============================] - 0s 1ms/step\n",
      "10/10 [==============================] - 0s 1ms/step\n"
     ]
    },
    {
     "name": "stderr",
     "output_type": "stream",
     "text": [
      " 90%|██████████████████████████████████████████████████████████████████████████▋        | 9/10 [00:01<00:00, 10.16it/s]"
     ]
    },
    {
     "name": "stdout",
     "output_type": "stream",
     "text": [
      "10/10 [==============================] - 0s 1ms/step\n"
     ]
    },
    {
     "name": "stderr",
     "output_type": "stream",
     "text": [
      "100%|██████████████████████████████████████████████████████████████████████████████████| 10/10 [00:01<00:00,  8.64it/s]\n",
      "2023-08-26 01:00:08,147 - INFO - AUC : 0.56\n",
      "2023-08-26 01:00:08,148 - INFO - target_dir : ../Sample_data\n",
      "2023-08-26 01:00:08,150 - INFO - train_file num : 5\n",
      "2023-08-26 01:00:08,151 - INFO - eval_file  num : 10\n"
     ]
    },
    {
     "name": "stdout",
     "output_type": "stream",
     "text": [
      "===========================\n",
      "\n",
      "===========================\n"
     ]
    },
    {
     "name": "stderr",
     "output_type": "stream",
     "text": [
      "generate train_dataset: 100%|████████████████████████████████████████████████████████████| 5/5 [00:00<00:00, 79.58it/s]\n",
      "2023-08-26 01:00:08,218 - INFO - save_pickle -> ./pickle_transfer_pretrain_v2/train_pump_id_02.pickle\n",
      "2023-08-26 01:00:08,223 - INFO - save_pickle -> ./pickle_transfer_pretrain_v2/eval_files_pump_id_02.pickle\n",
      "2023-08-26 01:00:08,225 - INFO - save_pickle -> ./pickle_transfer_pretrain_v2/eval_labels_pump_id_02.pickle\n",
      "2023-08-26 01:00:08,229 - INFO - save_pickle -> ./pickle_transfer_pretrain_v2/train_labels_pump_id_02.pickle\n"
     ]
    },
    {
     "name": "stdout",
     "output_type": "stream",
     "text": [
      "Epoch 1/50\n",
      "3/3 [==============================] - 1s 61ms/step - loss: 19.1621 - val_loss: 20.5485\n",
      "Epoch 2/50\n",
      "3/3 [==============================] - 0s 18ms/step - loss: 18.7376 - val_loss: 11.6618\n",
      "Epoch 3/50\n",
      "3/3 [==============================] - 0s 16ms/step - loss: 15.9245 - val_loss: 11.2379\n",
      "Epoch 4/50\n",
      "3/3 [==============================] - 0s 16ms/step - loss: 13.5790 - val_loss: 11.5397\n",
      "Epoch 5/50\n",
      "3/3 [==============================] - 0s 16ms/step - loss: 13.6624 - val_loss: 9.8622\n",
      "Epoch 6/50\n",
      "3/3 [==============================] - 0s 16ms/step - loss: 12.9176 - val_loss: 9.4309\n",
      "Epoch 7/50\n",
      "3/3 [==============================] - 0s 16ms/step - loss: 12.4572 - val_loss: 9.6325\n",
      "Epoch 8/50\n",
      "3/3 [==============================] - 0s 15ms/step - loss: 12.3389 - val_loss: 8.9491\n",
      "Epoch 9/50\n",
      "3/3 [==============================] - 0s 15ms/step - loss: 12.1718 - val_loss: 9.2329\n",
      "Epoch 10/50\n",
      "3/3 [==============================] - 0s 16ms/step - loss: 11.8382 - val_loss: 9.1195\n",
      "Epoch 11/50\n",
      "3/3 [==============================] - 0s 16ms/step - loss: 11.9679 - val_loss: 8.7720\n",
      "Epoch 12/50\n",
      "3/3 [==============================] - 0s 16ms/step - loss: 11.6758 - val_loss: 9.0067\n",
      "Epoch 13/50\n",
      "3/3 [==============================] - 0s 15ms/step - loss: 11.7381 - val_loss: 8.7908\n",
      "Epoch 14/50\n",
      "3/3 [==============================] - 0s 16ms/step - loss: 11.6416 - val_loss: 8.7746\n",
      "Epoch 15/50\n",
      "3/3 [==============================] - 0s 16ms/step - loss: 11.6075 - val_loss: 8.7024\n",
      "Epoch 16/50\n",
      "3/3 [==============================] - 0s 15ms/step - loss: 11.5672 - val_loss: 8.6706\n",
      "Epoch 17/50\n",
      "3/3 [==============================] - 0s 15ms/step - loss: 11.5494 - val_loss: 8.6503\n",
      "Epoch 18/50\n",
      "3/3 [==============================] - 0s 16ms/step - loss: 11.5232 - val_loss: 8.7210\n",
      "Epoch 19/50\n",
      "3/3 [==============================] - 0s 15ms/step - loss: 11.4847 - val_loss: 8.7496\n",
      "Epoch 20/50\n",
      "3/3 [==============================] - 0s 15ms/step - loss: 11.4788 - val_loss: 8.7603\n",
      "Epoch 21/50\n",
      "3/3 [==============================] - 0s 21ms/step - loss: 11.4545 - val_loss: 8.7693\n",
      "Epoch 22/50\n",
      "3/3 [==============================] - 0s 22ms/step - loss: 11.4350 - val_loss: 8.6914\n",
      "Epoch 23/50\n",
      "3/3 [==============================] - 0s 17ms/step - loss: 11.4169 - val_loss: 8.6828\n",
      "Epoch 24/50\n",
      "3/3 [==============================] - 0s 15ms/step - loss: 11.3966 - val_loss: 8.6841\n",
      "Epoch 25/50\n",
      "3/3 [==============================] - 0s 16ms/step - loss: 11.3807 - val_loss: 8.7098\n",
      "Epoch 26/50\n",
      "3/3 [==============================] - 0s 16ms/step - loss: 11.3602 - val_loss: 8.7504\n",
      "Epoch 27/50\n",
      "3/3 [==============================] - 0s 16ms/step - loss: 11.3413 - val_loss: 8.8309\n",
      "Epoch 28/50\n",
      "3/3 [==============================] - 0s 15ms/step - loss: 11.3225 - val_loss: 8.7480\n",
      "Epoch 29/50\n",
      "3/3 [==============================] - 0s 16ms/step - loss: 11.3016 - val_loss: 8.6699\n",
      "Epoch 30/50\n",
      "3/3 [==============================] - 0s 16ms/step - loss: 11.2804 - val_loss: 8.7350\n",
      "Epoch 31/50\n",
      "3/3 [==============================] - 0s 26ms/step - loss: 11.2591 - val_loss: 8.7485\n",
      "Epoch 32/50\n",
      "3/3 [==============================] - 0s 15ms/step - loss: 11.2369 - val_loss: 8.7908\n",
      "Epoch 33/50\n",
      "3/3 [==============================] - 0s 15ms/step - loss: 11.2128 - val_loss: 8.8384\n",
      "Epoch 34/50\n",
      "3/3 [==============================] - 0s 15ms/step - loss: 11.1902 - val_loss: 8.7702\n",
      "Epoch 35/50\n",
      "3/3 [==============================] - 0s 16ms/step - loss: 11.1657 - val_loss: 8.7321\n",
      "Epoch 36/50\n",
      "3/3 [==============================] - 0s 17ms/step - loss: 11.1401 - val_loss: 8.7308\n",
      "Epoch 37/50\n",
      "3/3 [==============================] - 0s 15ms/step - loss: 11.1137 - val_loss: 8.7168\n",
      "Epoch 38/50\n",
      "3/3 [==============================] - 0s 15ms/step - loss: 11.0890 - val_loss: 8.6949\n",
      "Epoch 39/50\n",
      "3/3 [==============================] - 0s 16ms/step - loss: 11.0608 - val_loss: 8.7842\n",
      "Epoch 40/50\n",
      "3/3 [==============================] - 0s 16ms/step - loss: 11.0305 - val_loss: 8.8501\n",
      "Epoch 41/50\n",
      "3/3 [==============================] - 0s 14ms/step - loss: 11.0061 - val_loss: 8.8641\n",
      "Epoch 42/50\n",
      "3/3 [==============================] - 0s 14ms/step - loss: 10.9756 - val_loss: 8.7994\n",
      "Epoch 43/50\n",
      "3/3 [==============================] - 0s 17ms/step - loss: 10.9417 - val_loss: 8.8127\n",
      "Epoch 44/50\n",
      "3/3 [==============================] - 0s 17ms/step - loss: 10.9114 - val_loss: 8.7880\n",
      "Epoch 45/50\n",
      "3/3 [==============================] - 0s 15ms/step - loss: 10.8772 - val_loss: 8.7621\n",
      "Epoch 46/50\n",
      "3/3 [==============================] - 0s 16ms/step - loss: 10.8422 - val_loss: 8.7993\n",
      "Epoch 47/50\n",
      "3/3 [==============================] - 0s 17ms/step - loss: 10.8096 - val_loss: 8.8865\n",
      "Epoch 48/50\n",
      "3/3 [==============================] - 0s 16ms/step - loss: 10.7741 - val_loss: 8.8824\n",
      "Epoch 49/50\n",
      "3/3 [==============================] - 0s 18ms/step - loss: 10.7399 - val_loss: 8.8042\n",
      "Epoch 50/50\n",
      "3/3 [==============================] - 0s 16ms/step - loss: 10.7033 - val_loss: 8.7764\n",
      "============== EVALUATION ==============\n"
     ]
    },
    {
     "name": "stderr",
     "output_type": "stream",
     "text": [
      "C:\\Users\\Baejs\\anaconda3\\envs\\bae\\lib\\site-packages\\keras\\src\\engine\\training.py:3000: UserWarning: You are saving your model as an HDF5 file via `model.save()`. This file format is considered legacy. We recommend using instead the native Keras format, e.g. `model.save('my_model.keras')`.\n",
      "  saving_api.save_model(\n",
      "  0%|                                                                                           | 0/10 [00:00<?, ?it/s]"
     ]
    },
    {
     "name": "stdout",
     "output_type": "stream",
     "text": [
      "10/10 [==============================] - 0s 1ms/step\n"
     ]
    },
    {
     "name": "stderr",
     "output_type": "stream",
     "text": [
      " 10%|████████▎                                                                          | 1/10 [00:00<00:01,  7.83it/s]"
     ]
    },
    {
     "name": "stdout",
     "output_type": "stream",
     "text": [
      "10/10 [==============================] - 0s 1ms/step\n",
      "10/10 [==============================] - 0s 1ms/step\n"
     ]
    },
    {
     "name": "stderr",
     "output_type": "stream",
     "text": [
      " 30%|████████████████████████▉                                                          | 3/10 [00:00<00:00, 10.27it/s]"
     ]
    },
    {
     "name": "stdout",
     "output_type": "stream",
     "text": [
      "10/10 [==============================] - 0s 1ms/step\n",
      "10/10 [==============================] - 0s 1ms/step\n"
     ]
    },
    {
     "name": "stderr",
     "output_type": "stream",
     "text": [
      " 50%|█████████████████████████████████████████▌                                         | 5/10 [00:00<00:00, 11.45it/s]"
     ]
    },
    {
     "name": "stdout",
     "output_type": "stream",
     "text": [
      "10/10 [==============================] - 0s 1ms/step\n",
      "10/10 [==============================] - 0s 1ms/step\n"
     ]
    },
    {
     "name": "stderr",
     "output_type": "stream",
     "text": [
      " 70%|██████████████████████████████████████████████████████████                         | 7/10 [00:00<00:00, 11.74it/s]"
     ]
    },
    {
     "name": "stdout",
     "output_type": "stream",
     "text": [
      "10/10 [==============================] - 0s 1ms/step\n",
      "10/10 [==============================] - 0s 1ms/step\n"
     ]
    },
    {
     "name": "stderr",
     "output_type": "stream",
     "text": [
      " 90%|██████████████████████████████████████████████████████████████████████████▋        | 9/10 [00:00<00:00, 11.84it/s]"
     ]
    },
    {
     "name": "stdout",
     "output_type": "stream",
     "text": [
      "10/10 [==============================] - 0s 1ms/step\n"
     ]
    },
    {
     "name": "stderr",
     "output_type": "stream",
     "text": [
      "100%|██████████████████████████████████████████████████████████████████████████████████| 10/10 [00:00<00:00, 11.07it/s]\n",
      "2023-08-26 01:00:12,120 - INFO - AUC : 0.2\n",
      "2023-08-26 01:00:12,121 - INFO - target_dir : ../Sample_data\n",
      "2023-08-26 01:00:12,122 - INFO - train_file num : 5\n",
      "2023-08-26 01:00:12,123 - INFO - eval_file  num : 10\n"
     ]
    },
    {
     "name": "stdout",
     "output_type": "stream",
     "text": [
      "===========================\n",
      "\n",
      "===========================\n"
     ]
    },
    {
     "name": "stderr",
     "output_type": "stream",
     "text": [
      "generate train_dataset: 100%|████████████████████████████████████████████████████████████| 5/5 [00:00<00:00, 55.70it/s]\n",
      "2023-08-26 01:00:12,221 - INFO - save_pickle -> ./pickle_transfer_pretrain_v2/train_pump_id_04.pickle\n",
      "2023-08-26 01:00:12,227 - INFO - save_pickle -> ./pickle_transfer_pretrain_v2/eval_files_pump_id_04.pickle\n",
      "2023-08-26 01:00:12,229 - INFO - save_pickle -> ./pickle_transfer_pretrain_v2/eval_labels_pump_id_04.pickle\n",
      "2023-08-26 01:00:12,231 - INFO - save_pickle -> ./pickle_transfer_pretrain_v2/train_labels_pump_id_04.pickle\n"
     ]
    },
    {
     "name": "stdout",
     "output_type": "stream",
     "text": [
      "Epoch 1/50\n",
      "3/3 [==============================] - 1s 67ms/step - loss: 17.2266 - val_loss: 14.8255\n",
      "Epoch 2/50\n",
      "3/3 [==============================] - 0s 14ms/step - loss: 14.0252 - val_loss: 11.6010\n",
      "Epoch 3/50\n",
      "3/3 [==============================] - 0s 14ms/step - loss: 12.5665 - val_loss: 12.7994\n",
      "Epoch 4/50\n",
      "3/3 [==============================] - 0s 14ms/step - loss: 12.1837 - val_loss: 11.7121\n",
      "Epoch 5/50\n",
      "3/3 [==============================] - 0s 13ms/step - loss: 12.2127 - val_loss: 11.6420\n",
      "Epoch 6/50\n",
      "3/3 [==============================] - 0s 13ms/step - loss: 11.5962 - val_loss: 12.8298\n",
      "Epoch 7/50\n",
      "3/3 [==============================] - 0s 13ms/step - loss: 11.4073 - val_loss: 12.7232\n",
      "Epoch 8/50\n",
      "3/3 [==============================] - 0s 13ms/step - loss: 11.1175 - val_loss: 12.3539\n",
      "Epoch 9/50\n",
      "3/3 [==============================] - 0s 15ms/step - loss: 11.1379 - val_loss: 12.5569\n",
      "Epoch 10/50\n",
      "3/3 [==============================] - 0s 15ms/step - loss: 10.9611 - val_loss: 12.4492\n",
      "Epoch 11/50\n",
      "3/3 [==============================] - 0s 14ms/step - loss: 10.8525 - val_loss: 11.4861\n",
      "Epoch 12/50\n",
      "3/3 [==============================] - 0s 58ms/step - loss: 10.7032 - val_loss: 10.8361\n",
      "Epoch 13/50\n",
      "3/3 [==============================] - 0s 17ms/step - loss: 10.6347 - val_loss: 10.8810\n",
      "Epoch 14/50\n",
      "3/3 [==============================] - 0s 17ms/step - loss: 10.5567 - val_loss: 10.8738\n",
      "Epoch 15/50\n",
      "3/3 [==============================] - 0s 15ms/step - loss: 10.4581 - val_loss: 10.7578\n",
      "Epoch 16/50\n",
      "3/3 [==============================] - 0s 15ms/step - loss: 10.3753 - val_loss: 10.9242\n",
      "Epoch 17/50\n",
      "3/3 [==============================] - 0s 14ms/step - loss: 10.2857 - val_loss: 10.7772\n",
      "Epoch 18/50\n",
      "3/3 [==============================] - 0s 15ms/step - loss: 10.2084 - val_loss: 10.5440\n",
      "Epoch 19/50\n",
      "3/3 [==============================] - 0s 14ms/step - loss: 10.1275 - val_loss: 10.6204\n",
      "Epoch 20/50\n",
      "3/3 [==============================] - 0s 35ms/step - loss: 10.0502 - val_loss: 10.3826\n",
      "Epoch 21/50\n",
      "3/3 [==============================] - 0s 14ms/step - loss: 9.9666 - val_loss: 9.9561\n",
      "Epoch 22/50\n",
      "3/3 [==============================] - 0s 15ms/step - loss: 9.8829 - val_loss: 9.8282\n",
      "Epoch 23/50\n",
      "3/3 [==============================] - 0s 15ms/step - loss: 9.7995 - val_loss: 9.5018\n",
      "Epoch 24/50\n",
      "3/3 [==============================] - 0s 15ms/step - loss: 9.7044 - val_loss: 9.5234\n",
      "Epoch 25/50\n",
      "3/3 [==============================] - 0s 16ms/step - loss: 9.6139 - val_loss: 9.2420\n",
      "Epoch 26/50\n",
      "3/3 [==============================] - 0s 15ms/step - loss: 9.5145 - val_loss: 9.0273\n",
      "Epoch 27/50\n",
      "3/3 [==============================] - 0s 14ms/step - loss: 9.4226 - val_loss: 8.6921\n",
      "Epoch 28/50\n",
      "3/3 [==============================] - 0s 14ms/step - loss: 9.3156 - val_loss: 8.5312\n",
      "Epoch 29/50\n",
      "3/3 [==============================] - 0s 15ms/step - loss: 9.2022 - val_loss: 8.3584\n",
      "Epoch 30/50\n",
      "3/3 [==============================] - 0s 15ms/step - loss: 9.0916 - val_loss: 8.1604\n",
      "Epoch 31/50\n",
      "3/3 [==============================] - 0s 14ms/step - loss: 8.9787 - val_loss: 7.9116\n",
      "Epoch 32/50\n",
      "3/3 [==============================] - 0s 14ms/step - loss: 8.8656 - val_loss: 7.7097\n",
      "Epoch 33/50\n",
      "3/3 [==============================] - 0s 15ms/step - loss: 8.7523 - val_loss: 7.5805\n",
      "Epoch 34/50\n",
      "3/3 [==============================] - 0s 14ms/step - loss: 8.6456 - val_loss: 7.4436\n",
      "Epoch 35/50\n",
      "3/3 [==============================] - 0s 15ms/step - loss: 8.5434 - val_loss: 7.2801\n",
      "Epoch 36/50\n",
      "3/3 [==============================] - 0s 14ms/step - loss: 8.4360 - val_loss: 7.0990\n",
      "Epoch 37/50\n",
      "3/3 [==============================] - 0s 14ms/step - loss: 8.3324 - val_loss: 7.0235\n",
      "Epoch 38/50\n",
      "3/3 [==============================] - 0s 16ms/step - loss: 8.2348 - val_loss: 6.9423\n",
      "Epoch 39/50\n",
      "3/3 [==============================] - 0s 14ms/step - loss: 8.1506 - val_loss: 6.8695\n",
      "Epoch 40/50\n",
      "3/3 [==============================] - 0s 14ms/step - loss: 8.0617 - val_loss: 6.8234\n",
      "Epoch 41/50\n",
      "3/3 [==============================] - 0s 14ms/step - loss: 7.9896 - val_loss: 6.7757\n",
      "Epoch 42/50\n",
      "3/3 [==============================] - 0s 14ms/step - loss: 7.9145 - val_loss: 6.7313\n",
      "Epoch 43/50\n",
      "3/3 [==============================] - 0s 15ms/step - loss: 7.8436 - val_loss: 6.6609\n",
      "Epoch 44/50\n",
      "3/3 [==============================] - 0s 15ms/step - loss: 7.7767 - val_loss: 6.7135\n",
      "Epoch 45/50\n",
      "3/3 [==============================] - 0s 47ms/step - loss: 7.7216 - val_loss: 6.7775\n",
      "Epoch 46/50\n",
      "3/3 [==============================] - 0s 19ms/step - loss: 7.6675 - val_loss: 6.7113\n",
      "Epoch 47/50\n",
      "3/3 [==============================] - 0s 25ms/step - loss: 7.6198 - val_loss: 6.7935\n",
      "Epoch 48/50\n",
      "3/3 [==============================] - 0s 17ms/step - loss: 7.5766 - val_loss: 6.8633\n",
      "Epoch 49/50\n",
      "3/3 [==============================] - 0s 14ms/step - loss: 7.5470 - val_loss: 6.7906\n",
      "Epoch 50/50\n",
      "3/3 [==============================] - 0s 16ms/step - loss: 7.4974 - val_loss: 6.8580\n",
      "============== EVALUATION ==============\n"
     ]
    },
    {
     "name": "stderr",
     "output_type": "stream",
     "text": [
      "C:\\Users\\Baejs\\anaconda3\\envs\\bae\\lib\\site-packages\\keras\\src\\engine\\training.py:3000: UserWarning: You are saving your model as an HDF5 file via `model.save()`. This file format is considered legacy. We recommend using instead the native Keras format, e.g. `model.save('my_model.keras')`.\n",
      "  saving_api.save_model(\n",
      "  0%|                                                                                           | 0/10 [00:00<?, ?it/s]"
     ]
    },
    {
     "name": "stdout",
     "output_type": "stream",
     "text": [
      "10/10 [==============================] - 0s 1ms/step\n"
     ]
    },
    {
     "name": "stderr",
     "output_type": "stream",
     "text": [
      " 10%|████████▎                                                                          | 1/10 [00:00<00:01,  8.36it/s]"
     ]
    },
    {
     "name": "stdout",
     "output_type": "stream",
     "text": [
      "10/10 [==============================] - 0s 1ms/step\n"
     ]
    },
    {
     "name": "stderr",
     "output_type": "stream",
     "text": [
      " 20%|████████████████▌                                                                  | 2/10 [00:00<00:01,  6.51it/s]"
     ]
    },
    {
     "name": "stdout",
     "output_type": "stream",
     "text": [
      "10/10 [==============================] - 0s 1ms/step\n",
      "10/10 [==============================] - 0s 886us/step\n"
     ]
    },
    {
     "name": "stderr",
     "output_type": "stream",
     "text": [
      " 40%|█████████████████████████████████▏                                                 | 4/10 [00:00<00:00,  9.45it/s]"
     ]
    },
    {
     "name": "stdout",
     "output_type": "stream",
     "text": [
      "10/10 [==============================] - 0s 997us/step\n",
      "10/10 [==============================] - 0s 776us/step\n"
     ]
    },
    {
     "name": "stderr",
     "output_type": "stream",
     "text": [
      " 60%|█████████████████████████████████████████████████▊                                 | 6/10 [00:00<00:00, 11.35it/s]"
     ]
    },
    {
     "name": "stdout",
     "output_type": "stream",
     "text": [
      "10/10 [==============================] - 0s 886us/step\n",
      "10/10 [==============================] - 0s 886us/step\n"
     ]
    },
    {
     "name": "stderr",
     "output_type": "stream",
     "text": [
      " 80%|██████████████████████████████████████████████████████████████████▍                | 8/10 [00:00<00:00, 12.36it/s]"
     ]
    },
    {
     "name": "stdout",
     "output_type": "stream",
     "text": [
      "10/10 [==============================] - 0s 886us/step\n",
      "10/10 [==============================] - 0s 886us/step\n"
     ]
    },
    {
     "name": "stderr",
     "output_type": "stream",
     "text": [
      "100%|██████████████████████████████████████████████████████████████████████████████████| 10/10 [00:00<00:00, 11.33it/s]\n",
      "2023-08-26 01:00:16,423 - INFO - AUC : 0.8400000000000001\n",
      "2023-08-26 01:00:16,424 - INFO - target_dir : ../Sample_data\n",
      "2023-08-26 01:00:16,426 - INFO - train_file num : 5\n",
      "2023-08-26 01:00:16,426 - INFO - eval_file  num : 10\n"
     ]
    },
    {
     "name": "stdout",
     "output_type": "stream",
     "text": [
      "===========================\n",
      "\n",
      "===========================\n"
     ]
    },
    {
     "name": "stderr",
     "output_type": "stream",
     "text": [
      "generate train_dataset: 100%|████████████████████████████████████████████████████████████| 5/5 [00:00<00:00, 84.97it/s]\n",
      "2023-08-26 01:00:16,489 - INFO - save_pickle -> ./pickle_transfer_pretrain_v2/train_pump_id_06.pickle\n",
      "2023-08-26 01:00:16,493 - INFO - save_pickle -> ./pickle_transfer_pretrain_v2/eval_files_pump_id_06.pickle\n",
      "2023-08-26 01:00:16,495 - INFO - save_pickle -> ./pickle_transfer_pretrain_v2/eval_labels_pump_id_06.pickle\n",
      "2023-08-26 01:00:16,496 - INFO - save_pickle -> ./pickle_transfer_pretrain_v2/train_labels_pump_id_06.pickle\n"
     ]
    },
    {
     "name": "stdout",
     "output_type": "stream",
     "text": [
      "Epoch 1/50\n",
      "3/3 [==============================] - 1s 67ms/step - loss: 19.7035 - val_loss: 21.6452\n",
      "Epoch 2/50\n",
      "3/3 [==============================] - 0s 13ms/step - loss: 15.9016 - val_loss: 19.6402\n",
      "Epoch 3/50\n",
      "3/3 [==============================] - 0s 14ms/step - loss: 14.9964 - val_loss: 17.1258\n",
      "Epoch 4/50\n",
      "3/3 [==============================] - 0s 24ms/step - loss: 14.1743 - val_loss: 16.3507\n",
      "Epoch 5/50\n",
      "3/3 [==============================] - 0s 13ms/step - loss: 13.1461 - val_loss: 16.2312\n",
      "Epoch 6/50\n",
      "3/3 [==============================] - 0s 14ms/step - loss: 13.1132 - val_loss: 14.9671\n",
      "Epoch 7/50\n",
      "3/3 [==============================] - 0s 14ms/step - loss: 12.8584 - val_loss: 14.8451\n",
      "Epoch 8/50\n",
      "3/3 [==============================] - 0s 14ms/step - loss: 12.4383 - val_loss: 15.3298\n",
      "Epoch 9/50\n",
      "3/3 [==============================] - 0s 13ms/step - loss: 12.4584 - val_loss: 15.0945\n",
      "Epoch 10/50\n",
      "3/3 [==============================] - 0s 14ms/step - loss: 12.4230 - val_loss: 14.8589\n",
      "Epoch 11/50\n",
      "3/3 [==============================] - 0s 13ms/step - loss: 12.2646 - val_loss: 15.0226\n",
      "Epoch 12/50\n",
      "3/3 [==============================] - 0s 13ms/step - loss: 12.2126 - val_loss: 15.0487\n",
      "Epoch 13/50\n",
      "3/3 [==============================] - 0s 13ms/step - loss: 12.2095 - val_loss: 14.9439\n",
      "Epoch 14/50\n",
      "3/3 [==============================] - 0s 14ms/step - loss: 12.1698 - val_loss: 14.9210\n",
      "Epoch 15/50\n",
      "3/3 [==============================] - 0s 14ms/step - loss: 12.1327 - val_loss: 14.9150\n",
      "Epoch 16/50\n",
      "3/3 [==============================] - 0s 14ms/step - loss: 12.1189 - val_loss: 14.8858\n",
      "Epoch 17/50\n",
      "3/3 [==============================] - 0s 13ms/step - loss: 12.1185 - val_loss: 14.7781\n",
      "Epoch 18/50\n",
      "3/3 [==============================] - 0s 14ms/step - loss: 12.1093 - val_loss: 14.8216\n",
      "Epoch 19/50\n",
      "3/3 [==============================] - 0s 13ms/step - loss: 12.0997 - val_loss: 14.8144\n",
      "Epoch 20/50\n",
      "3/3 [==============================] - 0s 14ms/step - loss: 12.0961 - val_loss: 14.9121\n",
      "Epoch 21/50\n",
      "3/3 [==============================] - 0s 14ms/step - loss: 12.0912 - val_loss: 14.9569\n",
      "Epoch 22/50\n",
      "3/3 [==============================] - 0s 13ms/step - loss: 12.0875 - val_loss: 14.8679\n",
      "Epoch 23/50\n",
      "3/3 [==============================] - 0s 15ms/step - loss: 12.0878 - val_loss: 14.7967\n",
      "Epoch 24/50\n",
      "3/3 [==============================] - 0s 13ms/step - loss: 12.0868 - val_loss: 14.8302\n",
      "Epoch 25/50\n",
      "3/3 [==============================] - 0s 13ms/step - loss: 12.0850 - val_loss: 14.8282\n",
      "Epoch 26/50\n",
      "3/3 [==============================] - 0s 15ms/step - loss: 12.0848 - val_loss: 14.9036\n",
      "Epoch 27/50\n",
      "3/3 [==============================] - 0s 14ms/step - loss: 12.0830 - val_loss: 14.8755\n",
      "Epoch 28/50\n",
      "3/3 [==============================] - 0s 13ms/step - loss: 12.0849 - val_loss: 14.8491\n",
      "Epoch 29/50\n",
      "3/3 [==============================] - 0s 14ms/step - loss: 12.0830 - val_loss: 14.8814\n",
      "Epoch 30/50\n",
      "3/3 [==============================] - 0s 13ms/step - loss: 12.0813 - val_loss: 14.9140\n",
      "Epoch 31/50\n",
      "3/3 [==============================] - 0s 13ms/step - loss: 12.0825 - val_loss: 14.8666\n",
      "Epoch 32/50\n",
      "3/3 [==============================] - 0s 13ms/step - loss: 12.0825 - val_loss: 14.7445\n",
      "Epoch 33/50\n",
      "3/3 [==============================] - 0s 13ms/step - loss: 12.0806 - val_loss: 14.8701\n",
      "Epoch 34/50\n",
      "3/3 [==============================] - 0s 13ms/step - loss: 12.0814 - val_loss: 14.9684\n",
      "Epoch 35/50\n",
      "3/3 [==============================] - 0s 13ms/step - loss: 12.0811 - val_loss: 14.8928\n",
      "Epoch 36/50\n",
      "3/3 [==============================] - 0s 13ms/step - loss: 12.0825 - val_loss: 14.8365\n",
      "Epoch 37/50\n",
      "3/3 [==============================] - 0s 13ms/step - loss: 12.0819 - val_loss: 14.6906\n",
      "Epoch 38/50\n",
      "3/3 [==============================] - 0s 13ms/step - loss: 12.0822 - val_loss: 14.8844\n",
      "Epoch 39/50\n",
      "3/3 [==============================] - 0s 13ms/step - loss: 12.0876 - val_loss: 14.9012\n",
      "Epoch 40/50\n",
      "3/3 [==============================] - 0s 13ms/step - loss: 12.0843 - val_loss: 14.9697\n",
      "Epoch 41/50\n",
      "3/3 [==============================] - 0s 13ms/step - loss: 12.0852 - val_loss: 14.9851\n",
      "Epoch 42/50\n",
      "3/3 [==============================] - 0s 13ms/step - loss: 12.0812 - val_loss: 14.6983\n",
      "Epoch 43/50\n",
      "3/3 [==============================] - 0s 13ms/step - loss: 12.0866 - val_loss: 14.5687\n",
      "Epoch 44/50\n",
      "3/3 [==============================] - 0s 13ms/step - loss: 12.0859 - val_loss: 14.9346\n",
      "Epoch 45/50\n",
      "3/3 [==============================] - 0s 14ms/step - loss: 12.0871 - val_loss: 15.1419\n",
      "Epoch 46/50\n",
      "3/3 [==============================] - 0s 27ms/step - loss: 12.0871 - val_loss: 14.8456\n",
      "Epoch 47/50\n",
      "3/3 [==============================] - 0s 13ms/step - loss: 12.0875 - val_loss: 14.5609\n",
      "Epoch 48/50\n",
      "3/3 [==============================] - 0s 14ms/step - loss: 12.0883 - val_loss: 14.8206\n",
      "Epoch 49/50\n",
      "3/3 [==============================] - 0s 14ms/step - loss: 12.0813 - val_loss: 14.9440\n",
      "Epoch 50/50\n",
      "3/3 [==============================] - 0s 16ms/step - loss: 12.0853 - val_loss: 14.9310\n"
     ]
    },
    {
     "name": "stderr",
     "output_type": "stream",
     "text": [
      "C:\\Users\\Baejs\\anaconda3\\envs\\bae\\lib\\site-packages\\keras\\src\\engine\\training.py:3000: UserWarning: You are saving your model as an HDF5 file via `model.save()`. This file format is considered legacy. We recommend using instead the native Keras format, e.g. `model.save('my_model.keras')`.\n",
      "  saving_api.save_model(\n"
     ]
    },
    {
     "name": "stdout",
     "output_type": "stream",
     "text": [
      "============== EVALUATION ==============\n"
     ]
    },
    {
     "name": "stderr",
     "output_type": "stream",
     "text": [
      "  0%|                                                                                           | 0/10 [00:00<?, ?it/s]"
     ]
    },
    {
     "name": "stdout",
     "output_type": "stream",
     "text": [
      "10/10 [==============================] - 0s 1ms/step\n"
     ]
    },
    {
     "name": "stderr",
     "output_type": "stream",
     "text": [
      " 10%|████████▎                                                                          | 1/10 [00:00<00:01,  6.35it/s]"
     ]
    },
    {
     "name": "stdout",
     "output_type": "stream",
     "text": [
      "10/10 [==============================] - 0s 1ms/step\n",
      "10/10 [==============================] - 0s 886us/step\n"
     ]
    },
    {
     "name": "stderr",
     "output_type": "stream",
     "text": [
      " 30%|████████████████████████▉                                                          | 3/10 [00:00<00:00, 10.27it/s]"
     ]
    },
    {
     "name": "stdout",
     "output_type": "stream",
     "text": [
      "10/10 [==============================] - 0s 1ms/step\n",
      "10/10 [==============================] - 0s 886us/step\n"
     ]
    },
    {
     "name": "stderr",
     "output_type": "stream",
     "text": [
      " 50%|█████████████████████████████████████████▌                                         | 5/10 [00:00<00:00, 11.84it/s]"
     ]
    },
    {
     "name": "stdout",
     "output_type": "stream",
     "text": [
      "10/10 [==============================] - 0s 1ms/step\n",
      "10/10 [==============================] - 0s 997us/step\n"
     ]
    },
    {
     "name": "stderr",
     "output_type": "stream",
     "text": [
      " 70%|██████████████████████████████████████████████████████████                         | 7/10 [00:00<00:00, 12.44it/s]"
     ]
    },
    {
     "name": "stdout",
     "output_type": "stream",
     "text": [
      "10/10 [==============================] - 0s 1ms/step\n",
      "10/10 [==============================] - 0s 997us/step\n"
     ]
    },
    {
     "name": "stderr",
     "output_type": "stream",
     "text": [
      " 90%|██████████████████████████████████████████████████████████████████████████▋        | 9/10 [00:00<00:00, 12.59it/s]"
     ]
    },
    {
     "name": "stdout",
     "output_type": "stream",
     "text": [
      "10/10 [==============================] - 0s 1ms/step\n"
     ]
    },
    {
     "name": "stderr",
     "output_type": "stream",
     "text": [
      "100%|██████████████████████████████████████████████████████████████████████████████████| 10/10 [00:00<00:00, 12.00it/s]\n",
      "2023-08-26 01:00:20,106 - INFO - AUC : 0.44\n",
      "2023-08-26 01:00:20,106 - INFO - all results -> ./result_transfer_pretrain_v2/result_transfer_pretrain_v2.yaml\n"
     ]
    },
    {
     "name": "stdout",
     "output_type": "stream",
     "text": [
      "===========================\n",
      "===========================\n"
     ]
    }
   ],
   "source": [
    "########################################################################\n",
    "# import python-library\n",
    "########################################################################\n",
    "import pickle\n",
    "import os\n",
    "import sys\n",
    "import glob\n",
    "\n",
    "import numpy as np\n",
    "import librosa\n",
    "import librosa.core\n",
    "import librosa.feature\n",
    "import yaml\n",
    "import logging\n",
    "import keras\n",
    "\n",
    "from tqdm import tqdm\n",
    "from sklearn import metrics\n",
    "from keras.models import Model\n",
    "from keras.layers import Input, Dense\n",
    "########################################################################\n",
    "\n",
    "\n",
    "\n",
    "########################################################################\n",
    "# setup STD I/O\n",
    "########################################################################\n",
    "# 로깅을 설정하고 초기화하는 부분\n",
    "logging.basicConfig(level=logging.DEBUG, filename=\"transfer_pretrain_v2.log\")\n",
    "logger = logging.getLogger(' ')\n",
    "handler = logging.StreamHandler()\n",
    "formatter = logging.Formatter('%(asctime)s - %(levelname)s - %(message)s')\n",
    "handler.setFormatter(formatter)\n",
    "logger.addHandler(handler)\n",
    "########################################################################\n",
    "\n",
    "\n",
    "\n",
    "\n",
    "########################################################################\n",
    "# file I/O\n",
    "########################################################################\n",
    "#파일 입출력 관련 함수 선언 부분\n",
    "def save_pickle(filename, save_data):  \n",
    "    logger.info(\"save_pickle -> {}\".format(filename))\n",
    "    with open(filename, 'wb') as sf:\n",
    "        pickle.dump(save_data, sf)\n",
    "\n",
    "def load_pickle(filename):\n",
    "    logger.info(\"load_pickle <- {}\".format(filename))\n",
    "    with open(filename, 'rb') as lf:\n",
    "        load_data = pickle.load(lf)\n",
    "    return load_data\n",
    "\n",
    "def file_load(wav_name, mono=False):\n",
    "    try:\n",
    "        return librosa.load(wav_name, sr=None, mono=mono)\n",
    "    except:\n",
    "        logger.error(\"file_broken or not exists!! : {}\".format(wav_name))\n",
    "\n",
    "def demux_wav(wav_name, channel=0):\n",
    "    try:\n",
    "        multi_channel_data, sr = file_load(wav_name)\n",
    "        if multi_channel_data.ndim <= 1:\n",
    "            return sr, multi_channel_data\n",
    "        return sr, np.array(multi_channel_data)[channel, :]\n",
    "    except ValueError as msg:\n",
    "        logger.warning(f'{msg}')\n",
    "########################################################################\n",
    "\n",
    "\n",
    " \n",
    "\n",
    "\n",
    "########################################################################\n",
    "# feature extractor\n",
    "########################################################################\n",
    "#소리 파일 하나를 로그멜스펙트로그램 형태로 바꾸고 딥러닝 모델에 넣을 형태로 바꾸는 함수 \n",
    "def file_to_vector_array(file_name, n_mels=64, frames=5, n_fft=1024, hop_length=512, power=2.0):\n",
    "    dims = n_mels * frames\n",
    "    sr, y = demux_wav(file_name) \n",
    "    mel_spectrogram = librosa.feature.melspectrogram(y=y, sr=sr, n_fft=n_fft, hop_length=hop_length, n_mels=n_mels, power=power)\n",
    "    log_mel_spectrogram = 20.0 / power * np.log10(mel_spectrogram + sys.float_info.epsilon)\n",
    "    vectorarray_size = len(log_mel_spectrogram[0, :]) - frames + 1\n",
    "    if vectorarray_size < 1:\n",
    "        return np.empty((0, dims), float)\n",
    "    vectorarray = np.zeros((vectorarray_size, dims), float)\n",
    "    for t in range(frames):\n",
    "        vectorarray[:, n_mels * t: n_mels * (t + 1)] = log_mel_spectrogram[:, t: t + vectorarray_size].T\n",
    "    return vectorarray\n",
    "\n",
    "#소리 파일들의 이름명이 담긴 리스트를 입력하면 그것들을 하나의 데이터셋으로 합치는 함수\n",
    "def list_to_vector_array(file_list, msg=\"calc...\", n_mels=64, frames=5, n_fft=1024, hop_length=512, power=2.0):\n",
    "    dims = n_mels * frames\n",
    "    for idx in tqdm(range(len(file_list)), desc=msg):\n",
    "        vector_array = file_to_vector_array(file_list[idx], n_mels=n_mels, frames=frames, n_fft=n_fft, hop_length=hop_length, power=power)\n",
    "        if idx == 0:\n",
    "            dataset = np.zeros((vector_array.shape[0] * len(file_list), dims), float)          \n",
    "        dataset[vector_array.shape[0] * idx: vector_array.shape[0] * (idx + 1), :] = vector_array\n",
    "    return dataset\n",
    "\n",
    "\n",
    "# machine4종류와 id4종류 각각의 데이터셋을 만드는 함수. \n",
    "# eval데이터셋: abnormal파일들 + normal파일들(5대5비율), train데이터셋: eval에 사용한 normal파일을 제외한 나머지 normal파일 전부\n",
    "def dataset_generator(target_dir, machine_type, id_, normal_dir_name=\"normal\", abnormal_dir_name=\"abnormal\", ext=\"wav\"):\n",
    "    logger.info(\"target_dir : {}\".format(target_dir))\n",
    "    machine_id = f\"-6dB_{machine_type}\"\n",
    "    machine = f\"{machine_type}\"\n",
    "    id_ = f\"{id_}\"\n",
    "    machine_type_id_path = os.path.join(target_dir, machine_id, machine, id_)\n",
    "    \n",
    "    normal_files = sorted(glob.glob(os.path.abspath(\"{dir}/{normal_dir_name}/*.{ext}\".format(dir=machine_type_id_path, normal_dir_name=normal_dir_name, ext=ext))))\n",
    "    normal_labels = np.zeros(len(normal_files))\n",
    "    if len(normal_files) == 0:\n",
    "        logger.exception(\"no_wav_data!!\")\n",
    "        \n",
    "    abnormal_files = sorted(glob.glob(os.path.abspath(\"{dir}/{abnormal_dir_name}/*.{ext}\".format(dir=machine_type_id_path, abnormal_dir_name=abnormal_dir_name, ext=ext))))\n",
    "    abnormal_labels = np.ones(len(abnormal_files))\n",
    "    if len(abnormal_files) == 0:\n",
    "        logger.exception(\"no_wav_data!!\")\n",
    "        \n",
    "    train_files = normal_files[len(abnormal_files):]\n",
    "    train_labels = normal_labels[len(abnormal_files):]\n",
    "    eval_files = np.concatenate((normal_files[:len(abnormal_files)], abnormal_files), axis=0)\n",
    "    eval_labels = np.concatenate((normal_labels[:len(abnormal_files)], abnormal_labels), axis=0)\n",
    "    \n",
    "    logger.info(\"train_file num : {num}\".format(num=len(train_files)))\n",
    "    logger.info(\"eval_file  num : {num}\".format(num=len(eval_files)))\n",
    "\n",
    "    return train_files, train_labels, eval_files, eval_labels\n",
    "########################################################################\n",
    "\n",
    "\n",
    "\n",
    "########################################################################\n",
    "# keras model\n",
    "########################################################################\n",
    "#오토인코더 함수\n",
    "def keras_model(inputDim):\n",
    "    inputLayer = Input(shape=(inputDim,))\n",
    "    h = Dense(64, activation=\"relu\")(inputLayer)    \n",
    "    h = Dense(64, activation=\"relu\")(h)\n",
    "    h = Dense(8, activation=\"relu\")(h)\n",
    "    h = Dense(64, activation=\"relu\")(h)\n",
    "    h = Dense(64, activation=\"relu\")(h)\n",
    "    h = Dense(inputDim, activation=None)(h)\n",
    "    return Model(inputs=inputLayer, outputs=h)\n",
    "########################################################################\n",
    "\n",
    "\n",
    "\n",
    "\n",
    "########################################################################\n",
    "# main\n",
    "########################################################################\n",
    "# 메인 실행 부분\n",
    "if __name__ == \"__main__\":\n",
    "    with open(\"make_pretrain_v2.yaml\", encoding='utf-8') as stream:\n",
    "        pretrain_v2_param = yaml.safe_load(stream)\n",
    "    with open(\"transfer_pretrain_v2.yaml\", encoding='utf-8') as stream:\n",
    "        transfer_v2_param = yaml.safe_load(stream)\n",
    "\n",
    "    # pickle데이터, model데이터, result데이터가 저장될 파일과 폴더들 관련 변수 선언\n",
    "    os.makedirs(transfer_v2_param[\"pickle_directory\"], exist_ok=True)\n",
    "    os.makedirs(transfer_v2_param[\"model_directory\"], exist_ok=True)\n",
    "    os.makedirs(transfer_v2_param[\"result_directory\"], exist_ok=True)\n",
    "    model_directory = transfer_v2_param[\"model_directory\"]\n",
    "    base_directory = transfer_v2_param[\"base_directory\"]\n",
    "    result_file = \"{result}/{file_name}\".format(result=transfer_v2_param[\"result_directory\"], file_name=transfer_v2_param[\"result_file\"])\n",
    "    results = {}\n",
    "    machine_types = [\"fan\", \"valve\", \"slider\", \"pump\"]    \n",
    "    id_list =  [\"id_00\", \"id_02\", \"id_04\", \"id_06\"]   \n",
    "\n",
    "    \n",
    "    # 4종류의 machine와 4종류의 id를 각각 for문을 돔.\n",
    "    for machine_type in machine_types:\n",
    "        for id_ in id_list:\n",
    "            print(\"\\n===========================\")\n",
    "            train_pickle = \"{pickle}/train_{machine_type}_{id_}.pickle\".format(pickle=transfer_v2_param[\"pickle_directory\"], machine_type= machine_type, id_ = id_)\n",
    "            train_labels_pickle = \"{pickle}/train_labels_{machine_type}_{id_}.pickle\".format(pickle=transfer_v2_param[\"pickle_directory\"], machine_type= machine_type, id_ = id_)\n",
    "            eval_files_pickle = \"{pickle}/eval_files_{machine_type}_{id_}.pickle\".format(pickle=transfer_v2_param[\"pickle_directory\"], machine_type= machine_type, id_ = id_)\n",
    "            eval_labels_pickle = \"{pickle}/eval_labels_{machine_type}_{id_}.pickle\".format(pickle=transfer_v2_param[\"pickle_directory\"], machine_type= machine_type, id_ = id_)\n",
    "            \n",
    "            #데이터셋 생성, pickle에 저장돼있다면 그것을 사용\n",
    "            if os.path.exists(train_pickle) and os.path.exists(eval_files_pickle) and os.path.exists(eval_labels_pickle):\n",
    "                train_data = load_pickle(train_pickle)\n",
    "                eval_files = load_pickle(eval_files_pickle)\n",
    "                eval_labels = load_pickle(eval_labels_pickle)\n",
    "                train_labels = load_pickle(train_labels_pickle)\n",
    "            else:\n",
    "                train_files, train_labels, eval_files, eval_labels = dataset_generator(base_directory, machine_type, id_)\n",
    "                train_data = list_to_vector_array(train_files,\n",
    "                                                  msg=\"generate train_dataset\",\n",
    "                                                  n_mels=transfer_v2_param[\"feature\"][\"n_mels\"],\n",
    "                                                  frames=transfer_v2_param[\"feature\"][\"frames\"],\n",
    "                                                  n_fft=transfer_v2_param[\"feature\"][\"n_fft\"],\n",
    "                                                  hop_length=transfer_v2_param[\"feature\"][\"hop_length\"],\n",
    "                                                  power=transfer_v2_param[\"feature\"][\"power\"])\n",
    "                save_pickle(train_pickle, train_data)\n",
    "                save_pickle(eval_files_pickle, eval_files)\n",
    "                save_pickle(eval_labels_pickle, eval_labels)\n",
    "                save_pickle(train_labels_pickle, train_labels)\n",
    "\n",
    "            # 만약 machine이 fan이고 id가00이라면 fan_00을 제외한 fan_02~06으로 학습한 pretrain모델을 불러와서 학습시킴. 같은 기계타입, 다른 아이디로 학습된 모델\n",
    "            model = keras.models.load_model(pretrain_v2_param[\"model_directory\"] + \"/pretrain_except_{machine_type}_{id_}.h5\".format(machine_type= machine_type, id_ = id_))\n",
    "            model_file = \"{model}/transfer_{machine_type}_{machine_id}_to_general_5.h5\".format(model=model_directory,\n",
    "                                                                                      machine_type=machine_type,\n",
    "                                                                                      machine_id=id_)\n",
    "            # if not os.path.exists(model_file):\n",
    "            model.compile(**transfer_v2_param[\"fit\"][\"compile\"])\n",
    "            model.fit(train_data, train_data, epochs=transfer_v2_param[\"fit\"][\"epochs\"], batch_size=transfer_v2_param[\"fit\"][\"batch_size\"], shuffle=transfer_v2_param[\"fit\"][\"shuffle\"],validation_split=transfer_v2_param[\"fit\"][\"validation_split\"],verbose=transfer_v2_param[\"fit\"][\"verbose\"])\n",
    "            model.save(model_file)\n",
    "\n",
    "            print(\"============== EVALUATION ==============\")\n",
    "            y_pred = [0. for k in eval_labels]\n",
    "            y_true = eval_labels\n",
    "\n",
    "            evaluation_result_key = \"{machine_type}_{id_}_to_general_{machine_type}\".format(machine_type= machine_type, id_= id_)\n",
    "            evaluation_result = {}\n",
    "            for num, file_name in tqdm(enumerate(eval_files), total=len(eval_files)):\n",
    "                try:\n",
    "                    data = file_to_vector_array(file_name,\n",
    "                                                n_mels=transfer_v2_param[\"feature\"][\"n_mels\"],\n",
    "                                                frames=transfer_v2_param[\"feature\"][\"frames\"],\n",
    "                                                n_fft=transfer_v2_param[\"feature\"][\"n_fft\"],\n",
    "                                                hop_length=transfer_v2_param[\"feature\"][\"hop_length\"],\n",
    "                                                power=transfer_v2_param[\"feature\"][\"power\"])\n",
    "                    error = np.mean(np.square(data - model.predict(data)), axis=1)\n",
    "                    y_pred[num] = np.mean(error)\n",
    "                except:\n",
    "                    logger.warning(\"File broken!!: {}\".format(file_name))\n",
    "\n",
    "            # auc값을 저장함\n",
    "            score = metrics.roc_auc_score(y_true, y_pred)\n",
    "            logger.info(\"AUC : {}\".format(score))\n",
    "            evaluation_result[\"AUC\"] = float(score)\n",
    "            results[evaluation_result_key] = evaluation_result\n",
    "            print(\"===========================\")\n",
    "        \n",
    "        # 모든 학습이 완료됐을 때 auc 결과들을 yaml파일로 저장\n",
    "        logger.info(\"all results -> {}\".format(result_file))\n",
    "        with open(result_file, \"w\") as f:\n",
    "            f.write(yaml.dump(results, default_flow_style=False))       \n",
    "        print(\"===========================\")\n",
    "########################################################################"
   ]
  },
  {
   "cell_type": "code",
   "execution_count": null,
   "id": "b58896a7-1f6f-44fd-9e82-59df87087508",
   "metadata": {},
   "outputs": [],
   "source": []
  }
 ],
 "metadata": {
  "kernelspec": {
   "display_name": "Python 3 (ipykernel)",
   "language": "python",
   "name": "python3"
  },
  "language_info": {
   "codemirror_mode": {
    "name": "ipython",
    "version": 3
   },
   "file_extension": ".py",
   "mimetype": "text/x-python",
   "name": "python",
   "nbconvert_exporter": "python",
   "pygments_lexer": "ipython3",
   "version": "3.9.0"
  },
  "vscode": {
   "interpreter": {
    "hash": "557b26f2afb0034d2b9583f22e5a96d5c2fd0b947b12212a0c5ba344d367ad03"
   }
  }
 },
 "nbformat": 4,
 "nbformat_minor": 5
}
